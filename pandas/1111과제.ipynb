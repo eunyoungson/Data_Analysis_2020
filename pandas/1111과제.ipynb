{
 "metadata": {
  "language_info": {
   "codemirror_mode": {
    "name": "ipython",
    "version": 3
   },
   "file_extension": ".py",
   "mimetype": "text/x-python",
   "name": "python",
   "nbconvert_exporter": "python",
   "pygments_lexer": "ipython3",
   "version": "3.8.3-final"
  },
  "orig_nbformat": 2,
  "kernelspec": {
   "name": "Python 3.8.3 64-bit (conda)",
   "display_name": "Python 3.8.3 64-bit (conda)",
   "metadata": {
    "interpreter": {
     "hash": "b3ba2566441a7c06988d0923437866b63cedc61552a5af99d1f4fb67d367b25f"
    }
   }
  }
 },
 "nbformat": 4,
 "nbformat_minor": 2,
 "cells": [
  {
   "cell_type": "code",
   "execution_count": 1,
   "metadata": {},
   "outputs": [],
   "source": [
    "import numpy as np \n",
    "import pandas as pd "
   ]
  },
  {
   "source": [
    "2번"
   ],
   "cell_type": "markdown",
   "metadata": {}
  },
  {
   "cell_type": "code",
   "execution_count": 2,
   "metadata": {},
   "outputs": [
    {
     "output_type": "execute_result",
     "data": {
      "text/plain": [
       "   survived  pclass     sex   age  sibsp  parch     fare embarked  class  \\\n",
       "0         0       3    male  22.0      1      0   7.2500        S  Third   \n",
       "1         1       1  female  38.0      1      0  71.2833        C  First   \n",
       "2         1       3  female  26.0      0      0   7.9250        S  Third   \n",
       "3         1       1  female  35.0      1      0  53.1000        S  First   \n",
       "4         0       3    male  35.0      0      0   8.0500        S  Third   \n",
       "\n",
       "     who  adult_male deck  embark_town alive  alone  \n",
       "0    man        True  NaN  Southampton    no  False  \n",
       "1  woman       False    C    Cherbourg   yes  False  \n",
       "2  woman       False  NaN  Southampton   yes   True  \n",
       "3  woman       False    C  Southampton   yes  False  \n",
       "4    man        True  NaN  Southampton    no   True  "
      ],
      "text/html": "<div>\n<style scoped>\n    .dataframe tbody tr th:only-of-type {\n        vertical-align: middle;\n    }\n\n    .dataframe tbody tr th {\n        vertical-align: top;\n    }\n\n    .dataframe thead th {\n        text-align: right;\n    }\n</style>\n<table border=\"1\" class=\"dataframe\">\n  <thead>\n    <tr style=\"text-align: right;\">\n      <th></th>\n      <th>survived</th>\n      <th>pclass</th>\n      <th>sex</th>\n      <th>age</th>\n      <th>sibsp</th>\n      <th>parch</th>\n      <th>fare</th>\n      <th>embarked</th>\n      <th>class</th>\n      <th>who</th>\n      <th>adult_male</th>\n      <th>deck</th>\n      <th>embark_town</th>\n      <th>alive</th>\n      <th>alone</th>\n    </tr>\n  </thead>\n  <tbody>\n    <tr>\n      <th>0</th>\n      <td>0</td>\n      <td>3</td>\n      <td>male</td>\n      <td>22.0</td>\n      <td>1</td>\n      <td>0</td>\n      <td>7.2500</td>\n      <td>S</td>\n      <td>Third</td>\n      <td>man</td>\n      <td>True</td>\n      <td>NaN</td>\n      <td>Southampton</td>\n      <td>no</td>\n      <td>False</td>\n    </tr>\n    <tr>\n      <th>1</th>\n      <td>1</td>\n      <td>1</td>\n      <td>female</td>\n      <td>38.0</td>\n      <td>1</td>\n      <td>0</td>\n      <td>71.2833</td>\n      <td>C</td>\n      <td>First</td>\n      <td>woman</td>\n      <td>False</td>\n      <td>C</td>\n      <td>Cherbourg</td>\n      <td>yes</td>\n      <td>False</td>\n    </tr>\n    <tr>\n      <th>2</th>\n      <td>1</td>\n      <td>3</td>\n      <td>female</td>\n      <td>26.0</td>\n      <td>0</td>\n      <td>0</td>\n      <td>7.9250</td>\n      <td>S</td>\n      <td>Third</td>\n      <td>woman</td>\n      <td>False</td>\n      <td>NaN</td>\n      <td>Southampton</td>\n      <td>yes</td>\n      <td>True</td>\n    </tr>\n    <tr>\n      <th>3</th>\n      <td>1</td>\n      <td>1</td>\n      <td>female</td>\n      <td>35.0</td>\n      <td>1</td>\n      <td>0</td>\n      <td>53.1000</td>\n      <td>S</td>\n      <td>First</td>\n      <td>woman</td>\n      <td>False</td>\n      <td>C</td>\n      <td>Southampton</td>\n      <td>yes</td>\n      <td>False</td>\n    </tr>\n    <tr>\n      <th>4</th>\n      <td>0</td>\n      <td>3</td>\n      <td>male</td>\n      <td>35.0</td>\n      <td>0</td>\n      <td>0</td>\n      <td>8.0500</td>\n      <td>S</td>\n      <td>Third</td>\n      <td>man</td>\n      <td>True</td>\n      <td>NaN</td>\n      <td>Southampton</td>\n      <td>no</td>\n      <td>True</td>\n    </tr>\n  </tbody>\n</table>\n</div>"
     },
     "metadata": {},
     "execution_count": 2
    }
   ],
   "source": [
    "import seaborn as sns\n",
    "titanic = sns.load_dataset(\"titanic\")\n",
    "titanic.head()"
   ]
  },
  {
   "source": [
    "A"
   ],
   "cell_type": "markdown",
   "metadata": {}
  },
  {
   "cell_type": "code",
   "execution_count": 5,
   "metadata": {},
   "outputs": [
    {
     "output_type": "execute_result",
     "data": {
      "text/plain": [
       "   survived  pclass     sex   age  sibsp  parch     fare embarked   class  \\\n",
       "0         0       3    male  22.0      1      0   7.2500        S   Third   \n",
       "1         1       1  female  38.0      1      0  71.2833        C   First   \n",
       "2         1       3  female  26.0      0      0   7.9250        S   Third   \n",
       "3         1       1  female  35.0      1      0  53.1000        S   First   \n",
       "4         0       3    male  35.0      0      0   8.0500        S   Third   \n",
       "5         0       3    male   NaN      0      0   8.4583        Q   Third   \n",
       "6         0       1    male  54.0      0      0  51.8625        S   First   \n",
       "7         0       3    male   2.0      3      1  21.0750        S   Third   \n",
       "8         1       3  female  27.0      0      2  11.1333        S   Third   \n",
       "9         1       2  female  14.0      1      0  30.0708        C  Second   \n",
       "\n",
       "     who  adult_male deck  embark_town alive  alone category1  \n",
       "0    man        True  NaN  Southampton    no  False      male  \n",
       "1  woman       False    C    Cherbourg   yes  False    female  \n",
       "2  woman       False  NaN  Southampton   yes   True    female  \n",
       "3  woman       False    C  Southampton   yes  False    female  \n",
       "4    man        True  NaN  Southampton    no   True      male  \n",
       "5    man        True  NaN   Queenstown    no   True     child  \n",
       "6    man        True    E  Southampton    no   True      male  \n",
       "7  child       False  NaN  Southampton    no  False     child  \n",
       "8  woman       False  NaN  Southampton   yes  False    female  \n",
       "9  child       False  NaN    Cherbourg   yes  False     child  "
      ],
      "text/html": "<div>\n<style scoped>\n    .dataframe tbody tr th:only-of-type {\n        vertical-align: middle;\n    }\n\n    .dataframe tbody tr th {\n        vertical-align: top;\n    }\n\n    .dataframe thead th {\n        text-align: right;\n    }\n</style>\n<table border=\"1\" class=\"dataframe\">\n  <thead>\n    <tr style=\"text-align: right;\">\n      <th></th>\n      <th>survived</th>\n      <th>pclass</th>\n      <th>sex</th>\n      <th>age</th>\n      <th>sibsp</th>\n      <th>parch</th>\n      <th>fare</th>\n      <th>embarked</th>\n      <th>class</th>\n      <th>who</th>\n      <th>adult_male</th>\n      <th>deck</th>\n      <th>embark_town</th>\n      <th>alive</th>\n      <th>alone</th>\n      <th>category1</th>\n    </tr>\n  </thead>\n  <tbody>\n    <tr>\n      <th>0</th>\n      <td>0</td>\n      <td>3</td>\n      <td>male</td>\n      <td>22.0</td>\n      <td>1</td>\n      <td>0</td>\n      <td>7.2500</td>\n      <td>S</td>\n      <td>Third</td>\n      <td>man</td>\n      <td>True</td>\n      <td>NaN</td>\n      <td>Southampton</td>\n      <td>no</td>\n      <td>False</td>\n      <td>male</td>\n    </tr>\n    <tr>\n      <th>1</th>\n      <td>1</td>\n      <td>1</td>\n      <td>female</td>\n      <td>38.0</td>\n      <td>1</td>\n      <td>0</td>\n      <td>71.2833</td>\n      <td>C</td>\n      <td>First</td>\n      <td>woman</td>\n      <td>False</td>\n      <td>C</td>\n      <td>Cherbourg</td>\n      <td>yes</td>\n      <td>False</td>\n      <td>female</td>\n    </tr>\n    <tr>\n      <th>2</th>\n      <td>1</td>\n      <td>3</td>\n      <td>female</td>\n      <td>26.0</td>\n      <td>0</td>\n      <td>0</td>\n      <td>7.9250</td>\n      <td>S</td>\n      <td>Third</td>\n      <td>woman</td>\n      <td>False</td>\n      <td>NaN</td>\n      <td>Southampton</td>\n      <td>yes</td>\n      <td>True</td>\n      <td>female</td>\n    </tr>\n    <tr>\n      <th>3</th>\n      <td>1</td>\n      <td>1</td>\n      <td>female</td>\n      <td>35.0</td>\n      <td>1</td>\n      <td>0</td>\n      <td>53.1000</td>\n      <td>S</td>\n      <td>First</td>\n      <td>woman</td>\n      <td>False</td>\n      <td>C</td>\n      <td>Southampton</td>\n      <td>yes</td>\n      <td>False</td>\n      <td>female</td>\n    </tr>\n    <tr>\n      <th>4</th>\n      <td>0</td>\n      <td>3</td>\n      <td>male</td>\n      <td>35.0</td>\n      <td>0</td>\n      <td>0</td>\n      <td>8.0500</td>\n      <td>S</td>\n      <td>Third</td>\n      <td>man</td>\n      <td>True</td>\n      <td>NaN</td>\n      <td>Southampton</td>\n      <td>no</td>\n      <td>True</td>\n      <td>male</td>\n    </tr>\n    <tr>\n      <th>5</th>\n      <td>0</td>\n      <td>3</td>\n      <td>male</td>\n      <td>NaN</td>\n      <td>0</td>\n      <td>0</td>\n      <td>8.4583</td>\n      <td>Q</td>\n      <td>Third</td>\n      <td>man</td>\n      <td>True</td>\n      <td>NaN</td>\n      <td>Queenstown</td>\n      <td>no</td>\n      <td>True</td>\n      <td>child</td>\n    </tr>\n    <tr>\n      <th>6</th>\n      <td>0</td>\n      <td>1</td>\n      <td>male</td>\n      <td>54.0</td>\n      <td>0</td>\n      <td>0</td>\n      <td>51.8625</td>\n      <td>S</td>\n      <td>First</td>\n      <td>man</td>\n      <td>True</td>\n      <td>E</td>\n      <td>Southampton</td>\n      <td>no</td>\n      <td>True</td>\n      <td>male</td>\n    </tr>\n    <tr>\n      <th>7</th>\n      <td>0</td>\n      <td>3</td>\n      <td>male</td>\n      <td>2.0</td>\n      <td>3</td>\n      <td>1</td>\n      <td>21.0750</td>\n      <td>S</td>\n      <td>Third</td>\n      <td>child</td>\n      <td>False</td>\n      <td>NaN</td>\n      <td>Southampton</td>\n      <td>no</td>\n      <td>False</td>\n      <td>child</td>\n    </tr>\n    <tr>\n      <th>8</th>\n      <td>1</td>\n      <td>3</td>\n      <td>female</td>\n      <td>27.0</td>\n      <td>0</td>\n      <td>2</td>\n      <td>11.1333</td>\n      <td>S</td>\n      <td>Third</td>\n      <td>woman</td>\n      <td>False</td>\n      <td>NaN</td>\n      <td>Southampton</td>\n      <td>yes</td>\n      <td>False</td>\n      <td>female</td>\n    </tr>\n    <tr>\n      <th>9</th>\n      <td>1</td>\n      <td>2</td>\n      <td>female</td>\n      <td>14.0</td>\n      <td>1</td>\n      <td>0</td>\n      <td>30.0708</td>\n      <td>C</td>\n      <td>Second</td>\n      <td>child</td>\n      <td>False</td>\n      <td>NaN</td>\n      <td>Cherbourg</td>\n      <td>yes</td>\n      <td>False</td>\n      <td>child</td>\n    </tr>\n  </tbody>\n</table>\n</div>"
     },
     "metadata": {},
     "execution_count": 5
    }
   ],
   "source": [
    "titanic[\"category1\"] = titanic.apply(lambda r: r.sex if r.age >= 20 else \"child\", axis=1)\n",
    "titanic.head(10)"
   ]
  },
  {
   "source": [
    "B"
   ],
   "cell_type": "markdown",
   "metadata": {}
  },
  {
   "cell_type": "code",
   "execution_count": 10,
   "metadata": {},
   "outputs": [
    {
     "output_type": "execute_result",
     "data": {
      "text/plain": [
       "29.69929292929302"
      ]
     },
     "metadata": {},
     "execution_count": 10
    }
   ],
   "source": [
    "# 나이 평균\n",
    "titanic[\"age\"].mean()"
   ]
  },
  {
   "cell_type": "code",
   "execution_count": 7,
   "metadata": {},
   "outputs": [
    {
     "output_type": "execute_result",
     "data": {
      "text/plain": [
       "   survived  pclass     sex   age  sibsp  parch     fare embarked   class  \\\n",
       "0         0       3    male  22.0      1      0   7.2500        S   Third   \n",
       "1         1       1  female  38.0      1      0  71.2833        C   First   \n",
       "2         1       3  female  26.0      0      0   7.9250        S   Third   \n",
       "3         1       1  female  35.0      1      0  53.1000        S   First   \n",
       "4         0       3    male  35.0      0      0   8.0500        S   Third   \n",
       "5         0       3    male  29.7      0      0   8.4583        Q   Third   \n",
       "6         0       1    male  54.0      0      0  51.8625        S   First   \n",
       "7         0       3    male   2.0      3      1  21.0750        S   Third   \n",
       "8         1       3  female  27.0      0      2  11.1333        S   Third   \n",
       "9         1       2  female  14.0      1      0  30.0708        C  Second   \n",
       "\n",
       "     who  adult_male deck  embark_town alive  alone category1  \n",
       "0    man        True  NaN  Southampton    no  False      male  \n",
       "1  woman       False    C    Cherbourg   yes  False    female  \n",
       "2  woman       False  NaN  Southampton   yes   True    female  \n",
       "3  woman       False    C  Southampton   yes  False    female  \n",
       "4    man        True  NaN  Southampton    no   True      male  \n",
       "5    man        True  NaN   Queenstown    no   True     child  \n",
       "6    man        True    E  Southampton    no   True      male  \n",
       "7  child       False  NaN  Southampton    no  False     child  \n",
       "8  woman       False  NaN  Southampton   yes  False    female  \n",
       "9  child       False  NaN    Cherbourg   yes  False     child  "
      ],
      "text/html": "<div>\n<style scoped>\n    .dataframe tbody tr th:only-of-type {\n        vertical-align: middle;\n    }\n\n    .dataframe tbody tr th {\n        vertical-align: top;\n    }\n\n    .dataframe thead th {\n        text-align: right;\n    }\n</style>\n<table border=\"1\" class=\"dataframe\">\n  <thead>\n    <tr style=\"text-align: right;\">\n      <th></th>\n      <th>survived</th>\n      <th>pclass</th>\n      <th>sex</th>\n      <th>age</th>\n      <th>sibsp</th>\n      <th>parch</th>\n      <th>fare</th>\n      <th>embarked</th>\n      <th>class</th>\n      <th>who</th>\n      <th>adult_male</th>\n      <th>deck</th>\n      <th>embark_town</th>\n      <th>alive</th>\n      <th>alone</th>\n      <th>category1</th>\n    </tr>\n  </thead>\n  <tbody>\n    <tr>\n      <th>0</th>\n      <td>0</td>\n      <td>3</td>\n      <td>male</td>\n      <td>22.0</td>\n      <td>1</td>\n      <td>0</td>\n      <td>7.2500</td>\n      <td>S</td>\n      <td>Third</td>\n      <td>man</td>\n      <td>True</td>\n      <td>NaN</td>\n      <td>Southampton</td>\n      <td>no</td>\n      <td>False</td>\n      <td>male</td>\n    </tr>\n    <tr>\n      <th>1</th>\n      <td>1</td>\n      <td>1</td>\n      <td>female</td>\n      <td>38.0</td>\n      <td>1</td>\n      <td>0</td>\n      <td>71.2833</td>\n      <td>C</td>\n      <td>First</td>\n      <td>woman</td>\n      <td>False</td>\n      <td>C</td>\n      <td>Cherbourg</td>\n      <td>yes</td>\n      <td>False</td>\n      <td>female</td>\n    </tr>\n    <tr>\n      <th>2</th>\n      <td>1</td>\n      <td>3</td>\n      <td>female</td>\n      <td>26.0</td>\n      <td>0</td>\n      <td>0</td>\n      <td>7.9250</td>\n      <td>S</td>\n      <td>Third</td>\n      <td>woman</td>\n      <td>False</td>\n      <td>NaN</td>\n      <td>Southampton</td>\n      <td>yes</td>\n      <td>True</td>\n      <td>female</td>\n    </tr>\n    <tr>\n      <th>3</th>\n      <td>1</td>\n      <td>1</td>\n      <td>female</td>\n      <td>35.0</td>\n      <td>1</td>\n      <td>0</td>\n      <td>53.1000</td>\n      <td>S</td>\n      <td>First</td>\n      <td>woman</td>\n      <td>False</td>\n      <td>C</td>\n      <td>Southampton</td>\n      <td>yes</td>\n      <td>False</td>\n      <td>female</td>\n    </tr>\n    <tr>\n      <th>4</th>\n      <td>0</td>\n      <td>3</td>\n      <td>male</td>\n      <td>35.0</td>\n      <td>0</td>\n      <td>0</td>\n      <td>8.0500</td>\n      <td>S</td>\n      <td>Third</td>\n      <td>man</td>\n      <td>True</td>\n      <td>NaN</td>\n      <td>Southampton</td>\n      <td>no</td>\n      <td>True</td>\n      <td>male</td>\n    </tr>\n    <tr>\n      <th>5</th>\n      <td>0</td>\n      <td>3</td>\n      <td>male</td>\n      <td>29.7</td>\n      <td>0</td>\n      <td>0</td>\n      <td>8.4583</td>\n      <td>Q</td>\n      <td>Third</td>\n      <td>man</td>\n      <td>True</td>\n      <td>NaN</td>\n      <td>Queenstown</td>\n      <td>no</td>\n      <td>True</td>\n      <td>child</td>\n    </tr>\n    <tr>\n      <th>6</th>\n      <td>0</td>\n      <td>1</td>\n      <td>male</td>\n      <td>54.0</td>\n      <td>0</td>\n      <td>0</td>\n      <td>51.8625</td>\n      <td>S</td>\n      <td>First</td>\n      <td>man</td>\n      <td>True</td>\n      <td>E</td>\n      <td>Southampton</td>\n      <td>no</td>\n      <td>True</td>\n      <td>male</td>\n    </tr>\n    <tr>\n      <th>7</th>\n      <td>0</td>\n      <td>3</td>\n      <td>male</td>\n      <td>2.0</td>\n      <td>3</td>\n      <td>1</td>\n      <td>21.0750</td>\n      <td>S</td>\n      <td>Third</td>\n      <td>child</td>\n      <td>False</td>\n      <td>NaN</td>\n      <td>Southampton</td>\n      <td>no</td>\n      <td>False</td>\n      <td>child</td>\n    </tr>\n    <tr>\n      <th>8</th>\n      <td>1</td>\n      <td>3</td>\n      <td>female</td>\n      <td>27.0</td>\n      <td>0</td>\n      <td>2</td>\n      <td>11.1333</td>\n      <td>S</td>\n      <td>Third</td>\n      <td>woman</td>\n      <td>False</td>\n      <td>NaN</td>\n      <td>Southampton</td>\n      <td>yes</td>\n      <td>False</td>\n      <td>female</td>\n    </tr>\n    <tr>\n      <th>9</th>\n      <td>1</td>\n      <td>2</td>\n      <td>female</td>\n      <td>14.0</td>\n      <td>1</td>\n      <td>0</td>\n      <td>30.0708</td>\n      <td>C</td>\n      <td>Second</td>\n      <td>child</td>\n      <td>False</td>\n      <td>NaN</td>\n      <td>Cherbourg</td>\n      <td>yes</td>\n      <td>False</td>\n      <td>child</td>\n    </tr>\n  </tbody>\n</table>\n</div>"
     },
     "metadata": {},
     "execution_count": 7
    }
   ],
   "source": [
    "titanic[\"age\"] = titanic[\"age\"].fillna(titanic[\"age\"].mean()).round(2)\n",
    "titanic.head(10)"
   ]
  },
  {
   "source": [
    "C"
   ],
   "cell_type": "markdown",
   "metadata": {}
  },
  {
   "cell_type": "code",
   "execution_count": 55,
   "metadata": {},
   "outputs": [
    {
     "output_type": "execute_result",
     "data": {
      "text/plain": [
       "891"
      ]
     },
     "metadata": {},
     "execution_count": 55
    }
   ],
   "source": [
    "survived_count = titanic[\"survived\"].count()\n",
    "survived_count"
   ]
  },
  {
   "cell_type": "code",
   "execution_count": 33,
   "metadata": {},
   "outputs": [
    {
     "output_type": "execute_result",
     "data": {
      "text/plain": [
       "342"
      ]
     },
     "metadata": {},
     "execution_count": 33
    }
   ],
   "source": [
    "#alive_count = titanic['survived'].sum()\n",
    "#live_count"
   ]
  },
  {
   "cell_type": "code",
   "execution_count": 21,
   "metadata": {},
   "outputs": [],
   "source": [
    "#생존률\n",
    "#전체 살은 승객수 31= 891     \n",
    "#살은사람 생존수 33= 342\n",
    "\n"
   ]
  },
  {
   "cell_type": "code",
   "execution_count": 50,
   "metadata": {},
   "outputs": [
    {
     "output_type": "execute_result",
     "data": {
      "text/plain": [
       "              survived    pclass       age     sibsp     parch      fare  \\\n",
       "sex    alive                                                               \n",
       "female no     0.236842  0.236842  0.236842  0.236842  0.236842  0.236842   \n",
       "       yes    0.681287  0.681287  0.681287  0.681287  0.681287  0.681287   \n",
       "male   no     1.368421  1.368421  1.368421  1.368421  1.368421  1.368421   \n",
       "       yes    0.318713  0.318713  0.318713  0.318713  0.318713  0.318713   \n",
       "\n",
       "              embarked     class       who  adult_male      deck  embark_town  \\\n",
       "sex    alive                                                                    \n",
       "female no     0.236842  0.236842  0.236842    0.236842  0.017544     0.236842   \n",
       "       yes    0.675439  0.681287  0.681287    0.681287  0.266082     0.675439   \n",
       "male   no     1.368421  1.368421  1.368421    1.368421  0.178363     1.368421   \n",
       "       yes    0.318713  0.318713  0.318713    0.318713  0.131579     0.318713   \n",
       "\n",
       "                 alone  category1  total_people   r_alive  \n",
       "sex    alive                                               \n",
       "female no     0.236842   0.236842      0.236842  0.236842  \n",
       "       yes    0.681287   0.681287      0.681287  0.681287  \n",
       "male   no     1.368421   1.368421      1.368421  1.368421  \n",
       "       yes    0.318713   0.318713      0.318713  0.318713  "
      ],
      "text/html": "<div>\n<style scoped>\n    .dataframe tbody tr th:only-of-type {\n        vertical-align: middle;\n    }\n\n    .dataframe tbody tr th {\n        vertical-align: top;\n    }\n\n    .dataframe thead th {\n        text-align: right;\n    }\n</style>\n<table border=\"1\" class=\"dataframe\">\n  <thead>\n    <tr style=\"text-align: right;\">\n      <th></th>\n      <th></th>\n      <th>survived</th>\n      <th>pclass</th>\n      <th>age</th>\n      <th>sibsp</th>\n      <th>parch</th>\n      <th>fare</th>\n      <th>embarked</th>\n      <th>class</th>\n      <th>who</th>\n      <th>adult_male</th>\n      <th>deck</th>\n      <th>embark_town</th>\n      <th>alone</th>\n      <th>category1</th>\n      <th>total_people</th>\n      <th>r_alive</th>\n    </tr>\n    <tr>\n      <th>sex</th>\n      <th>alive</th>\n      <th></th>\n      <th></th>\n      <th></th>\n      <th></th>\n      <th></th>\n      <th></th>\n      <th></th>\n      <th></th>\n      <th></th>\n      <th></th>\n      <th></th>\n      <th></th>\n      <th></th>\n      <th></th>\n      <th></th>\n      <th></th>\n    </tr>\n  </thead>\n  <tbody>\n    <tr>\n      <th rowspan=\"2\" valign=\"top\">female</th>\n      <th>no</th>\n      <td>0.236842</td>\n      <td>0.236842</td>\n      <td>0.236842</td>\n      <td>0.236842</td>\n      <td>0.236842</td>\n      <td>0.236842</td>\n      <td>0.236842</td>\n      <td>0.236842</td>\n      <td>0.236842</td>\n      <td>0.236842</td>\n      <td>0.017544</td>\n      <td>0.236842</td>\n      <td>0.236842</td>\n      <td>0.236842</td>\n      <td>0.236842</td>\n      <td>0.236842</td>\n    </tr>\n    <tr>\n      <th>yes</th>\n      <td>0.681287</td>\n      <td>0.681287</td>\n      <td>0.681287</td>\n      <td>0.681287</td>\n      <td>0.681287</td>\n      <td>0.681287</td>\n      <td>0.675439</td>\n      <td>0.681287</td>\n      <td>0.681287</td>\n      <td>0.681287</td>\n      <td>0.266082</td>\n      <td>0.675439</td>\n      <td>0.681287</td>\n      <td>0.681287</td>\n      <td>0.681287</td>\n      <td>0.681287</td>\n    </tr>\n    <tr>\n      <th rowspan=\"2\" valign=\"top\">male</th>\n      <th>no</th>\n      <td>1.368421</td>\n      <td>1.368421</td>\n      <td>1.368421</td>\n      <td>1.368421</td>\n      <td>1.368421</td>\n      <td>1.368421</td>\n      <td>1.368421</td>\n      <td>1.368421</td>\n      <td>1.368421</td>\n      <td>1.368421</td>\n      <td>0.178363</td>\n      <td>1.368421</td>\n      <td>1.368421</td>\n      <td>1.368421</td>\n      <td>1.368421</td>\n      <td>1.368421</td>\n    </tr>\n    <tr>\n      <th>yes</th>\n      <td>0.318713</td>\n      <td>0.318713</td>\n      <td>0.318713</td>\n      <td>0.318713</td>\n      <td>0.318713</td>\n      <td>0.318713</td>\n      <td>0.318713</td>\n      <td>0.318713</td>\n      <td>0.318713</td>\n      <td>0.318713</td>\n      <td>0.131579</td>\n      <td>0.318713</td>\n      <td>0.318713</td>\n      <td>0.318713</td>\n      <td>0.318713</td>\n      <td>0.318713</td>\n    </tr>\n  </tbody>\n</table>\n</div>"
     },
     "metadata": {},
     "execution_count": 50
    }
   ],
   "source": [
    "#df = titanic.groupby([\"sex\", \"alive\",]).count()/alive_count\n",
    "#df"
   ]
  },
  {
   "cell_type": "code",
   "execution_count": 51,
   "metadata": {},
   "outputs": [
    {
     "output_type": "execute_result",
     "data": {
      "text/plain": [
       "              survived    pclass       age     sibsp     parch      fare  \\\n",
       "sex    alive                                                               \n",
       "female no     0.090909  0.090909  0.090909  0.090909  0.090909  0.090909   \n",
       "       yes    0.261504  0.261504  0.261504  0.261504  0.261504  0.261504   \n",
       "male   no     0.525253  0.525253  0.525253  0.525253  0.525253  0.525253   \n",
       "       yes    0.122334  0.122334  0.122334  0.122334  0.122334  0.122334   \n",
       "\n",
       "              embarked     class       who  adult_male      deck  embark_town  \\\n",
       "sex    alive                                                                    \n",
       "female no     0.090909  0.090909  0.090909    0.090909  0.006734     0.090909   \n",
       "       yes    0.259259  0.261504  0.261504    0.261504  0.102132     0.259259   \n",
       "male   no     0.525253  0.525253  0.525253    0.525253  0.068462     0.525253   \n",
       "       yes    0.122334  0.122334  0.122334    0.122334  0.050505     0.122334   \n",
       "\n",
       "                 alone  category1  total_people   r_alive  \n",
       "sex    alive                                               \n",
       "female no     0.090909   0.090909      0.090909  0.090909  \n",
       "       yes    0.261504   0.261504      0.261504  0.261504  \n",
       "male   no     0.525253   0.525253      0.525253  0.525253  \n",
       "       yes    0.122334   0.122334      0.122334  0.122334  "
      ],
      "text/html": "<div>\n<style scoped>\n    .dataframe tbody tr th:only-of-type {\n        vertical-align: middle;\n    }\n\n    .dataframe tbody tr th {\n        vertical-align: top;\n    }\n\n    .dataframe thead th {\n        text-align: right;\n    }\n</style>\n<table border=\"1\" class=\"dataframe\">\n  <thead>\n    <tr style=\"text-align: right;\">\n      <th></th>\n      <th></th>\n      <th>survived</th>\n      <th>pclass</th>\n      <th>age</th>\n      <th>sibsp</th>\n      <th>parch</th>\n      <th>fare</th>\n      <th>embarked</th>\n      <th>class</th>\n      <th>who</th>\n      <th>adult_male</th>\n      <th>deck</th>\n      <th>embark_town</th>\n      <th>alone</th>\n      <th>category1</th>\n      <th>total_people</th>\n      <th>r_alive</th>\n    </tr>\n    <tr>\n      <th>sex</th>\n      <th>alive</th>\n      <th></th>\n      <th></th>\n      <th></th>\n      <th></th>\n      <th></th>\n      <th></th>\n      <th></th>\n      <th></th>\n      <th></th>\n      <th></th>\n      <th></th>\n      <th></th>\n      <th></th>\n      <th></th>\n      <th></th>\n      <th></th>\n    </tr>\n  </thead>\n  <tbody>\n    <tr>\n      <th rowspan=\"2\" valign=\"top\">female</th>\n      <th>no</th>\n      <td>0.090909</td>\n      <td>0.090909</td>\n      <td>0.090909</td>\n      <td>0.090909</td>\n      <td>0.090909</td>\n      <td>0.090909</td>\n      <td>0.090909</td>\n      <td>0.090909</td>\n      <td>0.090909</td>\n      <td>0.090909</td>\n      <td>0.006734</td>\n      <td>0.090909</td>\n      <td>0.090909</td>\n      <td>0.090909</td>\n      <td>0.090909</td>\n      <td>0.090909</td>\n    </tr>\n    <tr>\n      <th>yes</th>\n      <td>0.261504</td>\n      <td>0.261504</td>\n      <td>0.261504</td>\n      <td>0.261504</td>\n      <td>0.261504</td>\n      <td>0.261504</td>\n      <td>0.259259</td>\n      <td>0.261504</td>\n      <td>0.261504</td>\n      <td>0.261504</td>\n      <td>0.102132</td>\n      <td>0.259259</td>\n      <td>0.261504</td>\n      <td>0.261504</td>\n      <td>0.261504</td>\n      <td>0.261504</td>\n    </tr>\n    <tr>\n      <th rowspan=\"2\" valign=\"top\">male</th>\n      <th>no</th>\n      <td>0.525253</td>\n      <td>0.525253</td>\n      <td>0.525253</td>\n      <td>0.525253</td>\n      <td>0.525253</td>\n      <td>0.525253</td>\n      <td>0.525253</td>\n      <td>0.525253</td>\n      <td>0.525253</td>\n      <td>0.525253</td>\n      <td>0.068462</td>\n      <td>0.525253</td>\n      <td>0.525253</td>\n      <td>0.525253</td>\n      <td>0.525253</td>\n      <td>0.525253</td>\n    </tr>\n    <tr>\n      <th>yes</th>\n      <td>0.122334</td>\n      <td>0.122334</td>\n      <td>0.122334</td>\n      <td>0.122334</td>\n      <td>0.122334</td>\n      <td>0.122334</td>\n      <td>0.122334</td>\n      <td>0.122334</td>\n      <td>0.122334</td>\n      <td>0.122334</td>\n      <td>0.050505</td>\n      <td>0.122334</td>\n      <td>0.122334</td>\n      <td>0.122334</td>\n      <td>0.122334</td>\n      <td>0.122334</td>\n    </tr>\n  </tbody>\n</table>\n</div>"
     },
     "metadata": {},
     "execution_count": 51
    }
   ],
   "source": [
    "#df1 = titanic.groupby([\"sex\", \"alive\"]).count()/survived_count\n",
    "#df1"
   ]
  },
  {
   "cell_type": "code",
   "execution_count": 56,
   "metadata": {},
   "outputs": [
    {
     "output_type": "execute_result",
     "data": {
      "text/plain": [
       "                           survived\n",
       "sex    class  embark_town          \n",
       "female First  Cherbourg    0.048260\n",
       "              Queenstown   0.001122\n",
       "              Southampton  0.053872\n",
       "       Second Cherbourg    0.007856\n",
       "              Queenstown   0.002245\n",
       "              Southampton  0.075196\n",
       "       Third  Cherbourg    0.025814\n",
       "              Queenstown   0.037037\n",
       "              Southampton  0.098765\n",
       "male   First  Cherbourg    0.047138\n",
       "              Queenstown   0.001122\n",
       "              Southampton  0.088664\n",
       "       Second Cherbourg    0.011223\n",
       "              Queenstown   0.001122\n",
       "              Southampton  0.108866\n",
       "       Third  Cherbourg    0.048260\n",
       "              Queenstown   0.043771\n",
       "              Southampton  0.297419"
      ],
      "text/html": "<div>\n<style scoped>\n    .dataframe tbody tr th:only-of-type {\n        vertical-align: middle;\n    }\n\n    .dataframe tbody tr th {\n        vertical-align: top;\n    }\n\n    .dataframe thead th {\n        text-align: right;\n    }\n</style>\n<table border=\"1\" class=\"dataframe\">\n  <thead>\n    <tr style=\"text-align: right;\">\n      <th></th>\n      <th></th>\n      <th></th>\n      <th>survived</th>\n    </tr>\n    <tr>\n      <th>sex</th>\n      <th>class</th>\n      <th>embark_town</th>\n      <th></th>\n    </tr>\n  </thead>\n  <tbody>\n    <tr>\n      <th rowspan=\"9\" valign=\"top\">female</th>\n      <th rowspan=\"3\" valign=\"top\">First</th>\n      <th>Cherbourg</th>\n      <td>0.048260</td>\n    </tr>\n    <tr>\n      <th>Queenstown</th>\n      <td>0.001122</td>\n    </tr>\n    <tr>\n      <th>Southampton</th>\n      <td>0.053872</td>\n    </tr>\n    <tr>\n      <th rowspan=\"3\" valign=\"top\">Second</th>\n      <th>Cherbourg</th>\n      <td>0.007856</td>\n    </tr>\n    <tr>\n      <th>Queenstown</th>\n      <td>0.002245</td>\n    </tr>\n    <tr>\n      <th>Southampton</th>\n      <td>0.075196</td>\n    </tr>\n    <tr>\n      <th rowspan=\"3\" valign=\"top\">Third</th>\n      <th>Cherbourg</th>\n      <td>0.025814</td>\n    </tr>\n    <tr>\n      <th>Queenstown</th>\n      <td>0.037037</td>\n    </tr>\n    <tr>\n      <th>Southampton</th>\n      <td>0.098765</td>\n    </tr>\n    <tr>\n      <th rowspan=\"9\" valign=\"top\">male</th>\n      <th rowspan=\"3\" valign=\"top\">First</th>\n      <th>Cherbourg</th>\n      <td>0.047138</td>\n    </tr>\n    <tr>\n      <th>Queenstown</th>\n      <td>0.001122</td>\n    </tr>\n    <tr>\n      <th>Southampton</th>\n      <td>0.088664</td>\n    </tr>\n    <tr>\n      <th rowspan=\"3\" valign=\"top\">Second</th>\n      <th>Cherbourg</th>\n      <td>0.011223</td>\n    </tr>\n    <tr>\n      <th>Queenstown</th>\n      <td>0.001122</td>\n    </tr>\n    <tr>\n      <th>Southampton</th>\n      <td>0.108866</td>\n    </tr>\n    <tr>\n      <th rowspan=\"3\" valign=\"top\">Third</th>\n      <th>Cherbourg</th>\n      <td>0.048260</td>\n    </tr>\n    <tr>\n      <th>Queenstown</th>\n      <td>0.043771</td>\n    </tr>\n    <tr>\n      <th>Southampton</th>\n      <td>0.297419</td>\n    </tr>\n  </tbody>\n</table>\n</div>"
     },
     "metadata": {},
     "execution_count": 56
    }
   ],
   "source": [
    "df2 = titanic.groupby([\"sex\", \"class\",\"embark_town\"])[[\"survived\"]].count()/survived_count\n",
    "df2"
   ]
  },
  {
   "cell_type": "code",
   "execution_count": 41,
   "metadata": {},
   "outputs": [
    {
     "output_type": "execute_result",
     "data": {
      "text/plain": [
       "              alive\n",
       "sex    alive       \n",
       "female no        81\n",
       "       yes      233\n",
       "male   no       468\n",
       "       yes      109"
      ],
      "text/html": "<div>\n<style scoped>\n    .dataframe tbody tr th:only-of-type {\n        vertical-align: middle;\n    }\n\n    .dataframe tbody tr th {\n        vertical-align: top;\n    }\n\n    .dataframe thead th {\n        text-align: right;\n    }\n</style>\n<table border=\"1\" class=\"dataframe\">\n  <thead>\n    <tr style=\"text-align: right;\">\n      <th></th>\n      <th></th>\n      <th>alive</th>\n    </tr>\n    <tr>\n      <th>sex</th>\n      <th>alive</th>\n      <th></th>\n    </tr>\n  </thead>\n  <tbody>\n    <tr>\n      <th rowspan=\"2\" valign=\"top\">female</th>\n      <th>no</th>\n      <td>81</td>\n    </tr>\n    <tr>\n      <th>yes</th>\n      <td>233</td>\n    </tr>\n    <tr>\n      <th rowspan=\"2\" valign=\"top\">male</th>\n      <th>no</th>\n      <td>468</td>\n    </tr>\n    <tr>\n      <th>yes</th>\n      <td>109</td>\n    </tr>\n  </tbody>\n</table>\n</div>"
     },
     "metadata": {},
     "execution_count": 41
    }
   ],
   "source": [
    "#df_sex= titanic.groupby([\"sex\",\"alive\"])[[\"alive\"]].count()\n",
    "#df_sex"
   ]
  },
  {
   "cell_type": "code",
   "execution_count": 45,
   "metadata": {},
   "outputs": [
    {
     "output_type": "execute_result",
     "data": {
      "text/plain": [
       "sex     alive\n",
       "female  no        81\n",
       "        yes      233\n",
       "male    no       468\n",
       "        yes      109\n",
       "dtype: int64"
      ]
     },
     "metadata": {},
     "execution_count": 45
    }
   ],
   "source": [
    "#titanic.groupby([\"sex\", \"alive\"]).size()"
   ]
  },
  {
   "cell_type": "code",
   "execution_count": 59,
   "metadata": {},
   "outputs": [
    {
     "output_type": "execute_result",
     "data": {
      "text/plain": [
       "                 survived\n",
       "sex    survived          \n",
       "female 0               81\n",
       "       1              233\n",
       "male   0              468\n",
       "       1              109"
      ],
      "text/html": "<div>\n<style scoped>\n    .dataframe tbody tr th:only-of-type {\n        vertical-align: middle;\n    }\n\n    .dataframe tbody tr th {\n        vertical-align: top;\n    }\n\n    .dataframe thead th {\n        text-align: right;\n    }\n</style>\n<table border=\"1\" class=\"dataframe\">\n  <thead>\n    <tr style=\"text-align: right;\">\n      <th></th>\n      <th></th>\n      <th>survived</th>\n    </tr>\n    <tr>\n      <th>sex</th>\n      <th>survived</th>\n      <th></th>\n    </tr>\n  </thead>\n  <tbody>\n    <tr>\n      <th rowspan=\"2\" valign=\"top\">female</th>\n      <th>0</th>\n      <td>81</td>\n    </tr>\n    <tr>\n      <th>1</th>\n      <td>233</td>\n    </tr>\n    <tr>\n      <th rowspan=\"2\" valign=\"top\">male</th>\n      <th>0</th>\n      <td>468</td>\n    </tr>\n    <tr>\n      <th>1</th>\n      <td>109</td>\n    </tr>\n  </tbody>\n</table>\n</div>"
     },
     "metadata": {},
     "execution_count": 59
    }
   ],
   "source": [
    "df_sex1= titanic.groupby([\"sex\",\"survived\"])[[\"survived\"]].count()\n",
    "df_sex1"
   ]
  },
  {
   "cell_type": "code",
   "execution_count": 60,
   "metadata": {},
   "outputs": [],
   "source": [
    "#성별 생존률 \n",
    "#female_alive = 81/alive_count\n",
    "#male_alive = 109 / alive_count"
   ]
  },
  {
   "cell_type": "code",
   "execution_count": 42,
   "metadata": {},
   "outputs": [
    {
     "output_type": "execute_result",
     "data": {
      "text/plain": [
       "              alive\n",
       "class  alive       \n",
       "First  no        80\n",
       "       yes      136\n",
       "Second no        97\n",
       "       yes       87\n",
       "Third  no       372\n",
       "       yes      119"
      ],
      "text/html": "<div>\n<style scoped>\n    .dataframe tbody tr th:only-of-type {\n        vertical-align: middle;\n    }\n\n    .dataframe tbody tr th {\n        vertical-align: top;\n    }\n\n    .dataframe thead th {\n        text-align: right;\n    }\n</style>\n<table border=\"1\" class=\"dataframe\">\n  <thead>\n    <tr style=\"text-align: right;\">\n      <th></th>\n      <th></th>\n      <th>alive</th>\n    </tr>\n    <tr>\n      <th>class</th>\n      <th>alive</th>\n      <th></th>\n    </tr>\n  </thead>\n  <tbody>\n    <tr>\n      <th rowspan=\"2\" valign=\"top\">First</th>\n      <th>no</th>\n      <td>80</td>\n    </tr>\n    <tr>\n      <th>yes</th>\n      <td>136</td>\n    </tr>\n    <tr>\n      <th rowspan=\"2\" valign=\"top\">Second</th>\n      <th>no</th>\n      <td>97</td>\n    </tr>\n    <tr>\n      <th>yes</th>\n      <td>87</td>\n    </tr>\n    <tr>\n      <th rowspan=\"2\" valign=\"top\">Third</th>\n      <th>no</th>\n      <td>372</td>\n    </tr>\n    <tr>\n      <th>yes</th>\n      <td>119</td>\n    </tr>\n  </tbody>\n</table>\n</div>"
     },
     "metadata": {},
     "execution_count": 42
    }
   ],
   "source": [
    "df_class= titanic.groupby([\"class\",\"alive\"])[[\"alive\"]].count()\n",
    "df_class"
   ]
  },
  {
   "cell_type": "code",
   "execution_count": 44,
   "metadata": {},
   "outputs": [
    {
     "output_type": "execute_result",
     "data": {
      "text/plain": [
       "                   alive\n",
       "embark_town alive       \n",
       "Cherbourg   no        75\n",
       "            yes       93\n",
       "Queenstown  no        47\n",
       "            yes       30\n",
       "Southampton no       427\n",
       "            yes      217"
      ],
      "text/html": "<div>\n<style scoped>\n    .dataframe tbody tr th:only-of-type {\n        vertical-align: middle;\n    }\n\n    .dataframe tbody tr th {\n        vertical-align: top;\n    }\n\n    .dataframe thead th {\n        text-align: right;\n    }\n</style>\n<table border=\"1\" class=\"dataframe\">\n  <thead>\n    <tr style=\"text-align: right;\">\n      <th></th>\n      <th></th>\n      <th>alive</th>\n    </tr>\n    <tr>\n      <th>embark_town</th>\n      <th>alive</th>\n      <th></th>\n    </tr>\n  </thead>\n  <tbody>\n    <tr>\n      <th rowspan=\"2\" valign=\"top\">Cherbourg</th>\n      <th>no</th>\n      <td>75</td>\n    </tr>\n    <tr>\n      <th>yes</th>\n      <td>93</td>\n    </tr>\n    <tr>\n      <th rowspan=\"2\" valign=\"top\">Queenstown</th>\n      <th>no</th>\n      <td>47</td>\n    </tr>\n    <tr>\n      <th>yes</th>\n      <td>30</td>\n    </tr>\n    <tr>\n      <th rowspan=\"2\" valign=\"top\">Southampton</th>\n      <th>no</th>\n      <td>427</td>\n    </tr>\n    <tr>\n      <th>yes</th>\n      <td>217</td>\n    </tr>\n  </tbody>\n</table>\n</div>"
     },
     "metadata": {},
     "execution_count": 44
    }
   ],
   "source": [
    "df_town= titanic.groupby([\"embark_town\",\"alive\"])[[\"alive\"]].count()\n",
    "df_town"
   ]
  },
  {
   "cell_type": "code",
   "execution_count": 28,
   "metadata": {},
   "outputs": [
    {
     "output_type": "execute_result",
     "data": {
      "text/plain": [
       "class   First  Second  Third  All\n",
       "sex                              \n",
       "female     92      76    144  312\n",
       "male      122     108    347  577\n",
       "All       214     184    491  889"
      ],
      "text/html": "<div>\n<style scoped>\n    .dataframe tbody tr th:only-of-type {\n        vertical-align: middle;\n    }\n\n    .dataframe tbody tr th {\n        vertical-align: top;\n    }\n\n    .dataframe thead th {\n        text-align: right;\n    }\n</style>\n<table border=\"1\" class=\"dataframe\">\n  <thead>\n    <tr style=\"text-align: right;\">\n      <th>class</th>\n      <th>First</th>\n      <th>Second</th>\n      <th>Third</th>\n      <th>All</th>\n    </tr>\n    <tr>\n      <th>sex</th>\n      <th></th>\n      <th></th>\n      <th></th>\n      <th></th>\n    </tr>\n  </thead>\n  <tbody>\n    <tr>\n      <th>female</th>\n      <td>92</td>\n      <td>76</td>\n      <td>144</td>\n      <td>312</td>\n    </tr>\n    <tr>\n      <th>male</th>\n      <td>122</td>\n      <td>108</td>\n      <td>347</td>\n      <td>577</td>\n    </tr>\n    <tr>\n      <th>All</th>\n      <td>214</td>\n      <td>184</td>\n      <td>491</td>\n      <td>889</td>\n    </tr>\n  </tbody>\n</table>\n</div>"
     },
     "metadata": {},
     "execution_count": 28
    }
   ],
   "source": [
    "titanic.pivot_table(\"embark_town\", \"sex\", \"class\", aggfunc=\"count\", margins=True)"
   ]
  },
  {
   "cell_type": "code",
   "execution_count": null,
   "metadata": {},
   "outputs": [],
   "source": [
    "#성별 생존률 여자 312/전체 342명 ,남자 577\n",
    "#선실별\n",
    "#출발지별"
   ]
  }
 ]
}