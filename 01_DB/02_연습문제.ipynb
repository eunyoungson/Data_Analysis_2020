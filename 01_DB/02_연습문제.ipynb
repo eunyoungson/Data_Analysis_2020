{
 "metadata": {
  "language_info": {
   "codemirror_mode": {
    "name": "ipython",
    "version": 3
   },
   "file_extension": ".py",
   "mimetype": "text/x-python",
   "name": "python",
   "nbconvert_exporter": "python",
   "pygments_lexer": "ipython3",
   "version": "3.8.3-final"
  },
  "orig_nbformat": 2,
  "kernelspec": {
   "name": "Python 3.8.3 64-bit (conda)",
   "display_name": "Python 3.8.3 64-bit (conda)",
   "metadata": {
    "interpreter": {
     "hash": "b3ba2566441a7c06988d0923437866b63cedc61552a5af99d1f4fb67d367b25f"
    }
   }
  }
 },
 "nbformat": 4,
 "nbformat_minor": 2,
 "cells": [
  {
   "cell_type": "code",
   "execution_count": 1,
   "metadata": {},
   "outputs": [],
   "source": [
    "#연습2) \n",
    "# table singers  id ,group_name , s_count , debut_date ,management \n",
    "# table song  song_id, song_name, group_id, r_date, composer, lyrics,\n",
    "              # FOREIGN KEY (group_id) REFERENCES singers(id)"
   ]
  },
  {
   "cell_type": "code",
   "execution_count": 5,
   "metadata": {},
   "outputs": [],
   "source": [
    "import sqlite3\n",
    "conn =sqlite3.connect('./test.db')\n",
    "cur = conn.cursor() \n",
    "sql = \"insert into singers (group_name,s_count,debut_date,management) values('블랙핑크',4,20160301,'YG 엔터테인먼트');\"\n",
    "cur.execute(sql)\n",
    "conn.commit()"
   ]
  },
  {
   "cell_type": "code",
   "execution_count": 15,
   "metadata": {},
   "outputs": [],
   "source": [
    "cur = conn.cursor() \n",
    "singers = [('GOD',5,'1999-04-01','모름'),('BTS',7,'2013-01-01','빅히트 엔터테인먼트')]\n",
    "sql = \"insert into singers (group_name,s_count,debut_date,management) values(?,?,?,?);\"\n",
    "for singer in singers:\n",
    "    cur.execute(sql, singer)\n",
    "\n",
    "conn.commit()"
   ]
  },
  {
   "cell_type": "code",
   "execution_count": 13,
   "metadata": {},
   "outputs": [],
   "source": [
    "cur = conn.cursor() \n",
    "cur.execute('DELETE FROM singers WHERE id >=4')\n",
    "conn.commit()"
   ]
  },
  {
   "cell_type": "code",
   "execution_count": 17,
   "metadata": {},
   "outputs": [],
   "source": [
    "cur = conn.cursor() \n",
    "songs = [('봄날',15,'2017-07-01','방시혁','보고 싶다. 이렇게 말하니까 더'),('거짓말',14,'2013-01-01','박진영','난 니가 싫어 졌어 우리 이만 헤어져'),('화이트',3,'2000-03-01','주태영','너도 오늘만은 기억하고 있겠지'),('영원한 사랑',3,'1999-07-01','주태영','이젠 내 사랑이 되어줘'),('사랑은 선율을 타고',2,'2008-07-01','유영석','눈을 뜨면 달콤한 세상'),('뚜두뚜두',1,'2018-07-01','테디','착한 얼굴에 그렇지 못한 태도'),('how you like that',1,'2020-09-01','테디','보란 듯이 무너졌어'),('거리에서',4,'2015-02-08','윤종신','네가 없는 거리에는 내가 할일이 없어서'),('다행이다',5,'2013-07-01','윤종신','그대를 만나고'),('내 여자니까',6,'2007-10-01','싸이','나를 동생으로만')]\n",
    "sql = \"insert into song (song_name,group_id,r_date,composer,lyrics) values(?,?,?,?,?);\"\n",
    "for song in songs:\n",
    "    cur.execute(sql, song)\n",
    "\n",
    "conn.commit()"
   ]
  },
  {
   "cell_type": "code",
   "execution_count": 18,
   "metadata": {},
   "outputs": [
    {
     "output_type": "stream",
     "name": "stdout",
     "text": [
      "('BTS', '7', '2013-01-01', '봄날', '2017-07-01')\n('GOD', '5', '1999-04-01', '거짓말', '2013-01-01')\n('핑클', '4', 19980101, '화이트', '2000-03-01')\n('핑클', '4', 19980101, '영원한 사랑', '1999-07-01')\n('소녀시대', '8', 20070101, '사랑은 선율을 타고', '2008-07-01')\n('블랙핑크', '4', None, '뚜두뚜두', '2018-07-01')\n('블랙핑크', '4', None, 'how you like that', '2020-09-01')\n"
     ]
    }
   ],
   "source": [
    "cur = conn.cursor() \n",
    "cur.execute('SELECT l.group_name,l.s_count,l.debut_date,r.song_name,r.r_date FROM singers as l join song as r on l.id = r.group_id ')\n",
    "rows = cur.fetchall()\n",
    "for row in rows:\n",
    "    print(row)"
   ]
  },
  {
   "cell_type": "code",
   "execution_count": 19,
   "metadata": {},
   "outputs": [],
   "source": [
    "#연습3"
   ]
  },
  {
   "cell_type": "code",
   "execution_count": 20,
   "metadata": {},
   "outputs": [],
   "source": [
    "cur = conn.cursor() \n",
    "users = [('admin', 'A6xnQhbz4Vx2HuGl4lXwZ5U2I8iziLRFnhP5eNfIRvQ=', '관리자', '010-2345-6789', 'admin@hoseo.com'),('bj', 'A6xnQhbz4Vx2HuGl4lXwZ5U2I8iziLRFnhP5eNfIRvQ=', '브랜든조', '010-9876-5432', 'eskim@hoseo.com'),('dhlee', 'A6xnQhbz4Vx2HuGl4lXwZ5U2I8iziLRFnhP5eNfIRvQ=', '이동화', '010-3456-7890', 'wjlee@hoseo.com'),('emrye', 'A6xnQhbz4Vx2HuGl4lXwZ5U2I8iziLRFnhP5eNfIRvQ=', '유은미', '010-2323-7878', 'djy@korea.com'),('mjkim', 'A6xnQhbz4Vx2HuGl4lXwZ5U2I8iziLRFnhP5eNfIRvQ=', '김미정', '010-9898-4567', 'gdhong@korea.com')]\n",
    "sql = \"insert into users (uid, pwd, uname, tel, email) values(?,?,?,?,?);\"\n",
    "for user in users:\n",
    "    cur.execute(sql, user)\n",
    "\n",
    "conn.commit()"
   ]
  },
  {
   "cell_type": "code",
   "execution_count": 26,
   "metadata": {},
   "outputs": [
    {
     "output_type": "stream",
     "name": "stdout",
     "text": [
      "성공\n"
     ]
    }
   ],
   "source": [
    "name = input('이름을 입력하세요')\n",
    "password = input('비밀번호를 입력하세요')\n",
    "\n",
    "import sqlite3\n",
    "conn =sqlite3.connect('./test.db')\n",
    "\n",
    "cur = conn.cursor() \n",
    "sql = 'select * from users where uname like ?'\n",
    "cur.execute(sql, (name,))\n",
    "row = cur.fetchone()\n",
    "\n",
    "if name == row[2]  and password == row[1]  :\n",
    "    print(\"성공\") \n",
    "else :\n",
    "    print(\"실패\") "
   ]
  },
  {
   "cell_type": "code",
   "execution_count": null,
   "metadata": {},
   "outputs": [],
   "source": []
  }
 ]
}