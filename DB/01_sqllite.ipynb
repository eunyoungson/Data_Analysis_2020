{
 "metadata": {
  "language_info": {
   "codemirror_mode": {
    "name": "ipython",
    "version": 3
   },
   "file_extension": ".py",
   "mimetype": "text/x-python",
   "name": "python",
   "nbconvert_exporter": "python",
   "pygments_lexer": "ipython3",
   "version": "3.8.3-final"
  },
  "orig_nbformat": 2,
  "kernelspec": {
   "name": "Python 3.8.3 64-bit (conda)",
   "display_name": "Python 3.8.3 64-bit (conda)",
   "metadata": {
    "interpreter": {
     "hash": "b3ba2566441a7c06988d0923437866b63cedc61552a5af99d1f4fb67d367b25f"
    }
   }
  }
 },
 "nbformat": 4,
 "nbformat_minor": 2,
 "cells": [
  {
   "source": [
    "#SQLite3 활용"
   ],
   "cell_type": "markdown",
   "metadata": {}
  },
  {
   "cell_type": "code",
   "execution_count": null,
   "metadata": {},
   "outputs": [],
   "source": [
    "import sqlite3\n",
    "conn =sqlite3.connect('./test.db')\n",
    "cur =conn.cursor()\n",
    "cur.execute('select * from test;')\n",
    "rows = cur.fetchall()\n",
    "for row in rows:\n",
    "    print(row)\n",
    "conn.close()"
   ]
  },
  {
   "cell_type": "code",
   "execution_count": null,
   "metadata": {},
   "outputs": [],
   "source": [
    "conn = sqlite3.connect('./test.db')\n",
    "with conn: \n",
    "    cur = conn.cursor()     \n",
    "    cur.execute('SELECT * FROM test;')     \n",
    "    rows = cur.fetchall()     \n",
    "    for row in rows:         \n",
    "        print(row) "
   ]
  },
  {
   "cell_type": "code",
   "execution_count": null,
   "metadata": {},
   "outputs": [],
   "source": [
    "conn = sqlite3.connect('./test.db') \n",
    "cur = conn.cursor() "
   ]
  },
  {
   "source": [
    "테이블 구조 변경"
   ],
   "cell_type": "markdown",
   "metadata": {}
  },
  {
   "cell_type": "code",
   "execution_count": null,
   "metadata": {},
   "outputs": [],
   "source": [
    "sql ='alter table test add column age integer;'\n",
    "cur.execute(sql)"
   ]
  },
  {
   "cell_type": "code",
   "execution_count": null,
   "metadata": {},
   "outputs": [],
   "source": [
    "#변경사항 저장\n",
    "conn.commit()"
   ]
  },
  {
   "source": [
    "데이터 추가"
   ],
   "cell_type": "markdown",
   "metadata": {}
  },
  {
   "cell_type": "code",
   "execution_count": null,
   "metadata": {},
   "outputs": [],
   "source": [
    "cur = conn.cursor() \n",
    "sql = \"insert into test (name, age) values('장보고',1000);\"\n",
    "cur.execute(sql)\n",
    "conn.commit()"
   ]
  },
  {
   "cell_type": "code",
   "execution_count": null,
   "metadata": {},
   "outputs": [],
   "source": [
    "#파라메터는 튜플로 전달\n",
    "writers = [('이우정',40),('김은숙',30)]\n",
    "sql = \"insert into test (name,age) values(?,?);\"\n",
    "for writer in writers:\n",
    "    cur.execute(sql, writer)\n",
    "conn.commit()"
   ]
  },
  {
   "cell_type": "code",
   "execution_count": null,
   "metadata": {},
   "outputs": [],
   "source": [
    "cur.execute(sql,('김수현',60))\n",
    "conn.commit()"
   ]
  },
  {
   "cell_type": "code",
   "execution_count": null,
   "metadata": {},
   "outputs": [],
   "source": [
    "writers =[('노희경',34),('송진아',67),('임성한',54)] #겉에는 튜플이든 리스트든 무관.안에만 튜플\n",
    "cur.executemany(sql, writers)\n",
    "conn.commit()"
   ]
  },
  {
   "source": [
    "데이터 조회"
   ],
   "cell_type": "markdown",
   "metadata": {}
  },
  {
   "cell_type": "code",
   "execution_count": 27,
   "metadata": {},
   "outputs": [
    {
     "output_type": "stream",
     "name": "stdout",
     "text": [
      "(1, '홍길동', None, None)\n"
     ]
    }
   ],
   "source": [
    "# 단 건 조회\n",
    "cur = conn.cursor()\n",
    "select_sql = 'select * from test;'\n",
    "cur.execute(select_sql)\n",
    "row = cur.fetchone()\n",
    "print(row)"
   ]
  },
  {
   "cell_type": "code",
   "execution_count": 28,
   "metadata": {},
   "outputs": [
    {
     "output_type": "stream",
     "name": "stdout",
     "text": [
      "(2, '홍길동', None, None)\n(3, '홍길동', None, None)\n(4, '홍길동', None, None)\n"
     ]
    }
   ],
   "source": [
    "#여러 건 조회\n",
    "rows =cur.fetchmany(3)\n",
    "for row in rows:\n",
    "    print(row)"
   ]
  },
  {
   "cell_type": "code",
   "execution_count": 29,
   "metadata": {},
   "outputs": [
    {
     "output_type": "stream",
     "name": "stdout",
     "text": [
      "(5, '장보고', None, 1000)\n(6, '이우정', None, 40)\n(7, '김은숙', None, 30)\n(8, '김수현', None, 60)\n(9, '노희경', None, 34)\n(10, '송진아', None, 67)\n(11, '임성한', None, 54)\n"
     ]
    }
   ],
   "source": [
    "#모두\n",
    "rows = cur.fetchall()\n",
    "for row in rows:\n",
    "    print(row)"
   ]
  },
  {
   "cell_type": "code",
   "execution_count": 30,
   "metadata": {},
   "outputs": [
    {
     "output_type": "stream",
     "name": "stdout",
     "text": [
      "(1, '홍길동', None, None)\n(2, '홍길동', None, None)\n(3, '홍길동', None, None)\n(4, '홍길동', None, None)\n(5, '장보고', None, 1000)\n(6, '이우정', None, 40)\n(7, '김은숙', None, 30)\n(8, '김수현', None, 60)\n(9, '노희경', None, 34)\n(10, '송진아', None, 67)\n(11, '임성한', None, 54)\n"
     ]
    }
   ],
   "source": [
    "cur = conn.cursor()\n",
    "cur.execute(select_sql)\n",
    "rows = cur.fetchall()\n",
    "for row in rows:\n",
    "    print(row)"
   ]
  },
  {
   "cell_type": "code",
   "execution_count": 31,
   "metadata": {},
   "outputs": [
    {
     "output_type": "stream",
     "name": "stdout",
     "text": [
      "(1, '홍길동', None, None)\n(2, '홍길동', None, None)\n(3, '홍길동', None, None)\n(4, '홍길동', None, None)\n(5, '장보고', None, 1000)\n(6, '이우정', None, 40)\n(7, '김은숙', None, 30)\n(8, '김수현', None, 60)\n(9, '노희경', None, 34)\n(10, '송진아', None, 67)\n(11, '임성한', None, 54)\n"
     ]
    }
   ],
   "source": [
    "# 순회조회\n",
    "cur = conn.cursor()\n",
    "cur.execute(select_sql)\n",
    "\n",
    "for row in cur:     #여기 주목\n",
    "    print(row)"
   ]
  },
  {
   "cell_type": "code",
   "execution_count": 26,
   "metadata": {},
   "outputs": [
    {
     "output_type": "stream",
     "name": "stdout",
     "text": [
      "('김수현', 60)\n('김은숙', 30)\n('노희경', 34)\n('송진아', 67)\n('이우정', 40)\n('임성한', 54)\n('장보고', 1000)\n('홍길동', None)\n('홍길동', None)\n('홍길동', None)\n('홍길동', None)\n"
     ]
    }
   ],
   "source": [
    "# 필요한 컬럼만 조회\n",
    "cur = conn.cursor()\n",
    "cur.execute('SELECT name,age FROM test order by name')\n",
    "rows = cur.fetchall()\n",
    "for row in rows:\n",
    "    print(row)"
   ]
  },
  {
   "cell_type": "code",
   "execution_count": 33,
   "metadata": {},
   "outputs": [
    {
     "output_type": "stream",
     "name": "stdout",
     "text": [
      "('장보고', 1000)\n('송진아', 67)\n('김수현', 60)\n"
     ]
    }
   ],
   "source": [
    "cur = conn.cursor()\n",
    "cur.execute('SELECT name,age FROM test order by age desc limit 3; ')\n",
    "# cur.execute('SELECT name,age FROM test order by age desc, name limit 3; ')\n",
    "# 나이가 같을때 name을 주면 이름 순으로\n",
    "rows = cur.fetchall()\n",
    "for row in rows:\n",
    "    print(row)"
   ]
  },
  {
   "cell_type": "code",
   "execution_count": 34,
   "metadata": {},
   "outputs": [
    {
     "output_type": "stream",
     "name": "stdout",
     "text": [
      "(11,)\n"
     ]
    }
   ],
   "source": [
    "#함수\n",
    "cur.execute('select count(*) from test;')\n",
    "count = cur.fetchone()\n",
    "print(count)"
   ]
  },
  {
   "cell_type": "code",
   "execution_count": 38,
   "metadata": {},
   "outputs": [
    {
     "output_type": "stream",
     "name": "stdout",
     "text": [
      "11\n"
     ]
    }
   ],
   "source": [
    "cur.execute('select count(*) from test;')\n",
    "count, = cur.fetchone()   # , 주목\n",
    "print(count)"
   ]
  },
  {
   "cell_type": "code",
   "execution_count": 35,
   "metadata": {},
   "outputs": [
    {
     "output_type": "stream",
     "name": "stdout",
     "text": [
      "(11,) 11\n"
     ]
    }
   ],
   "source": [
    "cur.execute('select count(*) from test;')\n",
    "count = cur.fetchone()\n",
    "print(count, count[0])"
   ]
  },
  {
   "cell_type": "code",
   "execution_count": 36,
   "metadata": {},
   "outputs": [
    {
     "output_type": "stream",
     "name": "stdout",
     "text": [
      "(1000, 30, 1285, 183.57142857142858)\n"
     ]
    }
   ],
   "source": [
    "cur.execute('select max(age), min(age), sum(age), avg(age) from test;')\n",
    "row =cur.fetchone()\n",
    "print(row)"
   ]
  },
  {
   "cell_type": "code",
   "execution_count": 37,
   "metadata": {},
   "outputs": [
    {
     "output_type": "stream",
     "name": "stdout",
     "text": [
      "1000 30 1285 183.57142857142858\n"
     ]
    }
   ],
   "source": [
    "#max_age = row[0]\n",
    "#min_age = row[1]\n",
    "cur.execute('select max(age), min(age), sum(age), avg(age) from test;')\n",
    "max_age, min_age, sum_age, avg_age = cur.fetchone()\n",
    "print(max_age, min_age, sum_age, avg_age)"
   ]
  },
  {
   "source": [
    "검색"
   ],
   "cell_type": "markdown",
   "metadata": {}
  },
  {
   "cell_type": "code",
   "execution_count": 39,
   "metadata": {},
   "outputs": [
    {
     "output_type": "stream",
     "name": "stdout",
     "text": [
      "('이우정', 40)\n('김은숙', 30)\n('노희경', 34)\n"
     ]
    }
   ],
   "source": [
    "cur = conn.cursor()\n",
    "cur.execute('SELECT name,age FROM test where age < ?', (50,)) #반드시 튜플로 준다\n",
    "rows = cur.fetchall()\n",
    "for row in rows:\n",
    "    print(row)"
   ]
  },
  {
   "cell_type": "code",
   "execution_count": 40,
   "metadata": {},
   "outputs": [],
   "source": [
    "cur.execute('update test set age=1300 where id=2;')\n",
    "conn.commit()"
   ]
  },
  {
   "source": [
    "삭제"
   ],
   "cell_type": "markdown",
   "metadata": {}
  },
  {
   "cell_type": "code",
   "execution_count": 42,
   "metadata": {},
   "outputs": [],
   "source": [
    "cur = conn.cursor() \n",
    "cur.execute('DELETE FROM test WHERE id=1')\n",
    "conn.commit()"
   ]
  },
  {
   "cell_type": "code",
   "execution_count": null,
   "metadata": {},
   "outputs": [],
   "source": [
    "import pymysql\n",
    "conn = pymysql.connect(\n",
    "    host\n",
    "    user\n",
    ")"
   ]
  }
 ]
}