{
 "metadata": {
  "language_info": {
   "codemirror_mode": {
    "name": "ipython",
    "version": 3
   },
   "file_extension": ".py",
   "mimetype": "text/x-python",
   "name": "python",
   "nbconvert_exporter": "python",
   "pygments_lexer": "ipython3",
   "version": "3.8.3-final"
  },
  "orig_nbformat": 2,
  "kernelspec": {
   "name": "python3",
   "display_name": "Python 3"
  }
 },
 "nbformat": 4,
 "nbformat_minor": 2,
 "cells": [
  {
   "cell_type": "code",
   "execution_count": 2,
   "metadata": {},
   "outputs": [],
   "source": [
    "import numpy as np \n",
    "import pandas as pd \n",
    "import matplotlib as mpl\n",
    "import matplotlib.pyplot as plt\n",
    "import seaborn as sns\n",
    "%matplotlib inline\n",
    "\n",
    "mpl.rc('font', family='Malgun Gothic')\n",
    "mpl.rc('axes', unicode_minus=False)"
   ]
  },
  {
   "cell_type": "code",
   "execution_count": 21,
   "metadata": {},
   "outputs": [
    {
     "output_type": "execute_result",
     "data": {
      "text/plain": [
       "        연번     확진일    지역     여행력         접촉력   상태          이동경로 노출여부\n",
       "0     8966  11.30.   강북구     NaN    감염경로 조사중  NaN           NaN    Y\n",
       "1     8965  11.30.   타시도     NaN   기타 확진자 접촉  NaN           NaN    Y\n",
       "2     8964  11.30.   타시도     NaN    감염경로 조사중  NaN           NaN    Y\n",
       "3     8963  11.30.  영등포구     NaN  서초구 사우나 관련  NaN           NaN    Y\n",
       "4     8962  11.30.  영등포구     NaN    감염경로 조사중  NaN           NaN    Y\n",
       "...    ...     ...   ...     ...         ...  ...           ...  ...\n",
       "8961     5   1.31.   성북구     NaN       #5 접촉   퇴원  이동경로 공개기간 경과    Y\n",
       "8962     4   1.30.   마포구  중국 우한시       해외 접촉   퇴원  이동경로 공개기간 경과    Y\n",
       "8963     3   1.30.   종로구     NaN       #3 접촉   퇴원  이동경로 공개기간 경과    Y\n",
       "8964     2   1.30.   중랑구  중국 우한시       해외 접촉   퇴원  이동경로 공개기간 경과    Y\n",
       "8965     1   1.24.   강서구  중국 우한시       해외 접촉   퇴원  이동경로 공개기간 경과    Y\n",
       "\n",
       "[8966 rows x 8 columns]"
      ],
      "text/html": "<div>\n<style scoped>\n    .dataframe tbody tr th:only-of-type {\n        vertical-align: middle;\n    }\n\n    .dataframe tbody tr th {\n        vertical-align: top;\n    }\n\n    .dataframe thead th {\n        text-align: right;\n    }\n</style>\n<table border=\"1\" class=\"dataframe\">\n  <thead>\n    <tr style=\"text-align: right;\">\n      <th></th>\n      <th>연번</th>\n      <th>확진일</th>\n      <th>지역</th>\n      <th>여행력</th>\n      <th>접촉력</th>\n      <th>상태</th>\n      <th>이동경로</th>\n      <th>노출여부</th>\n    </tr>\n  </thead>\n  <tbody>\n    <tr>\n      <th>0</th>\n      <td>8966</td>\n      <td>11.30.</td>\n      <td>강북구</td>\n      <td>NaN</td>\n      <td>감염경로 조사중</td>\n      <td>NaN</td>\n      <td>NaN</td>\n      <td>Y</td>\n    </tr>\n    <tr>\n      <th>1</th>\n      <td>8965</td>\n      <td>11.30.</td>\n      <td>타시도</td>\n      <td>NaN</td>\n      <td>기타 확진자 접촉</td>\n      <td>NaN</td>\n      <td>NaN</td>\n      <td>Y</td>\n    </tr>\n    <tr>\n      <th>2</th>\n      <td>8964</td>\n      <td>11.30.</td>\n      <td>타시도</td>\n      <td>NaN</td>\n      <td>감염경로 조사중</td>\n      <td>NaN</td>\n      <td>NaN</td>\n      <td>Y</td>\n    </tr>\n    <tr>\n      <th>3</th>\n      <td>8963</td>\n      <td>11.30.</td>\n      <td>영등포구</td>\n      <td>NaN</td>\n      <td>서초구 사우나 관련</td>\n      <td>NaN</td>\n      <td>NaN</td>\n      <td>Y</td>\n    </tr>\n    <tr>\n      <th>4</th>\n      <td>8962</td>\n      <td>11.30.</td>\n      <td>영등포구</td>\n      <td>NaN</td>\n      <td>감염경로 조사중</td>\n      <td>NaN</td>\n      <td>NaN</td>\n      <td>Y</td>\n    </tr>\n    <tr>\n      <th>...</th>\n      <td>...</td>\n      <td>...</td>\n      <td>...</td>\n      <td>...</td>\n      <td>...</td>\n      <td>...</td>\n      <td>...</td>\n      <td>...</td>\n    </tr>\n    <tr>\n      <th>8961</th>\n      <td>5</td>\n      <td>1.31.</td>\n      <td>성북구</td>\n      <td>NaN</td>\n      <td>#5 접촉</td>\n      <td>퇴원</td>\n      <td>이동경로 공개기간 경과</td>\n      <td>Y</td>\n    </tr>\n    <tr>\n      <th>8962</th>\n      <td>4</td>\n      <td>1.30.</td>\n      <td>마포구</td>\n      <td>중국 우한시</td>\n      <td>해외 접촉</td>\n      <td>퇴원</td>\n      <td>이동경로 공개기간 경과</td>\n      <td>Y</td>\n    </tr>\n    <tr>\n      <th>8963</th>\n      <td>3</td>\n      <td>1.30.</td>\n      <td>종로구</td>\n      <td>NaN</td>\n      <td>#3 접촉</td>\n      <td>퇴원</td>\n      <td>이동경로 공개기간 경과</td>\n      <td>Y</td>\n    </tr>\n    <tr>\n      <th>8964</th>\n      <td>2</td>\n      <td>1.30.</td>\n      <td>중랑구</td>\n      <td>중국 우한시</td>\n      <td>해외 접촉</td>\n      <td>퇴원</td>\n      <td>이동경로 공개기간 경과</td>\n      <td>Y</td>\n    </tr>\n    <tr>\n      <th>8965</th>\n      <td>1</td>\n      <td>1.24.</td>\n      <td>강서구</td>\n      <td>중국 우한시</td>\n      <td>해외 접촉</td>\n      <td>퇴원</td>\n      <td>이동경로 공개기간 경과</td>\n      <td>Y</td>\n    </tr>\n  </tbody>\n</table>\n<p>8966 rows × 8 columns</p>\n</div>"
     },
     "metadata": {},
     "execution_count": 21
    }
   ],
   "source": [
    "df = pd.read_csv('./data/지역별/서울시 코로나19 확진자 현황.csv',encoding='euc-kr') [['연번','확진일','지역','여행력','접촉력','상태','이동경로','노출여부']]\n",
    "df"
   ]
  },
  {
   "cell_type": "code",
   "execution_count": 6,
   "metadata": {},
   "outputs": [
    {
     "output_type": "execute_result",
     "data": {
      "text/plain": [
       "         연번                                               ...                \\\n",
       "지역      강남구  강동구  강북구  강서구 경기도  관악구  광진구  구로구  금천구    기타  ...  성북구  송파구 양천구   \n",
       "확진일                                                       ...                 \n",
       "08.25.  NaN  NaN  NaN  NaN NaN  NaN  NaN  NaN  NaN   NaN  ...  NaN  NaN NaN   \n",
       "1.24.   NaN  NaN  NaN  1.0 NaN  NaN  NaN  NaN  NaN   NaN  ...  NaN  NaN NaN   \n",
       "1.30.   NaN  NaN  NaN  NaN NaN  NaN  NaN  NaN  NaN   NaN  ...  NaN  NaN NaN   \n",
       "1.31.   NaN  NaN  NaN  NaN NaN  NaN  NaN  NaN  NaN   NaN  ...  1.0  NaN NaN   \n",
       "10.01.  1.0  NaN  NaN  NaN NaN  2.0  NaN  1.0  1.0   1.0  ...  1.0  NaN NaN   \n",
       "...     ...  ...  ...  ...  ..  ...  ...  ...  ...   ...  ...  ...  ...  ..   \n",
       "9.26.   NaN  2.0  NaN  2.0 NaN  5.0  NaN  NaN  NaN   NaN  ...  2.0  2.0 NaN   \n",
       "9.27.   2.0  1.0  NaN  NaN NaN  1.0  1.0  2.0  NaN   NaN  ...  NaN  1.0 NaN   \n",
       "9.28.   NaN  NaN  1.0  NaN NaN  2.0  1.0  NaN  NaN   NaN  ...  4.0  NaN NaN   \n",
       "9.29.   NaN  NaN  NaN  NaN NaN  3.0  NaN  NaN  NaN  28.0  ...  NaN  NaN NaN   \n",
       "9.30.   1.0  1.0  NaN  NaN NaN  6.0  1.0  2.0  2.0   1.0  ...  NaN  2.0 NaN   \n",
       "\n",
       "                                           \n",
       "지역     영등포구  용산구  은평구  종로구   중구  중랑구  타시도  \n",
       "확진일                                        \n",
       "08.25.  1.0  NaN  NaN  NaN  NaN  NaN  NaN  \n",
       "1.24.   NaN  NaN  NaN  NaN  NaN  NaN  NaN  \n",
       "1.30.   NaN  NaN  NaN  1.0  NaN  1.0  NaN  \n",
       "1.31.   NaN  NaN  NaN  2.0  NaN  NaN  NaN  \n",
       "10.01.  NaN  NaN  NaN  1.0  NaN  NaN  NaN  \n",
       "...     ...  ...  ...  ...  ...  ...  ...  \n",
       "9.26.   1.0  2.0  1.0  NaN  2.0  1.0  5.0  \n",
       "9.27.   2.0  2.0  1.0  NaN  NaN  NaN  NaN  \n",
       "9.28.   1.0  2.0  1.0  NaN  NaN  NaN  NaN  \n",
       "9.29.   NaN  NaN  NaN  NaN  NaN  NaN  2.0  \n",
       "9.30.   1.0  1.0  NaN  NaN  NaN  1.0  NaN  \n",
       "\n",
       "[285 rows x 28 columns]"
      ],
      "text/html": "<div>\n<style scoped>\n    .dataframe tbody tr th:only-of-type {\n        vertical-align: middle;\n    }\n\n    .dataframe tbody tr th {\n        vertical-align: top;\n    }\n\n    .dataframe thead tr th {\n        text-align: left;\n    }\n\n    .dataframe thead tr:last-of-type th {\n        text-align: right;\n    }\n</style>\n<table border=\"1\" class=\"dataframe\">\n  <thead>\n    <tr>\n      <th></th>\n      <th colspan=\"21\" halign=\"left\">연번</th>\n    </tr>\n    <tr>\n      <th>지역</th>\n      <th>강남구</th>\n      <th>강동구</th>\n      <th>강북구</th>\n      <th>강서구</th>\n      <th>경기도</th>\n      <th>관악구</th>\n      <th>광진구</th>\n      <th>구로구</th>\n      <th>금천구</th>\n      <th>기타</th>\n      <th>...</th>\n      <th>성북구</th>\n      <th>송파구</th>\n      <th>양천구</th>\n      <th>영등포구</th>\n      <th>용산구</th>\n      <th>은평구</th>\n      <th>종로구</th>\n      <th>중구</th>\n      <th>중랑구</th>\n      <th>타시도</th>\n    </tr>\n    <tr>\n      <th>확진일</th>\n      <th></th>\n      <th></th>\n      <th></th>\n      <th></th>\n      <th></th>\n      <th></th>\n      <th></th>\n      <th></th>\n      <th></th>\n      <th></th>\n      <th></th>\n      <th></th>\n      <th></th>\n      <th></th>\n      <th></th>\n      <th></th>\n      <th></th>\n      <th></th>\n      <th></th>\n      <th></th>\n      <th></th>\n    </tr>\n  </thead>\n  <tbody>\n    <tr>\n      <th>08.25.</th>\n      <td>NaN</td>\n      <td>NaN</td>\n      <td>NaN</td>\n      <td>NaN</td>\n      <td>NaN</td>\n      <td>NaN</td>\n      <td>NaN</td>\n      <td>NaN</td>\n      <td>NaN</td>\n      <td>NaN</td>\n      <td>...</td>\n      <td>NaN</td>\n      <td>NaN</td>\n      <td>NaN</td>\n      <td>1.0</td>\n      <td>NaN</td>\n      <td>NaN</td>\n      <td>NaN</td>\n      <td>NaN</td>\n      <td>NaN</td>\n      <td>NaN</td>\n    </tr>\n    <tr>\n      <th>1.24.</th>\n      <td>NaN</td>\n      <td>NaN</td>\n      <td>NaN</td>\n      <td>1.0</td>\n      <td>NaN</td>\n      <td>NaN</td>\n      <td>NaN</td>\n      <td>NaN</td>\n      <td>NaN</td>\n      <td>NaN</td>\n      <td>...</td>\n      <td>NaN</td>\n      <td>NaN</td>\n      <td>NaN</td>\n      <td>NaN</td>\n      <td>NaN</td>\n      <td>NaN</td>\n      <td>NaN</td>\n      <td>NaN</td>\n      <td>NaN</td>\n      <td>NaN</td>\n    </tr>\n    <tr>\n      <th>1.30.</th>\n      <td>NaN</td>\n      <td>NaN</td>\n      <td>NaN</td>\n      <td>NaN</td>\n      <td>NaN</td>\n      <td>NaN</td>\n      <td>NaN</td>\n      <td>NaN</td>\n      <td>NaN</td>\n      <td>NaN</td>\n      <td>...</td>\n      <td>NaN</td>\n      <td>NaN</td>\n      <td>NaN</td>\n      <td>NaN</td>\n      <td>NaN</td>\n      <td>NaN</td>\n      <td>1.0</td>\n      <td>NaN</td>\n      <td>1.0</td>\n      <td>NaN</td>\n    </tr>\n    <tr>\n      <th>1.31.</th>\n      <td>NaN</td>\n      <td>NaN</td>\n      <td>NaN</td>\n      <td>NaN</td>\n      <td>NaN</td>\n      <td>NaN</td>\n      <td>NaN</td>\n      <td>NaN</td>\n      <td>NaN</td>\n      <td>NaN</td>\n      <td>...</td>\n      <td>1.0</td>\n      <td>NaN</td>\n      <td>NaN</td>\n      <td>NaN</td>\n      <td>NaN</td>\n      <td>NaN</td>\n      <td>2.0</td>\n      <td>NaN</td>\n      <td>NaN</td>\n      <td>NaN</td>\n    </tr>\n    <tr>\n      <th>10.01.</th>\n      <td>1.0</td>\n      <td>NaN</td>\n      <td>NaN</td>\n      <td>NaN</td>\n      <td>NaN</td>\n      <td>2.0</td>\n      <td>NaN</td>\n      <td>1.0</td>\n      <td>1.0</td>\n      <td>1.0</td>\n      <td>...</td>\n      <td>1.0</td>\n      <td>NaN</td>\n      <td>NaN</td>\n      <td>NaN</td>\n      <td>NaN</td>\n      <td>NaN</td>\n      <td>1.0</td>\n      <td>NaN</td>\n      <td>NaN</td>\n      <td>NaN</td>\n    </tr>\n    <tr>\n      <th>...</th>\n      <td>...</td>\n      <td>...</td>\n      <td>...</td>\n      <td>...</td>\n      <td>...</td>\n      <td>...</td>\n      <td>...</td>\n      <td>...</td>\n      <td>...</td>\n      <td>...</td>\n      <td>...</td>\n      <td>...</td>\n      <td>...</td>\n      <td>...</td>\n      <td>...</td>\n      <td>...</td>\n      <td>...</td>\n      <td>...</td>\n      <td>...</td>\n      <td>...</td>\n      <td>...</td>\n    </tr>\n    <tr>\n      <th>9.26.</th>\n      <td>NaN</td>\n      <td>2.0</td>\n      <td>NaN</td>\n      <td>2.0</td>\n      <td>NaN</td>\n      <td>5.0</td>\n      <td>NaN</td>\n      <td>NaN</td>\n      <td>NaN</td>\n      <td>NaN</td>\n      <td>...</td>\n      <td>2.0</td>\n      <td>2.0</td>\n      <td>NaN</td>\n      <td>1.0</td>\n      <td>2.0</td>\n      <td>1.0</td>\n      <td>NaN</td>\n      <td>2.0</td>\n      <td>1.0</td>\n      <td>5.0</td>\n    </tr>\n    <tr>\n      <th>9.27.</th>\n      <td>2.0</td>\n      <td>1.0</td>\n      <td>NaN</td>\n      <td>NaN</td>\n      <td>NaN</td>\n      <td>1.0</td>\n      <td>1.0</td>\n      <td>2.0</td>\n      <td>NaN</td>\n      <td>NaN</td>\n      <td>...</td>\n      <td>NaN</td>\n      <td>1.0</td>\n      <td>NaN</td>\n      <td>2.0</td>\n      <td>2.0</td>\n      <td>1.0</td>\n      <td>NaN</td>\n      <td>NaN</td>\n      <td>NaN</td>\n      <td>NaN</td>\n    </tr>\n    <tr>\n      <th>9.28.</th>\n      <td>NaN</td>\n      <td>NaN</td>\n      <td>1.0</td>\n      <td>NaN</td>\n      <td>NaN</td>\n      <td>2.0</td>\n      <td>1.0</td>\n      <td>NaN</td>\n      <td>NaN</td>\n      <td>NaN</td>\n      <td>...</td>\n      <td>4.0</td>\n      <td>NaN</td>\n      <td>NaN</td>\n      <td>1.0</td>\n      <td>2.0</td>\n      <td>1.0</td>\n      <td>NaN</td>\n      <td>NaN</td>\n      <td>NaN</td>\n      <td>NaN</td>\n    </tr>\n    <tr>\n      <th>9.29.</th>\n      <td>NaN</td>\n      <td>NaN</td>\n      <td>NaN</td>\n      <td>NaN</td>\n      <td>NaN</td>\n      <td>3.0</td>\n      <td>NaN</td>\n      <td>NaN</td>\n      <td>NaN</td>\n      <td>28.0</td>\n      <td>...</td>\n      <td>NaN</td>\n      <td>NaN</td>\n      <td>NaN</td>\n      <td>NaN</td>\n      <td>NaN</td>\n      <td>NaN</td>\n      <td>NaN</td>\n      <td>NaN</td>\n      <td>NaN</td>\n      <td>2.0</td>\n    </tr>\n    <tr>\n      <th>9.30.</th>\n      <td>1.0</td>\n      <td>1.0</td>\n      <td>NaN</td>\n      <td>NaN</td>\n      <td>NaN</td>\n      <td>6.0</td>\n      <td>1.0</td>\n      <td>2.0</td>\n      <td>2.0</td>\n      <td>1.0</td>\n      <td>...</td>\n      <td>NaN</td>\n      <td>2.0</td>\n      <td>NaN</td>\n      <td>1.0</td>\n      <td>1.0</td>\n      <td>NaN</td>\n      <td>NaN</td>\n      <td>NaN</td>\n      <td>1.0</td>\n      <td>NaN</td>\n    </tr>\n  </tbody>\n</table>\n<p>285 rows × 28 columns</p>\n</div>"
     },
     "metadata": {},
     "execution_count": 6
    }
   ],
   "source": [
    "df1 = pd.read_csv('./data/지역별/서울시 코로나19 확진자 현황.csv',encoding='euc-kr') [['연번','확진일','지역']]\n",
    "#df1\n",
    "df2 = df1.pivot_table(df1, index='확진일', columns='지역',aggfunc='count')\n",
    "df2"
   ]
  },
  {
   "cell_type": "code",
   "execution_count": 13,
   "metadata": {},
   "outputs": [
    {
     "output_type": "execute_result",
     "data": {
      "text/plain": [
       "               연번                                                      \\\n",
       "지역            강남구         강동구        강북구         강서구  경기도         관악구   \n",
       "count  156.000000  116.000000  81.000000  145.000000  1.0  173.000000   \n",
       "mean     3.333333    2.387931   2.469136    4.165517  1.0    3.161850   \n",
       "std      3.040232    2.317313   2.133579    7.153101  NaN    2.580639   \n",
       "min      1.000000    1.000000   1.000000    1.000000  1.0    1.000000   \n",
       "25%      1.000000    1.000000   1.000000    1.000000  1.0    1.000000   \n",
       "50%      2.000000    1.000000   2.000000    2.000000  1.0    2.000000   \n",
       "75%      4.000000    3.000000   3.000000    4.000000  1.0    4.000000   \n",
       "max     17.000000   15.000000   9.000000   58.000000  1.0   14.000000   \n",
       "\n",
       "                                                  ...                          \\\n",
       "지역           광진구         구로구        금천구       기타  ...         성북구         송파구   \n",
       "count  89.000000  115.000000  77.000000  80.0000  ...  124.000000  152.000000   \n",
       "mean    2.089888    2.408696   1.623377   2.9250  ...    3.741935    4.019737   \n",
       "std     1.592885    1.941674   1.347893   3.5677  ...    5.122676    3.728307   \n",
       "min     1.000000    1.000000   1.000000   1.0000  ...    1.000000    1.000000   \n",
       "25%     1.000000    1.000000   1.000000   1.0000  ...    1.000000    1.000000   \n",
       "50%     1.000000    2.000000   1.000000   2.0000  ...    2.000000    2.500000   \n",
       "75%     3.000000    3.000000   2.000000   4.0000  ...    4.000000    6.000000   \n",
       "max     7.000000    9.000000  10.000000  28.0000  ...   38.000000   16.000000   \n",
       "\n",
       "                                                                             \\\n",
       "지역            양천구        영등포구         용산구         은평구        종로구         중구   \n",
       "count  102.000000  130.000000  108.000000  134.000000  74.000000  66.000000   \n",
       "mean     3.098039    2.376923    2.092593    2.694030   1.702703   1.666667   \n",
       "std      3.081435    2.186163    1.682994    2.304711   1.107010   1.154701   \n",
       "min      1.000000    1.000000    1.000000    1.000000   1.000000   1.000000   \n",
       "25%      1.000000    1.000000    1.000000    1.000000   1.000000   1.000000   \n",
       "50%      2.000000    2.000000    1.000000    2.000000   1.000000   1.000000   \n",
       "75%      3.000000    3.000000    2.250000    3.000000   2.000000   2.000000   \n",
       "max     17.000000   14.000000   10.000000   11.000000   7.000000   7.000000   \n",
       "\n",
       "                               \n",
       "지역            중랑구         타시도  \n",
       "count  111.000000  144.000000  \n",
       "mean     2.639640    3.000000  \n",
       "std      2.599975    3.072549  \n",
       "min      1.000000    1.000000  \n",
       "25%      1.000000    1.000000  \n",
       "50%      1.000000    2.000000  \n",
       "75%      4.000000    4.000000  \n",
       "max     13.000000   16.000000  \n",
       "\n",
       "[8 rows x 28 columns]"
      ],
      "text/html": "<div>\n<style scoped>\n    .dataframe tbody tr th:only-of-type {\n        vertical-align: middle;\n    }\n\n    .dataframe tbody tr th {\n        vertical-align: top;\n    }\n\n    .dataframe thead tr th {\n        text-align: left;\n    }\n</style>\n<table border=\"1\" class=\"dataframe\">\n  <thead>\n    <tr>\n      <th></th>\n      <th colspan=\"21\" halign=\"left\">연번</th>\n    </tr>\n    <tr>\n      <th>지역</th>\n      <th>강남구</th>\n      <th>강동구</th>\n      <th>강북구</th>\n      <th>강서구</th>\n      <th>경기도</th>\n      <th>관악구</th>\n      <th>광진구</th>\n      <th>구로구</th>\n      <th>금천구</th>\n      <th>기타</th>\n      <th>...</th>\n      <th>성북구</th>\n      <th>송파구</th>\n      <th>양천구</th>\n      <th>영등포구</th>\n      <th>용산구</th>\n      <th>은평구</th>\n      <th>종로구</th>\n      <th>중구</th>\n      <th>중랑구</th>\n      <th>타시도</th>\n    </tr>\n  </thead>\n  <tbody>\n    <tr>\n      <th>count</th>\n      <td>156.000000</td>\n      <td>116.000000</td>\n      <td>81.000000</td>\n      <td>145.000000</td>\n      <td>1.0</td>\n      <td>173.000000</td>\n      <td>89.000000</td>\n      <td>115.000000</td>\n      <td>77.000000</td>\n      <td>80.0000</td>\n      <td>...</td>\n      <td>124.000000</td>\n      <td>152.000000</td>\n      <td>102.000000</td>\n      <td>130.000000</td>\n      <td>108.000000</td>\n      <td>134.000000</td>\n      <td>74.000000</td>\n      <td>66.000000</td>\n      <td>111.000000</td>\n      <td>144.000000</td>\n    </tr>\n    <tr>\n      <th>mean</th>\n      <td>3.333333</td>\n      <td>2.387931</td>\n      <td>2.469136</td>\n      <td>4.165517</td>\n      <td>1.0</td>\n      <td>3.161850</td>\n      <td>2.089888</td>\n      <td>2.408696</td>\n      <td>1.623377</td>\n      <td>2.9250</td>\n      <td>...</td>\n      <td>3.741935</td>\n      <td>4.019737</td>\n      <td>3.098039</td>\n      <td>2.376923</td>\n      <td>2.092593</td>\n      <td>2.694030</td>\n      <td>1.702703</td>\n      <td>1.666667</td>\n      <td>2.639640</td>\n      <td>3.000000</td>\n    </tr>\n    <tr>\n      <th>std</th>\n      <td>3.040232</td>\n      <td>2.317313</td>\n      <td>2.133579</td>\n      <td>7.153101</td>\n      <td>NaN</td>\n      <td>2.580639</td>\n      <td>1.592885</td>\n      <td>1.941674</td>\n      <td>1.347893</td>\n      <td>3.5677</td>\n      <td>...</td>\n      <td>5.122676</td>\n      <td>3.728307</td>\n      <td>3.081435</td>\n      <td>2.186163</td>\n      <td>1.682994</td>\n      <td>2.304711</td>\n      <td>1.107010</td>\n      <td>1.154701</td>\n      <td>2.599975</td>\n      <td>3.072549</td>\n    </tr>\n    <tr>\n      <th>min</th>\n      <td>1.000000</td>\n      <td>1.000000</td>\n      <td>1.000000</td>\n      <td>1.000000</td>\n      <td>1.0</td>\n      <td>1.000000</td>\n      <td>1.000000</td>\n      <td>1.000000</td>\n      <td>1.000000</td>\n      <td>1.0000</td>\n      <td>...</td>\n      <td>1.000000</td>\n      <td>1.000000</td>\n      <td>1.000000</td>\n      <td>1.000000</td>\n      <td>1.000000</td>\n      <td>1.000000</td>\n      <td>1.000000</td>\n      <td>1.000000</td>\n      <td>1.000000</td>\n      <td>1.000000</td>\n    </tr>\n    <tr>\n      <th>25%</th>\n      <td>1.000000</td>\n      <td>1.000000</td>\n      <td>1.000000</td>\n      <td>1.000000</td>\n      <td>1.0</td>\n      <td>1.000000</td>\n      <td>1.000000</td>\n      <td>1.000000</td>\n      <td>1.000000</td>\n      <td>1.0000</td>\n      <td>...</td>\n      <td>1.000000</td>\n      <td>1.000000</td>\n      <td>1.000000</td>\n      <td>1.000000</td>\n      <td>1.000000</td>\n      <td>1.000000</td>\n      <td>1.000000</td>\n      <td>1.000000</td>\n      <td>1.000000</td>\n      <td>1.000000</td>\n    </tr>\n    <tr>\n      <th>50%</th>\n      <td>2.000000</td>\n      <td>1.000000</td>\n      <td>2.000000</td>\n      <td>2.000000</td>\n      <td>1.0</td>\n      <td>2.000000</td>\n      <td>1.000000</td>\n      <td>2.000000</td>\n      <td>1.000000</td>\n      <td>2.0000</td>\n      <td>...</td>\n      <td>2.000000</td>\n      <td>2.500000</td>\n      <td>2.000000</td>\n      <td>2.000000</td>\n      <td>1.000000</td>\n      <td>2.000000</td>\n      <td>1.000000</td>\n      <td>1.000000</td>\n      <td>1.000000</td>\n      <td>2.000000</td>\n    </tr>\n    <tr>\n      <th>75%</th>\n      <td>4.000000</td>\n      <td>3.000000</td>\n      <td>3.000000</td>\n      <td>4.000000</td>\n      <td>1.0</td>\n      <td>4.000000</td>\n      <td>3.000000</td>\n      <td>3.000000</td>\n      <td>2.000000</td>\n      <td>4.0000</td>\n      <td>...</td>\n      <td>4.000000</td>\n      <td>6.000000</td>\n      <td>3.000000</td>\n      <td>3.000000</td>\n      <td>2.250000</td>\n      <td>3.000000</td>\n      <td>2.000000</td>\n      <td>2.000000</td>\n      <td>4.000000</td>\n      <td>4.000000</td>\n    </tr>\n    <tr>\n      <th>max</th>\n      <td>17.000000</td>\n      <td>15.000000</td>\n      <td>9.000000</td>\n      <td>58.000000</td>\n      <td>1.0</td>\n      <td>14.000000</td>\n      <td>7.000000</td>\n      <td>9.000000</td>\n      <td>10.000000</td>\n      <td>28.0000</td>\n      <td>...</td>\n      <td>38.000000</td>\n      <td>16.000000</td>\n      <td>17.000000</td>\n      <td>14.000000</td>\n      <td>10.000000</td>\n      <td>11.000000</td>\n      <td>7.000000</td>\n      <td>7.000000</td>\n      <td>13.000000</td>\n      <td>16.000000</td>\n    </tr>\n  </tbody>\n</table>\n<p>8 rows × 28 columns</p>\n</div>"
     },
     "metadata": {},
     "execution_count": 13
    }
   ],
   "source": [
    "df2.describe()"
   ]
  },
  {
   "cell_type": "code",
   "execution_count": 19,
   "metadata": {},
   "outputs": [
    {
     "output_type": "stream",
     "name": "stdout",
     "text": [
      "<class 'pandas.core.frame.DataFrame'>\nIndex: 285 entries, 08.25. to 9.30.\nData columns (total 28 columns):\n #   Column      Non-Null Count  Dtype  \n---  ------      --------------  -----  \n 0   (연번, 강남구)   156 non-null    float64\n 1   (연번, 강동구)   116 non-null    float64\n 2   (연번, 강북구)   81 non-null     float64\n 3   (연번, 강서구)   145 non-null    float64\n 4   (연번, 경기도)   1 non-null      float64\n 5   (연번, 관악구)   173 non-null    float64\n 6   (연번, 광진구)   89 non-null     float64\n 7   (연번, 구로구)   115 non-null    float64\n 8   (연번, 금천구)   77 non-null     float64\n 9   (연번, 기타)    80 non-null     float64\n 10  (연번, 노원구)   124 non-null    float64\n 11  (연번, 도봉구)   120 non-null    float64\n 12  (연번, 동대문구)  112 non-null    float64\n 13  (연번, 동작구)   137 non-null    float64\n 14  (연번, 마포구)   118 non-null    float64\n 15  (연번, 서대문구)  104 non-null    float64\n 16  (연번, 서초구)   139 non-null    float64\n 17  (연번, 성동구)   110 non-null    float64\n 18  (연번, 성북구)   124 non-null    float64\n 19  (연번, 송파구)   152 non-null    float64\n 20  (연번, 양천구)   102 non-null    float64\n 21  (연번, 영등포구)  130 non-null    float64\n 22  (연번, 용산구)   108 non-null    float64\n 23  (연번, 은평구)   134 non-null    float64\n 24  (연번, 종로구)   74 non-null     float64\n 25  (연번, 중구)    66 non-null     float64\n 26  (연번, 중랑구)   111 non-null    float64\n 27  (연번, 타시도)   144 non-null    float64\ndtypes: float64(28)\nmemory usage: 74.6+ KB\n"
     ]
    }
   ],
   "source": [
    "df2.info()"
   ]
  },
  {
   "cell_type": "code",
   "execution_count": 20,
   "metadata": {},
   "outputs": [
    {
     "output_type": "execute_result",
     "data": {
      "text/plain": [
       "       연번  확진일\n",
       "지역            \n",
       "강남구   520  520\n",
       "강동구   277  277\n",
       "강북구   200  200\n",
       "강서구   604  604\n",
       "경기도     1    1\n",
       "관악구   547  547\n",
       "광진구   186  186\n",
       "구로구   277  277\n",
       "금천구   125  125\n",
       "기타    234  234\n",
       "노원구   478  478\n",
       "도봉구   319  319\n",
       "동대문구  312  312\n",
       "동작구   389  389\n",
       "마포구   293  293\n",
       "서대문구  261  261\n",
       "서초구   472  472\n",
       "성동구   223  223\n",
       "성북구   464  464\n",
       "송파구   611  611\n",
       "양천구   316  316\n",
       "영등포구  309  309\n",
       "용산구   226  226\n",
       "은평구   361  361\n",
       "종로구   126  126\n",
       "중구    110  110\n",
       "중랑구   293  293\n",
       "타시도   432  432"
      ],
      "text/html": "<div>\n<style scoped>\n    .dataframe tbody tr th:only-of-type {\n        vertical-align: middle;\n    }\n\n    .dataframe tbody tr th {\n        vertical-align: top;\n    }\n\n    .dataframe thead th {\n        text-align: right;\n    }\n</style>\n<table border=\"1\" class=\"dataframe\">\n  <thead>\n    <tr style=\"text-align: right;\">\n      <th></th>\n      <th>연번</th>\n      <th>확진일</th>\n    </tr>\n    <tr>\n      <th>지역</th>\n      <th></th>\n      <th></th>\n    </tr>\n  </thead>\n  <tbody>\n    <tr>\n      <th>강남구</th>\n      <td>520</td>\n      <td>520</td>\n    </tr>\n    <tr>\n      <th>강동구</th>\n      <td>277</td>\n      <td>277</td>\n    </tr>\n    <tr>\n      <th>강북구</th>\n      <td>200</td>\n      <td>200</td>\n    </tr>\n    <tr>\n      <th>강서구</th>\n      <td>604</td>\n      <td>604</td>\n    </tr>\n    <tr>\n      <th>경기도</th>\n      <td>1</td>\n      <td>1</td>\n    </tr>\n    <tr>\n      <th>관악구</th>\n      <td>547</td>\n      <td>547</td>\n    </tr>\n    <tr>\n      <th>광진구</th>\n      <td>186</td>\n      <td>186</td>\n    </tr>\n    <tr>\n      <th>구로구</th>\n      <td>277</td>\n      <td>277</td>\n    </tr>\n    <tr>\n      <th>금천구</th>\n      <td>125</td>\n      <td>125</td>\n    </tr>\n    <tr>\n      <th>기타</th>\n      <td>234</td>\n      <td>234</td>\n    </tr>\n    <tr>\n      <th>노원구</th>\n      <td>478</td>\n      <td>478</td>\n    </tr>\n    <tr>\n      <th>도봉구</th>\n      <td>319</td>\n      <td>319</td>\n    </tr>\n    <tr>\n      <th>동대문구</th>\n      <td>312</td>\n      <td>312</td>\n    </tr>\n    <tr>\n      <th>동작구</th>\n      <td>389</td>\n      <td>389</td>\n    </tr>\n    <tr>\n      <th>마포구</th>\n      <td>293</td>\n      <td>293</td>\n    </tr>\n    <tr>\n      <th>서대문구</th>\n      <td>261</td>\n      <td>261</td>\n    </tr>\n    <tr>\n      <th>서초구</th>\n      <td>472</td>\n      <td>472</td>\n    </tr>\n    <tr>\n      <th>성동구</th>\n      <td>223</td>\n      <td>223</td>\n    </tr>\n    <tr>\n      <th>성북구</th>\n      <td>464</td>\n      <td>464</td>\n    </tr>\n    <tr>\n      <th>송파구</th>\n      <td>611</td>\n      <td>611</td>\n    </tr>\n    <tr>\n      <th>양천구</th>\n      <td>316</td>\n      <td>316</td>\n    </tr>\n    <tr>\n      <th>영등포구</th>\n      <td>309</td>\n      <td>309</td>\n    </tr>\n    <tr>\n      <th>용산구</th>\n      <td>226</td>\n      <td>226</td>\n    </tr>\n    <tr>\n      <th>은평구</th>\n      <td>361</td>\n      <td>361</td>\n    </tr>\n    <tr>\n      <th>종로구</th>\n      <td>126</td>\n      <td>126</td>\n    </tr>\n    <tr>\n      <th>중구</th>\n      <td>110</td>\n      <td>110</td>\n    </tr>\n    <tr>\n      <th>중랑구</th>\n      <td>293</td>\n      <td>293</td>\n    </tr>\n    <tr>\n      <th>타시도</th>\n      <td>432</td>\n      <td>432</td>\n    </tr>\n  </tbody>\n</table>\n</div>"
     },
     "metadata": {},
     "execution_count": 20
    }
   ],
   "source": [
    "df3 = df1.pivot_table(df1, index='지역',aggfunc='count')\n",
    "df3"
   ]
  },
  {
   "cell_type": "code",
   "execution_count": null,
   "metadata": {},
   "outputs": [],
   "source": [
    "역"
   ]
  },
  {
   "cell_type": "code",
   "execution_count": null,
   "metadata": {},
   "outputs": [],
   "source": []
  }
 ]
}