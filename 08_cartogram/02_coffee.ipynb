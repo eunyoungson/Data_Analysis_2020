{
 "metadata": {
  "language_info": {
   "codemirror_mode": {
    "name": "ipython",
    "version": 3
   },
   "file_extension": ".py",
   "mimetype": "text/x-python",
   "name": "python",
   "nbconvert_exporter": "python",
   "pygments_lexer": "ipython3",
   "version": "3.8.3-final"
  },
  "orig_nbformat": 2,
  "kernelspec": {
   "name": "python3",
   "display_name": "Python 3"
  }
 },
 "nbformat": 4,
 "nbformat_minor": 2,
 "cells": [
  {
   "cell_type": "code",
   "execution_count": 6,
   "metadata": {},
   "outputs": [],
   "source": [
    "#커피지수\n",
    "#스타벅스,커피빈/ 이디야 빽다방\n",
    "#2020년9월 데이터(공공데이터포탈/소상공인시장진흥공단_상가(상권)정보)"
   ]
  },
  {
   "cell_type": "code",
   "execution_count": 7,
   "metadata": {},
   "outputs": [],
   "source": [
    "import numpy as np \n",
    "import pandas as pd \n",
    "import matplotlib as mpl\n",
    "import matplotlib.pyplot as plt\n",
    "import seaborn as sns\n",
    "%matplotlib inline\n",
    "\n",
    "mpl.rc('font', family='Malgun Gothic')\n",
    "mpl.rc('axes', unicode_minus=False)"
   ]
  },
  {
   "cell_type": "code",
   "execution_count": 8,
   "metadata": {},
   "outputs": [
    {
     "output_type": "execute_result",
     "data": {
      "text/plain": [
       "             상호명         지점명 상권업종중분류코드                 도로명주소          경도  \\\n",
       "0  커피빈코리아선릉로93길점  코리아선릉로93길점       Q12    서울특별시 강남구 선릉로93길 6  127.047883   \n",
       "1           프로포즈         NaN       Q09    서울특별시 금천구 가산로 34-6  126.899220   \n",
       "2         와라와라호프         NaN       Q09  서울특별시 강남구 남부순환로 2933  127.061026   \n",
       "3       가락사우나내스낵         NaN       F09      서울특별시 송파구 가락로 71  127.104071   \n",
       "4   고려대학교교육관쎄리오점         NaN       Q12     서울특별시 성북구 안암로 145  127.031702   \n",
       "\n",
       "          위도  \n",
       "0  37.505675  \n",
       "1  37.471711  \n",
       "2  37.493922  \n",
       "3  37.500249  \n",
       "4  37.588485  "
      ],
      "text/html": "<div>\n<style scoped>\n    .dataframe tbody tr th:only-of-type {\n        vertical-align: middle;\n    }\n\n    .dataframe tbody tr th {\n        vertical-align: top;\n    }\n\n    .dataframe thead th {\n        text-align: right;\n    }\n</style>\n<table border=\"1\" class=\"dataframe\">\n  <thead>\n    <tr style=\"text-align: right;\">\n      <th></th>\n      <th>상호명</th>\n      <th>지점명</th>\n      <th>상권업종중분류코드</th>\n      <th>도로명주소</th>\n      <th>경도</th>\n      <th>위도</th>\n    </tr>\n  </thead>\n  <tbody>\n    <tr>\n      <th>0</th>\n      <td>커피빈코리아선릉로93길점</td>\n      <td>코리아선릉로93길점</td>\n      <td>Q12</td>\n      <td>서울특별시 강남구 선릉로93길 6</td>\n      <td>127.047883</td>\n      <td>37.505675</td>\n    </tr>\n    <tr>\n      <th>1</th>\n      <td>프로포즈</td>\n      <td>NaN</td>\n      <td>Q09</td>\n      <td>서울특별시 금천구 가산로 34-6</td>\n      <td>126.899220</td>\n      <td>37.471711</td>\n    </tr>\n    <tr>\n      <th>2</th>\n      <td>와라와라호프</td>\n      <td>NaN</td>\n      <td>Q09</td>\n      <td>서울특별시 강남구 남부순환로 2933</td>\n      <td>127.061026</td>\n      <td>37.493922</td>\n    </tr>\n    <tr>\n      <th>3</th>\n      <td>가락사우나내스낵</td>\n      <td>NaN</td>\n      <td>F09</td>\n      <td>서울특별시 송파구 가락로 71</td>\n      <td>127.104071</td>\n      <td>37.500249</td>\n    </tr>\n    <tr>\n      <th>4</th>\n      <td>고려대학교교육관쎄리오점</td>\n      <td>NaN</td>\n      <td>Q12</td>\n      <td>서울특별시 성북구 안암로 145</td>\n      <td>127.031702</td>\n      <td>37.588485</td>\n    </tr>\n  </tbody>\n</table>\n</div>"
     },
     "metadata": {},
     "execution_count": 8
    }
   ],
   "source": [
    "df = pd.read_csv('./data/지역별/소상공인시장진흥공단_상가(상권)정보_서울_202009.csv', sep='|')[['상호명','지점명','상권업종중분류코드','도로명주소','경도','위도']]\n",
    "df.head()"
   ]
  },
  {
   "cell_type": "code",
   "execution_count": 9,
   "metadata": {},
   "outputs": [
    {
     "output_type": "execute_result",
     "data": {
      "text/plain": [
       "              상호명         지점명 상권업종중분류코드                    도로명주소          경도  \\\n",
       "0   커피빈코리아선릉로93길점  코리아선릉로93길점       Q12       서울특별시 강남구 선릉로93길 6  127.047883   \n",
       "4    고려대학교교육관쎄리오점         NaN       Q12        서울특별시 성북구 안암로 145  127.031702   \n",
       "7           스완카페트         NaN       Q12  서울특별시 영등포구 도신로10가길 11-1  126.897710   \n",
       "25             왕실         NaN       Q12      서울특별시 중구 남대문로 52-13  126.982419   \n",
       "29            커피빈      코리아교대점       Q12      서울특별시 서초구 서초중앙로 118  127.014217   \n",
       "\n",
       "           위도  \n",
       "0   37.505675  \n",
       "4   37.588485  \n",
       "7   37.503693  \n",
       "25  37.562274  \n",
       "29  37.492388  "
      ],
      "text/html": "<div>\n<style scoped>\n    .dataframe tbody tr th:only-of-type {\n        vertical-align: middle;\n    }\n\n    .dataframe tbody tr th {\n        vertical-align: top;\n    }\n\n    .dataframe thead th {\n        text-align: right;\n    }\n</style>\n<table border=\"1\" class=\"dataframe\">\n  <thead>\n    <tr style=\"text-align: right;\">\n      <th></th>\n      <th>상호명</th>\n      <th>지점명</th>\n      <th>상권업종중분류코드</th>\n      <th>도로명주소</th>\n      <th>경도</th>\n      <th>위도</th>\n    </tr>\n  </thead>\n  <tbody>\n    <tr>\n      <th>0</th>\n      <td>커피빈코리아선릉로93길점</td>\n      <td>코리아선릉로93길점</td>\n      <td>Q12</td>\n      <td>서울특별시 강남구 선릉로93길 6</td>\n      <td>127.047883</td>\n      <td>37.505675</td>\n    </tr>\n    <tr>\n      <th>4</th>\n      <td>고려대학교교육관쎄리오점</td>\n      <td>NaN</td>\n      <td>Q12</td>\n      <td>서울특별시 성북구 안암로 145</td>\n      <td>127.031702</td>\n      <td>37.588485</td>\n    </tr>\n    <tr>\n      <th>7</th>\n      <td>스완카페트</td>\n      <td>NaN</td>\n      <td>Q12</td>\n      <td>서울특별시 영등포구 도신로10가길 11-1</td>\n      <td>126.897710</td>\n      <td>37.503693</td>\n    </tr>\n    <tr>\n      <th>25</th>\n      <td>왕실</td>\n      <td>NaN</td>\n      <td>Q12</td>\n      <td>서울특별시 중구 남대문로 52-13</td>\n      <td>126.982419</td>\n      <td>37.562274</td>\n    </tr>\n    <tr>\n      <th>29</th>\n      <td>커피빈</td>\n      <td>코리아교대점</td>\n      <td>Q12</td>\n      <td>서울특별시 서초구 서초중앙로 118</td>\n      <td>127.014217</td>\n      <td>37.492388</td>\n    </tr>\n  </tbody>\n</table>\n</div>"
     },
     "metadata": {},
     "execution_count": 9
    }
   ],
   "source": [
    "df = df[df['상권업종중분류코드'] == 'Q12']\n",
    "df.head()"
   ]
  },
  {
   "cell_type": "code",
   "execution_count": 10,
   "metadata": {},
   "outputs": [
    {
     "output_type": "execute_result",
     "data": {
      "text/plain": [
       "                 상호명    지점명 상권업종중분류코드                 도로명주소          경도  \\\n",
       "635             스타벅스   이태원점       Q12    서울특별시 용산구 이태원로 188  126.994781   \n",
       "1272       스타벅스종로3가점  종로3가점       Q12    서울특별시 종로구 종로 113-1  126.990207   \n",
       "1712            스타벅스   신사2점       Q12    서울특별시 서초구 강남대로 581  127.019763   \n",
       "8936  스타벅스커피여의도IFC1F    NaN       Q12   서울특별시 영등포구 국제금융로 10  126.924863   \n",
       "8945            스타벅스   삼성역점       Q12  서울특별시 강남구 테헤란로103길 9  127.063878   \n",
       "\n",
       "             위도  \n",
       "635   37.534303  \n",
       "1272  37.570585  \n",
       "1712  37.513663  \n",
       "8936  37.525172  \n",
       "8945  37.510038  "
      ],
      "text/html": "<div>\n<style scoped>\n    .dataframe tbody tr th:only-of-type {\n        vertical-align: middle;\n    }\n\n    .dataframe tbody tr th {\n        vertical-align: top;\n    }\n\n    .dataframe thead th {\n        text-align: right;\n    }\n</style>\n<table border=\"1\" class=\"dataframe\">\n  <thead>\n    <tr style=\"text-align: right;\">\n      <th></th>\n      <th>상호명</th>\n      <th>지점명</th>\n      <th>상권업종중분류코드</th>\n      <th>도로명주소</th>\n      <th>경도</th>\n      <th>위도</th>\n    </tr>\n  </thead>\n  <tbody>\n    <tr>\n      <th>635</th>\n      <td>스타벅스</td>\n      <td>이태원점</td>\n      <td>Q12</td>\n      <td>서울특별시 용산구 이태원로 188</td>\n      <td>126.994781</td>\n      <td>37.534303</td>\n    </tr>\n    <tr>\n      <th>1272</th>\n      <td>스타벅스종로3가점</td>\n      <td>종로3가점</td>\n      <td>Q12</td>\n      <td>서울특별시 종로구 종로 113-1</td>\n      <td>126.990207</td>\n      <td>37.570585</td>\n    </tr>\n    <tr>\n      <th>1712</th>\n      <td>스타벅스</td>\n      <td>신사2점</td>\n      <td>Q12</td>\n      <td>서울특별시 서초구 강남대로 581</td>\n      <td>127.019763</td>\n      <td>37.513663</td>\n    </tr>\n    <tr>\n      <th>8936</th>\n      <td>스타벅스커피여의도IFC1F</td>\n      <td>NaN</td>\n      <td>Q12</td>\n      <td>서울특별시 영등포구 국제금융로 10</td>\n      <td>126.924863</td>\n      <td>37.525172</td>\n    </tr>\n    <tr>\n      <th>8945</th>\n      <td>스타벅스</td>\n      <td>삼성역점</td>\n      <td>Q12</td>\n      <td>서울특별시 강남구 테헤란로103길 9</td>\n      <td>127.063878</td>\n      <td>37.510038</td>\n    </tr>\n  </tbody>\n</table>\n</div>"
     },
     "metadata": {},
     "execution_count": 10
    }
   ],
   "source": [
    "#상호명이 스타벅스인것만 찾기(한글과 영어상호명)\n",
    "sb1 = df[df['상호명'].str.find('스타벅스') >= 0]\n",
    "sb1.head()"
   ]
  },
  {
   "cell_type": "code",
   "execution_count": 11,
   "metadata": {},
   "outputs": [
    {
     "output_type": "execute_result",
     "data": {
      "text/plain": [
       "                    상호명  지점명 상권업종중분류코드               도로명주소          경도  \\\n",
       "137508  STARBUCKSCOFFEE  NaN       Q12  서울특별시 서초구 신반포로 176  127.002393   \n",
       "\n",
       "              위도  \n",
       "137508  37.50393  "
      ],
      "text/html": "<div>\n<style scoped>\n    .dataframe tbody tr th:only-of-type {\n        vertical-align: middle;\n    }\n\n    .dataframe tbody tr th {\n        vertical-align: top;\n    }\n\n    .dataframe thead th {\n        text-align: right;\n    }\n</style>\n<table border=\"1\" class=\"dataframe\">\n  <thead>\n    <tr style=\"text-align: right;\">\n      <th></th>\n      <th>상호명</th>\n      <th>지점명</th>\n      <th>상권업종중분류코드</th>\n      <th>도로명주소</th>\n      <th>경도</th>\n      <th>위도</th>\n    </tr>\n  </thead>\n  <tbody>\n    <tr>\n      <th>137508</th>\n      <td>STARBUCKSCOFFEE</td>\n      <td>NaN</td>\n      <td>Q12</td>\n      <td>서울특별시 서초구 신반포로 176</td>\n      <td>127.002393</td>\n      <td>37.50393</td>\n    </tr>\n  </tbody>\n</table>\n</div>"
     },
     "metadata": {},
     "execution_count": 11
    }
   ],
   "source": [
    "sb2 = df[df['상호명'].str.find('STARB') >= 0]\n",
    "sb2"
   ]
  },
  {
   "cell_type": "code",
   "execution_count": 12,
   "metadata": {},
   "outputs": [
    {
     "output_type": "execute_result",
     "data": {
      "text/plain": [
       "                    상호명     지점명 상권업종중분류코드                 도로명주소          경도  \\\n",
       "635                스타벅스    이태원점       Q12    서울특별시 용산구 이태원로 188  126.994781   \n",
       "1272          스타벅스종로3가점   종로3가점       Q12    서울특별시 종로구 종로 113-1  126.990207   \n",
       "1712               스타벅스    신사2점       Q12    서울특별시 서초구 강남대로 581  127.019763   \n",
       "8936     스타벅스커피여의도IFC1F     NaN       Q12   서울특별시 영등포구 국제금융로 10  126.924863   \n",
       "8945               스타벅스    삼성역점       Q12  서울특별시 강남구 테헤란로103길 9  127.063878   \n",
       "...                 ...     ...       ...                   ...         ...   \n",
       "367043             스타벅스   영등포역점       Q12    서울특별시 영등포구 경인로 870  126.909268   \n",
       "367044             스타벅스    샛강역점       Q12  서울특별시 영등포구 여의대방로 376  126.931195   \n",
       "367171             스타벅스  창동이마트점       Q12    서울특별시 도봉구 노해로65길 4  127.046680   \n",
       "367172             스타벅스  상암YTN점       Q12     서울특별시 마포구 상암산로 76  126.892296   \n",
       "137508  STARBUCKSCOFFEE     NaN       Q12    서울특별시 서초구 신반포로 176  127.002393   \n",
       "\n",
       "               위도  \n",
       "635     37.534303  \n",
       "1272    37.570585  \n",
       "1712    37.513663  \n",
       "8936    37.525172  \n",
       "8945    37.510038  \n",
       "...           ...  \n",
       "367043  37.516974  \n",
       "367044  37.518274  \n",
       "367171  37.651626  \n",
       "367172  37.579186  \n",
       "137508  37.503930  \n",
       "\n",
       "[544 rows x 6 columns]"
      ],
      "text/html": "<div>\n<style scoped>\n    .dataframe tbody tr th:only-of-type {\n        vertical-align: middle;\n    }\n\n    .dataframe tbody tr th {\n        vertical-align: top;\n    }\n\n    .dataframe thead th {\n        text-align: right;\n    }\n</style>\n<table border=\"1\" class=\"dataframe\">\n  <thead>\n    <tr style=\"text-align: right;\">\n      <th></th>\n      <th>상호명</th>\n      <th>지점명</th>\n      <th>상권업종중분류코드</th>\n      <th>도로명주소</th>\n      <th>경도</th>\n      <th>위도</th>\n    </tr>\n  </thead>\n  <tbody>\n    <tr>\n      <th>635</th>\n      <td>스타벅스</td>\n      <td>이태원점</td>\n      <td>Q12</td>\n      <td>서울특별시 용산구 이태원로 188</td>\n      <td>126.994781</td>\n      <td>37.534303</td>\n    </tr>\n    <tr>\n      <th>1272</th>\n      <td>스타벅스종로3가점</td>\n      <td>종로3가점</td>\n      <td>Q12</td>\n      <td>서울특별시 종로구 종로 113-1</td>\n      <td>126.990207</td>\n      <td>37.570585</td>\n    </tr>\n    <tr>\n      <th>1712</th>\n      <td>스타벅스</td>\n      <td>신사2점</td>\n      <td>Q12</td>\n      <td>서울특별시 서초구 강남대로 581</td>\n      <td>127.019763</td>\n      <td>37.513663</td>\n    </tr>\n    <tr>\n      <th>8936</th>\n      <td>스타벅스커피여의도IFC1F</td>\n      <td>NaN</td>\n      <td>Q12</td>\n      <td>서울특별시 영등포구 국제금융로 10</td>\n      <td>126.924863</td>\n      <td>37.525172</td>\n    </tr>\n    <tr>\n      <th>8945</th>\n      <td>스타벅스</td>\n      <td>삼성역점</td>\n      <td>Q12</td>\n      <td>서울특별시 강남구 테헤란로103길 9</td>\n      <td>127.063878</td>\n      <td>37.510038</td>\n    </tr>\n    <tr>\n      <th>...</th>\n      <td>...</td>\n      <td>...</td>\n      <td>...</td>\n      <td>...</td>\n      <td>...</td>\n      <td>...</td>\n    </tr>\n    <tr>\n      <th>367043</th>\n      <td>스타벅스</td>\n      <td>영등포역점</td>\n      <td>Q12</td>\n      <td>서울특별시 영등포구 경인로 870</td>\n      <td>126.909268</td>\n      <td>37.516974</td>\n    </tr>\n    <tr>\n      <th>367044</th>\n      <td>스타벅스</td>\n      <td>샛강역점</td>\n      <td>Q12</td>\n      <td>서울특별시 영등포구 여의대방로 376</td>\n      <td>126.931195</td>\n      <td>37.518274</td>\n    </tr>\n    <tr>\n      <th>367171</th>\n      <td>스타벅스</td>\n      <td>창동이마트점</td>\n      <td>Q12</td>\n      <td>서울특별시 도봉구 노해로65길 4</td>\n      <td>127.046680</td>\n      <td>37.651626</td>\n    </tr>\n    <tr>\n      <th>367172</th>\n      <td>스타벅스</td>\n      <td>상암YTN점</td>\n      <td>Q12</td>\n      <td>서울특별시 마포구 상암산로 76</td>\n      <td>126.892296</td>\n      <td>37.579186</td>\n    </tr>\n    <tr>\n      <th>137508</th>\n      <td>STARBUCKSCOFFEE</td>\n      <td>NaN</td>\n      <td>Q12</td>\n      <td>서울특별시 서초구 신반포로 176</td>\n      <td>127.002393</td>\n      <td>37.503930</td>\n    </tr>\n  </tbody>\n</table>\n<p>544 rows × 6 columns</p>\n</div>"
     },
     "metadata": {},
     "execution_count": 12
    }
   ],
   "source": [
    "sb = pd.concat([sb1,sb2])\n",
    "sb"
   ]
  },
  {
   "cell_type": "code",
   "execution_count": 13,
   "metadata": {},
   "outputs": [
    {
     "output_type": "execute_result",
     "data": {
      "text/plain": [
       "                상호명          지점명 상권업종중분류코드                도로명주소          경도  \\\n",
       "0     커피빈코리아선릉로93길점   코리아선릉로93길점       Q12   서울특별시 강남구 선릉로93길 6  127.047883   \n",
       "29              커피빈       코리아교대점       Q12  서울특별시 서초구 서초중앙로 118  127.014217   \n",
       "59              커피빈  코리아대학로대명거리점       Q12     서울특별시 종로구 대명길 25  127.000171   \n",
       "242             커피빈      코리아선릉역점       Q12   서울특별시 강남구 테헤란로 335  127.048223   \n",
       "952  커피빈코리아강남역먹자골목점  코리아강남역먹자골목점       Q12  서울특별시 강남구 테헤란로1길 29  127.027280   \n",
       "\n",
       "            위도  \n",
       "0    37.505675  \n",
       "29   37.492388  \n",
       "59   37.583149  \n",
       "242  37.504750  \n",
       "952  37.500101  "
      ],
      "text/html": "<div>\n<style scoped>\n    .dataframe tbody tr th:only-of-type {\n        vertical-align: middle;\n    }\n\n    .dataframe tbody tr th {\n        vertical-align: top;\n    }\n\n    .dataframe thead th {\n        text-align: right;\n    }\n</style>\n<table border=\"1\" class=\"dataframe\">\n  <thead>\n    <tr style=\"text-align: right;\">\n      <th></th>\n      <th>상호명</th>\n      <th>지점명</th>\n      <th>상권업종중분류코드</th>\n      <th>도로명주소</th>\n      <th>경도</th>\n      <th>위도</th>\n    </tr>\n  </thead>\n  <tbody>\n    <tr>\n      <th>0</th>\n      <td>커피빈코리아선릉로93길점</td>\n      <td>코리아선릉로93길점</td>\n      <td>Q12</td>\n      <td>서울특별시 강남구 선릉로93길 6</td>\n      <td>127.047883</td>\n      <td>37.505675</td>\n    </tr>\n    <tr>\n      <th>29</th>\n      <td>커피빈</td>\n      <td>코리아교대점</td>\n      <td>Q12</td>\n      <td>서울특별시 서초구 서초중앙로 118</td>\n      <td>127.014217</td>\n      <td>37.492388</td>\n    </tr>\n    <tr>\n      <th>59</th>\n      <td>커피빈</td>\n      <td>코리아대학로대명거리점</td>\n      <td>Q12</td>\n      <td>서울특별시 종로구 대명길 25</td>\n      <td>127.000171</td>\n      <td>37.583149</td>\n    </tr>\n    <tr>\n      <th>242</th>\n      <td>커피빈</td>\n      <td>코리아선릉역점</td>\n      <td>Q12</td>\n      <td>서울특별시 강남구 테헤란로 335</td>\n      <td>127.048223</td>\n      <td>37.504750</td>\n    </tr>\n    <tr>\n      <th>952</th>\n      <td>커피빈코리아강남역먹자골목점</td>\n      <td>코리아강남역먹자골목점</td>\n      <td>Q12</td>\n      <td>서울특별시 강남구 테헤란로1길 29</td>\n      <td>127.027280</td>\n      <td>37.500101</td>\n    </tr>\n  </tbody>\n</table>\n</div>"
     },
     "metadata": {},
     "execution_count": 13
    }
   ],
   "source": [
    "cb1 = df[df['상호명'].str.find('커피빈') >= 0] \n",
    "cb1.head()"
   ]
  },
  {
   "cell_type": "code",
   "execution_count": 14,
   "metadata": {},
   "outputs": [
    {
     "output_type": "execute_result",
     "data": {
      "text/plain": [
       "                       상호명       지점명 상권업종중분류코드              도로명주소          경도  \\\n",
       "220399  COFFEEBEAN영동2교사거리점  영동2교사거리점       Q12  서울특별시 강남구 논현로 136  127.043233   \n",
       "\n",
       "               위도  \n",
       "220399  37.481877  "
      ],
      "text/html": "<div>\n<style scoped>\n    .dataframe tbody tr th:only-of-type {\n        vertical-align: middle;\n    }\n\n    .dataframe tbody tr th {\n        vertical-align: top;\n    }\n\n    .dataframe thead th {\n        text-align: right;\n    }\n</style>\n<table border=\"1\" class=\"dataframe\">\n  <thead>\n    <tr style=\"text-align: right;\">\n      <th></th>\n      <th>상호명</th>\n      <th>지점명</th>\n      <th>상권업종중분류코드</th>\n      <th>도로명주소</th>\n      <th>경도</th>\n      <th>위도</th>\n    </tr>\n  </thead>\n  <tbody>\n    <tr>\n      <th>220399</th>\n      <td>COFFEEBEAN영동2교사거리점</td>\n      <td>영동2교사거리점</td>\n      <td>Q12</td>\n      <td>서울특별시 강남구 논현로 136</td>\n      <td>127.043233</td>\n      <td>37.481877</td>\n    </tr>\n  </tbody>\n</table>\n</div>"
     },
     "metadata": {},
     "execution_count": 14
    }
   ],
   "source": [
    "cb2 = df[df['상호명'].str.find('COFFEEBEAN') >= 0] \n",
    "cb2"
   ]
  },
  {
   "cell_type": "code",
   "execution_count": 15,
   "metadata": {},
   "outputs": [
    {
     "output_type": "execute_result",
     "data": {
      "text/plain": [
       "                       상호명          지점명 상권업종중분류코드                도로명주소  \\\n",
       "0            커피빈코리아선릉로93길점   코리아선릉로93길점       Q12   서울특별시 강남구 선릉로93길 6   \n",
       "29                     커피빈       코리아교대점       Q12  서울특별시 서초구 서초중앙로 118   \n",
       "59                     커피빈  코리아대학로대명거리점       Q12     서울특별시 종로구 대명길 25   \n",
       "242                    커피빈      코리아선릉역점       Q12   서울특별시 강남구 테헤란로 335   \n",
       "952         커피빈코리아강남역먹자골목점  코리아강남역먹자골목점       Q12  서울특별시 강남구 테헤란로1길 29   \n",
       "...                    ...          ...       ...                  ...   \n",
       "364593                 커피빈          NaN       Q12  서울특별시 강동구 구천면로64길 6   \n",
       "365818                 커피빈    코리아서초중앙로점       Q12  서울특별시 서초구 서초중앙로 209   \n",
       "366246                 커피빈   KB국민은행노원역점       Q12   서울특별시 노원구 동일로 1405   \n",
       "367040                 커피빈     송파헬리오시티점       Q12   서울특별시 송파구 송파대로 345   \n",
       "220399  COFFEEBEAN영동2교사거리점     영동2교사거리점       Q12    서울특별시 강남구 논현로 136   \n",
       "\n",
       "                경도         위도  \n",
       "0       127.047883  37.505675  \n",
       "29      127.014217  37.492388  \n",
       "59      127.000171  37.583149  \n",
       "242     127.048223  37.504750  \n",
       "952     127.027280  37.500101  \n",
       "...            ...        ...  \n",
       "364593  127.139868  37.550280  \n",
       "365818  127.011806  37.500306  \n",
       "366246  127.060161  37.653824  \n",
       "367040  127.102519  37.497606  \n",
       "220399  127.043233  37.481877  \n",
       "\n",
       "[232 rows x 6 columns]"
      ],
      "text/html": "<div>\n<style scoped>\n    .dataframe tbody tr th:only-of-type {\n        vertical-align: middle;\n    }\n\n    .dataframe tbody tr th {\n        vertical-align: top;\n    }\n\n    .dataframe thead th {\n        text-align: right;\n    }\n</style>\n<table border=\"1\" class=\"dataframe\">\n  <thead>\n    <tr style=\"text-align: right;\">\n      <th></th>\n      <th>상호명</th>\n      <th>지점명</th>\n      <th>상권업종중분류코드</th>\n      <th>도로명주소</th>\n      <th>경도</th>\n      <th>위도</th>\n    </tr>\n  </thead>\n  <tbody>\n    <tr>\n      <th>0</th>\n      <td>커피빈코리아선릉로93길점</td>\n      <td>코리아선릉로93길점</td>\n      <td>Q12</td>\n      <td>서울특별시 강남구 선릉로93길 6</td>\n      <td>127.047883</td>\n      <td>37.505675</td>\n    </tr>\n    <tr>\n      <th>29</th>\n      <td>커피빈</td>\n      <td>코리아교대점</td>\n      <td>Q12</td>\n      <td>서울특별시 서초구 서초중앙로 118</td>\n      <td>127.014217</td>\n      <td>37.492388</td>\n    </tr>\n    <tr>\n      <th>59</th>\n      <td>커피빈</td>\n      <td>코리아대학로대명거리점</td>\n      <td>Q12</td>\n      <td>서울특별시 종로구 대명길 25</td>\n      <td>127.000171</td>\n      <td>37.583149</td>\n    </tr>\n    <tr>\n      <th>242</th>\n      <td>커피빈</td>\n      <td>코리아선릉역점</td>\n      <td>Q12</td>\n      <td>서울특별시 강남구 테헤란로 335</td>\n      <td>127.048223</td>\n      <td>37.504750</td>\n    </tr>\n    <tr>\n      <th>952</th>\n      <td>커피빈코리아강남역먹자골목점</td>\n      <td>코리아강남역먹자골목점</td>\n      <td>Q12</td>\n      <td>서울특별시 강남구 테헤란로1길 29</td>\n      <td>127.027280</td>\n      <td>37.500101</td>\n    </tr>\n    <tr>\n      <th>...</th>\n      <td>...</td>\n      <td>...</td>\n      <td>...</td>\n      <td>...</td>\n      <td>...</td>\n      <td>...</td>\n    </tr>\n    <tr>\n      <th>364593</th>\n      <td>커피빈</td>\n      <td>NaN</td>\n      <td>Q12</td>\n      <td>서울특별시 강동구 구천면로64길 6</td>\n      <td>127.139868</td>\n      <td>37.550280</td>\n    </tr>\n    <tr>\n      <th>365818</th>\n      <td>커피빈</td>\n      <td>코리아서초중앙로점</td>\n      <td>Q12</td>\n      <td>서울특별시 서초구 서초중앙로 209</td>\n      <td>127.011806</td>\n      <td>37.500306</td>\n    </tr>\n    <tr>\n      <th>366246</th>\n      <td>커피빈</td>\n      <td>KB국민은행노원역점</td>\n      <td>Q12</td>\n      <td>서울특별시 노원구 동일로 1405</td>\n      <td>127.060161</td>\n      <td>37.653824</td>\n    </tr>\n    <tr>\n      <th>367040</th>\n      <td>커피빈</td>\n      <td>송파헬리오시티점</td>\n      <td>Q12</td>\n      <td>서울특별시 송파구 송파대로 345</td>\n      <td>127.102519</td>\n      <td>37.497606</td>\n    </tr>\n    <tr>\n      <th>220399</th>\n      <td>COFFEEBEAN영동2교사거리점</td>\n      <td>영동2교사거리점</td>\n      <td>Q12</td>\n      <td>서울특별시 강남구 논현로 136</td>\n      <td>127.043233</td>\n      <td>37.481877</td>\n    </tr>\n  </tbody>\n</table>\n<p>232 rows × 6 columns</p>\n</div>"
     },
     "metadata": {},
     "execution_count": 15
    }
   ],
   "source": [
    "cb = pd.concat([cb1,cb2])\n",
    "cb"
   ]
  },
  {
   "cell_type": "code",
   "execution_count": 16,
   "metadata": {},
   "outputs": [
    {
     "output_type": "execute_result",
     "data": {
      "text/plain": [
       "        상호명      지점명 상권업종중분류코드                 도로명주소          경도         위도\n",
       "930   이디야커피     신길역점       Q12   서울특별시 영등포구 영등포로 353  126.918062  37.515118\n",
       "1779  이디야커피   이마트구로점       Q12  서울특별시 구로구 디지털로32길 43  126.897870  37.484385\n",
       "4977  이디야커피  중계롯데우성점       Q12   서울특별시 노원구 노원로22길 34  127.072754  37.646364\n",
       "8532  이디야커피     금호역점       Q12    서울특별시 성동구 장터길 17-1  127.017791  37.548427\n",
       "9151  이디야커피      NaN       Q12  서울특별시 강남구 테헤란로104길 8  127.064790  37.508585"
      ],
      "text/html": "<div>\n<style scoped>\n    .dataframe tbody tr th:only-of-type {\n        vertical-align: middle;\n    }\n\n    .dataframe tbody tr th {\n        vertical-align: top;\n    }\n\n    .dataframe thead th {\n        text-align: right;\n    }\n</style>\n<table border=\"1\" class=\"dataframe\">\n  <thead>\n    <tr style=\"text-align: right;\">\n      <th></th>\n      <th>상호명</th>\n      <th>지점명</th>\n      <th>상권업종중분류코드</th>\n      <th>도로명주소</th>\n      <th>경도</th>\n      <th>위도</th>\n    </tr>\n  </thead>\n  <tbody>\n    <tr>\n      <th>930</th>\n      <td>이디야커피</td>\n      <td>신길역점</td>\n      <td>Q12</td>\n      <td>서울특별시 영등포구 영등포로 353</td>\n      <td>126.918062</td>\n      <td>37.515118</td>\n    </tr>\n    <tr>\n      <th>1779</th>\n      <td>이디야커피</td>\n      <td>이마트구로점</td>\n      <td>Q12</td>\n      <td>서울특별시 구로구 디지털로32길 43</td>\n      <td>126.897870</td>\n      <td>37.484385</td>\n    </tr>\n    <tr>\n      <th>4977</th>\n      <td>이디야커피</td>\n      <td>중계롯데우성점</td>\n      <td>Q12</td>\n      <td>서울특별시 노원구 노원로22길 34</td>\n      <td>127.072754</td>\n      <td>37.646364</td>\n    </tr>\n    <tr>\n      <th>8532</th>\n      <td>이디야커피</td>\n      <td>금호역점</td>\n      <td>Q12</td>\n      <td>서울특별시 성동구 장터길 17-1</td>\n      <td>127.017791</td>\n      <td>37.548427</td>\n    </tr>\n    <tr>\n      <th>9151</th>\n      <td>이디야커피</td>\n      <td>NaN</td>\n      <td>Q12</td>\n      <td>서울특별시 강남구 테헤란로104길 8</td>\n      <td>127.064790</td>\n      <td>37.508585</td>\n    </tr>\n  </tbody>\n</table>\n</div>"
     },
     "metadata": {},
     "execution_count": 16
    }
   ],
   "source": [
    "ey2 = df[df['상호명'].str.find('이디야') >= 0]\n",
    "ey2.head()"
   ]
  },
  {
   "cell_type": "code",
   "execution_count": 17,
   "metadata": {},
   "outputs": [
    {
     "output_type": "execute_result",
     "data": {
      "text/plain": [
       "10"
      ]
     },
     "metadata": {},
     "execution_count": 17
    }
   ],
   "source": [
    "ey1 = df[df['상호명'].str.find('EDIYA') >= 0]\n",
    "len(ey1)"
   ]
  },
  {
   "cell_type": "code",
   "execution_count": 18,
   "metadata": {},
   "outputs": [
    {
     "output_type": "execute_result",
     "data": {
      "text/plain": [
       "                    상호명       지점명 상권업종중분류코드                 도로명주소          경도  \\\n",
       "24724           EDIYA커피       NaN       Q12     서울특별시 강남구 선릉로 661  127.041570   \n",
       "118360      EDIYACOFFEE       NaN       Q12     서울특별시 서초구 방배로 234  126.989903   \n",
       "136060      EDIYACOFFEE       NaN       Q12     서울특별시 강서구 양천로 583  126.864328   \n",
       "153709  EDIYACOFFEESHOP       NaN       Q12   서울특별시 종로구 필운대로1길 35  126.967501   \n",
       "224209          EDIYA카페       NaN       Q12      서울특별시 강서구 송정로 70  126.809952   \n",
       "...                 ...       ...       ...                   ...         ...   \n",
       "365658            이디야커피     청룡중앙점       Q12     서울특별시 관악구 쑥고개로 80  126.945252   \n",
       "365721            이디야커피  마곡파인스퀘어점       Q12   서울특별시 강서구 마곡중앙4로 22  126.829272   \n",
       "365906            이디야커피    구의자양로점       Q12     서울특별시 광진구 자양로 251  127.089296   \n",
       "367006            이디야커피      먹골역점       Q12  서울특별시 중랑구 동일로157길 13  127.076878   \n",
       "367387            이디야커피      한티역점       Q12    서울특별시 강남구 도곡로69길 8  127.056101   \n",
       "\n",
       "               위도  \n",
       "24724   37.515581  \n",
       "118360  37.494120  \n",
       "136060  37.557106  \n",
       "153709  37.577795  \n",
       "224209  37.560949  \n",
       "...           ...  \n",
       "365658  37.479204  \n",
       "365721  37.558088  \n",
       "365906  37.548991  \n",
       "367006  37.609733  \n",
       "367387  37.497938  \n",
       "\n",
       "[470 rows x 6 columns]"
      ],
      "text/html": "<div>\n<style scoped>\n    .dataframe tbody tr th:only-of-type {\n        vertical-align: middle;\n    }\n\n    .dataframe tbody tr th {\n        vertical-align: top;\n    }\n\n    .dataframe thead th {\n        text-align: right;\n    }\n</style>\n<table border=\"1\" class=\"dataframe\">\n  <thead>\n    <tr style=\"text-align: right;\">\n      <th></th>\n      <th>상호명</th>\n      <th>지점명</th>\n      <th>상권업종중분류코드</th>\n      <th>도로명주소</th>\n      <th>경도</th>\n      <th>위도</th>\n    </tr>\n  </thead>\n  <tbody>\n    <tr>\n      <th>24724</th>\n      <td>EDIYA커피</td>\n      <td>NaN</td>\n      <td>Q12</td>\n      <td>서울특별시 강남구 선릉로 661</td>\n      <td>127.041570</td>\n      <td>37.515581</td>\n    </tr>\n    <tr>\n      <th>118360</th>\n      <td>EDIYACOFFEE</td>\n      <td>NaN</td>\n      <td>Q12</td>\n      <td>서울특별시 서초구 방배로 234</td>\n      <td>126.989903</td>\n      <td>37.494120</td>\n    </tr>\n    <tr>\n      <th>136060</th>\n      <td>EDIYACOFFEE</td>\n      <td>NaN</td>\n      <td>Q12</td>\n      <td>서울특별시 강서구 양천로 583</td>\n      <td>126.864328</td>\n      <td>37.557106</td>\n    </tr>\n    <tr>\n      <th>153709</th>\n      <td>EDIYACOFFEESHOP</td>\n      <td>NaN</td>\n      <td>Q12</td>\n      <td>서울특별시 종로구 필운대로1길 35</td>\n      <td>126.967501</td>\n      <td>37.577795</td>\n    </tr>\n    <tr>\n      <th>224209</th>\n      <td>EDIYA카페</td>\n      <td>NaN</td>\n      <td>Q12</td>\n      <td>서울특별시 강서구 송정로 70</td>\n      <td>126.809952</td>\n      <td>37.560949</td>\n    </tr>\n    <tr>\n      <th>...</th>\n      <td>...</td>\n      <td>...</td>\n      <td>...</td>\n      <td>...</td>\n      <td>...</td>\n      <td>...</td>\n    </tr>\n    <tr>\n      <th>365658</th>\n      <td>이디야커피</td>\n      <td>청룡중앙점</td>\n      <td>Q12</td>\n      <td>서울특별시 관악구 쑥고개로 80</td>\n      <td>126.945252</td>\n      <td>37.479204</td>\n    </tr>\n    <tr>\n      <th>365721</th>\n      <td>이디야커피</td>\n      <td>마곡파인스퀘어점</td>\n      <td>Q12</td>\n      <td>서울특별시 강서구 마곡중앙4로 22</td>\n      <td>126.829272</td>\n      <td>37.558088</td>\n    </tr>\n    <tr>\n      <th>365906</th>\n      <td>이디야커피</td>\n      <td>구의자양로점</td>\n      <td>Q12</td>\n      <td>서울특별시 광진구 자양로 251</td>\n      <td>127.089296</td>\n      <td>37.548991</td>\n    </tr>\n    <tr>\n      <th>367006</th>\n      <td>이디야커피</td>\n      <td>먹골역점</td>\n      <td>Q12</td>\n      <td>서울특별시 중랑구 동일로157길 13</td>\n      <td>127.076878</td>\n      <td>37.609733</td>\n    </tr>\n    <tr>\n      <th>367387</th>\n      <td>이디야커피</td>\n      <td>한티역점</td>\n      <td>Q12</td>\n      <td>서울특별시 강남구 도곡로69길 8</td>\n      <td>127.056101</td>\n      <td>37.497938</td>\n    </tr>\n  </tbody>\n</table>\n<p>470 rows × 6 columns</p>\n</div>"
     },
     "metadata": {},
     "execution_count": 18
    }
   ],
   "source": [
    "ey = pd.concat([ey1,ey2])\n",
    "ey"
   ]
  },
  {
   "cell_type": "code",
   "execution_count": 19,
   "metadata": {},
   "outputs": [
    {
     "output_type": "execute_result",
     "data": {
      "text/plain": [
       "                   상호명  지점명 상권업종중분류코드                  도로명주소          경도  \\\n",
       "67488   빽다방PAIKSCOFFEE  NaN       Q12    서울특별시 마포구 마포대로4길 16  126.946484   \n",
       "125496     PAIKSCOFFEE  NaN       Q12  서울특별시 송파구 올림픽로35길 104  127.099289   \n",
       "\n",
       "               위도  \n",
       "67488   37.538757  \n",
       "125496  37.519810  "
      ],
      "text/html": "<div>\n<style scoped>\n    .dataframe tbody tr th:only-of-type {\n        vertical-align: middle;\n    }\n\n    .dataframe tbody tr th {\n        vertical-align: top;\n    }\n\n    .dataframe thead th {\n        text-align: right;\n    }\n</style>\n<table border=\"1\" class=\"dataframe\">\n  <thead>\n    <tr style=\"text-align: right;\">\n      <th></th>\n      <th>상호명</th>\n      <th>지점명</th>\n      <th>상권업종중분류코드</th>\n      <th>도로명주소</th>\n      <th>경도</th>\n      <th>위도</th>\n    </tr>\n  </thead>\n  <tbody>\n    <tr>\n      <th>67488</th>\n      <td>빽다방PAIKSCOFFEE</td>\n      <td>NaN</td>\n      <td>Q12</td>\n      <td>서울특별시 마포구 마포대로4길 16</td>\n      <td>126.946484</td>\n      <td>37.538757</td>\n    </tr>\n    <tr>\n      <th>125496</th>\n      <td>PAIKSCOFFEE</td>\n      <td>NaN</td>\n      <td>Q12</td>\n      <td>서울특별시 송파구 올림픽로35길 104</td>\n      <td>127.099289</td>\n      <td>37.519810</td>\n    </tr>\n  </tbody>\n</table>\n</div>"
     },
     "metadata": {},
     "execution_count": 19
    }
   ],
   "source": [
    "bd1 = df[df['상호명'].str.find('PAIKS') >= 0]\n",
    "bd1"
   ]
  },
  {
   "cell_type": "code",
   "execution_count": 20,
   "metadata": {},
   "outputs": [
    {
     "output_type": "execute_result",
     "data": {
      "text/plain": [
       "             상호명       지점명 상권업종중분류코드                  도로명주소          경도  \\\n",
       "7002       빽다방커피       NaN       Q12  서울특별시 서초구 서초중앙로22길 25  127.015447   \n",
       "20760   빽다방둔촌동역점     둔촌동역점       Q12    서울특별시 강동구 양재대로 1339  127.134989   \n",
       "21928        빽다방  명동중앙우체국점       Q12     서울특별시 중구 남대문로 58-1  126.981851   \n",
       "23443    빽다방명일역점      명일역점       Q12     서울특별시 강동구 구천면로 418  127.145015   \n",
       "24494        빽다방   구로로제리움점       Q12    서울특별시 구로구 가마산로26길 5  126.890981   \n",
       "...          ...       ...       ...                    ...         ...   \n",
       "360099       빽다방    마포경찰서점       Q12     서울특별시 마포구 마포대로 179  126.954798   \n",
       "364839       빽다방    돈암아리랑점       Q12      서울특별시 성북구 아리랑로 75  127.013607   \n",
       "365696       빽다방      암사역점       Q12     서울특별시 강동구 올림픽로 770  127.127640   \n",
       "365849       빽다방      개봉역점       Q12   서울특별시 구로구 남부순환로97길 3  126.858239   \n",
       "365974       빽다방      강변역점       Q12    서울특별시 광진구 강변역로4길 10  127.093388   \n",
       "\n",
       "               위도  \n",
       "7002    37.493461  \n",
       "20760   37.525943  \n",
       "21928   37.562422  \n",
       "23443   37.550507  \n",
       "24494   37.496080  \n",
       "...           ...  \n",
       "360099  37.550328  \n",
       "364839  37.598823  \n",
       "365696  37.549776  \n",
       "365849  37.493984  \n",
       "365974  37.535344  \n",
       "\n",
       "[117 rows x 6 columns]"
      ],
      "text/html": "<div>\n<style scoped>\n    .dataframe tbody tr th:only-of-type {\n        vertical-align: middle;\n    }\n\n    .dataframe tbody tr th {\n        vertical-align: top;\n    }\n\n    .dataframe thead th {\n        text-align: right;\n    }\n</style>\n<table border=\"1\" class=\"dataframe\">\n  <thead>\n    <tr style=\"text-align: right;\">\n      <th></th>\n      <th>상호명</th>\n      <th>지점명</th>\n      <th>상권업종중분류코드</th>\n      <th>도로명주소</th>\n      <th>경도</th>\n      <th>위도</th>\n    </tr>\n  </thead>\n  <tbody>\n    <tr>\n      <th>7002</th>\n      <td>빽다방커피</td>\n      <td>NaN</td>\n      <td>Q12</td>\n      <td>서울특별시 서초구 서초중앙로22길 25</td>\n      <td>127.015447</td>\n      <td>37.493461</td>\n    </tr>\n    <tr>\n      <th>20760</th>\n      <td>빽다방둔촌동역점</td>\n      <td>둔촌동역점</td>\n      <td>Q12</td>\n      <td>서울특별시 강동구 양재대로 1339</td>\n      <td>127.134989</td>\n      <td>37.525943</td>\n    </tr>\n    <tr>\n      <th>21928</th>\n      <td>빽다방</td>\n      <td>명동중앙우체국점</td>\n      <td>Q12</td>\n      <td>서울특별시 중구 남대문로 58-1</td>\n      <td>126.981851</td>\n      <td>37.562422</td>\n    </tr>\n    <tr>\n      <th>23443</th>\n      <td>빽다방명일역점</td>\n      <td>명일역점</td>\n      <td>Q12</td>\n      <td>서울특별시 강동구 구천면로 418</td>\n      <td>127.145015</td>\n      <td>37.550507</td>\n    </tr>\n    <tr>\n      <th>24494</th>\n      <td>빽다방</td>\n      <td>구로로제리움점</td>\n      <td>Q12</td>\n      <td>서울특별시 구로구 가마산로26길 5</td>\n      <td>126.890981</td>\n      <td>37.496080</td>\n    </tr>\n    <tr>\n      <th>...</th>\n      <td>...</td>\n      <td>...</td>\n      <td>...</td>\n      <td>...</td>\n      <td>...</td>\n      <td>...</td>\n    </tr>\n    <tr>\n      <th>360099</th>\n      <td>빽다방</td>\n      <td>마포경찰서점</td>\n      <td>Q12</td>\n      <td>서울특별시 마포구 마포대로 179</td>\n      <td>126.954798</td>\n      <td>37.550328</td>\n    </tr>\n    <tr>\n      <th>364839</th>\n      <td>빽다방</td>\n      <td>돈암아리랑점</td>\n      <td>Q12</td>\n      <td>서울특별시 성북구 아리랑로 75</td>\n      <td>127.013607</td>\n      <td>37.598823</td>\n    </tr>\n    <tr>\n      <th>365696</th>\n      <td>빽다방</td>\n      <td>암사역점</td>\n      <td>Q12</td>\n      <td>서울특별시 강동구 올림픽로 770</td>\n      <td>127.127640</td>\n      <td>37.549776</td>\n    </tr>\n    <tr>\n      <th>365849</th>\n      <td>빽다방</td>\n      <td>개봉역점</td>\n      <td>Q12</td>\n      <td>서울특별시 구로구 남부순환로97길 3</td>\n      <td>126.858239</td>\n      <td>37.493984</td>\n    </tr>\n    <tr>\n      <th>365974</th>\n      <td>빽다방</td>\n      <td>강변역점</td>\n      <td>Q12</td>\n      <td>서울특별시 광진구 강변역로4길 10</td>\n      <td>127.093388</td>\n      <td>37.535344</td>\n    </tr>\n  </tbody>\n</table>\n<p>117 rows × 6 columns</p>\n</div>"
     },
     "metadata": {},
     "execution_count": 20
    }
   ],
   "source": [
    "bd2 = df[df['상호명'].str.find('빽다방') >= 0] \n",
    "bd2"
   ]
  },
  {
   "cell_type": "code",
   "execution_count": 21,
   "metadata": {},
   "outputs": [
    {
     "output_type": "execute_result",
     "data": {
      "text/plain": [
       "                   상호명       지점명 상권업종중분류코드                  도로명주소          경도  \\\n",
       "67488   빽다방PAIKSCOFFEE       NaN       Q12    서울특별시 마포구 마포대로4길 16  126.946484   \n",
       "125496     PAIKSCOFFEE       NaN       Q12  서울특별시 송파구 올림픽로35길 104  127.099289   \n",
       "7002             빽다방커피       NaN       Q12  서울특별시 서초구 서초중앙로22길 25  127.015447   \n",
       "20760         빽다방둔촌동역점     둔촌동역점       Q12    서울특별시 강동구 양재대로 1339  127.134989   \n",
       "21928              빽다방  명동중앙우체국점       Q12     서울특별시 중구 남대문로 58-1  126.981851   \n",
       "...                ...       ...       ...                    ...         ...   \n",
       "360099             빽다방    마포경찰서점       Q12     서울특별시 마포구 마포대로 179  126.954798   \n",
       "364839             빽다방    돈암아리랑점       Q12      서울특별시 성북구 아리랑로 75  127.013607   \n",
       "365696             빽다방      암사역점       Q12     서울특별시 강동구 올림픽로 770  127.127640   \n",
       "365849             빽다방      개봉역점       Q12   서울특별시 구로구 남부순환로97길 3  126.858239   \n",
       "365974             빽다방      강변역점       Q12    서울특별시 광진구 강변역로4길 10  127.093388   \n",
       "\n",
       "               위도  \n",
       "67488   37.538757  \n",
       "125496  37.519810  \n",
       "7002    37.493461  \n",
       "20760   37.525943  \n",
       "21928   37.562422  \n",
       "...           ...  \n",
       "360099  37.550328  \n",
       "364839  37.598823  \n",
       "365696  37.549776  \n",
       "365849  37.493984  \n",
       "365974  37.535344  \n",
       "\n",
       "[119 rows x 6 columns]"
      ],
      "text/html": "<div>\n<style scoped>\n    .dataframe tbody tr th:only-of-type {\n        vertical-align: middle;\n    }\n\n    .dataframe tbody tr th {\n        vertical-align: top;\n    }\n\n    .dataframe thead th {\n        text-align: right;\n    }\n</style>\n<table border=\"1\" class=\"dataframe\">\n  <thead>\n    <tr style=\"text-align: right;\">\n      <th></th>\n      <th>상호명</th>\n      <th>지점명</th>\n      <th>상권업종중분류코드</th>\n      <th>도로명주소</th>\n      <th>경도</th>\n      <th>위도</th>\n    </tr>\n  </thead>\n  <tbody>\n    <tr>\n      <th>67488</th>\n      <td>빽다방PAIKSCOFFEE</td>\n      <td>NaN</td>\n      <td>Q12</td>\n      <td>서울특별시 마포구 마포대로4길 16</td>\n      <td>126.946484</td>\n      <td>37.538757</td>\n    </tr>\n    <tr>\n      <th>125496</th>\n      <td>PAIKSCOFFEE</td>\n      <td>NaN</td>\n      <td>Q12</td>\n      <td>서울특별시 송파구 올림픽로35길 104</td>\n      <td>127.099289</td>\n      <td>37.519810</td>\n    </tr>\n    <tr>\n      <th>7002</th>\n      <td>빽다방커피</td>\n      <td>NaN</td>\n      <td>Q12</td>\n      <td>서울특별시 서초구 서초중앙로22길 25</td>\n      <td>127.015447</td>\n      <td>37.493461</td>\n    </tr>\n    <tr>\n      <th>20760</th>\n      <td>빽다방둔촌동역점</td>\n      <td>둔촌동역점</td>\n      <td>Q12</td>\n      <td>서울특별시 강동구 양재대로 1339</td>\n      <td>127.134989</td>\n      <td>37.525943</td>\n    </tr>\n    <tr>\n      <th>21928</th>\n      <td>빽다방</td>\n      <td>명동중앙우체국점</td>\n      <td>Q12</td>\n      <td>서울특별시 중구 남대문로 58-1</td>\n      <td>126.981851</td>\n      <td>37.562422</td>\n    </tr>\n    <tr>\n      <th>...</th>\n      <td>...</td>\n      <td>...</td>\n      <td>...</td>\n      <td>...</td>\n      <td>...</td>\n      <td>...</td>\n    </tr>\n    <tr>\n      <th>360099</th>\n      <td>빽다방</td>\n      <td>마포경찰서점</td>\n      <td>Q12</td>\n      <td>서울특별시 마포구 마포대로 179</td>\n      <td>126.954798</td>\n      <td>37.550328</td>\n    </tr>\n    <tr>\n      <th>364839</th>\n      <td>빽다방</td>\n      <td>돈암아리랑점</td>\n      <td>Q12</td>\n      <td>서울특별시 성북구 아리랑로 75</td>\n      <td>127.013607</td>\n      <td>37.598823</td>\n    </tr>\n    <tr>\n      <th>365696</th>\n      <td>빽다방</td>\n      <td>암사역점</td>\n      <td>Q12</td>\n      <td>서울특별시 강동구 올림픽로 770</td>\n      <td>127.127640</td>\n      <td>37.549776</td>\n    </tr>\n    <tr>\n      <th>365849</th>\n      <td>빽다방</td>\n      <td>개봉역점</td>\n      <td>Q12</td>\n      <td>서울특별시 구로구 남부순환로97길 3</td>\n      <td>126.858239</td>\n      <td>37.493984</td>\n    </tr>\n    <tr>\n      <th>365974</th>\n      <td>빽다방</td>\n      <td>강변역점</td>\n      <td>Q12</td>\n      <td>서울특별시 광진구 강변역로4길 10</td>\n      <td>127.093388</td>\n      <td>37.535344</td>\n    </tr>\n  </tbody>\n</table>\n<p>119 rows × 6 columns</p>\n</div>"
     },
     "metadata": {},
     "execution_count": 21
    }
   ],
   "source": [
    "bd = pd.concat([bd1,bd2])\n",
    "bd"
   ]
  },
  {
   "cell_type": "code",
   "execution_count": 22,
   "metadata": {},
   "outputs": [
    {
     "output_type": "execute_result",
     "data": {
      "text/plain": [
       "(544, 232, 470, 119)"
      ]
     },
     "metadata": {},
     "execution_count": 22
    }
   ],
   "source": [
    "len(sb),len(cb),len(ey),len(bd)"
   ]
  },
  {
   "cell_type": "code",
   "execution_count": 23,
   "metadata": {},
   "outputs": [
    {
     "output_type": "execute_result",
     "data": {
      "text/plain": [
       "1.3174872665534805"
      ]
     },
     "metadata": {},
     "execution_count": 23
    }
   ],
   "source": [
    "#비율 알아보기.\n",
    "(len(sb)+len(cb))  / (len(ey)+len(bd))"
   ]
  },
  {
   "cell_type": "code",
   "execution_count": 24,
   "metadata": {},
   "outputs": [],
   "source": [
    "df.to_csv('./data/result/coffee_서울.csv')"
   ]
  },
  {
   "cell_type": "code",
   "execution_count": 25,
   "metadata": {},
   "outputs": [
    {
     "output_type": "execute_result",
     "data": {
      "text/plain": [
       "                   상호명     지점명 상권업종중분류코드                 도로명주소          경도  \\\n",
       "635               스타벅스    이태원점       Q12    서울특별시 용산구 이태원로 188  126.994781   \n",
       "1272         스타벅스종로3가점   종로3가점       Q12    서울특별시 종로구 종로 113-1  126.990207   \n",
       "1712              스타벅스    신사2점       Q12    서울특별시 서초구 강남대로 581  127.019763   \n",
       "8936    스타벅스커피여의도IFC1F     NaN       Q12   서울특별시 영등포구 국제금융로 10  126.924863   \n",
       "8945              스타벅스    삼성역점       Q12  서울특별시 강남구 테헤란로103길 9  127.063878   \n",
       "...                ...     ...       ...                   ...         ...   \n",
       "360099             빽다방  마포경찰서점       Q12    서울특별시 마포구 마포대로 179  126.954798   \n",
       "364839             빽다방  돈암아리랑점       Q12     서울특별시 성북구 아리랑로 75  127.013607   \n",
       "365696             빽다방    암사역점       Q12    서울특별시 강동구 올림픽로 770  127.127640   \n",
       "365849             빽다방    개봉역점       Q12  서울특별시 구로구 남부순환로97길 3  126.858239   \n",
       "365974             빽다방    강변역점       Q12   서울특별시 광진구 강변역로4길 10  127.093388   \n",
       "\n",
       "               위도  \n",
       "635     37.534303  \n",
       "1272    37.570585  \n",
       "1712    37.513663  \n",
       "8936    37.525172  \n",
       "8945    37.510038  \n",
       "...           ...  \n",
       "360099  37.550328  \n",
       "364839  37.598823  \n",
       "365696  37.549776  \n",
       "365849  37.493984  \n",
       "365974  37.535344  \n",
       "\n",
       "[1365 rows x 6 columns]"
      ],
      "text/html": "<div>\n<style scoped>\n    .dataframe tbody tr th:only-of-type {\n        vertical-align: middle;\n    }\n\n    .dataframe tbody tr th {\n        vertical-align: top;\n    }\n\n    .dataframe thead th {\n        text-align: right;\n    }\n</style>\n<table border=\"1\" class=\"dataframe\">\n  <thead>\n    <tr style=\"text-align: right;\">\n      <th></th>\n      <th>상호명</th>\n      <th>지점명</th>\n      <th>상권업종중분류코드</th>\n      <th>도로명주소</th>\n      <th>경도</th>\n      <th>위도</th>\n    </tr>\n  </thead>\n  <tbody>\n    <tr>\n      <th>635</th>\n      <td>스타벅스</td>\n      <td>이태원점</td>\n      <td>Q12</td>\n      <td>서울특별시 용산구 이태원로 188</td>\n      <td>126.994781</td>\n      <td>37.534303</td>\n    </tr>\n    <tr>\n      <th>1272</th>\n      <td>스타벅스종로3가점</td>\n      <td>종로3가점</td>\n      <td>Q12</td>\n      <td>서울특별시 종로구 종로 113-1</td>\n      <td>126.990207</td>\n      <td>37.570585</td>\n    </tr>\n    <tr>\n      <th>1712</th>\n      <td>스타벅스</td>\n      <td>신사2점</td>\n      <td>Q12</td>\n      <td>서울특별시 서초구 강남대로 581</td>\n      <td>127.019763</td>\n      <td>37.513663</td>\n    </tr>\n    <tr>\n      <th>8936</th>\n      <td>스타벅스커피여의도IFC1F</td>\n      <td>NaN</td>\n      <td>Q12</td>\n      <td>서울특별시 영등포구 국제금융로 10</td>\n      <td>126.924863</td>\n      <td>37.525172</td>\n    </tr>\n    <tr>\n      <th>8945</th>\n      <td>스타벅스</td>\n      <td>삼성역점</td>\n      <td>Q12</td>\n      <td>서울특별시 강남구 테헤란로103길 9</td>\n      <td>127.063878</td>\n      <td>37.510038</td>\n    </tr>\n    <tr>\n      <th>...</th>\n      <td>...</td>\n      <td>...</td>\n      <td>...</td>\n      <td>...</td>\n      <td>...</td>\n      <td>...</td>\n    </tr>\n    <tr>\n      <th>360099</th>\n      <td>빽다방</td>\n      <td>마포경찰서점</td>\n      <td>Q12</td>\n      <td>서울특별시 마포구 마포대로 179</td>\n      <td>126.954798</td>\n      <td>37.550328</td>\n    </tr>\n    <tr>\n      <th>364839</th>\n      <td>빽다방</td>\n      <td>돈암아리랑점</td>\n      <td>Q12</td>\n      <td>서울특별시 성북구 아리랑로 75</td>\n      <td>127.013607</td>\n      <td>37.598823</td>\n    </tr>\n    <tr>\n      <th>365696</th>\n      <td>빽다방</td>\n      <td>암사역점</td>\n      <td>Q12</td>\n      <td>서울특별시 강동구 올림픽로 770</td>\n      <td>127.127640</td>\n      <td>37.549776</td>\n    </tr>\n    <tr>\n      <th>365849</th>\n      <td>빽다방</td>\n      <td>개봉역점</td>\n      <td>Q12</td>\n      <td>서울특별시 구로구 남부순환로97길 3</td>\n      <td>126.858239</td>\n      <td>37.493984</td>\n    </tr>\n    <tr>\n      <th>365974</th>\n      <td>빽다방</td>\n      <td>강변역점</td>\n      <td>Q12</td>\n      <td>서울특별시 광진구 강변역로4길 10</td>\n      <td>127.093388</td>\n      <td>37.535344</td>\n    </tr>\n  </tbody>\n</table>\n<p>1365 rows × 6 columns</p>\n</div>"
     },
     "metadata": {},
     "execution_count": 25
    }
   ],
   "source": [
    "df1 = pd.concat([sb,cb,ey,bd])\n",
    "df1"
   ]
  },
  {
   "cell_type": "code",
   "execution_count": 26,
   "metadata": {},
   "outputs": [
    {
     "output_type": "execute_result",
     "data": {
      "text/plain": [
       "                 상호명    지점명 상권업종중분류코드                 도로명주소          경도  \\\n",
       "635             스타벅스   이태원점       Q12    서울특별시 용산구 이태원로 188  126.994781   \n",
       "1272       스타벅스종로3가점  종로3가점       Q12    서울특별시 종로구 종로 113-1  126.990207   \n",
       "1712            스타벅스   신사2점       Q12    서울특별시 서초구 강남대로 581  127.019763   \n",
       "8936  스타벅스커피여의도IFC1F    NaN       Q12   서울특별시 영등포구 국제금융로 10  126.924863   \n",
       "8945            스타벅스   삼성역점       Q12  서울특별시 강남구 테헤란로103길 9  127.063878   \n",
       "\n",
       "             위도      시     구  \n",
       "635   37.534303  서울특별시   용산구  \n",
       "1272  37.570585  서울특별시   종로구  \n",
       "1712  37.513663  서울특별시   서초구  \n",
       "8936  37.525172  서울특별시  영등포구  \n",
       "8945  37.510038  서울특별시   강남구  "
      ],
      "text/html": "<div>\n<style scoped>\n    .dataframe tbody tr th:only-of-type {\n        vertical-align: middle;\n    }\n\n    .dataframe tbody tr th {\n        vertical-align: top;\n    }\n\n    .dataframe thead th {\n        text-align: right;\n    }\n</style>\n<table border=\"1\" class=\"dataframe\">\n  <thead>\n    <tr style=\"text-align: right;\">\n      <th></th>\n      <th>상호명</th>\n      <th>지점명</th>\n      <th>상권업종중분류코드</th>\n      <th>도로명주소</th>\n      <th>경도</th>\n      <th>위도</th>\n      <th>시</th>\n      <th>구</th>\n    </tr>\n  </thead>\n  <tbody>\n    <tr>\n      <th>635</th>\n      <td>스타벅스</td>\n      <td>이태원점</td>\n      <td>Q12</td>\n      <td>서울특별시 용산구 이태원로 188</td>\n      <td>126.994781</td>\n      <td>37.534303</td>\n      <td>서울특별시</td>\n      <td>용산구</td>\n    </tr>\n    <tr>\n      <th>1272</th>\n      <td>스타벅스종로3가점</td>\n      <td>종로3가점</td>\n      <td>Q12</td>\n      <td>서울특별시 종로구 종로 113-1</td>\n      <td>126.990207</td>\n      <td>37.570585</td>\n      <td>서울특별시</td>\n      <td>종로구</td>\n    </tr>\n    <tr>\n      <th>1712</th>\n      <td>스타벅스</td>\n      <td>신사2점</td>\n      <td>Q12</td>\n      <td>서울특별시 서초구 강남대로 581</td>\n      <td>127.019763</td>\n      <td>37.513663</td>\n      <td>서울특별시</td>\n      <td>서초구</td>\n    </tr>\n    <tr>\n      <th>8936</th>\n      <td>스타벅스커피여의도IFC1F</td>\n      <td>NaN</td>\n      <td>Q12</td>\n      <td>서울특별시 영등포구 국제금융로 10</td>\n      <td>126.924863</td>\n      <td>37.525172</td>\n      <td>서울특별시</td>\n      <td>영등포구</td>\n    </tr>\n    <tr>\n      <th>8945</th>\n      <td>스타벅스</td>\n      <td>삼성역점</td>\n      <td>Q12</td>\n      <td>서울특별시 강남구 테헤란로103길 9</td>\n      <td>127.063878</td>\n      <td>37.510038</td>\n      <td>서울특별시</td>\n      <td>강남구</td>\n    </tr>\n  </tbody>\n</table>\n</div>"
     },
     "metadata": {},
     "execution_count": 26
    }
   ],
   "source": [
    "#시와 군구를 뽑아내기\n",
    "df1['시'] = [addr.split()[0] for addr in df1['도로명주소']]\n",
    "df1['구'] = [addr.split()[1] for addr in df1['도로명주소']]\n",
    "df1.head()"
   ]
  },
  {
   "cell_type": "code",
   "execution_count": 27,
   "metadata": {},
   "outputs": [
    {
     "output_type": "execute_result",
     "data": {
      "text/plain": [
       "array(['용산구', '종로구', '서초구', '영등포구', '강남구', '관악구', '강동구', '마포구', '강서구',\n",
       "       '송파구', '동대문구', '은평구', '서대문구', '동작구', '중구', '성북구', '광진구', '중랑구',\n",
       "       '금천구', '강북구', '노원구', '구로구', '성동구', '양천구', '도봉구'], dtype=object)"
      ]
     },
     "metadata": {},
     "execution_count": 27
    }
   ],
   "source": [
    "df1['구'].unique()"
   ]
  },
  {
   "cell_type": "code",
   "execution_count": 28,
   "metadata": {},
   "outputs": [],
   "source": [
    "df1.to_csv('./data/result/coffee_sceb_서울.csv' )"
   ]
  },
  {
   "cell_type": "code",
   "execution_count": 29,
   "metadata": {},
   "outputs": [
    {
     "output_type": "stream",
     "name": "stdout",
     "text": [
      "./data/지역별\\소상공인시장진흥공단_상가(상권)정보_강원_202009.csv\n",
      "./data/지역별\\소상공인시장진흥공단_상가(상권)정보_경기_202009.csv\n",
      "./data/지역별\\소상공인시장진흥공단_상가(상권)정보_경남_202009.csv\n",
      "./data/지역별\\소상공인시장진흥공단_상가(상권)정보_경북_202009.csv\n",
      "./data/지역별\\소상공인시장진흥공단_상가(상권)정보_광주_202009.csv\n",
      "./data/지역별\\소상공인시장진흥공단_상가(상권)정보_대구_202009.csv\n",
      "./data/지역별\\소상공인시장진흥공단_상가(상권)정보_대전_202009.csv\n",
      "./data/지역별\\소상공인시장진흥공단_상가(상권)정보_부산_202009.csv\n",
      "./data/지역별\\소상공인시장진흥공단_상가(상권)정보_서울_202009.csv\n",
      "./data/지역별\\소상공인시장진흥공단_상가(상권)정보_세종_202009.csv\n",
      "./data/지역별\\소상공인시장진흥공단_상가(상권)정보_울산_202009.csv\n",
      "./data/지역별\\소상공인시장진흥공단_상가(상권)정보_인천_202009.csv\n",
      "./data/지역별\\소상공인시장진흥공단_상가(상권)정보_전남_202009.csv\n",
      "./data/지역별\\소상공인시장진흥공단_상가(상권)정보_전북_202009.csv\n",
      "./data/지역별\\소상공인시장진흥공단_상가(상권)정보_제주_202009.csv\n",
      "./data/지역별\\소상공인시장진흥공단_상가(상권)정보_충남_202009.csv\n",
      "./data/지역별\\소상공인시장진흥공단_상가(상권)정보_충북_202009.csv\n"
     ]
    }
   ],
   "source": [
    "#모든파일에 대해서 정보 뽑아내고 하나의 데이터파일로 만들기\n",
    "from glob import glob\n",
    "coffee_files = glob('./data/지역별/*.csv')\n",
    "coff_sceb_raw = []\n",
    "\n",
    "for coffee_file in coffee_files:\n",
    "    df = pd.read_csv(coffee_file, sep='|')[['상호명','지점명','상권업종중분류코드','도로명주소','경도','위도']]\n",
    "    print(coffee_file)\n",
    "    df = df[df['상권업종중분류코드'] == 'Q12']\n",
    "\n",
    "    sb1 = df[df['상호명'].str.find('스타벅스') >= 0]\n",
    "    sb2 = df[df['상호명'].str.find('STARB') >= 0]\n",
    "    sb = pd.concat([sb1,sb2])\n",
    "    cb1 = df[df['상호명'].str.find('커피빈') >= 0] \n",
    "    cb2 = df[df['상호명'].str.find('COFFEEBEAN') >= 0]\n",
    "    cb = pd.concat([cb1,cb2])\n",
    "    ey1 = df[df['상호명'].str.find('이디야') >= 0]\n",
    "    ey2 = df[df['상호명'].str.find('EDIYA') >= 0]\n",
    "    ey = pd.concat([ey1,ey2])\n",
    "    bd1 = df[df['상호명'].str.find('빽다방') >= 0]\n",
    "    bd2 = df[df['상호명'].str.find('PAIKS') >= 0]\n",
    "    bd = pd.concat([bd1,bd2])\n",
    "    coff_sceb = pd.concat([sb,cb,ey,bd])\n",
    "    coff_sceb['시'] = [addr.split()[0] for addr in coff_sceb['도로명주소']]\n",
    "    coff_sceb['구'] = [addr.split()[1] for addr in coff_sceb['도로명주소']]\n",
    "\n",
    "    coff_sceb_raw.append(coff_sceb)\n",
    "    coff_sceb_tatal = pd.concat(coff_sceb_raw)"
   ]
  },
  {
   "cell_type": "code",
   "execution_count": 30,
   "metadata": {},
   "outputs": [
    {
     "output_type": "execute_result",
     "data": {
      "text/plain": [
       "        상호명        지점명 상권업종중분류코드                        도로명주소          경도  \\\n",
       "2643   스타벅스        NaN       Q12            강원도 원주시 금불1길 28-5  127.931032   \n",
       "11726  스타벅스    오션월드2호점       Q12          강원도 홍천군 서면 한치골길 262  127.687273   \n",
       "19518  스타벅스  대명델피노리조트점       Q12       강원도 고성군 토성면 미시령옛길 1153  128.493408   \n",
       "21516  스타벅스        강대점       Q12          강원도 춘천시 서부대성로 243-1  127.745087   \n",
       "29650  스타벅스     속초중앙로점       Q12              강원도 속초시 중앙로 123  128.589463   \n",
       "...     ...        ...       ...                          ...         ...   \n",
       "84319   빽다방    청주분평중앙점       Q12   충청북도 청주시 서원구 1순환로1107번길 20  127.489878   \n",
       "86768   빽다방    청주율량중앙점       Q12         충청북도 청주시 청원구 율량로 104  127.497259   \n",
       "93773   빽다방    청주지웰시티점       Q12          충청북도 청주시 흥덕구 대농로 39  127.426909   \n",
       "96166   빽다방    청주금천광장점       Q12      충청북도 청주시 상당구 산성로98번길 35  127.505733   \n",
       "96451   빽다방      청주오송점       Q12  충청북도 청주시 흥덕구 오송읍 오송생명5로 179  127.330310   \n",
       "\n",
       "              위도     시    구  \n",
       "2643   37.348466   강원도  원주시  \n",
       "11726  37.652324   강원도  홍천군  \n",
       "19518  38.213128   강원도  고성군  \n",
       "21516  37.872760   강원도  춘천시  \n",
       "29650  38.202621   강원도  속초시  \n",
       "...          ...   ...  ...  \n",
       "84319  36.607255  충청북도  청주시  \n",
       "86768  36.672011  충청북도  청주시  \n",
       "93773  36.642332  충청북도  청주시  \n",
       "96166  36.631051  충청북도  청주시  \n",
       "96451  36.630536  충청북도  청주시  \n",
       "\n",
       "[4648 rows x 8 columns]"
      ],
      "text/html": "<div>\n<style scoped>\n    .dataframe tbody tr th:only-of-type {\n        vertical-align: middle;\n    }\n\n    .dataframe tbody tr th {\n        vertical-align: top;\n    }\n\n    .dataframe thead th {\n        text-align: right;\n    }\n</style>\n<table border=\"1\" class=\"dataframe\">\n  <thead>\n    <tr style=\"text-align: right;\">\n      <th></th>\n      <th>상호명</th>\n      <th>지점명</th>\n      <th>상권업종중분류코드</th>\n      <th>도로명주소</th>\n      <th>경도</th>\n      <th>위도</th>\n      <th>시</th>\n      <th>구</th>\n    </tr>\n  </thead>\n  <tbody>\n    <tr>\n      <th>2643</th>\n      <td>스타벅스</td>\n      <td>NaN</td>\n      <td>Q12</td>\n      <td>강원도 원주시 금불1길 28-5</td>\n      <td>127.931032</td>\n      <td>37.348466</td>\n      <td>강원도</td>\n      <td>원주시</td>\n    </tr>\n    <tr>\n      <th>11726</th>\n      <td>스타벅스</td>\n      <td>오션월드2호점</td>\n      <td>Q12</td>\n      <td>강원도 홍천군 서면 한치골길 262</td>\n      <td>127.687273</td>\n      <td>37.652324</td>\n      <td>강원도</td>\n      <td>홍천군</td>\n    </tr>\n    <tr>\n      <th>19518</th>\n      <td>스타벅스</td>\n      <td>대명델피노리조트점</td>\n      <td>Q12</td>\n      <td>강원도 고성군 토성면 미시령옛길 1153</td>\n      <td>128.493408</td>\n      <td>38.213128</td>\n      <td>강원도</td>\n      <td>고성군</td>\n    </tr>\n    <tr>\n      <th>21516</th>\n      <td>스타벅스</td>\n      <td>강대점</td>\n      <td>Q12</td>\n      <td>강원도 춘천시 서부대성로 243-1</td>\n      <td>127.745087</td>\n      <td>37.872760</td>\n      <td>강원도</td>\n      <td>춘천시</td>\n    </tr>\n    <tr>\n      <th>29650</th>\n      <td>스타벅스</td>\n      <td>속초중앙로점</td>\n      <td>Q12</td>\n      <td>강원도 속초시 중앙로 123</td>\n      <td>128.589463</td>\n      <td>38.202621</td>\n      <td>강원도</td>\n      <td>속초시</td>\n    </tr>\n    <tr>\n      <th>...</th>\n      <td>...</td>\n      <td>...</td>\n      <td>...</td>\n      <td>...</td>\n      <td>...</td>\n      <td>...</td>\n      <td>...</td>\n      <td>...</td>\n    </tr>\n    <tr>\n      <th>84319</th>\n      <td>빽다방</td>\n      <td>청주분평중앙점</td>\n      <td>Q12</td>\n      <td>충청북도 청주시 서원구 1순환로1107번길 20</td>\n      <td>127.489878</td>\n      <td>36.607255</td>\n      <td>충청북도</td>\n      <td>청주시</td>\n    </tr>\n    <tr>\n      <th>86768</th>\n      <td>빽다방</td>\n      <td>청주율량중앙점</td>\n      <td>Q12</td>\n      <td>충청북도 청주시 청원구 율량로 104</td>\n      <td>127.497259</td>\n      <td>36.672011</td>\n      <td>충청북도</td>\n      <td>청주시</td>\n    </tr>\n    <tr>\n      <th>93773</th>\n      <td>빽다방</td>\n      <td>청주지웰시티점</td>\n      <td>Q12</td>\n      <td>충청북도 청주시 흥덕구 대농로 39</td>\n      <td>127.426909</td>\n      <td>36.642332</td>\n      <td>충청북도</td>\n      <td>청주시</td>\n    </tr>\n    <tr>\n      <th>96166</th>\n      <td>빽다방</td>\n      <td>청주금천광장점</td>\n      <td>Q12</td>\n      <td>충청북도 청주시 상당구 산성로98번길 35</td>\n      <td>127.505733</td>\n      <td>36.631051</td>\n      <td>충청북도</td>\n      <td>청주시</td>\n    </tr>\n    <tr>\n      <th>96451</th>\n      <td>빽다방</td>\n      <td>청주오송점</td>\n      <td>Q12</td>\n      <td>충청북도 청주시 흥덕구 오송읍 오송생명5로 179</td>\n      <td>127.330310</td>\n      <td>36.630536</td>\n      <td>충청북도</td>\n      <td>청주시</td>\n    </tr>\n  </tbody>\n</table>\n<p>4648 rows × 8 columns</p>\n</div>"
     },
     "metadata": {},
     "execution_count": 30
    }
   ],
   "source": [
    "coff_sceb_tatal"
   ]
  },
  {
   "cell_type": "code",
   "execution_count": 31,
   "metadata": {},
   "outputs": [
    {
     "output_type": "execute_result",
     "data": {
      "text/plain": [
       "array(['강원도', '경기도', '경상남도', '경상북도', '광주광역시', '대구광역시', '대전광역시', '부산광역시',\n",
       "       '서울특별시', '세종특별자치시', '울산광역시', '인천광역시', '전라남도', '전라북도', '제주특별자치도',\n",
       "       '충청남도', '충청북도'], dtype=object)"
      ]
     },
     "metadata": {},
     "execution_count": 31
    }
   ],
   "source": [
    "coff_sceb_tatal['시'].unique()"
   ]
  },
  {
   "cell_type": "code",
   "execution_count": 32,
   "metadata": {},
   "outputs": [
    {
     "output_type": "execute_result",
     "data": {
      "text/plain": [
       "array(['원주시', '홍천군', '고성군', '춘천시', '속초시', '강릉시', '삼척시', '태백시', '인제군',\n",
       "       '평창군', '동해시', '철원군', '정선군', '양구군', '화천군', '양양군', '횡성군', '수원시',\n",
       "       '김포시', '고양시', '성남시', '안양시', '구리시', '광주시', '용인시', '오산시', '광명시',\n",
       "       '군포시', '부천시', '시흥시', '양주시', '이천시', '화성시', '안산시', '하남시', '파주시',\n",
       "       '남양주시', '의정부시', '평택시', '동두천시', '안성시', '포천시', '여주시', '과천시', '양평군',\n",
       "       '의왕시', '연천군', '가평군', '진주시', '김해시', '양산시', '사천시', '거제시', '창원시',\n",
       "       '통영시', '하동군', '창녕군', '산청군', '함양군', '밀양시', '함안군', '거창군', '남해군',\n",
       "       '합천군', '경주시', '경산시', '구미시', '포항시', '안동시', '문경시', '청도군', '칠곡군',\n",
       "       '영양군', '영덕군', '고령군', '김천시', '상주시', '울진군', '영주시', '성주군', '봉화군',\n",
       "       '청송군', '영천시', '예천군', '동구', '서구', '광산구', '북구', '남구', '수성구', '달서구',\n",
       "       '중구', '달성군', '유성구', '대덕구', '해운대구', '수영구', '동래구', '부산진구', '사하구',\n",
       "       '연제구', '금정구', '기장군', '사상구', '강서구', '영도구', '용산구', '종로구', '서초구',\n",
       "       '영등포구', '강남구', '관악구', '강동구', '마포구', '송파구', '동대문구', '은평구', '서대문구',\n",
       "       '동작구', '성북구', '광진구', '중랑구', '금천구', '강북구', '노원구', '구로구', '성동구',\n",
       "       '양천구', '도봉구', '세종특별자치시', '울주군', '남동구', '연수구', '부평구', '계양구', '미추홀구',\n",
       "       '강화군', '옹진군', '목포시', '순천시', '나주시', '광양시', '여수시', '해남군', '영광군',\n",
       "       '진도군', '강진군', '영암군', '무안군', '완도군', '고흥군', '장성군', '곡성군', '담양군',\n",
       "       '전주시', '군산시', '익산시', '임실군', '순창군', '부안군', '완주군', '정읍시', '김제시',\n",
       "       '남원시', '고창군', '무주군', '서귀포시', '제주시', '아산시', '천안시', '공주시', '논산시',\n",
       "       '당진시', '서산시', '서천군', '예산군', '청양군', '계룡시', '보령시', '금산군', '홍성군',\n",
       "       '태안군', '부여군', '충주시', '청주시', '음성군', '제천시', '진천군', '보은군', '증평군',\n",
       "       '괴산군', '영동군', '단양군', '옥천군'], dtype=object)"
      ]
     },
     "metadata": {},
     "execution_count": 32
    }
   ],
   "source": [
    "coff_sceb_tatal['구'].unique()"
   ]
  },
  {
   "cell_type": "code",
   "execution_count": 33,
   "metadata": {},
   "outputs": [],
   "source": [
    "#지역 고유 id 만들기\n",
    "si_name = [None] * len(coff_sceb_tatal)\n",
    "tmp_gu_dict = {'수원':['장안구', '권선구', '팔달구', '영통구'],\n",
    "                '성남':['수정구','중원구','분당구'],\n",
    "                '안양':['만안구','동안구'],\n",
    "                '안산':['상록구','단원구'],\n",
    "                '고양':['덕양구','일산동구','일산서구'],\n",
    "                '용인':['처인구', '기흥구', '수지구'],\n",
    "                '청주':['상당구','서원구','흥덕구','청원구'],\n",
    "                '천안':['동남구','서북구'],\n",
    "                '전주':['완산구','덕진구'],\n",
    "                '포항':['남구', '북구'],\n",
    "                '창원':['의창구','성산구','진해구','마산합포구','마산회원구']}"
   ]
  },
  {
   "cell_type": "code",
   "execution_count": 34,
   "metadata": {},
   "outputs": [
    {
     "output_type": "execute_result",
     "data": {
      "text/plain": [
       "dict_items([('수원', ['장안구', '권선구', '팔달구', '영통구']), ('성남', ['수정구', '중원구', '분당구']), ('안양', ['만안구', '동안구']), ('안산', ['상록구', '단원구']), ('고양', ['덕양구', '일산동구', '일산서구']), ('용인', ['처인구', '기흥구', '수지구']), ('청주', ['상당구', '서원구', '흥덕구', '청원구']), ('천안', ['동남구', '서북구']), ('전주', ['완산구', '덕진구']), ('포항', ['남구', '북구']), ('창원', ['의창구', '성산구', '진해구', '마산합포구', '마산회원구'])])"
      ]
     },
     "metadata": {},
     "execution_count": 34
    }
   ],
   "source": [
    "tmp_gu_dict.items()"
   ]
  },
  {
   "cell_type": "code",
   "execution_count": 35,
   "metadata": {},
   "outputs": [
    {
     "output_type": "execute_result",
     "data": {
      "text/plain": [
       "\"metro_list = ['서울', '부산', '대구', '인천', '대전', '광주', '울산']\\ncoff_sceb_tatal.reset_index(inplace=True)\\n\\nfor i in coff_sceb_tatal.index:\\n    if coff_sceb_tatal['시'][i] in metro_list:\\n        if len(coff_sceb_tatal['구'][i]) == 2:\\n            si_name[i] = coff_sceb_tatal['시'][i] + ' ' + coff_sceb_tatal['구'][i]\\n        else:\\n            si_name[i] = coff_sceb_tatal['시'][i] + ' ' + coff_sceb_tatal['구'][i][:-1]\\n    else:\\n        if coff_sceb_tatal['구'][i][:-1] == '고성':\\n            if coff_sceb_tatal['시'][i] == '강원':\\n                si_name[i] = '고성(강원)'\\n            else:\\n                si_name[i] = '고성(경남)'\\n        else:\\n            si_name[i] = coff_sceb_tatal['구'][i][:-1]\\n\\n        for key, values in tmp_gu_dict.items():\\n            if coff_sceb_tatal['구'][i] in values:\\n                if len(coff_sceb_tatal['구'][i]) == 2:\\n                    si_name[i] = key + ' ' + coff_sceb_tatal['구'][i]\\n                elif pop['구'][i] in ['마산합포구', '마산회원구']:\\n                    si_name[i] = key + ' ' + coff_sceb_tatal['구'][i][2:-1]\\n                else:\\n                    si_name[i] = key + ' ' + coff_sceb_tatal['구'][i][:-1]\""
      ]
     },
     "metadata": {},
     "execution_count": 35
    }
   ],
   "source": [
    "'''metro_list = ['서울', '부산', '대구', '인천', '대전', '광주', '울산']\n",
    "coff_sceb_tatal.reset_index(inplace=True)\n",
    "\n",
    "for i in coff_sceb_tatal.index:\n",
    "    if coff_sceb_tatal['시'][i] in metro_list:\n",
    "        if len(coff_sceb_tatal['구'][i]) == 2:\n",
    "            si_name[i] = coff_sceb_tatal['시'][i] + ' ' + coff_sceb_tatal['구'][i]\n",
    "        else:\n",
    "            si_name[i] = coff_sceb_tatal['시'][i] + ' ' + coff_sceb_tatal['구'][i][:-1]\n",
    "    else:\n",
    "        if coff_sceb_tatal['구'][i][:-1] == '고성':\n",
    "            if coff_sceb_tatal['시'][i] == '강원':\n",
    "                si_name[i] = '고성(강원)'\n",
    "            else:\n",
    "                si_name[i] = '고성(경남)'\n",
    "        else:\n",
    "            si_name[i] = coff_sceb_tatal['구'][i][:-1]\n",
    "\n",
    "        for key, values in tmp_gu_dict.items():\n",
    "            if coff_sceb_tatal['구'][i] in values:\n",
    "                if len(coff_sceb_tatal['구'][i]) == 2:\n",
    "                    si_name[i] = key + ' ' + coff_sceb_tatal['구'][i]\n",
    "                elif pop['구'][i] in ['마산합포구', '마산회원구']:\n",
    "                    si_name[i] = key + ' ' + coff_sceb_tatal['구'][i][2:-1]\n",
    "                else:\n",
    "                    si_name[i] = key + ' ' + coff_sceb_tatal['구'][i][:-1]'''"
   ]
  },
  {
   "cell_type": "code",
   "execution_count": 36,
   "metadata": {
    "tags": []
   },
   "outputs": [],
   "source": [
    "#coff_sceb_tatal['ID'] = si_name"
   ]
  },
  {
   "cell_type": "code",
   "execution_count": 37,
   "metadata": {},
   "outputs": [
    {
     "output_type": "error",
     "ename": "IndexError",
     "evalue": "list assignment index out of range",
     "traceback": [
      "\u001b[1;31m---------------------------------------------------------------------------\u001b[0m",
      "\u001b[1;31mIndexError\u001b[0m                                Traceback (most recent call last)",
      "\u001b[1;32m<ipython-input-37-e43cce21bbcd>\u001b[0m in \u001b[0;36m<module>\u001b[1;34m\u001b[0m\n\u001b[0;32m      6\u001b[0m             \u001b[0msi_name\u001b[0m\u001b[1;33m[\u001b[0m\u001b[0mn\u001b[0m\u001b[1;33m]\u001b[0m \u001b[1;33m=\u001b[0m \u001b[1;34m'고성(경남)'\u001b[0m\u001b[1;33m\u001b[0m\u001b[1;33m\u001b[0m\u001b[0m\n\u001b[0;32m      7\u001b[0m         \u001b[1;32melse\u001b[0m\u001b[1;33m:\u001b[0m\u001b[1;33m\u001b[0m\u001b[1;33m\u001b[0m\u001b[0m\n\u001b[1;32m----> 8\u001b[1;33m             \u001b[0msi_name\u001b[0m\u001b[1;33m[\u001b[0m\u001b[0mn\u001b[0m\u001b[1;33m]\u001b[0m \u001b[1;33m=\u001b[0m \u001b[0mcoff_sceb_tatal\u001b[0m\u001b[1;33m[\u001b[0m\u001b[1;34m'구'\u001b[0m\u001b[1;33m]\u001b[0m\u001b[1;33m[\u001b[0m\u001b[0mn\u001b[0m\u001b[1;33m]\u001b[0m\u001b[1;33m[\u001b[0m\u001b[1;33m:\u001b[0m\u001b[1;33m-\u001b[0m\u001b[1;36m1\u001b[0m\u001b[1;33m]\u001b[0m\u001b[1;33m\u001b[0m\u001b[1;33m\u001b[0m\u001b[0m\n\u001b[0m\u001b[0;32m      9\u001b[0m \u001b[1;33m\u001b[0m\u001b[0m\n\u001b[0;32m     10\u001b[0m         \u001b[1;32mfor\u001b[0m \u001b[0mkeys\u001b[0m\u001b[1;33m,\u001b[0m \u001b[0mvalues\u001b[0m \u001b[1;32min\u001b[0m \u001b[0mtmp_gu_dict\u001b[0m\u001b[1;33m.\u001b[0m\u001b[0mitems\u001b[0m\u001b[1;33m(\u001b[0m\u001b[1;33m)\u001b[0m\u001b[1;33m:\u001b[0m\u001b[1;33m\u001b[0m\u001b[1;33m\u001b[0m\u001b[0m\n",
      "\u001b[1;31mIndexError\u001b[0m: list assignment index out of range"
     ]
    }
   ],
   "source": [
    "for n in coff_sceb_tatal.index:\n",
    "    if coff_sceb_tatal['시'][n] not in ['서울', '광주', '대구', '대전', '부산', '세종','제주', '울산', '인천']:\n",
    "        if coff_sceb_tatal['구'][n][:-1] == ' 고성' and coff_sceb_tatal['시'][n] == '강원':\n",
    "            si_name[n] = '고성(강원)'\n",
    "        elif coff_sceb_tatal['구'][n][:-1]== ' 고성' and coff_sceb_tatal['시'][n] == '경남':\n",
    "            si_name[n] = '고성(경남)'\n",
    "        else:\n",
    "            si_name[n] = coff_sceb_tatal['구'][n][:-1]\n",
    "\n",
    "        for keys, values in tmp_gu_dict.items():\n",
    "            if coff_sceb_tatal['구'][n] in values:\n",
    "                if len(coff_sceb_tatal['구'][n]) == 2:\n",
    "                    si_name[n] = keys +' ' +coff_sceb_tatal['구'][n]\n",
    "                elif coff_sceb_tatal['구'][n] in ['마산합포구','마산회원구']:\n",
    "                    si_name[n] = keys + ' ' + coff_sceb_tatal['구'][n][2:-1]\n",
    "                else:\n",
    "                   si_name[n] = keys +' ' + coff_sceb_tatal['구'][n][:-1]\n",
    "    elif coff_sceb_tatal['시'][n] == '세종':\n",
    "        si_name[n] = '세종'\n",
    "    elif coff_sceb_tatal['시'][n] == '제주':\n",
    "        si_name[n] = '제주'\n",
    "    else:\n",
    "        if len(coff_sceb_tatal['구'][n]) == 3:\n",
    "            si_name[n] = coff_sceb_tatal['시'][n][:2] +  coff_sceb_tatal['구'][n]\n",
    "        else:\n",
    "            si_name[n] = coff_sceb_tatal['시'][n][:2] +  coff_sceb_tatal['구'][n][:-1]"
   ]
  },
  {
   "cell_type": "code",
   "execution_count": 353,
   "metadata": {},
   "outputs": [
    {
     "output_type": "execute_result",
     "data": {
      "text/plain": [
       "['원주',\n",
       " '홍천',\n",
       " '고성',\n",
       " '춘천',\n",
       " '속초',\n",
       " '강릉',\n",
       " '춘천',\n",
       " '고성',\n",
       " '원주',\n",
       " '삼척',\n",
       " '태백',\n",
       " '인제',\n",
       " '춘천',\n",
       " '원주',\n",
       " '평창',\n",
       " '원주',\n",
       " '강릉',\n",
       " '강릉',\n",
       " '평창',\n",
       " '속초',\n",
       " '춘천',\n",
       " '춘천',\n",
       " '춘천',\n",
       " '원주',\n",
       " '춘천',\n",
       " '속초',\n",
       " '춘천',\n",
       " '원주',\n",
       " '원주',\n",
       " '원주',\n",
       " '속초',\n",
       " '동해',\n",
       " '원주',\n",
       " '홍천',\n",
       " '춘천',\n",
       " '강릉',\n",
       " '춘천',\n",
       " '강릉',\n",
       " '원주',\n",
       " '동해',\n",
       " '원주',\n",
       " '춘천',\n",
       " '춘천',\n",
       " '철원',\n",
       " '정선',\n",
       " '춘천',\n",
       " '춘천',\n",
       " '원주',\n",
       " '춘천',\n",
       " '원주',\n",
       " '춘천',\n",
       " '강릉',\n",
       " '양구',\n",
       " '인제',\n",
       " '춘천',\n",
       " '화천',\n",
       " '강릉',\n",
       " '강릉',\n",
       " '춘천',\n",
       " '원주',\n",
       " '철원',\n",
       " '홍천',\n",
       " '춘천',\n",
       " '춘천',\n",
       " '속초',\n",
       " '홍천',\n",
       " '인제',\n",
       " '춘천',\n",
       " '원주',\n",
       " '속초',\n",
       " '춘천',\n",
       " '속초',\n",
       " '원주',\n",
       " '춘천',\n",
       " '홍천',\n",
       " '원주',\n",
       " '춘천',\n",
       " '춘천',\n",
       " '춘천',\n",
       " '인제',\n",
       " '춘천',\n",
       " '강릉',\n",
       " '원주',\n",
       " '원주',\n",
       " '원주',\n",
       " '강릉',\n",
       " '양양',\n",
       " '양양',\n",
       " '동해',\n",
       " '춘천',\n",
       " '춘천',\n",
       " '고성',\n",
       " '삼척',\n",
       " '강릉',\n",
       " '춘천',\n",
       " '춘천',\n",
       " '춘천',\n",
       " '속초',\n",
       " '원주',\n",
       " '강릉',\n",
       " '속초',\n",
       " '춘천',\n",
       " '평창',\n",
       " '속초',\n",
       " '강릉',\n",
       " '태백',\n",
       " '춘천',\n",
       " '강릉',\n",
       " '원주',\n",
       " '횡성',\n",
       " '강릉',\n",
       " '춘천',\n",
       " '속초',\n",
       " '강릉',\n",
       " '강릉',\n",
       " '강릉',\n",
       " '강릉',\n",
       " '평창',\n",
       " '속초',\n",
       " '정선',\n",
       " '춘천',\n",
       " '원주',\n",
       " '춘천',\n",
       " '강릉',\n",
       " '삼척',\n",
       " '원주',\n",
       " '춘천',\n",
       " '원주',\n",
       " '삼척',\n",
       " '춘천',\n",
       " '강릉',\n",
       " '동해',\n",
       " '홍천',\n",
       " '원주',\n",
       " '춘천',\n",
       " '원주',\n",
       " '수원',\n",
       " '김포',\n",
       " '고양',\n",
       " '성남',\n",
       " '안양',\n",
       " '성남',\n",
       " '구리',\n",
       " '수원',\n",
       " '성남',\n",
       " '광주',\n",
       " '수원',\n",
       " '성남',\n",
       " '용인',\n",
       " '성남',\n",
       " '용인',\n",
       " '오산',\n",
       " '성남',\n",
       " '광명',\n",
       " '군포',\n",
       " '고양',\n",
       " '성남',\n",
       " '부천',\n",
       " '수원',\n",
       " '고양',\n",
       " '시흥',\n",
       " '양주',\n",
       " '안양',\n",
       " '고양',\n",
       " '김포',\n",
       " '군포',\n",
       " '안양',\n",
       " '오산',\n",
       " '성남',\n",
       " '고양',\n",
       " '수원',\n",
       " '성남',\n",
       " '수원',\n",
       " '수원',\n",
       " '용인',\n",
       " '성남',\n",
       " '용인',\n",
       " '수원',\n",
       " '고양',\n",
       " '고양',\n",
       " '이천',\n",
       " '용인',\n",
       " '성남',\n",
       " '용인',\n",
       " '성남',\n",
       " '성남',\n",
       " '성남',\n",
       " '성남',\n",
       " '성남',\n",
       " '성남',\n",
       " '화성',\n",
       " '성남',\n",
       " '수원',\n",
       " '안산',\n",
       " '하남',\n",
       " '안양',\n",
       " '성남',\n",
       " '용인',\n",
       " '이천',\n",
       " '파주',\n",
       " '이천',\n",
       " '부천',\n",
       " '안산',\n",
       " '남양주',\n",
       " '의정부',\n",
       " '고양',\n",
       " '파주',\n",
       " '구리',\n",
       " '용인',\n",
       " '안양',\n",
       " '안양',\n",
       " '성남',\n",
       " '안양',\n",
       " '성남',\n",
       " '성남',\n",
       " '용인',\n",
       " '성남',\n",
       " '성남',\n",
       " '성남',\n",
       " '평택',\n",
       " '수원',\n",
       " '고양',\n",
       " '고양',\n",
       " '성남',\n",
       " '성남',\n",
       " '성남',\n",
       " '고양',\n",
       " '고양',\n",
       " '안양',\n",
       " '수원',\n",
       " '안산',\n",
       " '동두천',\n",
       " '안성',\n",
       " '오산',\n",
       " '고양',\n",
       " '고양',\n",
       " '포천',\n",
       " '안성',\n",
       " '평택',\n",
       " '평택',\n",
       " '양주',\n",
       " '평택',\n",
       " '화성',\n",
       " '고양',\n",
       " '수원',\n",
       " '화성',\n",
       " '파주',\n",
       " '수원',\n",
       " '용인',\n",
       " '수원',\n",
       " '군포',\n",
       " '성남',\n",
       " '포천',\n",
       " '남양주',\n",
       " '고양',\n",
       " '평택',\n",
       " '안산',\n",
       " '의정부',\n",
       " '수원',\n",
       " '이천',\n",
       " '이천',\n",
       " '파주',\n",
       " '여주',\n",
       " '용인',\n",
       " '수원',\n",
       " '광명',\n",
       " '김포',\n",
       " '용인',\n",
       " '성남',\n",
       " '김포',\n",
       " '성남',\n",
       " '성남',\n",
       " '고양',\n",
       " '고양',\n",
       " '성남',\n",
       " '성남',\n",
       " '김포',\n",
       " '수원',\n",
       " '평택',\n",
       " '과천',\n",
       " '부천',\n",
       " '남양주',\n",
       " '화성',\n",
       " '고양',\n",
       " '고양',\n",
       " '고양',\n",
       " '화성',\n",
       " '안산',\n",
       " '과천',\n",
       " '성남',\n",
       " '김포',\n",
       " '성남',\n",
       " '화성',\n",
       " '부천',\n",
       " '양평',\n",
       " '용인',\n",
       " '안양',\n",
       " '고양',\n",
       " '김포',\n",
       " '고양',\n",
       " '성남',\n",
       " '고양',\n",
       " '수원',\n",
       " '화성',\n",
       " '고양',\n",
       " '동두천',\n",
       " '수원',\n",
       " '성남',\n",
       " '성남',\n",
       " '광명',\n",
       " '용인',\n",
       " '성남',\n",
       " '고양',\n",
       " '남양주',\n",
       " '하남',\n",
       " '광명',\n",
       " '용인',\n",
       " '화성',\n",
       " '의정부',\n",
       " '용인',\n",
       " '하남',\n",
       " '용인',\n",
       " '동두천',\n",
       " '안양',\n",
       " '시흥',\n",
       " '고양',\n",
       " '남양주',\n",
       " '성남',\n",
       " '의정부',\n",
       " '과천',\n",
       " '남양주',\n",
       " '수원',\n",
       " '성남',\n",
       " '고양',\n",
       " '평택',\n",
       " '고양',\n",
       " '하남',\n",
       " '광명',\n",
       " '화성',\n",
       " '광명',\n",
       " '남양주',\n",
       " '고양',\n",
       " '고양',\n",
       " '성남',\n",
       " '고양',\n",
       " '고양',\n",
       " '고양',\n",
       " '고양',\n",
       " '안양',\n",
       " '광주',\n",
       " '의정부',\n",
       " '수원',\n",
       " '의정부',\n",
       " '김포',\n",
       " '이천',\n",
       " '고양',\n",
       " '성남',\n",
       " '안양',\n",
       " '이천',\n",
       " '포천',\n",
       " '고양',\n",
       " '의정부',\n",
       " '시흥',\n",
       " '안양',\n",
       " '수원',\n",
       " '김포',\n",
       " '수원',\n",
       " '고양',\n",
       " '포천',\n",
       " '고양',\n",
       " '수원',\n",
       " '포천',\n",
       " '화성',\n",
       " '김포',\n",
       " '시흥',\n",
       " '광명',\n",
       " '성남',\n",
       " '고양',\n",
       " '양평',\n",
       " '수원',\n",
       " '성남',\n",
       " '화성',\n",
       " '양주',\n",
       " '고양',\n",
       " '용인',\n",
       " '화성',\n",
       " '의정부',\n",
       " '화성',\n",
       " '고양',\n",
       " '과천',\n",
       " '양주',\n",
       " '의정부',\n",
       " '하남',\n",
       " '수원',\n",
       " '여주',\n",
       " '군포',\n",
       " '오산',\n",
       " '광명',\n",
       " '광주',\n",
       " '안성',\n",
       " '용인',\n",
       " '수원',\n",
       " '고양',\n",
       " '수원',\n",
       " '파주',\n",
       " '광명',\n",
       " '용인',\n",
       " '수원',\n",
       " '안양',\n",
       " '구리',\n",
       " '부천',\n",
       " '용인',\n",
       " '화성',\n",
       " '수원',\n",
       " '파주',\n",
       " '용인',\n",
       " '의정부',\n",
       " '고양',\n",
       " '안양',\n",
       " '용인',\n",
       " '평택',\n",
       " '시흥',\n",
       " '성남',\n",
       " '이천',\n",
       " '용인',\n",
       " '고양',\n",
       " '고양',\n",
       " '시흥',\n",
       " '성남',\n",
       " '용인',\n",
       " '파주',\n",
       " '남양주',\n",
       " '양주',\n",
       " '성남',\n",
       " '고양',\n",
       " '오산',\n",
       " '의왕',\n",
       " '김포',\n",
       " '고양',\n",
       " '하남',\n",
       " '김포',\n",
       " '수원',\n",
       " '양평',\n",
       " '남양주',\n",
       " '남양주',\n",
       " '화성',\n",
       " '안양',\n",
       " '하남',\n",
       " '의정부',\n",
       " '성남',\n",
       " '하남',\n",
       " '광명',\n",
       " '양주',\n",
       " '동두천',\n",
       " '용인',\n",
       " '평택',\n",
       " '안양',\n",
       " '오산',\n",
       " '광주',\n",
       " '하남',\n",
       " '고양',\n",
       " '수원',\n",
       " '안양',\n",
       " '시흥',\n",
       " '수원',\n",
       " '안성',\n",
       " '시흥',\n",
       " '김포',\n",
       " '부천',\n",
       " '용인',\n",
       " '고양',\n",
       " '시흥',\n",
       " '광주',\n",
       " '고양',\n",
       " '평택',\n",
       " '하남',\n",
       " '성남',\n",
       " '양주',\n",
       " '부천',\n",
       " '남양주',\n",
       " '화성',\n",
       " '김포',\n",
       " '안성',\n",
       " '화성',\n",
       " '광명',\n",
       " '화성',\n",
       " '남양주',\n",
       " '용인',\n",
       " '수원',\n",
       " '화성',\n",
       " '의정부',\n",
       " '성남',\n",
       " '이천',\n",
       " '수원',\n",
       " '고양',\n",
       " '용인',\n",
       " '성남',\n",
       " '성남',\n",
       " '수원',\n",
       " '고양',\n",
       " '고양',\n",
       " '구리',\n",
       " '수원',\n",
       " '성남',\n",
       " '성남',\n",
       " '성남',\n",
       " '군포',\n",
       " '고양',\n",
       " '고양',\n",
       " '고양',\n",
       " '고양',\n",
       " '성남',\n",
       " '수원',\n",
       " '성남',\n",
       " '성남',\n",
       " '성남',\n",
       " '화성',\n",
       " '성남',\n",
       " '부천',\n",
       " '성남',\n",
       " '연천',\n",
       " '부천',\n",
       " '성남',\n",
       " '고양',\n",
       " '부천',\n",
       " '화성',\n",
       " '화성',\n",
       " '용인',\n",
       " '김포',\n",
       " '성남',\n",
       " '고양',\n",
       " '성남',\n",
       " '수원',\n",
       " '안양',\n",
       " '부천',\n",
       " '성남',\n",
       " '군포',\n",
       " '용인',\n",
       " '성남',\n",
       " '안양',\n",
       " '성남',\n",
       " '화성',\n",
       " '이천',\n",
       " '고양',\n",
       " '안양',\n",
       " '평택',\n",
       " '성남',\n",
       " '파주',\n",
       " '수원',\n",
       " '수원',\n",
       " '수원',\n",
       " '용인',\n",
       " '수원',\n",
       " '화성',\n",
       " '부천',\n",
       " '하남',\n",
       " '부천',\n",
       " '수원',\n",
       " '이천',\n",
       " '성남',\n",
       " '시흥',\n",
       " '남양주',\n",
       " '여주',\n",
       " '부천',\n",
       " '고양',\n",
       " '김포',\n",
       " '연천',\n",
       " '안양',\n",
       " '화성',\n",
       " '김포',\n",
       " '김포',\n",
       " '김포',\n",
       " '용인',\n",
       " '수원',\n",
       " '하남',\n",
       " '용인',\n",
       " '의정부',\n",
       " '부천',\n",
       " '안양',\n",
       " '의정부',\n",
       " '남양주',\n",
       " '안양',\n",
       " '안산',\n",
       " '시흥',\n",
       " '고양',\n",
       " '양주',\n",
       " '고양',\n",
       " '의왕',\n",
       " '군포',\n",
       " '의왕',\n",
       " '수원',\n",
       " '성남',\n",
       " '수원',\n",
       " '성남',\n",
       " '가평',\n",
       " '화성',\n",
       " '군포',\n",
       " '고양',\n",
       " '성남',\n",
       " '수원',\n",
       " '안산',\n",
       " '의정부',\n",
       " '고양',\n",
       " '구리',\n",
       " '고양',\n",
       " '남양주',\n",
       " '파주',\n",
       " '포천',\n",
       " '김포',\n",
       " '이천',\n",
       " '부천',\n",
       " '수원',\n",
       " '고양',\n",
       " '시흥',\n",
       " '용인',\n",
       " '수원',\n",
       " '고양',\n",
       " '의왕',\n",
       " '군포',\n",
       " '고양',\n",
       " '고양',\n",
       " '부천',\n",
       " '고양',\n",
       " '광명',\n",
       " '양주',\n",
       " '고양',\n",
       " '남양주',\n",
       " '부천',\n",
       " '남양주',\n",
       " '고양',\n",
       " '성남',\n",
       " '성남',\n",
       " '남양주',\n",
       " '수원',\n",
       " '성남',\n",
       " '성남',\n",
       " '남양주',\n",
       " '고양',\n",
       " '파주',\n",
       " '고양',\n",
       " '부천',\n",
       " '남양주',\n",
       " '파주',\n",
       " '시흥',\n",
       " '이천',\n",
       " '용인',\n",
       " '성남',\n",
       " '용인',\n",
       " '수원',\n",
       " '의왕',\n",
       " '고양',\n",
       " '남양주',\n",
       " '용인',\n",
       " '수원',\n",
       " '고양',\n",
       " '성남',\n",
       " '남양주',\n",
       " '오산',\n",
       " '용인',\n",
       " '수원',\n",
       " '안양',\n",
       " '파주',\n",
       " '남양주',\n",
       " '수원',\n",
       " '안산',\n",
       " '성남',\n",
       " '수원',\n",
       " '포천',\n",
       " '안산',\n",
       " '수원',\n",
       " '성남',\n",
       " '수원',\n",
       " '부천',\n",
       " '동두천',\n",
       " '여주',\n",
       " '파주',\n",
       " '남양주',\n",
       " '용인',\n",
       " '시흥',\n",
       " '안산',\n",
       " '안양',\n",
       " '수원',\n",
       " '수원',\n",
       " '부천',\n",
       " '구리',\n",
       " '안산',\n",
       " '고양',\n",
       " '이천',\n",
       " '안산',\n",
       " '하남',\n",
       " '의정부',\n",
       " '용인',\n",
       " '고양',\n",
       " '성남',\n",
       " '성남',\n",
       " '구리',\n",
       " '고양',\n",
       " '성남',\n",
       " '부천',\n",
       " '가평',\n",
       " '부천',\n",
       " '구리',\n",
       " '수원',\n",
       " '고양',\n",
       " '의정부',\n",
       " '의정부',\n",
       " '가평',\n",
       " '부천',\n",
       " '고양',\n",
       " '광주',\n",
       " '안산',\n",
       " '고양',\n",
       " '포천',\n",
       " '광명',\n",
       " '김포',\n",
       " '성남',\n",
       " '구리',\n",
       " '고양',\n",
       " '안양',\n",
       " '성남',\n",
       " '용인',\n",
       " '남양주',\n",
       " '고양',\n",
       " '이천',\n",
       " '수원',\n",
       " '김포',\n",
       " '광주',\n",
       " '부천',\n",
       " '부천',\n",
       " '남양주',\n",
       " '성남',\n",
       " '시흥',\n",
       " '의정부',\n",
       " '수원',\n",
       " '성남',\n",
       " '연천',\n",
       " '파주',\n",
       " '김포',\n",
       " '부천',\n",
       " '고양',\n",
       " '남양주',\n",
       " '파주',\n",
       " '여주',\n",
       " '성남',\n",
       " '평택',\n",
       " '수원',\n",
       " '양주',\n",
       " '안양',\n",
       " '부천',\n",
       " '의왕',\n",
       " '성남',\n",
       " '하남',\n",
       " '포천',\n",
       " '남양주',\n",
       " '파주',\n",
       " '부천',\n",
       " '남양주',\n",
       " '부천',\n",
       " '수원',\n",
       " '김포',\n",
       " '의정부',\n",
       " '용인',\n",
       " '용인',\n",
       " '부천',\n",
       " '남양주',\n",
       " '용인',\n",
       " '부천',\n",
       " '고양',\n",
       " '안양',\n",
       " '군포',\n",
       " '평택',\n",
       " '수원',\n",
       " '의정부',\n",
       " '김포',\n",
       " '파주',\n",
       " '성남',\n",
       " '수원',\n",
       " '성남',\n",
       " '안산',\n",
       " '시흥',\n",
       " '파주',\n",
       " '하남',\n",
       " '성남',\n",
       " '수원',\n",
       " '양주',\n",
       " '파주',\n",
       " '안양',\n",
       " '구리',\n",
       " '화성',\n",
       " '군포',\n",
       " '김포',\n",
       " '부천',\n",
       " '안산',\n",
       " '남양주',\n",
       " '용인',\n",
       " '김포',\n",
       " '용인',\n",
       " '양주',\n",
       " '용인',\n",
       " '남양주',\n",
       " '용인',\n",
       " '평택',\n",
       " '이천',\n",
       " '양주',\n",
       " '용인',\n",
       " '군포',\n",
       " '남양주',\n",
       " '성남',\n",
       " '성남',\n",
       " '용인',\n",
       " '용인',\n",
       " '김포',\n",
       " '포천',\n",
       " '안양',\n",
       " '화성',\n",
       " '하남',\n",
       " '부천',\n",
       " '의정부',\n",
       " '이천',\n",
       " '양주',\n",
       " '수원',\n",
       " '고양',\n",
       " '용인',\n",
       " '수원',\n",
       " '광주',\n",
       " '용인',\n",
       " '구리',\n",
       " '안산',\n",
       " '안산',\n",
       " '남양주',\n",
       " '시흥',\n",
       " '하남',\n",
       " '수원',\n",
       " '남양주',\n",
       " '오산',\n",
       " '광명',\n",
       " '수원',\n",
       " '광주',\n",
       " '하남',\n",
       " '수원',\n",
       " '양주',\n",
       " '부천',\n",
       " '파주',\n",
       " '하남',\n",
       " '성남',\n",
       " '평택',\n",
       " '안양',\n",
       " '김포',\n",
       " '화성',\n",
       " '수원',\n",
       " '시흥',\n",
       " '용인',\n",
       " '김포',\n",
       " '화성',\n",
       " '평택',\n",
       " '안산',\n",
       " '평택',\n",
       " '용인',\n",
       " '안산',\n",
       " '포천',\n",
       " '부천',\n",
       " '군포',\n",
       " '수원',\n",
       " '안산',\n",
       " '오산',\n",
       " '양평',\n",
       " '용인',\n",
       " '의정부',\n",
       " '시흥',\n",
       " '남양주',\n",
       " '성남',\n",
       " '안산',\n",
       " '고양',\n",
       " '하남',\n",
       " '안산',\n",
       " '의왕',\n",
       " '수원',\n",
       " '남양주',\n",
       " '구리',\n",
       " '화성',\n",
       " '양주',\n",
       " '화성',\n",
       " '양주',\n",
       " '시흥',\n",
       " '안양',\n",
       " '광주',\n",
       " '용인',\n",
       " '양주',\n",
       " '수원',\n",
       " '광주',\n",
       " '고양',\n",
       " '남양주',\n",
       " '구리',\n",
       " '용인',\n",
       " '동두천',\n",
       " '수원',\n",
       " '고양',\n",
       " '양평',\n",
       " '성남',\n",
       " '군포',\n",
       " '시흥',\n",
       " '하남',\n",
       " '수원',\n",
       " '용인',\n",
       " '포천',\n",
       " '성남',\n",
       " '의정부',\n",
       " '화성',\n",
       " '안양',\n",
       " '화성',\n",
       " '안양',\n",
       " '고양',\n",
       " '안양',\n",
       " '파주',\n",
       " '부천',\n",
       " '부천',\n",
       " '안산',\n",
       " '광주',\n",
       " '과천',\n",
       " '의정부',\n",
       " '용인',\n",
       " '의정부',\n",
       " '화성',\n",
       " '안양',\n",
       " '가평',\n",
       " '수원',\n",
       " '고양',\n",
       " '광명',\n",
       " '안양',\n",
       " '수원',\n",
       " '용인',\n",
       " '용인',\n",
       " '광주',\n",
       " '부천',\n",
       " '시흥',\n",
       " '여주',\n",
       " '남양주',\n",
       " '부천',\n",
       " '광주',\n",
       " '고양',\n",
       " '평택',\n",
       " '수원',\n",
       " '용인',\n",
       " '남양주',\n",
       " '시흥',\n",
       " '양주',\n",
       " '평택',\n",
       " '수원',\n",
       " '이천',\n",
       " '구리',\n",
       " '부천',\n",
       " '김포',\n",
       " '파주',\n",
       " '수원',\n",
       " '성남',\n",
       " '양평',\n",
       " '의정부',\n",
       " '안양',\n",
       " '시흥',\n",
       " '안산',\n",
       " '수원',\n",
       " '오산',\n",
       " '용인',\n",
       " '평택',\n",
       " '안산',\n",
       " '화성',\n",
       " '고양',\n",
       " '고양',\n",
       " '용인',\n",
       " '광명',\n",
       " '의정부',\n",
       " '남양주',\n",
       " '수원',\n",
       " '안산',\n",
       " '광명',\n",
       " '의정부',\n",
       " '고양',\n",
       " '안산',\n",
       " '파주',\n",
       " '오산',\n",
       " '광명',\n",
       " '양주',\n",
       " '수원',\n",
       " '안산',\n",
       " '가평',\n",
       " '광주',\n",
       " '여주',\n",
       " '양평',\n",
       " '군포',\n",
       " '화성',\n",
       " '광주',\n",
       " '안성',\n",
       " '부천',\n",
       " '남양주',\n",
       " '수원',\n",
       " '용인',\n",
       " '부천',\n",
       " '남양주',\n",
       " '양주',\n",
       " '파주',\n",
       " ...]"
      ]
     },
     "metadata": {},
     "execution_count": 353
    }
   ],
   "source": [
    "si_name"
   ]
  },
  {
   "cell_type": "code",
   "execution_count": 354,
   "metadata": {},
   "outputs": [
    {
     "output_type": "execute_result",
     "data": {
      "text/plain": [
       "       상호명        지점명 상권업종중분류코드                        도로명주소          경도  \\\n",
       "0     스타벅스        NaN       Q12            강원도 원주시 금불1길 28-5  127.931032   \n",
       "1     스타벅스    오션월드2호점       Q12          강원도 홍천군 서면 한치골길 262  127.687273   \n",
       "2     스타벅스  대명델피노리조트점       Q12       강원도 고성군 토성면 미시령옛길 1153  128.493408   \n",
       "3     스타벅스        강대점       Q12          강원도 춘천시 서부대성로 243-1  127.745087   \n",
       "4     스타벅스     속초중앙로점       Q12              강원도 속초시 중앙로 123  128.589463   \n",
       "...    ...        ...       ...                          ...         ...   \n",
       "4643   빽다방    청주분평중앙점       Q12   충청북도 청주시 서원구 1순환로1107번길 20  127.489878   \n",
       "4644   빽다방    청주율량중앙점       Q12         충청북도 청주시 청원구 율량로 104  127.497259   \n",
       "4645   빽다방    청주지웰시티점       Q12          충청북도 청주시 흥덕구 대농로 39  127.426909   \n",
       "4646   빽다방    청주금천광장점       Q12      충청북도 청주시 상당구 산성로98번길 35  127.505733   \n",
       "4647   빽다방      청주오송점       Q12  충청북도 청주시 흥덕구 오송읍 오송생명5로 179  127.330310   \n",
       "\n",
       "             위도     시    구      ID  \n",
       "0     37.348466   강원도  원주시      원주  \n",
       "1     37.652324   강원도  홍천군      홍천  \n",
       "2     38.213128   강원도  고성군  고성(경남)  \n",
       "3     37.872760   강원도  춘천시      춘천  \n",
       "4     38.202621   강원도  속초시      속초  \n",
       "...         ...   ...  ...     ...  \n",
       "4643  36.607255  충청북도  청주시      청주  \n",
       "4644  36.672011  충청북도  청주시      청주  \n",
       "4645  36.642332  충청북도  청주시      청주  \n",
       "4646  36.631051  충청북도  청주시      청주  \n",
       "4647  36.630536  충청북도  청주시      청주  \n",
       "\n",
       "[4648 rows x 9 columns]"
      ],
      "text/html": "<div>\n<style scoped>\n    .dataframe tbody tr th:only-of-type {\n        vertical-align: middle;\n    }\n\n    .dataframe tbody tr th {\n        vertical-align: top;\n    }\n\n    .dataframe thead th {\n        text-align: right;\n    }\n</style>\n<table border=\"1\" class=\"dataframe\">\n  <thead>\n    <tr style=\"text-align: right;\">\n      <th></th>\n      <th>상호명</th>\n      <th>지점명</th>\n      <th>상권업종중분류코드</th>\n      <th>도로명주소</th>\n      <th>경도</th>\n      <th>위도</th>\n      <th>시</th>\n      <th>구</th>\n      <th>ID</th>\n    </tr>\n  </thead>\n  <tbody>\n    <tr>\n      <th>0</th>\n      <td>스타벅스</td>\n      <td>NaN</td>\n      <td>Q12</td>\n      <td>강원도 원주시 금불1길 28-5</td>\n      <td>127.931032</td>\n      <td>37.348466</td>\n      <td>강원도</td>\n      <td>원주시</td>\n      <td>원주</td>\n    </tr>\n    <tr>\n      <th>1</th>\n      <td>스타벅스</td>\n      <td>오션월드2호점</td>\n      <td>Q12</td>\n      <td>강원도 홍천군 서면 한치골길 262</td>\n      <td>127.687273</td>\n      <td>37.652324</td>\n      <td>강원도</td>\n      <td>홍천군</td>\n      <td>홍천</td>\n    </tr>\n    <tr>\n      <th>2</th>\n      <td>스타벅스</td>\n      <td>대명델피노리조트점</td>\n      <td>Q12</td>\n      <td>강원도 고성군 토성면 미시령옛길 1153</td>\n      <td>128.493408</td>\n      <td>38.213128</td>\n      <td>강원도</td>\n      <td>고성군</td>\n      <td>고성(경남)</td>\n    </tr>\n    <tr>\n      <th>3</th>\n      <td>스타벅스</td>\n      <td>강대점</td>\n      <td>Q12</td>\n      <td>강원도 춘천시 서부대성로 243-1</td>\n      <td>127.745087</td>\n      <td>37.872760</td>\n      <td>강원도</td>\n      <td>춘천시</td>\n      <td>춘천</td>\n    </tr>\n    <tr>\n      <th>4</th>\n      <td>스타벅스</td>\n      <td>속초중앙로점</td>\n      <td>Q12</td>\n      <td>강원도 속초시 중앙로 123</td>\n      <td>128.589463</td>\n      <td>38.202621</td>\n      <td>강원도</td>\n      <td>속초시</td>\n      <td>속초</td>\n    </tr>\n    <tr>\n      <th>...</th>\n      <td>...</td>\n      <td>...</td>\n      <td>...</td>\n      <td>...</td>\n      <td>...</td>\n      <td>...</td>\n      <td>...</td>\n      <td>...</td>\n      <td>...</td>\n    </tr>\n    <tr>\n      <th>4643</th>\n      <td>빽다방</td>\n      <td>청주분평중앙점</td>\n      <td>Q12</td>\n      <td>충청북도 청주시 서원구 1순환로1107번길 20</td>\n      <td>127.489878</td>\n      <td>36.607255</td>\n      <td>충청북도</td>\n      <td>청주시</td>\n      <td>청주</td>\n    </tr>\n    <tr>\n      <th>4644</th>\n      <td>빽다방</td>\n      <td>청주율량중앙점</td>\n      <td>Q12</td>\n      <td>충청북도 청주시 청원구 율량로 104</td>\n      <td>127.497259</td>\n      <td>36.672011</td>\n      <td>충청북도</td>\n      <td>청주시</td>\n      <td>청주</td>\n    </tr>\n    <tr>\n      <th>4645</th>\n      <td>빽다방</td>\n      <td>청주지웰시티점</td>\n      <td>Q12</td>\n      <td>충청북도 청주시 흥덕구 대농로 39</td>\n      <td>127.426909</td>\n      <td>36.642332</td>\n      <td>충청북도</td>\n      <td>청주시</td>\n      <td>청주</td>\n    </tr>\n    <tr>\n      <th>4646</th>\n      <td>빽다방</td>\n      <td>청주금천광장점</td>\n      <td>Q12</td>\n      <td>충청북도 청주시 상당구 산성로98번길 35</td>\n      <td>127.505733</td>\n      <td>36.631051</td>\n      <td>충청북도</td>\n      <td>청주시</td>\n      <td>청주</td>\n    </tr>\n    <tr>\n      <th>4647</th>\n      <td>빽다방</td>\n      <td>청주오송점</td>\n      <td>Q12</td>\n      <td>충청북도 청주시 흥덕구 오송읍 오송생명5로 179</td>\n      <td>127.330310</td>\n      <td>36.630536</td>\n      <td>충청북도</td>\n      <td>청주시</td>\n      <td>청주</td>\n    </tr>\n  </tbody>\n</table>\n<p>4648 rows × 9 columns</p>\n</div>"
     },
     "metadata": {},
     "execution_count": 354
    }
   ],
   "source": [
    "coff_sceb_tatal"
   ]
  },
  {
   "cell_type": "code",
   "execution_count": 355,
   "metadata": {},
   "outputs": [],
   "source": [
    "coff_sceb_tatal.to_csv('./data/result/coff_sceb_total1.csv', sep=',', encoding='utf8', index=False)"
   ]
  },
  {
   "cell_type": "code",
   "execution_count": 357,
   "metadata": {},
   "outputs": [
    {
     "output_type": "error",
     "ename": "KeyError",
     "evalue": "\"['index'] not found in axis\"",
     "traceback": [
      "\u001b[1;31m---------------------------------------------------------------------------\u001b[0m",
      "\u001b[1;31mKeyError\u001b[0m                                  Traceback (most recent call last)",
      "\u001b[1;32m<ipython-input-357-bcad3456ac5e>\u001b[0m in \u001b[0;36m<module>\u001b[1;34m\u001b[0m\n\u001b[1;32m----> 1\u001b[1;33m \u001b[0mcoff_sceb_tatal\u001b[0m\u001b[1;33m.\u001b[0m\u001b[0mdrop\u001b[0m\u001b[1;33m(\u001b[0m\u001b[1;34m'index'\u001b[0m \u001b[1;33m,\u001b[0m\u001b[0maxis\u001b[0m\u001b[1;33m=\u001b[0m\u001b[1;36m1\u001b[0m\u001b[1;33m,\u001b[0m\u001b[0minplace\u001b[0m\u001b[1;33m=\u001b[0m\u001b[1;32mTrue\u001b[0m\u001b[1;33m)\u001b[0m\u001b[1;33m\u001b[0m\u001b[1;33m\u001b[0m\u001b[0m\n\u001b[0m\u001b[0;32m      2\u001b[0m \u001b[0mcoff_sceb_tatal\u001b[0m\u001b[1;33m.\u001b[0m\u001b[0mhead\u001b[0m\u001b[1;33m(\u001b[0m\u001b[1;33m)\u001b[0m\u001b[1;33m\u001b[0m\u001b[1;33m\u001b[0m\u001b[0m\n",
      "\u001b[1;32m~\\anaconda3\\lib\\site-packages\\pandas\\core\\frame.py\u001b[0m in \u001b[0;36mdrop\u001b[1;34m(self, labels, axis, index, columns, level, inplace, errors)\u001b[0m\n\u001b[0;32m   3988\u001b[0m                 \u001b[0mweight\u001b[0m  \u001b[1;36m1.0\u001b[0m     \u001b[1;36m0.8\u001b[0m\u001b[1;33m\u001b[0m\u001b[1;33m\u001b[0m\u001b[0m\n\u001b[0;32m   3989\u001b[0m         \"\"\"\n\u001b[1;32m-> 3990\u001b[1;33m         return super().drop(\n\u001b[0m\u001b[0;32m   3991\u001b[0m             \u001b[0mlabels\u001b[0m\u001b[1;33m=\u001b[0m\u001b[0mlabels\u001b[0m\u001b[1;33m,\u001b[0m\u001b[1;33m\u001b[0m\u001b[1;33m\u001b[0m\u001b[0m\n\u001b[0;32m   3992\u001b[0m             \u001b[0maxis\u001b[0m\u001b[1;33m=\u001b[0m\u001b[0maxis\u001b[0m\u001b[1;33m,\u001b[0m\u001b[1;33m\u001b[0m\u001b[1;33m\u001b[0m\u001b[0m\n",
      "\u001b[1;32m~\\anaconda3\\lib\\site-packages\\pandas\\core\\generic.py\u001b[0m in \u001b[0;36mdrop\u001b[1;34m(self, labels, axis, index, columns, level, inplace, errors)\u001b[0m\n\u001b[0;32m   3934\u001b[0m         \u001b[1;32mfor\u001b[0m \u001b[0maxis\u001b[0m\u001b[1;33m,\u001b[0m \u001b[0mlabels\u001b[0m \u001b[1;32min\u001b[0m \u001b[0maxes\u001b[0m\u001b[1;33m.\u001b[0m\u001b[0mitems\u001b[0m\u001b[1;33m(\u001b[0m\u001b[1;33m)\u001b[0m\u001b[1;33m:\u001b[0m\u001b[1;33m\u001b[0m\u001b[1;33m\u001b[0m\u001b[0m\n\u001b[0;32m   3935\u001b[0m             \u001b[1;32mif\u001b[0m \u001b[0mlabels\u001b[0m \u001b[1;32mis\u001b[0m \u001b[1;32mnot\u001b[0m \u001b[1;32mNone\u001b[0m\u001b[1;33m:\u001b[0m\u001b[1;33m\u001b[0m\u001b[1;33m\u001b[0m\u001b[0m\n\u001b[1;32m-> 3936\u001b[1;33m                 \u001b[0mobj\u001b[0m \u001b[1;33m=\u001b[0m \u001b[0mobj\u001b[0m\u001b[1;33m.\u001b[0m\u001b[0m_drop_axis\u001b[0m\u001b[1;33m(\u001b[0m\u001b[0mlabels\u001b[0m\u001b[1;33m,\u001b[0m \u001b[0maxis\u001b[0m\u001b[1;33m,\u001b[0m \u001b[0mlevel\u001b[0m\u001b[1;33m=\u001b[0m\u001b[0mlevel\u001b[0m\u001b[1;33m,\u001b[0m \u001b[0merrors\u001b[0m\u001b[1;33m=\u001b[0m\u001b[0merrors\u001b[0m\u001b[1;33m)\u001b[0m\u001b[1;33m\u001b[0m\u001b[1;33m\u001b[0m\u001b[0m\n\u001b[0m\u001b[0;32m   3937\u001b[0m \u001b[1;33m\u001b[0m\u001b[0m\n\u001b[0;32m   3938\u001b[0m         \u001b[1;32mif\u001b[0m \u001b[0minplace\u001b[0m\u001b[1;33m:\u001b[0m\u001b[1;33m\u001b[0m\u001b[1;33m\u001b[0m\u001b[0m\n",
      "\u001b[1;32m~\\anaconda3\\lib\\site-packages\\pandas\\core\\generic.py\u001b[0m in \u001b[0;36m_drop_axis\u001b[1;34m(self, labels, axis, level, errors)\u001b[0m\n\u001b[0;32m   3968\u001b[0m                 \u001b[0mnew_axis\u001b[0m \u001b[1;33m=\u001b[0m \u001b[0maxis\u001b[0m\u001b[1;33m.\u001b[0m\u001b[0mdrop\u001b[0m\u001b[1;33m(\u001b[0m\u001b[0mlabels\u001b[0m\u001b[1;33m,\u001b[0m \u001b[0mlevel\u001b[0m\u001b[1;33m=\u001b[0m\u001b[0mlevel\u001b[0m\u001b[1;33m,\u001b[0m \u001b[0merrors\u001b[0m\u001b[1;33m=\u001b[0m\u001b[0merrors\u001b[0m\u001b[1;33m)\u001b[0m\u001b[1;33m\u001b[0m\u001b[1;33m\u001b[0m\u001b[0m\n\u001b[0;32m   3969\u001b[0m             \u001b[1;32melse\u001b[0m\u001b[1;33m:\u001b[0m\u001b[1;33m\u001b[0m\u001b[1;33m\u001b[0m\u001b[0m\n\u001b[1;32m-> 3970\u001b[1;33m                 \u001b[0mnew_axis\u001b[0m \u001b[1;33m=\u001b[0m \u001b[0maxis\u001b[0m\u001b[1;33m.\u001b[0m\u001b[0mdrop\u001b[0m\u001b[1;33m(\u001b[0m\u001b[0mlabels\u001b[0m\u001b[1;33m,\u001b[0m \u001b[0merrors\u001b[0m\u001b[1;33m=\u001b[0m\u001b[0merrors\u001b[0m\u001b[1;33m)\u001b[0m\u001b[1;33m\u001b[0m\u001b[1;33m\u001b[0m\u001b[0m\n\u001b[0m\u001b[0;32m   3971\u001b[0m             \u001b[0mresult\u001b[0m \u001b[1;33m=\u001b[0m \u001b[0mself\u001b[0m\u001b[1;33m.\u001b[0m\u001b[0mreindex\u001b[0m\u001b[1;33m(\u001b[0m\u001b[1;33m**\u001b[0m\u001b[1;33m{\u001b[0m\u001b[0maxis_name\u001b[0m\u001b[1;33m:\u001b[0m \u001b[0mnew_axis\u001b[0m\u001b[1;33m}\u001b[0m\u001b[1;33m)\u001b[0m\u001b[1;33m\u001b[0m\u001b[1;33m\u001b[0m\u001b[0m\n\u001b[0;32m   3972\u001b[0m \u001b[1;33m\u001b[0m\u001b[0m\n",
      "\u001b[1;32m~\\anaconda3\\lib\\site-packages\\pandas\\core\\indexes\\base.py\u001b[0m in \u001b[0;36mdrop\u001b[1;34m(self, labels, errors)\u001b[0m\n\u001b[0;32m   5016\u001b[0m         \u001b[1;32mif\u001b[0m \u001b[0mmask\u001b[0m\u001b[1;33m.\u001b[0m\u001b[0many\u001b[0m\u001b[1;33m(\u001b[0m\u001b[1;33m)\u001b[0m\u001b[1;33m:\u001b[0m\u001b[1;33m\u001b[0m\u001b[1;33m\u001b[0m\u001b[0m\n\u001b[0;32m   5017\u001b[0m             \u001b[1;32mif\u001b[0m \u001b[0merrors\u001b[0m \u001b[1;33m!=\u001b[0m \u001b[1;34m\"ignore\"\u001b[0m\u001b[1;33m:\u001b[0m\u001b[1;33m\u001b[0m\u001b[1;33m\u001b[0m\u001b[0m\n\u001b[1;32m-> 5018\u001b[1;33m                 \u001b[1;32mraise\u001b[0m \u001b[0mKeyError\u001b[0m\u001b[1;33m(\u001b[0m\u001b[1;34mf\"{labels[mask]} not found in axis\"\u001b[0m\u001b[1;33m)\u001b[0m\u001b[1;33m\u001b[0m\u001b[1;33m\u001b[0m\u001b[0m\n\u001b[0m\u001b[0;32m   5019\u001b[0m             \u001b[0mindexer\u001b[0m \u001b[1;33m=\u001b[0m \u001b[0mindexer\u001b[0m\u001b[1;33m[\u001b[0m\u001b[1;33m~\u001b[0m\u001b[0mmask\u001b[0m\u001b[1;33m]\u001b[0m\u001b[1;33m\u001b[0m\u001b[1;33m\u001b[0m\u001b[0m\n\u001b[0;32m   5020\u001b[0m         \u001b[1;32mreturn\u001b[0m \u001b[0mself\u001b[0m\u001b[1;33m.\u001b[0m\u001b[0mdelete\u001b[0m\u001b[1;33m(\u001b[0m\u001b[0mindexer\u001b[0m\u001b[1;33m)\u001b[0m\u001b[1;33m\u001b[0m\u001b[1;33m\u001b[0m\u001b[0m\n",
      "\u001b[1;31mKeyError\u001b[0m: \"['index'] not found in axis\""
     ]
    }
   ],
   "source": [
    "coff_sceb_tatal.drop('index' ,axis=1,inplace=True)\n",
    "coff_sceb_tatal.head()"
   ]
  },
  {
   "cell_type": "code",
   "execution_count": 358,
   "metadata": {},
   "outputs": [
    {
     "output_type": "execute_result",
     "data": {
      "text/plain": [
       "                  상호명  지점명 상권업종중분류코드                     도로명주소          경도  \\\n",
       "490   STARBUCKSCOFFEE  NaN       Q12            경기도 의정부시 행복로 7  127.048140   \n",
       "491   STARBUCKSCOFFEE  NaN       Q12  경기도 성남시 분당구 판교역로192번길 14  127.111395   \n",
       "1336  STARBUCKSCOFFEE  NaN       Q12          경상남도 김해시 가야로 182  128.871703   \n",
       "2905  STARBUCKSCOFFEE  NaN       Q12        서울특별시 서초구 신반포로 176  127.002393   \n",
       "\n",
       "             위도      시     구   ID  \n",
       "490   37.739587    경기도  의정부시  의정부  \n",
       "491   37.397375    경기도   성남시   성남  \n",
       "1336  35.261544   경상남도   김해시   김해  \n",
       "2905  37.503930  서울특별시   서초구   서초  "
      ],
      "text/html": "<div>\n<style scoped>\n    .dataframe tbody tr th:only-of-type {\n        vertical-align: middle;\n    }\n\n    .dataframe tbody tr th {\n        vertical-align: top;\n    }\n\n    .dataframe thead th {\n        text-align: right;\n    }\n</style>\n<table border=\"1\" class=\"dataframe\">\n  <thead>\n    <tr style=\"text-align: right;\">\n      <th></th>\n      <th>상호명</th>\n      <th>지점명</th>\n      <th>상권업종중분류코드</th>\n      <th>도로명주소</th>\n      <th>경도</th>\n      <th>위도</th>\n      <th>시</th>\n      <th>구</th>\n      <th>ID</th>\n    </tr>\n  </thead>\n  <tbody>\n    <tr>\n      <th>490</th>\n      <td>STARBUCKSCOFFEE</td>\n      <td>NaN</td>\n      <td>Q12</td>\n      <td>경기도 의정부시 행복로 7</td>\n      <td>127.048140</td>\n      <td>37.739587</td>\n      <td>경기도</td>\n      <td>의정부시</td>\n      <td>의정부</td>\n    </tr>\n    <tr>\n      <th>491</th>\n      <td>STARBUCKSCOFFEE</td>\n      <td>NaN</td>\n      <td>Q12</td>\n      <td>경기도 성남시 분당구 판교역로192번길 14</td>\n      <td>127.111395</td>\n      <td>37.397375</td>\n      <td>경기도</td>\n      <td>성남시</td>\n      <td>성남</td>\n    </tr>\n    <tr>\n      <th>1336</th>\n      <td>STARBUCKSCOFFEE</td>\n      <td>NaN</td>\n      <td>Q12</td>\n      <td>경상남도 김해시 가야로 182</td>\n      <td>128.871703</td>\n      <td>35.261544</td>\n      <td>경상남도</td>\n      <td>김해시</td>\n      <td>김해</td>\n    </tr>\n    <tr>\n      <th>2905</th>\n      <td>STARBUCKSCOFFEE</td>\n      <td>NaN</td>\n      <td>Q12</td>\n      <td>서울특별시 서초구 신반포로 176</td>\n      <td>127.002393</td>\n      <td>37.503930</td>\n      <td>서울특별시</td>\n      <td>서초구</td>\n      <td>서초</td>\n    </tr>\n  </tbody>\n</table>\n</div>"
     },
     "metadata": {},
     "execution_count": 358
    }
   ],
   "source": [
    "#영어이름들 한글명으로 변경\n",
    "df_starbucks = coff_sceb_tatal[coff_sceb_tatal['상호명'].str.find('STARBUCKS') >= 0]\n",
    "df_starbucks"
   ]
  },
  {
   "cell_type": "code",
   "execution_count": 359,
   "metadata": {},
   "outputs": [
    {
     "output_type": "execute_result",
     "data": {
      "text/plain": [
       "       상호명  지점명 상권업종중분류코드                     도로명주소          경도         위도  \\\n",
       "490   스타벅스  NaN       Q12            경기도 의정부시 행복로 7  127.048140  37.739587   \n",
       "491   스타벅스  NaN       Q12  경기도 성남시 분당구 판교역로192번길 14  127.111395  37.397375   \n",
       "1336  스타벅스  NaN       Q12          경상남도 김해시 가야로 182  128.871703  35.261544   \n",
       "2905  스타벅스  NaN       Q12        서울특별시 서초구 신반포로 176  127.002393  37.503930   \n",
       "\n",
       "          시     구   ID  \n",
       "490     경기도  의정부시  의정부  \n",
       "491     경기도   성남시   성남  \n",
       "1336   경상남도   김해시   김해  \n",
       "2905  서울특별시   서초구   서초  "
      ],
      "text/html": "<div>\n<style scoped>\n    .dataframe tbody tr th:only-of-type {\n        vertical-align: middle;\n    }\n\n    .dataframe tbody tr th {\n        vertical-align: top;\n    }\n\n    .dataframe thead th {\n        text-align: right;\n    }\n</style>\n<table border=\"1\" class=\"dataframe\">\n  <thead>\n    <tr style=\"text-align: right;\">\n      <th></th>\n      <th>상호명</th>\n      <th>지점명</th>\n      <th>상권업종중분류코드</th>\n      <th>도로명주소</th>\n      <th>경도</th>\n      <th>위도</th>\n      <th>시</th>\n      <th>구</th>\n      <th>ID</th>\n    </tr>\n  </thead>\n  <tbody>\n    <tr>\n      <th>490</th>\n      <td>스타벅스</td>\n      <td>NaN</td>\n      <td>Q12</td>\n      <td>경기도 의정부시 행복로 7</td>\n      <td>127.048140</td>\n      <td>37.739587</td>\n      <td>경기도</td>\n      <td>의정부시</td>\n      <td>의정부</td>\n    </tr>\n    <tr>\n      <th>491</th>\n      <td>스타벅스</td>\n      <td>NaN</td>\n      <td>Q12</td>\n      <td>경기도 성남시 분당구 판교역로192번길 14</td>\n      <td>127.111395</td>\n      <td>37.397375</td>\n      <td>경기도</td>\n      <td>성남시</td>\n      <td>성남</td>\n    </tr>\n    <tr>\n      <th>1336</th>\n      <td>스타벅스</td>\n      <td>NaN</td>\n      <td>Q12</td>\n      <td>경상남도 김해시 가야로 182</td>\n      <td>128.871703</td>\n      <td>35.261544</td>\n      <td>경상남도</td>\n      <td>김해시</td>\n      <td>김해</td>\n    </tr>\n    <tr>\n      <th>2905</th>\n      <td>스타벅스</td>\n      <td>NaN</td>\n      <td>Q12</td>\n      <td>서울특별시 서초구 신반포로 176</td>\n      <td>127.002393</td>\n      <td>37.503930</td>\n      <td>서울특별시</td>\n      <td>서초구</td>\n      <td>서초</td>\n    </tr>\n  </tbody>\n</table>\n</div>"
     },
     "metadata": {},
     "execution_count": 359
    }
   ],
   "source": [
    "df_starbucks.loc[df_starbucks['상호명'] == 'STARBUCKSCOFFEE','상호명'] = '스타벅스'\n",
    "df_starbucks"
   ]
  },
  {
   "cell_type": "code",
   "execution_count": 360,
   "metadata": {},
   "outputs": [
    {
     "output_type": "execute_result",
     "data": {
      "text/plain": [
       "4"
      ]
     },
     "metadata": {},
     "execution_count": 360
    }
   ],
   "source": [
    "df_starbucks1 = coff_sceb_tatal[coff_sceb_tatal['상호명'].str.find('STARBUCKS') >= 0]\n",
    "len(df_starbucks1)"
   ]
  },
  {
   "cell_type": "code",
   "execution_count": 361,
   "metadata": {},
   "outputs": [
    {
     "output_type": "execute_result",
     "data": {
      "text/plain": [
       "Empty DataFrame\n",
       "Columns: [상호명, 지점명, 상권업종중분류코드, 도로명주소, 경도, 위도, 시, 구, ID]\n",
       "Index: []"
      ],
      "text/html": "<div>\n<style scoped>\n    .dataframe tbody tr th:only-of-type {\n        vertical-align: middle;\n    }\n\n    .dataframe tbody tr th {\n        vertical-align: top;\n    }\n\n    .dataframe thead th {\n        text-align: right;\n    }\n</style>\n<table border=\"1\" class=\"dataframe\">\n  <thead>\n    <tr style=\"text-align: right;\">\n      <th></th>\n      <th>상호명</th>\n      <th>지점명</th>\n      <th>상권업종중분류코드</th>\n      <th>도로명주소</th>\n      <th>경도</th>\n      <th>위도</th>\n      <th>시</th>\n      <th>구</th>\n      <th>ID</th>\n    </tr>\n  </thead>\n  <tbody>\n  </tbody>\n</table>\n</div>"
     },
     "metadata": {},
     "execution_count": 361
    }
   ],
   "source": [
    "df_cb =coff_sceb_tatal[coff_sceb_tatal['상호명'].str.find('COFFEEBEAN') >= 0]\n",
    "df_cb"
   ]
  },
  {
   "cell_type": "code",
   "execution_count": 362,
   "metadata": {},
   "outputs": [
    {
     "output_type": "execute_result",
     "data": {
      "text/plain": [
       "Empty DataFrame\n",
       "Columns: [상호명, 지점명, 상권업종중분류코드, 도로명주소, 경도, 위도, 시, 구, ID]\n",
       "Index: []"
      ],
      "text/html": "<div>\n<style scoped>\n    .dataframe tbody tr th:only-of-type {\n        vertical-align: middle;\n    }\n\n    .dataframe tbody tr th {\n        vertical-align: top;\n    }\n\n    .dataframe thead th {\n        text-align: right;\n    }\n</style>\n<table border=\"1\" class=\"dataframe\">\n  <thead>\n    <tr style=\"text-align: right;\">\n      <th></th>\n      <th>상호명</th>\n      <th>지점명</th>\n      <th>상권업종중분류코드</th>\n      <th>도로명주소</th>\n      <th>경도</th>\n      <th>위도</th>\n      <th>시</th>\n      <th>구</th>\n      <th>ID</th>\n    </tr>\n  </thead>\n  <tbody>\n  </tbody>\n</table>\n</div>"
     },
     "metadata": {},
     "execution_count": 362
    }
   ],
   "source": [
    "df_cb.loc[df_cb['상호명'] == 'COFFEEBEAN','상호명'] = '커피빈'\n",
    "df_cb"
   ]
  },
  {
   "cell_type": "code",
   "execution_count": 363,
   "metadata": {},
   "outputs": [],
   "source": [
    "df_ey =coff_sceb_tatal[coff_sceb_tatal['상호명'].str.find('EDIYA') >= 0]"
   ]
  },
  {
   "cell_type": "code",
   "execution_count": 396,
   "metadata": {},
   "outputs": [
    {
     "output_type": "execute_result",
     "data": {
      "text/plain": [
       "Empty DataFrame\n",
       "Columns: [상호명, 지점명, 상권업종중분류코드, 도로명주소, 경도, 위도, 시, 구, ID]\n",
       "Index: []"
      ],
      "text/html": "<div>\n<style scoped>\n    .dataframe tbody tr th:only-of-type {\n        vertical-align: middle;\n    }\n\n    .dataframe tbody tr th {\n        vertical-align: top;\n    }\n\n    .dataframe thead th {\n        text-align: right;\n    }\n</style>\n<table border=\"1\" class=\"dataframe\">\n  <thead>\n    <tr style=\"text-align: right;\">\n      <th></th>\n      <th>상호명</th>\n      <th>지점명</th>\n      <th>상권업종중분류코드</th>\n      <th>도로명주소</th>\n      <th>경도</th>\n      <th>위도</th>\n      <th>시</th>\n      <th>구</th>\n      <th>ID</th>\n    </tr>\n  </thead>\n  <tbody>\n  </tbody>\n</table>\n</div>"
     },
     "metadata": {},
     "execution_count": 396
    }
   ],
   "source": [
    "df_ey.loc[df_ey['상호명'].str.find('EDIYA') >= 0,'상호명'] = '이디야커피'\n",
    "df_ey\n"
   ]
  },
  {
   "cell_type": "code",
   "execution_count": 364,
   "metadata": {},
   "outputs": [],
   "source": [
    "#모든 데이터의 영어이름 한글로 변경\n",
    "\n",
    "coff_sceb_tatal.loc[coff_sceb_tatal['상호명'].str.find('COFFEEBEAN') >= 0,'상호명'] = '커피빈'\n",
    "coff_sceb_tatal.loc[coff_sceb_tatal['상호명'].str.find('EDIYA') >= 0,'상호명'] = '이디야커피'\n",
    "coff_sceb_tatal.loc[coff_sceb_tatal['상호명'].str.find('PAIKSCOFFEE') >= 0,'상호명'] = '빽다방'\n"
   ]
  },
  {
   "cell_type": "code",
   "execution_count": 365,
   "metadata": {},
   "outputs": [
    {
     "output_type": "execute_result",
     "data": {
      "text/plain": [
       "Empty DataFrame\n",
       "Columns: [상호명, 지점명, 상권업종중분류코드, 도로명주소, 경도, 위도, 시, 구, ID]\n",
       "Index: []"
      ],
      "text/html": "<div>\n<style scoped>\n    .dataframe tbody tr th:only-of-type {\n        vertical-align: middle;\n    }\n\n    .dataframe tbody tr th {\n        vertical-align: top;\n    }\n\n    .dataframe thead th {\n        text-align: right;\n    }\n</style>\n<table border=\"1\" class=\"dataframe\">\n  <thead>\n    <tr style=\"text-align: right;\">\n      <th></th>\n      <th>상호명</th>\n      <th>지점명</th>\n      <th>상권업종중분류코드</th>\n      <th>도로명주소</th>\n      <th>경도</th>\n      <th>위도</th>\n      <th>시</th>\n      <th>구</th>\n      <th>ID</th>\n    </tr>\n  </thead>\n  <tbody>\n  </tbody>\n</table>\n</div>"
     },
     "metadata": {},
     "execution_count": 365
    }
   ],
   "source": [
    "#누락된 것이 없는지 확인\n",
    "df_cb1 =coff_sceb_tatal[coff_sceb_tatal['상호명'].str.find('PAIKS') >= 0]\n",
    "df_cb1"
   ]
  },
  {
   "cell_type": "code",
   "execution_count": 327,
   "metadata": {},
   "outputs": [],
   "source": [
    "#브랜드명 만들기"
   ]
  },
  {
   "cell_type": "code",
   "execution_count": 366,
   "metadata": {},
   "outputs": [
    {
     "output_type": "execute_result",
     "data": {
      "text/plain": [
       "       상호명        지점명 상권업종중분류코드                   도로명주소          경도  \\\n",
       "0     스타벅스        NaN       Q12       강원도 원주시 금불1길 28-5  127.931032   \n",
       "1     스타벅스    오션월드2호점       Q12     강원도 홍천군 서면 한치골길 262  127.687273   \n",
       "2     스타벅스  대명델피노리조트점       Q12  강원도 고성군 토성면 미시령옛길 1153  128.493408   \n",
       "3     스타벅스        강대점       Q12     강원도 춘천시 서부대성로 243-1  127.745087   \n",
       "4     스타벅스     속초중앙로점       Q12         강원도 속초시 중앙로 123  128.589463   \n",
       "...    ...        ...       ...                     ...         ...   \n",
       "4565  스타벅스        NaN       Q12    충청북도 진천군 이월면 진광로 778  127.429478   \n",
       "4566  스타벅스        NaN       Q12  충청북도 보은군 보은읍 보은로 116-3  127.718158   \n",
       "4567  스타벅스    충북혁신도시점       Q12   충청북도 음성군 맹동면 원중로 1406  127.543744   \n",
       "4568  스타벅스      충북증평점       Q12     충청북도 증평군 증평읍 광장로 40  127.578928   \n",
       "4569  스타벅스     청주이마트점       Q12   충청북도 청주시 서원구 청남로 1853  127.474616   \n",
       "\n",
       "             위도     시    구      ID  브랜드명  \n",
       "0     37.348466   강원도  원주시      원주  스타벅스  \n",
       "1     37.652324   강원도  홍천군      홍천  스타벅스  \n",
       "2     38.213128   강원도  고성군  고성(경남)  스타벅스  \n",
       "3     37.872760   강원도  춘천시      춘천  스타벅스  \n",
       "4     38.202621   강원도  속초시      속초  스타벅스  \n",
       "...         ...   ...  ...     ...   ...  \n",
       "4565  36.929805  충청북도  진천군      진천  스타벅스  \n",
       "4566  36.484581  충청북도  보은군      보은  스타벅스  \n",
       "4567  36.908229  충청북도  음성군      음성  스타벅스  \n",
       "4568  36.789033  충청북도  증평군      증평  스타벅스  \n",
       "4569  36.601178  충청북도  청주시      청주  스타벅스  \n",
       "\n",
       "[1633 rows x 10 columns]"
      ],
      "text/html": "<div>\n<style scoped>\n    .dataframe tbody tr th:only-of-type {\n        vertical-align: middle;\n    }\n\n    .dataframe tbody tr th {\n        vertical-align: top;\n    }\n\n    .dataframe thead th {\n        text-align: right;\n    }\n</style>\n<table border=\"1\" class=\"dataframe\">\n  <thead>\n    <tr style=\"text-align: right;\">\n      <th></th>\n      <th>상호명</th>\n      <th>지점명</th>\n      <th>상권업종중분류코드</th>\n      <th>도로명주소</th>\n      <th>경도</th>\n      <th>위도</th>\n      <th>시</th>\n      <th>구</th>\n      <th>ID</th>\n      <th>브랜드명</th>\n    </tr>\n  </thead>\n  <tbody>\n    <tr>\n      <th>0</th>\n      <td>스타벅스</td>\n      <td>NaN</td>\n      <td>Q12</td>\n      <td>강원도 원주시 금불1길 28-5</td>\n      <td>127.931032</td>\n      <td>37.348466</td>\n      <td>강원도</td>\n      <td>원주시</td>\n      <td>원주</td>\n      <td>스타벅스</td>\n    </tr>\n    <tr>\n      <th>1</th>\n      <td>스타벅스</td>\n      <td>오션월드2호점</td>\n      <td>Q12</td>\n      <td>강원도 홍천군 서면 한치골길 262</td>\n      <td>127.687273</td>\n      <td>37.652324</td>\n      <td>강원도</td>\n      <td>홍천군</td>\n      <td>홍천</td>\n      <td>스타벅스</td>\n    </tr>\n    <tr>\n      <th>2</th>\n      <td>스타벅스</td>\n      <td>대명델피노리조트점</td>\n      <td>Q12</td>\n      <td>강원도 고성군 토성면 미시령옛길 1153</td>\n      <td>128.493408</td>\n      <td>38.213128</td>\n      <td>강원도</td>\n      <td>고성군</td>\n      <td>고성(경남)</td>\n      <td>스타벅스</td>\n    </tr>\n    <tr>\n      <th>3</th>\n      <td>스타벅스</td>\n      <td>강대점</td>\n      <td>Q12</td>\n      <td>강원도 춘천시 서부대성로 243-1</td>\n      <td>127.745087</td>\n      <td>37.872760</td>\n      <td>강원도</td>\n      <td>춘천시</td>\n      <td>춘천</td>\n      <td>스타벅스</td>\n    </tr>\n    <tr>\n      <th>4</th>\n      <td>스타벅스</td>\n      <td>속초중앙로점</td>\n      <td>Q12</td>\n      <td>강원도 속초시 중앙로 123</td>\n      <td>128.589463</td>\n      <td>38.202621</td>\n      <td>강원도</td>\n      <td>속초시</td>\n      <td>속초</td>\n      <td>스타벅스</td>\n    </tr>\n    <tr>\n      <th>...</th>\n      <td>...</td>\n      <td>...</td>\n      <td>...</td>\n      <td>...</td>\n      <td>...</td>\n      <td>...</td>\n      <td>...</td>\n      <td>...</td>\n      <td>...</td>\n      <td>...</td>\n    </tr>\n    <tr>\n      <th>4565</th>\n      <td>스타벅스</td>\n      <td>NaN</td>\n      <td>Q12</td>\n      <td>충청북도 진천군 이월면 진광로 778</td>\n      <td>127.429478</td>\n      <td>36.929805</td>\n      <td>충청북도</td>\n      <td>진천군</td>\n      <td>진천</td>\n      <td>스타벅스</td>\n    </tr>\n    <tr>\n      <th>4566</th>\n      <td>스타벅스</td>\n      <td>NaN</td>\n      <td>Q12</td>\n      <td>충청북도 보은군 보은읍 보은로 116-3</td>\n      <td>127.718158</td>\n      <td>36.484581</td>\n      <td>충청북도</td>\n      <td>보은군</td>\n      <td>보은</td>\n      <td>스타벅스</td>\n    </tr>\n    <tr>\n      <th>4567</th>\n      <td>스타벅스</td>\n      <td>충북혁신도시점</td>\n      <td>Q12</td>\n      <td>충청북도 음성군 맹동면 원중로 1406</td>\n      <td>127.543744</td>\n      <td>36.908229</td>\n      <td>충청북도</td>\n      <td>음성군</td>\n      <td>음성</td>\n      <td>스타벅스</td>\n    </tr>\n    <tr>\n      <th>4568</th>\n      <td>스타벅스</td>\n      <td>충북증평점</td>\n      <td>Q12</td>\n      <td>충청북도 증평군 증평읍 광장로 40</td>\n      <td>127.578928</td>\n      <td>36.789033</td>\n      <td>충청북도</td>\n      <td>증평군</td>\n      <td>증평</td>\n      <td>스타벅스</td>\n    </tr>\n    <tr>\n      <th>4569</th>\n      <td>스타벅스</td>\n      <td>청주이마트점</td>\n      <td>Q12</td>\n      <td>충청북도 청주시 서원구 청남로 1853</td>\n      <td>127.474616</td>\n      <td>36.601178</td>\n      <td>충청북도</td>\n      <td>청주시</td>\n      <td>청주</td>\n      <td>스타벅스</td>\n    </tr>\n  </tbody>\n</table>\n<p>1633 rows × 10 columns</p>\n</div>"
     },
     "metadata": {},
     "execution_count": 366
    }
   ],
   "source": [
    "star = coff_sceb_tatal[coff_sceb_tatal['상호명'].str.find('스타벅스') >= 0]\n",
    "star['브랜드명'] = '스타벅스'\n",
    "star"
   ]
  },
  {
   "cell_type": "code",
   "execution_count": 367,
   "metadata": {},
   "outputs": [
    {
     "output_type": "execute_result",
     "data": {
      "text/plain": [
       "    상호명        지점명 상권업종중분류코드                   도로명주소          경도         위도  \\\n",
       "0  스타벅스        NaN       Q12       강원도 원주시 금불1길 28-5  127.931032  37.348466   \n",
       "1  스타벅스    오션월드2호점       Q12     강원도 홍천군 서면 한치골길 262  127.687273  37.652324   \n",
       "2  스타벅스  대명델피노리조트점       Q12  강원도 고성군 토성면 미시령옛길 1153  128.493408  38.213128   \n",
       "3  스타벅스        강대점       Q12     강원도 춘천시 서부대성로 243-1  127.745087  37.872760   \n",
       "4  스타벅스     속초중앙로점       Q12         강원도 속초시 중앙로 123  128.589463  38.202621   \n",
       "\n",
       "     시    구      ID  브랜드명  매장갯수  \n",
       "0  강원도  원주시      원주  스타벅스     1  \n",
       "1  강원도  홍천군      홍천  스타벅스     1  \n",
       "2  강원도  고성군  고성(경남)  스타벅스     1  \n",
       "3  강원도  춘천시      춘천  스타벅스     1  \n",
       "4  강원도  속초시      속초  스타벅스     1  "
      ],
      "text/html": "<div>\n<style scoped>\n    .dataframe tbody tr th:only-of-type {\n        vertical-align: middle;\n    }\n\n    .dataframe tbody tr th {\n        vertical-align: top;\n    }\n\n    .dataframe thead th {\n        text-align: right;\n    }\n</style>\n<table border=\"1\" class=\"dataframe\">\n  <thead>\n    <tr style=\"text-align: right;\">\n      <th></th>\n      <th>상호명</th>\n      <th>지점명</th>\n      <th>상권업종중분류코드</th>\n      <th>도로명주소</th>\n      <th>경도</th>\n      <th>위도</th>\n      <th>시</th>\n      <th>구</th>\n      <th>ID</th>\n      <th>브랜드명</th>\n      <th>매장갯수</th>\n    </tr>\n  </thead>\n  <tbody>\n    <tr>\n      <th>0</th>\n      <td>스타벅스</td>\n      <td>NaN</td>\n      <td>Q12</td>\n      <td>강원도 원주시 금불1길 28-5</td>\n      <td>127.931032</td>\n      <td>37.348466</td>\n      <td>강원도</td>\n      <td>원주시</td>\n      <td>원주</td>\n      <td>스타벅스</td>\n      <td>1</td>\n    </tr>\n    <tr>\n      <th>1</th>\n      <td>스타벅스</td>\n      <td>오션월드2호점</td>\n      <td>Q12</td>\n      <td>강원도 홍천군 서면 한치골길 262</td>\n      <td>127.687273</td>\n      <td>37.652324</td>\n      <td>강원도</td>\n      <td>홍천군</td>\n      <td>홍천</td>\n      <td>스타벅스</td>\n      <td>1</td>\n    </tr>\n    <tr>\n      <th>2</th>\n      <td>스타벅스</td>\n      <td>대명델피노리조트점</td>\n      <td>Q12</td>\n      <td>강원도 고성군 토성면 미시령옛길 1153</td>\n      <td>128.493408</td>\n      <td>38.213128</td>\n      <td>강원도</td>\n      <td>고성군</td>\n      <td>고성(경남)</td>\n      <td>스타벅스</td>\n      <td>1</td>\n    </tr>\n    <tr>\n      <th>3</th>\n      <td>스타벅스</td>\n      <td>강대점</td>\n      <td>Q12</td>\n      <td>강원도 춘천시 서부대성로 243-1</td>\n      <td>127.745087</td>\n      <td>37.872760</td>\n      <td>강원도</td>\n      <td>춘천시</td>\n      <td>춘천</td>\n      <td>스타벅스</td>\n      <td>1</td>\n    </tr>\n    <tr>\n      <th>4</th>\n      <td>스타벅스</td>\n      <td>속초중앙로점</td>\n      <td>Q12</td>\n      <td>강원도 속초시 중앙로 123</td>\n      <td>128.589463</td>\n      <td>38.202621</td>\n      <td>강원도</td>\n      <td>속초시</td>\n      <td>속초</td>\n      <td>스타벅스</td>\n      <td>1</td>\n    </tr>\n  </tbody>\n</table>\n</div>"
     },
     "metadata": {},
     "execution_count": 367
    }
   ],
   "source": [
    "star['매장갯수'] =int(1)\n",
    "star.head()"
   ]
  },
  {
   "cell_type": "code",
   "execution_count": 368,
   "metadata": {},
   "outputs": [
    {
     "output_type": "execute_result",
     "data": {
      "text/plain": [
       "      상호명          지점명 상권업종중분류코드                    도로명주소          경도  \\\n",
       "39    커피빈          NaN       Q12          강원도 동해시 일출로 107  129.118963   \n",
       "40    커피빈  코리아원주AK플라자점       Q12            강원도 원주시 봉화로 1  127.927626   \n",
       "41    커피빈          곰씨네       Q12  강원도 춘천시 동내면 춘천순환로 61-15  127.751359   \n",
       "492   커피빈          NaN       Q12           경기도 이천시 남천로 93  127.447687   \n",
       "493   커피빈     코리아수원인계점       Q12      경기도 수원시 팔달구 권광로 195  127.032669   \n",
       "...   ...          ...       ...                      ...         ...   \n",
       "4570  커피빈         파비뇽점       Q12     충청북도 청주시 흥덕구 월명로 212  127.455569   \n",
       "4571  커피빈          NaN       Q12          충청북도 제천시 내제로 74  128.203104   \n",
       "4572  커피빈       코리아청주점       Q12  충청북도 청주시 상당구 상당로69번길 20  127.489295   \n",
       "4573  커피빈          NaN       Q12     충청북도 음성군 금왕읍 무극로 281  127.592804   \n",
       "4574  커피빈          NaN       Q12        충청북도 제천시 죽하로 71-3  128.224848   \n",
       "\n",
       "             위도     시    구  ID 브랜드명  매장갯수  \n",
       "39    37.552715   강원도  동해시  동해  커피빈     1  \n",
       "40    37.345679   강원도  원주시  원주  커피빈     1  \n",
       "41    37.856311   강원도  춘천시  춘천  커피빈     1  \n",
       "492   37.276730   경기도  이천시  이천  커피빈     1  \n",
       "493   37.264938   경기도  수원시  수원  커피빈     1  \n",
       "...         ...   ...  ...  ..  ...   ...  \n",
       "4570  36.653705  충청북도  청주시  청주  커피빈     1  \n",
       "4571  37.136042  충청북도  제천시  제천  커피빈     1  \n",
       "4572  36.634532  충청북도  청주시  청주  커피빈     1  \n",
       "4573  36.993018  충청북도  음성군  음성  커피빈     1  \n",
       "4574  37.158207  충청북도  제천시  제천  커피빈     1  \n",
       "\n",
       "[384 rows x 11 columns]"
      ],
      "text/html": "<div>\n<style scoped>\n    .dataframe tbody tr th:only-of-type {\n        vertical-align: middle;\n    }\n\n    .dataframe tbody tr th {\n        vertical-align: top;\n    }\n\n    .dataframe thead th {\n        text-align: right;\n    }\n</style>\n<table border=\"1\" class=\"dataframe\">\n  <thead>\n    <tr style=\"text-align: right;\">\n      <th></th>\n      <th>상호명</th>\n      <th>지점명</th>\n      <th>상권업종중분류코드</th>\n      <th>도로명주소</th>\n      <th>경도</th>\n      <th>위도</th>\n      <th>시</th>\n      <th>구</th>\n      <th>ID</th>\n      <th>브랜드명</th>\n      <th>매장갯수</th>\n    </tr>\n  </thead>\n  <tbody>\n    <tr>\n      <th>39</th>\n      <td>커피빈</td>\n      <td>NaN</td>\n      <td>Q12</td>\n      <td>강원도 동해시 일출로 107</td>\n      <td>129.118963</td>\n      <td>37.552715</td>\n      <td>강원도</td>\n      <td>동해시</td>\n      <td>동해</td>\n      <td>커피빈</td>\n      <td>1</td>\n    </tr>\n    <tr>\n      <th>40</th>\n      <td>커피빈</td>\n      <td>코리아원주AK플라자점</td>\n      <td>Q12</td>\n      <td>강원도 원주시 봉화로 1</td>\n      <td>127.927626</td>\n      <td>37.345679</td>\n      <td>강원도</td>\n      <td>원주시</td>\n      <td>원주</td>\n      <td>커피빈</td>\n      <td>1</td>\n    </tr>\n    <tr>\n      <th>41</th>\n      <td>커피빈</td>\n      <td>곰씨네</td>\n      <td>Q12</td>\n      <td>강원도 춘천시 동내면 춘천순환로 61-15</td>\n      <td>127.751359</td>\n      <td>37.856311</td>\n      <td>강원도</td>\n      <td>춘천시</td>\n      <td>춘천</td>\n      <td>커피빈</td>\n      <td>1</td>\n    </tr>\n    <tr>\n      <th>492</th>\n      <td>커피빈</td>\n      <td>NaN</td>\n      <td>Q12</td>\n      <td>경기도 이천시 남천로 93</td>\n      <td>127.447687</td>\n      <td>37.276730</td>\n      <td>경기도</td>\n      <td>이천시</td>\n      <td>이천</td>\n      <td>커피빈</td>\n      <td>1</td>\n    </tr>\n    <tr>\n      <th>493</th>\n      <td>커피빈</td>\n      <td>코리아수원인계점</td>\n      <td>Q12</td>\n      <td>경기도 수원시 팔달구 권광로 195</td>\n      <td>127.032669</td>\n      <td>37.264938</td>\n      <td>경기도</td>\n      <td>수원시</td>\n      <td>수원</td>\n      <td>커피빈</td>\n      <td>1</td>\n    </tr>\n    <tr>\n      <th>...</th>\n      <td>...</td>\n      <td>...</td>\n      <td>...</td>\n      <td>...</td>\n      <td>...</td>\n      <td>...</td>\n      <td>...</td>\n      <td>...</td>\n      <td>...</td>\n      <td>...</td>\n      <td>...</td>\n    </tr>\n    <tr>\n      <th>4570</th>\n      <td>커피빈</td>\n      <td>파비뇽점</td>\n      <td>Q12</td>\n      <td>충청북도 청주시 흥덕구 월명로 212</td>\n      <td>127.455569</td>\n      <td>36.653705</td>\n      <td>충청북도</td>\n      <td>청주시</td>\n      <td>청주</td>\n      <td>커피빈</td>\n      <td>1</td>\n    </tr>\n    <tr>\n      <th>4571</th>\n      <td>커피빈</td>\n      <td>NaN</td>\n      <td>Q12</td>\n      <td>충청북도 제천시 내제로 74</td>\n      <td>128.203104</td>\n      <td>37.136042</td>\n      <td>충청북도</td>\n      <td>제천시</td>\n      <td>제천</td>\n      <td>커피빈</td>\n      <td>1</td>\n    </tr>\n    <tr>\n      <th>4572</th>\n      <td>커피빈</td>\n      <td>코리아청주점</td>\n      <td>Q12</td>\n      <td>충청북도 청주시 상당구 상당로69번길 20</td>\n      <td>127.489295</td>\n      <td>36.634532</td>\n      <td>충청북도</td>\n      <td>청주시</td>\n      <td>청주</td>\n      <td>커피빈</td>\n      <td>1</td>\n    </tr>\n    <tr>\n      <th>4573</th>\n      <td>커피빈</td>\n      <td>NaN</td>\n      <td>Q12</td>\n      <td>충청북도 음성군 금왕읍 무극로 281</td>\n      <td>127.592804</td>\n      <td>36.993018</td>\n      <td>충청북도</td>\n      <td>음성군</td>\n      <td>음성</td>\n      <td>커피빈</td>\n      <td>1</td>\n    </tr>\n    <tr>\n      <th>4574</th>\n      <td>커피빈</td>\n      <td>NaN</td>\n      <td>Q12</td>\n      <td>충청북도 제천시 죽하로 71-3</td>\n      <td>128.224848</td>\n      <td>37.158207</td>\n      <td>충청북도</td>\n      <td>제천시</td>\n      <td>제천</td>\n      <td>커피빈</td>\n      <td>1</td>\n    </tr>\n  </tbody>\n</table>\n<p>384 rows × 11 columns</p>\n</div>"
     },
     "metadata": {},
     "execution_count": 368
    }
   ],
   "source": [
    "cbean = coff_sceb_tatal[coff_sceb_tatal['상호명'].str.find('커피빈') >= 0]\n",
    "cbean['브랜드명'] = '커피빈'\n",
    "cbean['매장갯수'] =int(1)\n",
    "cbean"
   ]
  },
  {
   "cell_type": "code",
   "execution_count": 369,
   "metadata": {},
   "outputs": [
    {
     "output_type": "execute_result",
     "data": {
      "text/plain": [
       "           상호명      지점명 상권업종중분류코드                       도로명주소          경도  \\\n",
       "42       이디야커피     우두동점       Q12              강원도 춘천시 충열로 39  127.732714   \n",
       "43       이디야커피    철원와수점       Q12   강원도 철원군 서면 와수로181번길 25-21  127.438109   \n",
       "44       이디야커피     하이원점       Q12      강원도 정선군 고한읍 하이원길 265-1  128.827807   \n",
       "45    이디야에스프레소      NaN       Q12         강원도 춘천시 시청길10번길 4-1  127.728578   \n",
       "46       이디야커피   춘천애막골점       Q12         강원도 춘천시 후석로186번길 18  127.754289   \n",
       "...        ...      ...       ...                         ...         ...   \n",
       "4632     이디야커피    청주내수점       Q12  충청북도 청주시 청원구 내수읍 내수로 609-1  127.527841   \n",
       "4633     이디야커피    충주호암점       Q12            충청북도 충주시 사천개로 40  127.934475   \n",
       "4634     이디야커피  충북진천대교점       Q12        충청북도 진천군 진천읍 백사천길 47  127.444743   \n",
       "4635     이디야커피    제천고명점       Q12            충청북도 제천시 고명로 6-8  128.224285   \n",
       "4636     이디야커피    충북괴산점       Q12        충청북도 괴산군 괴산읍 읍내로 293  127.794483   \n",
       "\n",
       "             위도     시    구  ID 브랜드명  매장갯수  \n",
       "42    37.899493   강원도  춘천시  춘천  이디야     1  \n",
       "43    38.239147   강원도  철원군  철원  이디야     1  \n",
       "44    37.209488   강원도  정선군  정선  이디야     1  \n",
       "45    37.880075   강원도  춘천시  춘천  이디야     1  \n",
       "46    37.867310   강원도  춘천시  춘천  이디야     1  \n",
       "...         ...   ...  ...  ..  ...   ...  \n",
       "4632  36.718675  충청북도  청주시  청주  이디야     1  \n",
       "4633  36.956173  충청북도  충주시  충주  이디야     1  \n",
       "4634  36.860379  충청북도  진천군  진천  이디야     1  \n",
       "4635  37.123892  충청북도  제천시  제천  이디야     1  \n",
       "4636  36.809391  충청북도  괴산군  괴산  이디야     1  \n",
       "\n",
       "[2128 rows x 11 columns]"
      ],
      "text/html": "<div>\n<style scoped>\n    .dataframe tbody tr th:only-of-type {\n        vertical-align: middle;\n    }\n\n    .dataframe tbody tr th {\n        vertical-align: top;\n    }\n\n    .dataframe thead th {\n        text-align: right;\n    }\n</style>\n<table border=\"1\" class=\"dataframe\">\n  <thead>\n    <tr style=\"text-align: right;\">\n      <th></th>\n      <th>상호명</th>\n      <th>지점명</th>\n      <th>상권업종중분류코드</th>\n      <th>도로명주소</th>\n      <th>경도</th>\n      <th>위도</th>\n      <th>시</th>\n      <th>구</th>\n      <th>ID</th>\n      <th>브랜드명</th>\n      <th>매장갯수</th>\n    </tr>\n  </thead>\n  <tbody>\n    <tr>\n      <th>42</th>\n      <td>이디야커피</td>\n      <td>우두동점</td>\n      <td>Q12</td>\n      <td>강원도 춘천시 충열로 39</td>\n      <td>127.732714</td>\n      <td>37.899493</td>\n      <td>강원도</td>\n      <td>춘천시</td>\n      <td>춘천</td>\n      <td>이디야</td>\n      <td>1</td>\n    </tr>\n    <tr>\n      <th>43</th>\n      <td>이디야커피</td>\n      <td>철원와수점</td>\n      <td>Q12</td>\n      <td>강원도 철원군 서면 와수로181번길 25-21</td>\n      <td>127.438109</td>\n      <td>38.239147</td>\n      <td>강원도</td>\n      <td>철원군</td>\n      <td>철원</td>\n      <td>이디야</td>\n      <td>1</td>\n    </tr>\n    <tr>\n      <th>44</th>\n      <td>이디야커피</td>\n      <td>하이원점</td>\n      <td>Q12</td>\n      <td>강원도 정선군 고한읍 하이원길 265-1</td>\n      <td>128.827807</td>\n      <td>37.209488</td>\n      <td>강원도</td>\n      <td>정선군</td>\n      <td>정선</td>\n      <td>이디야</td>\n      <td>1</td>\n    </tr>\n    <tr>\n      <th>45</th>\n      <td>이디야에스프레소</td>\n      <td>NaN</td>\n      <td>Q12</td>\n      <td>강원도 춘천시 시청길10번길 4-1</td>\n      <td>127.728578</td>\n      <td>37.880075</td>\n      <td>강원도</td>\n      <td>춘천시</td>\n      <td>춘천</td>\n      <td>이디야</td>\n      <td>1</td>\n    </tr>\n    <tr>\n      <th>46</th>\n      <td>이디야커피</td>\n      <td>춘천애막골점</td>\n      <td>Q12</td>\n      <td>강원도 춘천시 후석로186번길 18</td>\n      <td>127.754289</td>\n      <td>37.867310</td>\n      <td>강원도</td>\n      <td>춘천시</td>\n      <td>춘천</td>\n      <td>이디야</td>\n      <td>1</td>\n    </tr>\n    <tr>\n      <th>...</th>\n      <td>...</td>\n      <td>...</td>\n      <td>...</td>\n      <td>...</td>\n      <td>...</td>\n      <td>...</td>\n      <td>...</td>\n      <td>...</td>\n      <td>...</td>\n      <td>...</td>\n      <td>...</td>\n    </tr>\n    <tr>\n      <th>4632</th>\n      <td>이디야커피</td>\n      <td>청주내수점</td>\n      <td>Q12</td>\n      <td>충청북도 청주시 청원구 내수읍 내수로 609-1</td>\n      <td>127.527841</td>\n      <td>36.718675</td>\n      <td>충청북도</td>\n      <td>청주시</td>\n      <td>청주</td>\n      <td>이디야</td>\n      <td>1</td>\n    </tr>\n    <tr>\n      <th>4633</th>\n      <td>이디야커피</td>\n      <td>충주호암점</td>\n      <td>Q12</td>\n      <td>충청북도 충주시 사천개로 40</td>\n      <td>127.934475</td>\n      <td>36.956173</td>\n      <td>충청북도</td>\n      <td>충주시</td>\n      <td>충주</td>\n      <td>이디야</td>\n      <td>1</td>\n    </tr>\n    <tr>\n      <th>4634</th>\n      <td>이디야커피</td>\n      <td>충북진천대교점</td>\n      <td>Q12</td>\n      <td>충청북도 진천군 진천읍 백사천길 47</td>\n      <td>127.444743</td>\n      <td>36.860379</td>\n      <td>충청북도</td>\n      <td>진천군</td>\n      <td>진천</td>\n      <td>이디야</td>\n      <td>1</td>\n    </tr>\n    <tr>\n      <th>4635</th>\n      <td>이디야커피</td>\n      <td>제천고명점</td>\n      <td>Q12</td>\n      <td>충청북도 제천시 고명로 6-8</td>\n      <td>128.224285</td>\n      <td>37.123892</td>\n      <td>충청북도</td>\n      <td>제천시</td>\n      <td>제천</td>\n      <td>이디야</td>\n      <td>1</td>\n    </tr>\n    <tr>\n      <th>4636</th>\n      <td>이디야커피</td>\n      <td>충북괴산점</td>\n      <td>Q12</td>\n      <td>충청북도 괴산군 괴산읍 읍내로 293</td>\n      <td>127.794483</td>\n      <td>36.809391</td>\n      <td>충청북도</td>\n      <td>괴산군</td>\n      <td>괴산</td>\n      <td>이디야</td>\n      <td>1</td>\n    </tr>\n  </tbody>\n</table>\n<p>2128 rows × 11 columns</p>\n</div>"
     },
     "metadata": {},
     "execution_count": 369
    }
   ],
   "source": [
    "ediya = coff_sceb_tatal[coff_sceb_tatal['상호명'].str.find('이디야') >= 0]\n",
    "ediya['브랜드명'] = '이디야'\n",
    "ediya['매장갯수'] =int(1)\n",
    "ediya"
   ]
  },
  {
   "cell_type": "code",
   "execution_count": 370,
   "metadata": {},
   "outputs": [
    {
     "output_type": "execute_result",
     "data": {
      "text/plain": [
       "      상호명       지점명 상권업종중분류코드                        도로명주소          경도  \\\n",
       "121   빽다방       NaN       Q12           강원도 원주시 무실로12번길 33  127.947781   \n",
       "122   빽다방  춘천석사CGV점       Q12               강원도 춘천시 지석로 85  127.744832   \n",
       "123   빽다방     강릉금학점       Q12              강원도 강릉시 신대학길 14  128.894954   \n",
       "124   빽다방    삼척대학로점       Q12             강원도 삼척시 대학로 23-8  129.163077   \n",
       "125   빽다방   원주단구GS점       Q12          강원도 원주시 남원로534번길 20  127.948675   \n",
       "...   ...       ...       ...                          ...         ...   \n",
       "4643  빽다방   청주분평중앙점       Q12   충청북도 청주시 서원구 1순환로1107번길 20  127.489878   \n",
       "4644  빽다방   청주율량중앙점       Q12         충청북도 청주시 청원구 율량로 104  127.497259   \n",
       "4645  빽다방   청주지웰시티점       Q12          충청북도 청주시 흥덕구 대농로 39  127.426909   \n",
       "4646  빽다방   청주금천광장점       Q12      충청북도 청주시 상당구 산성로98번길 35  127.505733   \n",
       "4647  빽다방     청주오송점       Q12  충청북도 청주시 흥덕구 오송읍 오송생명5로 179  127.330310   \n",
       "\n",
       "             위도     시    구  ID 브랜드명  매장갯수  \n",
       "121   37.350006   강원도  원주시  원주  빽다방     1  \n",
       "122   37.851125   강원도  춘천시  춘천  빽다방     1  \n",
       "123   37.752800   강원도  강릉시  강릉  빽다방     1  \n",
       "124   37.443281   강원도  삼척시  삼척  빽다방     1  \n",
       "125   37.330389   강원도  원주시  원주  빽다방     1  \n",
       "...         ...   ...  ...  ..  ...   ...  \n",
       "4643  36.607255  충청북도  청주시  청주  빽다방     1  \n",
       "4644  36.672011  충청북도  청주시  청주  빽다방     1  \n",
       "4645  36.642332  충청북도  청주시  청주  빽다방     1  \n",
       "4646  36.631051  충청북도  청주시  청주  빽다방     1  \n",
       "4647  36.630536  충청북도  청주시  청주  빽다방     1  \n",
       "\n",
       "[499 rows x 11 columns]"
      ],
      "text/html": "<div>\n<style scoped>\n    .dataframe tbody tr th:only-of-type {\n        vertical-align: middle;\n    }\n\n    .dataframe tbody tr th {\n        vertical-align: top;\n    }\n\n    .dataframe thead th {\n        text-align: right;\n    }\n</style>\n<table border=\"1\" class=\"dataframe\">\n  <thead>\n    <tr style=\"text-align: right;\">\n      <th></th>\n      <th>상호명</th>\n      <th>지점명</th>\n      <th>상권업종중분류코드</th>\n      <th>도로명주소</th>\n      <th>경도</th>\n      <th>위도</th>\n      <th>시</th>\n      <th>구</th>\n      <th>ID</th>\n      <th>브랜드명</th>\n      <th>매장갯수</th>\n    </tr>\n  </thead>\n  <tbody>\n    <tr>\n      <th>121</th>\n      <td>빽다방</td>\n      <td>NaN</td>\n      <td>Q12</td>\n      <td>강원도 원주시 무실로12번길 33</td>\n      <td>127.947781</td>\n      <td>37.350006</td>\n      <td>강원도</td>\n      <td>원주시</td>\n      <td>원주</td>\n      <td>빽다방</td>\n      <td>1</td>\n    </tr>\n    <tr>\n      <th>122</th>\n      <td>빽다방</td>\n      <td>춘천석사CGV점</td>\n      <td>Q12</td>\n      <td>강원도 춘천시 지석로 85</td>\n      <td>127.744832</td>\n      <td>37.851125</td>\n      <td>강원도</td>\n      <td>춘천시</td>\n      <td>춘천</td>\n      <td>빽다방</td>\n      <td>1</td>\n    </tr>\n    <tr>\n      <th>123</th>\n      <td>빽다방</td>\n      <td>강릉금학점</td>\n      <td>Q12</td>\n      <td>강원도 강릉시 신대학길 14</td>\n      <td>128.894954</td>\n      <td>37.752800</td>\n      <td>강원도</td>\n      <td>강릉시</td>\n      <td>강릉</td>\n      <td>빽다방</td>\n      <td>1</td>\n    </tr>\n    <tr>\n      <th>124</th>\n      <td>빽다방</td>\n      <td>삼척대학로점</td>\n      <td>Q12</td>\n      <td>강원도 삼척시 대학로 23-8</td>\n      <td>129.163077</td>\n      <td>37.443281</td>\n      <td>강원도</td>\n      <td>삼척시</td>\n      <td>삼척</td>\n      <td>빽다방</td>\n      <td>1</td>\n    </tr>\n    <tr>\n      <th>125</th>\n      <td>빽다방</td>\n      <td>원주단구GS점</td>\n      <td>Q12</td>\n      <td>강원도 원주시 남원로534번길 20</td>\n      <td>127.948675</td>\n      <td>37.330389</td>\n      <td>강원도</td>\n      <td>원주시</td>\n      <td>원주</td>\n      <td>빽다방</td>\n      <td>1</td>\n    </tr>\n    <tr>\n      <th>...</th>\n      <td>...</td>\n      <td>...</td>\n      <td>...</td>\n      <td>...</td>\n      <td>...</td>\n      <td>...</td>\n      <td>...</td>\n      <td>...</td>\n      <td>...</td>\n      <td>...</td>\n      <td>...</td>\n    </tr>\n    <tr>\n      <th>4643</th>\n      <td>빽다방</td>\n      <td>청주분평중앙점</td>\n      <td>Q12</td>\n      <td>충청북도 청주시 서원구 1순환로1107번길 20</td>\n      <td>127.489878</td>\n      <td>36.607255</td>\n      <td>충청북도</td>\n      <td>청주시</td>\n      <td>청주</td>\n      <td>빽다방</td>\n      <td>1</td>\n    </tr>\n    <tr>\n      <th>4644</th>\n      <td>빽다방</td>\n      <td>청주율량중앙점</td>\n      <td>Q12</td>\n      <td>충청북도 청주시 청원구 율량로 104</td>\n      <td>127.497259</td>\n      <td>36.672011</td>\n      <td>충청북도</td>\n      <td>청주시</td>\n      <td>청주</td>\n      <td>빽다방</td>\n      <td>1</td>\n    </tr>\n    <tr>\n      <th>4645</th>\n      <td>빽다방</td>\n      <td>청주지웰시티점</td>\n      <td>Q12</td>\n      <td>충청북도 청주시 흥덕구 대농로 39</td>\n      <td>127.426909</td>\n      <td>36.642332</td>\n      <td>충청북도</td>\n      <td>청주시</td>\n      <td>청주</td>\n      <td>빽다방</td>\n      <td>1</td>\n    </tr>\n    <tr>\n      <th>4646</th>\n      <td>빽다방</td>\n      <td>청주금천광장점</td>\n      <td>Q12</td>\n      <td>충청북도 청주시 상당구 산성로98번길 35</td>\n      <td>127.505733</td>\n      <td>36.631051</td>\n      <td>충청북도</td>\n      <td>청주시</td>\n      <td>청주</td>\n      <td>빽다방</td>\n      <td>1</td>\n    </tr>\n    <tr>\n      <th>4647</th>\n      <td>빽다방</td>\n      <td>청주오송점</td>\n      <td>Q12</td>\n      <td>충청북도 청주시 흥덕구 오송읍 오송생명5로 179</td>\n      <td>127.330310</td>\n      <td>36.630536</td>\n      <td>충청북도</td>\n      <td>청주시</td>\n      <td>청주</td>\n      <td>빽다방</td>\n      <td>1</td>\n    </tr>\n  </tbody>\n</table>\n<p>499 rows × 11 columns</p>\n</div>"
     },
     "metadata": {},
     "execution_count": 370
    }
   ],
   "source": [
    "bback = coff_sceb_tatal[coff_sceb_tatal['상호명'].str.find('빽다방') >= 0]\n",
    "bback['브랜드명'] = '빽다방'\n",
    "bback['매장갯수'] =int(1)\n",
    "bback"
   ]
  },
  {
   "cell_type": "code",
   "execution_count": 371,
   "metadata": {},
   "outputs": [
    {
     "output_type": "execute_result",
     "data": {
      "text/plain": [
       "     ID  커피빈 매장수\n",
       "0    강남       69\n",
       "1    강동        9\n",
       "2    강북        2\n",
       "3    강서        7\n",
       "4    경주        2\n",
       "..  ...      ...\n",
       "71   하남        1\n",
       "72   함안        2\n",
       "73   해남        1\n",
       "74  해운대        5\n",
       "75   화성        5\n",
       "\n",
       "[76 rows x 2 columns]"
      ],
      "text/html": "<div>\n<style scoped>\n    .dataframe tbody tr th:only-of-type {\n        vertical-align: middle;\n    }\n\n    .dataframe tbody tr th {\n        vertical-align: top;\n    }\n\n    .dataframe thead th {\n        text-align: right;\n    }\n</style>\n<table border=\"1\" class=\"dataframe\">\n  <thead>\n    <tr style=\"text-align: right;\">\n      <th></th>\n      <th>ID</th>\n      <th>커피빈 매장수</th>\n    </tr>\n  </thead>\n  <tbody>\n    <tr>\n      <th>0</th>\n      <td>강남</td>\n      <td>69</td>\n    </tr>\n    <tr>\n      <th>1</th>\n      <td>강동</td>\n      <td>9</td>\n    </tr>\n    <tr>\n      <th>2</th>\n      <td>강북</td>\n      <td>2</td>\n    </tr>\n    <tr>\n      <th>3</th>\n      <td>강서</td>\n      <td>7</td>\n    </tr>\n    <tr>\n      <th>4</th>\n      <td>경주</td>\n      <td>2</td>\n    </tr>\n    <tr>\n      <th>...</th>\n      <td>...</td>\n      <td>...</td>\n    </tr>\n    <tr>\n      <th>71</th>\n      <td>하남</td>\n      <td>1</td>\n    </tr>\n    <tr>\n      <th>72</th>\n      <td>함안</td>\n      <td>2</td>\n    </tr>\n    <tr>\n      <th>73</th>\n      <td>해남</td>\n      <td>1</td>\n    </tr>\n    <tr>\n      <th>74</th>\n      <td>해운대</td>\n      <td>5</td>\n    </tr>\n    <tr>\n      <th>75</th>\n      <td>화성</td>\n      <td>5</td>\n    </tr>\n  </tbody>\n</table>\n<p>76 rows × 2 columns</p>\n</div>"
     },
     "metadata": {},
     "execution_count": 371
    }
   ],
   "source": [
    "star_group = star.groupby('ID')[['브랜드명']].count().reset_index().rename(columns={'브랜드명':'스타벅스 매장수'})\n",
    "cbean_group = cbean.groupby('ID')[['브랜드명']].count().reset_index().rename(columns={'브랜드명':'커피빈 매장수'})\n",
    "ediya_group = ediya.groupby('ID')[['브랜드명']].count().reset_index().rename(columns={'브랜드명':'이디야 매장수'})\n",
    "bback_group = bback.groupby('ID')[['브랜드명']].count().reset_index().rename(columns={'브랜드명':'빽다방 매장수'})\n",
    "\n",
    "cbean_group"
   ]
  },
  {
   "cell_type": "code",
   "execution_count": 372,
   "metadata": {},
   "outputs": [],
   "source": [
    "star_group.set_index('ID',inplace=True)\n",
    "cbean_group.set_index('ID',inplace=True)\n",
    "ediya_group.set_index('ID',inplace=True)\n",
    "bback_group.set_index('ID',inplace=True)"
   ]
  },
  {
   "cell_type": "code",
   "execution_count": 38,
   "metadata": {},
   "outputs": [
    {
     "output_type": "error",
     "ename": "NameError",
     "evalue": "name 'star_group' is not defined",
     "traceback": [
      "\u001b[1;31m---------------------------------------------------------------------------\u001b[0m",
      "\u001b[1;31mNameError\u001b[0m                                 Traceback (most recent call last)",
      "\u001b[1;32m<ipython-input-38-0bd71495ae51>\u001b[0m in \u001b[0;36m<module>\u001b[1;34m\u001b[0m\n\u001b[1;32m----> 1\u001b[1;33m \u001b[0mcf\u001b[0m \u001b[1;33m=\u001b[0m \u001b[0mstar_group\u001b[0m\u001b[1;33m.\u001b[0m\u001b[0mjoin\u001b[0m\u001b[1;33m(\u001b[0m\u001b[1;33m[\u001b[0m\u001b[0mcbean_group\u001b[0m\u001b[1;33m,\u001b[0m\u001b[0mediya_group\u001b[0m\u001b[1;33m,\u001b[0m\u001b[0mbback_group\u001b[0m\u001b[1;33m]\u001b[0m\u001b[1;33m,\u001b[0m\u001b[0mhow\u001b[0m\u001b[1;33m=\u001b[0m\u001b[1;34m'outer'\u001b[0m\u001b[1;33m)\u001b[0m\u001b[1;33m\u001b[0m\u001b[1;33m\u001b[0m\u001b[0m\n\u001b[0m\u001b[0;32m      2\u001b[0m \u001b[0mcf\u001b[0m \u001b[1;33m=\u001b[0m \u001b[0mcf\u001b[0m\u001b[1;33m.\u001b[0m\u001b[0mfillna\u001b[0m\u001b[1;33m(\u001b[0m\u001b[1;36m0.0\u001b[0m\u001b[1;33m)\u001b[0m\u001b[1;33m\u001b[0m\u001b[1;33m\u001b[0m\u001b[0m\n\u001b[0;32m      3\u001b[0m \u001b[0mcf\u001b[0m\u001b[1;33m\u001b[0m\u001b[1;33m\u001b[0m\u001b[0m\n",
      "\u001b[1;31mNameError\u001b[0m: name 'star_group' is not defined"
     ]
    }
   ],
   "source": [
    "cf = star_group.join([cbean_group,ediya_group,bback_group],how='outer')\n",
    "cf = cf.fillna(0.0)\n",
    "cf"
   ]
  },
  {
   "cell_type": "code",
   "execution_count": 1,
   "metadata": {},
   "outputs": [
    {
     "output_type": "error",
     "ename": "NameError",
     "evalue": "name 'cf' is not defined",
     "traceback": [
      "\u001b[1;31m---------------------------------------------------------------------------\u001b[0m",
      "\u001b[1;31mNameError\u001b[0m                                 Traceback (most recent call last)",
      "\u001b[1;32m<ipython-input-1-0c9120e526a9>\u001b[0m in \u001b[0;36m<module>\u001b[1;34m\u001b[0m\n\u001b[1;32m----> 1\u001b[1;33m \u001b[0mcf\u001b[0m\u001b[1;33m.\u001b[0m\u001b[0minfo\u001b[0m\u001b[1;33m(\u001b[0m\u001b[1;33m)\u001b[0m\u001b[1;33m\u001b[0m\u001b[1;33m\u001b[0m\u001b[0m\n\u001b[0m",
      "\u001b[1;31mNameError\u001b[0m: name 'cf' is not defined"
     ]
    }
   ],
   "source": [
    "cf.info()"
   ]
  },
  {
   "cell_type": "code",
   "execution_count": 374,
   "metadata": {},
   "outputs": [
    {
     "output_type": "execute_result",
     "data": {
      "text/plain": [
       "    스타벅스 매장수  커피빈 매장수  이디야 매장수  빽다방 매장수      커피지수\n",
       "강남      87.0     69.0     41.0     12.0  2.943396\n",
       "강동      14.0      9.0     13.0      6.0  1.210526\n",
       "강릉       5.0      0.0     14.0      2.0  0.312500\n",
       "강북       5.0      2.0     11.0      1.0  0.583333\n",
       "강서      21.0      7.0     49.0      8.0  0.491228\n",
       "..       ...      ...      ...      ...       ...\n",
       "합천       0.0      0.0      1.0      0.0  0.000000\n",
       "홍성       0.0      0.0      3.0      2.0  0.000000\n",
       "화천       0.0      0.0      1.0      0.0  0.000000\n",
       "횡성       0.0      0.0      1.0      0.0  0.000000\n",
       "예천       0.0      0.0      0.0      1.0  0.000000\n",
       "\n",
       "[194 rows x 5 columns]"
      ],
      "text/html": "<div>\n<style scoped>\n    .dataframe tbody tr th:only-of-type {\n        vertical-align: middle;\n    }\n\n    .dataframe tbody tr th {\n        vertical-align: top;\n    }\n\n    .dataframe thead th {\n        text-align: right;\n    }\n</style>\n<table border=\"1\" class=\"dataframe\">\n  <thead>\n    <tr style=\"text-align: right;\">\n      <th></th>\n      <th>스타벅스 매장수</th>\n      <th>커피빈 매장수</th>\n      <th>이디야 매장수</th>\n      <th>빽다방 매장수</th>\n      <th>커피지수</th>\n    </tr>\n  </thead>\n  <tbody>\n    <tr>\n      <th>강남</th>\n      <td>87.0</td>\n      <td>69.0</td>\n      <td>41.0</td>\n      <td>12.0</td>\n      <td>2.943396</td>\n    </tr>\n    <tr>\n      <th>강동</th>\n      <td>14.0</td>\n      <td>9.0</td>\n      <td>13.0</td>\n      <td>6.0</td>\n      <td>1.210526</td>\n    </tr>\n    <tr>\n      <th>강릉</th>\n      <td>5.0</td>\n      <td>0.0</td>\n      <td>14.0</td>\n      <td>2.0</td>\n      <td>0.312500</td>\n    </tr>\n    <tr>\n      <th>강북</th>\n      <td>5.0</td>\n      <td>2.0</td>\n      <td>11.0</td>\n      <td>1.0</td>\n      <td>0.583333</td>\n    </tr>\n    <tr>\n      <th>강서</th>\n      <td>21.0</td>\n      <td>7.0</td>\n      <td>49.0</td>\n      <td>8.0</td>\n      <td>0.491228</td>\n    </tr>\n    <tr>\n      <th>...</th>\n      <td>...</td>\n      <td>...</td>\n      <td>...</td>\n      <td>...</td>\n      <td>...</td>\n    </tr>\n    <tr>\n      <th>합천</th>\n      <td>0.0</td>\n      <td>0.0</td>\n      <td>1.0</td>\n      <td>0.0</td>\n      <td>0.000000</td>\n    </tr>\n    <tr>\n      <th>홍성</th>\n      <td>0.0</td>\n      <td>0.0</td>\n      <td>3.0</td>\n      <td>2.0</td>\n      <td>0.000000</td>\n    </tr>\n    <tr>\n      <th>화천</th>\n      <td>0.0</td>\n      <td>0.0</td>\n      <td>1.0</td>\n      <td>0.0</td>\n      <td>0.000000</td>\n    </tr>\n    <tr>\n      <th>횡성</th>\n      <td>0.0</td>\n      <td>0.0</td>\n      <td>1.0</td>\n      <td>0.0</td>\n      <td>0.000000</td>\n    </tr>\n    <tr>\n      <th>예천</th>\n      <td>0.0</td>\n      <td>0.0</td>\n      <td>0.0</td>\n      <td>1.0</td>\n      <td>0.000000</td>\n    </tr>\n  </tbody>\n</table>\n<p>194 rows × 5 columns</p>\n</div>"
     },
     "metadata": {},
     "execution_count": 374
    }
   ],
   "source": [
    "cf['커피지수'] = (cf['스타벅스 매장수'] + cf['커피빈 매장수'])/(cf['이디야 매장수'] + cf['빽다방 매장수'])\n",
    "cf"
   ]
  },
  {
   "cell_type": "code",
   "execution_count": null,
   "metadata": {},
   "outputs": [],
   "source": [
    "cf.to_csv('./data/result/커피지수.csv', index=False)"
   ]
  },
  {
   "cell_type": "code",
   "execution_count": 375,
   "metadata": {},
   "outputs": [],
   "source": [
    "cf.reset_index(inplace=True)\n",
    "cf.rename(columns={'index':'ID'},inplace=True)"
   ]
  },
  {
   "cell_type": "code",
   "execution_count": 376,
   "metadata": {},
   "outputs": [
    {
     "output_type": "execute_result",
     "data": {
      "text/plain": [
       "     ID  스타벅스 매장수  커피빈 매장수  이디야 매장수  빽다방 매장수      커피지수\n",
       "0    강남      87.0     69.0     41.0     12.0  2.943396\n",
       "1    강동      14.0      9.0     13.0      6.0  1.210526\n",
       "2    강릉       5.0      0.0     14.0      2.0  0.312500\n",
       "3    강북       5.0      2.0     11.0      1.0  0.583333\n",
       "4    강서      21.0      7.0     49.0      8.0  0.491228\n",
       "..   ..       ...      ...      ...      ...       ...\n",
       "189  합천       0.0      0.0      1.0      0.0  0.000000\n",
       "190  홍성       0.0      0.0      3.0      2.0  0.000000\n",
       "191  화천       0.0      0.0      1.0      0.0  0.000000\n",
       "192  횡성       0.0      0.0      1.0      0.0  0.000000\n",
       "193  예천       0.0      0.0      0.0      1.0  0.000000\n",
       "\n",
       "[194 rows x 6 columns]"
      ],
      "text/html": "<div>\n<style scoped>\n    .dataframe tbody tr th:only-of-type {\n        vertical-align: middle;\n    }\n\n    .dataframe tbody tr th {\n        vertical-align: top;\n    }\n\n    .dataframe thead th {\n        text-align: right;\n    }\n</style>\n<table border=\"1\" class=\"dataframe\">\n  <thead>\n    <tr style=\"text-align: right;\">\n      <th></th>\n      <th>ID</th>\n      <th>스타벅스 매장수</th>\n      <th>커피빈 매장수</th>\n      <th>이디야 매장수</th>\n      <th>빽다방 매장수</th>\n      <th>커피지수</th>\n    </tr>\n  </thead>\n  <tbody>\n    <tr>\n      <th>0</th>\n      <td>강남</td>\n      <td>87.0</td>\n      <td>69.0</td>\n      <td>41.0</td>\n      <td>12.0</td>\n      <td>2.943396</td>\n    </tr>\n    <tr>\n      <th>1</th>\n      <td>강동</td>\n      <td>14.0</td>\n      <td>9.0</td>\n      <td>13.0</td>\n      <td>6.0</td>\n      <td>1.210526</td>\n    </tr>\n    <tr>\n      <th>2</th>\n      <td>강릉</td>\n      <td>5.0</td>\n      <td>0.0</td>\n      <td>14.0</td>\n      <td>2.0</td>\n      <td>0.312500</td>\n    </tr>\n    <tr>\n      <th>3</th>\n      <td>강북</td>\n      <td>5.0</td>\n      <td>2.0</td>\n      <td>11.0</td>\n      <td>1.0</td>\n      <td>0.583333</td>\n    </tr>\n    <tr>\n      <th>4</th>\n      <td>강서</td>\n      <td>21.0</td>\n      <td>7.0</td>\n      <td>49.0</td>\n      <td>8.0</td>\n      <td>0.491228</td>\n    </tr>\n    <tr>\n      <th>...</th>\n      <td>...</td>\n      <td>...</td>\n      <td>...</td>\n      <td>...</td>\n      <td>...</td>\n      <td>...</td>\n    </tr>\n    <tr>\n      <th>189</th>\n      <td>합천</td>\n      <td>0.0</td>\n      <td>0.0</td>\n      <td>1.0</td>\n      <td>0.0</td>\n      <td>0.000000</td>\n    </tr>\n    <tr>\n      <th>190</th>\n      <td>홍성</td>\n      <td>0.0</td>\n      <td>0.0</td>\n      <td>3.0</td>\n      <td>2.0</td>\n      <td>0.000000</td>\n    </tr>\n    <tr>\n      <th>191</th>\n      <td>화천</td>\n      <td>0.0</td>\n      <td>0.0</td>\n      <td>1.0</td>\n      <td>0.0</td>\n      <td>0.000000</td>\n    </tr>\n    <tr>\n      <th>192</th>\n      <td>횡성</td>\n      <td>0.0</td>\n      <td>0.0</td>\n      <td>1.0</td>\n      <td>0.0</td>\n      <td>0.000000</td>\n    </tr>\n    <tr>\n      <th>193</th>\n      <td>예천</td>\n      <td>0.0</td>\n      <td>0.0</td>\n      <td>0.0</td>\n      <td>1.0</td>\n      <td>0.000000</td>\n    </tr>\n  </tbody>\n</table>\n<p>194 rows × 6 columns</p>\n</div>"
     },
     "metadata": {},
     "execution_count": 376
    }
   ],
   "source": [
    "cf"
   ]
  },
  {
   "cell_type": "code",
   "execution_count": 377,
   "metadata": {},
   "outputs": [
    {
     "output_type": "execute_result",
     "data": {
      "text/plain": [
       "       0      1       2       3       4       5      6       7      8      9   \\\n",
       "0     NaN    NaN     NaN     NaN     NaN     NaN    NaN      철원     화천     양구   \n",
       "1     NaN    NaN     NaN      양주     동두천      연천     포천     의정부     인제     춘천   \n",
       "2     NaN    NaN     NaN      파주  고양 일산동   서울 도봉  서울 노원     남양주     홍천     횡성   \n",
       "3     NaN    NaN     NaN  고양 일산서   고양 덕양   서울 강북  서울 성북      가평     구리     하남   \n",
       "4     NaN    NaN      김포   안양 만안      광명  서울 서대문  서울 종로  서울 동대문  서울 중랑     양평   \n",
       "5     NaN  인천 강화      부천   안양 동안   서울 은평   서울 마포  서울 중구   서울 성동  서울 강동     여주   \n",
       "6     NaN  인천 서구   인천 동구      시흥   서울 강서   서울 동작  서울 용산   서울 광진  서울 송파     이천   \n",
       "7     NaN    NaN   인천 계양   안산 상록   서울 양천   서울 관악  서울 서초      과천  성남 중원     광주   \n",
       "8     NaN    NaN   인천 부평   안산 단원  서울 영등포   서울 금천  서울 강남   성남 분당  성남 수정  용인 수지   \n",
       "9     NaN  인천 중구  인천 미추홀      화성   서울 구로      군포     의왕   수원 영통  용인 기흥  용인 처인   \n",
       "10  인천 옹진  인천 연수   인천 남동      오산      안성   수원 권선  수원 장안      제천     예천     영주   \n",
       "11     태안     아산   천안 동남   천안 서북      평택      음성  수원 팔달      단양     상주     김천   \n",
       "12    NaN     당진      홍성      예산      공주      진천     충주   청주 흥덕     괴산     칠곡   \n",
       "13    NaN     서산      보령      청양      세종   대전 대덕     증평   청주 청원     보은     고령   \n",
       "14    NaN    NaN      부여      논산      계룡   대전 동구  청주 상당   청주 서원  대구 북구  대구 중구   \n",
       "15    NaN    NaN      서천      금산   대전 유성   대전 중구     옥천      영동  대구 서구  대구 남구   \n",
       "16    NaN    NaN      군산      익산   대전 서구      무주     거창      합천  대구 달서  대구 달성   \n",
       "17    NaN    NaN      부안      김제      완주      장수     함양      창녕     밀양  부산 북구   \n",
       "18    NaN     고창      정읍   전주 덕진      진안      남원     진주      의령  부산 강서  부산 사상   \n",
       "19    NaN     영광      장성   전주 완산      임실      산청     함안      양산  창원 합포  부산 서구   \n",
       "20    NaN     함평      담양      순창      구례      하동  창원 의창   창원 성산  창원 진해     김해   \n",
       "21     신안     무안   광주 광산      곡성      화순      광양     사천   창원 회원     통영    NaN   \n",
       "22     목포     나주   광주 서구   광주 북구      순천      고흥     남해  고성(경남)     거제    NaN   \n",
       "23     해남     영암   광주 남구   광주 동구      여수     NaN    NaN     NaN    NaN    NaN   \n",
       "24     진도     강진      장흥      보성     NaN     NaN    NaN     NaN    NaN    NaN   \n",
       "25    NaN    NaN      완도     NaN     NaN      제주    NaN     NaN    NaN    NaN   \n",
       "26    NaN    NaN     NaN     NaN     NaN     서귀포    NaN     NaN    NaN    NaN   \n",
       "\n",
       "        10     11      12   13  \n",
       "0   고성(강원)    NaN     NaN  NaN  \n",
       "1       속초    NaN     NaN  NaN  \n",
       "2       양양    NaN     NaN  NaN  \n",
       "3       정선     강릉     NaN  NaN  \n",
       "4       태백     동해     NaN  NaN  \n",
       "5       원주     삼척     NaN  NaN  \n",
       "6       평창     울진     NaN  NaN  \n",
       "7       영월     영덕     NaN  NaN  \n",
       "8       문경     봉화     NaN   울릉  \n",
       "9       안동     영양     NaN  NaN  \n",
       "10      구미     청송   포항 북구  NaN  \n",
       "11      군위     의성   포항 남구  NaN  \n",
       "12      영천     경산      경주  NaN  \n",
       "13      청도     성주   울산 북구  NaN  \n",
       "14   대구 수성  울산 울주   울산 동구  NaN  \n",
       "15   대구 동구  울산 중구   울산 남구  NaN  \n",
       "16   부산 금정  부산 동래   부산 기장  NaN  \n",
       "17  부산 부산진  부산 연제  부산 해운대  NaN  \n",
       "18   부산 동구  부산 중구     NaN  NaN  \n",
       "19   부산 사하  부산 남구     NaN  NaN  \n",
       "20   부산 영도  부산 수영     NaN  NaN  \n",
       "21     NaN    NaN     NaN  NaN  \n",
       "22     NaN    NaN     NaN  NaN  \n",
       "23     NaN    NaN     NaN  NaN  \n",
       "24     NaN    NaN     NaN  NaN  \n",
       "25     NaN    NaN     NaN  NaN  \n",
       "26     NaN    NaN     NaN  NaN  "
      ],
      "text/html": "<div>\n<style scoped>\n    .dataframe tbody tr th:only-of-type {\n        vertical-align: middle;\n    }\n\n    .dataframe tbody tr th {\n        vertical-align: top;\n    }\n\n    .dataframe thead th {\n        text-align: right;\n    }\n</style>\n<table border=\"1\" class=\"dataframe\">\n  <thead>\n    <tr style=\"text-align: right;\">\n      <th></th>\n      <th>0</th>\n      <th>1</th>\n      <th>2</th>\n      <th>3</th>\n      <th>4</th>\n      <th>5</th>\n      <th>6</th>\n      <th>7</th>\n      <th>8</th>\n      <th>9</th>\n      <th>10</th>\n      <th>11</th>\n      <th>12</th>\n      <th>13</th>\n    </tr>\n  </thead>\n  <tbody>\n    <tr>\n      <th>0</th>\n      <td>NaN</td>\n      <td>NaN</td>\n      <td>NaN</td>\n      <td>NaN</td>\n      <td>NaN</td>\n      <td>NaN</td>\n      <td>NaN</td>\n      <td>철원</td>\n      <td>화천</td>\n      <td>양구</td>\n      <td>고성(강원)</td>\n      <td>NaN</td>\n      <td>NaN</td>\n      <td>NaN</td>\n    </tr>\n    <tr>\n      <th>1</th>\n      <td>NaN</td>\n      <td>NaN</td>\n      <td>NaN</td>\n      <td>양주</td>\n      <td>동두천</td>\n      <td>연천</td>\n      <td>포천</td>\n      <td>의정부</td>\n      <td>인제</td>\n      <td>춘천</td>\n      <td>속초</td>\n      <td>NaN</td>\n      <td>NaN</td>\n      <td>NaN</td>\n    </tr>\n    <tr>\n      <th>2</th>\n      <td>NaN</td>\n      <td>NaN</td>\n      <td>NaN</td>\n      <td>파주</td>\n      <td>고양 일산동</td>\n      <td>서울 도봉</td>\n      <td>서울 노원</td>\n      <td>남양주</td>\n      <td>홍천</td>\n      <td>횡성</td>\n      <td>양양</td>\n      <td>NaN</td>\n      <td>NaN</td>\n      <td>NaN</td>\n    </tr>\n    <tr>\n      <th>3</th>\n      <td>NaN</td>\n      <td>NaN</td>\n      <td>NaN</td>\n      <td>고양 일산서</td>\n      <td>고양 덕양</td>\n      <td>서울 강북</td>\n      <td>서울 성북</td>\n      <td>가평</td>\n      <td>구리</td>\n      <td>하남</td>\n      <td>정선</td>\n      <td>강릉</td>\n      <td>NaN</td>\n      <td>NaN</td>\n    </tr>\n    <tr>\n      <th>4</th>\n      <td>NaN</td>\n      <td>NaN</td>\n      <td>김포</td>\n      <td>안양 만안</td>\n      <td>광명</td>\n      <td>서울 서대문</td>\n      <td>서울 종로</td>\n      <td>서울 동대문</td>\n      <td>서울 중랑</td>\n      <td>양평</td>\n      <td>태백</td>\n      <td>동해</td>\n      <td>NaN</td>\n      <td>NaN</td>\n    </tr>\n    <tr>\n      <th>5</th>\n      <td>NaN</td>\n      <td>인천 강화</td>\n      <td>부천</td>\n      <td>안양 동안</td>\n      <td>서울 은평</td>\n      <td>서울 마포</td>\n      <td>서울 중구</td>\n      <td>서울 성동</td>\n      <td>서울 강동</td>\n      <td>여주</td>\n      <td>원주</td>\n      <td>삼척</td>\n      <td>NaN</td>\n      <td>NaN</td>\n    </tr>\n    <tr>\n      <th>6</th>\n      <td>NaN</td>\n      <td>인천 서구</td>\n      <td>인천 동구</td>\n      <td>시흥</td>\n      <td>서울 강서</td>\n      <td>서울 동작</td>\n      <td>서울 용산</td>\n      <td>서울 광진</td>\n      <td>서울 송파</td>\n      <td>이천</td>\n      <td>평창</td>\n      <td>울진</td>\n      <td>NaN</td>\n      <td>NaN</td>\n    </tr>\n    <tr>\n      <th>7</th>\n      <td>NaN</td>\n      <td>NaN</td>\n      <td>인천 계양</td>\n      <td>안산 상록</td>\n      <td>서울 양천</td>\n      <td>서울 관악</td>\n      <td>서울 서초</td>\n      <td>과천</td>\n      <td>성남 중원</td>\n      <td>광주</td>\n      <td>영월</td>\n      <td>영덕</td>\n      <td>NaN</td>\n      <td>NaN</td>\n    </tr>\n    <tr>\n      <th>8</th>\n      <td>NaN</td>\n      <td>NaN</td>\n      <td>인천 부평</td>\n      <td>안산 단원</td>\n      <td>서울 영등포</td>\n      <td>서울 금천</td>\n      <td>서울 강남</td>\n      <td>성남 분당</td>\n      <td>성남 수정</td>\n      <td>용인 수지</td>\n      <td>문경</td>\n      <td>봉화</td>\n      <td>NaN</td>\n      <td>울릉</td>\n    </tr>\n    <tr>\n      <th>9</th>\n      <td>NaN</td>\n      <td>인천 중구</td>\n      <td>인천 미추홀</td>\n      <td>화성</td>\n      <td>서울 구로</td>\n      <td>군포</td>\n      <td>의왕</td>\n      <td>수원 영통</td>\n      <td>용인 기흥</td>\n      <td>용인 처인</td>\n      <td>안동</td>\n      <td>영양</td>\n      <td>NaN</td>\n      <td>NaN</td>\n    </tr>\n    <tr>\n      <th>10</th>\n      <td>인천 옹진</td>\n      <td>인천 연수</td>\n      <td>인천 남동</td>\n      <td>오산</td>\n      <td>안성</td>\n      <td>수원 권선</td>\n      <td>수원 장안</td>\n      <td>제천</td>\n      <td>예천</td>\n      <td>영주</td>\n      <td>구미</td>\n      <td>청송</td>\n      <td>포항 북구</td>\n      <td>NaN</td>\n    </tr>\n    <tr>\n      <th>11</th>\n      <td>태안</td>\n      <td>아산</td>\n      <td>천안 동남</td>\n      <td>천안 서북</td>\n      <td>평택</td>\n      <td>음성</td>\n      <td>수원 팔달</td>\n      <td>단양</td>\n      <td>상주</td>\n      <td>김천</td>\n      <td>군위</td>\n      <td>의성</td>\n      <td>포항 남구</td>\n      <td>NaN</td>\n    </tr>\n    <tr>\n      <th>12</th>\n      <td>NaN</td>\n      <td>당진</td>\n      <td>홍성</td>\n      <td>예산</td>\n      <td>공주</td>\n      <td>진천</td>\n      <td>충주</td>\n      <td>청주 흥덕</td>\n      <td>괴산</td>\n      <td>칠곡</td>\n      <td>영천</td>\n      <td>경산</td>\n      <td>경주</td>\n      <td>NaN</td>\n    </tr>\n    <tr>\n      <th>13</th>\n      <td>NaN</td>\n      <td>서산</td>\n      <td>보령</td>\n      <td>청양</td>\n      <td>세종</td>\n      <td>대전 대덕</td>\n      <td>증평</td>\n      <td>청주 청원</td>\n      <td>보은</td>\n      <td>고령</td>\n      <td>청도</td>\n      <td>성주</td>\n      <td>울산 북구</td>\n      <td>NaN</td>\n    </tr>\n    <tr>\n      <th>14</th>\n      <td>NaN</td>\n      <td>NaN</td>\n      <td>부여</td>\n      <td>논산</td>\n      <td>계룡</td>\n      <td>대전 동구</td>\n      <td>청주 상당</td>\n      <td>청주 서원</td>\n      <td>대구 북구</td>\n      <td>대구 중구</td>\n      <td>대구 수성</td>\n      <td>울산 울주</td>\n      <td>울산 동구</td>\n      <td>NaN</td>\n    </tr>\n    <tr>\n      <th>15</th>\n      <td>NaN</td>\n      <td>NaN</td>\n      <td>서천</td>\n      <td>금산</td>\n      <td>대전 유성</td>\n      <td>대전 중구</td>\n      <td>옥천</td>\n      <td>영동</td>\n      <td>대구 서구</td>\n      <td>대구 남구</td>\n      <td>대구 동구</td>\n      <td>울산 중구</td>\n      <td>울산 남구</td>\n      <td>NaN</td>\n    </tr>\n    <tr>\n      <th>16</th>\n      <td>NaN</td>\n      <td>NaN</td>\n      <td>군산</td>\n      <td>익산</td>\n      <td>대전 서구</td>\n      <td>무주</td>\n      <td>거창</td>\n      <td>합천</td>\n      <td>대구 달서</td>\n      <td>대구 달성</td>\n      <td>부산 금정</td>\n      <td>부산 동래</td>\n      <td>부산 기장</td>\n      <td>NaN</td>\n    </tr>\n    <tr>\n      <th>17</th>\n      <td>NaN</td>\n      <td>NaN</td>\n      <td>부안</td>\n      <td>김제</td>\n      <td>완주</td>\n      <td>장수</td>\n      <td>함양</td>\n      <td>창녕</td>\n      <td>밀양</td>\n      <td>부산 북구</td>\n      <td>부산 부산진</td>\n      <td>부산 연제</td>\n      <td>부산 해운대</td>\n      <td>NaN</td>\n    </tr>\n    <tr>\n      <th>18</th>\n      <td>NaN</td>\n      <td>고창</td>\n      <td>정읍</td>\n      <td>전주 덕진</td>\n      <td>진안</td>\n      <td>남원</td>\n      <td>진주</td>\n      <td>의령</td>\n      <td>부산 강서</td>\n      <td>부산 사상</td>\n      <td>부산 동구</td>\n      <td>부산 중구</td>\n      <td>NaN</td>\n      <td>NaN</td>\n    </tr>\n    <tr>\n      <th>19</th>\n      <td>NaN</td>\n      <td>영광</td>\n      <td>장성</td>\n      <td>전주 완산</td>\n      <td>임실</td>\n      <td>산청</td>\n      <td>함안</td>\n      <td>양산</td>\n      <td>창원 합포</td>\n      <td>부산 서구</td>\n      <td>부산 사하</td>\n      <td>부산 남구</td>\n      <td>NaN</td>\n      <td>NaN</td>\n    </tr>\n    <tr>\n      <th>20</th>\n      <td>NaN</td>\n      <td>함평</td>\n      <td>담양</td>\n      <td>순창</td>\n      <td>구례</td>\n      <td>하동</td>\n      <td>창원 의창</td>\n      <td>창원 성산</td>\n      <td>창원 진해</td>\n      <td>김해</td>\n      <td>부산 영도</td>\n      <td>부산 수영</td>\n      <td>NaN</td>\n      <td>NaN</td>\n    </tr>\n    <tr>\n      <th>21</th>\n      <td>신안</td>\n      <td>무안</td>\n      <td>광주 광산</td>\n      <td>곡성</td>\n      <td>화순</td>\n      <td>광양</td>\n      <td>사천</td>\n      <td>창원 회원</td>\n      <td>통영</td>\n      <td>NaN</td>\n      <td>NaN</td>\n      <td>NaN</td>\n      <td>NaN</td>\n      <td>NaN</td>\n    </tr>\n    <tr>\n      <th>22</th>\n      <td>목포</td>\n      <td>나주</td>\n      <td>광주 서구</td>\n      <td>광주 북구</td>\n      <td>순천</td>\n      <td>고흥</td>\n      <td>남해</td>\n      <td>고성(경남)</td>\n      <td>거제</td>\n      <td>NaN</td>\n      <td>NaN</td>\n      <td>NaN</td>\n      <td>NaN</td>\n      <td>NaN</td>\n    </tr>\n    <tr>\n      <th>23</th>\n      <td>해남</td>\n      <td>영암</td>\n      <td>광주 남구</td>\n      <td>광주 동구</td>\n      <td>여수</td>\n      <td>NaN</td>\n      <td>NaN</td>\n      <td>NaN</td>\n      <td>NaN</td>\n      <td>NaN</td>\n      <td>NaN</td>\n      <td>NaN</td>\n      <td>NaN</td>\n      <td>NaN</td>\n    </tr>\n    <tr>\n      <th>24</th>\n      <td>진도</td>\n      <td>강진</td>\n      <td>장흥</td>\n      <td>보성</td>\n      <td>NaN</td>\n      <td>NaN</td>\n      <td>NaN</td>\n      <td>NaN</td>\n      <td>NaN</td>\n      <td>NaN</td>\n      <td>NaN</td>\n      <td>NaN</td>\n      <td>NaN</td>\n      <td>NaN</td>\n    </tr>\n    <tr>\n      <th>25</th>\n      <td>NaN</td>\n      <td>NaN</td>\n      <td>완도</td>\n      <td>NaN</td>\n      <td>NaN</td>\n      <td>제주</td>\n      <td>NaN</td>\n      <td>NaN</td>\n      <td>NaN</td>\n      <td>NaN</td>\n      <td>NaN</td>\n      <td>NaN</td>\n      <td>NaN</td>\n      <td>NaN</td>\n    </tr>\n    <tr>\n      <th>26</th>\n      <td>NaN</td>\n      <td>NaN</td>\n      <td>NaN</td>\n      <td>NaN</td>\n      <td>NaN</td>\n      <td>서귀포</td>\n      <td>NaN</td>\n      <td>NaN</td>\n      <td>NaN</td>\n      <td>NaN</td>\n      <td>NaN</td>\n      <td>NaN</td>\n      <td>NaN</td>\n      <td>NaN</td>\n    </tr>\n  </tbody>\n</table>\n</div>"
     },
     "metadata": {},
     "execution_count": 377
    }
   ],
   "source": [
    "#카토그램 지도로\n",
    "draw_korea_raw = pd.read_excel('./data/draw_korea_raw(수정).xlsx')\n",
    "draw_korea_raw"
   ]
  },
  {
   "cell_type": "code",
   "execution_count": 378,
   "metadata": {},
   "outputs": [
    {
     "output_type": "execute_result",
     "data": {
      "text/plain": [
       "      y   x      ID\n",
       "0     0   7      철원\n",
       "1     0   8      화천\n",
       "2     0   9      양구\n",
       "3     0  10  고성(강원)\n",
       "4     1   3      양주\n",
       "..   ..  ..     ...\n",
       "245  24   2      장흥\n",
       "246  24   3      보성\n",
       "247  25   2      완도\n",
       "248  25   5      제주\n",
       "249  26   5     서귀포\n",
       "\n",
       "[250 rows x 3 columns]"
      ],
      "text/html": "<div>\n<style scoped>\n    .dataframe tbody tr th:only-of-type {\n        vertical-align: middle;\n    }\n\n    .dataframe tbody tr th {\n        vertical-align: top;\n    }\n\n    .dataframe thead th {\n        text-align: right;\n    }\n</style>\n<table border=\"1\" class=\"dataframe\">\n  <thead>\n    <tr style=\"text-align: right;\">\n      <th></th>\n      <th>y</th>\n      <th>x</th>\n      <th>ID</th>\n    </tr>\n  </thead>\n  <tbody>\n    <tr>\n      <th>0</th>\n      <td>0</td>\n      <td>7</td>\n      <td>철원</td>\n    </tr>\n    <tr>\n      <th>1</th>\n      <td>0</td>\n      <td>8</td>\n      <td>화천</td>\n    </tr>\n    <tr>\n      <th>2</th>\n      <td>0</td>\n      <td>9</td>\n      <td>양구</td>\n    </tr>\n    <tr>\n      <th>3</th>\n      <td>0</td>\n      <td>10</td>\n      <td>고성(강원)</td>\n    </tr>\n    <tr>\n      <th>4</th>\n      <td>1</td>\n      <td>3</td>\n      <td>양주</td>\n    </tr>\n    <tr>\n      <th>...</th>\n      <td>...</td>\n      <td>...</td>\n      <td>...</td>\n    </tr>\n    <tr>\n      <th>245</th>\n      <td>24</td>\n      <td>2</td>\n      <td>장흥</td>\n    </tr>\n    <tr>\n      <th>246</th>\n      <td>24</td>\n      <td>3</td>\n      <td>보성</td>\n    </tr>\n    <tr>\n      <th>247</th>\n      <td>25</td>\n      <td>2</td>\n      <td>완도</td>\n    </tr>\n    <tr>\n      <th>248</th>\n      <td>25</td>\n      <td>5</td>\n      <td>제주</td>\n    </tr>\n    <tr>\n      <th>249</th>\n      <td>26</td>\n      <td>5</td>\n      <td>서귀포</td>\n    </tr>\n  </tbody>\n</table>\n<p>250 rows × 3 columns</p>\n</div>"
     },
     "metadata": {},
     "execution_count": 378
    }
   ],
   "source": [
    "#x.y좌표 구하기\n",
    "draw_korea_raw_stacked = pd.DataFrame(draw_korea_raw.stack())\n",
    "draw_korea_raw_stacked.reset_index(inplace=True)\n",
    "draw_korea_raw_stacked.rename(columns={'level_0' : 'y', 'level_1' : 'x', 0: 'ID'}, inplace=True)\n",
    "draw_korea_raw_stacked"
   ]
  },
  {
   "cell_type": "code",
   "execution_count": 379,
   "metadata": {},
   "outputs": [],
   "source": [
    "#변수이름 변경\n",
    "draw_korea = draw_korea_raw_stacked"
   ]
  },
  {
   "cell_type": "code",
   "execution_count": 380,
   "metadata": {},
   "outputs": [],
   "source": [
    "BORDER_LINES = [\n",
    "    [(5, 1), (5,2), (6,2), (6,3), (11,3), (11,0)], # 인천\n",
    "    [(5,4), (5,5), (2,5), (2,7), (4,7), (4,9), (7,9), \n",
    "     (7,7), (9,7), (9,5), (10,5), (10,4), (5,4)], # 서울\n",
    "    [(1,7), (1,8), (3,8), (3,10), (10,10), (10,7), \n",
    "     (12,7), (12,6), (11,6), (11,5), (12, 5), (12,4), \n",
    "     (11,4), (11,3)], # 경기도\n",
    "    [(8,10), (8,11), (6,11), (6,12)], # 강원도\n",
    "    [(12,5), (13,5), (13,4), (14,4), (14,5), (15,5), \n",
    "     (15,4), (16,4), (16,2)], # 충청북도\n",
    "    [(16,4), (17,4), (17,5), (16,5), (16,6), (19,6), \n",
    "     (19,5), (20,5), (20,4), (21,4), (21,3), (19,3), (19,1)], # 전라북도\n",
    "    [(13,5), (13,6), (16,6)], # 대전시\n",
    "    [(13,5), (14,5)], #세종시\n",
    "    [(21,2), (21,3), (22,3), (22,4), (24,4), (24,2), (21,2)], #광주\n",
    "    [(20,5), (21,5), (21,6), (23,6)], #전라남도\n",
    "    [(10,8), (12,8), (12,9), (14,9), (14,8), (16,8), (16,6)], #충청북도\n",
    "    [(14,9), (14,11), (14,12), (13,12), (13,13)], #경상북도\n",
    "    [(15,8), (17,8), (17,10), (16,10), (16,11), (14,11)], #대구\n",
    "    [(17,9), (18,9), (18,8), (19,8), (19,9), (20,9), (20,10), (21,10)], #부산\n",
    "    [(16,11), (16,13)], #울산\n",
    "#     [(9,14), (9,15)], \n",
    "    [(27,5), (27,6), (25,6)],\n",
    "]"
   ]
  },
  {
   "cell_type": "code",
   "execution_count": 389,
   "metadata": {},
   "outputs": [
    {
     "output_type": "display_data",
     "data": {
      "text/plain": "<Figure size 648x792 with 1 Axes>",
      "image/svg+xml": "<?xml version=\"1.0\" encoding=\"utf-8\" standalone=\"no\"?>\r\n<!DOCTYPE svg PUBLIC \"-//W3C//DTD SVG 1.1//EN\"\r\n  \"http://www.w3.org/Graphics/SVG/1.1/DTD/svg11.dtd\">\r\n<!-- Created with matplotlib (https://matplotlib.org/) -->\r\n<svg height=\"784.8pt\" version=\"1.1\" viewBox=\"0 0 639.55733 784.8\" width=\"639.55733pt\" xmlns=\"http://www.w3.org/2000/svg\" xmlns:xlink=\"http://www.w3.org/1999/xlink\">\r\n <defs>\r\n  <style type=\"text/css\">\r\n*{stroke-linecap:butt;stroke-linejoin:round;}\r\n  </style>\r\n </defs>\r\n <g id=\"figure_1\">\r\n  <g id=\"patch_1\">\r\n   <path d=\"M 0 784.8 \r\nL 639.55733 784.8 \r\nL 639.55733 0 \r\nL 0 0 \r\nz\r\n\" style=\"fill:none;\"/>\r\n  </g>\r\n  <g id=\"axes_1\">\r\n   <g id=\"line2d_1\">\r\n    <path clip-path=\"url(#p9936541015)\" d=\"M 78.815519 149.966434 \r\nL 122.218864 149.966434 \r\nL 122.218864 176.903497 \r\nL 165.622209 176.903497 \r\nL 165.622209 311.588811 \r\nL 35.412174 311.588811 \r\n\" style=\"fill:none;stroke:#000000;stroke-linecap:square;stroke-width:1.5;\"/>\r\n   </g>\r\n   <g id=\"line2d_2\">\r\n    <path clip-path=\"url(#p9936541015)\" d=\"M 209.025554 149.966434 \r\nL 252.428899 149.966434 \r\nL 252.428899 69.155245 \r\nL 339.235589 69.155245 \r\nL 339.235589 123.029371 \r\nL 426.042278 123.029371 \r\nL 426.042278 203.840559 \r\nL 339.235589 203.840559 \r\nL 339.235589 257.714685 \r\nL 252.428899 257.714685 \r\nL 252.428899 284.651748 \r\nL 209.025554 284.651748 \r\nL 209.025554 149.966434 \r\n\" style=\"fill:none;stroke:#000000;stroke-linecap:square;stroke-width:1.5;\"/>\r\n   </g>\r\n   <g id=\"line2d_3\">\r\n    <path clip-path=\"url(#p9936541015)\" d=\"M 339.235589 42.218182 \r\nL 382.638933 42.218182 \r\nL 382.638933 96.092308 \r\nL 469.445623 96.092308 \r\nL 469.445623 284.651748 \r\nL 339.235589 284.651748 \r\nL 339.235589 338.525874 \r\nL 295.832244 338.525874 \r\nL 295.832244 311.588811 \r\nL 252.428899 311.588811 \r\nL 252.428899 338.525874 \r\nL 209.025554 338.525874 \r\nL 209.025554 311.588811 \r\nL 165.622209 311.588811 \r\n\" style=\"fill:none;stroke:#000000;stroke-linecap:square;stroke-width:1.5;\"/>\r\n   </g>\r\n   <g id=\"line2d_4\">\r\n    <path clip-path=\"url(#p9936541015)\" d=\"M 469.445623 230.777622 \r\nL 512.848968 230.777622 \r\nL 512.848968 176.903497 \r\nL 556.252313 176.903497 \r\n\" style=\"fill:none;stroke:#000000;stroke-linecap:square;stroke-width:1.5;\"/>\r\n   </g>\r\n   <g id=\"line2d_5\">\r\n    <path clip-path=\"url(#p9936541015)\" d=\"M 252.428899 338.525874 \r\nL 252.428899 365.462937 \r\nL 209.025554 365.462937 \r\nL 209.025554 392.4 \r\nL 252.428899 392.4 \r\nL 252.428899 419.337063 \r\nL 209.025554 419.337063 \r\nL 209.025554 446.274126 \r\nL 122.218864 446.274126 \r\n\" style=\"fill:none;stroke:#000000;stroke-linecap:square;stroke-width:1.5;\"/>\r\n   </g>\r\n   <g id=\"line2d_6\">\r\n    <path clip-path=\"url(#p9936541015)\" d=\"M 209.025554 446.274126 \r\nL 209.025554 473.211189 \r\nL 252.428899 473.211189 \r\nL 252.428899 446.274126 \r\nL 295.832244 446.274126 \r\nL 295.832244 527.085315 \r\nL 252.428899 527.085315 \r\nL 252.428899 554.022378 \r\nL 209.025554 554.022378 \r\nL 209.025554 580.959441 \r\nL 165.622209 580.959441 \r\nL 165.622209 527.085315 \r\nL 78.815519 527.085315 \r\n\" style=\"fill:none;stroke:#000000;stroke-linecap:square;stroke-width:1.5;\"/>\r\n   </g>\r\n   <g id=\"line2d_7\">\r\n    <path clip-path=\"url(#p9936541015)\" d=\"M 252.428899 365.462937 \r\nL 295.832244 365.462937 \r\nL 295.832244 446.274126 \r\n\" style=\"fill:none;stroke:#000000;stroke-linecap:square;stroke-width:1.5;\"/>\r\n   </g>\r\n   <g id=\"line2d_8\">\r\n    <path clip-path=\"url(#p9936541015)\" d=\"M 252.428899 365.462937 \r\nL 252.428899 392.4 \r\n\" style=\"fill:none;stroke:#000000;stroke-linecap:square;stroke-width:1.5;\"/>\r\n   </g>\r\n   <g id=\"line2d_9\">\r\n    <path clip-path=\"url(#p9936541015)\" d=\"M 122.218864 580.959441 \r\nL 165.622209 580.959441 \r\nL 165.622209 607.896503 \r\nL 209.025554 607.896503 \r\nL 209.025554 661.770629 \r\nL 122.218864 661.770629 \r\nL 122.218864 580.959441 \r\n\" style=\"fill:none;stroke:#000000;stroke-linecap:square;stroke-width:1.5;\"/>\r\n   </g>\r\n   <g id=\"line2d_10\">\r\n    <path clip-path=\"url(#p9936541015)\" d=\"M 252.428899 554.022378 \r\nL 252.428899 580.959441 \r\nL 295.832244 580.959441 \r\nL 295.832244 634.833566 \r\n\" style=\"fill:none;stroke:#000000;stroke-linecap:square;stroke-width:1.5;\"/>\r\n   </g>\r\n   <g id=\"line2d_11\">\r\n    <path clip-path=\"url(#p9936541015)\" d=\"M 382.638933 284.651748 \r\nL 382.638933 338.525874 \r\nL 426.042278 338.525874 \r\nL 426.042278 392.4 \r\nL 382.638933 392.4 \r\nL 382.638933 446.274126 \r\nL 295.832244 446.274126 \r\n\" style=\"fill:none;stroke:#000000;stroke-linecap:square;stroke-width:1.5;\"/>\r\n   </g>\r\n   <g id=\"line2d_12\">\r\n    <path clip-path=\"url(#p9936541015)\" d=\"M 426.042278 392.4 \r\nL 512.848968 392.4 \r\nL 556.252313 392.4 \r\nL 556.252313 365.462937 \r\nL 599.655658 365.462937 \r\n\" style=\"fill:none;stroke:#000000;stroke-linecap:square;stroke-width:1.5;\"/>\r\n   </g>\r\n   <g id=\"line2d_13\">\r\n    <path clip-path=\"url(#p9936541015)\" d=\"M 382.638933 419.337063 \r\nL 382.638933 473.211189 \r\nL 469.445623 473.211189 \r\nL 469.445623 446.274126 \r\nL 512.848968 446.274126 \r\nL 512.848968 392.4 \r\n\" style=\"fill:none;stroke:#000000;stroke-linecap:square;stroke-width:1.5;\"/>\r\n   </g>\r\n   <g id=\"line2d_14\">\r\n    <path clip-path=\"url(#p9936541015)\" d=\"M 426.042278 473.211189 \r\nL 426.042278 500.148252 \r\nL 382.638933 500.148252 \r\nL 382.638933 527.085315 \r\nL 426.042278 527.085315 \r\nL 426.042278 554.022378 \r\nL 469.445623 554.022378 \r\nL 469.445623 580.959441 \r\n\" style=\"fill:none;stroke:#000000;stroke-linecap:square;stroke-width:1.5;\"/>\r\n   </g>\r\n   <g id=\"line2d_15\">\r\n    <path clip-path=\"url(#p9936541015)\" d=\"M 512.848968 446.274126 \r\nL 599.655658 446.274126 \r\n\" style=\"fill:none;stroke:#000000;stroke-linecap:square;stroke-width:1.5;\"/>\r\n   </g>\r\n   <g id=\"line2d_16\">\r\n    <path clip-path=\"url(#p9936541015)\" d=\"M 252.428899 742.581818 \r\nL 295.832244 742.581818 \r\nL 295.832244 688.707692 \r\n\" style=\"fill:none;stroke:#000000;stroke-linecap:square;stroke-width:1.5;\"/>\r\n   </g>\r\n   <g id=\"text_1\">\r\n    <!-- 철원 -->\r\n    <defs>\r\n     <path d=\"M 57.171875 37.109375 \r\nQ 43.21875 41.359375 34.8125 51.8125 \r\nQ 28.515625 42.09375 13.484375 34.8125 \r\nL 5.171875 42.921875 \r\nQ 15.1875 45.703125 21.84375 52.171875 \r\nQ 28.515625 58.640625 28.515625 66.40625 \r\nL 28.515625 68.015625 \r\nL 7.8125 68.015625 \r\nL 7.8125 77.78125 \r\nL 28.609375 77.78125 \r\nL 28.609375 86.71875 \r\nL 40.921875 86.71875 \r\nL 40.921875 77.78125 \r\nL 61.625 77.78125 \r\nL 61.625 68.015625 \r\nL 40.921875 68.015625 \r\nL 40.921875 66.109375 \r\nQ 40.921875 58.796875 47.5625 53.25 \r\nQ 54.203125 47.703125 64.203125 45.90625 \r\nz\r\nM 74.90625 38.09375 \r\nL 74.90625 53.515625 \r\nL 57.171875 53.515625 \r\nL 57.171875 63.28125 \r\nL 74.90625 63.28125 \r\nL 74.90625 85.40625 \r\nL 86.921875 85.40625 \r\nL 86.921875 38.09375 \r\nz\r\nM 25.984375 -7.28125 \r\nL 25.984375 18.40625 \r\nL 74.90625 18.40625 \r\nL 74.90625 24.125 \r\nL 25.984375 24.125 \r\nL 25.984375 34.421875 \r\nL 86.921875 34.421875 \r\nL 86.921875 8.984375 \r\nL 38.09375 8.984375 \r\nL 38.09375 2.984375 \r\nL 89.3125 2.984375 \r\nL 89.3125 -7.28125 \r\nz\r\n\" id=\"MalgunGothicBold-52384\"/>\r\n     <path d=\"M 73.09375 13.8125 \r\nL 73.09375 20.609375 \r\nL 54.890625 20.609375 \r\nL 54.890625 30.078125 \r\nL 73.09375 30.078125 \r\nL 73.09375 85.40625 \r\nL 85.40625 85.40625 \r\nL 85.40625 13.8125 \r\nz\r\nM 37.59375 49.125 \r\nQ 26.703125 49.125 19.9375 53.859375 \r\nQ 13.1875 58.59375 13.1875 66.40625 \r\nQ 13.1875 74.21875 20.046875 78.90625 \r\nQ 26.90625 83.59375 37.59375 83.59375 \r\nQ 48.578125 83.59375 55.25 78.96875 \r\nQ 61.921875 74.359375 61.921875 66.40625 \r\nQ 61.921875 58.546875 55.109375 53.828125 \r\nQ 48.296875 49.125 37.59375 49.125 \r\nz\r\nM 37.59375 74.125 \r\nQ 31.984375 74.125 28.6875 71.875 \r\nQ 25.390625 69.625 25.390625 66.40625 \r\nQ 25.390625 63.09375 28.609375 60.84375 \r\nQ 31.84375 58.59375 37.59375 58.59375 \r\nQ 43.265625 58.59375 46.53125 60.890625 \r\nQ 49.8125 63.1875 49.8125 66.40625 \r\nQ 49.8125 69.875 46.65625 72 \r\nQ 43.5 74.125 37.59375 74.125 \r\nz\r\nM 68.40625 36.078125 \r\nQ 57.671875 35.359375 46.921875 34.90625 \r\nL 46.921875 15.28125 \r\nL 35.015625 15.28125 \r\nL 35.015625 34.421875 \r\nQ 18.953125 33.796875 8.296875 33.796875 \r\nL 6.59375 44.390625 \r\nQ 41.0625 44.390625 67.578125 46.1875 \r\nz\r\nM 20.515625 -5.8125 \r\nL 20.515625 23.296875 \r\nL 32.71875 23.296875 \r\nL 32.71875 4.5 \r\nL 87.703125 4.5 \r\nL 87.703125 -5.8125 \r\nz\r\n\" id=\"MalgunGothicBold-50896\"/>\r\n    </defs>\r\n    <g transform=\"translate(349.937261 31.625119)scale(0.11 -0.11)\">\r\n     <use xlink:href=\"#MalgunGothicBold-52384\"/>\r\n     <use x=\"100\" xlink:href=\"#MalgunGothicBold-50896\"/>\r\n    </g>\r\n   </g>\r\n   <g id=\"text_2\">\r\n    <!-- 화천 -->\r\n    <defs>\r\n     <path d=\"M 6.390625 64.703125 \r\nL 6.390625 75 \r\nL 29.5 75 \r\nL 29.5 86.078125 \r\nL 41.796875 86.078125 \r\nL 41.796875 75 \r\nL 64.796875 75 \r\nL 64.796875 64.703125 \r\nz\r\nM 83.984375 34.90625 \r\nL 83.984375 -8.796875 \r\nL 71.6875 -8.796875 \r\nL 71.6875 85.40625 \r\nL 83.984375 85.40625 \r\nL 83.984375 45.21875 \r\nL 98.09375 45.21875 \r\nL 98.09375 34.90625 \r\nz\r\nM 68.5 6.296875 \r\nQ 42.53125 4.78125 3.8125 4.78125 \r\nL 2.59375 14.984375 \r\nL 29.5 15.1875 \r\nL 29.5 24.703125 \r\nQ 20.84375 26.171875 16.015625 31.03125 \r\nQ 11.1875 35.890625 11.1875 42.828125 \r\nQ 11.1875 50.984375 17.84375 56.171875 \r\nQ 24.515625 61.375 35.6875 61.375 \r\nQ 47.015625 61.375 53.515625 56.421875 \r\nQ 60.015625 51.46875 60.015625 43.21875 \r\nQ 60.015625 36.375 55.25 31.34375 \r\nQ 50.484375 26.3125 41.796875 24.8125 \r\nL 41.796875 15.484375 \r\nQ 61.8125 15.96875 67.671875 16.5 \r\nz\r\nM 35.6875 51.3125 \r\nQ 30.171875 51.3125 26.828125 48.828125 \r\nQ 23.484375 46.34375 23.484375 42.71875 \r\nQ 23.484375 39.0625 26.734375 36.671875 \r\nQ 29.984375 34.28125 35.6875 34.28125 \r\nQ 41.359375 34.28125 44.578125 36.640625 \r\nQ 47.796875 39.015625 47.796875 42.71875 \r\nQ 47.796875 46.53125 44.59375 48.921875 \r\nQ 41.40625 51.3125 35.6875 51.3125 \r\nz\r\n\" id=\"MalgunGothicBold-54868\"/>\r\n     <path d=\"M 59.1875 27.6875 \r\nQ 53.515625 29.890625 47.015625 34.8125 \r\nQ 40.53125 39.75 37.109375 44.390625 \r\nQ 34.234375 39.40625 27.984375 33.90625 \r\nQ 21.734375 28.421875 15.578125 25.390625 \r\nL 7.328125 33.59375 \r\nQ 18.5625 38.1875 24.578125 45.265625 \r\nQ 30.609375 52.34375 30.609375 60.59375 \r\nL 30.609375 65.1875 \r\nL 9.90625 65.1875 \r\nL 9.90625 75.203125 \r\nL 30.71875 75.203125 \r\nL 30.71875 85.6875 \r\nL 43.015625 85.6875 \r\nL 43.015625 75.203125 \r\nL 63.71875 75.203125 \r\nL 63.71875 65.1875 \r\nL 43.015625 65.1875 \r\nL 43.015625 60.296875 \r\nQ 43.015625 52.484375 50.171875 45.671875 \r\nQ 57.328125 38.875 66.40625 36.921875 \r\nz\r\nM 74.90625 18.015625 \r\nL 74.90625 48.578125 \r\nL 57.625 48.578125 \r\nL 57.625 58.6875 \r\nL 74.90625 58.6875 \r\nL 74.90625 85.40625 \r\nL 86.921875 85.40625 \r\nL 86.921875 18.015625 \r\nz\r\nM 26.125 -5.515625 \r\nL 26.125 25.59375 \r\nL 38.375 25.59375 \r\nL 38.375 4.78125 \r\nL 88.71875 4.78125 \r\nL 88.71875 -5.515625 \r\nz\r\n\" id=\"MalgunGothicBold-52380\"/>\r\n    </defs>\r\n    <g transform=\"translate(393.340606 31.625119)scale(0.11 -0.11)\">\r\n     <use xlink:href=\"#MalgunGothicBold-54868\"/>\r\n     <use x=\"100\" xlink:href=\"#MalgunGothicBold-52380\"/>\r\n    </g>\r\n   </g>\r\n   <g id=\"text_3\">\r\n    <!-- 양구 -->\r\n    <defs>\r\n     <path d=\"M 82.171875 41.890625 \r\nL 82.171875 30.421875 \r\nL 69.921875 30.421875 \r\nL 69.921875 85.40625 \r\nL 82.171875 85.40625 \r\nL 82.171875 74.3125 \r\nL 96.484375 74.3125 \r\nL 96.484375 64.015625 \r\nL 82.171875 64.015625 \r\nL 82.171875 52.09375 \r\nL 96.484375 52.09375 \r\nL 96.484375 41.890625 \r\nz\r\nM 32.8125 35.5 \r\nQ 21.78125 35.5 14.75 42.28125 \r\nQ 7.71875 49.078125 7.71875 59.078125 \r\nQ 7.71875 69.28125 14.71875 76 \r\nQ 21.734375 82.71875 32.8125 82.71875 \r\nQ 43.890625 82.71875 50.890625 76 \r\nQ 57.90625 69.28125 57.90625 59.078125 \r\nQ 57.90625 49.078125 50.875 42.28125 \r\nQ 43.84375 35.5 32.8125 35.5 \r\nz\r\nM 32.8125 72.703125 \r\nQ 26.953125 72.703125 23.484375 68.921875 \r\nQ 20.015625 65.140625 20.015625 59.1875 \r\nQ 20.015625 53.171875 23.4375 49.390625 \r\nQ 26.859375 45.609375 32.8125 45.609375 \r\nQ 38.671875 45.609375 42.1875 49.390625 \r\nQ 45.703125 53.171875 45.703125 59.1875 \r\nQ 45.703125 65.140625 42.140625 68.921875 \r\nQ 38.578125 72.703125 32.8125 72.703125 \r\nz\r\nM 52.296875 -8.40625 \r\nQ 37.3125 -8.40625 29.109375 -3.25 \r\nQ 20.90625 1.90625 20.90625 10.40625 \r\nQ 20.90625 18.84375 29.203125 23.921875 \r\nQ 37.5 29 52.296875 29 \r\nQ 67.140625 29 75.40625 23.9375 \r\nQ 83.6875 18.890625 83.6875 10.40625 \r\nQ 83.6875 1.859375 75.453125 -3.265625 \r\nQ 67.234375 -8.40625 52.296875 -8.40625 \r\nz\r\nM 52.296875 18.796875 \r\nQ 33.59375 18.796875 33.59375 10.40625 \r\nQ 33.59375 1.8125 52.296875 1.8125 \r\nQ 71.09375 1.8125 71.09375 10.40625 \r\nQ 71.09375 18.796875 52.296875 18.796875 \r\nz\r\n\" id=\"MalgunGothicBold-50577\"/>\r\n     <path d=\"M 43.109375 -8.796875 \r\nL 43.109375 32.8125 \r\nL 6.296875 32.8125 \r\nL 6.296875 43.21875 \r\nL 67.390625 43.21875 \r\nQ 68.703125 61.03125 68.703125 71 \r\nL 19.578125 71 \r\nL 19.578125 81.296875 \r\nL 80.90625 81.296875 \r\nQ 80.90625 64.015625 79.203125 43.21875 \r\nL 93.703125 43.21875 \r\nL 93.703125 32.8125 \r\nL 55.421875 32.8125 \r\nL 55.421875 -8.796875 \r\nz\r\n\" id=\"MalgunGothicBold-44396\"/>\r\n    </defs>\r\n    <g transform=\"translate(436.743951 31.625119)scale(0.11 -0.11)\">\r\n     <use xlink:href=\"#MalgunGothicBold-50577\"/>\r\n     <use x=\"100\" xlink:href=\"#MalgunGothicBold-44396\"/>\r\n    </g>\r\n   </g>\r\n   <g id=\"text_4\">\r\n    <!-- 고성 -->\r\n    <defs>\r\n     <path d=\"M 81.390625 56.984375 \r\nQ 81.390625 40.828125 79.203125 24.421875 \r\nL 67.09375 25.296875 \r\nQ 69.09375 40.375 69.09375 54.109375 \r\nL 69.09375 66.703125 \r\nL 17.390625 66.703125 \r\nL 17.390625 76.8125 \r\nL 81.390625 76.8125 \r\nz\r\nM 6.296875 4.109375 \r\nL 6.296875 14.40625 \r\nL 37.40625 14.40625 \r\nL 37.40625 45.796875 \r\nL 49.703125 45.796875 \r\nL 49.703125 14.40625 \r\nL 93.703125 14.40625 \r\nL 93.703125 4.109375 \r\nz\r\n\" id=\"MalgunGothicBold-44256\"/>\r\n     <path d=\"M 74.8125 31.5 \r\nL 74.8125 58.40625 \r\nL 54.59375 58.40625 \r\nL 54.59375 68.796875 \r\nL 74.8125 68.796875 \r\nL 74.8125 85.40625 \r\nL 86.8125 85.40625 \r\nL 86.8125 31.5 \r\nz\r\nM 56.109375 34.515625 \r\nQ 41.796875 41.359375 34.625 52.6875 \r\nQ 31.984375 47.46875 25.3125 40.890625 \r\nQ 18.65625 34.328125 13.625 31.6875 \r\nL 4.6875 40.1875 \r\nQ 15.046875 44.78125 21.625 53.25 \r\nQ 28.21875 61.71875 28.21875 70.703125 \r\nL 28.21875 82.421875 \r\nL 40.375 82.421875 \r\nL 40.375 71.09375 \r\nQ 40.375 62.0625 47.203125 54.390625 \r\nQ 54.046875 46.734375 63.921875 44 \r\nz\r\nM 57.171875 -8.40625 \r\nQ 42.578125 -8.40625 34.390625 -2.953125 \r\nQ 26.21875 2.484375 26.21875 11.1875 \r\nQ 26.21875 19.828125 34.421875 25.3125 \r\nQ 42.625 30.8125 57.171875 30.8125 \r\nQ 71.78125 30.8125 80.03125 25.296875 \r\nQ 88.28125 19.78125 88.28125 11.1875 \r\nQ 88.28125 2.484375 80.046875 -2.953125 \r\nQ 71.828125 -8.40625 57.171875 -8.40625 \r\nz\r\nM 57.171875 20.703125 \r\nQ 47.859375 20.703125 43.234375 18.0625 \r\nQ 38.625 15.4375 38.625 11.1875 \r\nQ 38.625 6.9375 43.28125 4.3125 \r\nQ 47.953125 1.703125 57.171875 1.703125 \r\nQ 66.453125 1.703125 71.15625 4.296875 \r\nQ 75.875 6.890625 75.875 11.1875 \r\nQ 75.875 15.375 71.203125 18.03125 \r\nQ 66.546875 20.703125 57.171875 20.703125 \r\nz\r\n\" id=\"MalgunGothicBold-49457\"/>\r\n    </defs>\r\n    <g transform=\"translate(480.147296 31.625119)scale(0.11 -0.11)\">\r\n     <use xlink:href=\"#MalgunGothicBold-44256\"/>\r\n     <use x=\"100\" xlink:href=\"#MalgunGothicBold-49457\"/>\r\n    </g>\r\n   </g>\r\n   <g id=\"text_5\">\r\n    <!-- 양주 -->\r\n    <defs>\r\n     <path d=\"M 84.078125 44.09375 \r\nQ 61.859375 48.4375 49.8125 61.8125 \r\nQ 45.703125 56.296875 35.78125 50.953125 \r\nQ 25.875 45.609375 16.015625 43.890625 \r\nL 8.59375 53.328125 \r\nQ 20.5625 54.15625 30.265625 59.34375 \r\nQ 39.984375 64.546875 42.921875 71.578125 \r\nL 15.921875 71.578125 \r\nL 15.921875 81.890625 \r\nL 84.1875 81.890625 \r\nL 84.1875 71.578125 \r\nL 56.890625 71.578125 \r\nQ 59.46875 64.984375 68.84375 60.03125 \r\nQ 78.21875 55.078125 90.828125 53.609375 \r\nz\r\nM 56.109375 27.59375 \r\nL 56.109375 -8.796875 \r\nL 43.796875 -8.796875 \r\nL 43.796875 27.59375 \r\nL 6.296875 27.59375 \r\nL 6.296875 37.890625 \r\nL 93.703125 37.890625 \r\nL 93.703125 27.59375 \r\nz\r\n\" id=\"MalgunGothicBold-51452\"/>\r\n    </defs>\r\n    <g transform=\"translate(176.323881 58.562182)scale(0.11 -0.11)\">\r\n     <use xlink:href=\"#MalgunGothicBold-50577\"/>\r\n     <use x=\"100\" xlink:href=\"#MalgunGothicBold-51452\"/>\r\n    </g>\r\n   </g>\r\n   <g id=\"text_6\">\r\n    <!-- 동두천 -->\r\n    <defs>\r\n     <path d=\"M 6.296875 32.328125 \r\nL 6.296875 42.71875 \r\nL 43.890625 42.71875 \r\nL 43.890625 51.3125 \r\nL 19.484375 51.3125 \r\nL 19.484375 83.109375 \r\nL 80.71875 83.109375 \r\nL 80.71875 72.796875 \r\nL 31.890625 72.796875 \r\nL 31.890625 61.625 \r\nL 81.6875 61.625 \r\nL 81.6875 51.3125 \r\nL 56.109375 51.3125 \r\nL 56.109375 42.71875 \r\nL 93.703125 42.71875 \r\nL 93.703125 32.328125 \r\nz\r\nM 50 -8.796875 \r\nQ 34.96875 -8.796875 26.984375 -3.953125 \r\nQ 19 0.875 19 9.421875 \r\nQ 19 17.828125 27.046875 22.65625 \r\nQ 35.109375 27.484375 50 27.484375 \r\nQ 64.890625 27.484375 72.9375 22.65625 \r\nQ 81 17.828125 81 9.421875 \r\nQ 81 0.875 73.015625 -3.953125 \r\nQ 65.046875 -8.796875 50 -8.796875 \r\nz\r\nM 50 17.390625 \r\nQ 31.5 17.390625 31.5 9.421875 \r\nQ 31.5 1.21875 50 1.21875 \r\nQ 68.5 1.21875 68.5 9.421875 \r\nQ 68.5 17.390625 50 17.390625 \r\nz\r\n\" id=\"MalgunGothicBold-46041\"/>\r\n     <path d=\"M 19.828125 45.515625 \r\nL 19.828125 81.984375 \r\nL 80.515625 81.984375 \r\nL 80.515625 71.6875 \r\nL 32.078125 71.6875 \r\nL 32.078125 55.8125 \r\nL 81.109375 55.8125 \r\nL 81.109375 45.515625 \r\nz\r\nM 56.109375 24.515625 \r\nL 56.109375 -8.6875 \r\nL 43.796875 -8.6875 \r\nL 43.796875 24.515625 \r\nL 6.296875 24.515625 \r\nL 6.296875 34.8125 \r\nL 93.703125 34.8125 \r\nL 93.703125 24.515625 \r\nz\r\n\" id=\"MalgunGothicBold-46160\"/>\r\n    </defs>\r\n    <g transform=\"translate(216.477226 58.170073)scale(0.095 -0.095)\">\r\n     <use xlink:href=\"#MalgunGothicBold-46041\"/>\r\n     <use x=\"100\" xlink:href=\"#MalgunGothicBold-46160\"/>\r\n     <use x=\"200\" xlink:href=\"#MalgunGothicBold-52380\"/>\r\n    </g>\r\n   </g>\r\n   <g id=\"text_7\">\r\n    <!-- 연천 -->\r\n    <defs>\r\n     <path d=\"M 54.78125 39.5 \r\nQ 47.40625 30.421875 34.71875 30.421875 \r\nQ 23.734375 30.421875 16.359375 37.515625 \r\nQ 8.984375 44.625 8.984375 56.203125 \r\nQ 8.984375 67.78125 16.328125 74.875 \r\nQ 23.6875 81.984375 34.71875 81.984375 \r\nQ 47.859375 81.984375 55.328125 72.3125 \r\nL 74.703125 72.3125 \r\nL 74.703125 85.40625 \r\nL 86.8125 85.40625 \r\nL 86.8125 17.28125 \r\nL 74.703125 17.28125 \r\nL 74.703125 39.5 \r\nz\r\nM 34.71875 71.78125 \r\nQ 28.515625 71.78125 24.796875 67.65625 \r\nQ 21.09375 63.53125 21.09375 56.203125 \r\nQ 21.09375 48.875 24.828125 44.75 \r\nQ 28.5625 40.625 34.71875 40.625 \r\nQ 40.765625 40.625 44.53125 44.765625 \r\nQ 48.296875 48.921875 48.296875 56.203125 \r\nQ 48.296875 63.484375 44.5625 67.625 \r\nQ 40.828125 71.78125 34.71875 71.78125 \r\nz\r\nM 59.515625 49.21875 \r\nL 74.703125 49.21875 \r\nL 74.703125 62.5 \r\nL 59.71875 62.5 \r\nQ 60.296875 59.46875 60.296875 56.203125 \r\nQ 60.296875 52.546875 59.515625 49.21875 \r\nz\r\nM 26.125 -5.515625 \r\nL 26.125 25.59375 \r\nL 38.375 25.59375 \r\nL 38.375 4.78125 \r\nL 88.71875 4.78125 \r\nL 88.71875 -5.515625 \r\nz\r\n\" id=\"MalgunGothicBold-50672\"/>\r\n    </defs>\r\n    <g transform=\"translate(263.130571 58.562182)scale(0.11 -0.11)\">\r\n     <use xlink:href=\"#MalgunGothicBold-50672\"/>\r\n     <use x=\"100\" xlink:href=\"#MalgunGothicBold-52380\"/>\r\n    </g>\r\n   </g>\r\n   <g id=\"text_8\">\r\n    <!-- 포천 -->\r\n    <defs>\r\n     <path d=\"M 14.984375 67.09375 \r\nL 14.984375 77.203125 \r\nL 85.015625 77.203125 \r\nL 85.015625 67.09375 \r\nz\r\nM 6.296875 4 \r\nL 6.296875 14.203125 \r\nL 43.796875 14.203125 \r\nL 43.796875 30.8125 \r\nL 14.3125 30.8125 \r\nL 14.3125 40.921875 \r\nL 27.6875 40.921875 \r\nL 26.609375 62.890625 \r\nL 38.8125 62.890625 \r\nL 39.59375 40.921875 \r\nL 60.296875 40.921875 \r\nL 61.1875 62.890625 \r\nL 73.390625 62.890625 \r\nL 72.015625 40.921875 \r\nL 85.6875 40.921875 \r\nL 85.6875 30.8125 \r\nL 56.109375 30.8125 \r\nL 56.109375 14.203125 \r\nL 93.703125 14.203125 \r\nL 93.703125 4 \r\nz\r\n\" id=\"MalgunGothicBold-54252\"/>\r\n    </defs>\r\n    <g transform=\"translate(306.533916 58.562182)scale(0.11 -0.11)\">\r\n     <use xlink:href=\"#MalgunGothicBold-54252\"/>\r\n     <use x=\"100\" xlink:href=\"#MalgunGothicBold-52380\"/>\r\n    </g>\r\n   </g>\r\n   <g id=\"text_9\">\r\n    <!-- 의정부 -->\r\n    <defs>\r\n     <path d=\"M 75 -8.796875 \r\nL 75 85.40625 \r\nL 87.109375 85.40625 \r\nL 87.109375 -8.796875 \r\nz\r\nM 36.375 32.171875 \r\nQ 25.296875 32.171875 17.796875 38.734375 \r\nQ 10.296875 45.3125 10.296875 55.8125 \r\nQ 10.296875 66.40625 17.96875 73 \r\nQ 25.640625 79.59375 36.921875 79.59375 \r\nQ 48.09375 79.59375 55.390625 73 \r\nQ 62.703125 66.40625 62.703125 55.8125 \r\nQ 62.703125 45.359375 55.125 38.765625 \r\nQ 47.5625 32.171875 36.375 32.171875 \r\nz\r\nM 36.53125 69.28125 \r\nQ 30.328125 69.28125 26.5625 65.46875 \r\nQ 22.796875 61.671875 22.796875 55.8125 \r\nQ 22.796875 50.046875 26.65625 46.265625 \r\nQ 30.515625 42.484375 36.53125 42.484375 \r\nQ 42.625 42.484375 46.40625 46.3125 \r\nQ 50.203125 50.140625 50.203125 55.8125 \r\nQ 50.203125 61.53125 46.359375 65.40625 \r\nQ 42.53125 69.28125 36.53125 69.28125 \r\nz\r\nM 4.984375 6.78125 \r\nL 3.71875 17.09375 \r\nQ 48.4375 17.09375 70.703125 18.5 \r\nL 71.390625 8.40625 \r\nQ 40.375 6.78125 4.984375 6.78125 \r\nz\r\n\" id=\"MalgunGothicBold-51032\"/>\r\n     <path d=\"M 74.8125 31.5 \r\nL 74.8125 54.296875 \r\nL 57.078125 54.296875 \r\nL 57.078125 64.109375 \r\nL 74.8125 64.109375 \r\nL 74.8125 85.40625 \r\nL 86.8125 85.40625 \r\nL 86.8125 31.5 \r\nz\r\nM 55.71875 33.015625 \r\nQ 41.75 39.9375 34.71875 50.203125 \r\nQ 32.125 44.828125 25.625 38.6875 \r\nQ 19.140625 32.5625 13.375 29.78125 \r\nL 4.6875 38.375 \r\nQ 14.5 42.09375 21.359375 50.265625 \r\nQ 28.21875 58.453125 28.21875 67.1875 \r\nL 28.21875 71 \r\nL 8.796875 71 \r\nL 8.796875 81.203125 \r\nL 59.421875 81.203125 \r\nL 59.421875 71 \r\nL 40.484375 71 \r\nL 40.484375 67.578125 \r\nQ 40.484375 59.1875 46.90625 52.390625 \r\nQ 53.328125 45.609375 63.484375 42.28125 \r\nz\r\nM 57.171875 -8.40625 \r\nQ 42.578125 -8.40625 34.390625 -2.953125 \r\nQ 26.21875 2.484375 26.21875 11.1875 \r\nQ 26.21875 19.828125 34.421875 25.3125 \r\nQ 42.625 30.8125 57.171875 30.8125 \r\nQ 71.78125 30.8125 80.03125 25.296875 \r\nQ 88.28125 19.78125 88.28125 11.1875 \r\nQ 88.28125 2.484375 80.046875 -2.953125 \r\nQ 71.828125 -8.40625 57.171875 -8.40625 \r\nz\r\nM 57.171875 20.703125 \r\nQ 47.859375 20.703125 43.234375 18.0625 \r\nQ 38.625 15.4375 38.625 11.1875 \r\nQ 38.625 6.9375 43.28125 4.3125 \r\nQ 47.953125 1.703125 57.171875 1.703125 \r\nQ 66.453125 1.703125 71.15625 4.296875 \r\nQ 75.875 6.890625 75.875 11.1875 \r\nQ 75.875 15.375 71.203125 18.03125 \r\nQ 66.546875 20.703125 57.171875 20.703125 \r\nz\r\n\" id=\"MalgunGothicBold-51221\"/>\r\n     <path d=\"M 19.484375 42.390625 \r\nL 19.484375 82.625 \r\nL 31.6875 82.625 \r\nL 31.6875 72.015625 \r\nL 68.3125 72.015625 \r\nL 68.3125 82.625 \r\nL 80.515625 82.625 \r\nL 80.515625 42.390625 \r\nz\r\nM 68.3125 61.71875 \r\nL 31.6875 61.71875 \r\nL 31.6875 52.59375 \r\nL 68.3125 52.59375 \r\nz\r\nM 56 23.1875 \r\nL 56 -8.796875 \r\nL 43.796875 -8.796875 \r\nL 43.796875 23.1875 \r\nL 6.296875 23.1875 \r\nL 6.296875 33.5 \r\nL 93.703125 33.5 \r\nL 93.703125 23.1875 \r\nz\r\n\" id=\"MalgunGothicBold-48512\"/>\r\n    </defs>\r\n    <g transform=\"translate(346.687261 58.170073)scale(0.095 -0.095)\">\r\n     <use xlink:href=\"#MalgunGothicBold-51032\"/>\r\n     <use x=\"100\" xlink:href=\"#MalgunGothicBold-51221\"/>\r\n     <use x=\"200\" xlink:href=\"#MalgunGothicBold-48512\"/>\r\n    </g>\r\n   </g>\r\n   <g id=\"text_10\">\r\n    <!-- 인제 -->\r\n    <defs>\r\n     <path d=\"M 73.390625 18.3125 \r\nL 73.390625 85.40625 \r\nL 85.40625 85.40625 \r\nL 85.40625 18.3125 \r\nz\r\nM 34.71875 31.78125 \r\nQ 23.78125 31.78125 16.59375 38.78125 \r\nQ 9.421875 45.796875 9.421875 56.6875 \r\nQ 9.421875 67.671875 16.59375 74.671875 \r\nQ 23.78125 81.6875 34.71875 81.6875 \r\nQ 45.65625 81.6875 52.828125 74.703125 \r\nQ 60.015625 67.71875 60.015625 56.6875 \r\nQ 60.015625 45.75 52.828125 38.765625 \r\nQ 45.65625 31.78125 34.71875 31.78125 \r\nz\r\nM 34.71875 71.390625 \r\nQ 28.859375 71.390625 25.125 67.328125 \r\nQ 21.390625 63.28125 21.390625 56.6875 \r\nQ 21.390625 50.140625 25.125 46.109375 \r\nQ 28.859375 42.09375 34.71875 42.09375 \r\nQ 40.671875 42.09375 44.328125 46.109375 \r\nQ 48 50.140625 48 56.6875 \r\nQ 48 63.140625 44.28125 67.265625 \r\nQ 40.578125 71.390625 34.71875 71.390625 \r\nz\r\nM 24.609375 -5.515625 \r\nL 24.609375 25.59375 \r\nL 36.921875 25.59375 \r\nL 36.921875 4.78125 \r\nL 87.203125 4.78125 \r\nL 87.203125 -5.515625 \r\nz\r\n\" id=\"MalgunGothicBold-51064\"/>\r\n     <path d=\"M 76.21875 -8.796875 \r\nL 76.21875 85.40625 \r\nL 88.375 85.40625 \r\nL 88.375 -8.796875 \r\nz\r\nM 57.078125 -6 \r\nL 57.078125 44.484375 \r\nL 44.09375 44.484375 \r\nL 44.09375 54.390625 \r\nL 57.078125 54.390625 \r\nL 57.078125 83.5 \r\nL 69.1875 83.5 \r\nL 69.1875 -6 \r\nz\r\nM 45.703125 15.09375 \r\nQ 41.75 18.015625 36.84375 24.015625 \r\nQ 31.9375 30.03125 30.078125 34.078125 \r\nQ 28.03125 28.953125 22.828125 22.265625 \r\nQ 17.625 15.578125 12.984375 12.015625 \r\nL 4 19.671875 \r\nQ 13.625 26.078125 18.875 35.796875 \r\nQ 24.125 45.515625 24.125 56.890625 \r\nL 24.125 67.28125 \r\nL 7.90625 67.28125 \r\nL 7.90625 77.484375 \r\nL 50.390625 77.484375 \r\nL 50.390625 67.28125 \r\nL 35.984375 67.28125 \r\nL 35.984375 55.8125 \r\nQ 35.984375 45.953125 40.796875 37.40625 \r\nQ 45.609375 28.859375 54 23.1875 \r\nz\r\n\" id=\"MalgunGothicBold-51228\"/>\r\n    </defs>\r\n    <g transform=\"translate(393.340606 58.562182)scale(0.11 -0.11)\">\r\n     <use xlink:href=\"#MalgunGothicBold-51064\"/>\r\n     <use x=\"100\" xlink:href=\"#MalgunGothicBold-51228\"/>\r\n    </g>\r\n   </g>\r\n   <g id=\"text_11\">\r\n    <!-- 춘천 -->\r\n    <defs>\r\n     <path d=\"M 84.8125 44.484375 \r\nQ 75.4375 45.265625 65.234375 49.390625 \r\nQ 55.03125 53.515625 50.09375 58.296875 \r\nQ 45.265625 53.328125 35.328125 49.3125 \r\nQ 25.390625 45.3125 14.796875 44.28125 \r\nL 8.40625 54 \r\nQ 19.875 53.953125 29.765625 57.765625 \r\nQ 39.65625 61.578125 42.390625 67.09375 \r\nL 15.921875 67.09375 \r\nL 15.921875 77.09375 \r\nL 43.890625 77.09375 \r\nL 43.890625 86.53125 \r\nL 56.203125 86.53125 \r\nL 56.203125 77.09375 \r\nL 84.078125 77.09375 \r\nL 84.078125 67.09375 \r\nL 57.71875 67.09375 \r\nQ 60.546875 61.578125 70.28125 57.84375 \r\nQ 80.03125 54.109375 90.828125 54.109375 \r\nz\r\nM 56.109375 28.328125 \r\nL 56.109375 11.53125 \r\nL 43.796875 11.53125 \r\nL 43.796875 28.328125 \r\nL 6.296875 28.328125 \r\nL 6.296875 38.71875 \r\nL 93.703125 38.71875 \r\nL 93.703125 28.328125 \r\nz\r\nM 19.09375 -5.171875 \r\nL 19.09375 21.78125 \r\nL 31.390625 21.78125 \r\nL 31.390625 5.078125 \r\nL 82.078125 5.078125 \r\nL 82.078125 -5.171875 \r\nz\r\n\" id=\"MalgunGothicBold-52632\"/>\r\n    </defs>\r\n    <g transform=\"translate(436.743951 58.562182)scale(0.11 -0.11)\">\r\n     <use xlink:href=\"#MalgunGothicBold-52632\"/>\r\n     <use x=\"100\" xlink:href=\"#MalgunGothicBold-52380\"/>\r\n    </g>\r\n   </g>\r\n   <g id=\"text_12\">\r\n    <!-- 속초 -->\r\n    <defs>\r\n     <path d=\"M 84.421875 50.59375 \r\nQ 62.703125 53.8125 50 67 \r\nQ 44.96875 61.28125 35.734375 56.765625 \r\nQ 26.515625 52.25 16.109375 50.6875 \r\nL 9.625 60.109375 \r\nQ 25.046875 61.328125 34.46875 67.59375 \r\nQ 43.890625 73.875 43.890625 79.78125 \r\nL 43.890625 84.8125 \r\nL 56 84.8125 \r\nL 56 79.78125 \r\nQ 56 73.96875 65.625 67.578125 \r\nQ 75.25 61.1875 90.1875 60.015625 \r\nz\r\nM 6.296875 32.078125 \r\nL 6.296875 42.390625 \r\nL 43.796875 42.390625 \r\nL 43.796875 53.609375 \r\nL 56.109375 53.609375 \r\nL 56.109375 42.390625 \r\nL 93.703125 42.390625 \r\nL 93.703125 32.078125 \r\nz\r\nM 68.609375 -8.796875 \r\nL 68.609375 14.40625 \r\nL 17.921875 14.40625 \r\nL 17.921875 24.703125 \r\nL 80.90625 24.703125 \r\nL 80.90625 -8.796875 \r\nz\r\n\" id=\"MalgunGothicBold-49549\"/>\r\n     <path d=\"M 83.796875 28.90625 \r\nQ 73.96875 31.296875 64.25 37.109375 \r\nQ 54.546875 42.921875 49.90625 49.3125 \r\nQ 39.65625 35.296875 16.796875 28.8125 \r\nL 8.6875 38.28125 \r\nQ 23 40.28125 32.765625 47.609375 \r\nQ 42.53125 54.9375 43.703125 63.8125 \r\nL 15.28125 63.8125 \r\nL 15.28125 73.78125 \r\nL 43.890625 73.78125 \r\nL 43.890625 84.90625 \r\nL 56.203125 84.90625 \r\nL 56.203125 73.78125 \r\nL 84.71875 73.78125 \r\nL 84.71875 63.8125 \r\nL 56.203125 63.8125 \r\nQ 57.171875 54.9375 66.71875 47.828125 \r\nQ 76.265625 40.71875 90.828125 38.484375 \r\nz\r\nM 6.296875 3.21875 \r\nL 6.296875 13.375 \r\nL 43.796875 13.375 \r\nL 43.796875 32.328125 \r\nL 56.109375 32.328125 \r\nL 56.109375 13.375 \r\nL 93.703125 13.375 \r\nL 93.703125 3.21875 \r\nz\r\n\" id=\"MalgunGothicBold-52488\"/>\r\n    </defs>\r\n    <g transform=\"translate(480.147296 58.562182)scale(0.11 -0.11)\">\r\n     <use xlink:href=\"#MalgunGothicBold-49549\"/>\r\n     <use x=\"100\" xlink:href=\"#MalgunGothicBold-52488\"/>\r\n    </g>\r\n   </g>\r\n   <g id=\"text_13\">\r\n    <!-- 파주 -->\r\n    <defs>\r\n     <path d=\"M 82.71875 38.375 \r\nL 82.71875 -8.796875 \r\nL 70.40625 -8.796875 \r\nL 70.40625 85.40625 \r\nL 82.8125 85.40625 \r\nL 82.8125 48.6875 \r\nL 97.40625 48.6875 \r\nL 97.40625 38.375 \r\nz\r\nM 8.796875 67.28125 \r\nL 8.796875 77.484375 \r\nL 63.8125 77.484375 \r\nL 63.8125 67.28125 \r\nz\r\nM 67.828125 16.609375 \r\nQ 58.25 15.28125 50.984375 15.28125 \r\nL 5.171875 15.28125 \r\nL 5.171875 25.59375 \r\nL 18.703125 25.59375 \r\nL 17.484375 60.796875 \r\nL 29.5 60.796875 \r\nL 30.078125 25.59375 \r\nL 42.671875 25.59375 \r\nL 43.3125 60.796875 \r\nL 55.328125 60.796875 \r\nL 53.90625 25.59375 \r\nQ 62.84375 25.59375 66.796875 26.609375 \r\nz\r\n\" id=\"MalgunGothicBold-54028\"/>\r\n    </defs>\r\n    <g transform=\"translate(176.323881 85.499245)scale(0.11 -0.11)\">\r\n     <use xlink:href=\"#MalgunGothicBold-54028\"/>\r\n     <use x=\"100\" xlink:href=\"#MalgunGothicBold-51452\"/>\r\n    </g>\r\n   </g>\r\n   <g id=\"text_14\">\r\n    <!-- 고양 -->\r\n    <g transform=\"translate(221.227226 78.574772)scale(0.095 -0.095)\">\r\n     <use xlink:href=\"#MalgunGothicBold-44256\"/>\r\n     <use x=\"100\" xlink:href=\"#MalgunGothicBold-50577\"/>\r\n    </g>\r\n    <!-- 일산동 -->\r\n    <defs>\r\n     <path d=\"M 73.390625 37.703125 \r\nL 73.390625 85.40625 \r\nL 85.40625 85.40625 \r\nL 85.40625 37.703125 \r\nz\r\nM 33.796875 39.015625 \r\nQ 22.796875 39.015625 15.984375 45.21875 \r\nQ 9.1875 51.421875 9.1875 61.28125 \r\nQ 9.1875 71.234375 16.015625 77.453125 \r\nQ 22.859375 83.6875 33.796875 83.6875 \r\nQ 44.921875 83.6875 51.75 77.390625 \r\nQ 58.59375 71.09375 58.59375 61.28125 \r\nQ 58.59375 51.515625 51.734375 45.265625 \r\nQ 44.875 39.015625 33.796875 39.015625 \r\nz\r\nM 33.796875 73.484375 \r\nQ 27.734375 73.484375 24.453125 70.265625 \r\nQ 21.1875 67.046875 21.1875 61.28125 \r\nQ 21.1875 55.8125 24.578125 52.421875 \r\nQ 27.984375 49.03125 33.796875 49.03125 \r\nQ 39.546875 49.03125 42.96875 52.375 \r\nQ 46.390625 55.71875 46.390625 61.28125 \r\nQ 46.390625 66.65625 42.96875 70.0625 \r\nQ 39.546875 73.484375 33.796875 73.484375 \r\nz\r\nM 24.515625 -7.421875 \r\nL 24.515625 18.109375 \r\nL 73.390625 18.109375 \r\nL 73.390625 23.6875 \r\nL 24.515625 23.6875 \r\nL 24.515625 33.984375 \r\nL 85.40625 33.984375 \r\nL 85.40625 8.890625 \r\nL 36.625 8.890625 \r\nL 36.625 2.875 \r\nL 87.796875 2.875 \r\nL 87.796875 -7.421875 \r\nz\r\n\" id=\"MalgunGothicBold-51068\"/>\r\n     <path d=\"M 82.078125 46.6875 \r\nL 82.078125 17.578125 \r\nL 69.921875 17.578125 \r\nL 69.921875 85.40625 \r\nL 82.078125 85.40625 \r\nL 82.078125 56.984375 \r\nL 96.484375 56.984375 \r\nL 96.484375 46.6875 \r\nz\r\nM 56.109375 31.5 \r\nQ 42.484375 37.984375 34.625 50.390625 \r\nQ 31.9375 45.015625 25.1875 38.125 \r\nQ 18.453125 31.25 13.625 28.71875 \r\nL 4.6875 37.5 \r\nQ 14.65625 41.796875 21.4375 50.6875 \r\nQ 28.21875 59.578125 28.21875 68.703125 \r\nL 28.21875 81.390625 \r\nL 40.484375 81.390625 \r\nL 40.484375 69.09375 \r\nQ 40.484375 60.015625 47.34375 52 \r\nQ 54.203125 44 63.921875 41.3125 \r\nz\r\nM 23.1875 -5.515625 \r\nL 23.1875 25.59375 \r\nL 35.5 25.59375 \r\nL 35.5 4.78125 \r\nL 84.71875 4.78125 \r\nL 84.71875 -5.515625 \r\nz\r\n\" id=\"MalgunGothicBold-49328\"/>\r\n    </defs>\r\n    <g transform=\"translate(216.477226 91.639499)scale(0.095 -0.095)\">\r\n     <use xlink:href=\"#MalgunGothicBold-51068\"/>\r\n     <use x=\"100\" xlink:href=\"#MalgunGothicBold-49328\"/>\r\n     <use x=\"200\" xlink:href=\"#MalgunGothicBold-46041\"/>\r\n    </g>\r\n   </g>\r\n   <g id=\"text_15\">\r\n    <!-- 서울 -->\r\n    <defs>\r\n     <path d=\"M 74.90625 -8.796875 \r\nL 74.90625 46.578125 \r\nL 54.5 46.578125 \r\nL 54.5 56.890625 \r\nL 74.90625 56.890625 \r\nL 74.90625 85.40625 \r\nL 87.109375 85.40625 \r\nL 87.109375 -8.796875 \r\nz\r\nM 56.390625 14.59375 \r\nQ 41.890625 24.65625 34.8125 38.1875 \r\nQ 27.046875 22.859375 13.09375 12.984375 \r\nL 3.609375 21.390625 \r\nQ 14.453125 26.953125 21.578125 38.03125 \r\nQ 28.71875 49.125 28.71875 60.796875 \r\nL 28.71875 79.109375 \r\nL 40.921875 79.109375 \r\nL 40.921875 61.078125 \r\nQ 40.921875 49.65625 47.90625 39.03125 \r\nQ 54.890625 28.421875 64.984375 24.125 \r\nz\r\n\" id=\"MalgunGothicBold-49436\"/>\r\n     <path d=\"M 50 51.90625 \r\nQ 35.15625 51.90625 26.6875 56.4375 \r\nQ 18.21875 60.984375 18.21875 68.609375 \r\nQ 18.21875 76.265625 26.609375 80.78125 \r\nQ 35.015625 85.296875 50 85.296875 \r\nQ 65.09375 85.296875 73.4375 80.796875 \r\nQ 81.78125 76.3125 81.78125 68.609375 \r\nQ 81.78125 60.890625 73.359375 56.390625 \r\nQ 64.9375 51.90625 50 51.90625 \r\nz\r\nM 50 75.875 \r\nQ 40.328125 75.875 35.515625 73.796875 \r\nQ 30.71875 71.734375 30.71875 68.609375 \r\nQ 30.71875 65.328125 35.59375 63.296875 \r\nQ 40.484375 61.28125 50 61.28125 \r\nQ 59.515625 61.28125 64.390625 63.296875 \r\nQ 69.28125 65.328125 69.28125 68.609375 \r\nQ 69.28125 71.734375 64.46875 73.796875 \r\nQ 59.671875 75.875 50 75.875 \r\nz\r\nM 19.09375 -7.171875 \r\nL 19.09375 17 \r\nL 68.609375 17 \r\nL 68.609375 22.125 \r\nL 19.09375 22.125 \r\nL 19.09375 32.078125 \r\nL 43.796875 32.078125 \r\nL 43.796875 37.796875 \r\nL 6.296875 37.796875 \r\nL 6.296875 47.796875 \r\nL 93.703125 47.796875 \r\nL 93.703125 37.796875 \r\nL 56.109375 37.796875 \r\nL 56.109375 32.078125 \r\nL 80.8125 32.078125 \r\nL 80.8125 7.90625 \r\nL 31.296875 7.90625 \r\nL 31.296875 2.78125 \r\nL 83.109375 2.78125 \r\nL 83.109375 -7.171875 \r\nz\r\n\" id=\"MalgunGothicBold-50872\"/>\r\n    </defs>\r\n    <g transform=\"translate(263.130571 79.188167)scale(0.11 -0.11)\">\r\n     <use xlink:href=\"#MalgunGothicBold-49436\"/>\r\n     <use x=\"100\" xlink:href=\"#MalgunGothicBold-50872\"/>\r\n    </g>\r\n    <!-- 도봉 -->\r\n    <defs>\r\n     <path d=\"M 6.296875 4.109375 \r\nL 6.296875 14.3125 \r\nL 43.796875 14.3125 \r\nL 43.796875 33.015625 \r\nL 20.21875 33.015625 \r\nL 20.21875 77.09375 \r\nL 79.78125 77.09375 \r\nL 79.78125 66.890625 \r\nL 32.515625 66.890625 \r\nL 32.515625 43.21875 \r\nL 81.203125 43.21875 \r\nL 81.203125 33.015625 \r\nL 56.109375 33.015625 \r\nL 56.109375 14.3125 \r\nL 93.703125 14.3125 \r\nL 93.703125 4.109375 \r\nz\r\n\" id=\"MalgunGothicBold-46020\"/>\r\n     <path d=\"M 6.296875 31.6875 \r\nL 6.296875 42 \r\nL 43.796875 42 \r\nL 43.796875 49.3125 \r\nL 19.484375 49.3125 \r\nL 19.484375 83.890625 \r\nL 31.6875 83.890625 \r\nL 31.6875 75.875 \r\nL 68.3125 75.875 \r\nL 68.3125 83.890625 \r\nL 80.515625 83.890625 \r\nL 80.515625 49.3125 \r\nL 56.109375 49.3125 \r\nL 56.109375 42 \r\nL 93.703125 42 \r\nL 93.703125 31.6875 \r\nz\r\nM 68.3125 65.921875 \r\nL 31.6875 65.921875 \r\nL 31.6875 59.515625 \r\nL 68.3125 59.515625 \r\nz\r\nM 50 -8.796875 \r\nQ 34.578125 -8.796875 26.296875 -4.03125 \r\nQ 18.015625 0.734375 18.015625 9.421875 \r\nQ 18.015625 17.96875 26.3125 22.71875 \r\nQ 34.625 27.484375 50 27.484375 \r\nQ 65.53125 27.484375 73.75 22.671875 \r\nQ 81.984375 17.875 81.984375 9.421875 \r\nQ 81.984375 0.734375 73.703125 -4.03125 \r\nQ 65.4375 -8.796875 50 -8.796875 \r\nz\r\nM 50 17.390625 \r\nQ 30.515625 17.390625 30.515625 9.421875 \r\nQ 30.515625 5.671875 35.4375 3.4375 \r\nQ 40.375 1.21875 50 1.21875 \r\nQ 59.625 1.21875 64.546875 3.4375 \r\nQ 69.484375 5.671875 69.484375 9.421875 \r\nQ 69.484375 17.390625 50 17.390625 \r\nz\r\n\" id=\"MalgunGothicBold-48393\"/>\r\n    </defs>\r\n    <g transform=\"translate(263.130571 91.810323)scale(0.11 -0.11)\">\r\n     <use xlink:href=\"#MalgunGothicBold-46020\"/>\r\n     <use x=\"100\" xlink:href=\"#MalgunGothicBold-48393\"/>\r\n    </g>\r\n   </g>\r\n   <g id=\"text_16\">\r\n    <!-- 서울 -->\r\n    <g transform=\"translate(306.533916 79.188167)scale(0.11 -0.11)\">\r\n     <use xlink:href=\"#MalgunGothicBold-49436\"/>\r\n     <use x=\"100\" xlink:href=\"#MalgunGothicBold-50872\"/>\r\n    </g>\r\n    <!-- 노원 -->\r\n    <defs>\r\n     <path d=\"M 6.296875 4.203125 \r\nL 6.296875 14.40625 \r\nL 43.796875 14.40625 \r\nL 43.796875 36.1875 \r\nL 19.1875 36.1875 \r\nL 19.1875 77.78125 \r\nL 31.390625 77.78125 \r\nL 31.390625 46.390625 \r\nL 82.625 46.390625 \r\nL 82.625 36.1875 \r\nL 56.109375 36.1875 \r\nL 56.109375 14.40625 \r\nL 93.703125 14.40625 \r\nL 93.703125 4.203125 \r\nz\r\n\" id=\"MalgunGothicBold-45432\"/>\r\n    </defs>\r\n    <g transform=\"translate(306.533916 91.810323)scale(0.11 -0.11)\">\r\n     <use xlink:href=\"#MalgunGothicBold-45432\"/>\r\n     <use x=\"100\" xlink:href=\"#MalgunGothicBold-50896\"/>\r\n    </g>\r\n   </g>\r\n   <g id=\"text_17\">\r\n    <!-- 남양주 -->\r\n    <defs>\r\n     <path d=\"M 82.171875 52.203125 \r\nL 82.171875 33.109375 \r\nL 69.921875 33.109375 \r\nL 69.921875 85.40625 \r\nL 82.171875 85.40625 \r\nL 82.171875 62.5 \r\nL 96.484375 62.5 \r\nL 96.484375 52.203125 \r\nz\r\nM 65.921875 43.40625 \r\nQ 57.90625 41.703125 49.359375 41.3125 \r\nQ 40.828125 40.921875 13.625 40.921875 \r\nL 13.625 81.5 \r\nL 25.78125 81.5 \r\nL 25.78125 51.21875 \r\nQ 53.078125 51.21875 64.3125 53.515625 \r\nz\r\nM 23 -6.78125 \r\nL 23 29.109375 \r\nL 82.171875 29.109375 \r\nL 82.171875 -6.78125 \r\nz\r\nM 70.015625 18.796875 \r\nL 35.203125 18.796875 \r\nL 35.203125 3.421875 \r\nL 70.015625 3.421875 \r\nz\r\n\" id=\"MalgunGothicBold-45224\"/>\r\n    </defs>\r\n    <g transform=\"translate(346.687261 85.107136)scale(0.095 -0.095)\">\r\n     <use xlink:href=\"#MalgunGothicBold-45224\"/>\r\n     <use x=\"100\" xlink:href=\"#MalgunGothicBold-50577\"/>\r\n     <use x=\"200\" xlink:href=\"#MalgunGothicBold-51452\"/>\r\n    </g>\r\n   </g>\r\n   <g id=\"text_18\">\r\n    <!-- 홍천 -->\r\n    <defs>\r\n     <path d=\"M 14.109375 70.3125 \r\nL 14.109375 79.6875 \r\nL 43.890625 79.6875 \r\nL 43.890625 86.921875 \r\nL 56 86.921875 \r\nL 56 79.6875 \r\nL 85.890625 79.6875 \r\nL 85.890625 70.3125 \r\nz\r\nM 6.296875 25.875 \r\nL 6.296875 35.6875 \r\nL 43.890625 35.6875 \r\nL 43.890625 40.828125 \r\nQ 18.609375 42.09375 18.609375 54.109375 \r\nQ 18.609375 67.578125 50 67.578125 \r\nQ 81.296875 67.578125 81.296875 54.109375 \r\nQ 81.296875 42.046875 56 40.828125 \r\nL 56 35.6875 \r\nL 93.703125 35.6875 \r\nL 93.703125 25.875 \r\nz\r\nM 50 58.984375 \r\nQ 31.109375 58.984375 31.109375 54.109375 \r\nQ 31.109375 51.5625 35.546875 50.4375 \r\nQ 39.984375 49.3125 50 49.3125 \r\nQ 60.015625 49.3125 64.40625 50.4375 \r\nQ 68.796875 51.5625 68.796875 54.109375 \r\nQ 68.796875 58.984375 50 58.984375 \r\nz\r\nM 50 -8.203125 \r\nQ 17.828125 -8.203125 17.828125 6.984375 \r\nQ 17.828125 22.3125 50 22.3125 \r\nQ 82.171875 22.3125 82.171875 6.984375 \r\nQ 82.171875 -8.203125 50 -8.203125 \r\nz\r\nM 50 13.09375 \r\nQ 30.515625 13.09375 30.515625 6.984375 \r\nQ 30.515625 1.125 50 1.125 \r\nQ 69.484375 1.125 69.484375 6.984375 \r\nQ 69.484375 13.09375 50 13.09375 \r\nz\r\n\" id=\"MalgunGothicBold-54861\"/>\r\n    </defs>\r\n    <g transform=\"translate(393.340606 85.499245)scale(0.11 -0.11)\">\r\n     <use xlink:href=\"#MalgunGothicBold-54861\"/>\r\n     <use x=\"100\" xlink:href=\"#MalgunGothicBold-52380\"/>\r\n    </g>\r\n   </g>\r\n   <g id=\"text_19\">\r\n    <!-- 횡성 -->\r\n    <defs>\r\n     <path d=\"M 10.203125 69.1875 \r\nL 10.203125 78.421875 \r\nL 32.625 78.421875 \r\nL 32.625 87.015625 \r\nL 44.921875 87.015625 \r\nL 44.921875 78.421875 \r\nL 67.09375 78.421875 \r\nL 67.09375 69.1875 \r\nz\r\nM 74.3125 23.484375 \r\nL 74.3125 85.40625 \r\nL 86.625 85.40625 \r\nL 86.625 23.484375 \r\nz\r\nM 71.1875 26.609375 \r\nQ 35.15625 24.421875 6.6875 24.421875 \r\nL 5.515625 34.1875 \r\nQ 11.234375 34.1875 32.515625 34.71875 \r\nL 32.515625 39.40625 \r\nQ 23.96875 40.328125 18.984375 43.9375 \r\nQ 14.015625 47.5625 14.015625 53.21875 \r\nQ 14.015625 59.765625 20.671875 63.625 \r\nQ 27.34375 67.484375 38.71875 67.484375 \r\nQ 50.046875 67.484375 56.65625 63.578125 \r\nQ 63.28125 59.671875 63.28125 53.21875 \r\nQ 63.28125 48.09375 58.390625 44.328125 \r\nQ 53.515625 40.578125 44.828125 39.40625 \r\nL 44.828125 35.015625 \r\nQ 59.515625 35.40625 70.609375 36.078125 \r\nz\r\nM 38.71875 58.59375 \r\nQ 26.21875 58.59375 26.21875 53.21875 \r\nQ 26.21875 47.90625 38.71875 47.90625 \r\nQ 44.828125 47.90625 47.96875 49.390625 \r\nQ 51.125 50.875 51.125 53.21875 \r\nQ 51.125 55.5625 48 57.078125 \r\nQ 44.875 58.59375 38.71875 58.59375 \r\nz\r\nM 55.8125 -8.59375 \r\nQ 40.046875 -8.59375 31.671875 -4.53125 \r\nQ 23.296875 -0.484375 23.296875 6.984375 \r\nQ 23.296875 14.40625 31.46875 18.546875 \r\nQ 39.65625 22.703125 55.8125 22.703125 \r\nQ 71.390625 22.703125 79.828125 18.640625 \r\nQ 88.28125 14.59375 88.28125 6.984375 \r\nQ 88.28125 -0.4375 79.859375 -4.515625 \r\nQ 71.4375 -8.59375 55.8125 -8.59375 \r\nz\r\nM 55.8125 13.28125 \r\nQ 35.890625 13.28125 35.890625 6.984375 \r\nQ 35.890625 0.78125 55.8125 0.78125 \r\nQ 75.6875 0.78125 75.6875 6.984375 \r\nQ 75.6875 13.28125 55.8125 13.28125 \r\nz\r\n\" id=\"MalgunGothicBold-54945\"/>\r\n    </defs>\r\n    <g transform=\"translate(436.743951 85.499245)scale(0.11 -0.11)\">\r\n     <use xlink:href=\"#MalgunGothicBold-54945\"/>\r\n     <use x=\"100\" xlink:href=\"#MalgunGothicBold-49457\"/>\r\n    </g>\r\n   </g>\r\n   <g id=\"text_20\">\r\n    <!-- 양양 -->\r\n    <g transform=\"translate(480.147296 85.499245)scale(0.11 -0.11)\">\r\n     <use xlink:href=\"#MalgunGothicBold-50577\"/>\r\n     <use x=\"100\" xlink:href=\"#MalgunGothicBold-50577\"/>\r\n    </g>\r\n   </g>\r\n   <g id=\"text_21\">\r\n    <!-- 고양 -->\r\n    <g transform=\"translate(177.823881 105.511835)scale(0.095 -0.095)\">\r\n     <use xlink:href=\"#MalgunGothicBold-44256\"/>\r\n     <use x=\"100\" xlink:href=\"#MalgunGothicBold-50577\"/>\r\n    </g>\r\n    <!-- 일산서 -->\r\n    <g transform=\"translate(173.073881 118.576562)scale(0.095 -0.095)\">\r\n     <use xlink:href=\"#MalgunGothicBold-51068\"/>\r\n     <use x=\"100\" xlink:href=\"#MalgunGothicBold-49328\"/>\r\n     <use x=\"200\" xlink:href=\"#MalgunGothicBold-49436\"/>\r\n    </g>\r\n   </g>\r\n   <g id=\"text_22\">\r\n    <!-- 고양 -->\r\n    <g transform=\"translate(219.727226 106.12523)scale(0.11 -0.11)\">\r\n     <use xlink:href=\"#MalgunGothicBold-44256\"/>\r\n     <use x=\"100\" xlink:href=\"#MalgunGothicBold-50577\"/>\r\n    </g>\r\n    <!-- 덕양 -->\r\n    <defs>\r\n     <path d=\"M 74.515625 32.421875 \r\nL 74.515625 55.328125 \r\nL 49.8125 55.328125 \r\nL 49.8125 65.28125 \r\nL 74.515625 65.28125 \r\nL 74.515625 85.40625 \r\nL 86.53125 85.40625 \r\nL 86.53125 32.421875 \r\nz\r\nM 60.890625 39.015625 \r\nQ 41.890625 37.703125 11.53125 37.703125 \r\nL 11.53125 81.5 \r\nL 58.015625 81.5 \r\nL 58.015625 71.296875 \r\nL 23.578125 71.296875 \r\nL 23.578125 47.90625 \r\nQ 48.390625 47.90625 60.296875 48.875 \r\nz\r\nM 74.3125 -8.796875 \r\nL 74.3125 16.703125 \r\nL 23.6875 16.703125 \r\nL 23.6875 27 \r\nL 86.53125 27 \r\nL 86.53125 -8.796875 \r\nz\r\n\" id=\"MalgunGothicBold-45909\"/>\r\n    </defs>\r\n    <g transform=\"translate(219.727226 118.747386)scale(0.11 -0.11)\">\r\n     <use xlink:href=\"#MalgunGothicBold-45909\"/>\r\n     <use x=\"100\" xlink:href=\"#MalgunGothicBold-50577\"/>\r\n    </g>\r\n   </g>\r\n   <g id=\"text_23\">\r\n    <!-- 서울 -->\r\n    <g transform=\"translate(263.130571 106.12523)scale(0.11 -0.11)\">\r\n     <use xlink:href=\"#MalgunGothicBold-49436\"/>\r\n     <use x=\"100\" xlink:href=\"#MalgunGothicBold-50872\"/>\r\n    </g>\r\n    <!-- 강북 -->\r\n    <defs>\r\n     <path d=\"M 82.171875 52 \r\nL 82.171875 30.421875 \r\nL 69.921875 30.421875 \r\nL 69.921875 85.40625 \r\nL 82.171875 85.40625 \r\nL 82.171875 62.3125 \r\nL 96.484375 62.3125 \r\nL 96.484375 52 \r\nz\r\nM 57.71875 80.328125 \r\nQ 52.78125 47.078125 14.890625 29.984375 \r\nL 6.203125 39.5 \r\nQ 18.65625 42.96875 28.46875 51.390625 \r\nQ 38.28125 59.8125 42.1875 70.015625 \r\nL 12.109375 70.015625 \r\nL 12.109375 80.328125 \r\nz\r\nM 52.296875 -8.40625 \r\nQ 37.3125 -8.40625 29.109375 -3.25 \r\nQ 20.90625 1.90625 20.90625 10.40625 \r\nQ 20.90625 18.84375 29.203125 23.921875 \r\nQ 37.5 29 52.296875 29 \r\nQ 67.140625 29 75.40625 23.9375 \r\nQ 83.6875 18.890625 83.6875 10.40625 \r\nQ 83.6875 1.859375 75.453125 -3.265625 \r\nQ 67.234375 -8.40625 52.296875 -8.40625 \r\nz\r\nM 52.296875 18.796875 \r\nQ 33.59375 18.796875 33.59375 10.40625 \r\nQ 33.59375 1.8125 52.296875 1.8125 \r\nQ 71.09375 1.8125 71.09375 10.40625 \r\nQ 71.09375 18.796875 52.296875 18.796875 \r\nz\r\n\" id=\"MalgunGothicBold-44053\"/>\r\n     <path d=\"M 19.484375 48.296875 \r\nL 19.484375 83.890625 \r\nL 31.6875 83.890625 \r\nL 31.6875 75.390625 \r\nL 68.3125 75.390625 \r\nL 68.3125 83.890625 \r\nL 80.515625 83.890625 \r\nL 80.515625 48.296875 \r\nz\r\nM 68.3125 65.375 \r\nL 31.6875 65.375 \r\nL 31.6875 58.5 \r\nL 68.3125 58.5 \r\nz\r\nM 68.5 -8.796875 \r\nL 68.5 13.09375 \r\nL 17.921875 13.09375 \r\nL 17.921875 23.484375 \r\nL 43.796875 23.484375 \r\nL 43.796875 31.203125 \r\nL 6.296875 31.203125 \r\nL 6.296875 41.5 \r\nL 93.703125 41.5 \r\nL 93.703125 31.203125 \r\nL 56.109375 31.203125 \r\nL 56.109375 23.484375 \r\nL 80.8125 23.484375 \r\nL 80.8125 -8.796875 \r\nz\r\n\" id=\"MalgunGothicBold-48513\"/>\r\n    </defs>\r\n    <g transform=\"translate(263.130571 118.747386)scale(0.11 -0.11)\">\r\n     <use xlink:href=\"#MalgunGothicBold-44053\"/>\r\n     <use x=\"100\" xlink:href=\"#MalgunGothicBold-48513\"/>\r\n    </g>\r\n   </g>\r\n   <g id=\"text_24\">\r\n    <!-- 서울 -->\r\n    <g transform=\"translate(306.533916 106.12523)scale(0.11 -0.11)\">\r\n     <use xlink:href=\"#MalgunGothicBold-49436\"/>\r\n     <use x=\"100\" xlink:href=\"#MalgunGothicBold-50872\"/>\r\n    </g>\r\n    <!-- 성북 -->\r\n    <g transform=\"translate(306.533916 118.747386)scale(0.11 -0.11)\">\r\n     <use xlink:href=\"#MalgunGothicBold-49457\"/>\r\n     <use x=\"100\" xlink:href=\"#MalgunGothicBold-48513\"/>\r\n    </g>\r\n   </g>\r\n   <g id=\"text_25\">\r\n    <!-- 가평 -->\r\n    <defs>\r\n     <path d=\"M 82.328125 37.984375 \r\nL 82.328125 -8.796875 \r\nL 70.015625 -8.796875 \r\nL 70.015625 85.40625 \r\nL 82.328125 85.40625 \r\nL 82.328125 48.296875 \r\nL 96.921875 48.296875 \r\nL 96.921875 37.984375 \r\nz\r\nM 15.28125 11.8125 \r\nL 6.109375 20.40625 \r\nQ 37.703125 37.75 44.28125 67 \r\nL 11.53125 67 \r\nL 11.53125 77.296875 \r\nL 58.203125 77.296875 \r\nQ 54.34375 35.890625 15.28125 11.8125 \r\nz\r\n\" id=\"MalgunGothicBold-44032\"/>\r\n     <path d=\"M 61.1875 46.390625 \r\nL 61.1875 55.21875 \r\nL 74.703125 55.21875 \r\nL 74.703125 60.015625 \r\nL 61.1875 60.015625 \r\nL 61.1875 68.890625 \r\nL 74.703125 68.890625 \r\nL 74.703125 85.40625 \r\nL 86.8125 85.40625 \r\nL 86.8125 30.078125 \r\nL 74.703125 30.078125 \r\nL 74.703125 46.390625 \r\nz\r\nM 9.71875 71.390625 \r\nL 9.71875 81.390625 \r\nL 61.8125 81.390625 \r\nL 61.8125 71.390625 \r\nz\r\nM 66.703125 34.1875 \r\nQ 60.796875 32.71875 47.703125 32.71875 \r\nL 7.328125 32.71875 \r\nL 7.328125 42.828125 \r\nL 18.796875 42.828125 \r\nL 17.671875 66.703125 \r\nL 29.78125 66.703125 \r\nL 30.421875 42.828125 \r\nL 41.3125 42.828125 \r\nL 41.890625 66.703125 \r\nL 53.8125 66.703125 \r\nL 52.78125 42.921875 \r\nQ 60.203125 42.921875 65.828125 44 \r\nz\r\nM 56.78125 -8.890625 \r\nQ 40.875 -8.890625 32.84375 -3.921875 \r\nQ 24.8125 1.03125 24.8125 10.203125 \r\nQ 24.8125 19 33.15625 24.140625 \r\nQ 41.5 29.296875 56.78125 29.296875 \r\nQ 72.3125 29.296875 80.609375 24.28125 \r\nQ 88.921875 19.28125 88.921875 10.203125 \r\nQ 88.921875 1.171875 80.5625 -3.859375 \r\nQ 72.21875 -8.890625 56.78125 -8.890625 \r\nz\r\nM 56.78125 19.28125 \r\nQ 37.203125 19.28125 37.203125 10.203125 \r\nQ 37.203125 1.125 56.78125 1.125 \r\nQ 76.515625 1.125 76.515625 10.203125 \r\nQ 76.515625 19.28125 56.78125 19.28125 \r\nz\r\n\" id=\"MalgunGothicBold-54217\"/>\r\n    </defs>\r\n    <g transform=\"translate(349.937261 112.436308)scale(0.11 -0.11)\">\r\n     <use xlink:href=\"#MalgunGothicBold-44032\"/>\r\n     <use x=\"100\" xlink:href=\"#MalgunGothicBold-54217\"/>\r\n    </g>\r\n   </g>\r\n   <g id=\"text_26\">\r\n    <!-- 구리 -->\r\n    <defs>\r\n     <path d=\"M 73 -8.796875 \r\nL 73 85.40625 \r\nL 85.109375 85.40625 \r\nL 85.109375 -8.796875 \r\nz\r\nM 65.375 14.109375 \r\nQ 56.78125 12.703125 49.28125 12.453125 \r\nQ 41.796875 12.203125 11.8125 12.203125 \r\nL 11.8125 52 \r\nL 45.3125 52 \r\nL 45.3125 67.828125 \r\nL 12.015625 67.828125 \r\nL 12.015625 78.125 \r\nL 57.421875 78.125 \r\nL 57.421875 41.796875 \r\nL 23.875 41.796875 \r\nL 23.875 22.40625 \r\nQ 56.15625 22.125 63.8125 24.03125 \r\nz\r\n\" id=\"MalgunGothicBold-47532\"/>\r\n    </defs>\r\n    <g transform=\"translate(393.340606 112.436308)scale(0.11 -0.11)\">\r\n     <use xlink:href=\"#MalgunGothicBold-44396\"/>\r\n     <use x=\"100\" xlink:href=\"#MalgunGothicBold-47532\"/>\r\n    </g>\r\n   </g>\r\n   <g id=\"text_27\">\r\n    <!-- 하남 -->\r\n    <defs>\r\n     <path d=\"M 82.171875 34.1875 \r\nL 82.171875 -8.796875 \r\nL 69.921875 -8.796875 \r\nL 69.921875 85.40625 \r\nL 82.171875 85.40625 \r\nL 82.171875 44.484375 \r\nL 96.921875 44.484375 \r\nL 96.921875 34.1875 \r\nz\r\nM 7.515625 62.109375 \r\nL 7.515625 72.40625 \r\nL 30.078125 72.40625 \r\nL 30.078125 85.40625 \r\nL 42.484375 85.40625 \r\nL 42.484375 72.40625 \r\nL 65.09375 72.40625 \r\nL 65.09375 62.109375 \r\nz\r\nM 36.078125 13.09375 \r\nQ 25.25 13.09375 18.3125 19.3125 \r\nQ 11.375 25.53125 11.375 35.109375 \r\nQ 11.375 44.96875 18.203125 51.140625 \r\nQ 25.046875 57.328125 36.1875 57.328125 \r\nQ 47.21875 57.328125 54.140625 51.125 \r\nQ 61.078125 44.921875 61.078125 35.015625 \r\nQ 61.078125 25.390625 54.140625 19.234375 \r\nQ 47.21875 13.09375 36.078125 13.09375 \r\nz\r\nM 36.1875 47.015625 \r\nQ 30.421875 47.015625 27 43.765625 \r\nQ 23.578125 40.53125 23.578125 35.109375 \r\nQ 23.578125 29.9375 26.953125 26.65625 \r\nQ 30.328125 23.390625 36.1875 23.390625 \r\nQ 42 23.390625 45.4375 26.703125 \r\nQ 48.875 30.03125 48.875 35.109375 \r\nQ 48.875 40.4375 45.4375 43.71875 \r\nQ 42 47.015625 36.1875 47.015625 \r\nz\r\n\" id=\"MalgunGothicBold-54616\"/>\r\n    </defs>\r\n    <g transform=\"translate(436.743951 112.436308)scale(0.11 -0.11)\">\r\n     <use xlink:href=\"#MalgunGothicBold-54616\"/>\r\n     <use x=\"100\" xlink:href=\"#MalgunGothicBold-45224\"/>\r\n    </g>\r\n   </g>\r\n   <g id=\"text_28\">\r\n    <!-- 정선 -->\r\n    <defs>\r\n     <path d=\"M 74.90625 18.015625 \r\nL 74.90625 54.390625 \r\nL 55.078125 54.390625 \r\nL 55.078125 64.796875 \r\nL 74.90625 64.796875 \r\nL 74.90625 85.40625 \r\nL 86.921875 85.40625 \r\nL 86.921875 18.015625 \r\nz\r\nM 56.109375 30.515625 \r\nQ 42.71875 36.921875 34.625 49.8125 \r\nQ 31.84375 44.28125 25.125 37.25 \r\nQ 18.40625 30.21875 13.625 27.6875 \r\nL 4.6875 36.1875 \r\nQ 14.984375 40.765625 21.59375 49.71875 \r\nQ 28.21875 58.6875 28.21875 67.71875 \r\nL 28.21875 81.390625 \r\nL 40.375 81.390625 \r\nL 40.375 68.109375 \r\nQ 40.375 58.9375 47.3125 50.828125 \r\nQ 54.25 42.71875 63.921875 39.984375 \r\nz\r\nM 26.125 -5.515625 \r\nL 26.125 26.609375 \r\nL 38.375 26.609375 \r\nL 38.375 4.78125 \r\nL 88.71875 4.78125 \r\nL 88.71875 -5.515625 \r\nz\r\n\" id=\"MalgunGothicBold-49440\"/>\r\n    </defs>\r\n    <g transform=\"translate(480.147296 112.436308)scale(0.11 -0.11)\">\r\n     <use xlink:href=\"#MalgunGothicBold-51221\"/>\r\n     <use x=\"100\" xlink:href=\"#MalgunGothicBold-49440\"/>\r\n    </g>\r\n   </g>\r\n   <g id=\"text_29\">\r\n    <!-- 강릉 -->\r\n    <defs>\r\n     <path d=\"M 20.125 45.609375 \r\nL 20.125 69.671875 \r\nL 67.671875 69.671875 \r\nL 67.671875 74.3125 \r\nL 20.125 74.3125 \r\nL 20.125 84.28125 \r\nL 79.890625 84.28125 \r\nL 79.890625 60.59375 \r\nL 32.328125 60.59375 \r\nL 32.328125 55.609375 \r\nL 81.984375 55.609375 \r\nL 81.984375 45.609375 \r\nz\r\nM 6.296875 29.6875 \r\nL 6.296875 39.890625 \r\nL 93.703125 39.890625 \r\nL 93.703125 29.6875 \r\nz\r\nM 50 -8.6875 \r\nQ 34.03125 -8.6875 25.84375 -4.296875 \r\nQ 17.671875 0.09375 17.671875 8.296875 \r\nQ 17.671875 16.5 25.84375 20.84375 \r\nQ 34.03125 25.203125 50 25.203125 \r\nQ 65.96875 25.203125 74.140625 20.828125 \r\nQ 82.328125 16.453125 82.328125 8.296875 \r\nQ 82.328125 0.09375 74.140625 -4.296875 \r\nQ 65.96875 -8.6875 50 -8.6875 \r\nz\r\nM 50 15.484375 \r\nQ 30.421875 15.484375 30.421875 8.296875 \r\nQ 30.421875 0.984375 50 0.984375 \r\nQ 69.578125 0.984375 69.578125 8.296875 \r\nQ 69.578125 15.484375 50 15.484375 \r\nz\r\n\" id=\"MalgunGothicBold-47497\"/>\r\n    </defs>\r\n    <g transform=\"translate(523.550641 112.436308)scale(0.11 -0.11)\">\r\n     <use xlink:href=\"#MalgunGothicBold-44053\"/>\r\n     <use x=\"100\" xlink:href=\"#MalgunGothicBold-47497\"/>\r\n    </g>\r\n   </g>\r\n   <g id=\"text_30\">\r\n    <!-- 김포 -->\r\n    <defs>\r\n     <path d=\"M 73.484375 32.078125 \r\nL 73.484375 85.40625 \r\nL 85.5 85.40625 \r\nL 85.5 32.078125 \r\nz\r\nM 59.1875 81.390625 \r\nQ 56.9375 64.265625 44.546875 50.46875 \r\nQ 32.171875 36.671875 16.109375 29.78125 \r\nL 7.71875 39.015625 \r\nQ 20.265625 43.015625 30.375 52.015625 \r\nQ 40.484375 61.03125 44.09375 71.09375 \r\nL 14.015625 71.09375 \r\nL 14.015625 81.390625 \r\nz\r\nM 24.703125 -6.78125 \r\nL 24.703125 28.125 \r\nL 85.5 28.125 \r\nL 85.5 -6.78125 \r\nz\r\nM 73.578125 17.921875 \r\nL 36.71875 17.921875 \r\nL 36.71875 3.421875 \r\nL 73.578125 3.421875 \r\nz\r\n\" id=\"MalgunGothicBold-44608\"/>\r\n    </defs>\r\n    <g transform=\"translate(132.920536 139.373371)scale(0.11 -0.11)\">\r\n     <use xlink:href=\"#MalgunGothicBold-44608\"/>\r\n     <use x=\"100\" xlink:href=\"#MalgunGothicBold-54252\"/>\r\n    </g>\r\n   </g>\r\n   <g id=\"text_31\">\r\n    <!-- 안양 -->\r\n    <defs>\r\n     <path d=\"M 82.078125 47.125 \r\nL 82.078125 17.578125 \r\nL 69.921875 17.578125 \r\nL 69.921875 85.40625 \r\nL 82.078125 85.40625 \r\nL 82.078125 57.421875 \r\nL 96.484375 57.421875 \r\nL 96.484375 47.125 \r\nz\r\nM 33.296875 32.515625 \r\nQ 22.40625 32.515625 15.0625 39.40625 \r\nQ 7.71875 46.296875 7.71875 57.078125 \r\nQ 7.71875 68.015625 15.03125 74.84375 \r\nQ 22.359375 81.6875 33.296875 81.6875 \r\nQ 44.234375 81.6875 51.5625 74.890625 \r\nQ 58.890625 68.109375 58.890625 57.078125 \r\nQ 58.890625 46.1875 51.53125 39.34375 \r\nQ 44.1875 32.515625 33.296875 32.515625 \r\nz\r\nM 33.296875 71.6875 \r\nQ 27.203125 71.6875 23.515625 67.78125 \r\nQ 19.828125 63.875 19.828125 57.078125 \r\nQ 19.828125 50.34375 23.515625 46.40625 \r\nQ 27.203125 42.484375 33.296875 42.484375 \r\nQ 39.453125 42.484375 43.1875 46.4375 \r\nQ 46.921875 50.390625 46.921875 57.078125 \r\nQ 46.921875 63.765625 43.234375 67.71875 \r\nQ 39.546875 71.6875 33.296875 71.6875 \r\nz\r\nM 23.1875 -5.515625 \r\nL 23.1875 26.609375 \r\nL 35.5 26.609375 \r\nL 35.5 4.78125 \r\nL 84.71875 4.78125 \r\nL 84.71875 -5.515625 \r\nz\r\n\" id=\"MalgunGothicBold-50504\"/>\r\n    </defs>\r\n    <g transform=\"translate(176.323881 133.062293)scale(0.11 -0.11)\">\r\n     <use xlink:href=\"#MalgunGothicBold-50504\"/>\r\n     <use x=\"100\" xlink:href=\"#MalgunGothicBold-50577\"/>\r\n    </g>\r\n    <!-- 만안 -->\r\n    <defs>\r\n     <path d=\"M 82.078125 47.125 \r\nL 82.078125 17.578125 \r\nL 69.921875 17.578125 \r\nL 69.921875 85.40625 \r\nL 82.078125 85.40625 \r\nL 82.078125 57.421875 \r\nL 96.484375 57.421875 \r\nL 96.484375 47.125 \r\nz\r\nM 10.5 36.53125 \r\nL 10.5 79.296875 \r\nL 54.59375 79.296875 \r\nL 54.59375 36.53125 \r\nz\r\nM 42.484375 69.09375 \r\nL 22.703125 69.09375 \r\nL 22.703125 46.6875 \r\nL 42.484375 46.6875 \r\nz\r\nM 23.1875 -5.515625 \r\nL 23.1875 26.609375 \r\nL 35.5 26.609375 \r\nL 35.5 4.78125 \r\nL 84.71875 4.78125 \r\nL 84.71875 -5.515625 \r\nz\r\n\" id=\"MalgunGothicBold-47564\"/>\r\n    </defs>\r\n    <g transform=\"translate(176.323881 145.684449)scale(0.11 -0.11)\">\r\n     <use xlink:href=\"#MalgunGothicBold-47564\"/>\r\n     <use x=\"100\" xlink:href=\"#MalgunGothicBold-50504\"/>\r\n    </g>\r\n   </g>\r\n   <g id=\"text_32\">\r\n    <!-- 광명 -->\r\n    <defs>\r\n     <path d=\"M 83.203125 50.203125 \r\nL 83.203125 29.984375 \r\nL 70.90625 29.984375 \r\nL 70.90625 85.40625 \r\nL 83.203125 85.40625 \r\nL 83.203125 60.59375 \r\nL 97.125 60.59375 \r\nL 97.125 50.203125 \r\nz\r\nM 60.890625 82.171875 \r\nQ 60.890625 63.28125 59.1875 49.515625 \r\nL 47.21875 50.484375 \r\nQ 48.4375 62.109375 48.578125 71.921875 \r\nL 12.40625 71.921875 \r\nL 12.40625 82.171875 \r\nz\r\nM 67.828125 35.59375 \r\nQ 38.578125 33.796875 5.328125 33.796875 \r\nL 4.109375 44.09375 \r\nQ 12.40625 44.09375 24.609375 44.28125 \r\nL 24.609375 62.109375 \r\nL 36.921875 62.109375 \r\nL 36.921875 44.484375 \r\nL 47.65625 44.828125 \r\nQ 63.765625 45.3125 67.09375 45.609375 \r\nz\r\nM 52 -8.296875 \r\nQ 36.921875 -8.296875 28.46875 -3.34375 \r\nQ 20.015625 1.609375 20.015625 10.109375 \r\nQ 20.015625 18.5625 28.484375 23.484375 \r\nQ 36.96875 28.421875 52 28.421875 \r\nQ 67.046875 28.421875 75.46875 23.453125 \r\nQ 83.890625 18.5 83.890625 10.109375 \r\nQ 83.890625 1.65625 75.484375 -3.3125 \r\nQ 67.09375 -8.296875 52 -8.296875 \r\nz\r\nM 52 18.3125 \r\nQ 32.71875 18.3125 32.71875 10.109375 \r\nQ 32.71875 1.8125 52 1.8125 \r\nQ 71.296875 1.8125 71.296875 10.109375 \r\nQ 71.296875 18.3125 52 18.3125 \r\nz\r\n\" id=\"MalgunGothicBold-44305\"/>\r\n     <path d=\"M 11.71875 36.375 \r\nL 11.71875 80.078125 \r\nL 56.78125 80.078125 \r\nL 56.78125 72.3125 \r\nL 74.8125 72.3125 \r\nL 74.8125 85.40625 \r\nL 87.015625 85.40625 \r\nL 87.015625 31 \r\nL 74.8125 31 \r\nL 74.8125 43.40625 \r\nL 56.78125 43.40625 \r\nL 56.78125 36.375 \r\nz\r\nM 44.828125 69.828125 \r\nL 23.6875 69.828125 \r\nL 23.6875 46.6875 \r\nL 44.828125 46.6875 \r\nz\r\nM 56.78125 53.328125 \r\nL 74.8125 53.328125 \r\nL 74.8125 62.5 \r\nL 56.78125 62.5 \r\nz\r\nM 56.78125 -8.6875 \r\nQ 42.234375 -8.6875 34 -3.265625 \r\nQ 25.78125 2.15625 25.78125 10.890625 \r\nQ 25.78125 19.578125 34.03125 25.046875 \r\nQ 42.28125 30.515625 56.78125 30.515625 \r\nQ 71.34375 30.515625 79.609375 25.015625 \r\nQ 87.890625 19.53125 87.890625 10.890625 \r\nQ 87.890625 2.203125 79.609375 -3.234375 \r\nQ 71.34375 -8.6875 56.78125 -8.6875 \r\nz\r\nM 56.78125 20.40625 \r\nQ 47.359375 20.40625 42.765625 17.71875 \r\nQ 38.1875 15.046875 38.1875 10.890625 \r\nQ 38.1875 6.6875 42.828125 4.046875 \r\nQ 47.46875 1.421875 56.78125 1.421875 \r\nQ 66.0625 1.421875 70.765625 4 \r\nQ 75.484375 6.59375 75.484375 10.890625 \r\nQ 75.484375 15.09375 70.8125 17.75 \r\nQ 66.15625 20.40625 56.78125 20.40625 \r\nz\r\n\" id=\"MalgunGothicBold-47749\"/>\r\n    </defs>\r\n    <g transform=\"translate(219.727226 139.373371)scale(0.11 -0.11)\">\r\n     <use xlink:href=\"#MalgunGothicBold-44305\"/>\r\n     <use x=\"100\" xlink:href=\"#MalgunGothicBold-47749\"/>\r\n    </g>\r\n   </g>\r\n   <g id=\"text_33\">\r\n    <!-- 서울 -->\r\n    <g transform=\"translate(264.630571 132.448898)scale(0.095 -0.095)\">\r\n     <use xlink:href=\"#MalgunGothicBold-49436\"/>\r\n     <use x=\"100\" xlink:href=\"#MalgunGothicBold-50872\"/>\r\n    </g>\r\n    <!-- 서대문 -->\r\n    <defs>\r\n     <path d=\"M 76.125 -8.796875 \r\nL 76.125 38.28125 \r\nL 67.578125 38.28125 \r\nL 67.578125 -6 \r\nL 55.515625 -6 \r\nL 55.515625 83.5 \r\nL 67.578125 83.5 \r\nL 67.578125 48.578125 \r\nL 76.125 48.578125 \r\nL 76.125 85.40625 \r\nL 88.28125 85.40625 \r\nL 88.28125 -8.796875 \r\nz\r\nM 49.90625 19 \r\nQ 35.59375 17.390625 9.90625 17.390625 \r\nL 9.90625 77.390625 \r\nL 47.015625 77.390625 \r\nL 47.015625 67.09375 \r\nL 21.921875 67.09375 \r\nL 21.921875 27.6875 \r\nL 27.34375 27.6875 \r\nQ 38.8125 27.6875 49.03125 29 \r\nz\r\n\" id=\"MalgunGothicBold-45824\"/>\r\n     <path d=\"M 19.484375 48 \r\nL 19.484375 81.59375 \r\nL 80.515625 81.59375 \r\nL 80.515625 48 \r\nz\r\nM 68.3125 71.390625 \r\nL 31.6875 71.390625 \r\nL 31.6875 58.203125 \r\nL 68.3125 58.203125 \r\nz\r\nM 57.078125 29.390625 \r\nL 57.078125 10.984375 \r\nL 44.828125 10.984375 \r\nL 44.828125 29.390625 \r\nL 6.296875 29.390625 \r\nL 6.296875 39.703125 \r\nL 93.703125 39.703125 \r\nL 93.703125 29.390625 \r\nz\r\nM 19.09375 -5.515625 \r\nL 19.09375 22.796875 \r\nL 31.390625 22.796875 \r\nL 31.390625 4.78125 \r\nL 82.078125 4.78125 \r\nL 82.078125 -5.515625 \r\nz\r\n\" id=\"MalgunGothicBold-47928\"/>\r\n    </defs>\r\n    <g transform=\"translate(259.880571 145.513625)scale(0.095 -0.095)\">\r\n     <use xlink:href=\"#MalgunGothicBold-49436\"/>\r\n     <use x=\"100\" xlink:href=\"#MalgunGothicBold-45824\"/>\r\n     <use x=\"200\" xlink:href=\"#MalgunGothicBold-47928\"/>\r\n    </g>\r\n   </g>\r\n   <g id=\"text_34\">\r\n    <!-- 서울 -->\r\n    <g transform=\"translate(306.533916 133.062293)scale(0.11 -0.11)\">\r\n     <use xlink:href=\"#MalgunGothicBold-49436\"/>\r\n     <use x=\"100\" xlink:href=\"#MalgunGothicBold-50872\"/>\r\n    </g>\r\n    <!-- 종로 -->\r\n    <defs>\r\n     <path d=\"M 84.078125 49.421875 \r\nQ 61.375 53.171875 50 64.59375 \r\nQ 45.796875 59.765625 35.9375 55.34375 \r\nQ 26.078125 50.921875 16.40625 49.515625 \r\nL 9.515625 58.59375 \r\nQ 21.234375 59.375 30.515625 63.5 \r\nQ 39.796875 67.625 42.578125 72.90625 \r\nL 16.3125 72.90625 \r\nL 16.3125 83.203125 \r\nL 83.6875 83.203125 \r\nL 83.6875 72.90625 \r\nL 57.515625 72.90625 \r\nQ 60.640625 67.578125 69.984375 63.296875 \r\nQ 79.34375 59.03125 89.984375 58.59375 \r\nz\r\nM 6.296875 32.625 \r\nL 6.296875 42.921875 \r\nL 43.796875 42.921875 \r\nL 43.796875 53.90625 \r\nL 56.109375 53.90625 \r\nL 56.109375 42.921875 \r\nL 93.703125 42.921875 \r\nL 93.703125 32.625 \r\nz\r\nM 50 -8.796875 \r\nQ 34.578125 -8.796875 26.296875 -4.03125 \r\nQ 18.015625 0.734375 18.015625 9.421875 \r\nQ 18.015625 17.96875 26.3125 22.71875 \r\nQ 34.625 27.484375 50 27.484375 \r\nQ 65.53125 27.484375 73.75 22.671875 \r\nQ 81.984375 17.875 81.984375 9.421875 \r\nQ 81.984375 0.734375 73.703125 -4.03125 \r\nQ 65.4375 -8.796875 50 -8.796875 \r\nz\r\nM 50 17.390625 \r\nQ 30.515625 17.390625 30.515625 9.421875 \r\nQ 30.515625 5.671875 35.4375 3.4375 \r\nQ 40.375 1.21875 50 1.21875 \r\nQ 59.625 1.21875 64.546875 3.4375 \r\nQ 69.484375 5.671875 69.484375 9.421875 \r\nQ 69.484375 17.390625 50 17.390625 \r\nz\r\n\" id=\"MalgunGothicBold-51333\"/>\r\n     <path d=\"M 6.296875 3.90625 \r\nL 6.296875 14.109375 \r\nL 43.890625 14.109375 \r\nL 43.890625 27.296875 \r\nL 18.703125 27.296875 \r\nL 18.703125 57.625 \r\nL 68.609375 57.625 \r\nL 68.609375 67.09375 \r\nL 18.890625 67.09375 \r\nL 18.890625 77.203125 \r\nL 80.90625 77.203125 \r\nL 80.90625 47.796875 \r\nL 31 47.796875 \r\nL 31 37.40625 \r\nL 83.40625 37.40625 \r\nL 83.40625 27.296875 \r\nL 56.109375 27.296875 \r\nL 56.109375 14.109375 \r\nL 93.703125 14.109375 \r\nL 93.703125 3.90625 \r\nz\r\n\" id=\"MalgunGothicBold-47196\"/>\r\n    </defs>\r\n    <g transform=\"translate(306.533916 145.684449)scale(0.11 -0.11)\">\r\n     <use xlink:href=\"#MalgunGothicBold-51333\"/>\r\n     <use x=\"100\" xlink:href=\"#MalgunGothicBold-47196\"/>\r\n    </g>\r\n   </g>\r\n   <g id=\"text_35\">\r\n    <!-- 서울 -->\r\n    <g transform=\"translate(351.437261 132.448898)scale(0.095 -0.095)\">\r\n     <use xlink:href=\"#MalgunGothicBold-49436\"/>\r\n     <use x=\"100\" xlink:href=\"#MalgunGothicBold-50872\"/>\r\n    </g>\r\n    <!-- 동대문 -->\r\n    <g transform=\"translate(346.687261 145.513625)scale(0.095 -0.095)\">\r\n     <use xlink:href=\"#MalgunGothicBold-46041\"/>\r\n     <use x=\"100\" xlink:href=\"#MalgunGothicBold-45824\"/>\r\n     <use x=\"200\" xlink:href=\"#MalgunGothicBold-47928\"/>\r\n    </g>\r\n   </g>\r\n   <g id=\"text_36\">\r\n    <!-- 서울 -->\r\n    <g transform=\"translate(393.340606 133.062293)scale(0.11 -0.11)\">\r\n     <use xlink:href=\"#MalgunGothicBold-49436\"/>\r\n     <use x=\"100\" xlink:href=\"#MalgunGothicBold-50872\"/>\r\n    </g>\r\n    <!-- 중랑 -->\r\n    <defs>\r\n     <path d=\"M 84.078125 49.421875 \r\nQ 61.375 53.171875 50 64.59375 \r\nQ 45.796875 59.765625 35.9375 55.34375 \r\nQ 26.078125 50.921875 16.40625 49.515625 \r\nL 9.515625 58.59375 \r\nQ 21.234375 59.375 30.515625 63.5 \r\nQ 39.796875 67.625 42.578125 72.90625 \r\nL 16.3125 72.90625 \r\nL 16.3125 83.203125 \r\nL 83.6875 83.203125 \r\nL 83.6875 72.90625 \r\nL 57.515625 72.90625 \r\nQ 60.640625 67.578125 69.984375 63.296875 \r\nQ 79.34375 59.03125 89.984375 58.59375 \r\nz\r\nM 43.796875 27.296875 \r\nL 43.796875 34.1875 \r\nL 6.296875 34.1875 \r\nL 6.296875 44.484375 \r\nL 93.703125 44.484375 \r\nL 93.703125 34.1875 \r\nL 56.109375 34.1875 \r\nL 56.109375 27.296875 \r\nQ 68.796875 26.3125 75.390625 21.59375 \r\nQ 81.984375 16.890625 81.984375 9.421875 \r\nQ 81.984375 0.734375 73.703125 -4.03125 \r\nQ 65.4375 -8.796875 50 -8.796875 \r\nQ 34.578125 -8.796875 26.296875 -4.03125 \r\nQ 18.015625 0.734375 18.015625 9.421875 \r\nQ 18.015625 17.09375 24.703125 21.734375 \r\nQ 31.390625 26.375 43.796875 27.296875 \r\nz\r\nM 50 17.390625 \r\nQ 30.515625 17.390625 30.515625 9.421875 \r\nQ 30.515625 5.671875 35.4375 3.4375 \r\nQ 40.375 1.21875 50 1.21875 \r\nQ 59.625 1.21875 64.546875 3.4375 \r\nQ 69.484375 5.671875 69.484375 9.421875 \r\nQ 69.484375 17.390625 50 17.390625 \r\nz\r\n\" id=\"MalgunGothicBold-51473\"/>\r\n     <path d=\"M 82.171875 52 \r\nL 82.171875 30.421875 \r\nL 69.921875 30.421875 \r\nL 69.921875 85.40625 \r\nL 82.171875 85.40625 \r\nL 82.171875 62.3125 \r\nL 96.484375 62.3125 \r\nL 96.484375 52 \r\nz\r\nM 65.28125 36.078125 \r\nQ 53.265625 33.984375 28.71875 33.984375 \r\nL 10.5 33.984375 \r\nL 10.5 63.28125 \r\nL 43.5 63.28125 \r\nL 43.5 71.484375 \r\nL 10.5 71.484375 \r\nL 10.5 81.78125 \r\nL 55.71875 81.78125 \r\nL 55.71875 53.515625 \r\nL 22.703125 53.515625 \r\nL 22.703125 44.1875 \r\nL 33.59375 44.1875 \r\nQ 54.046875 44.1875 64.015625 46.09375 \r\nz\r\nM 52.296875 -8.40625 \r\nQ 37.3125 -8.40625 29.109375 -3.25 \r\nQ 20.90625 1.90625 20.90625 10.40625 \r\nQ 20.90625 18.84375 29.203125 23.921875 \r\nQ 37.5 29 52.296875 29 \r\nQ 67.140625 29 75.40625 23.9375 \r\nQ 83.6875 18.890625 83.6875 10.40625 \r\nQ 83.6875 1.859375 75.453125 -3.265625 \r\nQ 67.234375 -8.40625 52.296875 -8.40625 \r\nz\r\nM 52.296875 18.796875 \r\nQ 33.59375 18.796875 33.59375 10.40625 \r\nQ 33.59375 1.8125 52.296875 1.8125 \r\nQ 71.09375 1.8125 71.09375 10.40625 \r\nQ 71.09375 18.796875 52.296875 18.796875 \r\nz\r\n\" id=\"MalgunGothicBold-46993\"/>\r\n    </defs>\r\n    <g transform=\"translate(393.340606 145.684449)scale(0.11 -0.11)\">\r\n     <use xlink:href=\"#MalgunGothicBold-51473\"/>\r\n     <use x=\"100\" xlink:href=\"#MalgunGothicBold-46993\"/>\r\n    </g>\r\n   </g>\r\n   <g id=\"text_37\">\r\n    <!-- 양평 -->\r\n    <g transform=\"translate(436.743951 139.373371)scale(0.11 -0.11)\">\r\n     <use xlink:href=\"#MalgunGothicBold-50577\"/>\r\n     <use x=\"100\" xlink:href=\"#MalgunGothicBold-54217\"/>\r\n    </g>\r\n   </g>\r\n   <g id=\"text_38\">\r\n    <!-- 태백 -->\r\n    <defs>\r\n     <path d=\"M 76.125 -8.796875 \r\nL 76.125 38.28125 \r\nL 67.578125 38.28125 \r\nL 67.578125 -6 \r\nL 55.515625 -6 \r\nL 55.515625 83.5 \r\nL 67.578125 83.5 \r\nL 67.578125 48.578125 \r\nL 76.125 48.578125 \r\nL 76.125 85.40625 \r\nL 88.28125 85.40625 \r\nL 88.28125 -8.796875 \r\nz\r\nM 49.90625 18.015625 \r\nQ 35.59375 16.40625 9.90625 16.40625 \r\nL 9.90625 77.390625 \r\nL 47.015625 77.390625 \r\nL 47.015625 67.09375 \r\nL 21.921875 67.09375 \r\nL 21.921875 52.6875 \r\nL 44.1875 52.6875 \r\nL 44.1875 42.484375 \r\nL 21.921875 42.484375 \r\nL 21.921875 26.703125 \r\nQ 39.796875 26.703125 49.03125 27.984375 \r\nz\r\n\" id=\"MalgunGothicBold-53468\"/>\r\n     <path d=\"M 75.875 31.109375 \r\nL 75.875 51.125 \r\nL 68.5 51.125 \r\nL 68.5 31.109375 \r\nL 56.5 31.109375 \r\nL 56.5 83.5 \r\nL 68.5 83.5 \r\nL 68.5 61.375 \r\nL 75.875 61.375 \r\nL 75.875 85.40625 \r\nL 87.984375 85.40625 \r\nL 87.984375 31.109375 \r\nz\r\nM 9.90625 37.796875 \r\nL 9.90625 81.59375 \r\nL 22.015625 81.59375 \r\nL 22.015625 68.796875 \r\nL 35.59375 68.796875 \r\nL 35.59375 81.59375 \r\nL 47.609375 81.59375 \r\nL 47.609375 37.796875 \r\nz\r\nM 35.59375 58.59375 \r\nL 22.015625 58.59375 \r\nL 22.015625 48 \r\nL 35.59375 48 \r\nz\r\nM 75.78125 -8.796875 \r\nL 75.78125 16.703125 \r\nL 25.484375 16.703125 \r\nL 25.484375 27.09375 \r\nL 87.984375 27.09375 \r\nL 87.984375 -8.796875 \r\nz\r\n\" id=\"MalgunGothicBold-48177\"/>\r\n    </defs>\r\n    <g transform=\"translate(480.147296 139.373371)scale(0.11 -0.11)\">\r\n     <use xlink:href=\"#MalgunGothicBold-53468\"/>\r\n     <use x=\"100\" xlink:href=\"#MalgunGothicBold-48177\"/>\r\n    </g>\r\n   </g>\r\n   <g id=\"text_39\">\r\n    <!-- 동해 -->\r\n    <defs>\r\n     <path d=\"M 76.21875 -8.796875 \r\nL 76.21875 35.5 \r\nL 69.28125 35.5 \r\nL 69.28125 -5.90625 \r\nL 57.71875 -5.90625 \r\nL 57.71875 83.59375 \r\nL 69.28125 83.59375 \r\nL 69.28125 45.796875 \r\nL 76.21875 45.796875 \r\nL 76.21875 85.40625 \r\nL 88.1875 85.40625 \r\nL 88.1875 -8.796875 \r\nz\r\nM 5.90625 61.375 \r\nL 5.90625 71.578125 \r\nL 23.578125 71.578125 \r\nL 23.578125 83.203125 \r\nL 35.796875 83.203125 \r\nL 35.796875 71.578125 \r\nL 52.984375 71.578125 \r\nL 52.984375 61.375 \r\nz\r\nM 29.78125 12.703125 \r\nQ 20.3125 12.703125 14.40625 18.796875 \r\nQ 8.5 24.90625 8.5 34.90625 \r\nQ 8.5 44.921875 14.328125 50.953125 \r\nQ 20.171875 56.984375 29.78125 56.984375 \r\nQ 39.265625 56.984375 45.0625 50.921875 \r\nQ 50.875 44.875 50.875 34.90625 \r\nQ 50.875 24.90625 45.09375 18.796875 \r\nQ 39.3125 12.703125 29.78125 12.703125 \r\nz\r\nM 29.78125 46.390625 \r\nQ 25.34375 46.390625 22.875 43.28125 \r\nQ 20.40625 40.1875 20.40625 34.90625 \r\nQ 20.40625 29.640625 22.921875 26.40625 \r\nQ 25.4375 23.1875 29.78125 23.1875 \r\nQ 34.078125 23.1875 36.59375 26.40625 \r\nQ 39.109375 29.640625 39.109375 34.90625 \r\nQ 39.109375 40.140625 36.640625 43.265625 \r\nQ 34.1875 46.390625 29.78125 46.390625 \r\nz\r\n\" id=\"MalgunGothicBold-54644\"/>\r\n    </defs>\r\n    <g transform=\"translate(523.550641 139.373371)scale(0.11 -0.11)\">\r\n     <use xlink:href=\"#MalgunGothicBold-46041\"/>\r\n     <use x=\"100\" xlink:href=\"#MalgunGothicBold-54644\"/>\r\n    </g>\r\n   </g>\r\n   <g id=\"text_40\">\r\n    <!-- 인천 -->\r\n    <g transform=\"translate(89.517192 159.999356)scale(0.11 -0.11)\">\r\n     <use xlink:href=\"#MalgunGothicBold-51064\"/>\r\n     <use x=\"100\" xlink:href=\"#MalgunGothicBold-52380\"/>\r\n    </g>\r\n    <!-- 강화 -->\r\n    <g transform=\"translate(89.517192 172.621512)scale(0.11 -0.11)\">\r\n     <use xlink:href=\"#MalgunGothicBold-44053\"/>\r\n     <use x=\"100\" xlink:href=\"#MalgunGothicBold-54868\"/>\r\n    </g>\r\n   </g>\r\n   <g id=\"text_41\">\r\n    <!-- 부천 -->\r\n    <g transform=\"translate(132.920536 166.310434)scale(0.11 -0.11)\">\r\n     <use xlink:href=\"#MalgunGothicBold-48512\"/>\r\n     <use x=\"100\" xlink:href=\"#MalgunGothicBold-52380\"/>\r\n    </g>\r\n   </g>\r\n   <g id=\"text_42\">\r\n    <!-- 안양 -->\r\n    <g transform=\"translate(176.323881 159.999356)scale(0.11 -0.11)\">\r\n     <use xlink:href=\"#MalgunGothicBold-50504\"/>\r\n     <use x=\"100\" xlink:href=\"#MalgunGothicBold-50577\"/>\r\n    </g>\r\n    <!-- 동안 -->\r\n    <g transform=\"translate(176.323881 172.621512)scale(0.11 -0.11)\">\r\n     <use xlink:href=\"#MalgunGothicBold-46041\"/>\r\n     <use x=\"100\" xlink:href=\"#MalgunGothicBold-50504\"/>\r\n    </g>\r\n   </g>\r\n   <g id=\"text_43\">\r\n    <!-- 서울 -->\r\n    <g transform=\"translate(219.727226 159.999356)scale(0.11 -0.11)\">\r\n     <use xlink:href=\"#MalgunGothicBold-49436\"/>\r\n     <use x=\"100\" xlink:href=\"#MalgunGothicBold-50872\"/>\r\n    </g>\r\n    <!-- 은평 -->\r\n    <defs>\r\n     <path d=\"M 50 44.1875 \r\nQ 35.0625 44.1875 26.640625 49.4375 \r\nQ 18.21875 54.6875 18.21875 63.375 \r\nQ 18.21875 72.171875 26.8125 77.59375 \r\nQ 35.40625 83.015625 50 83.015625 \r\nQ 64.59375 83.015625 73.1875 77.59375 \r\nQ 81.78125 72.171875 81.78125 63.375 \r\nQ 81.78125 54.6875 73.3125 49.4375 \r\nQ 64.84375 44.1875 50 44.1875 \r\nz\r\nM 50 73 \r\nQ 40.625 73 35.671875 70.390625 \r\nQ 30.71875 67.78125 30.71875 63.375 \r\nQ 30.71875 59.03125 35.734375 56.609375 \r\nQ 40.765625 54.203125 50 54.203125 \r\nQ 59.234375 54.203125 64.25 56.609375 \r\nQ 69.28125 59.03125 69.28125 63.375 \r\nQ 69.28125 67.78125 64.328125 70.390625 \r\nQ 59.375 73 50 73 \r\nz\r\nM 6.296875 26.8125 \r\nL 6.296875 37.109375 \r\nL 93.703125 37.109375 \r\nL 93.703125 26.8125 \r\nz\r\nM 19.09375 -4.78125 \r\nL 19.09375 21.578125 \r\nL 31.390625 21.578125 \r\nL 31.390625 5.515625 \r\nL 82.078125 5.515625 \r\nL 82.078125 -4.78125 \r\nz\r\n\" id=\"MalgunGothicBold-51008\"/>\r\n    </defs>\r\n    <g transform=\"translate(219.727226 172.621512)scale(0.11 -0.11)\">\r\n     <use xlink:href=\"#MalgunGothicBold-51008\"/>\r\n     <use x=\"100\" xlink:href=\"#MalgunGothicBold-54217\"/>\r\n    </g>\r\n   </g>\r\n   <g id=\"text_44\">\r\n    <!-- 서울 -->\r\n    <g transform=\"translate(263.130571 159.999356)scale(0.11 -0.11)\">\r\n     <use xlink:href=\"#MalgunGothicBold-49436\"/>\r\n     <use x=\"100\" xlink:href=\"#MalgunGothicBold-50872\"/>\r\n    </g>\r\n    <!-- 마포 -->\r\n    <defs>\r\n     <path d=\"M 82.171875 38.921875 \r\nL 82.171875 -8.796875 \r\nL 70.015625 -8.796875 \r\nL 70.015625 85.40625 \r\nL 82.171875 85.40625 \r\nL 82.171875 49.21875 \r\nL 96.921875 49.21875 \r\nL 96.921875 38.921875 \r\nz\r\nM 10.984375 17.71875 \r\nL 10.984375 77.390625 \r\nL 56.59375 77.390625 \r\nL 56.59375 17.71875 \r\nz\r\nM 44.484375 67.1875 \r\nL 23.1875 67.1875 \r\nL 23.1875 27.984375 \r\nL 44.484375 27.984375 \r\nz\r\n\" id=\"MalgunGothicBold-47560\"/>\r\n    </defs>\r\n    <g transform=\"translate(263.130571 172.621512)scale(0.11 -0.11)\">\r\n     <use xlink:href=\"#MalgunGothicBold-47560\"/>\r\n     <use x=\"100\" xlink:href=\"#MalgunGothicBold-54252\"/>\r\n    </g>\r\n   </g>\r\n   <g id=\"text_45\">\r\n    <!-- 서울 -->\r\n    <g transform=\"translate(306.533916 159.999356)scale(0.11 -0.11)\">\r\n     <use xlink:href=\"#MalgunGothicBold-49436\"/>\r\n     <use x=\"100\" xlink:href=\"#MalgunGothicBold-50872\"/>\r\n    </g>\r\n    <!-- 중구 -->\r\n    <g transform=\"translate(306.533916 172.621512)scale(0.11 -0.11)\">\r\n     <use xlink:href=\"#MalgunGothicBold-51473\"/>\r\n     <use x=\"100\" xlink:href=\"#MalgunGothicBold-44396\"/>\r\n    </g>\r\n   </g>\r\n   <g id=\"text_46\">\r\n    <!-- 서울 -->\r\n    <g transform=\"translate(349.937261 159.999356)scale(0.11 -0.11)\">\r\n     <use xlink:href=\"#MalgunGothicBold-49436\"/>\r\n     <use x=\"100\" xlink:href=\"#MalgunGothicBold-50872\"/>\r\n    </g>\r\n    <!-- 성동 -->\r\n    <g transform=\"translate(349.937261 172.621512)scale(0.11 -0.11)\">\r\n     <use xlink:href=\"#MalgunGothicBold-49457\"/>\r\n     <use x=\"100\" xlink:href=\"#MalgunGothicBold-46041\"/>\r\n    </g>\r\n   </g>\r\n   <g id=\"text_47\">\r\n    <!-- 서울 -->\r\n    <g transform=\"translate(393.340606 159.999356)scale(0.11 -0.11)\">\r\n     <use xlink:href=\"#MalgunGothicBold-49436\"/>\r\n     <use x=\"100\" xlink:href=\"#MalgunGothicBold-50872\"/>\r\n    </g>\r\n    <!-- 강동 -->\r\n    <g transform=\"translate(393.340606 172.621512)scale(0.11 -0.11)\">\r\n     <use xlink:href=\"#MalgunGothicBold-44053\"/>\r\n     <use x=\"100\" xlink:href=\"#MalgunGothicBold-46041\"/>\r\n    </g>\r\n   </g>\r\n   <g id=\"text_48\">\r\n    <!-- 여주 -->\r\n    <defs>\r\n     <path d=\"M 54.5 26.421875 \r\nQ 47.859375 14.109375 34.1875 14.109375 \r\nQ 23.09375 14.109375 16.296875 22.875 \r\nQ 9.515625 31.640625 9.515625 46.78125 \r\nQ 9.515625 62.15625 16.28125 70.765625 \r\nQ 23.046875 79.390625 34.1875 79.390625 \r\nQ 47.859375 79.390625 54.5 67.09375 \r\nL 75 67.09375 \r\nL 75 85.40625 \r\nL 87.015625 85.40625 \r\nL 87.015625 -8.796875 \r\nL 75 -8.796875 \r\nL 75 26.421875 \r\nz\r\nM 34.1875 69 \r\nQ 28.65625 69 25.015625 63.015625 \r\nQ 21.390625 57.03125 21.390625 46.6875 \r\nQ 21.390625 36.46875 25.125 30.4375 \r\nQ 28.859375 24.421875 34.1875 24.421875 \r\nQ 39.59375 24.421875 43.359375 30.4375 \r\nQ 47.125 36.46875 47.125 46.6875 \r\nQ 47.125 56.890625 43.5 62.9375 \r\nQ 39.890625 69 34.1875 69 \r\nz\r\nM 58.109375 36.71875 \r\nL 75 36.71875 \r\nL 75 56.78125 \r\nL 58.109375 56.78125 \r\nQ 58.984375 52.296875 58.984375 46.78125 \r\nQ 58.984375 41.3125 58.109375 36.71875 \r\nz\r\n\" id=\"MalgunGothicBold-50668\"/>\r\n    </defs>\r\n    <g transform=\"translate(436.743951 166.310434)scale(0.11 -0.11)\">\r\n     <use xlink:href=\"#MalgunGothicBold-50668\"/>\r\n     <use x=\"100\" xlink:href=\"#MalgunGothicBold-51452\"/>\r\n    </g>\r\n   </g>\r\n   <g id=\"text_49\">\r\n    <!-- 원주 -->\r\n    <g transform=\"translate(480.147296 166.310434)scale(0.11 -0.11)\">\r\n     <use xlink:href=\"#MalgunGothicBold-50896\"/>\r\n     <use x=\"100\" xlink:href=\"#MalgunGothicBold-51452\"/>\r\n    </g>\r\n   </g>\r\n   <g id=\"text_50\">\r\n    <!-- 삼척 -->\r\n    <defs>\r\n     <path d=\"M 82.171875 52 \r\nL 82.171875 32.078125 \r\nL 69.921875 32.078125 \r\nL 69.921875 85.40625 \r\nL 82.171875 85.40625 \r\nL 82.171875 62.3125 \r\nL 96.484375 62.3125 \r\nL 96.484375 52 \r\nz\r\nM 56.109375 34.515625 \r\nQ 41.453125 41.5 34.625 52.390625 \r\nQ 32.078125 47.3125 25.390625 40.859375 \r\nQ 18.703125 34.421875 13.625 31.6875 \r\nL 4.6875 40.484375 \r\nQ 15.140625 45.0625 21.671875 53.40625 \r\nQ 28.21875 61.765625 28.21875 70.703125 \r\nL 28.21875 82.421875 \r\nL 40.484375 82.421875 \r\nL 40.484375 71.09375 \r\nQ 40.484375 62.109375 47.1875 54.59375 \r\nQ 53.90625 47.078125 63.921875 44.28125 \r\nz\r\nM 23 -6.78125 \r\nL 23 27.984375 \r\nL 82.171875 28.125 \r\nL 82.171875 -6.78125 \r\nz\r\nM 70.015625 17.828125 \r\nL 35.203125 17.828125 \r\nL 35.203125 3.421875 \r\nL 70.015625 3.421875 \r\nz\r\n\" id=\"MalgunGothicBold-49340\"/>\r\n     <path d=\"M 59.1875 31.6875 \r\nQ 53.265625 34.03125 46.8125 38.9375 \r\nQ 40.375 43.84375 37.109375 48.390625 \r\nQ 34.234375 43.40625 27.984375 37.90625 \r\nQ 21.734375 32.421875 15.578125 29.390625 \r\nL 7.328125 37.59375 \r\nQ 18.265625 41.9375 24.4375 49.0625 \r\nQ 30.609375 56.203125 30.609375 64.59375 \r\nL 30.609375 66.5 \r\nL 9.90625 66.5 \r\nL 9.90625 76.515625 \r\nL 30.71875 76.515625 \r\nL 30.71875 86.71875 \r\nL 43.015625 86.71875 \r\nL 43.015625 76.515625 \r\nL 63.71875 76.515625 \r\nL 63.71875 66.5 \r\nL 43.015625 66.5 \r\nL 43.015625 64.3125 \r\nQ 43.015625 56.5 50.171875 49.6875 \r\nQ 57.328125 42.875 66.40625 40.921875 \r\nz\r\nM 74.90625 30.71875 \r\nL 74.90625 50.78125 \r\nL 57.328125 50.78125 \r\nL 57.328125 60.796875 \r\nL 74.90625 60.796875 \r\nL 74.90625 85.40625 \r\nL 86.921875 85.40625 \r\nL 86.921875 30.71875 \r\nz\r\nM 74.703125 -8.796875 \r\nL 74.703125 16.40625 \r\nL 24.125 16.40625 \r\nL 24.125 26.703125 \r\nL 86.921875 26.703125 \r\nL 86.921875 -8.796875 \r\nz\r\n\" id=\"MalgunGothicBold-52377\"/>\r\n    </defs>\r\n    <g transform=\"translate(523.550641 166.310434)scale(0.11 -0.11)\">\r\n     <use xlink:href=\"#MalgunGothicBold-49340\"/>\r\n     <use x=\"100\" xlink:href=\"#MalgunGothicBold-52377\"/>\r\n    </g>\r\n   </g>\r\n   <g id=\"text_51\">\r\n    <!-- 인천 -->\r\n    <g transform=\"translate(89.517192 186.936419)scale(0.11 -0.11)\">\r\n     <use xlink:href=\"#MalgunGothicBold-51064\"/>\r\n     <use x=\"100\" xlink:href=\"#MalgunGothicBold-52380\"/>\r\n    </g>\r\n    <!-- 서구 -->\r\n    <g transform=\"translate(89.517192 199.558575)scale(0.11 -0.11)\">\r\n     <use xlink:href=\"#MalgunGothicBold-49436\"/>\r\n     <use x=\"100\" xlink:href=\"#MalgunGothicBold-44396\"/>\r\n    </g>\r\n   </g>\r\n   <g id=\"text_52\">\r\n    <!-- 인천 -->\r\n    <g transform=\"translate(132.920536 186.936419)scale(0.11 -0.11)\">\r\n     <use xlink:href=\"#MalgunGothicBold-51064\"/>\r\n     <use x=\"100\" xlink:href=\"#MalgunGothicBold-52380\"/>\r\n    </g>\r\n    <!-- 동구 -->\r\n    <g transform=\"translate(132.920536 199.558575)scale(0.11 -0.11)\">\r\n     <use xlink:href=\"#MalgunGothicBold-46041\"/>\r\n     <use x=\"100\" xlink:href=\"#MalgunGothicBold-44396\"/>\r\n    </g>\r\n   </g>\r\n   <g id=\"text_53\">\r\n    <!-- 시흥 -->\r\n    <defs>\r\n     <path d=\"M 73 -8.796875 \r\nL 73 85.40625 \r\nL 85.203125 85.40625 \r\nL 85.203125 -8.796875 \r\nz\r\nM 57.625 14.59375 \r\nQ 44.046875 23.921875 35.984375 37.890625 \r\nQ 28.328125 22.859375 14.3125 12.984375 \r\nL 4.78125 21.578125 \r\nQ 15.765625 27.25 22.828125 38.25 \r\nQ 29.890625 49.265625 29.890625 60.796875 \r\nL 29.890625 79.109375 \r\nL 42.1875 79.109375 \r\nL 42.1875 61.078125 \r\nQ 42.1875 49.859375 49.046875 39.3125 \r\nQ 55.90625 28.765625 66.21875 24.3125 \r\nz\r\n\" id=\"MalgunGothicBold-49884\"/>\r\n     <path d=\"M 14.109375 70.3125 \r\nL 14.109375 79.6875 \r\nL 43.890625 79.6875 \r\nL 43.890625 86.921875 \r\nL 56 86.921875 \r\nL 56 79.6875 \r\nL 85.890625 79.6875 \r\nL 85.890625 70.3125 \r\nz\r\nM 50 40.71875 \r\nQ 18.609375 40.71875 18.609375 54.109375 \r\nQ 18.609375 67.578125 50 67.578125 \r\nQ 81.296875 67.578125 81.296875 54.109375 \r\nQ 81.296875 40.71875 50 40.71875 \r\nz\r\nM 50 58.984375 \r\nQ 31.109375 58.984375 31.109375 54.109375 \r\nQ 31.109375 51.5625 35.546875 50.4375 \r\nQ 39.984375 49.3125 50 49.3125 \r\nQ 60.015625 49.3125 64.40625 50.4375 \r\nQ 68.796875 51.5625 68.796875 54.109375 \r\nQ 68.796875 58.984375 50 58.984375 \r\nz\r\nM 6.296875 26.3125 \r\nL 6.296875 36.078125 \r\nL 93.703125 36.078125 \r\nL 93.703125 26.3125 \r\nz\r\nM 50 -8.203125 \r\nQ 17.828125 -8.203125 17.828125 6.984375 \r\nQ 17.828125 22.3125 50 22.3125 \r\nQ 82.171875 22.3125 82.171875 6.984375 \r\nQ 82.171875 -8.203125 50 -8.203125 \r\nz\r\nM 50 13.09375 \r\nQ 30.515625 13.09375 30.515625 6.984375 \r\nQ 30.515625 1.125 50 1.125 \r\nQ 69.484375 1.125 69.484375 6.984375 \r\nQ 69.484375 13.09375 50 13.09375 \r\nz\r\n\" id=\"MalgunGothicBold-55141\"/>\r\n    </defs>\r\n    <g transform=\"translate(176.323881 193.247497)scale(0.11 -0.11)\">\r\n     <use xlink:href=\"#MalgunGothicBold-49884\"/>\r\n     <use x=\"100\" xlink:href=\"#MalgunGothicBold-55141\"/>\r\n    </g>\r\n   </g>\r\n   <g id=\"text_54\">\r\n    <!-- 서울 -->\r\n    <g transform=\"translate(219.727226 186.936419)scale(0.11 -0.11)\">\r\n     <use xlink:href=\"#MalgunGothicBold-49436\"/>\r\n     <use x=\"100\" xlink:href=\"#MalgunGothicBold-50872\"/>\r\n    </g>\r\n    <!-- 강서 -->\r\n    <g transform=\"translate(219.727226 199.558575)scale(0.11 -0.11)\">\r\n     <use xlink:href=\"#MalgunGothicBold-44053\"/>\r\n     <use x=\"100\" xlink:href=\"#MalgunGothicBold-49436\"/>\r\n    </g>\r\n   </g>\r\n   <g id=\"text_55\">\r\n    <!-- 서울 -->\r\n    <g transform=\"translate(263.130571 186.936419)scale(0.11 -0.11)\">\r\n     <use xlink:href=\"#MalgunGothicBold-49436\"/>\r\n     <use x=\"100\" xlink:href=\"#MalgunGothicBold-50872\"/>\r\n    </g>\r\n    <!-- 동작 -->\r\n    <defs>\r\n     <path d=\"M 82.328125 51.125 \r\nL 82.328125 30.328125 \r\nL 70.015625 30.328125 \r\nL 70.015625 85.40625 \r\nL 82.328125 85.40625 \r\nL 82.328125 61.375 \r\nL 96.578125 61.375 \r\nL 96.578125 51.125 \r\nz\r\nM 55.71875 33.203125 \r\nQ 41.890625 40.09375 34.71875 50.390625 \r\nQ 32.125 45.015625 25.625 38.890625 \r\nQ 19.140625 32.765625 13.375 29.984375 \r\nL 4.6875 38.625 \r\nQ 14.546875 42.328125 21.375 50.5 \r\nQ 28.21875 58.6875 28.21875 67.390625 \r\nL 28.21875 71 \r\nL 8.796875 71 \r\nL 8.796875 81.203125 \r\nL 59.421875 81.203125 \r\nL 59.421875 71 \r\nL 40.484375 71 \r\nL 40.484375 67.828125 \r\nQ 40.484375 59.46875 46.84375 52.65625 \r\nQ 53.21875 45.84375 63.484375 42.484375 \r\nz\r\nM 70.125 -8.796875 \r\nL 70.125 16.015625 \r\nL 20.515625 16.015625 \r\nL 20.515625 26.3125 \r\nL 82.328125 26.3125 \r\nL 82.328125 -8.796875 \r\nz\r\n\" id=\"MalgunGothicBold-51089\"/>\r\n    </defs>\r\n    <g transform=\"translate(263.130571 199.558575)scale(0.11 -0.11)\">\r\n     <use xlink:href=\"#MalgunGothicBold-46041\"/>\r\n     <use x=\"100\" xlink:href=\"#MalgunGothicBold-51089\"/>\r\n    </g>\r\n   </g>\r\n   <g id=\"text_56\">\r\n    <!-- 서울 -->\r\n    <g transform=\"translate(306.533916 186.936419)scale(0.11 -0.11)\">\r\n     <use xlink:href=\"#MalgunGothicBold-49436\"/>\r\n     <use x=\"100\" xlink:href=\"#MalgunGothicBold-50872\"/>\r\n    </g>\r\n    <!-- 용산 -->\r\n    <defs>\r\n     <path d=\"M 28.21875 51.90625 \r\nQ 18.21875 56.6875 18.21875 66.015625 \r\nQ 18.21875 74.46875 26.46875 79.171875 \r\nQ 34.71875 83.890625 50 83.890625 \r\nQ 65.28125 83.890625 73.53125 79.171875 \r\nQ 81.78125 74.46875 81.78125 66.015625 \r\nQ 81.78125 56.546875 71.6875 51.90625 \r\nL 71.6875 41.015625 \r\nL 93.703125 41.015625 \r\nL 93.703125 30.71875 \r\nL 6.296875 30.71875 \r\nL 6.296875 41.015625 \r\nL 28.21875 41.015625 \r\nz\r\nM 50 74.515625 \r\nQ 40.53125 74.515625 35.625 72.234375 \r\nQ 30.71875 69.96875 30.71875 66.015625 \r\nQ 30.71875 62.015625 35.734375 59.765625 \r\nQ 40.765625 57.515625 50 57.515625 \r\nQ 69.28125 57.515625 69.28125 66.015625 \r\nQ 69.28125 69.96875 64.421875 72.234375 \r\nQ 59.578125 74.515625 50 74.515625 \r\nz\r\nM 40.375 41.015625 \r\nL 59.515625 41.015625 \r\nL 59.515625 48.484375 \r\nQ 55.125 48 50 48 \r\nQ 44.78125 48 40.375 48.578125 \r\nz\r\nM 50 -8.796875 \r\nQ 34.578125 -8.796875 26.296875 -4.03125 \r\nQ 18.015625 0.734375 18.015625 9.421875 \r\nQ 18.015625 17.96875 26.3125 22.71875 \r\nQ 34.625 27.484375 50 27.484375 \r\nQ 65.53125 27.484375 73.75 22.671875 \r\nQ 81.984375 17.875 81.984375 9.421875 \r\nQ 81.984375 0.734375 73.703125 -4.03125 \r\nQ 65.4375 -8.796875 50 -8.796875 \r\nz\r\nM 50 17.390625 \r\nQ 30.515625 17.390625 30.515625 9.421875 \r\nQ 30.515625 5.671875 35.4375 3.4375 \r\nQ 40.375 1.21875 50 1.21875 \r\nQ 59.625 1.21875 64.546875 3.4375 \r\nQ 69.484375 5.671875 69.484375 9.421875 \r\nQ 69.484375 17.390625 50 17.390625 \r\nz\r\n\" id=\"MalgunGothicBold-50857\"/>\r\n    </defs>\r\n    <g transform=\"translate(306.533916 199.558575)scale(0.11 -0.11)\">\r\n     <use xlink:href=\"#MalgunGothicBold-50857\"/>\r\n     <use x=\"100\" xlink:href=\"#MalgunGothicBold-49328\"/>\r\n    </g>\r\n   </g>\r\n   <g id=\"text_57\">\r\n    <!-- 서울 -->\r\n    <g transform=\"translate(349.937261 186.936419)scale(0.11 -0.11)\">\r\n     <use xlink:href=\"#MalgunGothicBold-49436\"/>\r\n     <use x=\"100\" xlink:href=\"#MalgunGothicBold-50872\"/>\r\n    </g>\r\n    <!-- 광진 -->\r\n    <defs>\r\n     <path d=\"M 73.484375 18.015625 \r\nL 73.484375 85.40625 \r\nL 85.5 85.40625 \r\nL 85.5 18.015625 \r\nz\r\nM 57.328125 29.78125 \r\nQ 44 36.328125 36.28125 47.515625 \r\nQ 33.796875 42.1875 27.25 35.765625 \r\nQ 20.703125 29.34375 14.984375 26.609375 \r\nL 6.296875 35.203125 \r\nQ 16.15625 38.96875 22.96875 47.40625 \r\nQ 29.78125 55.859375 29.78125 64.5 \r\nL 29.78125 69.921875 \r\nL 10.40625 69.921875 \r\nL 10.40625 80.078125 \r\nL 60.984375 80.078125 \r\nL 60.984375 69.921875 \r\nL 42.09375 69.921875 \r\nL 42.09375 64.890625 \r\nQ 42.09375 56.390625 48.578125 49.390625 \r\nQ 55.078125 42.390625 65.09375 39.109375 \r\nz\r\nM 23.875 -5.609375 \r\nL 23.875 25.875 \r\nL 36.1875 25.875 \r\nL 36.1875 4.6875 \r\nL 86.53125 4.6875 \r\nL 86.53125 -5.609375 \r\nz\r\n\" id=\"MalgunGothicBold-51652\"/>\r\n    </defs>\r\n    <g transform=\"translate(349.937261 199.558575)scale(0.11 -0.11)\">\r\n     <use xlink:href=\"#MalgunGothicBold-44305\"/>\r\n     <use x=\"100\" xlink:href=\"#MalgunGothicBold-51652\"/>\r\n    </g>\r\n   </g>\r\n   <g id=\"text_58\">\r\n    <!-- 서울 -->\r\n    <g transform=\"translate(393.340606 186.936419)scale(0.11 -0.11)\">\r\n     <use xlink:href=\"#MalgunGothicBold-49436\"/>\r\n     <use x=\"100\" xlink:href=\"#MalgunGothicBold-50872\"/>\r\n    </g>\r\n    <!-- 송파 -->\r\n    <defs>\r\n     <path d=\"M 84.421875 51.125 \r\nQ 74.265625 52.484375 64.859375 57 \r\nQ 55.46875 61.53125 50 67.484375 \r\nQ 38.375 54.78125 16.109375 51.21875 \r\nL 9.625 60.59375 \r\nQ 24.953125 61.96875 34.421875 68.109375 \r\nQ 43.890625 74.265625 43.890625 80.328125 \r\nL 43.890625 84.8125 \r\nL 56 84.8125 \r\nL 56 80.328125 \r\nQ 56 74.515625 65.671875 68.0625 \r\nQ 75.34375 61.625 90.1875 60.5 \r\nz\r\nM 6.296875 32.625 \r\nL 6.296875 42.921875 \r\nL 43.796875 42.921875 \r\nL 43.796875 54.984375 \r\nL 56.109375 54.984375 \r\nL 56.109375 42.921875 \r\nL 93.703125 42.921875 \r\nL 93.703125 32.625 \r\nz\r\nM 50 -8.796875 \r\nQ 34.765625 -8.796875 26.390625 -3.875 \r\nQ 18.015625 1.03125 18.015625 9.421875 \r\nQ 18.015625 17.671875 26.453125 22.578125 \r\nQ 34.90625 27.484375 50 27.484375 \r\nQ 65.09375 27.484375 73.53125 22.578125 \r\nQ 81.984375 17.671875 81.984375 9.421875 \r\nQ 81.984375 1.03125 73.609375 -3.875 \r\nQ 65.234375 -8.796875 50 -8.796875 \r\nz\r\nM 50 17.390625 \r\nQ 30.515625 17.390625 30.515625 9.421875 \r\nQ 30.515625 5.671875 35.4375 3.4375 \r\nQ 40.375 1.21875 50 1.21875 \r\nQ 59.625 1.21875 64.546875 3.4375 \r\nQ 69.484375 5.671875 69.484375 9.421875 \r\nQ 69.484375 17.390625 50 17.390625 \r\nz\r\n\" id=\"MalgunGothicBold-49569\"/>\r\n    </defs>\r\n    <g transform=\"translate(393.340606 199.558575)scale(0.11 -0.11)\">\r\n     <use xlink:href=\"#MalgunGothicBold-49569\"/>\r\n     <use x=\"100\" xlink:href=\"#MalgunGothicBold-54028\"/>\r\n    </g>\r\n   </g>\r\n   <g id=\"text_59\">\r\n    <!-- 이천 -->\r\n    <defs>\r\n     <path d=\"M 73.296875 -8.796875 \r\nL 73.296875 85.40625 \r\nL 85.40625 85.40625 \r\nL 85.40625 -8.796875 \r\nz\r\nM 34.421875 14.109375 \r\nQ 23.1875 14.109375 16.40625 22.9375 \r\nQ 9.625 31.78125 9.625 46.78125 \r\nQ 9.625 62.015625 16.375 70.703125 \r\nQ 23.140625 79.390625 34.421875 79.390625 \r\nQ 45.65625 79.390625 52.359375 70.625 \r\nQ 59.078125 61.859375 59.078125 46.78125 \r\nQ 59.078125 31.640625 52.390625 22.875 \r\nQ 45.703125 14.109375 34.421875 14.109375 \r\nz\r\nM 34.421875 69 \r\nQ 28.8125 69 25.1875 62.984375 \r\nQ 21.578125 56.984375 21.578125 46.6875 \r\nQ 21.578125 36.53125 25.28125 30.46875 \r\nQ 29 24.421875 34.421875 24.421875 \r\nQ 39.796875 24.421875 43.5 30.390625 \r\nQ 47.21875 36.375 47.21875 46.6875 \r\nQ 47.21875 56.984375 43.625 62.984375 \r\nQ 40.046875 69 34.421875 69 \r\nz\r\n\" id=\"MalgunGothicBold-51060\"/>\r\n    </defs>\r\n    <g transform=\"translate(436.743951 193.247497)scale(0.11 -0.11)\">\r\n     <use xlink:href=\"#MalgunGothicBold-51060\"/>\r\n     <use x=\"100\" xlink:href=\"#MalgunGothicBold-52380\"/>\r\n    </g>\r\n   </g>\r\n   <g id=\"text_60\">\r\n    <!-- 평창 -->\r\n    <defs>\r\n     <path d=\"M 57.171875 33.5 \r\nQ 51.171875 35.640625 44.4375 40.765625 \r\nQ 37.703125 45.90625 35.015625 50.296875 \r\nQ 28.21875 38.921875 13.625 31.203125 \r\nL 5.171875 39.5 \r\nQ 15.234375 43.265625 21.609375 50.1875 \r\nQ 27.984375 57.125 28.515625 65.28125 \r\nL 7.8125 65.28125 \r\nL 7.8125 75.484375 \r\nL 28.609375 75.484375 \r\nL 28.609375 85.984375 \r\nL 40.921875 85.984375 \r\nL 40.921875 75.484375 \r\nL 61.625 75.484375 \r\nL 61.625 65.28125 \r\nL 40.921875 65.28125 \r\nQ 41.40625 57.625 48.578125 51.046875 \r\nQ 55.765625 44.484375 64.40625 42.71875 \r\nz\r\nM 82.171875 52 \r\nL 82.171875 30.421875 \r\nL 69.921875 30.421875 \r\nL 69.921875 85.40625 \r\nL 82.171875 85.40625 \r\nL 82.171875 62.3125 \r\nL 96.484375 62.3125 \r\nL 96.484375 52 \r\nz\r\nM 52.296875 -8.40625 \r\nQ 37.3125 -8.40625 29.109375 -3.25 \r\nQ 20.90625 1.90625 20.90625 10.40625 \r\nQ 20.90625 18.84375 29.203125 23.921875 \r\nQ 37.5 29 52.296875 29 \r\nQ 67.140625 29 75.40625 23.9375 \r\nQ 83.6875 18.890625 83.6875 10.40625 \r\nQ 83.6875 1.859375 75.453125 -3.265625 \r\nQ 67.234375 -8.40625 52.296875 -8.40625 \r\nz\r\nM 52.296875 18.796875 \r\nQ 33.59375 18.796875 33.59375 10.40625 \r\nQ 33.59375 1.8125 52.296875 1.8125 \r\nQ 71.09375 1.8125 71.09375 10.40625 \r\nQ 71.09375 18.796875 52.296875 18.796875 \r\nz\r\n\" id=\"MalgunGothicBold-52285\"/>\r\n    </defs>\r\n    <g transform=\"translate(480.147296 193.247497)scale(0.11 -0.11)\">\r\n     <use xlink:href=\"#MalgunGothicBold-54217\"/>\r\n     <use x=\"100\" xlink:href=\"#MalgunGothicBold-52285\"/>\r\n    </g>\r\n   </g>\r\n   <g id=\"text_61\">\r\n    <!-- 울진 -->\r\n    <g transform=\"translate(523.550641 193.247497)scale(0.11 -0.11)\">\r\n     <use xlink:href=\"#MalgunGothicBold-50872\"/>\r\n     <use x=\"100\" xlink:href=\"#MalgunGothicBold-51652\"/>\r\n    </g>\r\n   </g>\r\n   <g id=\"text_62\">\r\n    <!-- 인천 -->\r\n    <g transform=\"translate(132.920536 213.873482)scale(0.11 -0.11)\">\r\n     <use xlink:href=\"#MalgunGothicBold-51064\"/>\r\n     <use x=\"100\" xlink:href=\"#MalgunGothicBold-52380\"/>\r\n    </g>\r\n    <!-- 계양 -->\r\n    <defs>\r\n     <path d=\"M 76.125 -8.796875 \r\nL 76.125 85.40625 \r\nL 88.28125 85.40625 \r\nL 88.28125 -8.796875 \r\nz\r\nM 48.78125 77.484375 \r\nQ 47.859375 68.609375 46.484375 62.703125 \r\nL 56.6875 62.703125 \r\nL 56.6875 83.5 \r\nL 68.796875 83.5 \r\nL 68.796875 -6 \r\nL 56.6875 -6 \r\nL 56.6875 27.296875 \r\nL 38.484375 27.296875 \r\nL 38.484375 37.5 \r\nL 56.6875 37.5 \r\nL 56.6875 52.484375 \r\nL 43.609375 52.484375 \r\nQ 40.234375 41.796875 31.828125 29.984375 \r\nQ 23.4375 18.171875 15.828125 12.203125 \r\nL 5.515625 19.921875 \r\nQ 14.203125 24.953125 23.484375 37.984375 \r\nQ 32.765625 51.03125 35.6875 67.28125 \r\nL 10.6875 67.28125 \r\nL 10.6875 77.484375 \r\nz\r\n\" id=\"MalgunGothicBold-44228\"/>\r\n    </defs>\r\n    <g transform=\"translate(132.920536 226.495638)scale(0.11 -0.11)\">\r\n     <use xlink:href=\"#MalgunGothicBold-44228\"/>\r\n     <use x=\"100\" xlink:href=\"#MalgunGothicBold-50577\"/>\r\n    </g>\r\n   </g>\r\n   <g id=\"text_63\">\r\n    <!-- 안산 -->\r\n    <g transform=\"translate(176.323881 213.873482)scale(0.11 -0.11)\">\r\n     <use xlink:href=\"#MalgunGothicBold-50504\"/>\r\n     <use x=\"100\" xlink:href=\"#MalgunGothicBold-49328\"/>\r\n    </g>\r\n    <!-- 상록 -->\r\n    <defs>\r\n     <path d=\"M 82.171875 52 \r\nL 82.171875 30.421875 \r\nL 69.921875 30.421875 \r\nL 69.921875 85.40625 \r\nL 82.171875 85.40625 \r\nL 82.171875 62.3125 \r\nL 96.484375 62.3125 \r\nL 96.484375 52 \r\nz\r\nM 56.109375 34.515625 \r\nQ 41.453125 41.5 34.625 52.390625 \r\nQ 32.078125 47.3125 25.390625 40.859375 \r\nQ 18.703125 34.421875 13.625 31.6875 \r\nL 4.6875 40.484375 \r\nQ 15.140625 45.0625 21.671875 53.40625 \r\nQ 28.21875 61.765625 28.21875 70.703125 \r\nL 28.21875 82.421875 \r\nL 40.484375 82.421875 \r\nL 40.484375 71.09375 \r\nQ 40.484375 62.109375 47.1875 54.59375 \r\nQ 53.90625 47.078125 63.921875 44.28125 \r\nz\r\nM 52.296875 -8.40625 \r\nQ 37.3125 -8.40625 29.109375 -3.25 \r\nQ 20.90625 1.90625 20.90625 10.40625 \r\nQ 20.90625 18.84375 29.203125 23.921875 \r\nQ 37.5 29 52.296875 29 \r\nQ 67.140625 29 75.40625 23.9375 \r\nQ 83.6875 18.890625 83.6875 10.40625 \r\nQ 83.6875 1.859375 75.453125 -3.265625 \r\nQ 67.234375 -8.40625 52.296875 -8.40625 \r\nz\r\nM 52.296875 18.796875 \r\nQ 33.59375 18.796875 33.59375 10.40625 \r\nQ 33.59375 1.8125 52.296875 1.8125 \r\nQ 71.09375 1.8125 71.09375 10.40625 \r\nQ 71.09375 18.796875 52.296875 18.796875 \r\nz\r\n\" id=\"MalgunGothicBold-49345\"/>\r\n     <path d=\"M 6.296875 28.328125 \r\nL 6.296875 38.484375 \r\nL 43.796875 38.484375 \r\nL 43.796875 45.015625 \r\nL 20.125 45.015625 \r\nL 20.125 69.484375 \r\nL 67.671875 69.484375 \r\nL 67.671875 74.3125 \r\nL 20.125 74.3125 \r\nL 20.125 84.28125 \r\nL 79.890625 84.28125 \r\nL 79.890625 60.40625 \r\nL 32.328125 60.40625 \r\nL 32.328125 54.984375 \r\nL 81.984375 54.984375 \r\nL 81.984375 45.015625 \r\nL 56.109375 45.015625 \r\nL 56.109375 38.484375 \r\nL 93.703125 38.484375 \r\nL 93.703125 28.328125 \r\nz\r\nM 68.703125 -8.796875 \r\nL 68.703125 12.5 \r\nL 17.921875 12.5 \r\nL 17.921875 22.796875 \r\nL 81 22.796875 \r\nL 81 -8.796875 \r\nz\r\n\" id=\"MalgunGothicBold-47197\"/>\r\n    </defs>\r\n    <g transform=\"translate(176.323881 226.495638)scale(0.11 -0.11)\">\r\n     <use xlink:href=\"#MalgunGothicBold-49345\"/>\r\n     <use x=\"100\" xlink:href=\"#MalgunGothicBold-47197\"/>\r\n    </g>\r\n   </g>\r\n   <g id=\"text_64\">\r\n    <!-- 서울 -->\r\n    <g transform=\"translate(219.727226 213.873482)scale(0.11 -0.11)\">\r\n     <use xlink:href=\"#MalgunGothicBold-49436\"/>\r\n     <use x=\"100\" xlink:href=\"#MalgunGothicBold-50872\"/>\r\n    </g>\r\n    <!-- 양천 -->\r\n    <g transform=\"translate(219.727226 226.495638)scale(0.11 -0.11)\">\r\n     <use xlink:href=\"#MalgunGothicBold-50577\"/>\r\n     <use x=\"100\" xlink:href=\"#MalgunGothicBold-52380\"/>\r\n    </g>\r\n   </g>\r\n   <g id=\"text_65\">\r\n    <!-- 서울 -->\r\n    <g transform=\"translate(263.130571 213.873482)scale(0.11 -0.11)\">\r\n     <use xlink:href=\"#MalgunGothicBold-49436\"/>\r\n     <use x=\"100\" xlink:href=\"#MalgunGothicBold-50872\"/>\r\n    </g>\r\n    <!-- 관악 -->\r\n    <defs>\r\n     <path d=\"M 83.203125 44.1875 \r\nL 83.203125 16.3125 \r\nL 70.90625 16.3125 \r\nL 70.90625 85.40625 \r\nL 83.203125 85.40625 \r\nL 83.203125 54.59375 \r\nL 97.125 54.59375 \r\nL 97.125 44.1875 \r\nz\r\nM 60.890625 80.421875 \r\nQ 60.890625 60.5 59.1875 46.484375 \r\nL 47.21875 47.609375 \r\nQ 48.296875 57.46875 48.578125 70.125 \r\nL 12.40625 70.125 \r\nL 12.40625 80.421875 \r\nz\r\nM 67.828125 31.296875 \r\nQ 38.71875 29.59375 5.328125 29.59375 \r\nL 4.109375 39.890625 \r\nQ 17.234375 39.890625 24.703125 40.09375 \r\nL 24.703125 58.796875 \r\nL 37.015625 58.796875 \r\nL 37.015625 40.1875 \r\nQ 58.40625 40.671875 67.09375 41.3125 \r\nz\r\nM 19.28125 -5.609375 \r\nL 19.28125 24.421875 \r\nL 31.59375 24.421875 \r\nL 31.59375 4.6875 \r\nL 84.421875 4.6875 \r\nL 84.421875 -5.609375 \r\nz\r\n\" id=\"MalgunGothicBold-44288\"/>\r\n     <path d=\"M 82.328125 51.125 \r\nL 82.328125 30.71875 \r\nL 70.015625 30.71875 \r\nL 70.015625 85.40625 \r\nL 82.328125 85.40625 \r\nL 82.328125 61.375 \r\nL 96.578125 61.375 \r\nL 96.578125 51.125 \r\nz\r\nM 32.8125 35.40625 \r\nQ 21.875 35.40625 14.796875 42.1875 \r\nQ 7.71875 48.96875 7.71875 59.078125 \r\nQ 7.71875 69.28125 14.796875 76.046875 \r\nQ 21.875 82.8125 32.8125 82.8125 \r\nQ 43.75 82.8125 50.828125 76.046875 \r\nQ 57.90625 69.28125 57.90625 59.078125 \r\nQ 57.90625 48.96875 50.828125 42.1875 \r\nQ 43.75 35.40625 32.8125 35.40625 \r\nz\r\nM 32.8125 72.796875 \r\nQ 26.859375 72.796875 23.4375 68.9375 \r\nQ 20.015625 65.09375 20.015625 59.078125 \r\nQ 20.015625 53.125 23.453125 49.3125 \r\nQ 26.90625 45.515625 32.8125 45.515625 \r\nQ 38.625 45.515625 42.15625 49.3125 \r\nQ 45.703125 53.125 45.703125 59.078125 \r\nQ 45.703125 65.09375 42.1875 68.9375 \r\nQ 38.671875 72.796875 32.8125 72.796875 \r\nz\r\nM 70.125 -8.796875 \r\nL 70.125 16.40625 \r\nL 20.515625 16.40625 \r\nL 20.515625 26.703125 \r\nL 82.328125 26.703125 \r\nL 82.328125 -8.796875 \r\nz\r\n\" id=\"MalgunGothicBold-50501\"/>\r\n    </defs>\r\n    <g transform=\"translate(263.130571 226.495638)scale(0.11 -0.11)\">\r\n     <use xlink:href=\"#MalgunGothicBold-44288\"/>\r\n     <use x=\"100\" xlink:href=\"#MalgunGothicBold-50501\"/>\r\n    </g>\r\n   </g>\r\n   <g id=\"text_66\">\r\n    <!-- 서울 -->\r\n    <g transform=\"translate(306.533916 213.873482)scale(0.11 -0.11)\">\r\n     <use xlink:href=\"#MalgunGothicBold-49436\"/>\r\n     <use x=\"100\" xlink:href=\"#MalgunGothicBold-50872\"/>\r\n    </g>\r\n    <!-- 서초 -->\r\n    <g transform=\"translate(306.533916 226.495638)scale(0.11 -0.11)\">\r\n     <use xlink:href=\"#MalgunGothicBold-49436\"/>\r\n     <use x=\"100\" xlink:href=\"#MalgunGothicBold-52488\"/>\r\n    </g>\r\n   </g>\r\n   <g id=\"text_67\">\r\n    <!-- 과천 -->\r\n    <defs>\r\n     <path d=\"M 83.890625 35.5 \r\nL 83.890625 -8.796875 \r\nL 71.484375 -8.796875 \r\nL 71.484375 85.40625 \r\nL 83.890625 85.40625 \r\nL 83.890625 45.796875 \r\nL 98.09375 45.796875 \r\nL 98.09375 35.5 \r\nz\r\nM 60.296875 76.125 \r\nQ 60.296875 51.8125 58.203125 26.3125 \r\nL 46.390625 27 \r\nQ 47.609375 36.03125 48.296875 65.71875 \r\nL 11.71875 65.71875 \r\nL 11.71875 76.125 \r\nz\r\nM 68.3125 7.90625 \r\nQ 40.375 6.296875 4.109375 6.296875 \r\nL 2.6875 16.609375 \r\nQ 11.078125 16.609375 23.78125 16.796875 \r\nL 23.78125 47.40625 \r\nL 36.1875 47.40625 \r\nL 36.1875 17 \r\nQ 53.953125 17.234375 67.671875 18.015625 \r\nz\r\n\" id=\"MalgunGothicBold-44284\"/>\r\n    </defs>\r\n    <g transform=\"translate(349.937261 220.18456)scale(0.11 -0.11)\">\r\n     <use xlink:href=\"#MalgunGothicBold-44284\"/>\r\n     <use x=\"100\" xlink:href=\"#MalgunGothicBold-52380\"/>\r\n    </g>\r\n   </g>\r\n   <g id=\"text_68\">\r\n    <!-- 성남 -->\r\n    <g transform=\"translate(393.340606 213.873482)scale(0.11 -0.11)\">\r\n     <use xlink:href=\"#MalgunGothicBold-49457\"/>\r\n     <use x=\"100\" xlink:href=\"#MalgunGothicBold-45224\"/>\r\n    </g>\r\n    <!-- 중원 -->\r\n    <g transform=\"translate(393.340606 226.495638)scale(0.11 -0.11)\">\r\n     <use xlink:href=\"#MalgunGothicBold-51473\"/>\r\n     <use x=\"100\" xlink:href=\"#MalgunGothicBold-50896\"/>\r\n    </g>\r\n   </g>\r\n   <g id=\"text_69\">\r\n    <!-- 광주 -->\r\n    <g transform=\"translate(436.743951 220.18456)scale(0.11 -0.11)\">\r\n     <use xlink:href=\"#MalgunGothicBold-44305\"/>\r\n     <use x=\"100\" xlink:href=\"#MalgunGothicBold-51452\"/>\r\n    </g>\r\n   </g>\r\n   <g id=\"text_70\">\r\n    <!-- 영월 -->\r\n    <defs>\r\n     <path d=\"M 53.078125 42.09375 \r\nQ 45.5625 34.625 34.421875 34.625 \r\nQ 23.640625 34.625 16.40625 41.3125 \r\nQ 9.1875 48 9.1875 58.796875 \r\nQ 9.1875 69.53125 16.375 76.265625 \r\nQ 23.578125 83.015625 34.421875 83.015625 \r\nQ 47.078125 83.015625 54.390625 74.421875 \r\nL 74.515625 74.421875 \r\nL 74.515625 85.40625 \r\nL 86.625 85.40625 \r\nL 86.625 31 \r\nL 74.515625 31 \r\nL 74.515625 42.09375 \r\nz\r\nM 34.421875 72.796875 \r\nQ 28.421875 72.796875 24.859375 68.984375 \r\nQ 21.296875 65.1875 21.296875 58.796875 \r\nQ 21.296875 52.59375 24.90625 48.703125 \r\nQ 28.515625 44.828125 34.421875 44.828125 \r\nQ 40.28125 44.828125 43.984375 48.6875 \r\nQ 47.703125 52.546875 47.703125 58.796875 \r\nQ 47.703125 65.234375 44.09375 69.015625 \r\nQ 40.484375 72.796875 34.421875 72.796875 \r\nz\r\nM 58.890625 52 \r\nL 74.515625 52 \r\nL 74.515625 64.40625 \r\nL 59.1875 64.40625 \r\nQ 59.8125 61.8125 59.8125 58.796875 \r\nQ 59.8125 55.078125 58.890625 52 \r\nz\r\nM 57.171875 -8.40625 \r\nQ 42.578125 -8.40625 34.390625 -2.953125 \r\nQ 26.21875 2.484375 26.21875 11.1875 \r\nQ 26.21875 19.828125 34.421875 25.3125 \r\nQ 42.625 30.8125 57.171875 30.8125 \r\nQ 71.78125 30.8125 80.03125 25.296875 \r\nQ 88.28125 19.78125 88.28125 11.1875 \r\nQ 88.28125 2.484375 80.046875 -2.953125 \r\nQ 71.828125 -8.40625 57.171875 -8.40625 \r\nz\r\nM 57.171875 20.703125 \r\nQ 47.859375 20.703125 43.234375 18.0625 \r\nQ 38.625 15.4375 38.625 11.1875 \r\nQ 38.625 6.9375 43.28125 4.3125 \r\nQ 47.953125 1.703125 57.171875 1.703125 \r\nQ 66.453125 1.703125 71.15625 4.296875 \r\nQ 75.875 6.890625 75.875 11.1875 \r\nQ 75.875 15.375 71.203125 18.03125 \r\nQ 66.546875 20.703125 57.171875 20.703125 \r\nz\r\n\" id=\"MalgunGothicBold-50689\"/>\r\n     <path d=\"M 73.390625 30.078125 \r\nL 73.390625 33.296875 \r\nL 56.296875 33.296875 \r\nL 56.296875 41.609375 \r\nL 73.390625 41.609375 \r\nL 73.390625 85.40625 \r\nL 85.59375 85.40625 \r\nL 85.59375 30.078125 \r\nz\r\nM 37.203125 56.5 \r\nQ 26.3125 56.5 19.703125 60.328125 \r\nQ 13.09375 64.15625 13.09375 70.90625 \r\nQ 13.09375 77.78125 19.65625 81.484375 \r\nQ 26.21875 85.203125 37.203125 85.203125 \r\nQ 48.09375 85.203125 54.640625 81.421875 \r\nQ 61.1875 77.640625 61.1875 70.90625 \r\nQ 61.1875 64.203125 54.421875 60.34375 \r\nQ 47.65625 56.5 37.203125 56.5 \r\nz\r\nM 37.203125 76.703125 \r\nQ 30.953125 76.703125 27.875 75 \r\nQ 24.8125 73.296875 24.8125 70.796875 \r\nQ 24.8125 68.3125 27.953125 66.75 \r\nQ 31.109375 65.1875 37.203125 65.1875 \r\nQ 49.515625 65.1875 49.515625 70.796875 \r\nQ 49.515625 73.296875 46.53125 75 \r\nQ 43.5625 76.703125 37.203125 76.703125 \r\nz\r\nM 68.890625 45.796875 \r\nQ 63.03125 45.359375 43.796875 44.390625 \r\nL 43.796875 30.328125 \r\nL 31.5 30.328125 \r\nL 31.5 43.796875 \r\nQ 12.75 43.015625 7.8125 43.015625 \r\nL 5.90625 52.296875 \r\nQ 26.421875 52.296875 68.3125 54.59375 \r\nz\r\nM 22.796875 -7.515625 \r\nL 22.796875 13.921875 \r\nL 73.296875 13.921875 \r\nL 73.296875 17.828125 \r\nL 22.796875 17.828125 \r\nL 22.796875 27.296875 \r\nL 85.59375 27.296875 \r\nL 85.59375 5.90625 \r\nL 35.109375 5.90625 \r\nL 35.109375 1.90625 \r\nL 87.890625 1.90625 \r\nL 87.890625 -7.515625 \r\nz\r\n\" id=\"MalgunGothicBold-50900\"/>\r\n    </defs>\r\n    <g transform=\"translate(480.147296 220.18456)scale(0.11 -0.11)\">\r\n     <use xlink:href=\"#MalgunGothicBold-50689\"/>\r\n     <use x=\"100\" xlink:href=\"#MalgunGothicBold-50900\"/>\r\n    </g>\r\n   </g>\r\n   <g id=\"text_71\">\r\n    <!-- 영덕 -->\r\n    <g transform=\"translate(523.550641 220.18456)scale(0.11 -0.11)\">\r\n     <use xlink:href=\"#MalgunGothicBold-50689\"/>\r\n     <use x=\"100\" xlink:href=\"#MalgunGothicBold-45909\"/>\r\n    </g>\r\n   </g>\r\n   <g id=\"text_72\">\r\n    <!-- 인천 -->\r\n    <g transform=\"translate(132.920536 240.810544)scale(0.11 -0.11)\">\r\n     <use xlink:href=\"#MalgunGothicBold-51064\"/>\r\n     <use x=\"100\" xlink:href=\"#MalgunGothicBold-52380\"/>\r\n    </g>\r\n    <!-- 부평 -->\r\n    <g transform=\"translate(132.920536 253.432701)scale(0.11 -0.11)\">\r\n     <use xlink:href=\"#MalgunGothicBold-48512\"/>\r\n     <use x=\"100\" xlink:href=\"#MalgunGothicBold-54217\"/>\r\n    </g>\r\n   </g>\r\n   <g id=\"text_73\">\r\n    <!-- 안산 -->\r\n    <g transform=\"translate(176.323881 240.810544)scale(0.11 -0.11)\">\r\n     <use xlink:href=\"#MalgunGothicBold-50504\"/>\r\n     <use x=\"100\" xlink:href=\"#MalgunGothicBold-49328\"/>\r\n    </g>\r\n    <!-- 단원 -->\r\n    <defs>\r\n     <path d=\"M 82.078125 47.125 \r\nL 82.078125 17.578125 \r\nL 69.921875 17.578125 \r\nL 69.921875 85.40625 \r\nL 82.078125 85.40625 \r\nL 82.078125 57.421875 \r\nL 96.484375 57.421875 \r\nL 96.484375 47.125 \r\nz\r\nM 60.796875 37.59375 \r\nQ 43.703125 36.375 10.5 36.375 \r\nL 10.5 79.390625 \r\nL 56.5 79.390625 \r\nL 56.5 69 \r\nL 22.703125 69 \r\nL 22.703125 46.6875 \r\nQ 46.140625 46.6875 60.015625 47.90625 \r\nz\r\nM 23.1875 -5.515625 \r\nL 23.1875 26.90625 \r\nL 35.5 26.90625 \r\nL 35.5 4.78125 \r\nL 84.71875 4.78125 \r\nL 84.71875 -5.515625 \r\nz\r\n\" id=\"MalgunGothicBold-45800\"/>\r\n    </defs>\r\n    <g transform=\"translate(176.323881 253.432701)scale(0.11 -0.11)\">\r\n     <use xlink:href=\"#MalgunGothicBold-45800\"/>\r\n     <use x=\"100\" xlink:href=\"#MalgunGothicBold-50896\"/>\r\n    </g>\r\n   </g>\r\n   <g id=\"text_74\">\r\n    <!-- 서울 -->\r\n    <g transform=\"translate(221.227226 240.19715)scale(0.095 -0.095)\">\r\n     <use xlink:href=\"#MalgunGothicBold-49436\"/>\r\n     <use x=\"100\" xlink:href=\"#MalgunGothicBold-50872\"/>\r\n    </g>\r\n    <!-- 영등포 -->\r\n    <defs>\r\n     <path d=\"M 19.484375 50.296875 \r\nL 19.484375 83.109375 \r\nL 80.71875 83.109375 \r\nL 80.71875 72.796875 \r\nL 31.890625 72.796875 \r\nL 31.890625 60.59375 \r\nL 81.6875 60.59375 \r\nL 81.6875 50.296875 \r\nz\r\nM 6.296875 32.515625 \r\nL 6.296875 42.921875 \r\nL 93.703125 42.921875 \r\nL 93.703125 32.515625 \r\nz\r\nM 50 -8.796875 \r\nQ 34.8125 -8.796875 26.90625 -4.125 \r\nQ 19 0.53125 19 8.984375 \r\nQ 19 17.28125 26.921875 21.984375 \r\nQ 34.859375 26.703125 50 26.703125 \r\nQ 65.140625 26.703125 73.0625 21.984375 \r\nQ 81 17.28125 81 8.984375 \r\nQ 81 0.53125 73.09375 -4.125 \r\nQ 65.1875 -8.796875 50 -8.796875 \r\nz\r\nM 50 16.609375 \r\nQ 31.5 16.609375 31.5 8.984375 \r\nQ 31.5 1.21875 50 1.21875 \r\nQ 68.5 1.21875 68.5 8.984375 \r\nQ 68.5 16.609375 50 16.609375 \r\nz\r\n\" id=\"MalgunGothicBold-46321\"/>\r\n    </defs>\r\n    <g transform=\"translate(216.477226 253.261877)scale(0.095 -0.095)\">\r\n     <use xlink:href=\"#MalgunGothicBold-50689\"/>\r\n     <use x=\"100\" xlink:href=\"#MalgunGothicBold-46321\"/>\r\n     <use x=\"200\" xlink:href=\"#MalgunGothicBold-54252\"/>\r\n    </g>\r\n   </g>\r\n   <g id=\"text_75\">\r\n    <!-- 서울 -->\r\n    <g transform=\"translate(263.130571 240.810544)scale(0.11 -0.11)\">\r\n     <use xlink:href=\"#MalgunGothicBold-49436\"/>\r\n     <use x=\"100\" xlink:href=\"#MalgunGothicBold-50872\"/>\r\n    </g>\r\n    <!-- 금천 -->\r\n    <defs>\r\n     <path d=\"M 6.296875 40.28125 \r\nL 6.296875 50.59375 \r\nL 67.484375 50.59375 \r\nQ 68.3125 63.578125 68.3125 73 \r\nL 19 73 \r\nL 19 83.296875 \r\nL 80.609375 83.296875 \r\nQ 80.609375 70.515625 79.296875 50.59375 \r\nL 93.703125 50.59375 \r\nL 93.703125 40.28125 \r\nz\r\nM 19.1875 -6.78125 \r\nL 19.1875 28.71875 \r\nL 80.8125 28.71875 \r\nL 80.8125 -6.78125 \r\nz\r\nM 68.609375 18.40625 \r\nL 31.390625 18.40625 \r\nL 31.390625 3.421875 \r\nL 68.609375 3.421875 \r\nz\r\n\" id=\"MalgunGothicBold-44552\"/>\r\n    </defs>\r\n    <g transform=\"translate(263.130571 253.432701)scale(0.11 -0.11)\">\r\n     <use xlink:href=\"#MalgunGothicBold-44552\"/>\r\n     <use x=\"100\" xlink:href=\"#MalgunGothicBold-52380\"/>\r\n    </g>\r\n   </g>\r\n   <g id=\"text_76\">\r\n    <!-- 서울 -->\r\n    <g transform=\"translate(306.533916 240.810544)scale(0.11 -0.11)\">\r\n     <use xlink:href=\"#MalgunGothicBold-49436\"/>\r\n     <use x=\"100\" xlink:href=\"#MalgunGothicBold-50872\"/>\r\n    </g>\r\n    <!-- 강남 -->\r\n    <g transform=\"translate(306.533916 253.432701)scale(0.11 -0.11)\">\r\n     <use xlink:href=\"#MalgunGothicBold-44053\"/>\r\n     <use x=\"100\" xlink:href=\"#MalgunGothicBold-45224\"/>\r\n    </g>\r\n   </g>\r\n   <g id=\"text_77\">\r\n    <!-- 성남 -->\r\n    <g transform=\"translate(349.937261 240.810544)scale(0.11 -0.11)\">\r\n     <use xlink:href=\"#MalgunGothicBold-49457\"/>\r\n     <use x=\"100\" xlink:href=\"#MalgunGothicBold-45224\"/>\r\n    </g>\r\n    <!-- 분당 -->\r\n    <defs>\r\n     <path d=\"M 19.484375 46.484375 \r\nL 19.484375 83.109375 \r\nL 31.6875 83.109375 \r\nL 31.6875 74.125 \r\nL 68.3125 74.125 \r\nL 68.3125 83.109375 \r\nL 80.515625 83.109375 \r\nL 80.515625 46.484375 \r\nz\r\nM 68.3125 64.109375 \r\nL 31.6875 64.109375 \r\nL 31.6875 56.6875 \r\nL 68.3125 56.6875 \r\nz\r\nM 56.109375 28.515625 \r\nL 56.109375 10.296875 \r\nL 43.796875 10.296875 \r\nL 43.796875 28.515625 \r\nL 6.296875 28.515625 \r\nL 6.296875 38.8125 \r\nL 93.703125 38.8125 \r\nL 93.703125 28.515625 \r\nz\r\nM 19.1875 -6.203125 \r\nL 19.1875 21.921875 \r\nL 31.5 21.921875 \r\nL 31.5 4.109375 \r\nL 82.078125 4.109375 \r\nL 82.078125 -6.203125 \r\nz\r\n\" id=\"MalgunGothicBold-48516\"/>\r\n     <path d=\"M 82.171875 52 \r\nL 82.171875 30.421875 \r\nL 69.921875 30.421875 \r\nL 69.921875 85.40625 \r\nL 82.171875 85.40625 \r\nL 82.171875 62.3125 \r\nL 96.484375 62.3125 \r\nL 96.484375 52 \r\nz\r\nM 60.796875 40.625 \r\nQ 43.703125 39.40625 10.5 39.40625 \r\nL 10.5 80.421875 \r\nL 56.5 80.421875 \r\nL 56.5 70.015625 \r\nL 22.703125 70.015625 \r\nL 22.703125 49.703125 \r\nQ 46.96875 49.703125 60.015625 50.875 \r\nz\r\nM 52.296875 -8.40625 \r\nQ 37.3125 -8.40625 29.109375 -3.25 \r\nQ 20.90625 1.90625 20.90625 10.40625 \r\nQ 20.90625 18.84375 29.203125 23.921875 \r\nQ 37.5 29 52.296875 29 \r\nQ 67.140625 29 75.40625 23.9375 \r\nQ 83.6875 18.890625 83.6875 10.40625 \r\nQ 83.6875 1.859375 75.453125 -3.265625 \r\nQ 67.234375 -8.40625 52.296875 -8.40625 \r\nz\r\nM 52.296875 18.796875 \r\nQ 33.59375 18.796875 33.59375 10.40625 \r\nQ 33.59375 1.8125 52.296875 1.8125 \r\nQ 71.09375 1.8125 71.09375 10.40625 \r\nQ 71.09375 18.796875 52.296875 18.796875 \r\nz\r\n\" id=\"MalgunGothicBold-45817\"/>\r\n    </defs>\r\n    <g transform=\"translate(349.937261 253.432701)scale(0.11 -0.11)\">\r\n     <use xlink:href=\"#MalgunGothicBold-48516\"/>\r\n     <use x=\"100\" xlink:href=\"#MalgunGothicBold-45817\"/>\r\n    </g>\r\n   </g>\r\n   <g id=\"text_78\">\r\n    <!-- 성남 -->\r\n    <g transform=\"translate(393.340606 240.810544)scale(0.11 -0.11)\">\r\n     <use xlink:href=\"#MalgunGothicBold-49457\"/>\r\n     <use x=\"100\" xlink:href=\"#MalgunGothicBold-45224\"/>\r\n    </g>\r\n    <!-- 수정 -->\r\n    <defs>\r\n     <path d=\"M 83.796875 45.40625 \r\nQ 72.75 47.703125 63.328125 53.015625 \r\nQ 53.90625 58.34375 49.90625 64.109375 \r\nQ 45.90625 58.0625 36.421875 52.6875 \r\nQ 26.953125 47.3125 16.796875 45.40625 \r\nL 9.515625 54.6875 \r\nQ 24.953125 56.546875 34.375 63.625 \r\nQ 43.796875 70.703125 43.796875 79.109375 \r\nL 43.796875 83.40625 \r\nL 56 83.40625 \r\nL 56 79.109375 \r\nQ 56 70.609375 65.328125 63.46875 \r\nQ 74.65625 56.34375 90.09375 54.59375 \r\nz\r\nM 56 26.21875 \r\nL 56 -8.796875 \r\nL 43.796875 -8.796875 \r\nL 43.796875 26.21875 \r\nL 6.296875 26.21875 \r\nL 6.296875 36.53125 \r\nL 93.703125 36.53125 \r\nL 93.703125 26.21875 \r\nz\r\n\" id=\"MalgunGothicBold-49688\"/>\r\n    </defs>\r\n    <g transform=\"translate(393.340606 253.432701)scale(0.11 -0.11)\">\r\n     <use xlink:href=\"#MalgunGothicBold-49688\"/>\r\n     <use x=\"100\" xlink:href=\"#MalgunGothicBold-51221\"/>\r\n    </g>\r\n   </g>\r\n   <g id=\"text_79\">\r\n    <!-- 용인 -->\r\n    <g transform=\"translate(436.743951 240.810544)scale(0.11 -0.11)\">\r\n     <use xlink:href=\"#MalgunGothicBold-50857\"/>\r\n     <use x=\"100\" xlink:href=\"#MalgunGothicBold-51064\"/>\r\n    </g>\r\n    <!-- 수지 -->\r\n    <defs>\r\n     <path d=\"M 73 -8.796875 \r\nL 73 85.40625 \r\nL 85.015625 85.40625 \r\nL 85.015625 -8.796875 \r\nz\r\nM 56.59375 14.5 \r\nQ 42.96875 24.3125 35.40625 37.3125 \r\nQ 25.734375 20.265625 14.3125 12.703125 \r\nL 5.328125 20.515625 \r\nQ 14.3125 24.90625 21.75 35.71875 \r\nQ 29.203125 46.53125 29.203125 57.171875 \r\nL 29.203125 67.1875 \r\nL 8.796875 67.1875 \r\nL 8.796875 77.484375 \r\nL 61.375 77.484375 \r\nL 61.375 67.1875 \r\nL 41.40625 67.1875 \r\nL 41.40625 57.515625 \r\nQ 41.40625 47.515625 48.484375 37.796875 \r\nQ 55.5625 28.078125 64.703125 23.484375 \r\nz\r\n\" id=\"MalgunGothicBold-51648\"/>\r\n    </defs>\r\n    <g transform=\"translate(436.743951 253.432701)scale(0.11 -0.11)\">\r\n     <use xlink:href=\"#MalgunGothicBold-49688\"/>\r\n     <use x=\"100\" xlink:href=\"#MalgunGothicBold-51648\"/>\r\n    </g>\r\n   </g>\r\n   <g id=\"text_80\">\r\n    <!-- 문경 -->\r\n    <defs>\r\n     <path d=\"M 54 41.109375 \r\nL 54 50.875 \r\nL 74.8125 50.875 \r\nL 74.8125 60.796875 \r\nL 56.6875 60.796875 \r\nL 56.6875 70.703125 \r\nL 74.8125 70.703125 \r\nL 74.8125 85.40625 \r\nL 86.8125 85.40625 \r\nL 86.8125 31.5 \r\nL 74.8125 31.5 \r\nL 74.8125 41.109375 \r\nz\r\nM 58.015625 80.421875 \r\nQ 54.6875 47.46875 16.015625 27.6875 \r\nL 7.078125 37.3125 \r\nQ 20.015625 41.9375 29.6875 50.53125 \r\nQ 39.359375 59.125 43.109375 70.125 \r\nL 12.703125 70.125 \r\nL 12.703125 80.421875 \r\nz\r\nM 57.171875 -8.40625 \r\nQ 42.578125 -8.40625 34.390625 -2.953125 \r\nQ 26.21875 2.484375 26.21875 11.1875 \r\nQ 26.21875 19.828125 34.421875 25.3125 \r\nQ 42.625 30.8125 57.171875 30.8125 \r\nQ 71.78125 30.8125 80.03125 25.296875 \r\nQ 88.28125 19.78125 88.28125 11.1875 \r\nQ 88.28125 2.484375 80.046875 -2.953125 \r\nQ 71.828125 -8.40625 57.171875 -8.40625 \r\nz\r\nM 57.171875 20.703125 \r\nQ 47.859375 20.703125 43.234375 18.0625 \r\nQ 38.625 15.4375 38.625 11.1875 \r\nQ 38.625 6.9375 43.28125 4.3125 \r\nQ 47.953125 1.703125 57.171875 1.703125 \r\nQ 66.453125 1.703125 71.15625 4.296875 \r\nQ 75.875 6.890625 75.875 11.1875 \r\nQ 75.875 15.375 71.203125 18.03125 \r\nQ 66.546875 20.703125 57.171875 20.703125 \r\nz\r\n\" id=\"MalgunGothicBold-44221\"/>\r\n    </defs>\r\n    <g transform=\"translate(480.147296 247.121623)scale(0.11 -0.11)\">\r\n     <use xlink:href=\"#MalgunGothicBold-47928\"/>\r\n     <use x=\"100\" xlink:href=\"#MalgunGothicBold-44221\"/>\r\n    </g>\r\n   </g>\r\n   <g id=\"text_81\">\r\n    <!-- 봉화 -->\r\n    <g transform=\"translate(523.550641 247.121623)scale(0.11 -0.11)\">\r\n     <use xlink:href=\"#MalgunGothicBold-48393\"/>\r\n     <use x=\"100\" xlink:href=\"#MalgunGothicBold-54868\"/>\r\n    </g>\r\n   </g>\r\n   <g id=\"text_82\">\r\n    <!-- 울릉 -->\r\n    <g transform=\"translate(610.35733 247.121623)scale(0.11 -0.11)\">\r\n     <use xlink:href=\"#MalgunGothicBold-50872\"/>\r\n     <use x=\"100\" xlink:href=\"#MalgunGothicBold-47497\"/>\r\n    </g>\r\n   </g>\r\n   <g id=\"text_83\">\r\n    <!-- 인천 -->\r\n    <g transform=\"translate(89.517192 267.747607)scale(0.11 -0.11)\">\r\n     <use xlink:href=\"#MalgunGothicBold-51064\"/>\r\n     <use x=\"100\" xlink:href=\"#MalgunGothicBold-52380\"/>\r\n    </g>\r\n    <!-- 중구 -->\r\n    <g transform=\"translate(89.517192 280.369764)scale(0.11 -0.11)\">\r\n     <use xlink:href=\"#MalgunGothicBold-51473\"/>\r\n     <use x=\"100\" xlink:href=\"#MalgunGothicBold-44396\"/>\r\n    </g>\r\n   </g>\r\n   <g id=\"text_84\">\r\n    <!-- 인천 -->\r\n    <g transform=\"translate(134.420536 267.134213)scale(0.095 -0.095)\">\r\n     <use xlink:href=\"#MalgunGothicBold-51064\"/>\r\n     <use x=\"100\" xlink:href=\"#MalgunGothicBold-52380\"/>\r\n    </g>\r\n    <!-- 미추홀 -->\r\n    <defs>\r\n     <path d=\"M 73.09375 -8.796875 \r\nL 73.09375 85.40625 \r\nL 85.109375 85.40625 \r\nL 85.109375 -8.796875 \r\nz\r\nM 11.71875 17.484375 \r\nL 11.71875 77.296875 \r\nL 57.328125 77.296875 \r\nL 57.328125 17.484375 \r\nz\r\nM 45.125 67 \r\nL 23.78125 67 \r\nL 23.78125 27.875 \r\nL 45.125 27.875 \r\nz\r\n\" id=\"MalgunGothicBold-48120\"/>\r\n     <path d=\"M 85.40625 41.21875 \r\nQ 75.53125 42.625 65.71875 47.3125 \r\nQ 55.90625 52 50.09375 57.8125 \r\nQ 45.015625 52.203125 35.109375 47.515625 \r\nQ 25.203125 42.828125 14.984375 41.015625 \r\nL 7.625 50.390625 \r\nQ 20.125 51.375 30.171875 56.421875 \r\nQ 40.234375 61.46875 42.578125 67.578125 \r\nL 15.28125 67.578125 \r\nL 15.28125 77.78125 \r\nL 43.890625 77.78125 \r\nL 43.890625 86.71875 \r\nL 56.203125 86.71875 \r\nL 56.203125 77.78125 \r\nL 84.71875 77.78125 \r\nL 84.71875 67.578125 \r\nL 57.421875 67.578125 \r\nQ 59.859375 61.671875 69.921875 56.6875 \r\nQ 79.984375 51.703125 91.796875 50.484375 \r\nz\r\nM 56 24.8125 \r\nL 56 -8.6875 \r\nL 43.796875 -8.6875 \r\nL 43.796875 24.8125 \r\nL 6.296875 24.8125 \r\nL 6.296875 35.203125 \r\nL 93.703125 35.203125 \r\nL 93.703125 24.8125 \r\nz\r\n\" id=\"MalgunGothicBold-52628\"/>\r\n     <path d=\"M 14.109375 71.1875 \r\nL 14.109375 79.984375 \r\nL 43.890625 79.984375 \r\nL 43.890625 87.015625 \r\nL 56 87.015625 \r\nL 56 79.984375 \r\nL 85.890625 79.984375 \r\nL 85.890625 71.1875 \r\nz\r\nM 6.296875 31.5 \r\nL 6.296875 41.21875 \r\nL 43.890625 41.21875 \r\nL 43.890625 45.125 \r\nQ 18.609375 45.953125 18.609375 56.890625 \r\nQ 18.609375 68.890625 50 68.890625 \r\nQ 81.296875 68.890625 81.296875 56.890625 \r\nQ 81.296875 46.1875 56 45.125 \r\nL 56 41.21875 \r\nL 93.703125 41.21875 \r\nL 93.703125 31.5 \r\nz\r\nM 50 60.6875 \r\nQ 39.984375 60.6875 35.59375 59.859375 \r\nQ 31.203125 59.03125 31.203125 56.890625 \r\nQ 31.203125 54.890625 35.125 54.109375 \r\nQ 39.0625 53.328125 50 53.328125 \r\nQ 61.140625 53.328125 64.921875 54.046875 \r\nQ 68.703125 54.78125 68.703125 56.890625 \r\nQ 68.703125 59.03125 64.328125 59.859375 \r\nQ 59.96875 60.6875 50 60.6875 \r\nz\r\nM 19.09375 -8.015625 \r\nL 19.09375 14.5 \r\nL 68.703125 14.5 \r\nL 68.703125 18.796875 \r\nL 19.09375 18.796875 \r\nL 19.09375 28.21875 \r\nL 81 28.21875 \r\nL 81 5.71875 \r\nL 31.296875 5.71875 \r\nL 31.296875 1.421875 \r\nL 82.90625 1.421875 \r\nL 82.90625 -8.015625 \r\nz\r\n\" id=\"MalgunGothicBold-54848\"/>\r\n    </defs>\r\n    <g transform=\"translate(129.670536 280.198939)scale(0.095 -0.095)\">\r\n     <use xlink:href=\"#MalgunGothicBold-48120\"/>\r\n     <use x=\"100\" xlink:href=\"#MalgunGothicBold-52628\"/>\r\n     <use x=\"200\" xlink:href=\"#MalgunGothicBold-54848\"/>\r\n    </g>\r\n   </g>\r\n   <g id=\"text_85\">\r\n    <!-- 화성 -->\r\n    <g transform=\"translate(176.323881 274.058686)scale(0.11 -0.11)\">\r\n     <use xlink:href=\"#MalgunGothicBold-54868\"/>\r\n     <use x=\"100\" xlink:href=\"#MalgunGothicBold-49457\"/>\r\n    </g>\r\n   </g>\r\n   <g id=\"text_86\">\r\n    <!-- 서울 -->\r\n    <g transform=\"translate(219.727226 267.747607)scale(0.11 -0.11)\">\r\n     <use xlink:href=\"#MalgunGothicBold-49436\"/>\r\n     <use x=\"100\" xlink:href=\"#MalgunGothicBold-50872\"/>\r\n    </g>\r\n    <!-- 구로 -->\r\n    <g transform=\"translate(219.727226 280.369764)scale(0.11 -0.11)\">\r\n     <use xlink:href=\"#MalgunGothicBold-44396\"/>\r\n     <use x=\"100\" xlink:href=\"#MalgunGothicBold-47196\"/>\r\n    </g>\r\n   </g>\r\n   <g id=\"text_87\">\r\n    <!-- 군포 -->\r\n    <defs>\r\n     <path d=\"M 44.390625 14.3125 \r\nL 44.390625 37.015625 \r\nL 6.296875 37.015625 \r\nL 6.296875 47.3125 \r\nL 67.484375 47.3125 \r\nQ 68.3125 60.59375 68.3125 71.578125 \r\nL 19.28125 71.578125 \r\nL 19.28125 81.78125 \r\nL 80.609375 81.78125 \r\nQ 80.609375 66.109375 79.5 47.3125 \r\nL 93.703125 47.3125 \r\nL 93.703125 37.015625 \r\nL 56.6875 37.015625 \r\nL 56.6875 14.3125 \r\nz\r\nM 19.1875 -4.78125 \r\nL 19.1875 27.203125 \r\nL 31.5 27.203125 \r\nL 31.5 5.515625 \r\nL 82.171875 5.515625 \r\nL 82.171875 -4.78125 \r\nz\r\n\" id=\"MalgunGothicBold-44400\"/>\r\n    </defs>\r\n    <g transform=\"translate(263.130571 274.058686)scale(0.11 -0.11)\">\r\n     <use xlink:href=\"#MalgunGothicBold-44400\"/>\r\n     <use x=\"100\" xlink:href=\"#MalgunGothicBold-54252\"/>\r\n    </g>\r\n   </g>\r\n   <g id=\"text_88\">\r\n    <!-- 의왕 -->\r\n    <defs>\r\n     <path d=\"M 83.203125 47.515625 \r\nL 83.203125 27.09375 \r\nL 70.90625 27.09375 \r\nL 70.90625 85.40625 \r\nL 83.203125 85.40625 \r\nL 83.203125 57.90625 \r\nL 97.015625 57.90625 \r\nL 97.015625 47.515625 \r\nz\r\nM 68.3125 32.8125 \r\nQ 58.25 32.171875 36.953125 31.578125 \r\nQ 15.671875 31 5.609375 31 \r\nL 4.296875 41.21875 \r\nQ 18.890625 41.21875 30.328125 41.5 \r\nL 30.328125 48 \r\nQ 21.578125 49.359375 16.46875 54.21875 \r\nQ 11.375 59.078125 11.375 65.828125 \r\nQ 11.375 74.03125 18.3125 79.046875 \r\nQ 25.25 84.078125 36.28125 84.078125 \r\nQ 47.46875 84.078125 54.328125 79.171875 \r\nQ 61.1875 74.265625 61.1875 65.828125 \r\nQ 61.1875 59.078125 56.28125 54.265625 \r\nQ 51.375 49.46875 42.671875 48 \r\nL 42.671875 41.796875 \r\nL 67.484375 42.828125 \r\nz\r\nM 36.28125 74.125 \r\nQ 30.078125 74.125 26.78125 71.84375 \r\nQ 23.484375 69.578125 23.484375 65.71875 \r\nQ 23.484375 61.859375 26.796875 59.640625 \r\nQ 30.125 57.421875 36.28125 57.421875 \r\nQ 42.484375 57.421875 45.796875 59.671875 \r\nQ 49.125 61.921875 49.125 65.71875 \r\nQ 49.125 69.578125 45.828125 71.84375 \r\nQ 42.53125 74.125 36.28125 74.125 \r\nz\r\nM 50.390625 -8.796875 \r\nQ 35.109375 -8.796875 26.75 -3.984375 \r\nQ 18.40625 0.828125 18.40625 9.1875 \r\nQ 18.40625 17.4375 26.75 22.265625 \r\nQ 35.109375 27.09375 50.390625 27.09375 \r\nQ 65.71875 27.09375 74.0625 22.265625 \r\nQ 82.421875 17.4375 82.421875 9.1875 \r\nQ 82.421875 0.828125 74.0625 -3.984375 \r\nQ 65.71875 -8.796875 50.390625 -8.796875 \r\nz\r\nM 50.390625 17.1875 \r\nQ 31.109375 17.1875 31.109375 9.1875 \r\nQ 31.109375 1.21875 50.390625 1.21875 \r\nQ 69.671875 1.21875 69.671875 9.1875 \r\nQ 69.671875 17.1875 50.390625 17.1875 \r\nz\r\n\" id=\"MalgunGothicBold-50773\"/>\r\n    </defs>\r\n    <g transform=\"translate(306.533916 274.058686)scale(0.11 -0.11)\">\r\n     <use xlink:href=\"#MalgunGothicBold-51032\"/>\r\n     <use x=\"100\" xlink:href=\"#MalgunGothicBold-50773\"/>\r\n    </g>\r\n   </g>\r\n   <g id=\"text_89\">\r\n    <!-- 수원 -->\r\n    <g transform=\"translate(349.937261 267.747607)scale(0.11 -0.11)\">\r\n     <use xlink:href=\"#MalgunGothicBold-49688\"/>\r\n     <use x=\"100\" xlink:href=\"#MalgunGothicBold-50896\"/>\r\n    </g>\r\n    <!-- 영통 -->\r\n    <defs>\r\n     <path d=\"M 6.296875 28.71875 \r\nL 6.296875 39.109375 \r\nL 43.890625 39.109375 \r\nL 43.890625 45.21875 \r\nL 19.484375 45.21875 \r\nL 19.484375 83.109375 \r\nL 80.71875 83.109375 \r\nL 80.71875 73.296875 \r\nL 31.890625 73.296875 \r\nL 31.890625 68.703125 \r\nL 78.90625 68.703125 \r\nL 78.90625 59.515625 \r\nL 31.890625 59.515625 \r\nL 31.890625 54.984375 \r\nL 81.6875 54.984375 \r\nL 81.6875 45.21875 \r\nL 56.109375 45.21875 \r\nL 56.109375 39.109375 \r\nL 93.703125 39.109375 \r\nL 93.703125 28.71875 \r\nz\r\nM 50 -8.5 \r\nQ 34.375 -8.5 26.1875 -4.140625 \r\nQ 18.015625 0.203125 18.015625 8.296875 \r\nQ 18.015625 16.265625 26.21875 20.578125 \r\nQ 34.421875 24.90625 50 24.90625 \r\nQ 65.578125 24.90625 73.78125 20.578125 \r\nQ 81.984375 16.265625 81.984375 8.296875 \r\nQ 81.984375 0.203125 73.796875 -4.140625 \r\nQ 65.625 -8.5 50 -8.5 \r\nz\r\nM 50 14.796875 \r\nQ 40.375 14.796875 35.4375 13.328125 \r\nQ 30.515625 11.859375 30.515625 8.296875 \r\nQ 30.515625 1.515625 50 1.515625 \r\nQ 69.484375 1.515625 69.484375 8.296875 \r\nQ 69.484375 11.859375 64.546875 13.328125 \r\nQ 59.625 14.796875 50 14.796875 \r\nz\r\n\" id=\"MalgunGothicBold-53685\"/>\r\n    </defs>\r\n    <g transform=\"translate(349.937261 280.369764)scale(0.11 -0.11)\">\r\n     <use xlink:href=\"#MalgunGothicBold-50689\"/>\r\n     <use x=\"100\" xlink:href=\"#MalgunGothicBold-53685\"/>\r\n    </g>\r\n   </g>\r\n   <g id=\"text_90\">\r\n    <!-- 용인 -->\r\n    <g transform=\"translate(393.340606 267.747607)scale(0.11 -0.11)\">\r\n     <use xlink:href=\"#MalgunGothicBold-50857\"/>\r\n     <use x=\"100\" xlink:href=\"#MalgunGothicBold-51064\"/>\r\n    </g>\r\n    <!-- 기흥 -->\r\n    <defs>\r\n     <path d=\"M 73.09375 -8.796875 \r\nL 73.09375 85.40625 \r\nL 85.109375 85.40625 \r\nL 85.109375 -8.796875 \r\nz\r\nM 58.6875 77.09375 \r\nQ 58.34375 56.9375 47.28125 39.859375 \r\nQ 36.234375 22.796875 16.21875 11.8125 \r\nL 6.78125 20.703125 \r\nQ 21.234375 26.21875 32.21875 38.953125 \r\nQ 43.21875 51.703125 45.703125 66.796875 \r\nL 12.5 66.796875 \r\nL 12.5 77.09375 \r\nz\r\n\" id=\"MalgunGothicBold-44592\"/>\r\n    </defs>\r\n    <g transform=\"translate(393.340606 280.369764)scale(0.11 -0.11)\">\r\n     <use xlink:href=\"#MalgunGothicBold-44592\"/>\r\n     <use x=\"100\" xlink:href=\"#MalgunGothicBold-55141\"/>\r\n    </g>\r\n   </g>\r\n   <g id=\"text_91\">\r\n    <!-- 용인 -->\r\n    <g transform=\"translate(436.743951 267.747607)scale(0.11 -0.11)\">\r\n     <use xlink:href=\"#MalgunGothicBold-50857\"/>\r\n     <use x=\"100\" xlink:href=\"#MalgunGothicBold-51064\"/>\r\n    </g>\r\n    <!-- 처인 -->\r\n    <defs>\r\n     <path d=\"M 74.90625 -8.796875 \r\nL 74.90625 41.703125 \r\nL 56.890625 41.703125 \r\nL 56.890625 52.09375 \r\nL 74.90625 52.09375 \r\nL 74.90625 85.40625 \r\nL 87.109375 85.40625 \r\nL 87.109375 -8.796875 \r\nz\r\nM 59.1875 14.015625 \r\nQ 43.40625 24.859375 36.8125 36.8125 \r\nQ 34.125 30.90625 27.53125 23.21875 \r\nQ 20.953125 15.53125 15.28125 12.015625 \r\nL 6.5 20.125 \r\nQ 17.046875 26.171875 23.875 36.453125 \r\nQ 30.71875 46.734375 30.71875 56.296875 \r\nL 30.71875 62.796875 \r\nL 9.1875 62.796875 \r\nL 9.1875 73.09375 \r\nL 30.609375 73.09375 \r\nL 30.609375 85.40625 \r\nL 42.921875 85.40625 \r\nL 42.921875 73.09375 \r\nL 64.5 73.09375 \r\nL 64.5 62.796875 \r\nL 42.921875 62.796875 \r\nL 42.921875 55.90625 \r\nQ 42.921875 46.734375 49.6875 37.40625 \r\nQ 56.453125 28.078125 66.796875 23.390625 \r\nz\r\n\" id=\"MalgunGothicBold-52376\"/>\r\n    </defs>\r\n    <g transform=\"translate(436.743951 280.369764)scale(0.11 -0.11)\">\r\n     <use xlink:href=\"#MalgunGothicBold-52376\"/>\r\n     <use x=\"100\" xlink:href=\"#MalgunGothicBold-51064\"/>\r\n    </g>\r\n   </g>\r\n   <g id=\"text_92\">\r\n    <!-- 안동 -->\r\n    <g transform=\"translate(480.147296 274.058686)scale(0.11 -0.11)\">\r\n     <use xlink:href=\"#MalgunGothicBold-50504\"/>\r\n     <use x=\"100\" xlink:href=\"#MalgunGothicBold-46041\"/>\r\n    </g>\r\n   </g>\r\n   <g id=\"text_93\">\r\n    <!-- 영양 -->\r\n    <g transform=\"translate(523.550641 274.058686)scale(0.11 -0.11)\">\r\n     <use xlink:href=\"#MalgunGothicBold-50689\"/>\r\n     <use x=\"100\" xlink:href=\"#MalgunGothicBold-50577\"/>\r\n    </g>\r\n   </g>\r\n   <g id=\"text_94\">\r\n    <!-- 인천 -->\r\n    <g transform=\"translate(46.113847 294.68467)scale(0.11 -0.11)\">\r\n     <use xlink:href=\"#MalgunGothicBold-51064\"/>\r\n     <use x=\"100\" xlink:href=\"#MalgunGothicBold-52380\"/>\r\n    </g>\r\n    <!-- 옹진 -->\r\n    <defs>\r\n     <path d=\"M 6.296875 31.390625 \r\nL 6.296875 41.609375 \r\nL 43.796875 41.609375 \r\nL 43.796875 48.1875 \r\nQ 31.453125 49.21875 24.828125 53.875 \r\nQ 18.21875 58.546875 18.21875 66.015625 \r\nQ 18.21875 74.46875 26.46875 79.171875 \r\nQ 34.71875 83.890625 50 83.890625 \r\nQ 65.28125 83.890625 73.53125 79.171875 \r\nQ 81.78125 74.46875 81.78125 66.015625 \r\nQ 81.78125 58.5 75.109375 53.8125 \r\nQ 68.453125 49.125 56.109375 48.1875 \r\nL 56.109375 41.609375 \r\nL 93.703125 41.609375 \r\nL 93.703125 31.390625 \r\nz\r\nM 50 74.515625 \r\nQ 40.53125 74.515625 35.625 72.234375 \r\nQ 30.71875 69.96875 30.71875 66.015625 \r\nQ 30.71875 62.015625 35.734375 59.765625 \r\nQ 40.765625 57.515625 50 57.515625 \r\nQ 69.28125 57.515625 69.28125 66.015625 \r\nQ 69.28125 69.96875 64.421875 72.234375 \r\nQ 59.578125 74.515625 50 74.515625 \r\nz\r\nM 50 -8.796875 \r\nQ 34.578125 -8.796875 26.296875 -4.03125 \r\nQ 18.015625 0.734375 18.015625 9.421875 \r\nQ 18.015625 17.96875 26.3125 22.71875 \r\nQ 34.625 27.484375 50 27.484375 \r\nQ 65.53125 27.484375 73.75 22.671875 \r\nQ 81.984375 17.875 81.984375 9.421875 \r\nQ 81.984375 0.734375 73.703125 -4.03125 \r\nQ 65.4375 -8.796875 50 -8.796875 \r\nz\r\nM 50 17.390625 \r\nQ 30.515625 17.390625 30.515625 9.421875 \r\nQ 30.515625 5.671875 35.4375 3.4375 \r\nQ 40.375 1.21875 50 1.21875 \r\nQ 59.625 1.21875 64.546875 3.4375 \r\nQ 69.484375 5.671875 69.484375 9.421875 \r\nQ 69.484375 17.390625 50 17.390625 \r\nz\r\n\" id=\"MalgunGothicBold-50745\"/>\r\n    </defs>\r\n    <g transform=\"translate(46.113847 307.306827)scale(0.11 -0.11)\">\r\n     <use xlink:href=\"#MalgunGothicBold-50745\"/>\r\n     <use x=\"100\" xlink:href=\"#MalgunGothicBold-51652\"/>\r\n    </g>\r\n   </g>\r\n   <g id=\"text_95\">\r\n    <!-- 인천 -->\r\n    <g transform=\"translate(89.517192 294.68467)scale(0.11 -0.11)\">\r\n     <use xlink:href=\"#MalgunGothicBold-51064\"/>\r\n     <use x=\"100\" xlink:href=\"#MalgunGothicBold-52380\"/>\r\n    </g>\r\n    <!-- 연수 -->\r\n    <g transform=\"translate(89.517192 307.306827)scale(0.11 -0.11)\">\r\n     <use xlink:href=\"#MalgunGothicBold-50672\"/>\r\n     <use x=\"100\" xlink:href=\"#MalgunGothicBold-49688\"/>\r\n    </g>\r\n   </g>\r\n   <g id=\"text_96\">\r\n    <!-- 인천 -->\r\n    <g transform=\"translate(132.920536 294.68467)scale(0.11 -0.11)\">\r\n     <use xlink:href=\"#MalgunGothicBold-51064\"/>\r\n     <use x=\"100\" xlink:href=\"#MalgunGothicBold-52380\"/>\r\n    </g>\r\n    <!-- 남동 -->\r\n    <g transform=\"translate(132.920536 307.306827)scale(0.11 -0.11)\">\r\n     <use xlink:href=\"#MalgunGothicBold-45224\"/>\r\n     <use x=\"100\" xlink:href=\"#MalgunGothicBold-46041\"/>\r\n    </g>\r\n   </g>\r\n   <g id=\"text_97\">\r\n    <!-- 오산 -->\r\n    <defs>\r\n     <path d=\"M 6.296875 4.203125 \r\nL 6.296875 14.3125 \r\nL 43.796875 14.3125 \r\nL 43.796875 30.90625 \r\nQ 31.5 32.515625 24.484375 38.78125 \r\nQ 17.484375 45.0625 17.484375 54.78125 \r\nQ 17.484375 66.015625 26.6875 72.5 \r\nQ 35.890625 79 50 79 \r\nQ 63.96875 79 73.1875 72.5 \r\nQ 82.421875 66.015625 82.421875 54.78125 \r\nQ 82.421875 45.015625 75.359375 38.6875 \r\nQ 68.3125 32.375 56.109375 30.90625 \r\nL 56.109375 14.3125 \r\nL 93.703125 14.3125 \r\nL 93.703125 4.203125 \r\nz\r\nM 50 68.890625 \r\nQ 40.765625 68.890625 35.375 65.078125 \r\nQ 29.984375 61.28125 29.984375 54.78125 \r\nQ 29.984375 48.1875 35.375 44.40625 \r\nQ 40.765625 40.625 50 40.625 \r\nQ 59.1875 40.625 64.546875 44.4375 \r\nQ 69.921875 48.25 69.921875 54.78125 \r\nQ 69.921875 61.28125 64.578125 65.078125 \r\nQ 59.234375 68.890625 50 68.890625 \r\nz\r\n\" id=\"MalgunGothicBold-50724\"/>\r\n    </defs>\r\n    <g transform=\"translate(176.323881 300.995748)scale(0.11 -0.11)\">\r\n     <use xlink:href=\"#MalgunGothicBold-50724\"/>\r\n     <use x=\"100\" xlink:href=\"#MalgunGothicBold-49328\"/>\r\n    </g>\r\n   </g>\r\n   <g id=\"text_98\">\r\n    <!-- 안성 -->\r\n    <g transform=\"translate(219.727226 300.995748)scale(0.11 -0.11)\">\r\n     <use xlink:href=\"#MalgunGothicBold-50504\"/>\r\n     <use x=\"100\" xlink:href=\"#MalgunGothicBold-49457\"/>\r\n    </g>\r\n   </g>\r\n   <g id=\"text_99\">\r\n    <!-- 수원 -->\r\n    <g transform=\"translate(263.130571 294.68467)scale(0.11 -0.11)\">\r\n     <use xlink:href=\"#MalgunGothicBold-49688\"/>\r\n     <use x=\"100\" xlink:href=\"#MalgunGothicBold-50896\"/>\r\n    </g>\r\n    <!-- 권선 -->\r\n    <defs>\r\n     <path d=\"M 73.390625 16.109375 \r\nL 73.390625 25.984375 \r\nL 56.5 25.984375 \r\nL 56.5 35.890625 \r\nL 73.390625 35.890625 \r\nL 73.390625 85.40625 \r\nL 85.6875 85.40625 \r\nL 85.6875 16.109375 \r\nz\r\nM 68.890625 42.484375 \r\nL 47.21875 41.5 \r\nL 47.21875 20.609375 \r\nL 35.109375 20.609375 \r\nL 35.109375 40.921875 \r\nQ 15.96875 40.28125 7.90625 40.28125 \r\nL 6.203125 50.984375 \r\nQ 24.515625 50.984375 46.921875 51.609375 \r\nQ 47.703125 62.890625 47.703125 71.390625 \r\nL 15.09375 71.390625 \r\nL 15.09375 81.6875 \r\nL 59.90625 81.6875 \r\nQ 59.90625 65.625 58.6875 52 \r\nL 68.3125 52.59375 \r\nz\r\nM 20.90625 -5.171875 \r\nL 20.90625 25.203125 \r\nL 33.109375 25.203125 \r\nL 33.109375 5.078125 \r\nL 87.5 5.078125 \r\nL 87.5 -5.171875 \r\nz\r\n\" id=\"MalgunGothicBold-44428\"/>\r\n    </defs>\r\n    <g transform=\"translate(263.130571 307.306827)scale(0.11 -0.11)\">\r\n     <use xlink:href=\"#MalgunGothicBold-44428\"/>\r\n     <use x=\"100\" xlink:href=\"#MalgunGothicBold-49440\"/>\r\n    </g>\r\n   </g>\r\n   <g id=\"text_100\">\r\n    <!-- 수원 -->\r\n    <g transform=\"translate(306.533916 294.68467)scale(0.11 -0.11)\">\r\n     <use xlink:href=\"#MalgunGothicBold-49688\"/>\r\n     <use x=\"100\" xlink:href=\"#MalgunGothicBold-50896\"/>\r\n    </g>\r\n    <!-- 장안 -->\r\n    <defs>\r\n     <path d=\"M 82.171875 52 \r\nL 82.171875 30.421875 \r\nL 69.921875 30.421875 \r\nL 69.921875 85.40625 \r\nL 82.171875 85.40625 \r\nL 82.171875 62.3125 \r\nL 96.484375 62.3125 \r\nL 96.484375 52 \r\nz\r\nM 55.71875 33.015625 \r\nQ 41.75 39.9375 34.71875 50.203125 \r\nQ 32.125 44.828125 25.625 38.6875 \r\nQ 19.140625 32.5625 13.375 29.78125 \r\nL 4.6875 38.375 \r\nQ 14.5 42.09375 21.359375 50.265625 \r\nQ 28.21875 58.453125 28.21875 67.1875 \r\nL 28.21875 71 \r\nL 8.796875 71 \r\nL 8.796875 81.203125 \r\nL 59.421875 81.203125 \r\nL 59.421875 71 \r\nL 40.484375 71 \r\nL 40.484375 67.578125 \r\nQ 40.484375 59.1875 46.90625 52.390625 \r\nQ 53.328125 45.609375 63.484375 42.28125 \r\nz\r\nM 52.296875 -8.40625 \r\nQ 37.3125 -8.40625 29.109375 -3.25 \r\nQ 20.90625 1.90625 20.90625 10.40625 \r\nQ 20.90625 18.84375 29.203125 23.921875 \r\nQ 37.5 29 52.296875 29 \r\nQ 67.140625 29 75.40625 23.9375 \r\nQ 83.6875 18.890625 83.6875 10.40625 \r\nQ 83.6875 1.859375 75.453125 -3.265625 \r\nQ 67.234375 -8.40625 52.296875 -8.40625 \r\nz\r\nM 52.296875 18.796875 \r\nQ 33.59375 18.796875 33.59375 10.40625 \r\nQ 33.59375 1.8125 52.296875 1.8125 \r\nQ 71.09375 1.8125 71.09375 10.40625 \r\nQ 71.09375 18.796875 52.296875 18.796875 \r\nz\r\n\" id=\"MalgunGothicBold-51109\"/>\r\n    </defs>\r\n    <g transform=\"translate(306.533916 307.306827)scale(0.11 -0.11)\">\r\n     <use xlink:href=\"#MalgunGothicBold-51109\"/>\r\n     <use x=\"100\" xlink:href=\"#MalgunGothicBold-50504\"/>\r\n    </g>\r\n   </g>\r\n   <g id=\"text_101\">\r\n    <!-- 제천 -->\r\n    <g transform=\"translate(349.937261 300.995748)scale(0.11 -0.11)\">\r\n     <use xlink:href=\"#MalgunGothicBold-51228\"/>\r\n     <use x=\"100\" xlink:href=\"#MalgunGothicBold-52380\"/>\r\n    </g>\r\n   </g>\r\n   <g id=\"text_102\">\r\n    <!-- 예천 -->\r\n    <defs>\r\n     <path d=\"M 76.421875 -8.796875 \r\nL 76.421875 85.40625 \r\nL 88.484375 85.40625 \r\nL 88.484375 -8.796875 \r\nz\r\nM 47.40625 26.421875 \r\nQ 42 13.484375 29.203125 13.484375 \r\nQ 18.796875 13.484375 13.203125 22.171875 \r\nQ 7.625 30.859375 7.625 46.6875 \r\nQ 7.625 62.5 13.203125 71.1875 \r\nQ 18.796875 79.890625 29.203125 79.890625 \r\nQ 41.890625 79.890625 47.3125 67.1875 \r\nL 58.796875 67.1875 \r\nL 58.796875 83.5 \r\nL 70.703125 83.5 \r\nL 70.703125 -5.90625 \r\nL 58.796875 -5.90625 \r\nL 58.796875 26.421875 \r\nz\r\nM 29.203125 69.484375 \r\nQ 19.484375 69.484375 19.484375 46.6875 \r\nQ 19.484375 35.796875 22 29.828125 \r\nQ 24.515625 23.875 29.203125 23.875 \r\nQ 33.796875 23.875 36.296875 29.734375 \r\nQ 38.8125 35.59375 38.8125 46.6875 \r\nQ 38.8125 69.484375 29.203125 69.484375 \r\nz\r\nM 50.09375 36.625 \r\nL 58.796875 36.625 \r\nL 58.796875 56.984375 \r\nL 50.09375 56.984375 \r\nQ 50.78125 52.984375 50.78125 46.6875 \r\nQ 50.78125 40.625 50.09375 36.625 \r\nz\r\n\" id=\"MalgunGothicBold-50696\"/>\r\n    </defs>\r\n    <g transform=\"translate(393.340606 300.995748)scale(0.11 -0.11)\">\r\n     <use xlink:href=\"#MalgunGothicBold-50696\"/>\r\n     <use x=\"100\" xlink:href=\"#MalgunGothicBold-52380\"/>\r\n    </g>\r\n   </g>\r\n   <g id=\"text_103\">\r\n    <!-- 영주 -->\r\n    <g transform=\"translate(436.743951 300.995748)scale(0.11 -0.11)\">\r\n     <use xlink:href=\"#MalgunGothicBold-50689\"/>\r\n     <use x=\"100\" xlink:href=\"#MalgunGothicBold-51452\"/>\r\n    </g>\r\n   </g>\r\n   <g id=\"text_104\">\r\n    <!-- 구미 -->\r\n    <g transform=\"translate(480.147296 300.995748)scale(0.11 -0.11)\">\r\n     <use xlink:href=\"#MalgunGothicBold-44396\"/>\r\n     <use x=\"100\" xlink:href=\"#MalgunGothicBold-48120\"/>\r\n    </g>\r\n   </g>\r\n   <g id=\"text_105\">\r\n    <!-- 청송 -->\r\n    <defs>\r\n     <path d=\"M 59.421875 32.515625 \r\nQ 46.625 37.703125 37.109375 48.390625 \r\nQ 34.234375 43.40625 27.984375 37.8125 \r\nQ 21.734375 32.234375 15.578125 29.203125 \r\nL 7.328125 37.40625 \r\nQ 18.21875 41.75 24.40625 48.96875 \r\nQ 30.609375 56.203125 30.609375 64.59375 \r\nL 30.609375 66.21875 \r\nL 9.90625 66.21875 \r\nL 9.90625 76.21875 \r\nL 30.71875 76.21875 \r\nL 30.71875 86.71875 \r\nL 43.015625 86.71875 \r\nL 43.015625 76.21875 \r\nL 63.71875 76.21875 \r\nL 63.71875 66.21875 \r\nL 43.015625 66.21875 \r\nL 43.015625 64.3125 \r\nQ 43.015625 56.59375 49.578125 50.21875 \r\nQ 56.15625 43.84375 66.40625 41.3125 \r\nz\r\nM 74.8125 30.515625 \r\nL 74.8125 50.6875 \r\nL 57.71875 50.6875 \r\nL 57.71875 60.796875 \r\nL 74.8125 60.796875 \r\nL 74.8125 85.40625 \r\nL 86.8125 85.40625 \r\nL 86.8125 30.515625 \r\nz\r\nM 57.171875 -8.5 \r\nQ 42.4375 -8.5 34.328125 -3.296875 \r\nQ 26.21875 1.90625 26.21875 10.5 \r\nQ 26.21875 19.046875 34.375 24.265625 \r\nQ 42.53125 29.5 57.171875 29.5 \r\nQ 71.875 29.5 80.078125 24.1875 \r\nQ 88.28125 18.890625 88.28125 10.296875 \r\nQ 88.28125 1.765625 80.125 -3.359375 \r\nQ 71.96875 -8.5 57.171875 -8.5 \r\nz\r\nM 57.171875 19.390625 \r\nQ 47.859375 19.390625 43.234375 16.984375 \r\nQ 38.625 14.59375 38.625 10.5 \r\nQ 38.625 6.390625 43.234375 4 \r\nQ 47.859375 1.609375 57.171875 1.609375 \r\nQ 66.546875 1.609375 71.203125 3.96875 \r\nQ 75.875 6.34375 75.875 10.5 \r\nQ 75.875 14.546875 71.234375 16.96875 \r\nQ 66.609375 19.390625 57.171875 19.390625 \r\nz\r\n\" id=\"MalgunGothicBold-52397\"/>\r\n    </defs>\r\n    <g transform=\"translate(523.550641 300.995748)scale(0.11 -0.11)\">\r\n     <use xlink:href=\"#MalgunGothicBold-52397\"/>\r\n     <use x=\"100\" xlink:href=\"#MalgunGothicBold-49569\"/>\r\n    </g>\r\n   </g>\r\n   <g id=\"text_106\">\r\n    <!-- 포항 -->\r\n    <defs>\r\n     <path d=\"M 6.984375 67.28125 \r\nL 6.984375 77.09375 \r\nL 29.6875 77.09375 \r\nL 29.6875 86.71875 \r\nL 42 86.71875 \r\nL 42 77.09375 \r\nL 64.703125 77.09375 \r\nL 64.703125 67.28125 \r\nz\r\nM 82.171875 48 \r\nL 82.171875 27.390625 \r\nL 69.921875 27.390625 \r\nL 69.921875 85.40625 \r\nL 82.171875 85.40625 \r\nL 82.171875 58.296875 \r\nL 96.484375 58.296875 \r\nL 96.484375 48 \r\nz\r\nM 35.984375 29.890625 \r\nQ 24.703125 29.890625 18.109375 34.625 \r\nQ 11.53125 39.359375 11.53125 46.921875 \r\nQ 11.53125 54.4375 18.140625 59.171875 \r\nQ 24.75 63.921875 36.078125 63.921875 \r\nQ 47.46875 63.921875 54.078125 59.171875 \r\nQ 60.6875 54.4375 60.6875 46.921875 \r\nQ 60.6875 39.265625 53.96875 34.578125 \r\nQ 47.265625 29.890625 35.984375 29.890625 \r\nz\r\nM 36.078125 54.109375 \r\nQ 29.890625 54.109375 26.828125 52.125 \r\nQ 23.78125 50.140625 23.78125 46.921875 \r\nQ 23.78125 39.59375 36.078125 39.59375 \r\nQ 48.484375 39.59375 48.484375 46.921875 \r\nQ 48.484375 54.109375 36.078125 54.109375 \r\nz\r\nM 52.296875 -8.796875 \r\nQ 37.3125 -8.796875 29.109375 -3.953125 \r\nQ 20.90625 0.875 20.90625 9.28125 \r\nQ 20.90625 17.625 29.171875 22.40625 \r\nQ 37.453125 27.203125 52.296875 27.203125 \r\nQ 67.1875 27.203125 75.4375 22.4375 \r\nQ 83.6875 17.671875 83.6875 9.28125 \r\nQ 83.6875 0.78125 75.484375 -4 \r\nQ 67.28125 -8.796875 52.296875 -8.796875 \r\nz\r\nM 52.296875 17.28125 \r\nQ 33.59375 17.28125 33.59375 9.28125 \r\nQ 33.59375 1.125 52.296875 1.125 \r\nQ 71.09375 1.125 71.09375 9.28125 \r\nQ 71.09375 17.28125 52.296875 17.28125 \r\nz\r\n\" id=\"MalgunGothicBold-54637\"/>\r\n    </defs>\r\n    <g transform=\"translate(566.953986 294.68467)scale(0.11 -0.11)\">\r\n     <use xlink:href=\"#MalgunGothicBold-54252\"/>\r\n     <use x=\"100\" xlink:href=\"#MalgunGothicBold-54637\"/>\r\n    </g>\r\n    <!-- 북구 -->\r\n    <g transform=\"translate(566.953986 307.306827)scale(0.11 -0.11)\">\r\n     <use xlink:href=\"#MalgunGothicBold-48513\"/>\r\n     <use x=\"100\" xlink:href=\"#MalgunGothicBold-44396\"/>\r\n    </g>\r\n   </g>\r\n   <g id=\"text_107\">\r\n    <!-- 태안 -->\r\n    <g transform=\"translate(46.113847 327.932811)scale(0.11 -0.11)\">\r\n     <use xlink:href=\"#MalgunGothicBold-53468\"/>\r\n     <use x=\"100\" xlink:href=\"#MalgunGothicBold-50504\"/>\r\n    </g>\r\n   </g>\r\n   <g id=\"text_108\">\r\n    <!-- 아산 -->\r\n    <defs>\r\n     <path d=\"M 82.171875 38.921875 \r\nL 82.171875 -8.796875 \r\nL 70.015625 -8.796875 \r\nL 70.015625 85.40625 \r\nL 82.171875 85.40625 \r\nL 82.171875 49.21875 \r\nL 96.921875 49.21875 \r\nL 96.921875 38.921875 \r\nz\r\nM 33.796875 14.109375 \r\nQ 22.40625 14.109375 15.546875 22.890625 \r\nQ 8.6875 31.6875 8.6875 46.78125 \r\nQ 8.6875 62.15625 15.515625 70.765625 \r\nQ 22.359375 79.390625 33.796875 79.390625 \r\nQ 45.125 79.390625 51.953125 70.671875 \r\nQ 58.796875 61.96875 58.796875 46.78125 \r\nQ 58.796875 31.59375 51.953125 22.84375 \r\nQ 45.125 14.109375 33.796875 14.109375 \r\nz\r\nM 33.796875 69 \r\nQ 28.171875 69 24.53125 63.0625 \r\nQ 20.90625 57.125 20.90625 46.6875 \r\nQ 20.90625 36.578125 24.578125 30.5 \r\nQ 28.265625 24.421875 33.796875 24.421875 \r\nQ 39.203125 24.421875 42.9375 30.546875 \r\nQ 46.6875 36.671875 46.6875 46.6875 \r\nQ 46.6875 57.03125 43.0625 63.015625 \r\nQ 39.453125 69 33.796875 69 \r\nz\r\n\" id=\"MalgunGothicBold-50500\"/>\r\n    </defs>\r\n    <g transform=\"translate(89.517192 327.932811)scale(0.11 -0.11)\">\r\n     <use xlink:href=\"#MalgunGothicBold-50500\"/>\r\n     <use x=\"100\" xlink:href=\"#MalgunGothicBold-49328\"/>\r\n    </g>\r\n   </g>\r\n   <g id=\"text_109\">\r\n    <!-- 천안 -->\r\n    <g transform=\"translate(132.920536 321.621733)scale(0.11 -0.11)\">\r\n     <use xlink:href=\"#MalgunGothicBold-52380\"/>\r\n     <use x=\"100\" xlink:href=\"#MalgunGothicBold-50504\"/>\r\n    </g>\r\n    <!-- 동남 -->\r\n    <g transform=\"translate(132.920536 334.24389)scale(0.11 -0.11)\">\r\n     <use xlink:href=\"#MalgunGothicBold-46041\"/>\r\n     <use x=\"100\" xlink:href=\"#MalgunGothicBold-45224\"/>\r\n    </g>\r\n   </g>\r\n   <g id=\"text_110\">\r\n    <!-- 천안 -->\r\n    <g transform=\"translate(176.323881 321.621733)scale(0.11 -0.11)\">\r\n     <use xlink:href=\"#MalgunGothicBold-52380\"/>\r\n     <use x=\"100\" xlink:href=\"#MalgunGothicBold-50504\"/>\r\n    </g>\r\n    <!-- 서북 -->\r\n    <g transform=\"translate(176.323881 334.24389)scale(0.11 -0.11)\">\r\n     <use xlink:href=\"#MalgunGothicBold-49436\"/>\r\n     <use x=\"100\" xlink:href=\"#MalgunGothicBold-48513\"/>\r\n    </g>\r\n   </g>\r\n   <g id=\"text_111\">\r\n    <!-- 평택 -->\r\n    <defs>\r\n     <path d=\"M 75.875 31.109375 \r\nL 75.875 51.125 \r\nL 68.5 51.125 \r\nL 68.5 31.109375 \r\nL 56.5 31.109375 \r\nL 56.5 83.5 \r\nL 68.5 83.5 \r\nL 68.5 61.375 \r\nL 75.875 61.375 \r\nL 75.875 85.40625 \r\nL 87.984375 85.40625 \r\nL 87.984375 31.109375 \r\nz\r\nM 21.78125 53.21875 \r\nL 21.78125 45.40625 \r\nQ 39.40625 45.40625 49.703125 46.390625 \r\nL 50.203125 36.078125 \r\nQ 40.09375 35.203125 9.71875 35.203125 \r\nL 9.71875 81 \r\nL 47.609375 81 \r\nL 47.609375 70.703125 \r\nL 21.78125 70.703125 \r\nL 21.78125 63.09375 \r\nL 44.1875 63.09375 \r\nL 44.1875 53.21875 \r\nz\r\nM 75.78125 -8.796875 \r\nL 75.78125 16.703125 \r\nL 25.484375 16.703125 \r\nL 25.484375 27.09375 \r\nL 87.984375 27.09375 \r\nL 87.984375 -8.796875 \r\nz\r\n\" id=\"MalgunGothicBold-53469\"/>\r\n    </defs>\r\n    <g transform=\"translate(219.727226 327.932811)scale(0.11 -0.11)\">\r\n     <use xlink:href=\"#MalgunGothicBold-54217\"/>\r\n     <use x=\"100\" xlink:href=\"#MalgunGothicBold-53469\"/>\r\n    </g>\r\n   </g>\r\n   <g id=\"text_112\">\r\n    <!-- 음성 -->\r\n    <defs>\r\n     <path d=\"M 50 48 \r\nQ 34.765625 48 26.484375 52.8125 \r\nQ 18.21875 57.625 18.21875 66.015625 \r\nQ 18.21875 74.46875 26.46875 79.171875 \r\nQ 34.71875 83.890625 50 83.890625 \r\nQ 65.28125 83.890625 73.53125 79.171875 \r\nQ 81.78125 74.46875 81.78125 66.015625 \r\nQ 81.78125 57.625 73.5 52.8125 \r\nQ 65.234375 48 50 48 \r\nz\r\nM 50 74.515625 \r\nQ 40.53125 74.515625 35.625 72.234375 \r\nQ 30.71875 69.96875 30.71875 66.015625 \r\nQ 30.71875 62.015625 35.734375 59.765625 \r\nQ 40.765625 57.515625 50 57.515625 \r\nQ 69.28125 57.515625 69.28125 66.015625 \r\nQ 69.28125 69.96875 64.421875 72.234375 \r\nQ 59.578125 74.515625 50 74.515625 \r\nz\r\nM 6.296875 32.171875 \r\nL 6.296875 42.484375 \r\nL 93.703125 42.484375 \r\nL 93.703125 32.171875 \r\nz\r\nM 19.1875 -6.78125 \r\nL 19.1875 26.21875 \r\nL 80.8125 26.21875 \r\nL 80.8125 -6.78125 \r\nz\r\nM 68.609375 15.921875 \r\nL 31.390625 15.921875 \r\nL 31.390625 3.421875 \r\nL 68.609375 3.421875 \r\nz\r\n\" id=\"MalgunGothicBold-51020\"/>\r\n    </defs>\r\n    <g transform=\"translate(263.130571 327.932811)scale(0.11 -0.11)\">\r\n     <use xlink:href=\"#MalgunGothicBold-51020\"/>\r\n     <use x=\"100\" xlink:href=\"#MalgunGothicBold-49457\"/>\r\n    </g>\r\n   </g>\r\n   <g id=\"text_113\">\r\n    <!-- 수원 -->\r\n    <g transform=\"translate(306.533916 321.621733)scale(0.11 -0.11)\">\r\n     <use xlink:href=\"#MalgunGothicBold-49688\"/>\r\n     <use x=\"100\" xlink:href=\"#MalgunGothicBold-50896\"/>\r\n    </g>\r\n    <!-- 팔달 -->\r\n    <defs>\r\n     <path d=\"M 82.171875 56.203125 \r\nL 82.171875 38.375 \r\nL 70.015625 38.375 \r\nL 70.015625 85.40625 \r\nL 82.171875 85.40625 \r\nL 82.171875 66.5 \r\nL 96.484375 66.5 \r\nL 96.484375 56.203125 \r\nz\r\nM 8.6875 72.40625 \r\nL 8.6875 82.421875 \r\nL 61.8125 82.421875 \r\nL 61.8125 72.40625 \r\nz\r\nM 66.703125 41.5 \r\nQ 60.5 39.984375 47.703125 39.984375 \r\nL 6.296875 39.984375 \r\nL 6.296875 50.09375 \r\nL 17.828125 50.09375 \r\nL 16.703125 67.71875 \r\nL 28.8125 67.71875 \r\nL 29.390625 50.09375 \r\nL 41.3125 50.09375 \r\nL 41.890625 67.71875 \r\nL 53.8125 67.71875 \r\nL 52.78125 50.203125 \r\nQ 59.71875 50.203125 65.828125 51.421875 \r\nz\r\nM 23.09375 -7.171875 \r\nL 23.09375 18.609375 \r\nL 70.015625 18.609375 \r\nL 70.015625 24.125 \r\nL 23.09375 24.125 \r\nL 23.09375 34.421875 \r\nL 82.171875 34.421875 \r\nL 82.171875 8.890625 \r\nL 35.296875 8.890625 \r\nL 35.296875 3.125 \r\nL 84.625 3.125 \r\nL 84.625 -7.171875 \r\nz\r\n\" id=\"MalgunGothicBold-54036\"/>\r\n     <path d=\"M 82.171875 57.171875 \r\nL 82.171875 41.015625 \r\nL 70.015625 41.015625 \r\nL 70.015625 85.40625 \r\nL 82.171875 85.40625 \r\nL 82.171875 67.484375 \r\nL 96.484375 67.484375 \r\nL 96.484375 57.171875 \r\nz\r\nM 60.796875 46.578125 \r\nQ 43.609375 45.40625 10.5 45.40625 \r\nL 10.5 82.421875 \r\nL 56.5 82.421875 \r\nL 56.5 72.015625 \r\nL 22.703125 72.015625 \r\nL 22.703125 55.71875 \r\nQ 46.96875 55.71875 60.015625 56.890625 \r\nz\r\nM 23.09375 -6.6875 \r\nL 23.09375 20.21875 \r\nL 70.015625 20.21875 \r\nL 70.015625 26.703125 \r\nL 23.09375 26.703125 \r\nL 23.09375 37.015625 \r\nL 82.171875 37.015625 \r\nL 82.171875 10.5 \r\nL 35.296875 10.5 \r\nL 35.296875 3.609375 \r\nL 84.625 3.609375 \r\nL 84.625 -6.6875 \r\nz\r\n\" id=\"MalgunGothicBold-45804\"/>\r\n    </defs>\r\n    <g transform=\"translate(306.533916 334.24389)scale(0.11 -0.11)\">\r\n     <use xlink:href=\"#MalgunGothicBold-54036\"/>\r\n     <use x=\"100\" xlink:href=\"#MalgunGothicBold-45804\"/>\r\n    </g>\r\n   </g>\r\n   <g id=\"text_114\">\r\n    <!-- 단양 -->\r\n    <g transform=\"translate(349.937261 327.932811)scale(0.11 -0.11)\">\r\n     <use xlink:href=\"#MalgunGothicBold-45800\"/>\r\n     <use x=\"100\" xlink:href=\"#MalgunGothicBold-50577\"/>\r\n    </g>\r\n   </g>\r\n   <g id=\"text_115\">\r\n    <!-- 상주 -->\r\n    <g transform=\"translate(393.340606 327.932811)scale(0.11 -0.11)\">\r\n     <use xlink:href=\"#MalgunGothicBold-49345\"/>\r\n     <use x=\"100\" xlink:href=\"#MalgunGothicBold-51452\"/>\r\n    </g>\r\n   </g>\r\n   <g id=\"text_116\">\r\n    <!-- 김천 -->\r\n    <g transform=\"translate(436.743951 327.932811)scale(0.11 -0.11)\">\r\n     <use xlink:href=\"#MalgunGothicBold-44608\"/>\r\n     <use x=\"100\" xlink:href=\"#MalgunGothicBold-52380\"/>\r\n    </g>\r\n   </g>\r\n   <g id=\"text_117\">\r\n    <!-- 군위 -->\r\n    <defs>\r\n     <path d=\"M 74.609375 -8.796875 \r\nL 74.609375 85.40625 \r\nL 86.8125 85.40625 \r\nL 86.8125 -8.796875 \r\nz\r\nM 37.3125 43.40625 \r\nQ 26.171875 43.40625 19.1875 48.921875 \r\nQ 12.203125 54.4375 12.203125 63.28125 \r\nQ 12.203125 72.125 19.203125 77.703125 \r\nQ 26.21875 83.296875 37.3125 83.296875 \r\nQ 48.4375 83.296875 55.515625 77.703125 \r\nQ 62.59375 72.125 62.59375 63.28125 \r\nQ 62.59375 54.640625 55.515625 49.015625 \r\nQ 48.4375 43.40625 37.3125 43.40625 \r\nz\r\nM 37.40625 73.578125 \r\nQ 31.203125 73.578125 27.53125 70.8125 \r\nQ 23.875 68.0625 23.875 63.28125 \r\nQ 23.875 58.84375 27.78125 55.984375 \r\nQ 31.6875 53.125 37.40625 53.125 \r\nQ 43.21875 53.125 47 55.953125 \r\nQ 50.78125 58.796875 50.78125 63.28125 \r\nQ 50.78125 67.921875 47.0625 70.75 \r\nQ 43.359375 73.578125 37.40625 73.578125 \r\nz\r\nM 31.59375 -6.203125 \r\nL 31.59375 25.875 \r\nQ 16.015625 25.484375 6.296875 25.484375 \r\nL 5.078125 35.984375 \r\nQ 42.046875 35.984375 69.671875 37.5 \r\nL 70.40625 27.09375 \r\nL 43.796875 26.21875 \r\nL 43.796875 -6.203125 \r\nz\r\n\" id=\"MalgunGothicBold-50948\"/>\r\n    </defs>\r\n    <g transform=\"translate(480.147296 327.932811)scale(0.11 -0.11)\">\r\n     <use xlink:href=\"#MalgunGothicBold-44400\"/>\r\n     <use x=\"100\" xlink:href=\"#MalgunGothicBold-50948\"/>\r\n    </g>\r\n   </g>\r\n   <g id=\"text_118\">\r\n    <!-- 의성 -->\r\n    <g transform=\"translate(523.550641 327.932811)scale(0.11 -0.11)\">\r\n     <use xlink:href=\"#MalgunGothicBold-51032\"/>\r\n     <use x=\"100\" xlink:href=\"#MalgunGothicBold-49457\"/>\r\n    </g>\r\n   </g>\r\n   <g id=\"text_119\">\r\n    <!-- 포항 -->\r\n    <g transform=\"translate(566.953986 321.621733)scale(0.11 -0.11)\">\r\n     <use xlink:href=\"#MalgunGothicBold-54252\"/>\r\n     <use x=\"100\" xlink:href=\"#MalgunGothicBold-54637\"/>\r\n    </g>\r\n    <!-- 남구 -->\r\n    <g transform=\"translate(566.953986 334.24389)scale(0.11 -0.11)\">\r\n     <use xlink:href=\"#MalgunGothicBold-45224\"/>\r\n     <use x=\"100\" xlink:href=\"#MalgunGothicBold-44396\"/>\r\n    </g>\r\n   </g>\r\n   <g id=\"text_120\">\r\n    <!-- 당진 -->\r\n    <g transform=\"translate(89.517192 354.869874)scale(0.11 -0.11)\">\r\n     <use xlink:href=\"#MalgunGothicBold-45817\"/>\r\n     <use x=\"100\" xlink:href=\"#MalgunGothicBold-51652\"/>\r\n    </g>\r\n   </g>\r\n   <g id=\"text_121\">\r\n    <!-- 홍성 -->\r\n    <g transform=\"translate(132.920536 354.869874)scale(0.11 -0.11)\">\r\n     <use xlink:href=\"#MalgunGothicBold-54861\"/>\r\n     <use x=\"100\" xlink:href=\"#MalgunGothicBold-49457\"/>\r\n    </g>\r\n   </g>\r\n   <g id=\"text_122\">\r\n    <!-- 예산 -->\r\n    <g transform=\"translate(176.323881 354.869874)scale(0.11 -0.11)\">\r\n     <use xlink:href=\"#MalgunGothicBold-50696\"/>\r\n     <use x=\"100\" xlink:href=\"#MalgunGothicBold-49328\"/>\r\n    </g>\r\n   </g>\r\n   <g id=\"text_123\">\r\n    <!-- 공주 -->\r\n    <defs>\r\n     <path d=\"M 80.515625 83.296875 \r\nQ 80.515625 62.25 79.109375 49.703125 \r\nL 67.390625 50.296875 \r\nQ 68.015625 56.453125 68.3125 73 \r\nL 19.390625 73 \r\nL 19.390625 83.296875 \r\nz\r\nM 6.296875 34.625 \r\nL 6.296875 44.921875 \r\nL 39.015625 44.921875 \r\nL 39.015625 63.09375 \r\nL 51.421875 63.09375 \r\nL 51.421875 44.921875 \r\nL 93.703125 44.921875 \r\nL 93.703125 34.625 \r\nz\r\nM 50.203125 -8.109375 \r\nQ 34.765625 -8.109375 26.296875 -3.03125 \r\nQ 17.828125 2.046875 17.828125 10.5 \r\nQ 17.828125 19.140625 26.296875 24.125 \r\nQ 34.765625 29.109375 50.203125 29.109375 \r\nQ 65.71875 29.109375 74.109375 24.1875 \r\nQ 82.515625 19.28125 82.515625 10.5 \r\nQ 82.515625 1.8125 74.015625 -3.140625 \r\nQ 65.53125 -8.109375 50.203125 -8.109375 \r\nz\r\nM 50.203125 19.28125 \r\nQ 40.578125 19.28125 35.5 16.84375 \r\nQ 30.421875 14.40625 30.421875 10.5 \r\nQ 30.421875 6.59375 35.5 4.140625 \r\nQ 40.578125 1.703125 50.203125 1.703125 \r\nQ 59.765625 1.703125 64.796875 4.125 \r\nQ 69.828125 6.546875 69.828125 10.5 \r\nQ 69.828125 14.453125 64.796875 16.859375 \r\nQ 59.765625 19.28125 50.203125 19.28125 \r\nz\r\n\" id=\"MalgunGothicBold-44277\"/>\r\n    </defs>\r\n    <g transform=\"translate(219.727226 354.869874)scale(0.11 -0.11)\">\r\n     <use xlink:href=\"#MalgunGothicBold-44277\"/>\r\n     <use x=\"100\" xlink:href=\"#MalgunGothicBold-51452\"/>\r\n    </g>\r\n   </g>\r\n   <g id=\"text_124\">\r\n    <!-- 진천 -->\r\n    <g transform=\"translate(263.130571 354.869874)scale(0.11 -0.11)\">\r\n     <use xlink:href=\"#MalgunGothicBold-51652\"/>\r\n     <use x=\"100\" xlink:href=\"#MalgunGothicBold-52380\"/>\r\n    </g>\r\n   </g>\r\n   <g id=\"text_125\">\r\n    <!-- 충주 -->\r\n    <defs>\r\n     <path d=\"M 84.8125 47.21875 \r\nQ 75.640625 47.859375 65.1875 51.78125 \r\nQ 54.734375 55.71875 50.09375 60.5 \r\nQ 45.5625 55.71875 35.109375 51.734375 \r\nQ 24.65625 47.75 14.796875 47.015625 \r\nL 8.40625 56.6875 \r\nQ 19.28125 56.640625 28.78125 59.8125 \r\nQ 38.28125 62.984375 42.09375 68.109375 \r\nL 15.921875 68.109375 \r\nL 15.921875 78.125 \r\nL 43.890625 78.125 \r\nL 43.890625 86.53125 \r\nL 56.203125 86.53125 \r\nL 56.203125 78.125 \r\nL 84.078125 78.125 \r\nL 84.078125 68.109375 \r\nL 58.015625 68.109375 \r\nQ 61.921875 63.09375 71.296875 59.9375 \r\nQ 80.671875 56.78125 90.828125 56.78125 \r\nz\r\nM 43.796875 26.421875 \r\nL 43.796875 32.421875 \r\nL 6.296875 32.421875 \r\nL 6.296875 42.828125 \r\nL 93.703125 42.828125 \r\nL 93.703125 32.421875 \r\nL 56.109375 32.421875 \r\nL 56.109375 26.421875 \r\nQ 69.140625 25.484375 75.5625 20.84375 \r\nQ 81.984375 16.21875 81.984375 8.984375 \r\nQ 81.984375 0.59375 74.046875 -4.046875 \r\nQ 66.109375 -8.6875 50 -8.6875 \r\nQ 34.421875 -8.6875 26.21875 -4.125 \r\nQ 18.015625 0.4375 18.015625 8.984375 \r\nQ 18.015625 16.359375 24.78125 20.921875 \r\nQ 31.546875 25.484375 43.796875 26.421875 \r\nz\r\nM 50 16.40625 \r\nQ 30.515625 16.40625 30.515625 8.984375 \r\nQ 30.515625 1.421875 50 1.421875 \r\nQ 69.484375 1.421875 69.484375 8.984375 \r\nQ 69.484375 16.40625 50 16.40625 \r\nz\r\n\" id=\"MalgunGothicBold-52649\"/>\r\n    </defs>\r\n    <g transform=\"translate(306.533916 354.869874)scale(0.11 -0.11)\">\r\n     <use xlink:href=\"#MalgunGothicBold-52649\"/>\r\n     <use x=\"100\" xlink:href=\"#MalgunGothicBold-51452\"/>\r\n    </g>\r\n   </g>\r\n   <g id=\"text_126\">\r\n    <!-- 청주 -->\r\n    <g transform=\"translate(349.937261 348.558796)scale(0.11 -0.11)\">\r\n     <use xlink:href=\"#MalgunGothicBold-52397\"/>\r\n     <use x=\"100\" xlink:href=\"#MalgunGothicBold-51452\"/>\r\n    </g>\r\n    <!-- 흥덕 -->\r\n    <g transform=\"translate(349.937261 361.180952)scale(0.11 -0.11)\">\r\n     <use xlink:href=\"#MalgunGothicBold-55141\"/>\r\n     <use x=\"100\" xlink:href=\"#MalgunGothicBold-45909\"/>\r\n    </g>\r\n   </g>\r\n   <g id=\"text_127\">\r\n    <!-- 괴산 -->\r\n    <defs>\r\n     <path d=\"M 74.515625 -8.796875 \r\nL 74.515625 85.40625 \r\nL 86.921875 85.40625 \r\nL 86.921875 -8.796875 \r\nz\r\nM 62.203125 76.8125 \r\nQ 62.203125 44.671875 60.203125 25.78125 \r\nL 48.390625 26.609375 \r\nQ 49.65625 39.546875 50.09375 66.5 \r\nL 12.3125 66.5 \r\nL 12.3125 76.8125 \r\nz\r\nM 71.390625 7.421875 \r\nQ 63.921875 6.890625 40.28125 6.34375 \r\nQ 16.65625 5.8125 3.609375 5.8125 \r\nL 2.203125 16.109375 \r\nL 25 16.3125 \r\nL 25 46.296875 \r\nL 37.015625 46.296875 \r\nL 37.015625 16.5 \r\nQ 56.78125 16.75 70.796875 17.484375 \r\nz\r\n\" id=\"MalgunGothicBold-44340\"/>\r\n    </defs>\r\n    <g transform=\"translate(393.340606 354.869874)scale(0.11 -0.11)\">\r\n     <use xlink:href=\"#MalgunGothicBold-44340\"/>\r\n     <use x=\"100\" xlink:href=\"#MalgunGothicBold-49328\"/>\r\n    </g>\r\n   </g>\r\n   <g id=\"text_128\">\r\n    <!-- 칠곡 -->\r\n    <defs>\r\n     <path d=\"M 57.71875 37.5 \r\nQ 52.25 39.015625 45.78125 43.3125 \r\nQ 39.3125 47.609375 35.5 52.484375 \r\nQ 29.59375 43.265625 14.109375 35.015625 \r\nL 5.8125 43.5 \r\nQ 14.84375 46.296875 21.96875 53.25 \r\nQ 29.109375 60.203125 29.109375 66.890625 \r\nL 29.109375 68.015625 \r\nL 8.40625 68.015625 \r\nL 8.40625 77.78125 \r\nL 29.203125 77.78125 \r\nL 29.203125 86.71875 \r\nL 41.5 86.71875 \r\nL 41.5 77.78125 \r\nL 62.203125 77.78125 \r\nL 62.203125 68.015625 \r\nL 41.5 68.015625 \r\nL 41.5 67 \r\nQ 41.5 60.25 48.484375 54.3125 \r\nQ 55.46875 48.390625 64.703125 46.6875 \r\nz\r\nM 74.125 38.09375 \r\nL 74.125 85.40625 \r\nL 86.078125 85.40625 \r\nL 86.078125 38.09375 \r\nz\r\nM 25.203125 -7.28125 \r\nL 25.203125 18.40625 \r\nL 74.125 18.40625 \r\nL 74.125 24.125 \r\nL 25.203125 24.125 \r\nL 25.203125 34.421875 \r\nL 86.078125 34.421875 \r\nL 86.078125 8.984375 \r\nL 37.3125 8.984375 \r\nL 37.3125 2.984375 \r\nL 88.484375 2.984375 \r\nL 88.484375 -7.28125 \r\nz\r\n\" id=\"MalgunGothicBold-52832\"/>\r\n     <path d=\"M 80.421875 83.296875 \r\nQ 80.421875 62.796875 79 50 \r\nL 67.28125 50.59375 \r\nQ 67.921875 56.9375 68.21875 73 \r\nL 18.703125 73 \r\nL 18.703125 83.296875 \r\nz\r\nM 6.296875 34.90625 \r\nL 6.296875 45.3125 \r\nL 37.890625 45.3125 \r\nL 37.890625 62.703125 \r\nL 50.296875 62.703125 \r\nL 50.296875 45.3125 \r\nL 93.703125 45.3125 \r\nL 93.703125 34.90625 \r\nz\r\nM 68.609375 -8.796875 \r\nL 68.609375 14.703125 \r\nL 17.921875 14.703125 \r\nL 17.921875 25 \r\nL 80.90625 25 \r\nL 80.90625 -8.796875 \r\nz\r\n\" id=\"MalgunGothicBold-44257\"/>\r\n    </defs>\r\n    <g transform=\"translate(436.743951 354.869874)scale(0.11 -0.11)\">\r\n     <use xlink:href=\"#MalgunGothicBold-52832\"/>\r\n     <use x=\"100\" xlink:href=\"#MalgunGothicBold-44257\"/>\r\n    </g>\r\n   </g>\r\n   <g id=\"text_129\">\r\n    <!-- 영천 -->\r\n    <g transform=\"translate(480.147296 354.869874)scale(0.11 -0.11)\">\r\n     <use xlink:href=\"#MalgunGothicBold-50689\"/>\r\n     <use x=\"100\" xlink:href=\"#MalgunGothicBold-52380\"/>\r\n    </g>\r\n   </g>\r\n   <g id=\"text_130\">\r\n    <!-- 경산 -->\r\n    <g transform=\"translate(523.550641 354.869874)scale(0.11 -0.11)\">\r\n     <use xlink:href=\"#MalgunGothicBold-44221\"/>\r\n     <use x=\"100\" xlink:href=\"#MalgunGothicBold-49328\"/>\r\n    </g>\r\n   </g>\r\n   <g id=\"text_131\">\r\n    <!-- 경주 -->\r\n    <g transform=\"translate(566.953986 354.869874)scale(0.11 -0.11)\">\r\n     <use xlink:href=\"#MalgunGothicBold-44221\"/>\r\n     <use x=\"100\" xlink:href=\"#MalgunGothicBold-51452\"/>\r\n    </g>\r\n   </g>\r\n   <g id=\"text_132\">\r\n    <!-- 서산 -->\r\n    <g transform=\"translate(89.517192 381.806937)scale(0.11 -0.11)\">\r\n     <use xlink:href=\"#MalgunGothicBold-49436\"/>\r\n     <use x=\"100\" xlink:href=\"#MalgunGothicBold-49328\"/>\r\n    </g>\r\n   </g>\r\n   <g id=\"text_133\">\r\n    <!-- 보령 -->\r\n    <defs>\r\n     <path d=\"M 6.296875 4.203125 \r\nL 6.296875 14.40625 \r\nL 43.796875 14.40625 \r\nL 43.796875 31.5 \r\nL 19.484375 31.5 \r\nL 19.484375 78.328125 \r\nL 31.78125 78.328125 \r\nL 31.78125 64.109375 \r\nL 68.21875 64.109375 \r\nL 68.21875 78.328125 \r\nL 80.421875 78.328125 \r\nL 80.421875 31.5 \r\nL 56.109375 31.5 \r\nL 56.109375 14.40625 \r\nL 93.703125 14.40625 \r\nL 93.703125 4.203125 \r\nz\r\nM 68.21875 53.8125 \r\nL 31.78125 53.8125 \r\nL 31.78125 41.703125 \r\nL 68.21875 41.703125 \r\nz\r\n\" id=\"MalgunGothicBold-48372\"/>\r\n     <path d=\"M 60.109375 43.796875 \r\nL 60.109375 53.515625 \r\nL 74.515625 53.515625 \r\nL 74.515625 62.984375 \r\nL 60.109375 62.984375 \r\nL 60.109375 72.703125 \r\nL 74.515625 72.703125 \r\nL 74.515625 85.40625 \r\nL 86.53125 85.40625 \r\nL 86.53125 31.109375 \r\nL 74.515625 31.109375 \r\nL 74.515625 43.796875 \r\nz\r\nM 58.5 35.796875 \r\nQ 47.359375 34.078125 42.375 33.9375 \r\nQ 37.40625 33.796875 11.53125 33.796875 \r\nL 11.53125 63.1875 \r\nL 42.828125 63.1875 \r\nL 42.828125 72.125 \r\nL 11.53125 72.125 \r\nL 11.53125 82.078125 \r\nL 54.890625 82.078125 \r\nL 54.890625 53.609375 \r\nL 23.484375 53.609375 \r\nL 23.484375 43.796875 \r\nQ 40.375 43.796875 46.015625 44.109375 \r\nQ 51.65625 44.4375 56.984375 45.796875 \r\nz\r\nM 57.171875 -8.40625 \r\nQ 42.4375 -8.40625 34.328125 -3.125 \r\nQ 26.21875 2.15625 26.21875 10.796875 \r\nQ 26.21875 19.390625 34.375 24.6875 \r\nQ 42.53125 29.984375 57.171875 29.984375 \r\nQ 71.875 29.984375 80.078125 24.6875 \r\nQ 88.28125 19.390625 88.28125 10.796875 \r\nQ 88.28125 2.203125 80.125 -3.09375 \r\nQ 71.96875 -8.40625 57.171875 -8.40625 \r\nz\r\nM 57.171875 19.921875 \r\nQ 48 19.921875 43.3125 17.484375 \r\nQ 38.625 15.046875 38.625 10.796875 \r\nQ 38.625 6.546875 43.359375 4.125 \r\nQ 48.09375 1.703125 57.171875 1.703125 \r\nQ 66.265625 1.703125 71.0625 4.09375 \r\nQ 75.875 6.5 75.875 10.796875 \r\nQ 75.875 14.984375 71.15625 17.453125 \r\nQ 66.453125 19.921875 57.171875 19.921875 \r\nz\r\n\" id=\"MalgunGothicBold-47161\"/>\r\n    </defs>\r\n    <g transform=\"translate(132.920536 381.806937)scale(0.11 -0.11)\">\r\n     <use xlink:href=\"#MalgunGothicBold-48372\"/>\r\n     <use x=\"100\" xlink:href=\"#MalgunGothicBold-47161\"/>\r\n    </g>\r\n   </g>\r\n   <g id=\"text_134\">\r\n    <!-- 청양 -->\r\n    <g transform=\"translate(176.323881 381.806937)scale(0.11 -0.11)\">\r\n     <use xlink:href=\"#MalgunGothicBold-52397\"/>\r\n     <use x=\"100\" xlink:href=\"#MalgunGothicBold-50577\"/>\r\n    </g>\r\n   </g>\r\n   <g id=\"text_135\">\r\n    <!-- 세종 -->\r\n    <defs>\r\n     <path d=\"M 76.125 -8.796875 \r\nL 76.125 85.40625 \r\nL 88.28125 85.40625 \r\nL 88.28125 -8.796875 \r\nz\r\nM 57.078125 -6 \r\nL 57.078125 45.515625 \r\nL 43.5 45.515625 \r\nL 43.5 55.8125 \r\nL 57.078125 55.8125 \r\nL 57.078125 83.5 \r\nL 69.1875 83.5 \r\nL 69.1875 -6 \r\nz\r\nM 45.3125 13.71875 \r\nQ 35.015625 22.265625 29.984375 32.71875 \r\nQ 27.78125 27.484375 22.546875 21.03125 \r\nQ 17.328125 14.59375 12.796875 11.28125 \r\nL 4 19.1875 \r\nQ 24.125 31.78125 24.125 57.171875 \r\nL 24.125 79 \r\nL 35.796875 79 \r\nL 35.796875 56.890625 \r\nQ 35.796875 34.125 53.90625 22.21875 \r\nz\r\n\" id=\"MalgunGothicBold-49464\"/>\r\n    </defs>\r\n    <g transform=\"translate(219.727226 381.806937)scale(0.11 -0.11)\">\r\n     <use xlink:href=\"#MalgunGothicBold-49464\"/>\r\n     <use x=\"100\" xlink:href=\"#MalgunGothicBold-51333\"/>\r\n    </g>\r\n   </g>\r\n   <g id=\"text_136\">\r\n    <!-- 대전 -->\r\n    <defs>\r\n     <path d=\"M 74.90625 18.015625 \r\nL 74.90625 51.515625 \r\nL 56.59375 51.515625 \r\nL 56.59375 61.28125 \r\nL 74.90625 61.28125 \r\nL 74.90625 85.40625 \r\nL 86.921875 85.40625 \r\nL 86.921875 18.015625 \r\nz\r\nM 56.296875 29.78125 \r\nQ 43.015625 36.375 35.296875 47.515625 \r\nQ 32.8125 42.234375 26.3125 35.828125 \r\nQ 19.828125 29.4375 14.015625 26.609375 \r\nL 5.328125 35.203125 \r\nQ 15.1875 38.96875 22 47.40625 \r\nQ 28.8125 55.859375 28.8125 64.5 \r\nL 28.8125 69.921875 \r\nL 9.421875 69.921875 \r\nL 9.421875 80.078125 \r\nL 60.015625 80.078125 \r\nL 60.015625 69.921875 \r\nL 41.109375 69.921875 \r\nL 41.109375 64.890625 \r\nQ 41.109375 56.390625 47.609375 49.390625 \r\nQ 54.109375 42.390625 64.109375 39.109375 \r\nz\r\nM 25.296875 -5.609375 \r\nL 25.296875 25.875 \r\nL 37.59375 25.875 \r\nL 37.59375 4.6875 \r\nL 87.890625 4.6875 \r\nL 87.890625 -5.609375 \r\nz\r\n\" id=\"MalgunGothicBold-51204\"/>\r\n    </defs>\r\n    <g transform=\"translate(263.130571 375.495859)scale(0.11 -0.11)\">\r\n     <use xlink:href=\"#MalgunGothicBold-45824\"/>\r\n     <use x=\"100\" xlink:href=\"#MalgunGothicBold-51204\"/>\r\n    </g>\r\n    <!-- 대덕 -->\r\n    <g transform=\"translate(263.130571 388.118015)scale(0.11 -0.11)\">\r\n     <use xlink:href=\"#MalgunGothicBold-45824\"/>\r\n     <use x=\"100\" xlink:href=\"#MalgunGothicBold-45909\"/>\r\n    </g>\r\n   </g>\r\n   <g id=\"text_137\">\r\n    <!-- 증평 -->\r\n    <defs>\r\n     <path d=\"M 84.078125 49.421875 \r\nQ 61.375 53.171875 50 64.59375 \r\nQ 45.796875 59.765625 35.9375 55.34375 \r\nQ 26.078125 50.921875 16.40625 49.515625 \r\nL 9.515625 58.59375 \r\nQ 21.234375 59.375 30.515625 63.5 \r\nQ 39.796875 67.625 42.578125 72.90625 \r\nL 16.3125 72.90625 \r\nL 16.3125 83.203125 \r\nL 83.6875 83.203125 \r\nL 83.6875 72.90625 \r\nL 57.515625 72.90625 \r\nQ 60.640625 67.578125 69.984375 63.296875 \r\nQ 79.34375 59.03125 89.984375 58.59375 \r\nz\r\nM 6.296875 33.5 \r\nL 6.296875 43.796875 \r\nL 93.703125 43.796875 \r\nL 93.703125 33.5 \r\nz\r\nM 50 -8.796875 \r\nQ 34.578125 -8.796875 26.296875 -4.03125 \r\nQ 18.015625 0.734375 18.015625 9.421875 \r\nQ 18.015625 17.96875 26.3125 22.71875 \r\nQ 34.625 27.484375 50 27.484375 \r\nQ 65.53125 27.484375 73.75 22.671875 \r\nQ 81.984375 17.875 81.984375 9.421875 \r\nQ 81.984375 0.734375 73.703125 -4.03125 \r\nQ 65.4375 -8.796875 50 -8.796875 \r\nz\r\nM 50 17.390625 \r\nQ 30.515625 17.390625 30.515625 9.421875 \r\nQ 30.515625 5.671875 35.4375 3.4375 \r\nQ 40.375 1.21875 50 1.21875 \r\nQ 59.625 1.21875 64.546875 3.4375 \r\nQ 69.484375 5.671875 69.484375 9.421875 \r\nQ 69.484375 17.390625 50 17.390625 \r\nz\r\n\" id=\"MalgunGothicBold-51613\"/>\r\n    </defs>\r\n    <g transform=\"translate(306.533916 381.806937)scale(0.11 -0.11)\">\r\n     <use xlink:href=\"#MalgunGothicBold-51613\"/>\r\n     <use x=\"100\" xlink:href=\"#MalgunGothicBold-54217\"/>\r\n    </g>\r\n   </g>\r\n   <g id=\"text_138\">\r\n    <!-- 청주 -->\r\n    <g transform=\"translate(349.937261 375.495859)scale(0.11 -0.11)\">\r\n     <use xlink:href=\"#MalgunGothicBold-52397\"/>\r\n     <use x=\"100\" xlink:href=\"#MalgunGothicBold-51452\"/>\r\n    </g>\r\n    <!-- 청원 -->\r\n    <g transform=\"translate(349.937261 388.118015)scale(0.11 -0.11)\">\r\n     <use xlink:href=\"#MalgunGothicBold-52397\"/>\r\n     <use x=\"100\" xlink:href=\"#MalgunGothicBold-50896\"/>\r\n    </g>\r\n   </g>\r\n   <g id=\"text_139\">\r\n    <!-- 보은 -->\r\n    <g transform=\"translate(393.340606 381.806937)scale(0.11 -0.11)\">\r\n     <use xlink:href=\"#MalgunGothicBold-48372\"/>\r\n     <use x=\"100\" xlink:href=\"#MalgunGothicBold-51008\"/>\r\n    </g>\r\n   </g>\r\n   <g id=\"text_140\">\r\n    <!-- 고령 -->\r\n    <g transform=\"translate(436.743951 381.806937)scale(0.11 -0.11)\">\r\n     <use xlink:href=\"#MalgunGothicBold-44256\"/>\r\n     <use x=\"100\" xlink:href=\"#MalgunGothicBold-47161\"/>\r\n    </g>\r\n   </g>\r\n   <g id=\"text_141\">\r\n    <!-- 청도 -->\r\n    <g transform=\"translate(480.147296 381.806937)scale(0.11 -0.11)\">\r\n     <use xlink:href=\"#MalgunGothicBold-52397\"/>\r\n     <use x=\"100\" xlink:href=\"#MalgunGothicBold-46020\"/>\r\n    </g>\r\n   </g>\r\n   <g id=\"text_142\">\r\n    <!-- 성주 -->\r\n    <g transform=\"translate(523.550641 381.806937)scale(0.11 -0.11)\">\r\n     <use xlink:href=\"#MalgunGothicBold-49457\"/>\r\n     <use x=\"100\" xlink:href=\"#MalgunGothicBold-51452\"/>\r\n    </g>\r\n   </g>\r\n   <g id=\"text_143\">\r\n    <!-- 울산 -->\r\n    <g transform=\"translate(566.953986 375.495859)scale(0.11 -0.11)\">\r\n     <use xlink:href=\"#MalgunGothicBold-50872\"/>\r\n     <use x=\"100\" xlink:href=\"#MalgunGothicBold-49328\"/>\r\n    </g>\r\n    <!-- 북구 -->\r\n    <g transform=\"translate(566.953986 388.118015)scale(0.11 -0.11)\">\r\n     <use xlink:href=\"#MalgunGothicBold-48513\"/>\r\n     <use x=\"100\" xlink:href=\"#MalgunGothicBold-44396\"/>\r\n    </g>\r\n   </g>\r\n   <g id=\"text_144\">\r\n    <!-- 부여 -->\r\n    <g transform=\"translate(132.920536 408.744)scale(0.11 -0.11)\">\r\n     <use xlink:href=\"#MalgunGothicBold-48512\"/>\r\n     <use x=\"100\" xlink:href=\"#MalgunGothicBold-50668\"/>\r\n    </g>\r\n   </g>\r\n   <g id=\"text_145\">\r\n    <!-- 논산 -->\r\n    <defs>\r\n     <path d=\"M 6.296875 28.71875 \r\nL 6.296875 39.015625 \r\nL 43.796875 39.015625 \r\nL 43.796875 49.515625 \r\nL 19.578125 49.515625 \r\nL 19.578125 80.71875 \r\nL 31.890625 80.71875 \r\nL 31.890625 59.90625 \r\nL 81.6875 59.90625 \r\nL 81.6875 49.515625 \r\nL 56.109375 49.515625 \r\nL 56.109375 39.015625 \r\nL 93.703125 39.015625 \r\nL 93.703125 28.71875 \r\nz\r\nM 19.09375 -4.78125 \r\nL 19.09375 23.296875 \r\nL 31.390625 23.296875 \r\nL 31.390625 5.515625 \r\nL 82.078125 5.515625 \r\nL 82.078125 -4.78125 \r\nz\r\n\" id=\"MalgunGothicBold-45436\"/>\r\n    </defs>\r\n    <g transform=\"translate(176.323881 408.744)scale(0.11 -0.11)\">\r\n     <use xlink:href=\"#MalgunGothicBold-45436\"/>\r\n     <use x=\"100\" xlink:href=\"#MalgunGothicBold-49328\"/>\r\n    </g>\r\n   </g>\r\n   <g id=\"text_146\">\r\n    <!-- 계룡 -->\r\n    <defs>\r\n     <path d=\"M 29.5 45.609375 \r\nL 20.125 45.609375 \r\nL 20.125 69.671875 \r\nL 67.671875 69.671875 \r\nL 67.671875 74.3125 \r\nL 20.125 74.3125 \r\nL 20.125 84.28125 \r\nL 79.890625 84.28125 \r\nL 79.890625 60.59375 \r\nL 32.328125 60.59375 \r\nL 32.328125 55.609375 \r\nL 81.984375 55.609375 \r\nL 81.984375 45.609375 \r\nL 70.515625 45.609375 \r\nL 70.515625 38.484375 \r\nL 93.703125 38.484375 \r\nL 93.703125 28.21875 \r\nL 6.296875 28.21875 \r\nL 6.296875 38.484375 \r\nL 29.5 38.484375 \r\nz\r\nM 41.609375 38.484375 \r\nL 58.40625 38.484375 \r\nL 58.40625 45.609375 \r\nL 41.609375 45.609375 \r\nz\r\nM 50 -8.6875 \r\nQ 34.671875 -8.6875 26.6875 -4.359375 \r\nQ 18.703125 -0.046875 18.703125 8.109375 \r\nQ 18.703125 24.8125 50 24.8125 \r\nQ 65.875 24.8125 73.578125 20.4375 \r\nQ 81.296875 16.0625 81.296875 8.109375 \r\nQ 81.296875 -0.046875 73.3125 -4.359375 \r\nQ 65.328125 -8.6875 50 -8.6875 \r\nz\r\nM 50 15.28125 \r\nQ 41.265625 15.28125 36.328125 13.734375 \r\nQ 31.390625 12.203125 31.390625 8.109375 \r\nQ 31.390625 4 36.15625 2.390625 \r\nQ 40.921875 0.78125 50 0.78125 \r\nQ 59.078125 0.78125 63.84375 2.390625 \r\nQ 68.609375 4 68.609375 8.109375 \r\nQ 68.609375 12.203125 63.671875 13.734375 \r\nQ 58.734375 15.28125 50 15.28125 \r\nz\r\n\" id=\"MalgunGothicBold-47329\"/>\r\n    </defs>\r\n    <g transform=\"translate(219.727226 408.744)scale(0.11 -0.11)\">\r\n     <use xlink:href=\"#MalgunGothicBold-44228\"/>\r\n     <use x=\"100\" xlink:href=\"#MalgunGothicBold-47329\"/>\r\n    </g>\r\n   </g>\r\n   <g id=\"text_147\">\r\n    <!-- 대전 -->\r\n    <g transform=\"translate(263.130571 402.432922)scale(0.11 -0.11)\">\r\n     <use xlink:href=\"#MalgunGothicBold-45824\"/>\r\n     <use x=\"100\" xlink:href=\"#MalgunGothicBold-51204\"/>\r\n    </g>\r\n    <!-- 동구 -->\r\n    <g transform=\"translate(263.130571 415.055078)scale(0.11 -0.11)\">\r\n     <use xlink:href=\"#MalgunGothicBold-46041\"/>\r\n     <use x=\"100\" xlink:href=\"#MalgunGothicBold-44396\"/>\r\n    </g>\r\n   </g>\r\n   <g id=\"text_148\">\r\n    <!-- 청주 -->\r\n    <g transform=\"translate(306.533916 402.432922)scale(0.11 -0.11)\">\r\n     <use xlink:href=\"#MalgunGothicBold-52397\"/>\r\n     <use x=\"100\" xlink:href=\"#MalgunGothicBold-51452\"/>\r\n    </g>\r\n    <!-- 상당 -->\r\n    <g transform=\"translate(306.533916 415.055078)scale(0.11 -0.11)\">\r\n     <use xlink:href=\"#MalgunGothicBold-49345\"/>\r\n     <use x=\"100\" xlink:href=\"#MalgunGothicBold-45817\"/>\r\n    </g>\r\n   </g>\r\n   <g id=\"text_149\">\r\n    <!-- 청주 -->\r\n    <g transform=\"translate(349.937261 402.432922)scale(0.11 -0.11)\">\r\n     <use xlink:href=\"#MalgunGothicBold-52397\"/>\r\n     <use x=\"100\" xlink:href=\"#MalgunGothicBold-51452\"/>\r\n    </g>\r\n    <!-- 서원 -->\r\n    <g transform=\"translate(349.937261 415.055078)scale(0.11 -0.11)\">\r\n     <use xlink:href=\"#MalgunGothicBold-49436\"/>\r\n     <use x=\"100\" xlink:href=\"#MalgunGothicBold-50896\"/>\r\n    </g>\r\n   </g>\r\n   <g id=\"text_150\">\r\n    <!-- 대구 -->\r\n    <g transform=\"translate(393.340606 402.432922)scale(0.11 -0.11)\">\r\n     <use xlink:href=\"#MalgunGothicBold-45824\"/>\r\n     <use x=\"100\" xlink:href=\"#MalgunGothicBold-44396\"/>\r\n    </g>\r\n    <!-- 북구 -->\r\n    <g transform=\"translate(393.340606 415.055078)scale(0.11 -0.11)\">\r\n     <use xlink:href=\"#MalgunGothicBold-48513\"/>\r\n     <use x=\"100\" xlink:href=\"#MalgunGothicBold-44396\"/>\r\n    </g>\r\n   </g>\r\n   <g id=\"text_151\">\r\n    <!-- 대구 -->\r\n    <g transform=\"translate(436.743951 402.432922)scale(0.11 -0.11)\">\r\n     <use xlink:href=\"#MalgunGothicBold-45824\"/>\r\n     <use x=\"100\" xlink:href=\"#MalgunGothicBold-44396\"/>\r\n    </g>\r\n    <!-- 중구 -->\r\n    <g transform=\"translate(436.743951 415.055078)scale(0.11 -0.11)\">\r\n     <use xlink:href=\"#MalgunGothicBold-51473\"/>\r\n     <use x=\"100\" xlink:href=\"#MalgunGothicBold-44396\"/>\r\n    </g>\r\n   </g>\r\n   <g id=\"text_152\">\r\n    <!-- 대구 -->\r\n    <g transform=\"translate(480.147296 402.432922)scale(0.11 -0.11)\">\r\n     <use xlink:href=\"#MalgunGothicBold-45824\"/>\r\n     <use x=\"100\" xlink:href=\"#MalgunGothicBold-44396\"/>\r\n    </g>\r\n    <!-- 수성 -->\r\n    <g transform=\"translate(480.147296 415.055078)scale(0.11 -0.11)\">\r\n     <use xlink:href=\"#MalgunGothicBold-49688\"/>\r\n     <use x=\"100\" xlink:href=\"#MalgunGothicBold-49457\"/>\r\n    </g>\r\n   </g>\r\n   <g id=\"text_153\">\r\n    <!-- 울산 -->\r\n    <g transform=\"translate(523.550641 402.432922)scale(0.11 -0.11)\">\r\n     <use xlink:href=\"#MalgunGothicBold-50872\"/>\r\n     <use x=\"100\" xlink:href=\"#MalgunGothicBold-49328\"/>\r\n    </g>\r\n    <!-- 울주 -->\r\n    <g transform=\"translate(523.550641 415.055078)scale(0.11 -0.11)\">\r\n     <use xlink:href=\"#MalgunGothicBold-50872\"/>\r\n     <use x=\"100\" xlink:href=\"#MalgunGothicBold-51452\"/>\r\n    </g>\r\n   </g>\r\n   <g id=\"text_154\">\r\n    <!-- 울산 -->\r\n    <g transform=\"translate(566.953986 402.432922)scale(0.11 -0.11)\">\r\n     <use xlink:href=\"#MalgunGothicBold-50872\"/>\r\n     <use x=\"100\" xlink:href=\"#MalgunGothicBold-49328\"/>\r\n    </g>\r\n    <!-- 동구 -->\r\n    <g transform=\"translate(566.953986 415.055078)scale(0.11 -0.11)\">\r\n     <use xlink:href=\"#MalgunGothicBold-46041\"/>\r\n     <use x=\"100\" xlink:href=\"#MalgunGothicBold-44396\"/>\r\n    </g>\r\n   </g>\r\n   <g id=\"text_155\">\r\n    <!-- 서천 -->\r\n    <g transform=\"translate(132.920536 435.681063)scale(0.11 -0.11)\">\r\n     <use xlink:href=\"#MalgunGothicBold-49436\"/>\r\n     <use x=\"100\" xlink:href=\"#MalgunGothicBold-52380\"/>\r\n    </g>\r\n   </g>\r\n   <g id=\"text_156\">\r\n    <!-- 금산 -->\r\n    <g transform=\"translate(176.323881 435.681063)scale(0.11 -0.11)\">\r\n     <use xlink:href=\"#MalgunGothicBold-44552\"/>\r\n     <use x=\"100\" xlink:href=\"#MalgunGothicBold-49328\"/>\r\n    </g>\r\n   </g>\r\n   <g id=\"text_157\">\r\n    <!-- 대전 -->\r\n    <g transform=\"translate(219.727226 429.369985)scale(0.11 -0.11)\">\r\n     <use xlink:href=\"#MalgunGothicBold-45824\"/>\r\n     <use x=\"100\" xlink:href=\"#MalgunGothicBold-51204\"/>\r\n    </g>\r\n    <!-- 유성 -->\r\n    <defs>\r\n     <path d=\"M 50 40.71875 \r\nQ 35.75 40.71875 27.171875 46.96875 \r\nQ 18.609375 53.21875 18.609375 62.703125 \r\nQ 18.609375 72.078125 27.125 78.078125 \r\nQ 35.640625 84.078125 49.8125 84.078125 \r\nQ 64.15625 84.078125 72.671875 78.09375 \r\nQ 81.203125 72.125 81.203125 62.703125 \r\nQ 81.203125 53.46875 72.53125 47.09375 \r\nQ 63.875 40.71875 50 40.71875 \r\nz\r\nM 49.8125 74.125 \r\nQ 40.921875 74.125 36.015625 70.890625 \r\nQ 31.109375 67.671875 31.109375 62.703125 \r\nQ 31.109375 57.765625 36.078125 54.53125 \r\nQ 41.0625 51.3125 49.8125 51.3125 \r\nQ 58.546875 51.3125 63.515625 54.53125 \r\nQ 68.5 57.765625 68.5 62.703125 \r\nQ 68.5 67.78125 63.5 70.953125 \r\nQ 58.5 74.125 49.8125 74.125 \r\nz\r\nM 28.421875 -8.6875 \r\nL 28.421875 22.515625 \r\nL 6.296875 22.515625 \r\nL 6.296875 32.8125 \r\nL 93.703125 32.8125 \r\nL 93.703125 22.515625 \r\nL 71.578125 22.515625 \r\nL 71.578125 -8.6875 \r\nL 59.421875 -8.6875 \r\nL 59.421875 22.515625 \r\nL 40.578125 22.515625 \r\nL 40.578125 -8.6875 \r\nz\r\n\" id=\"MalgunGothicBold-50976\"/>\r\n    </defs>\r\n    <g transform=\"translate(219.727226 441.992141)scale(0.11 -0.11)\">\r\n     <use xlink:href=\"#MalgunGothicBold-50976\"/>\r\n     <use x=\"100\" xlink:href=\"#MalgunGothicBold-49457\"/>\r\n    </g>\r\n   </g>\r\n   <g id=\"text_158\">\r\n    <!-- 대전 -->\r\n    <g transform=\"translate(263.130571 429.369985)scale(0.11 -0.11)\">\r\n     <use xlink:href=\"#MalgunGothicBold-45824\"/>\r\n     <use x=\"100\" xlink:href=\"#MalgunGothicBold-51204\"/>\r\n    </g>\r\n    <!-- 중구 -->\r\n    <g transform=\"translate(263.130571 441.992141)scale(0.11 -0.11)\">\r\n     <use xlink:href=\"#MalgunGothicBold-51473\"/>\r\n     <use x=\"100\" xlink:href=\"#MalgunGothicBold-44396\"/>\r\n    </g>\r\n   </g>\r\n   <g id=\"text_159\">\r\n    <!-- 옥천 -->\r\n    <defs>\r\n     <path d=\"M 6.296875 29.890625 \r\nL 6.296875 40.1875 \r\nL 43.796875 40.1875 \r\nL 43.796875 47.21875 \r\nQ 31.78125 48.25 25 53.25 \r\nQ 18.21875 58.25 18.21875 65.921875 \r\nQ 18.21875 74.515625 26.640625 79.703125 \r\nQ 35.0625 84.90625 50 84.90625 \r\nQ 64.9375 84.90625 73.359375 79.703125 \r\nQ 81.78125 74.515625 81.78125 65.921875 \r\nQ 81.78125 58.296875 75.015625 53.265625 \r\nQ 68.265625 48.25 56.109375 47.21875 \r\nL 56.109375 40.1875 \r\nL 93.703125 40.1875 \r\nL 93.703125 29.890625 \r\nz\r\nM 50 75.203125 \r\nQ 40.71875 75.203125 35.71875 72.578125 \r\nQ 30.71875 69.96875 30.71875 65.921875 \r\nQ 30.71875 61.8125 35.859375 59.25 \r\nQ 41.015625 56.6875 50 56.6875 \r\nQ 59.1875 56.6875 64.234375 59.21875 \r\nQ 69.28125 61.765625 69.28125 65.921875 \r\nQ 69.28125 70.015625 64.328125 72.609375 \r\nQ 59.375 75.203125 50 75.203125 \r\nz\r\nM 68.609375 -8.796875 \r\nL 68.609375 12.984375 \r\nL 17.921875 12.984375 \r\nL 17.921875 23.296875 \r\nL 80.90625 23.296875 \r\nL 80.90625 -8.796875 \r\nz\r\n\" id=\"MalgunGothicBold-50725\"/>\r\n    </defs>\r\n    <g transform=\"translate(306.533916 435.681063)scale(0.11 -0.11)\">\r\n     <use xlink:href=\"#MalgunGothicBold-50725\"/>\r\n     <use x=\"100\" xlink:href=\"#MalgunGothicBold-52380\"/>\r\n    </g>\r\n   </g>\r\n   <g id=\"text_160\">\r\n    <!-- 영동 -->\r\n    <g transform=\"translate(349.937261 435.681063)scale(0.11 -0.11)\">\r\n     <use xlink:href=\"#MalgunGothicBold-50689\"/>\r\n     <use x=\"100\" xlink:href=\"#MalgunGothicBold-46041\"/>\r\n    </g>\r\n   </g>\r\n   <g id=\"text_161\">\r\n    <!-- 대구 -->\r\n    <g transform=\"translate(393.340606 429.369985)scale(0.11 -0.11)\">\r\n     <use xlink:href=\"#MalgunGothicBold-45824\"/>\r\n     <use x=\"100\" xlink:href=\"#MalgunGothicBold-44396\"/>\r\n    </g>\r\n    <!-- 서구 -->\r\n    <g transform=\"translate(393.340606 441.992141)scale(0.11 -0.11)\">\r\n     <use xlink:href=\"#MalgunGothicBold-49436\"/>\r\n     <use x=\"100\" xlink:href=\"#MalgunGothicBold-44396\"/>\r\n    </g>\r\n   </g>\r\n   <g id=\"text_162\">\r\n    <!-- 대구 -->\r\n    <g transform=\"translate(436.743951 429.369985)scale(0.11 -0.11)\">\r\n     <use xlink:href=\"#MalgunGothicBold-45824\"/>\r\n     <use x=\"100\" xlink:href=\"#MalgunGothicBold-44396\"/>\r\n    </g>\r\n    <!-- 남구 -->\r\n    <g transform=\"translate(436.743951 441.992141)scale(0.11 -0.11)\">\r\n     <use xlink:href=\"#MalgunGothicBold-45224\"/>\r\n     <use x=\"100\" xlink:href=\"#MalgunGothicBold-44396\"/>\r\n    </g>\r\n   </g>\r\n   <g id=\"text_163\">\r\n    <!-- 대구 -->\r\n    <g transform=\"translate(480.147296 429.369985)scale(0.11 -0.11)\">\r\n     <use xlink:href=\"#MalgunGothicBold-45824\"/>\r\n     <use x=\"100\" xlink:href=\"#MalgunGothicBold-44396\"/>\r\n    </g>\r\n    <!-- 동구 -->\r\n    <g transform=\"translate(480.147296 441.992141)scale(0.11 -0.11)\">\r\n     <use xlink:href=\"#MalgunGothicBold-46041\"/>\r\n     <use x=\"100\" xlink:href=\"#MalgunGothicBold-44396\"/>\r\n    </g>\r\n   </g>\r\n   <g id=\"text_164\">\r\n    <!-- 울산 -->\r\n    <g transform=\"translate(523.550641 429.369985)scale(0.11 -0.11)\">\r\n     <use xlink:href=\"#MalgunGothicBold-50872\"/>\r\n     <use x=\"100\" xlink:href=\"#MalgunGothicBold-49328\"/>\r\n    </g>\r\n    <!-- 중구 -->\r\n    <g transform=\"translate(523.550641 441.992141)scale(0.11 -0.11)\">\r\n     <use xlink:href=\"#MalgunGothicBold-51473\"/>\r\n     <use x=\"100\" xlink:href=\"#MalgunGothicBold-44396\"/>\r\n    </g>\r\n   </g>\r\n   <g id=\"text_165\">\r\n    <!-- 울산 -->\r\n    <g transform=\"translate(566.953986 429.369985)scale(0.11 -0.11)\">\r\n     <use xlink:href=\"#MalgunGothicBold-50872\"/>\r\n     <use x=\"100\" xlink:href=\"#MalgunGothicBold-49328\"/>\r\n    </g>\r\n    <!-- 남구 -->\r\n    <g transform=\"translate(566.953986 441.992141)scale(0.11 -0.11)\">\r\n     <use xlink:href=\"#MalgunGothicBold-45224\"/>\r\n     <use x=\"100\" xlink:href=\"#MalgunGothicBold-44396\"/>\r\n    </g>\r\n   </g>\r\n   <g id=\"text_166\">\r\n    <!-- 군산 -->\r\n    <g transform=\"translate(132.920536 462.618126)scale(0.11 -0.11)\">\r\n     <use xlink:href=\"#MalgunGothicBold-44400\"/>\r\n     <use x=\"100\" xlink:href=\"#MalgunGothicBold-49328\"/>\r\n    </g>\r\n   </g>\r\n   <g id=\"text_167\">\r\n    <!-- 익산 -->\r\n    <defs>\r\n     <path d=\"M 73.484375 30.71875 \r\nL 73.484375 85.40625 \r\nL 85.5 85.40625 \r\nL 85.5 30.71875 \r\nz\r\nM 34.421875 33.796875 \r\nQ 23.578125 33.796875 16.375 40.53125 \r\nQ 9.1875 47.265625 9.1875 58.296875 \r\nQ 9.1875 69.34375 16.375 76.078125 \r\nQ 23.578125 82.8125 34.421875 82.8125 \r\nQ 45.3125 82.8125 52.46875 76.046875 \r\nQ 59.625 69.28125 59.625 58.296875 \r\nQ 59.625 47.3125 52.46875 40.546875 \r\nQ 45.3125 33.796875 34.421875 33.796875 \r\nz\r\nM 34.421875 72.609375 \r\nQ 28.265625 72.609375 24.78125 68.828125 \r\nQ 21.296875 65.046875 21.296875 58.296875 \r\nQ 21.296875 51.5625 24.8125 47.828125 \r\nQ 28.328125 44.09375 34.421875 44.09375 \r\nQ 40.484375 44.09375 44 47.828125 \r\nQ 47.515625 51.5625 47.515625 58.296875 \r\nQ 47.515625 65.046875 44.015625 68.828125 \r\nQ 40.53125 72.609375 34.421875 72.609375 \r\nz\r\nM 73.296875 -8.796875 \r\nL 73.296875 16.40625 \r\nL 22.703125 16.40625 \r\nL 22.703125 26.703125 \r\nL 85.5 26.703125 \r\nL 85.5 -8.796875 \r\nz\r\n\" id=\"MalgunGothicBold-51061\"/>\r\n    </defs>\r\n    <g transform=\"translate(176.323881 462.618126)scale(0.11 -0.11)\">\r\n     <use xlink:href=\"#MalgunGothicBold-51061\"/>\r\n     <use x=\"100\" xlink:href=\"#MalgunGothicBold-49328\"/>\r\n    </g>\r\n   </g>\r\n   <g id=\"text_168\">\r\n    <!-- 대전 -->\r\n    <g transform=\"translate(219.727226 456.307048)scale(0.11 -0.11)\">\r\n     <use xlink:href=\"#MalgunGothicBold-45824\"/>\r\n     <use x=\"100\" xlink:href=\"#MalgunGothicBold-51204\"/>\r\n    </g>\r\n    <!-- 서구 -->\r\n    <g transform=\"translate(219.727226 468.929204)scale(0.11 -0.11)\">\r\n     <use xlink:href=\"#MalgunGothicBold-49436\"/>\r\n     <use x=\"100\" xlink:href=\"#MalgunGothicBold-44396\"/>\r\n    </g>\r\n   </g>\r\n   <g id=\"text_169\">\r\n    <!-- 무주 -->\r\n    <defs>\r\n     <path d=\"M 19.828125 44.671875 \r\nL 19.828125 81.984375 \r\nL 79.984375 81.984375 \r\nL 79.984375 44.671875 \r\nz\r\nM 67.828125 71.6875 \r\nL 32.078125 71.6875 \r\nL 32.078125 54.890625 \r\nL 67.828125 54.890625 \r\nz\r\nM 56.109375 23.484375 \r\nL 56.109375 -8.796875 \r\nL 43.796875 -8.796875 \r\nL 43.796875 23.484375 \r\nL 6.296875 23.484375 \r\nL 6.296875 33.890625 \r\nL 93.703125 33.890625 \r\nL 93.703125 23.484375 \r\nz\r\n\" id=\"MalgunGothicBold-47924\"/>\r\n    </defs>\r\n    <g transform=\"translate(263.130571 462.618126)scale(0.11 -0.11)\">\r\n     <use xlink:href=\"#MalgunGothicBold-47924\"/>\r\n     <use x=\"100\" xlink:href=\"#MalgunGothicBold-51452\"/>\r\n    </g>\r\n   </g>\r\n   <g id=\"text_170\">\r\n    <!-- 거창 -->\r\n    <defs>\r\n     <path d=\"M 75 -8.796875 \r\nL 75 39.703125 \r\nL 52.984375 39.703125 \r\nL 52.984375 50 \r\nL 75 50 \r\nL 75 85.40625 \r\nL 87.015625 85.40625 \r\nL 87.015625 -8.796875 \r\nz\r\nM 57.515625 77.296875 \r\nQ 56.6875 55.8125 45.0625 38.515625 \r\nQ 33.453125 21.234375 14.40625 11.28125 \r\nL 5.421875 20.703125 \r\nQ 18.703125 25.59375 30.296875 38.53125 \r\nQ 41.890625 51.46875 44.390625 67 \r\nL 11.078125 67 \r\nL 11.078125 77.296875 \r\nz\r\n\" id=\"MalgunGothicBold-44144\"/>\r\n    </defs>\r\n    <g transform=\"translate(306.533916 462.618126)scale(0.11 -0.11)\">\r\n     <use xlink:href=\"#MalgunGothicBold-44144\"/>\r\n     <use x=\"100\" xlink:href=\"#MalgunGothicBold-52285\"/>\r\n    </g>\r\n   </g>\r\n   <g id=\"text_171\">\r\n    <!-- 합천 -->\r\n    <defs>\r\n     <path d=\"M 6.984375 67.28125 \r\nL 6.984375 77.09375 \r\nL 29.6875 77.09375 \r\nL 29.6875 86.71875 \r\nL 42 86.71875 \r\nL 42 77.09375 \r\nL 64.703125 77.09375 \r\nL 64.703125 67.28125 \r\nz\r\nM 82.171875 49.421875 \r\nL 82.171875 30.421875 \r\nL 70.015625 30.421875 \r\nL 70.015625 85.40625 \r\nL 82.171875 85.40625 \r\nL 82.171875 59.8125 \r\nL 96.484375 59.8125 \r\nL 96.484375 49.421875 \r\nz\r\nM 35.984375 29.890625 \r\nQ 24.703125 29.890625 18.109375 34.625 \r\nQ 11.53125 39.359375 11.53125 46.921875 \r\nQ 11.53125 54.4375 18.140625 59.171875 \r\nQ 24.75 63.921875 36.078125 63.921875 \r\nQ 47.46875 63.921875 54.078125 59.171875 \r\nQ 60.6875 54.4375 60.6875 46.921875 \r\nQ 60.6875 39.265625 53.96875 34.578125 \r\nQ 47.265625 29.890625 35.984375 29.890625 \r\nz\r\nM 36.078125 54.109375 \r\nQ 29.890625 54.109375 26.828125 52.125 \r\nQ 23.78125 50.140625 23.78125 46.921875 \r\nQ 23.78125 39.59375 36.078125 39.59375 \r\nQ 48.484375 39.59375 48.484375 46.921875 \r\nQ 48.484375 54.109375 36.078125 54.109375 \r\nz\r\nM 21.921875 -7.515625 \r\nL 21.921875 26.515625 \r\nL 34.078125 26.515625 \r\nL 34.078125 18.703125 \r\nL 70.125 18.703125 \r\nL 70.125 26.515625 \r\nL 82.171875 26.515625 \r\nL 82.171875 -7.515625 \r\nz\r\nM 70.125 8.984375 \r\nL 34.078125 8.984375 \r\nL 34.078125 2.390625 \r\nL 70.125 2.390625 \r\nz\r\n\" id=\"MalgunGothicBold-54633\"/>\r\n    </defs>\r\n    <g transform=\"translate(349.937261 462.618126)scale(0.11 -0.11)\">\r\n     <use xlink:href=\"#MalgunGothicBold-54633\"/>\r\n     <use x=\"100\" xlink:href=\"#MalgunGothicBold-52380\"/>\r\n    </g>\r\n   </g>\r\n   <g id=\"text_172\">\r\n    <!-- 대구 -->\r\n    <g transform=\"translate(393.340606 456.307048)scale(0.11 -0.11)\">\r\n     <use xlink:href=\"#MalgunGothicBold-45824\"/>\r\n     <use x=\"100\" xlink:href=\"#MalgunGothicBold-44396\"/>\r\n    </g>\r\n    <!-- 달서 -->\r\n    <g transform=\"translate(393.340606 468.929204)scale(0.11 -0.11)\">\r\n     <use xlink:href=\"#MalgunGothicBold-45804\"/>\r\n     <use x=\"100\" xlink:href=\"#MalgunGothicBold-49436\"/>\r\n    </g>\r\n   </g>\r\n   <g id=\"text_173\">\r\n    <!-- 대구 -->\r\n    <g transform=\"translate(436.743951 456.307048)scale(0.11 -0.11)\">\r\n     <use xlink:href=\"#MalgunGothicBold-45824\"/>\r\n     <use x=\"100\" xlink:href=\"#MalgunGothicBold-44396\"/>\r\n    </g>\r\n    <!-- 달성 -->\r\n    <g transform=\"translate(436.743951 468.929204)scale(0.11 -0.11)\">\r\n     <use xlink:href=\"#MalgunGothicBold-45804\"/>\r\n     <use x=\"100\" xlink:href=\"#MalgunGothicBold-49457\"/>\r\n    </g>\r\n   </g>\r\n   <g id=\"text_174\">\r\n    <!-- 부산 -->\r\n    <g transform=\"translate(480.147296 456.307048)scale(0.11 -0.11)\">\r\n     <use xlink:href=\"#MalgunGothicBold-48512\"/>\r\n     <use x=\"100\" xlink:href=\"#MalgunGothicBold-49328\"/>\r\n    </g>\r\n    <!-- 금정 -->\r\n    <g transform=\"translate(480.147296 468.929204)scale(0.11 -0.11)\">\r\n     <use xlink:href=\"#MalgunGothicBold-44552\"/>\r\n     <use x=\"100\" xlink:href=\"#MalgunGothicBold-51221\"/>\r\n    </g>\r\n   </g>\r\n   <g id=\"text_175\">\r\n    <!-- 부산 -->\r\n    <g transform=\"translate(523.550641 456.307048)scale(0.11 -0.11)\">\r\n     <use xlink:href=\"#MalgunGothicBold-48512\"/>\r\n     <use x=\"100\" xlink:href=\"#MalgunGothicBold-49328\"/>\r\n    </g>\r\n    <!-- 동래 -->\r\n    <defs>\r\n     <path d=\"M 76.125 -8.796875 \r\nL 76.125 35.984375 \r\nL 68.5 35.984375 \r\nL 68.5 -6 \r\nL 56.5 -6 \r\nL 56.5 83.5 \r\nL 68.5 83.5 \r\nL 68.5 46.296875 \r\nL 76.125 46.296875 \r\nL 76.125 85.40625 \r\nL 88.1875 85.40625 \r\nL 88.1875 -8.796875 \r\nz\r\nM 52.484375 15.28125 \r\nQ 42.96875 13.625 25.875 13.625 \r\nL 9.90625 13.625 \r\nL 9.90625 52.78125 \r\nL 35.109375 52.78125 \r\nL 35.109375 68.703125 \r\nL 9.90625 68.703125 \r\nL 9.90625 79 \r\nL 47.3125 79 \r\nL 47.3125 42.71875 \r\nL 22.125 42.71875 \r\nL 22.125 23.875 \r\nL 30.8125 23.875 \r\nQ 45.265625 23.875 51.421875 25.203125 \r\nz\r\n\" id=\"MalgunGothicBold-47000\"/>\r\n    </defs>\r\n    <g transform=\"translate(523.550641 468.929204)scale(0.11 -0.11)\">\r\n     <use xlink:href=\"#MalgunGothicBold-46041\"/>\r\n     <use x=\"100\" xlink:href=\"#MalgunGothicBold-47000\"/>\r\n    </g>\r\n   </g>\r\n   <g id=\"text_176\">\r\n    <!-- 부산 -->\r\n    <g transform=\"translate(566.953986 456.307048)scale(0.11 -0.11)\">\r\n     <use xlink:href=\"#MalgunGothicBold-48512\"/>\r\n     <use x=\"100\" xlink:href=\"#MalgunGothicBold-49328\"/>\r\n    </g>\r\n    <!-- 기장 -->\r\n    <g transform=\"translate(566.953986 468.929204)scale(0.11 -0.11)\">\r\n     <use xlink:href=\"#MalgunGothicBold-44592\"/>\r\n     <use x=\"100\" xlink:href=\"#MalgunGothicBold-51109\"/>\r\n    </g>\r\n   </g>\r\n   <g id=\"text_177\">\r\n    <!-- 부안 -->\r\n    <g transform=\"translate(132.920536 489.555189)scale(0.11 -0.11)\">\r\n     <use xlink:href=\"#MalgunGothicBold-48512\"/>\r\n     <use x=\"100\" xlink:href=\"#MalgunGothicBold-50504\"/>\r\n    </g>\r\n   </g>\r\n   <g id=\"text_178\">\r\n    <!-- 김제 -->\r\n    <g transform=\"translate(176.323881 489.555189)scale(0.11 -0.11)\">\r\n     <use xlink:href=\"#MalgunGothicBold-44608\"/>\r\n     <use x=\"100\" xlink:href=\"#MalgunGothicBold-51228\"/>\r\n    </g>\r\n   </g>\r\n   <g id=\"text_179\">\r\n    <!-- 완주 -->\r\n    <defs>\r\n     <path d=\"M 83.203125 45.515625 \r\nL 83.203125 17.578125 \r\nL 70.90625 17.578125 \r\nL 70.90625 85.40625 \r\nL 83.203125 85.40625 \r\nL 83.203125 55.90625 \r\nL 97.015625 55.90625 \r\nL 97.015625 45.515625 \r\nz\r\nM 68.3125 27 \r\nQ 34.71875 25.203125 5.609375 25.203125 \r\nL 4.296875 35.40625 \r\nQ 18.890625 35.40625 30.328125 35.6875 \r\nL 30.328125 43.40625 \r\nQ 21.6875 44.921875 16.65625 50.1875 \r\nQ 11.625 55.46875 11.625 62.796875 \r\nQ 11.625 71.578125 18.546875 77.140625 \r\nQ 25.484375 82.71875 36.71875 82.71875 \r\nQ 47.90625 82.71875 54.8125 77.125 \r\nQ 61.71875 71.53125 61.71875 62.796875 \r\nQ 61.71875 55.421875 56.6875 50.1875 \r\nQ 51.65625 44.96875 42.671875 43.40625 \r\nL 42.671875 35.984375 \r\nL 67.484375 37.015625 \r\nz\r\nM 36.71875 72.609375 \r\nQ 30.5625 72.609375 27.171875 69.96875 \r\nQ 23.78125 67.328125 23.78125 62.796875 \r\nQ 23.78125 58.25 27.125 55.5625 \r\nQ 30.46875 52.875 36.71875 52.875 \r\nQ 42.921875 52.875 46.265625 55.5625 \r\nQ 49.609375 58.25 49.609375 62.796875 \r\nQ 49.609375 67.328125 46.21875 69.96875 \r\nQ 42.828125 72.609375 36.71875 72.609375 \r\nz\r\nM 21.390625 -6.5 \r\nL 21.390625 20.40625 \r\nL 33.796875 20.40625 \r\nL 33.796875 3.8125 \r\nL 84.421875 3.8125 \r\nL 84.421875 -6.5 \r\nz\r\n\" id=\"MalgunGothicBold-50756\"/>\r\n    </defs>\r\n    <g transform=\"translate(219.727226 489.555189)scale(0.11 -0.11)\">\r\n     <use xlink:href=\"#MalgunGothicBold-50756\"/>\r\n     <use x=\"100\" xlink:href=\"#MalgunGothicBold-51452\"/>\r\n    </g>\r\n   </g>\r\n   <g id=\"text_180\">\r\n    <!-- 장수 -->\r\n    <g transform=\"translate(263.130571 489.555189)scale(0.11 -0.11)\">\r\n     <use xlink:href=\"#MalgunGothicBold-51109\"/>\r\n     <use x=\"100\" xlink:href=\"#MalgunGothicBold-49688\"/>\r\n    </g>\r\n   </g>\r\n   <g id=\"text_181\">\r\n    <!-- 함양 -->\r\n    <defs>\r\n     <path d=\"M 6.984375 67.28125 \r\nL 6.984375 77.09375 \r\nL 29.6875 77.09375 \r\nL 29.6875 86.71875 \r\nL 42 86.71875 \r\nL 42 77.09375 \r\nL 64.703125 77.09375 \r\nL 64.703125 67.28125 \r\nz\r\nM 82.171875 49.03125 \r\nL 82.171875 29.109375 \r\nL 69.921875 29.109375 \r\nL 69.921875 85.40625 \r\nL 82.171875 85.40625 \r\nL 82.171875 59.28125 \r\nL 96.484375 59.28125 \r\nL 96.484375 49.03125 \r\nz\r\nM 35.984375 29.890625 \r\nQ 24.703125 29.890625 18.109375 34.625 \r\nQ 11.53125 39.359375 11.53125 46.921875 \r\nQ 11.53125 54.4375 18.140625 59.171875 \r\nQ 24.75 63.921875 36.078125 63.921875 \r\nQ 47.46875 63.921875 54.078125 59.171875 \r\nQ 60.6875 54.4375 60.6875 46.921875 \r\nQ 60.6875 39.265625 53.96875 34.578125 \r\nQ 47.265625 29.890625 35.984375 29.890625 \r\nz\r\nM 36.078125 54.109375 \r\nQ 29.890625 54.109375 26.828125 52.125 \r\nQ 23.78125 50.140625 23.78125 46.921875 \r\nQ 23.78125 39.59375 36.078125 39.59375 \r\nQ 48.484375 39.59375 48.484375 46.921875 \r\nQ 48.484375 54.109375 36.078125 54.109375 \r\nz\r\nM 20.796875 -7.625 \r\nL 20.796875 25.09375 \r\nL 82.171875 25.09375 \r\nL 82.171875 -7.625 \r\nz\r\nM 70.015625 14.796875 \r\nL 33.015625 14.796875 \r\nL 33.015625 2.59375 \r\nL 70.015625 2.59375 \r\nz\r\n\" id=\"MalgunGothicBold-54632\"/>\r\n    </defs>\r\n    <g transform=\"translate(306.533916 489.555189)scale(0.11 -0.11)\">\r\n     <use xlink:href=\"#MalgunGothicBold-54632\"/>\r\n     <use x=\"100\" xlink:href=\"#MalgunGothicBold-50577\"/>\r\n    </g>\r\n   </g>\r\n   <g id=\"text_182\">\r\n    <!-- 창녕 -->\r\n    <defs>\r\n     <path d=\"M 48.484375 53.328125 \r\nL 48.484375 62.703125 \r\nL 73.578125 62.703125 \r\nL 73.578125 67.828125 \r\nL 48.484375 67.828125 \r\nL 48.484375 77.203125 \r\nL 73.578125 77.203125 \r\nL 73.578125 85.40625 \r\nL 85.59375 85.40625 \r\nL 85.59375 30.8125 \r\nL 73.578125 30.8125 \r\nL 73.578125 53.328125 \r\nz\r\nM 65.1875 38.1875 \r\nQ 53.8125 35.984375 13.28125 35.984375 \r\nL 13.28125 81.984375 \r\nL 25.296875 81.984375 \r\nL 25.296875 46 \r\nL 38.8125 46 \r\nQ 50.6875 46 63.71875 47.90625 \r\nz\r\nM 54.890625 -8.203125 \r\nQ 39.9375 -8.203125 31.421875 -3.046875 \r\nQ 22.90625 2.09375 22.90625 10.5 \r\nQ 22.90625 18.796875 31.390625 24.046875 \r\nQ 39.890625 29.296875 54.890625 29.296875 \r\nQ 69.78125 29.296875 78.296875 24.015625 \r\nQ 86.8125 18.75 86.8125 10.5 \r\nQ 86.8125 2.15625 78.296875 -3.015625 \r\nQ 69.78125 -8.203125 54.890625 -8.203125 \r\nz\r\nM 54.890625 19.1875 \r\nQ 45.125 19.1875 40.265625 16.75 \r\nQ 35.40625 14.3125 35.40625 10.5 \r\nQ 35.40625 6.640625 40.3125 4.21875 \r\nQ 45.21875 1.8125 54.890625 1.8125 \r\nQ 64.453125 1.8125 69.375 4.203125 \r\nQ 74.3125 6.59375 74.3125 10.5 \r\nQ 74.3125 14.359375 69.421875 16.765625 \r\nQ 64.546875 19.1875 54.890625 19.1875 \r\nz\r\n\" id=\"MalgunGothicBold-45397\"/>\r\n    </defs>\r\n    <g transform=\"translate(349.937261 489.555189)scale(0.11 -0.11)\">\r\n     <use xlink:href=\"#MalgunGothicBold-52285\"/>\r\n     <use x=\"100\" xlink:href=\"#MalgunGothicBold-45397\"/>\r\n    </g>\r\n   </g>\r\n   <g id=\"text_183\">\r\n    <!-- 밀양 -->\r\n    <defs>\r\n     <path d=\"M 73.875 38.09375 \r\nL 73.875 85.40625 \r\nL 85.890625 85.40625 \r\nL 85.890625 38.09375 \r\nz\r\nM 12.40625 41.890625 \r\nL 12.40625 82.421875 \r\nL 57.515625 82.421875 \r\nL 57.515625 41.890625 \r\nz\r\nM 45.515625 72.125 \r\nL 24.421875 72.125 \r\nL 24.421875 52.203125 \r\nL 45.515625 52.203125 \r\nz\r\nM 25 -7.28125 \r\nL 25 18.40625 \r\nL 73.875 18.40625 \r\nL 73.875 24.125 \r\nL 25 24.125 \r\nL 25 34.421875 \r\nL 85.890625 34.421875 \r\nL 85.890625 8.984375 \r\nL 37.109375 8.984375 \r\nL 37.109375 2.984375 \r\nL 88.28125 2.984375 \r\nL 88.28125 -7.28125 \r\nz\r\n\" id=\"MalgunGothicBold-48128\"/>\r\n    </defs>\r\n    <g transform=\"translate(393.340606 489.555189)scale(0.11 -0.11)\">\r\n     <use xlink:href=\"#MalgunGothicBold-48128\"/>\r\n     <use x=\"100\" xlink:href=\"#MalgunGothicBold-50577\"/>\r\n    </g>\r\n   </g>\r\n   <g id=\"text_184\">\r\n    <!-- 부산 -->\r\n    <g transform=\"translate(436.743951 483.244111)scale(0.11 -0.11)\">\r\n     <use xlink:href=\"#MalgunGothicBold-48512\"/>\r\n     <use x=\"100\" xlink:href=\"#MalgunGothicBold-49328\"/>\r\n    </g>\r\n    <!-- 북구 -->\r\n    <g transform=\"translate(436.743951 495.866267)scale(0.11 -0.11)\">\r\n     <use xlink:href=\"#MalgunGothicBold-48513\"/>\r\n     <use x=\"100\" xlink:href=\"#MalgunGothicBold-44396\"/>\r\n    </g>\r\n   </g>\r\n   <g id=\"text_185\">\r\n    <!-- 부산 -->\r\n    <g transform=\"translate(481.647296 482.630716)scale(0.095 -0.095)\">\r\n     <use xlink:href=\"#MalgunGothicBold-48512\"/>\r\n     <use x=\"100\" xlink:href=\"#MalgunGothicBold-49328\"/>\r\n    </g>\r\n    <!-- 부산진 -->\r\n    <g transform=\"translate(476.897296 495.695443)scale(0.095 -0.095)\">\r\n     <use xlink:href=\"#MalgunGothicBold-48512\"/>\r\n     <use x=\"100\" xlink:href=\"#MalgunGothicBold-49328\"/>\r\n     <use x=\"200\" xlink:href=\"#MalgunGothicBold-51652\"/>\r\n    </g>\r\n   </g>\r\n   <g id=\"text_186\">\r\n    <!-- 부산 -->\r\n    <g transform=\"translate(523.550641 483.244111)scale(0.11 -0.11)\">\r\n     <use xlink:href=\"#MalgunGothicBold-48512\"/>\r\n     <use x=\"100\" xlink:href=\"#MalgunGothicBold-49328\"/>\r\n    </g>\r\n    <!-- 연제 -->\r\n    <g transform=\"translate(523.550641 495.866267)scale(0.11 -0.11)\">\r\n     <use xlink:href=\"#MalgunGothicBold-50672\"/>\r\n     <use x=\"100\" xlink:href=\"#MalgunGothicBold-51228\"/>\r\n    </g>\r\n   </g>\r\n   <g id=\"text_187\">\r\n    <!-- 부산 -->\r\n    <g transform=\"translate(568.453986 482.630716)scale(0.095 -0.095)\">\r\n     <use xlink:href=\"#MalgunGothicBold-48512\"/>\r\n     <use x=\"100\" xlink:href=\"#MalgunGothicBold-49328\"/>\r\n    </g>\r\n    <!-- 해운대 -->\r\n    <defs>\r\n     <path d=\"M 50 44.390625 \r\nQ 35.0625 44.390625 26.640625 49.609375 \r\nQ 18.21875 54.828125 18.21875 63.625 \r\nQ 18.21875 72.359375 26.8125 77.78125 \r\nQ 35.40625 83.203125 50 83.203125 \r\nQ 64.59375 83.203125 73.1875 77.78125 \r\nQ 81.78125 72.359375 81.78125 63.625 \r\nQ 81.78125 54.890625 73.28125 49.640625 \r\nQ 64.796875 44.390625 50 44.390625 \r\nz\r\nM 50 73.1875 \r\nQ 40.578125 73.1875 35.640625 70.546875 \r\nQ 30.71875 67.921875 30.71875 63.625 \r\nQ 30.71875 59.328125 35.6875 56.859375 \r\nQ 40.671875 54.390625 50 54.390625 \r\nQ 59.328125 54.390625 64.296875 56.859375 \r\nQ 69.28125 59.328125 69.28125 63.625 \r\nQ 69.28125 67.921875 64.34375 70.546875 \r\nQ 59.421875 73.1875 50 73.1875 \r\nz\r\nM 56.109375 27.484375 \r\nL 56.109375 12.015625 \r\nL 43.796875 12.015625 \r\nL 43.796875 27.484375 \r\nL 6.296875 27.484375 \r\nL 6.296875 37.796875 \r\nL 93.703125 37.796875 \r\nL 93.703125 27.484375 \r\nz\r\nM 19.09375 -4.78125 \r\nL 19.09375 21.578125 \r\nL 31.390625 21.578125 \r\nL 31.390625 5.515625 \r\nL 82.078125 5.515625 \r\nL 82.078125 -4.78125 \r\nz\r\n\" id=\"MalgunGothicBold-50868\"/>\r\n    </defs>\r\n    <g transform=\"translate(563.703986 495.695443)scale(0.095 -0.095)\">\r\n     <use xlink:href=\"#MalgunGothicBold-54644\"/>\r\n     <use x=\"100\" xlink:href=\"#MalgunGothicBold-50868\"/>\r\n     <use x=\"200\" xlink:href=\"#MalgunGothicBold-45824\"/>\r\n    </g>\r\n   </g>\r\n   <g id=\"text_188\">\r\n    <!-- 고창 -->\r\n    <g transform=\"translate(89.517192 516.492252)scale(0.11 -0.11)\">\r\n     <use xlink:href=\"#MalgunGothicBold-44256\"/>\r\n     <use x=\"100\" xlink:href=\"#MalgunGothicBold-52285\"/>\r\n    </g>\r\n   </g>\r\n   <g id=\"text_189\">\r\n    <!-- 정읍 -->\r\n    <defs>\r\n     <path d=\"M 50 48 \r\nQ 34.765625 48 26.484375 52.8125 \r\nQ 18.21875 57.625 18.21875 66.015625 \r\nQ 18.21875 74.46875 26.46875 79.171875 \r\nQ 34.71875 83.890625 50 83.890625 \r\nQ 65.28125 83.890625 73.53125 79.171875 \r\nQ 81.78125 74.46875 81.78125 66.015625 \r\nQ 81.78125 57.625 73.5 52.8125 \r\nQ 65.234375 48 50 48 \r\nz\r\nM 50 74.515625 \r\nQ 40.53125 74.515625 35.625 72.234375 \r\nQ 30.71875 69.96875 30.71875 66.015625 \r\nQ 30.71875 62.015625 35.734375 59.765625 \r\nQ 40.765625 57.515625 50 57.515625 \r\nQ 69.28125 57.515625 69.28125 66.015625 \r\nQ 69.28125 69.96875 64.421875 72.234375 \r\nQ 59.578125 74.515625 50 74.515625 \r\nz\r\nM 6.296875 32.625 \r\nL 6.296875 42.921875 \r\nL 93.703125 42.921875 \r\nL 93.703125 32.625 \r\nz\r\nM 19.09375 -6.78125 \r\nL 19.09375 28.328125 \r\nL 31.296875 28.328125 \r\nL 31.296875 20.015625 \r\nL 68.703125 20.015625 \r\nL 68.703125 28.328125 \r\nL 80.90625 28.328125 \r\nL 80.90625 -6.78125 \r\nz\r\nM 68.703125 9.8125 \r\nL 31.296875 9.8125 \r\nL 31.296875 3.421875 \r\nL 68.703125 3.421875 \r\nz\r\n\" id=\"MalgunGothicBold-51021\"/>\r\n    </defs>\r\n    <g transform=\"translate(132.920536 516.492252)scale(0.11 -0.11)\">\r\n     <use xlink:href=\"#MalgunGothicBold-51221\"/>\r\n     <use x=\"100\" xlink:href=\"#MalgunGothicBold-51021\"/>\r\n    </g>\r\n   </g>\r\n   <g id=\"text_190\">\r\n    <!-- 전주 -->\r\n    <g transform=\"translate(176.323881 510.181174)scale(0.11 -0.11)\">\r\n     <use xlink:href=\"#MalgunGothicBold-51204\"/>\r\n     <use x=\"100\" xlink:href=\"#MalgunGothicBold-51452\"/>\r\n    </g>\r\n    <!-- 덕진 -->\r\n    <g transform=\"translate(176.323881 522.80333)scale(0.11 -0.11)\">\r\n     <use xlink:href=\"#MalgunGothicBold-45909\"/>\r\n     <use x=\"100\" xlink:href=\"#MalgunGothicBold-51652\"/>\r\n    </g>\r\n   </g>\r\n   <g id=\"text_191\">\r\n    <!-- 진안 -->\r\n    <g transform=\"translate(219.727226 516.492252)scale(0.11 -0.11)\">\r\n     <use xlink:href=\"#MalgunGothicBold-51652\"/>\r\n     <use x=\"100\" xlink:href=\"#MalgunGothicBold-50504\"/>\r\n    </g>\r\n   </g>\r\n   <g id=\"text_192\">\r\n    <!-- 남원 -->\r\n    <g transform=\"translate(263.130571 516.492252)scale(0.11 -0.11)\">\r\n     <use xlink:href=\"#MalgunGothicBold-45224\"/>\r\n     <use x=\"100\" xlink:href=\"#MalgunGothicBold-50896\"/>\r\n    </g>\r\n   </g>\r\n   <g id=\"text_193\">\r\n    <!-- 진주 -->\r\n    <g transform=\"translate(306.533916 516.492252)scale(0.11 -0.11)\">\r\n     <use xlink:href=\"#MalgunGothicBold-51652\"/>\r\n     <use x=\"100\" xlink:href=\"#MalgunGothicBold-51452\"/>\r\n    </g>\r\n   </g>\r\n   <g id=\"text_194\">\r\n    <!-- 의령 -->\r\n    <g transform=\"translate(349.937261 516.492252)scale(0.11 -0.11)\">\r\n     <use xlink:href=\"#MalgunGothicBold-51032\"/>\r\n     <use x=\"100\" xlink:href=\"#MalgunGothicBold-47161\"/>\r\n    </g>\r\n   </g>\r\n   <g id=\"text_195\">\r\n    <!-- 부산 -->\r\n    <g transform=\"translate(393.340606 510.181174)scale(0.11 -0.11)\">\r\n     <use xlink:href=\"#MalgunGothicBold-48512\"/>\r\n     <use x=\"100\" xlink:href=\"#MalgunGothicBold-49328\"/>\r\n    </g>\r\n    <!-- 강서 -->\r\n    <g transform=\"translate(393.340606 522.80333)scale(0.11 -0.11)\">\r\n     <use xlink:href=\"#MalgunGothicBold-44053\"/>\r\n     <use x=\"100\" xlink:href=\"#MalgunGothicBold-49436\"/>\r\n    </g>\r\n   </g>\r\n   <g id=\"text_196\">\r\n    <!-- 부산 -->\r\n    <g transform=\"translate(436.743951 510.181174)scale(0.11 -0.11)\">\r\n     <use xlink:href=\"#MalgunGothicBold-48512\"/>\r\n     <use x=\"100\" xlink:href=\"#MalgunGothicBold-49328\"/>\r\n    </g>\r\n    <!-- 사상 -->\r\n    <defs>\r\n     <path d=\"M 82.171875 38.921875 \r\nL 82.171875 -8.796875 \r\nL 70.015625 -8.796875 \r\nL 70.015625 85.40625 \r\nL 82.171875 85.40625 \r\nL 82.171875 49.21875 \r\nL 96.921875 49.21875 \r\nL 96.921875 38.921875 \r\nz\r\nM 56.390625 14.59375 \r\nQ 41.40625 24.90625 34.8125 37.796875 \r\nQ 27.25 22.953125 13.09375 12.984375 \r\nL 3.609375 21.1875 \r\nQ 14.453125 26.765625 21.578125 37.84375 \r\nQ 28.71875 48.921875 28.71875 60.59375 \r\nL 28.71875 79.109375 \r\nL 40.921875 79.109375 \r\nL 40.921875 60.890625 \r\nQ 40.921875 49.421875 47.953125 38.765625 \r\nQ 54.984375 28.125 64.984375 23.875 \r\nz\r\n\" id=\"MalgunGothicBold-49324\"/>\r\n    </defs>\r\n    <g transform=\"translate(436.743951 522.80333)scale(0.11 -0.11)\">\r\n     <use xlink:href=\"#MalgunGothicBold-49324\"/>\r\n     <use x=\"100\" xlink:href=\"#MalgunGothicBold-49345\"/>\r\n    </g>\r\n   </g>\r\n   <g id=\"text_197\">\r\n    <!-- 부산 -->\r\n    <g transform=\"translate(480.147296 510.181174)scale(0.11 -0.11)\">\r\n     <use xlink:href=\"#MalgunGothicBold-48512\"/>\r\n     <use x=\"100\" xlink:href=\"#MalgunGothicBold-49328\"/>\r\n    </g>\r\n    <!-- 동구 -->\r\n    <g transform=\"translate(480.147296 522.80333)scale(0.11 -0.11)\">\r\n     <use xlink:href=\"#MalgunGothicBold-46041\"/>\r\n     <use x=\"100\" xlink:href=\"#MalgunGothicBold-44396\"/>\r\n    </g>\r\n   </g>\r\n   <g id=\"text_198\">\r\n    <!-- 부산 -->\r\n    <g transform=\"translate(523.550641 510.181174)scale(0.11 -0.11)\">\r\n     <use xlink:href=\"#MalgunGothicBold-48512\"/>\r\n     <use x=\"100\" xlink:href=\"#MalgunGothicBold-49328\"/>\r\n    </g>\r\n    <!-- 중구 -->\r\n    <g transform=\"translate(523.550641 522.80333)scale(0.11 -0.11)\">\r\n     <use xlink:href=\"#MalgunGothicBold-51473\"/>\r\n     <use x=\"100\" xlink:href=\"#MalgunGothicBold-44396\"/>\r\n    </g>\r\n   </g>\r\n   <g id=\"text_199\">\r\n    <!-- 영광 -->\r\n    <g transform=\"translate(89.517192 543.429315)scale(0.11 -0.11)\">\r\n     <use xlink:href=\"#MalgunGothicBold-50689\"/>\r\n     <use x=\"100\" xlink:href=\"#MalgunGothicBold-44305\"/>\r\n    </g>\r\n   </g>\r\n   <g id=\"text_200\">\r\n    <!-- 장성 -->\r\n    <g transform=\"translate(132.920536 543.429315)scale(0.11 -0.11)\">\r\n     <use xlink:href=\"#MalgunGothicBold-51109\"/>\r\n     <use x=\"100\" xlink:href=\"#MalgunGothicBold-49457\"/>\r\n    </g>\r\n   </g>\r\n   <g id=\"text_201\">\r\n    <!-- 전주 -->\r\n    <g transform=\"translate(176.323881 537.118237)scale(0.11 -0.11)\">\r\n     <use xlink:href=\"#MalgunGothicBold-51204\"/>\r\n     <use x=\"100\" xlink:href=\"#MalgunGothicBold-51452\"/>\r\n    </g>\r\n    <!-- 완산 -->\r\n    <g transform=\"translate(176.323881 549.740393)scale(0.11 -0.11)\">\r\n     <use xlink:href=\"#MalgunGothicBold-50756\"/>\r\n     <use x=\"100\" xlink:href=\"#MalgunGothicBold-49328\"/>\r\n    </g>\r\n   </g>\r\n   <g id=\"text_202\">\r\n    <!-- 임실 -->\r\n    <defs>\r\n     <path d=\"M 73.484375 32.078125 \r\nL 73.484375 85.40625 \r\nL 85.5 85.40625 \r\nL 85.5 32.078125 \r\nz\r\nM 35.109375 35.796875 \r\nQ 24.171875 35.796875 17.03125 42.3125 \r\nQ 9.90625 48.828125 9.90625 59.515625 \r\nQ 9.90625 70.015625 17.03125 76.5625 \r\nQ 24.171875 83.109375 35.109375 83.109375 \r\nQ 46.140625 83.109375 53.21875 76.53125 \r\nQ 60.296875 69.96875 60.296875 59.515625 \r\nQ 60.296875 48.921875 53.21875 42.359375 \r\nQ 46.140625 35.796875 35.109375 35.796875 \r\nz\r\nM 35.109375 72.90625 \r\nQ 29.15625 72.90625 25.578125 69.265625 \r\nQ 22.015625 65.625 22.015625 59.515625 \r\nQ 22.015625 53.5625 25.65625 49.78125 \r\nQ 29.296875 46 35.109375 46 \r\nQ 40.96875 46 44.578125 49.75 \r\nQ 48.1875 53.515625 48.1875 59.515625 \r\nQ 48.1875 65.625 44.625 69.265625 \r\nQ 41.0625 72.90625 35.109375 72.90625 \r\nz\r\nM 24.703125 -6.78125 \r\nL 24.703125 28.125 \r\nL 85.5 28.125 \r\nL 85.5 -6.78125 \r\nz\r\nM 73.578125 17.921875 \r\nL 36.71875 17.921875 \r\nL 36.71875 3.421875 \r\nL 73.578125 3.421875 \r\nz\r\n\" id=\"MalgunGothicBold-51076\"/>\r\n     <path d=\"M 73.484375 38.09375 \r\nL 73.484375 85.40625 \r\nL 85.5 85.40625 \r\nL 85.5 38.09375 \r\nz\r\nM 56.6875 39.109375 \r\nQ 41.9375 47.015625 35.59375 56.390625 \r\nQ 32.8125 51.078125 26.609375 45.328125 \r\nQ 20.40625 39.59375 14.109375 36.625 \r\nL 5.90625 45.3125 \r\nQ 17.046875 50.09375 23.171875 57.78125 \r\nQ 29.296875 65.484375 29.296875 74.515625 \r\nL 29.296875 83.40625 \r\nL 41.21875 83.40625 \r\nL 41.21875 74.515625 \r\nQ 41.21875 66.0625 47.734375 58.828125 \r\nQ 54.25 51.609375 64.015625 48.6875 \r\nz\r\nM 24.609375 -7.28125 \r\nL 24.609375 18.40625 \r\nL 73.484375 18.40625 \r\nL 73.484375 24.125 \r\nL 24.609375 24.125 \r\nL 24.609375 34.421875 \r\nL 85.5 34.421875 \r\nL 85.5 8.984375 \r\nL 36.71875 8.984375 \r\nL 36.71875 2.984375 \r\nL 87.890625 2.984375 \r\nL 87.890625 -7.28125 \r\nz\r\n\" id=\"MalgunGothicBold-49892\"/>\r\n    </defs>\r\n    <g transform=\"translate(219.727226 543.429315)scale(0.11 -0.11)\">\r\n     <use xlink:href=\"#MalgunGothicBold-51076\"/>\r\n     <use x=\"100\" xlink:href=\"#MalgunGothicBold-49892\"/>\r\n    </g>\r\n   </g>\r\n   <g id=\"text_203\">\r\n    <!-- 산청 -->\r\n    <g transform=\"translate(263.130571 543.429315)scale(0.11 -0.11)\">\r\n     <use xlink:href=\"#MalgunGothicBold-49328\"/>\r\n     <use x=\"100\" xlink:href=\"#MalgunGothicBold-52397\"/>\r\n    </g>\r\n   </g>\r\n   <g id=\"text_204\">\r\n    <!-- 함안 -->\r\n    <g transform=\"translate(306.533916 543.429315)scale(0.11 -0.11)\">\r\n     <use xlink:href=\"#MalgunGothicBold-54632\"/>\r\n     <use x=\"100\" xlink:href=\"#MalgunGothicBold-50504\"/>\r\n    </g>\r\n   </g>\r\n   <g id=\"text_205\">\r\n    <!-- 양산 -->\r\n    <g transform=\"translate(349.937261 543.429315)scale(0.11 -0.11)\">\r\n     <use xlink:href=\"#MalgunGothicBold-50577\"/>\r\n     <use x=\"100\" xlink:href=\"#MalgunGothicBold-49328\"/>\r\n    </g>\r\n   </g>\r\n   <g id=\"text_206\">\r\n    <!-- 창원 -->\r\n    <g transform=\"translate(393.340606 537.118237)scale(0.11 -0.11)\">\r\n     <use xlink:href=\"#MalgunGothicBold-52285\"/>\r\n     <use x=\"100\" xlink:href=\"#MalgunGothicBold-50896\"/>\r\n    </g>\r\n    <!-- 합포 -->\r\n    <g transform=\"translate(393.340606 549.740393)scale(0.11 -0.11)\">\r\n     <use xlink:href=\"#MalgunGothicBold-54633\"/>\r\n     <use x=\"100\" xlink:href=\"#MalgunGothicBold-54252\"/>\r\n    </g>\r\n   </g>\r\n   <g id=\"text_207\">\r\n    <!-- 부산 -->\r\n    <g transform=\"translate(436.743951 537.118237)scale(0.11 -0.11)\">\r\n     <use xlink:href=\"#MalgunGothicBold-48512\"/>\r\n     <use x=\"100\" xlink:href=\"#MalgunGothicBold-49328\"/>\r\n    </g>\r\n    <!-- 서구 -->\r\n    <g transform=\"translate(436.743951 549.740393)scale(0.11 -0.11)\">\r\n     <use xlink:href=\"#MalgunGothicBold-49436\"/>\r\n     <use x=\"100\" xlink:href=\"#MalgunGothicBold-44396\"/>\r\n    </g>\r\n   </g>\r\n   <g id=\"text_208\">\r\n    <!-- 부산 -->\r\n    <g transform=\"translate(480.147296 537.118237)scale(0.11 -0.11)\">\r\n     <use xlink:href=\"#MalgunGothicBold-48512\"/>\r\n     <use x=\"100\" xlink:href=\"#MalgunGothicBold-49328\"/>\r\n    </g>\r\n    <!-- 사하 -->\r\n    <g transform=\"translate(480.147296 549.740393)scale(0.11 -0.11)\">\r\n     <use xlink:href=\"#MalgunGothicBold-49324\"/>\r\n     <use x=\"100\" xlink:href=\"#MalgunGothicBold-54616\"/>\r\n    </g>\r\n   </g>\r\n   <g id=\"text_209\">\r\n    <!-- 부산 -->\r\n    <g transform=\"translate(523.550641 537.118237)scale(0.11 -0.11)\">\r\n     <use xlink:href=\"#MalgunGothicBold-48512\"/>\r\n     <use x=\"100\" xlink:href=\"#MalgunGothicBold-49328\"/>\r\n    </g>\r\n    <!-- 남구 -->\r\n    <g transform=\"translate(523.550641 549.740393)scale(0.11 -0.11)\">\r\n     <use xlink:href=\"#MalgunGothicBold-45224\"/>\r\n     <use x=\"100\" xlink:href=\"#MalgunGothicBold-44396\"/>\r\n    </g>\r\n   </g>\r\n   <g id=\"text_210\">\r\n    <!-- 함평 -->\r\n    <g transform=\"translate(89.517192 570.366378)scale(0.11 -0.11)\">\r\n     <use xlink:href=\"#MalgunGothicBold-54632\"/>\r\n     <use x=\"100\" xlink:href=\"#MalgunGothicBold-54217\"/>\r\n    </g>\r\n   </g>\r\n   <g id=\"text_211\">\r\n    <!-- 담양 -->\r\n    <defs>\r\n     <path d=\"M 82.171875 52 \r\nL 82.171875 32.625 \r\nL 69.921875 32.625 \r\nL 69.921875 85.40625 \r\nL 82.171875 85.40625 \r\nL 82.171875 62.3125 \r\nL 96.484375 62.3125 \r\nL 96.484375 52 \r\nz\r\nM 60.796875 41.609375 \r\nQ 43.703125 40.375 10.5 40.375 \r\nL 10.5 81.390625 \r\nL 56.5 81.390625 \r\nL 56.5 71 \r\nL 22.703125 71 \r\nL 22.703125 50.6875 \r\nQ 46.6875 50.6875 60.015625 51.90625 \r\nz\r\nM 23 -6.78125 \r\nL 23 28.609375 \r\nL 82.171875 28.609375 \r\nL 82.171875 -6.78125 \r\nz\r\nM 70.015625 18.3125 \r\nL 35.203125 18.3125 \r\nL 35.203125 3.421875 \r\nL 70.015625 3.421875 \r\nz\r\n\" id=\"MalgunGothicBold-45812\"/>\r\n    </defs>\r\n    <g transform=\"translate(132.920536 570.366378)scale(0.11 -0.11)\">\r\n     <use xlink:href=\"#MalgunGothicBold-45812\"/>\r\n     <use x=\"100\" xlink:href=\"#MalgunGothicBold-50577\"/>\r\n    </g>\r\n   </g>\r\n   <g id=\"text_212\">\r\n    <!-- 순창 -->\r\n    <defs>\r\n     <path d=\"M 84.421875 48.1875 \r\nQ 74.859375 49.46875 65.28125 54.375 \r\nQ 55.71875 59.28125 50 65.484375 \r\nQ 45.015625 59.375 35.71875 54.65625 \r\nQ 26.421875 49.953125 16.109375 48.390625 \r\nL 9.625 57.8125 \r\nQ 24.8125 58.59375 34.34375 65.40625 \r\nQ 43.890625 72.21875 43.890625 78.328125 \r\nL 43.890625 83.796875 \r\nL 56 83.796875 \r\nL 56 78.328125 \r\nQ 56 72.40625 65.640625 65.59375 \r\nQ 75.296875 58.796875 90.1875 57.625 \r\nz\r\nM 57.078125 30.21875 \r\nL 57.078125 12.5 \r\nL 44.828125 12.5 \r\nL 44.828125 30.21875 \r\nL 6.296875 30.21875 \r\nL 6.296875 40.484375 \r\nL 93.703125 40.484375 \r\nL 93.703125 30.21875 \r\nz\r\nM 19.09375 -4.78125 \r\nL 19.09375 23 \r\nL 31.390625 23 \r\nL 31.390625 5.515625 \r\nL 82.078125 5.515625 \r\nL 82.078125 -4.78125 \r\nz\r\n\" id=\"MalgunGothicBold-49692\"/>\r\n    </defs>\r\n    <g transform=\"translate(176.323881 570.366378)scale(0.11 -0.11)\">\r\n     <use xlink:href=\"#MalgunGothicBold-49692\"/>\r\n     <use x=\"100\" xlink:href=\"#MalgunGothicBold-52285\"/>\r\n    </g>\r\n   </g>\r\n   <g id=\"text_213\">\r\n    <!-- 구례 -->\r\n    <defs>\r\n     <path d=\"M 76.609375 -8.796875 \r\nL 76.609375 85.40625 \r\nL 88.71875 85.40625 \r\nL 88.71875 -8.796875 \r\nz\r\nM 46.6875 30.21875 \r\nL 46.6875 40.28125 \r\nL 58.296875 40.28125 \r\nL 58.296875 55.21875 \r\nL 46.578125 55.21875 \r\nL 46.578125 65.375 \r\nL 58.296875 65.375 \r\nL 58.296875 83.5 \r\nL 70.3125 83.5 \r\nL 70.3125 -6 \r\nL 58.296875 -6 \r\nL 58.296875 30.21875 \r\nz\r\nM 49.90625 14.5 \r\nQ 39.984375 12.703125 10.015625 12.703125 \r\nL 10.015625 52.09375 \r\nL 31.203125 52.09375 \r\nL 31.203125 69.1875 \r\nL 10.015625 69.1875 \r\nL 10.015625 79.390625 \r\nL 43.40625 79.390625 \r\nL 43.40625 42.28125 \r\nL 22.125 42.28125 \r\nL 22.125 22.90625 \r\nQ 39.984375 22.90625 48.6875 24.421875 \r\nz\r\n\" id=\"MalgunGothicBold-47168\"/>\r\n    </defs>\r\n    <g transform=\"translate(219.727226 570.366378)scale(0.11 -0.11)\">\r\n     <use xlink:href=\"#MalgunGothicBold-44396\"/>\r\n     <use x=\"100\" xlink:href=\"#MalgunGothicBold-47168\"/>\r\n    </g>\r\n   </g>\r\n   <g id=\"text_214\">\r\n    <!-- 하동 -->\r\n    <g transform=\"translate(263.130571 570.366378)scale(0.11 -0.11)\">\r\n     <use xlink:href=\"#MalgunGothicBold-54616\"/>\r\n     <use x=\"100\" xlink:href=\"#MalgunGothicBold-46041\"/>\r\n    </g>\r\n   </g>\r\n   <g id=\"text_215\">\r\n    <!-- 창원 -->\r\n    <g transform=\"translate(306.533916 564.0553)scale(0.11 -0.11)\">\r\n     <use xlink:href=\"#MalgunGothicBold-52285\"/>\r\n     <use x=\"100\" xlink:href=\"#MalgunGothicBold-50896\"/>\r\n    </g>\r\n    <!-- 의창 -->\r\n    <g transform=\"translate(306.533916 576.677456)scale(0.11 -0.11)\">\r\n     <use xlink:href=\"#MalgunGothicBold-51032\"/>\r\n     <use x=\"100\" xlink:href=\"#MalgunGothicBold-52285\"/>\r\n    </g>\r\n   </g>\r\n   <g id=\"text_216\">\r\n    <!-- 창원 -->\r\n    <g transform=\"translate(349.937261 564.0553)scale(0.11 -0.11)\">\r\n     <use xlink:href=\"#MalgunGothicBold-52285\"/>\r\n     <use x=\"100\" xlink:href=\"#MalgunGothicBold-50896\"/>\r\n    </g>\r\n    <!-- 성산 -->\r\n    <g transform=\"translate(349.937261 576.677456)scale(0.11 -0.11)\">\r\n     <use xlink:href=\"#MalgunGothicBold-49457\"/>\r\n     <use x=\"100\" xlink:href=\"#MalgunGothicBold-49328\"/>\r\n    </g>\r\n   </g>\r\n   <g id=\"text_217\">\r\n    <!-- 창원 -->\r\n    <g transform=\"translate(393.340606 564.0553)scale(0.11 -0.11)\">\r\n     <use xlink:href=\"#MalgunGothicBold-52285\"/>\r\n     <use x=\"100\" xlink:href=\"#MalgunGothicBold-50896\"/>\r\n    </g>\r\n    <!-- 진해 -->\r\n    <g transform=\"translate(393.340606 576.677456)scale(0.11 -0.11)\">\r\n     <use xlink:href=\"#MalgunGothicBold-51652\"/>\r\n     <use x=\"100\" xlink:href=\"#MalgunGothicBold-54644\"/>\r\n    </g>\r\n   </g>\r\n   <g id=\"text_218\">\r\n    <!-- 김해 -->\r\n    <g transform=\"translate(436.743951 570.366378)scale(0.11 -0.11)\">\r\n     <use xlink:href=\"#MalgunGothicBold-44608\"/>\r\n     <use x=\"100\" xlink:href=\"#MalgunGothicBold-54644\"/>\r\n    </g>\r\n   </g>\r\n   <g id=\"text_219\">\r\n    <!-- 부산 -->\r\n    <g transform=\"translate(480.147296 564.0553)scale(0.11 -0.11)\">\r\n     <use xlink:href=\"#MalgunGothicBold-48512\"/>\r\n     <use x=\"100\" xlink:href=\"#MalgunGothicBold-49328\"/>\r\n    </g>\r\n    <!-- 영도 -->\r\n    <g transform=\"translate(480.147296 576.677456)scale(0.11 -0.11)\">\r\n     <use xlink:href=\"#MalgunGothicBold-50689\"/>\r\n     <use x=\"100\" xlink:href=\"#MalgunGothicBold-46020\"/>\r\n    </g>\r\n   </g>\r\n   <g id=\"text_220\">\r\n    <!-- 부산 -->\r\n    <g transform=\"translate(523.550641 564.0553)scale(0.11 -0.11)\">\r\n     <use xlink:href=\"#MalgunGothicBold-48512\"/>\r\n     <use x=\"100\" xlink:href=\"#MalgunGothicBold-49328\"/>\r\n    </g>\r\n    <!-- 수영 -->\r\n    <g transform=\"translate(523.550641 576.677456)scale(0.11 -0.11)\">\r\n     <use xlink:href=\"#MalgunGothicBold-49688\"/>\r\n     <use x=\"100\" xlink:href=\"#MalgunGothicBold-50689\"/>\r\n    </g>\r\n   </g>\r\n   <g id=\"text_221\">\r\n    <!-- 신안 -->\r\n    <defs>\r\n     <path d=\"M 73.484375 18.015625 \r\nL 73.484375 85.40625 \r\nL 85.5 85.40625 \r\nL 85.5 18.015625 \r\nz\r\nM 57.625 30.515625 \r\nQ 44.046875 36.96875 36.078125 49.421875 \r\nQ 33.796875 44.484375 27.03125 37.46875 \r\nQ 20.265625 30.46875 15.09375 27.6875 \r\nL 6.203125 36.53125 \r\nQ 16.5 41.015625 23.09375 49.828125 \r\nQ 29.6875 58.640625 29.6875 67.71875 \r\nL 29.6875 81.390625 \r\nL 42 81.390625 \r\nL 42 68.109375 \r\nQ 42 59.03125 48.796875 51.046875 \r\nQ 55.609375 43.0625 65.375 40.28125 \r\nz\r\nM 24.703125 -5.515625 \r\nL 24.703125 26.609375 \r\nL 37.015625 26.609375 \r\nL 37.015625 4.78125 \r\nL 87.3125 4.78125 \r\nL 87.3125 -5.515625 \r\nz\r\n\" id=\"MalgunGothicBold-49888\"/>\r\n    </defs>\r\n    <g transform=\"translate(46.113847 597.303441)scale(0.11 -0.11)\">\r\n     <use xlink:href=\"#MalgunGothicBold-49888\"/>\r\n     <use x=\"100\" xlink:href=\"#MalgunGothicBold-50504\"/>\r\n    </g>\r\n   </g>\r\n   <g id=\"text_222\">\r\n    <!-- 무안 -->\r\n    <g transform=\"translate(89.517192 597.303441)scale(0.11 -0.11)\">\r\n     <use xlink:href=\"#MalgunGothicBold-47924\"/>\r\n     <use x=\"100\" xlink:href=\"#MalgunGothicBold-50504\"/>\r\n    </g>\r\n   </g>\r\n   <g id=\"text_223\">\r\n    <!-- 광주 -->\r\n    <g transform=\"translate(132.920536 590.992363)scale(0.11 -0.11)\">\r\n     <use xlink:href=\"#MalgunGothicBold-44305\"/>\r\n     <use x=\"100\" xlink:href=\"#MalgunGothicBold-51452\"/>\r\n    </g>\r\n    <!-- 광산 -->\r\n    <g transform=\"translate(132.920536 603.614519)scale(0.11 -0.11)\">\r\n     <use xlink:href=\"#MalgunGothicBold-44305\"/>\r\n     <use x=\"100\" xlink:href=\"#MalgunGothicBold-49328\"/>\r\n    </g>\r\n   </g>\r\n   <g id=\"text_224\">\r\n    <!-- 곡성 -->\r\n    <g transform=\"translate(176.323881 597.303441)scale(0.11 -0.11)\">\r\n     <use xlink:href=\"#MalgunGothicBold-44257\"/>\r\n     <use x=\"100\" xlink:href=\"#MalgunGothicBold-49457\"/>\r\n    </g>\r\n   </g>\r\n   <g id=\"text_225\">\r\n    <!-- 화순 -->\r\n    <g transform=\"translate(219.727226 597.303441)scale(0.11 -0.11)\">\r\n     <use xlink:href=\"#MalgunGothicBold-54868\"/>\r\n     <use x=\"100\" xlink:href=\"#MalgunGothicBold-49692\"/>\r\n    </g>\r\n   </g>\r\n   <g id=\"text_226\">\r\n    <!-- 광양 -->\r\n    <g transform=\"translate(263.130571 597.303441)scale(0.11 -0.11)\">\r\n     <use xlink:href=\"#MalgunGothicBold-44305\"/>\r\n     <use x=\"100\" xlink:href=\"#MalgunGothicBold-50577\"/>\r\n    </g>\r\n   </g>\r\n   <g id=\"text_227\">\r\n    <!-- 사천 -->\r\n    <g transform=\"translate(306.533916 597.303441)scale(0.11 -0.11)\">\r\n     <use xlink:href=\"#MalgunGothicBold-49324\"/>\r\n     <use x=\"100\" xlink:href=\"#MalgunGothicBold-52380\"/>\r\n    </g>\r\n   </g>\r\n   <g id=\"text_228\">\r\n    <!-- 창원 -->\r\n    <g transform=\"translate(349.937261 590.992363)scale(0.11 -0.11)\">\r\n     <use xlink:href=\"#MalgunGothicBold-52285\"/>\r\n     <use x=\"100\" xlink:href=\"#MalgunGothicBold-50896\"/>\r\n    </g>\r\n    <!-- 회원 -->\r\n    <defs>\r\n     <path d=\"M 8.40625 64.984375 \r\nL 8.40625 75.296875 \r\nL 31.59375 75.296875 \r\nL 31.59375 86.078125 \r\nL 43.890625 86.078125 \r\nL 43.890625 75.296875 \r\nL 67.09375 75.296875 \r\nL 67.09375 64.984375 \r\nz\r\nM 75.296875 -8.796875 \r\nL 75.296875 85.40625 \r\nL 87.59375 85.40625 \r\nL 87.59375 -8.796875 \r\nz\r\nM 72.015625 6.296875 \r\nQ 45.796875 4.78125 4.59375 4.78125 \r\nL 3.421875 14.984375 \r\nL 31.59375 15.1875 \r\nL 31.59375 25 \r\nQ 22.953125 26.46875 18.109375 31.328125 \r\nQ 13.28125 36.1875 13.28125 43.109375 \r\nQ 13.28125 51.3125 19.984375 56.515625 \r\nQ 26.703125 61.71875 37.796875 61.71875 \r\nQ 49.171875 61.71875 55.640625 56.703125 \r\nQ 62.109375 51.703125 62.109375 43.5 \r\nQ 62.109375 36.71875 57.34375 31.65625 \r\nQ 52.59375 26.609375 43.890625 25.09375 \r\nL 43.890625 15.484375 \r\nQ 65.234375 15.96875 71.1875 16.5 \r\nz\r\nM 37.796875 51.609375 \r\nQ 32.28125 51.609375 28.9375 49.109375 \r\nQ 25.59375 46.625 25.59375 43.015625 \r\nQ 25.59375 39.40625 28.859375 37.015625 \r\nQ 32.125 34.625 37.796875 34.625 \r\nQ 43.453125 34.625 46.671875 36.96875 \r\nQ 49.90625 39.3125 49.90625 43.015625 \r\nQ 49.90625 46.828125 46.703125 49.21875 \r\nQ 43.5 51.609375 37.796875 51.609375 \r\nz\r\n\" id=\"MalgunGothicBold-54924\"/>\r\n    </defs>\r\n    <g transform=\"translate(349.937261 603.614519)scale(0.11 -0.11)\">\r\n     <use xlink:href=\"#MalgunGothicBold-54924\"/>\r\n     <use x=\"100\" xlink:href=\"#MalgunGothicBold-50896\"/>\r\n    </g>\r\n   </g>\r\n   <g id=\"text_229\">\r\n    <!-- 통영 -->\r\n    <g transform=\"translate(393.340606 597.303441)scale(0.11 -0.11)\">\r\n     <use xlink:href=\"#MalgunGothicBold-53685\"/>\r\n     <use x=\"100\" xlink:href=\"#MalgunGothicBold-50689\"/>\r\n    </g>\r\n   </g>\r\n   <g id=\"text_230\">\r\n    <!-- 목포 -->\r\n    <defs>\r\n     <path d=\"M 6.296875 31.296875 \r\nL 6.296875 41.609375 \r\nL 43.796875 41.609375 \r\nL 43.796875 49.90625 \r\nL 19.484375 49.90625 \r\nL 19.484375 83.203125 \r\nL 80.515625 83.203125 \r\nL 80.515625 49.90625 \r\nL 56.109375 49.90625 \r\nL 56.109375 41.609375 \r\nL 93.703125 41.609375 \r\nL 93.703125 31.296875 \r\nz\r\nM 68.3125 73 \r\nL 31.6875 73 \r\nL 31.6875 60.109375 \r\nL 68.3125 60.109375 \r\nz\r\nM 68.609375 -8.796875 \r\nL 68.609375 14.40625 \r\nL 17.921875 14.40625 \r\nL 17.921875 24.703125 \r\nL 80.90625 24.703125 \r\nL 80.90625 -8.796875 \r\nz\r\n\" id=\"MalgunGothicBold-47785\"/>\r\n    </defs>\r\n    <g transform=\"translate(46.113847 624.240504)scale(0.11 -0.11)\">\r\n     <use xlink:href=\"#MalgunGothicBold-47785\"/>\r\n     <use x=\"100\" xlink:href=\"#MalgunGothicBold-54252\"/>\r\n    </g>\r\n   </g>\r\n   <g id=\"text_231\">\r\n    <!-- 나주 -->\r\n    <defs>\r\n     <path d=\"M 80.71875 39.109375 \r\nL 80.71875 -8.796875 \r\nL 68.5 -8.796875 \r\nL 68.5 85.40625 \r\nL 80.71875 85.40625 \r\nL 80.71875 49.421875 \r\nL 95.90625 49.421875 \r\nL 95.90625 39.109375 \r\nz\r\nM 64.5 20.703125 \r\nQ 55.03125 18.40625 27.875 18.40625 \r\nL 11.71875 18.40625 \r\nL 11.71875 77.984375 \r\nL 23.875 77.984375 \r\nL 23.875 28.8125 \r\nL 39.109375 28.71875 \r\nQ 53.265625 28.609375 62.984375 30.90625 \r\nz\r\n\" id=\"MalgunGothicBold-45208\"/>\r\n    </defs>\r\n    <g transform=\"translate(89.517192 624.240504)scale(0.11 -0.11)\">\r\n     <use xlink:href=\"#MalgunGothicBold-45208\"/>\r\n     <use x=\"100\" xlink:href=\"#MalgunGothicBold-51452\"/>\r\n    </g>\r\n   </g>\r\n   <g id=\"text_232\">\r\n    <!-- 광주 -->\r\n    <g transform=\"translate(132.920536 617.929426)scale(0.11 -0.11)\">\r\n     <use xlink:href=\"#MalgunGothicBold-44305\"/>\r\n     <use x=\"100\" xlink:href=\"#MalgunGothicBold-51452\"/>\r\n    </g>\r\n    <!-- 서구 -->\r\n    <g transform=\"translate(132.920536 630.551582)scale(0.11 -0.11)\">\r\n     <use xlink:href=\"#MalgunGothicBold-49436\"/>\r\n     <use x=\"100\" xlink:href=\"#MalgunGothicBold-44396\"/>\r\n    </g>\r\n   </g>\r\n   <g id=\"text_233\">\r\n    <!-- 광주 -->\r\n    <g transform=\"translate(176.323881 617.929426)scale(0.11 -0.11)\">\r\n     <use xlink:href=\"#MalgunGothicBold-44305\"/>\r\n     <use x=\"100\" xlink:href=\"#MalgunGothicBold-51452\"/>\r\n    </g>\r\n    <!-- 북구 -->\r\n    <g transform=\"translate(176.323881 630.551582)scale(0.11 -0.11)\">\r\n     <use xlink:href=\"#MalgunGothicBold-48513\"/>\r\n     <use x=\"100\" xlink:href=\"#MalgunGothicBold-44396\"/>\r\n    </g>\r\n   </g>\r\n   <g id=\"text_234\">\r\n    <!-- 순천 -->\r\n    <g transform=\"translate(219.727226 624.240504)scale(0.11 -0.11)\">\r\n     <use xlink:href=\"#MalgunGothicBold-49692\"/>\r\n     <use x=\"100\" xlink:href=\"#MalgunGothicBold-52380\"/>\r\n    </g>\r\n   </g>\r\n   <g id=\"text_235\">\r\n    <!-- 고흥 -->\r\n    <g transform=\"translate(263.130571 624.240504)scale(0.11 -0.11)\">\r\n     <use xlink:href=\"#MalgunGothicBold-44256\"/>\r\n     <use x=\"100\" xlink:href=\"#MalgunGothicBold-55141\"/>\r\n    </g>\r\n   </g>\r\n   <g id=\"text_236\">\r\n    <!-- 남해 -->\r\n    <g transform=\"translate(306.533916 624.240504)scale(0.11 -0.11)\">\r\n     <use xlink:href=\"#MalgunGothicBold-45224\"/>\r\n     <use x=\"100\" xlink:href=\"#MalgunGothicBold-54644\"/>\r\n    </g>\r\n   </g>\r\n   <g id=\"text_237\">\r\n    <!-- 고성 -->\r\n    <g transform=\"translate(349.937261 624.240504)scale(0.11 -0.11)\">\r\n     <use xlink:href=\"#MalgunGothicBold-44256\"/>\r\n     <use x=\"100\" xlink:href=\"#MalgunGothicBold-49457\"/>\r\n    </g>\r\n   </g>\r\n   <g id=\"text_238\">\r\n    <!-- 거제 -->\r\n    <g transform=\"translate(393.340606 624.240504)scale(0.11 -0.11)\">\r\n     <use xlink:href=\"#MalgunGothicBold-44144\"/>\r\n     <use x=\"100\" xlink:href=\"#MalgunGothicBold-51228\"/>\r\n    </g>\r\n   </g>\r\n   <g id=\"text_239\">\r\n    <!-- 해남 -->\r\n    <g transform=\"translate(46.113847 651.177567)scale(0.11 -0.11)\">\r\n     <use xlink:href=\"#MalgunGothicBold-54644\"/>\r\n     <use x=\"100\" xlink:href=\"#MalgunGothicBold-45224\"/>\r\n    </g>\r\n   </g>\r\n   <g id=\"text_240\">\r\n    <!-- 영암 -->\r\n    <defs>\r\n     <path d=\"M 82.171875 52 \r\nL 82.171875 32.078125 \r\nL 69.921875 32.078125 \r\nL 69.921875 85.40625 \r\nL 82.171875 85.40625 \r\nL 82.171875 62.3125 \r\nL 96.484375 62.3125 \r\nL 96.484375 52 \r\nz\r\nM 32.90625 35.5 \r\nQ 21.921875 35.5 14.859375 42.234375 \r\nQ 7.8125 48.96875 7.8125 59.078125 \r\nQ 7.8125 69.28125 14.8125 76 \r\nQ 21.828125 82.71875 32.90625 82.71875 \r\nQ 44 82.71875 51 76 \r\nQ 58.015625 69.28125 58.015625 59.078125 \r\nQ 58.015625 48.96875 50.953125 42.234375 \r\nQ 43.890625 35.5 32.90625 35.5 \r\nz\r\nM 32.90625 72.703125 \r\nQ 26.953125 72.703125 23.53125 68.84375 \r\nQ 20.125 64.984375 20.125 59.078125 \r\nQ 20.125 53.125 23.5625 49.3125 \r\nQ 27 45.515625 32.90625 45.515625 \r\nQ 38.71875 45.515625 42.25 49.3125 \r\nQ 45.796875 53.125 45.796875 59.078125 \r\nQ 45.796875 64.984375 42.28125 68.84375 \r\nQ 38.765625 72.703125 32.90625 72.703125 \r\nz\r\nM 23 -6.78125 \r\nL 23 28.125 \r\nL 82.171875 28.125 \r\nL 82.171875 -6.78125 \r\nz\r\nM 70.015625 17.828125 \r\nL 35.203125 17.828125 \r\nL 35.203125 3.421875 \r\nL 70.015625 3.421875 \r\nz\r\n\" id=\"MalgunGothicBold-50516\"/>\r\n    </defs>\r\n    <g transform=\"translate(89.517192 651.177567)scale(0.11 -0.11)\">\r\n     <use xlink:href=\"#MalgunGothicBold-50689\"/>\r\n     <use x=\"100\" xlink:href=\"#MalgunGothicBold-50516\"/>\r\n    </g>\r\n   </g>\r\n   <g id=\"text_241\">\r\n    <!-- 광주 -->\r\n    <g transform=\"translate(132.920536 644.866489)scale(0.11 -0.11)\">\r\n     <use xlink:href=\"#MalgunGothicBold-44305\"/>\r\n     <use x=\"100\" xlink:href=\"#MalgunGothicBold-51452\"/>\r\n    </g>\r\n    <!-- 남구 -->\r\n    <g transform=\"translate(132.920536 657.488645)scale(0.11 -0.11)\">\r\n     <use xlink:href=\"#MalgunGothicBold-45224\"/>\r\n     <use x=\"100\" xlink:href=\"#MalgunGothicBold-44396\"/>\r\n    </g>\r\n   </g>\r\n   <g id=\"text_242\">\r\n    <!-- 광주 -->\r\n    <g transform=\"translate(176.323881 644.866489)scale(0.11 -0.11)\">\r\n     <use xlink:href=\"#MalgunGothicBold-44305\"/>\r\n     <use x=\"100\" xlink:href=\"#MalgunGothicBold-51452\"/>\r\n    </g>\r\n    <!-- 동구 -->\r\n    <g transform=\"translate(176.323881 657.488645)scale(0.11 -0.11)\">\r\n     <use xlink:href=\"#MalgunGothicBold-46041\"/>\r\n     <use x=\"100\" xlink:href=\"#MalgunGothicBold-44396\"/>\r\n    </g>\r\n   </g>\r\n   <g id=\"text_243\">\r\n    <!-- 여수 -->\r\n    <g transform=\"translate(219.727226 651.177567)scale(0.11 -0.11)\">\r\n     <use xlink:href=\"#MalgunGothicBold-50668\"/>\r\n     <use x=\"100\" xlink:href=\"#MalgunGothicBold-49688\"/>\r\n    </g>\r\n   </g>\r\n   <g id=\"text_244\">\r\n    <!-- 진도 -->\r\n    <g transform=\"translate(46.113847 678.11463)scale(0.11 -0.11)\">\r\n     <use xlink:href=\"#MalgunGothicBold-51652\"/>\r\n     <use x=\"100\" xlink:href=\"#MalgunGothicBold-46020\"/>\r\n    </g>\r\n   </g>\r\n   <g id=\"text_245\">\r\n    <!-- 강진 -->\r\n    <g transform=\"translate(89.517192 678.11463)scale(0.11 -0.11)\">\r\n     <use xlink:href=\"#MalgunGothicBold-44053\"/>\r\n     <use x=\"100\" xlink:href=\"#MalgunGothicBold-51652\"/>\r\n    </g>\r\n   </g>\r\n   <g id=\"text_246\">\r\n    <!-- 장흥 -->\r\n    <g transform=\"translate(132.920536 678.11463)scale(0.11 -0.11)\">\r\n     <use xlink:href=\"#MalgunGothicBold-51109\"/>\r\n     <use x=\"100\" xlink:href=\"#MalgunGothicBold-55141\"/>\r\n    </g>\r\n   </g>\r\n   <g id=\"text_247\">\r\n    <!-- 보성 -->\r\n    <g transform=\"translate(176.323881 678.11463)scale(0.11 -0.11)\">\r\n     <use xlink:href=\"#MalgunGothicBold-48372\"/>\r\n     <use x=\"100\" xlink:href=\"#MalgunGothicBold-49457\"/>\r\n    </g>\r\n   </g>\r\n   <g id=\"text_248\">\r\n    <!-- 완도 -->\r\n    <g transform=\"translate(132.920536 705.051693)scale(0.11 -0.11)\">\r\n     <use xlink:href=\"#MalgunGothicBold-50756\"/>\r\n     <use x=\"100\" xlink:href=\"#MalgunGothicBold-46020\"/>\r\n    </g>\r\n   </g>\r\n   <g id=\"text_249\">\r\n    <!-- 제주 -->\r\n    <g transform=\"translate(263.130571 705.051693)scale(0.11 -0.11)\">\r\n     <use xlink:href=\"#MalgunGothicBold-51228\"/>\r\n     <use x=\"100\" xlink:href=\"#MalgunGothicBold-51452\"/>\r\n    </g>\r\n   </g>\r\n   <g id=\"text_250\">\r\n    <!-- 서귀포 -->\r\n    <defs>\r\n     <path d=\"M 73.875 -8.796875 \r\nL 73.875 85.40625 \r\nL 86.078125 85.40625 \r\nL 86.078125 -8.796875 \r\nz\r\nM 31.59375 -5.078125 \r\nL 31.59375 34.8125 \r\nQ 20.171875 34.515625 6.59375 34.515625 \r\nL 5.421875 44.828125 \r\nQ 19.09375 44.828125 47.3125 45.3125 \r\nQ 48.6875 58.453125 48.6875 71.484375 \r\nL 14.3125 71.484375 \r\nL 14.3125 81.890625 \r\nL 60.796875 81.890625 \r\nQ 60.796875 67.875 58.890625 45.703125 \r\nL 70.609375 46.296875 \r\nL 71.1875 36.078125 \r\nQ 58.453125 35.359375 43.796875 35.109375 \r\nL 43.796875 -5.078125 \r\nz\r\n\" id=\"MalgunGothicBold-44480\"/>\r\n    </defs>\r\n    <g transform=\"translate(259.880571 731.596646)scale(0.095 -0.095)\">\r\n     <use xlink:href=\"#MalgunGothicBold-49436\"/>\r\n     <use x=\"100\" xlink:href=\"#MalgunGothicBold-44480\"/>\r\n     <use x=\"200\" xlink:href=\"#MalgunGothicBold-54252\"/>\r\n    </g>\r\n   </g>\r\n  </g>\r\n </g>\r\n <defs>\r\n  <clipPath id=\"p9936541015\">\r\n   <rect height=\"770.4\" width=\"620.667832\" x=\"7.2\" y=\"7.2\"/>\r\n  </clipPath>\r\n </defs>\r\n</svg>\r\n",
      "image/png": "[encoded data removed]"
     },
     "metadata": {
      "needs_background": "light"
     }
    }
   ],
   "source": [
    "plt.figure(figsize=(9, 11))\n",
    "    \n",
    "#지역이름 표시\n",
    "for idx, row in draw_korea.iterrows():\n",
    "\n",
    "    #광역시는 구이름이 겹치는 경우가 많아서 시단위 이름도 같이 쓴다\n",
    "    #(중구,서구)\n",
    "    if len(row['ID'].split()) == 2:\n",
    "        dispname = '{}\\n{}'.format(row['ID'].split()[0], row['ID'].split()[1])\n",
    "    elif row['ID'][:2] == '고성':\n",
    "        dispname = '고성'\n",
    "    else:\n",
    "        dispname = row['ID']\n",
    "\n",
    "    #서대문구,서귀포시 같은 이름 3자인 경우 작은글자 표시\n",
    "    if len(dispname.splitlines()[-1]) >= 3:\n",
    "        fontsize, linespacing = 9.5, 1.5\n",
    "    else:\n",
    "        fontsize, linespacing = 11, 1.2\n",
    "    \n",
    "   \n",
    "    plt.annotate(dispname, (row['x'] + 0.5, row['y'] + 0.5), weight='bold', \n",
    "                fontsize=fontsize, ha='center', \n",
    "                va='center', linespacing=linespacing)\n",
    "\n",
    "#시도,경계 그린다\n",
    "for path in BORDER_LINES:\n",
    "    ys, xs = zip(*path)\n",
    "    plt.plot(xs, ys, c='black', lw=1.5)\n",
    "\n",
    "plt.gca().invert_yaxis()\n",
    "\n",
    "plt.axis('off')\n",
    "\n",
    "plt.tight_layout()\n",
    "plt.show()"
   ]
  },
  {
   "cell_type": "code",
   "execution_count": 382,
   "metadata": {},
   "outputs": [],
   "source": [
    "#tmp_list = list(set(cf['ID'].unique()) - set(draw_korea['ID'].unique()))\n",
    "\n",
    "#for tmp in tmp_list:\n",
    "    #cf = cf.drop(cf[cf['ID'] == tmp].index)\n",
    "\n",
    "#print(set(cf['ID'].unique()) - set(draw_korea['ID'].unique()))\n",
    "#set()"
   ]
  },
  {
   "cell_type": "code",
   "execution_count": 383,
   "metadata": {},
   "outputs": [
    {
     "output_type": "execute_result",
     "data": {
      "text/plain": [
       "     ID  스타벅스 매장수  커피빈 매장수  이디야 매장수  빽다방 매장수      커피지수     y     x\n",
       "0    강남      87.0     69.0     41.0     12.0  2.943396   NaN   NaN\n",
       "1    강동      14.0      9.0     13.0      6.0  1.210526   NaN   NaN\n",
       "2    강릉       5.0      0.0     14.0      2.0  0.312500   3.0  11.0\n",
       "3    강북       5.0      2.0     11.0      1.0  0.583333   NaN   NaN\n",
       "4    강서      21.0      7.0     49.0      8.0  0.491228   NaN   NaN\n",
       "..   ..       ...      ...      ...      ...       ...   ...   ...\n",
       "189  합천       0.0      0.0      1.0      0.0  0.000000  16.0   7.0\n",
       "190  홍성       0.0      0.0      3.0      2.0  0.000000  12.0   2.0\n",
       "191  화천       0.0      0.0      1.0      0.0  0.000000   0.0   8.0\n",
       "192  횡성       0.0      0.0      1.0      0.0  0.000000   2.0   9.0\n",
       "193  예천       0.0      0.0      0.0      1.0  0.000000  10.0   8.0\n",
       "\n",
       "[194 rows x 8 columns]"
      ],
      "text/html": "<div>\n<style scoped>\n    .dataframe tbody tr th:only-of-type {\n        vertical-align: middle;\n    }\n\n    .dataframe tbody tr th {\n        vertical-align: top;\n    }\n\n    .dataframe thead th {\n        text-align: right;\n    }\n</style>\n<table border=\"1\" class=\"dataframe\">\n  <thead>\n    <tr style=\"text-align: right;\">\n      <th></th>\n      <th>ID</th>\n      <th>스타벅스 매장수</th>\n      <th>커피빈 매장수</th>\n      <th>이디야 매장수</th>\n      <th>빽다방 매장수</th>\n      <th>커피지수</th>\n      <th>y</th>\n      <th>x</th>\n    </tr>\n  </thead>\n  <tbody>\n    <tr>\n      <th>0</th>\n      <td>강남</td>\n      <td>87.0</td>\n      <td>69.0</td>\n      <td>41.0</td>\n      <td>12.0</td>\n      <td>2.943396</td>\n      <td>NaN</td>\n      <td>NaN</td>\n    </tr>\n    <tr>\n      <th>1</th>\n      <td>강동</td>\n      <td>14.0</td>\n      <td>9.0</td>\n      <td>13.0</td>\n      <td>6.0</td>\n      <td>1.210526</td>\n      <td>NaN</td>\n      <td>NaN</td>\n    </tr>\n    <tr>\n      <th>2</th>\n      <td>강릉</td>\n      <td>5.0</td>\n      <td>0.0</td>\n      <td>14.0</td>\n      <td>2.0</td>\n      <td>0.312500</td>\n      <td>3.0</td>\n      <td>11.0</td>\n    </tr>\n    <tr>\n      <th>3</th>\n      <td>강북</td>\n      <td>5.0</td>\n      <td>2.0</td>\n      <td>11.0</td>\n      <td>1.0</td>\n      <td>0.583333</td>\n      <td>NaN</td>\n      <td>NaN</td>\n    </tr>\n    <tr>\n      <th>4</th>\n      <td>강서</td>\n      <td>21.0</td>\n      <td>7.0</td>\n      <td>49.0</td>\n      <td>8.0</td>\n      <td>0.491228</td>\n      <td>NaN</td>\n      <td>NaN</td>\n    </tr>\n    <tr>\n      <th>...</th>\n      <td>...</td>\n      <td>...</td>\n      <td>...</td>\n      <td>...</td>\n      <td>...</td>\n      <td>...</td>\n      <td>...</td>\n      <td>...</td>\n    </tr>\n    <tr>\n      <th>189</th>\n      <td>합천</td>\n      <td>0.0</td>\n      <td>0.0</td>\n      <td>1.0</td>\n      <td>0.0</td>\n      <td>0.000000</td>\n      <td>16.0</td>\n      <td>7.0</td>\n    </tr>\n    <tr>\n      <th>190</th>\n      <td>홍성</td>\n      <td>0.0</td>\n      <td>0.0</td>\n      <td>3.0</td>\n      <td>2.0</td>\n      <td>0.000000</td>\n      <td>12.0</td>\n      <td>2.0</td>\n    </tr>\n    <tr>\n      <th>191</th>\n      <td>화천</td>\n      <td>0.0</td>\n      <td>0.0</td>\n      <td>1.0</td>\n      <td>0.0</td>\n      <td>0.000000</td>\n      <td>0.0</td>\n      <td>8.0</td>\n    </tr>\n    <tr>\n      <th>192</th>\n      <td>횡성</td>\n      <td>0.0</td>\n      <td>0.0</td>\n      <td>1.0</td>\n      <td>0.0</td>\n      <td>0.000000</td>\n      <td>2.0</td>\n      <td>9.0</td>\n    </tr>\n    <tr>\n      <th>193</th>\n      <td>예천</td>\n      <td>0.0</td>\n      <td>0.0</td>\n      <td>0.0</td>\n      <td>1.0</td>\n      <td>0.000000</td>\n      <td>10.0</td>\n      <td>8.0</td>\n    </tr>\n  </tbody>\n</table>\n<p>194 rows × 8 columns</p>\n</div>"
     },
     "metadata": {},
     "execution_count": 383
    }
   ],
   "source": [
    "df_cf = pd.merge(cf, draw_korea, how='left',on='ID')\n",
    "df_cf"
   ]
  },
  {
   "cell_type": "code",
   "execution_count": 3,
   "metadata": {},
   "outputs": [],
   "source": [
    "def drawKorea(targetData, blockedMap, cmapname):\n",
    "    gamma = 0.75\n",
    "\n",
    "    whitelabelmin = (max(blockedMap[targetData]) - min(blockedMap[targetData])) * 0.5 + min(blockedMap[targetData])\n",
    "\n",
    "    datalabel = targetData\n",
    "    \n",
    "    vmin = min(blockedMap[targetData])\n",
    "    vmax = max(blockedMap[targetData])\n",
    "\n",
    "    mapdata = blockedMap.pivot_table(index='y', columns='x', values=targetData)\n",
    "    masked_mapdata = np.ma.masked_where(np.isnan(mapdata), mapdata)\n",
    "\n",
    "    plt.figure(figsize=(9, 11))\n",
    "    plt.pcolor(masked_mapdata, vmin=vmin, vmax=vmax, cmap=cmapname, edgecolor='#aaaaaa', linewidth=0.5)\n",
    "    #지역이름 표시\n",
    "    for idx, row in blockedMap.iterrows():\n",
    "        #광역시는 구이름이 겹치는 경우가 많아서 시단위 이름도 같이 쓴다\n",
    "        #(중구,서구)\n",
    "        if len(row['ID'].split()) == 2:\n",
    "            dispname = '{}\\n{}'.format(row['ID'].split()[0], row['ID'].split()[1])\n",
    "        elif row['ID'][:2] == '고성':\n",
    "            dispname = '고성'\n",
    "        else:\n",
    "            dispname = row['ID']\n",
    "            #3글자는 작은글씨\n",
    "        if len(dispname.splitlines()[-1]) >= 3:\n",
    "            fontsize, linespacing = 10.0, 1.1\n",
    "        else:\n",
    "            fontsize, linespacing = 11, 1\n",
    "\n",
    "        annocolor = 'white' if row[targetData] > whitelabelmin else 'black'\n",
    "        plt.annotate(dispname, (row['x'] + 0.5, row['y'] + 0.5), weight='bold', fontsize=fontsize, ha='center', va='center', color=annocolor, linespacing=linespacing)\n",
    "\n",
    "        #시도 경계\n",
    "    for path in BORDER_LINES:\n",
    "        ys, xs = zip(*path)\n",
    "        plt.plot(xs, ys, c='black', lw=2)\n",
    "\n",
    "    plt.gca().invert_yaxis()\n",
    "\n",
    "    plt.axis('off')\n",
    "\n",
    "    cb = plt.colorbar(shrink=.1, aspect=10)\n",
    "    cb.set_label(datalabel)\n",
    "\n",
    "    plt.tight_layout()\n",
    "    plt.show()"
   ]
  },
  {
   "cell_type": "code",
   "execution_count": 386,
   "metadata": {},
   "outputs": [],
   "source": [
    "def drawKorea(targetData, blockedMap, cmapname):\n",
    "    gamma = 0.75\n",
    "\n",
    "    whitelabelmin = 20.\n",
    "\n",
    "    datalabel = targetData\n",
    "\n",
    "    tmp_max = max([np.abs(min(blockedMap[targetData])),np.abs(max(blockedMap[targetData]))])\n",
    "    vmin, vmax = -tmp_max, tmp_max\n",
    "    \n",
    "\n",
    "    mapdata = blockedMap.pivot_table(index='y', columns='x', values=targetData)\n",
    "    masked_mapdata = np.ma.masked_where(np.isnan(mapdata), mapdata)\n",
    "\n",
    "    plt.figure(figsize=(9, 11))\n",
    "    plt.pcolor(masked_mapdata, vmin=vmin, vmax=vmax, cmap=cmapname, edgecolor='#aaaaaa', linewidth=0.5)\n",
    "\n",
    "    \n",
    "    for idx, row in draw_korea.iterrows():\n",
    "        if len(row['ID'].split())==2:\n",
    "            dispname = '{}\\n{}'.format(row['ID'].split()[0],row['ID'].split()[1])\n",
    "        elif row['ID'][:2]=='고성':\n",
    "            dispname = '고성'\n",
    "        else:\n",
    "            dispname = row['ID']\n",
    "\n",
    "        if len(dispname.splitlines()[-1]) >= 3:\n",
    "            fontsize, linespacing = 9.5, 1.5\n",
    "        else:\n",
    "            fontsize, linespacing = 11, 1.2\n",
    "        plt.annotate(dispname, (row['x']+0.5,row['y']+0.5), weight='bold',\n",
    "            fontsize=fontsize, ha='center', va='center',\n",
    "            linespacing=linespacing)\n",
    "    for path in BORDER_LINES:\n",
    "        ys, xs = zip(*path)\n",
    "        plt.plot(xs,ys,c='black', lw=1.5)\n",
    "    plt.gca().invert_yaxis()\n",
    "\n",
    "    plt.axis('off')\n",
    "    cb = plt.colorbar(shrink=.1, aspect=10)\n",
    "    cb.set_label(datalabel)\n",
    "\n",
    "    plt.tight_layout()\n",
    "    plt.show()"
   ]
  },
  {
   "cell_type": "code",
   "execution_count": 5,
   "metadata": {},
   "outputs": [
    {
     "output_type": "error",
     "ename": "NameError",
     "evalue": "name 'df_cf' is not defined",
     "traceback": [
      "\u001b[1;31m---------------------------------------------------------------------------\u001b[0m",
      "\u001b[1;31mNameError\u001b[0m                                 Traceback (most recent call last)",
      "\u001b[1;32m<ipython-input-5-f6e7bbcdf93d>\u001b[0m in \u001b[0;36m<module>\u001b[1;34m\u001b[0m\n\u001b[1;32m----> 1\u001b[1;33m \u001b[0mdrawKorea\u001b[0m\u001b[1;33m(\u001b[0m\u001b[1;34m'커피지수'\u001b[0m\u001b[1;33m,\u001b[0m \u001b[0mdf_cf\u001b[0m\u001b[1;33m,\u001b[0m \u001b[1;34m'RdBu'\u001b[0m\u001b[1;33m)\u001b[0m\u001b[1;33m\u001b[0m\u001b[1;33m\u001b[0m\u001b[0m\n\u001b[0m",
      "\u001b[1;31mNameError\u001b[0m: name 'df_cf' is not defined"
     ]
    }
   ],
   "source": [
    "drawKorea('커피지수', df_cf, 'RdBu')"
   ]
  },
  {
   "cell_type": "code",
   "execution_count": 388,
   "metadata": {},
   "outputs": [],
   "source": [
    "import folium\n",
    "import json\n",
    "import warnings\n",
    "warnings.simplefilter(action='ignore', category=FutureWarning)"
   ]
  },
  {
   "cell_type": "code",
   "execution_count": 394,
   "metadata": {},
   "outputs": [
    {
     "output_type": "execute_result",
     "data": {
      "text/plain": [
       "    스타벅스 매장수  커피빈 매장수  이디야 매장수  빽다방 매장수      커피지수    y     x\n",
       "ID                                                          \n",
       "강남      87.0     69.0     41.0     12.0  2.943396  NaN   NaN\n",
       "강동      14.0      9.0     13.0      6.0  1.210526  NaN   NaN\n",
       "강릉       5.0      0.0     14.0      2.0  0.312500  3.0  11.0\n",
       "강북       5.0      2.0     11.0      1.0  0.583333  NaN   NaN\n",
       "강서      21.0      7.0     49.0      8.0  0.491228  NaN   NaN"
      ],
      "text/html": "<div>\n<style scoped>\n    .dataframe tbody tr th:only-of-type {\n        vertical-align: middle;\n    }\n\n    .dataframe tbody tr th {\n        vertical-align: top;\n    }\n\n    .dataframe thead th {\n        text-align: right;\n    }\n</style>\n<table border=\"1\" class=\"dataframe\">\n  <thead>\n    <tr style=\"text-align: right;\">\n      <th></th>\n      <th>스타벅스 매장수</th>\n      <th>커피빈 매장수</th>\n      <th>이디야 매장수</th>\n      <th>빽다방 매장수</th>\n      <th>커피지수</th>\n      <th>y</th>\n      <th>x</th>\n    </tr>\n    <tr>\n      <th>ID</th>\n      <th></th>\n      <th></th>\n      <th></th>\n      <th></th>\n      <th></th>\n      <th></th>\n      <th></th>\n    </tr>\n  </thead>\n  <tbody>\n    <tr>\n      <th>강남</th>\n      <td>87.0</td>\n      <td>69.0</td>\n      <td>41.0</td>\n      <td>12.0</td>\n      <td>2.943396</td>\n      <td>NaN</td>\n      <td>NaN</td>\n    </tr>\n    <tr>\n      <th>강동</th>\n      <td>14.0</td>\n      <td>9.0</td>\n      <td>13.0</td>\n      <td>6.0</td>\n      <td>1.210526</td>\n      <td>NaN</td>\n      <td>NaN</td>\n    </tr>\n    <tr>\n      <th>강릉</th>\n      <td>5.0</td>\n      <td>0.0</td>\n      <td>14.0</td>\n      <td>2.0</td>\n      <td>0.312500</td>\n      <td>3.0</td>\n      <td>11.0</td>\n    </tr>\n    <tr>\n      <th>강북</th>\n      <td>5.0</td>\n      <td>2.0</td>\n      <td>11.0</td>\n      <td>1.0</td>\n      <td>0.583333</td>\n      <td>NaN</td>\n      <td>NaN</td>\n    </tr>\n    <tr>\n      <th>강서</th>\n      <td>21.0</td>\n      <td>7.0</td>\n      <td>49.0</td>\n      <td>8.0</td>\n      <td>0.491228</td>\n      <td>NaN</td>\n      <td>NaN</td>\n    </tr>\n  </tbody>\n</table>\n</div>"
     },
     "metadata": {},
     "execution_count": 394
    }
   ],
   "source": [
    "df_folium = df_cf.set_index('ID')\n",
    "df_folium.head()"
   ]
  },
  {
   "cell_type": "code",
   "execution_count": 395,
   "metadata": {},
   "outputs": [
    {
     "output_type": "error",
     "ename": "ValueError",
     "evalue": "autodetected range of [0.0, inf] is not finite",
     "traceback": [
      "\u001b[1;31m---------------------------------------------------------------------------\u001b[0m",
      "\u001b[1;31mValueError\u001b[0m                                Traceback (most recent call last)",
      "\u001b[1;32m<ipython-input-395-846c3fd4bd7b>\u001b[0m in \u001b[0;36m<module>\u001b[1;34m\u001b[0m\n\u001b[0;32m      3\u001b[0m \u001b[1;33m\u001b[0m\u001b[0m\n\u001b[0;32m      4\u001b[0m \u001b[0mmap\u001b[0m \u001b[1;33m=\u001b[0m \u001b[0mfolium\u001b[0m\u001b[1;33m.\u001b[0m\u001b[0mMap\u001b[0m\u001b[1;33m(\u001b[0m\u001b[0mlocation\u001b[0m\u001b[1;33m=\u001b[0m\u001b[1;33m[\u001b[0m\u001b[1;36m36.2002\u001b[0m\u001b[1;33m,\u001b[0m \u001b[1;36m127.054\u001b[0m\u001b[1;33m]\u001b[0m\u001b[1;33m,\u001b[0m \u001b[0mzoom_start\u001b[0m\u001b[1;33m=\u001b[0m\u001b[1;36m7\u001b[0m\u001b[1;33m)\u001b[0m\u001b[1;33m\u001b[0m\u001b[1;33m\u001b[0m\u001b[0m\n\u001b[1;32m----> 5\u001b[1;33m map.choropleth(geo_data = geo_data,  \n\u001b[0m\u001b[0;32m      6\u001b[0m                \u001b[0mdata\u001b[0m \u001b[1;33m=\u001b[0m \u001b[0mdf_folium\u001b[0m\u001b[1;33m[\u001b[0m\u001b[1;34m'커피지수'\u001b[0m\u001b[1;33m]\u001b[0m\u001b[1;33m,\u001b[0m\u001b[1;33m\u001b[0m\u001b[1;33m\u001b[0m\u001b[0m\n\u001b[0;32m      7\u001b[0m                \u001b[0mcolumns\u001b[0m\u001b[1;33m=\u001b[0m \u001b[1;33m[\u001b[0m\u001b[0mdf_folium\u001b[0m\u001b[1;33m.\u001b[0m\u001b[0mindex\u001b[0m\u001b[1;33m,\u001b[0m \u001b[0mdf_folium\u001b[0m\u001b[1;33m[\u001b[0m\u001b[1;34m'커피지수'\u001b[0m\u001b[1;33m]\u001b[0m\u001b[1;33m]\u001b[0m\u001b[1;33m,\u001b[0m\u001b[1;33m\u001b[0m\u001b[1;33m\u001b[0m\u001b[0m\n",
      "\u001b[1;32m~\\anaconda3\\lib\\site-packages\\folium\\folium.py\u001b[0m in \u001b[0;36mchoropleth\u001b[1;34m(self, *args, **kwargs)\u001b[0m\n\u001b[0;32m    416\u001b[0m         )\n\u001b[0;32m    417\u001b[0m         \u001b[1;32mfrom\u001b[0m \u001b[0mfolium\u001b[0m\u001b[1;33m.\u001b[0m\u001b[0mfeatures\u001b[0m \u001b[1;32mimport\u001b[0m \u001b[0mChoropleth\u001b[0m\u001b[1;33m\u001b[0m\u001b[1;33m\u001b[0m\u001b[0m\n\u001b[1;32m--> 418\u001b[1;33m         \u001b[0mself\u001b[0m\u001b[1;33m.\u001b[0m\u001b[0madd_child\u001b[0m\u001b[1;33m(\u001b[0m\u001b[0mChoropleth\u001b[0m\u001b[1;33m(\u001b[0m\u001b[1;33m*\u001b[0m\u001b[0margs\u001b[0m\u001b[1;33m,\u001b[0m \u001b[1;33m**\u001b[0m\u001b[0mkwargs\u001b[0m\u001b[1;33m)\u001b[0m\u001b[1;33m)\u001b[0m\u001b[1;33m\u001b[0m\u001b[1;33m\u001b[0m\u001b[0m\n\u001b[0m\u001b[0;32m    419\u001b[0m \u001b[1;33m\u001b[0m\u001b[0m\n\u001b[0;32m    420\u001b[0m     \u001b[1;32mdef\u001b[0m \u001b[0mkeep_in_front\u001b[0m\u001b[1;33m(\u001b[0m\u001b[0mself\u001b[0m\u001b[1;33m,\u001b[0m \u001b[1;33m*\u001b[0m\u001b[0margs\u001b[0m\u001b[1;33m)\u001b[0m\u001b[1;33m:\u001b[0m\u001b[1;33m\u001b[0m\u001b[1;33m\u001b[0m\u001b[0m\n",
      "\u001b[1;32m~\\anaconda3\\lib\\site-packages\\folium\\features.py\u001b[0m in \u001b[0;36m__init__\u001b[1;34m(self, geo_data, data, columns, key_on, bins, fill_color, nan_fill_color, fill_opacity, nan_fill_opacity, line_color, line_weight, line_opacity, name, legend_name, overlay, control, show, topojson, smooth_factor, highlight, **kwargs)\u001b[0m\n\u001b[0;32m   1170\u001b[0m             \u001b[0mreal_values\u001b[0m \u001b[1;33m=\u001b[0m \u001b[0mnp\u001b[0m\u001b[1;33m.\u001b[0m\u001b[0marray\u001b[0m\u001b[1;33m(\u001b[0m\u001b[0mlist\u001b[0m\u001b[1;33m(\u001b[0m\u001b[0mcolor_data\u001b[0m\u001b[1;33m.\u001b[0m\u001b[0mvalues\u001b[0m\u001b[1;33m(\u001b[0m\u001b[1;33m)\u001b[0m\u001b[1;33m)\u001b[0m\u001b[1;33m)\u001b[0m\u001b[1;33m\u001b[0m\u001b[1;33m\u001b[0m\u001b[0m\n\u001b[0;32m   1171\u001b[0m             \u001b[0mreal_values\u001b[0m \u001b[1;33m=\u001b[0m \u001b[0mreal_values\u001b[0m\u001b[1;33m[\u001b[0m\u001b[1;33m~\u001b[0m\u001b[0mnp\u001b[0m\u001b[1;33m.\u001b[0m\u001b[0misnan\u001b[0m\u001b[1;33m(\u001b[0m\u001b[0mreal_values\u001b[0m\u001b[1;33m)\u001b[0m\u001b[1;33m]\u001b[0m\u001b[1;33m\u001b[0m\u001b[1;33m\u001b[0m\u001b[0m\n\u001b[1;32m-> 1172\u001b[1;33m             \u001b[0m_\u001b[0m\u001b[1;33m,\u001b[0m \u001b[0mbin_edges\u001b[0m \u001b[1;33m=\u001b[0m \u001b[0mnp\u001b[0m\u001b[1;33m.\u001b[0m\u001b[0mhistogram\u001b[0m\u001b[1;33m(\u001b[0m\u001b[0mreal_values\u001b[0m\u001b[1;33m,\u001b[0m \u001b[0mbins\u001b[0m\u001b[1;33m=\u001b[0m\u001b[0mbins\u001b[0m\u001b[1;33m)\u001b[0m\u001b[1;33m\u001b[0m\u001b[1;33m\u001b[0m\u001b[0m\n\u001b[0m\u001b[0;32m   1173\u001b[0m \u001b[1;33m\u001b[0m\u001b[0m\n\u001b[0;32m   1174\u001b[0m             \u001b[0mbins_min\u001b[0m\u001b[1;33m,\u001b[0m \u001b[0mbins_max\u001b[0m \u001b[1;33m=\u001b[0m \u001b[0mmin\u001b[0m\u001b[1;33m(\u001b[0m\u001b[0mbin_edges\u001b[0m\u001b[1;33m)\u001b[0m\u001b[1;33m,\u001b[0m \u001b[0mmax\u001b[0m\u001b[1;33m(\u001b[0m\u001b[0mbin_edges\u001b[0m\u001b[1;33m)\u001b[0m\u001b[1;33m\u001b[0m\u001b[1;33m\u001b[0m\u001b[0m\n",
      "\u001b[1;32m<__array_function__ internals>\u001b[0m in \u001b[0;36mhistogram\u001b[1;34m(*args, **kwargs)\u001b[0m\n",
      "\u001b[1;32m~\\anaconda3\\lib\\site-packages\\numpy\\lib\\histograms.py\u001b[0m in \u001b[0;36mhistogram\u001b[1;34m(a, bins, range, normed, weights, density)\u001b[0m\n\u001b[0;32m    793\u001b[0m     \u001b[0ma\u001b[0m\u001b[1;33m,\u001b[0m \u001b[0mweights\u001b[0m \u001b[1;33m=\u001b[0m \u001b[0m_ravel_and_check_weights\u001b[0m\u001b[1;33m(\u001b[0m\u001b[0ma\u001b[0m\u001b[1;33m,\u001b[0m \u001b[0mweights\u001b[0m\u001b[1;33m)\u001b[0m\u001b[1;33m\u001b[0m\u001b[1;33m\u001b[0m\u001b[0m\n\u001b[0;32m    794\u001b[0m \u001b[1;33m\u001b[0m\u001b[0m\n\u001b[1;32m--> 795\u001b[1;33m     \u001b[0mbin_edges\u001b[0m\u001b[1;33m,\u001b[0m \u001b[0muniform_bins\u001b[0m \u001b[1;33m=\u001b[0m \u001b[0m_get_bin_edges\u001b[0m\u001b[1;33m(\u001b[0m\u001b[0ma\u001b[0m\u001b[1;33m,\u001b[0m \u001b[0mbins\u001b[0m\u001b[1;33m,\u001b[0m \u001b[0mrange\u001b[0m\u001b[1;33m,\u001b[0m \u001b[0mweights\u001b[0m\u001b[1;33m)\u001b[0m\u001b[1;33m\u001b[0m\u001b[1;33m\u001b[0m\u001b[0m\n\u001b[0m\u001b[0;32m    796\u001b[0m \u001b[1;33m\u001b[0m\u001b[0m\n\u001b[0;32m    797\u001b[0m     \u001b[1;31m# Histogram is an integer or a float array depending on the weights.\u001b[0m\u001b[1;33m\u001b[0m\u001b[1;33m\u001b[0m\u001b[1;33m\u001b[0m\u001b[0m\n",
      "\u001b[1;32m~\\anaconda3\\lib\\site-packages\\numpy\\lib\\histograms.py\u001b[0m in \u001b[0;36m_get_bin_edges\u001b[1;34m(a, bins, range, weights)\u001b[0m\n\u001b[0;32m    427\u001b[0m             \u001b[1;32mraise\u001b[0m \u001b[0mValueError\u001b[0m\u001b[1;33m(\u001b[0m\u001b[1;34m'`bins` must be positive, when an integer'\u001b[0m\u001b[1;33m)\u001b[0m\u001b[1;33m\u001b[0m\u001b[1;33m\u001b[0m\u001b[0m\n\u001b[0;32m    428\u001b[0m \u001b[1;33m\u001b[0m\u001b[0m\n\u001b[1;32m--> 429\u001b[1;33m         \u001b[0mfirst_edge\u001b[0m\u001b[1;33m,\u001b[0m \u001b[0mlast_edge\u001b[0m \u001b[1;33m=\u001b[0m \u001b[0m_get_outer_edges\u001b[0m\u001b[1;33m(\u001b[0m\u001b[0ma\u001b[0m\u001b[1;33m,\u001b[0m \u001b[0mrange\u001b[0m\u001b[1;33m)\u001b[0m\u001b[1;33m\u001b[0m\u001b[1;33m\u001b[0m\u001b[0m\n\u001b[0m\u001b[0;32m    430\u001b[0m \u001b[1;33m\u001b[0m\u001b[0m\n\u001b[0;32m    431\u001b[0m     \u001b[1;32melif\u001b[0m \u001b[0mnp\u001b[0m\u001b[1;33m.\u001b[0m\u001b[0mndim\u001b[0m\u001b[1;33m(\u001b[0m\u001b[0mbins\u001b[0m\u001b[1;33m)\u001b[0m \u001b[1;33m==\u001b[0m \u001b[1;36m1\u001b[0m\u001b[1;33m:\u001b[0m\u001b[1;33m\u001b[0m\u001b[1;33m\u001b[0m\u001b[0m\n",
      "\u001b[1;32m~\\anaconda3\\lib\\site-packages\\numpy\\lib\\histograms.py\u001b[0m in \u001b[0;36m_get_outer_edges\u001b[1;34m(a, range)\u001b[0m\n\u001b[0;32m    324\u001b[0m         \u001b[0mfirst_edge\u001b[0m\u001b[1;33m,\u001b[0m \u001b[0mlast_edge\u001b[0m \u001b[1;33m=\u001b[0m \u001b[0ma\u001b[0m\u001b[1;33m.\u001b[0m\u001b[0mmin\u001b[0m\u001b[1;33m(\u001b[0m\u001b[1;33m)\u001b[0m\u001b[1;33m,\u001b[0m \u001b[0ma\u001b[0m\u001b[1;33m.\u001b[0m\u001b[0mmax\u001b[0m\u001b[1;33m(\u001b[0m\u001b[1;33m)\u001b[0m\u001b[1;33m\u001b[0m\u001b[1;33m\u001b[0m\u001b[0m\n\u001b[0;32m    325\u001b[0m         \u001b[1;32mif\u001b[0m \u001b[1;32mnot\u001b[0m \u001b[1;33m(\u001b[0m\u001b[0mnp\u001b[0m\u001b[1;33m.\u001b[0m\u001b[0misfinite\u001b[0m\u001b[1;33m(\u001b[0m\u001b[0mfirst_edge\u001b[0m\u001b[1;33m)\u001b[0m \u001b[1;32mand\u001b[0m \u001b[0mnp\u001b[0m\u001b[1;33m.\u001b[0m\u001b[0misfinite\u001b[0m\u001b[1;33m(\u001b[0m\u001b[0mlast_edge\u001b[0m\u001b[1;33m)\u001b[0m\u001b[1;33m)\u001b[0m\u001b[1;33m:\u001b[0m\u001b[1;33m\u001b[0m\u001b[1;33m\u001b[0m\u001b[0m\n\u001b[1;32m--> 326\u001b[1;33m             raise ValueError(\n\u001b[0m\u001b[0;32m    327\u001b[0m                 \"autodetected range of [{}, {}] is not finite\".format(first_edge, last_edge))\n\u001b[0;32m    328\u001b[0m \u001b[1;33m\u001b[0m\u001b[0m\n",
      "\u001b[1;31mValueError\u001b[0m: autodetected range of [0.0, inf] is not finite"
     ]
    }
   ],
   "source": [
    "geo_path = './data/skorea_municipalities_geo_simple.json'\n",
    "geo_data = json.load(open(geo_path, encoding='utf-8'))\n",
    "\n",
    "map = folium.Map(location=[36.2002, 127.054], zoom_start=7)\n",
    "map.choropleth(geo_data = geo_data,  \n",
    "               data = df_folium['커피지수'],\n",
    "               columns= [df_folium.index, df_folium['커피지수']],\n",
    "               fill_color= 'YlGnBu',\n",
    "               key_on='feature.id'\n",
    ")\n",
    "\n",
    "#loc = 'Corpus Christi'\n",
    "#title_html = '''\n",
    "            # <h3 align=\"center\" style=\"font-size:16px\"><b>커피지수</b></h3>\n",
    "             #'''.format(loc)   \n",
    "#map.get_root().html.add_child(folium.Element(title_html))\n",
    "\n",
    "\n",
    "map"
   ]
  },
  {
   "cell_type": "code",
   "execution_count": null,
   "metadata": {},
   "outputs": [],
   "source": []
  }
 ]
}