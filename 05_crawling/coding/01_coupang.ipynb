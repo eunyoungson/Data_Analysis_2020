{
 "metadata": {
  "language_info": {
   "codemirror_mode": {
    "name": "ipython",
    "version": 3
   },
   "file_extension": ".py",
   "mimetype": "text/x-python",
   "name": "python",
   "nbconvert_exporter": "python",
   "pygments_lexer": "ipython3",
   "version": "3.8.3-final"
  },
  "orig_nbformat": 2,
  "kernelspec": {
   "name": "python3",
   "display_name": "Python 3"
  }
 },
 "nbformat": 4,
 "nbformat_minor": 2,
 "cells": [
  {
   "cell_type": "code",
   "execution_count": 3,
   "metadata": {},
   "outputs": [
    {
     "output_type": "stream",
     "name": "stdout",
     "text": [
      "LG전자 6세대 코어i5 윈10탑재 LG 그램 14Z960 화이트, 4GB, SSD 256GB, 포함\n"
     ]
    }
   ],
   "source": [
    "from bs4 import BeautifulSoup\n",
    "import re\n",
    "import requests\n",
    "\n",
    "\n",
    "url = 'https://www.coupang.com/np/search?q=%EB%85%B8%ED%8A%B8%EB%B6%81&channel=auto&component=&eventCategory=SRP&trcid=&traid=&sorter=scoreDesc&minPrice=&maxPrice=&priceRange=&filterType=&listSize=36&filter=&isPriceRange=false&brand=&offerCondition=&rating=0&page=1&rocketAll=false&searchIndexingToken=1=4&backgroundColor='\n",
    "headers = {\"User-Agent\":\"User-Agent\"}\n",
    "res = requests.get(url,headers=headers)\n",
    "#res.raise_for_status()\n",
    "html = res.text\n",
    "soup = BeautifulSoup(html, 'html.parser' )\n",
    "\n",
    "items = soup.find_all('li', attrs ={\"class\": re.compile (\"^search-product\")})\n",
    "\n",
    "#print(items[0].find('div', attrs ={\"class\":\"name\"}).get_text())\n",
    "print(items[0].select_one('.name').get_text())"
   ]
  },
  {
   "cell_type": "code",
   "execution_count": 7,
   "metadata": {},
   "outputs": [
    {
     "output_type": "stream",
     "name": "stdout",
     "text": [
      "<광고 상품 제외합니다>\n<가격없는 상품 제외합니다>\n<광고 상품 제외합니다>\n<광고 상품 제외합니다>\n삼성전자 노트북 플러스 NT550XCJ-K78WA 퓨어 화이트 (i7-10510U 39.6cm), NVMe 256GB, 8GB + 8GB, WIN10 Home 1,379,000 5.0 276\n<광고 상품 제외합니다>\n<평점없는 상품 제외합니다>\n삼성전자 노트북7 NT750XBV-A39A 플래티넘 티탄 (i3-8145U 39.6cm), NVMe 256GB, 8GB, WIN10 Home 1,058,000 4.5 93\nLG전자 2020 그램17 노트북 17ZD90N-VX70K 스노우 화이트 (i7-1065G7 43.1cm), NVMe 256GB, 8GB, Free DOS 1,789,000 5.0 155\n"
     ]
    }
   ],
   "source": [
    "for item in items:\n",
    "    #광고제품은 배제하기\n",
    "    ad_badge = item.select_one('.ad-badge-text')\n",
    "    if ad_badge:\n",
    "        print(\"<광고 상품 제외합니다>\")\n",
    "        continue\n",
    "\n",
    "    name = item.select_one('.name').get_text()\n",
    "    if \"아이뮤즈\" in name:\n",
    "        print(\"아이뮤즈 상품제외합니다\")\n",
    "        continue\n",
    "    price = item.select_one('.price-value')\n",
    "    if price:\n",
    "        price = price.get_text()\n",
    "    else:\n",
    "        #price = \"가격정보 없음\"\n",
    "        print(\"<가격없는 상품 제외합니다>\")\n",
    "        continue\n",
    "\n",
    "    #리뷰 50개 이상 ,평점 4.5 이상 되는것만 조회\n",
    "    rate = item.select_one('.rating')\n",
    "    if rate:\n",
    "        rate =rate.get_text()\n",
    "    else:\n",
    "        print(\"<평점없는 상품 제외합니다>\")\n",
    "        continue\n",
    "    rate_cnt = item.select_one('.rating-total-count')\n",
    "    if rate_cnt:\n",
    "        rate_cnt =rate_cnt.get_text()\n",
    "        rate_cnt = rate_cnt[1:-1] # 괄호 부분을 없앤다. (24)\n",
    "    else:\n",
    "        #rate_cnt = \"평점수 없음\"\n",
    "        print(\"<평점 수 없는 상품 제외합니다>\")\n",
    "        continue\n",
    "    \n",
    "    if float(rate) >= 4.5 and int(rate_cnt) >= 50:\n",
    "         print(name, price,rate, rate_cnt)\n",
    "\n",
    "   "
   ]
  },
  {
   "cell_type": "code",
   "execution_count": null,
   "metadata": {},
   "outputs": [],
   "source": [
    "\n"
   ]
  }
 ]
}