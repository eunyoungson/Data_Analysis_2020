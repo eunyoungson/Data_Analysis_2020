{
 "metadata": {
  "language_info": {
   "codemirror_mode": {
    "name": "ipython",
    "version": 3
   },
   "file_extension": ".py",
   "mimetype": "text/x-python",
   "name": "python",
   "nbconvert_exporter": "python",
   "pygments_lexer": "ipython3",
   "version": "3.8.3-final"
  },
  "orig_nbformat": 2,
  "kernelspec": {
   "name": "python3",
   "display_name": "Python 3"
  }
 },
 "nbformat": 4,
 "nbformat_minor": 2,
 "cells": [
  {
   "cell_type": "code",
   "execution_count": 2,
   "metadata": {},
   "outputs": [],
   "source": [
    "from bs4 import BeautifulSoup\n",
    "from urllib.request import urlopen\n",
    "import pandas as pd \n",
    "import requests\n",
    "from urllib.parse import urljoin"
   ]
  },
  {
   "cell_type": "code",
   "execution_count": 4,
   "metadata": {},
   "outputs": [],
   "source": [
    "url_base ='https://finance.naver.com'\n",
    "\n",
    "url_sub1='/sise/sise_market_sum.nhn'\n",
    "#url_sub1 = '/mystock/itemList.nhn'\n",
    "url_sub2 = 'item/main.nhn?code='\n",
    "url = url_base + url_sub1\n",
    "\n",
    "html = urlopen(url)\n",
    "soup = BeautifulSoup(html, \"html.parser\")"
   ]
  },
  {
   "cell_type": "code",
   "execution_count": 6,
   "metadata": {},
   "outputs": [],
   "source": [
    "tbody =soup.find('tbody')\n",
    "# 여기는 가능"
   ]
  },
  {
   "cell_type": "code",
   "execution_count": 7,
   "metadata": {},
   "outputs": [
    {
     "output_type": "execute_result",
     "data": {
      "text/plain": [
       "'1'"
      ]
     },
     "metadata": {},
     "execution_count": 7
    }
   ],
   "source": [
    "# 시가총액 순위 = 인덱싱순서 +1 =i+1\n",
    "nos = tbody.select('.no')\n",
    "nos[0].string"
   ]
  },
  {
   "cell_type": "code",
   "execution_count": 9,
   "metadata": {},
   "outputs": [
    {
     "output_type": "execute_result",
     "data": {
      "text/plain": [
       "(<a class=\"tltle\" href=\"/item/main.nhn?code=005930\">삼성전자</a>,\n",
       " <a class=\"tltle\" href=\"/item/main.nhn?code=000660\">SK하이닉스</a>,\n",
       " <a class=\"tltle\" href=\"/item/main.nhn?code=207940\">삼성바이오로직스</a>)"
      ]
     },
     "metadata": {},
     "execution_count": 9
    }
   ],
   "source": [
    "a = tbody.find_all('a')\n",
    "a[0],a[2],a[4]\n",
    "# 순서의 2배  i *2"
   ]
  },
  {
   "cell_type": "code",
   "execution_count": 10,
   "metadata": {},
   "outputs": [
    {
     "output_type": "execute_result",
     "data": {
      "text/plain": [
       "'삼성전자'"
      ]
     },
     "metadata": {},
     "execution_count": 10
    }
   ],
   "source": [
    "#주식이름\n",
    "title = a[0].string   \n",
    "title"
   ]
  },
  {
   "cell_type": "code",
   "execution_count": 12,
   "metadata": {},
   "outputs": [
    {
     "output_type": "execute_result",
     "data": {
      "text/plain": [
       "'/item/main.nhn?code=005930'"
      ]
     },
     "metadata": {},
     "execution_count": 12
    }
   ],
   "source": [
    "#주식URL\n",
    "url_code = a[0].attrs['href']\n",
    "url_code"
   ]
  },
  {
   "cell_type": "code",
   "execution_count": 13,
   "metadata": {},
   "outputs": [],
   "source": [
    "#a[2].attrs['href']"
   ]
  },
  {
   "cell_type": "code",
   "execution_count": 14,
   "metadata": {},
   "outputs": [
    {
     "output_type": "execute_result",
     "data": {
      "text/plain": [
       "'/item/main.nhn?code='"
      ]
     },
     "metadata": {},
     "execution_count": 14
    }
   ],
   "source": [
    "url_code[:-6]"
   ]
  },
  {
   "cell_type": "code",
   "execution_count": 15,
   "metadata": {},
   "outputs": [],
   "source": [
    "#개별종목 코드\n",
    "stock_code = url_code[-6:]"
   ]
  },
  {
   "cell_type": "code",
   "execution_count": 17,
   "metadata": {},
   "outputs": [
    {
     "output_type": "execute_result",
     "data": {
      "text/plain": [
       "(500,\n",
       " <td class=\"number\">64,700</td>,\n",
       " <td class=\"number\">100</td>,\n",
       " <td class=\"number\">96,800</td>,\n",
       " <td class=\"number\">799,000</td>,\n",
       " <td class=\"number\">8.69</td>)"
      ]
     },
     "metadata": {},
     "execution_count": 17
    }
   ],
   "source": [
    "info_list = soup.select('.number')\n",
    "len(info_list), info_list[0],info_list[3], info_list[10],info_list[20],info_list[9]\n",
    "#현재가 = info_list[0], info_list[10], info_list[20] 10단위로 증가\n",
    "#매출액 = "
   ]
  },
  {
   "cell_type": "code",
   "execution_count": null,
   "metadata": {},
   "outputs": [],
   "source": []
  }
 ]
}