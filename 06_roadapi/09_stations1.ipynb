{
 "metadata": {
  "language_info": {
   "codemirror_mode": {
    "name": "ipython",
    "version": 3
   },
   "file_extension": ".py",
   "mimetype": "text/x-python",
   "name": "python",
   "nbconvert_exporter": "python",
   "pygments_lexer": "ipython3",
   "version": "3.8.3-final"
  },
  "orig_nbformat": 2,
  "kernelspec": {
   "name": "python3",
   "display_name": "Python 3"
  }
 },
 "nbformat": 4,
 "nbformat_minor": 2,
 "cells": [
  {
   "cell_type": "code",
   "execution_count": 3,
   "metadata": {},
   "outputs": [],
   "source": [
    "import numpy as np\n",
    "import pandas as pd \n",
    "from glob import glob\n",
    "import requests\n",
    "from urllib.parse import quote\n",
    "from tqdm import tqdm_notebook\n",
    "import json\n",
    "import folium\n",
    "import warnings\n",
    "warnings.simplefilter(action='ignore', category=FutureWarning)\n",
    "\n",
    "import time\n",
    "from selenium import webdriver\n",
    "from selenium.webdriver.common.keys import Keys"
   ]
  },
  {
   "source": [
    "# 셀레니움 써서 해보기"
   ],
   "cell_type": "markdown",
   "metadata": {}
  },
  {
   "cell_type": "code",
   "execution_count": 5,
   "metadata": {},
   "outputs": [],
   "source": [
    "# 엑셀 다운 \n",
    "driver = webdriver.Chrome('../crawling/chromedriver')\n",
    "driver.maximize_window()\n",
    "driver.get('https://www.opinet.co.kr/user/main/mainView.do')\n",
    "time.sleep(1)\n",
    "driver.find_element_by_css_selector('.ic_m1').click()\n",
    "time.sleep(2)\n",
    "driver.find_element_by_xpath('//*[@id=\"SIGUNGU_NM0\"]/option[5]').click()\n",
    "time.sleep(1)\n",
    "\n"
   ]
  },
  {
   "cell_type": "code",
   "execution_count": 10,
   "metadata": {},
   "outputs": [
    {
     "output_type": "execute_result",
     "data": {
      "text/plain": [
       "       지역                   상호                        주소      상표  \\\n",
       "0   서울특별시               뉴신정주유소      서울 강서구 곰달래로 207(화곡동)   알뜰주유소   \n",
       "1   서울특별시               화곡역주유소  서울특별시 강서구  강서로 154 (화곡동)   알뜰주유소   \n",
       "2   서울특별시                방화주유소    서울 강서구 방화동로 58-2 (방화동)   SK에너지   \n",
       "3   서울특별시          행촌에너지 공항주유소     서울 강서구 개화동로 420 (개화동)  현대오일뱅크   \n",
       "4   서울특별시                유턴주유소           서울 강서구 남부순환로 57   알뜰주유소   \n",
       "5   서울특별시            강서오곡셀프주유소      서울 강서구 벌말로 254 (오곡동)   SK에너지   \n",
       "6   서울특별시                목화주유소     서울 강서구 국회대로 251 (화곡동)   SK에너지   \n",
       "7   서울특별시      지에스칼텍스㈜ 경인고속주유소     서울 강서구 국회대로 225 (화곡동)   GS칼텍스   \n",
       "8   서울특별시               스카이주유소     서울 강서구 개화동로 457 (방화동)   S-OIL   \n",
       "9   서울특별시              하이웨이주유소   서울특별시 강서구 공항대로 432(화곡동)   S-OIL   \n",
       "10  서울특별시  현대오일뱅크㈜직영 강서제일셀프주유소      서울 강서구 화곡로 273 (화곡동)  현대오일뱅크   \n",
       "11  서울특별시  KH에너지(주)직영 KH외발산주유소            서울 강서구 방화대로 30   SK에너지   \n",
       "12  서울특별시                개화주유소             서울 강서구 양천로 57   SK에너지   \n",
       "13  서울특별시               신화곡주유소            서울 강서구 국회대로 71   S-OIL   \n",
       "14  서울특별시         현대오일뱅크 등촌주유소      서울 강서구 등촌로 189 (등촌동)  현대오일뱅크   \n",
       "15  서울특별시        (주)한진 김포공항주유소            서울 강서구 하늘길 259   S-OIL   \n",
       "16  서울특별시              화곡현대주유소      서울 강서구 강서로 151 (화곡동)   SK에너지   \n",
       "17  서울특별시                강서열린점      서울 강서구 등촌로 213 (등촌동)   GS칼텍스   \n",
       "18  서울특별시    현대오일뱅크㈜직영 에어포트주유소     서울 강서구 개화동로 519 (방화동)  현대오일뱅크   \n",
       "19  서울특별시        현대오일뱅크 양화교주유소     서울 강서구 공항대로 653 (염창동)  현대오일뱅크   \n",
       "20  서울특별시       대성석유(주)직영관문주유소           서울 강서구 공항대로 314   GS칼텍스   \n",
       "21  서울특별시               우장산주유소     서울 강서구 강서로 292 (내발산동)   SK에너지   \n",
       "22  서울특별시      대성석유(주) 마곡대성주유소            서울 강서구 강서로 457   GS칼텍스   \n",
       "23  서울특별시       대성석유(주)방화대성주유소            서울 강서구 양천로 176   GS칼텍스   \n",
       "24  서울특별시     KH에너지(주)직영 가양주유소      서울 강서구 강서로 498 (가양동)   SK에너지   \n",
       "25  서울특별시                대성주유소      서울 강서구 강서로 472 (등촌동)   GS칼텍스   \n",
       "26  서울특별시              세원제1주유소      서울 강서구 양천로 311 (가양동)   SK에너지   \n",
       "27  서울특별시      현대오일뱅크(주) 가양주유소     서울 강서구  양천로 391 (가양동)  현대오일뱅크   \n",
       "28  서울특별시          코리나(주)청룡주유소      서울 강서구 양천로 576 (등촌동)   SK에너지   \n",
       "29  서울특별시               박물관주유소    서울 강서구 양천로53길 97 (가양동)   GS칼텍스   \n",
       "30  서울특별시      (주)한진 김포공항제2주유소            서울 강서구 하늘길 112   S-OIL   \n",
       "31  서울특별시                참솔에너지      서울 강서구 벌말로 281 (오곡동)   S-OIL   \n",
       "32  서울특별시               염창동주유소      서울 강서구 양천로 720 (염창동)   SK에너지   \n",
       "\n",
       "             전화번호 셀프여부 고급휘발유   휘발유    경유  실내등유  \n",
       "0    02-2601-0077    N     -  1243  1043     -  \n",
       "1    02-2691-5151    Y     -  1243  1043     -  \n",
       "2    02-2662-0503    N     -  1263  1063   950  \n",
       "3    02-2665-5189    Y     -  1264  1064     -  \n",
       "4    02-2665-5047    Y     -  1265  1065   895  \n",
       "5    032-671-5186    Y     -  1265  1065     -  \n",
       "6    02-2654-4564    Y     -  1266  1072     -  \n",
       "7    02-2608-5151    Y  1416  1266  1072  1100  \n",
       "8    02-2663-5146    Y  1467  1269  1069     -  \n",
       "9    02-2605-4000    Y  1457  1287  1127     -  \n",
       "10   02-2695-4544    Y     -  1289  1147     -  \n",
       "11   032-677-9497    Y  1689  1289  1089     -  \n",
       "12   02-2661-5555    Y     -  1297  1097     -  \n",
       "13   02-2611-3161    Y     -  1315  1115     -  \n",
       "14   02-2647-5700    N     -  1317  1127     -  \n",
       "15   02-2662-0422    Y     -  1319  1128  1020  \n",
       "16   02-2607-1942    Y  1455  1326  1126     -  \n",
       "17   02-2647-9091    N     -  1327  1127  1250  \n",
       "18   02-2664-1900    N     -  1339  1129     -  \n",
       "19   02-3665-2004    N  1539  1339  1169  1000  \n",
       "20   02-3665-2051    N  1599  1358  1187  1050  \n",
       "21   02-3664-7163    N     -  1358  1187  1000  \n",
       "22   02-3664-7781    Y  1599  1365  1185     -  \n",
       "23   02-3663-7781    Y  1599  1365  1175     -  \n",
       "24   02-3664-6051    N  1689  1385  1195     -  \n",
       "25   02-3661-6102    N     -  1385  1195     -  \n",
       "26   02-3663-5151    Y     -  1389  1189     -  \n",
       "27   02-3661-9470    N  1599  1389  1189     -  \n",
       "28   02-3661-1575    N     -  1398  1208  1100  \n",
       "29   02-3665-5189    N     -  1403  1203  1083  \n",
       "30   02-2661-8892    Y     -  1407  1213     -  \n",
       "31  070-8844-8282    Y     -  1535  1332     -  \n",
       "32   02-3664-4134    N     -  1688  1468     -  "
      ],
      "text/html": "<div>\n<style scoped>\n    .dataframe tbody tr th:only-of-type {\n        vertical-align: middle;\n    }\n\n    .dataframe tbody tr th {\n        vertical-align: top;\n    }\n\n    .dataframe thead th {\n        text-align: right;\n    }\n</style>\n<table border=\"1\" class=\"dataframe\">\n  <thead>\n    <tr style=\"text-align: right;\">\n      <th></th>\n      <th>지역</th>\n      <th>상호</th>\n      <th>주소</th>\n      <th>상표</th>\n      <th>전화번호</th>\n      <th>셀프여부</th>\n      <th>고급휘발유</th>\n      <th>휘발유</th>\n      <th>경유</th>\n      <th>실내등유</th>\n    </tr>\n  </thead>\n  <tbody>\n    <tr>\n      <th>0</th>\n      <td>서울특별시</td>\n      <td>뉴신정주유소</td>\n      <td>서울 강서구 곰달래로 207(화곡동)</td>\n      <td>알뜰주유소</td>\n      <td>02-2601-0077</td>\n      <td>N</td>\n      <td>-</td>\n      <td>1243</td>\n      <td>1043</td>\n      <td>-</td>\n    </tr>\n    <tr>\n      <th>1</th>\n      <td>서울특별시</td>\n      <td>화곡역주유소</td>\n      <td>서울특별시 강서구  강서로 154 (화곡동)</td>\n      <td>알뜰주유소</td>\n      <td>02-2691-5151</td>\n      <td>Y</td>\n      <td>-</td>\n      <td>1243</td>\n      <td>1043</td>\n      <td>-</td>\n    </tr>\n    <tr>\n      <th>2</th>\n      <td>서울특별시</td>\n      <td>방화주유소</td>\n      <td>서울 강서구 방화동로 58-2 (방화동)</td>\n      <td>SK에너지</td>\n      <td>02-2662-0503</td>\n      <td>N</td>\n      <td>-</td>\n      <td>1263</td>\n      <td>1063</td>\n      <td>950</td>\n    </tr>\n    <tr>\n      <th>3</th>\n      <td>서울특별시</td>\n      <td>행촌에너지 공항주유소</td>\n      <td>서울 강서구 개화동로 420 (개화동)</td>\n      <td>현대오일뱅크</td>\n      <td>02-2665-5189</td>\n      <td>Y</td>\n      <td>-</td>\n      <td>1264</td>\n      <td>1064</td>\n      <td>-</td>\n    </tr>\n    <tr>\n      <th>4</th>\n      <td>서울특별시</td>\n      <td>유턴주유소</td>\n      <td>서울 강서구 남부순환로 57</td>\n      <td>알뜰주유소</td>\n      <td>02-2665-5047</td>\n      <td>Y</td>\n      <td>-</td>\n      <td>1265</td>\n      <td>1065</td>\n      <td>895</td>\n    </tr>\n    <tr>\n      <th>5</th>\n      <td>서울특별시</td>\n      <td>강서오곡셀프주유소</td>\n      <td>서울 강서구 벌말로 254 (오곡동)</td>\n      <td>SK에너지</td>\n      <td>032-671-5186</td>\n      <td>Y</td>\n      <td>-</td>\n      <td>1265</td>\n      <td>1065</td>\n      <td>-</td>\n    </tr>\n    <tr>\n      <th>6</th>\n      <td>서울특별시</td>\n      <td>목화주유소</td>\n      <td>서울 강서구 국회대로 251 (화곡동)</td>\n      <td>SK에너지</td>\n      <td>02-2654-4564</td>\n      <td>Y</td>\n      <td>-</td>\n      <td>1266</td>\n      <td>1072</td>\n      <td>-</td>\n    </tr>\n    <tr>\n      <th>7</th>\n      <td>서울특별시</td>\n      <td>지에스칼텍스㈜ 경인고속주유소</td>\n      <td>서울 강서구 국회대로 225 (화곡동)</td>\n      <td>GS칼텍스</td>\n      <td>02-2608-5151</td>\n      <td>Y</td>\n      <td>1416</td>\n      <td>1266</td>\n      <td>1072</td>\n      <td>1100</td>\n    </tr>\n    <tr>\n      <th>8</th>\n      <td>서울특별시</td>\n      <td>스카이주유소</td>\n      <td>서울 강서구 개화동로 457 (방화동)</td>\n      <td>S-OIL</td>\n      <td>02-2663-5146</td>\n      <td>Y</td>\n      <td>1467</td>\n      <td>1269</td>\n      <td>1069</td>\n      <td>-</td>\n    </tr>\n    <tr>\n      <th>9</th>\n      <td>서울특별시</td>\n      <td>하이웨이주유소</td>\n      <td>서울특별시 강서구 공항대로 432(화곡동)</td>\n      <td>S-OIL</td>\n      <td>02-2605-4000</td>\n      <td>Y</td>\n      <td>1457</td>\n      <td>1287</td>\n      <td>1127</td>\n      <td>-</td>\n    </tr>\n    <tr>\n      <th>10</th>\n      <td>서울특별시</td>\n      <td>현대오일뱅크㈜직영 강서제일셀프주유소</td>\n      <td>서울 강서구 화곡로 273 (화곡동)</td>\n      <td>현대오일뱅크</td>\n      <td>02-2695-4544</td>\n      <td>Y</td>\n      <td>-</td>\n      <td>1289</td>\n      <td>1147</td>\n      <td>-</td>\n    </tr>\n    <tr>\n      <th>11</th>\n      <td>서울특별시</td>\n      <td>KH에너지(주)직영 KH외발산주유소</td>\n      <td>서울 강서구 방화대로 30</td>\n      <td>SK에너지</td>\n      <td>032-677-9497</td>\n      <td>Y</td>\n      <td>1689</td>\n      <td>1289</td>\n      <td>1089</td>\n      <td>-</td>\n    </tr>\n    <tr>\n      <th>12</th>\n      <td>서울특별시</td>\n      <td>개화주유소</td>\n      <td>서울 강서구 양천로 57</td>\n      <td>SK에너지</td>\n      <td>02-2661-5555</td>\n      <td>Y</td>\n      <td>-</td>\n      <td>1297</td>\n      <td>1097</td>\n      <td>-</td>\n    </tr>\n    <tr>\n      <th>13</th>\n      <td>서울특별시</td>\n      <td>신화곡주유소</td>\n      <td>서울 강서구 국회대로 71</td>\n      <td>S-OIL</td>\n      <td>02-2611-3161</td>\n      <td>Y</td>\n      <td>-</td>\n      <td>1315</td>\n      <td>1115</td>\n      <td>-</td>\n    </tr>\n    <tr>\n      <th>14</th>\n      <td>서울특별시</td>\n      <td>현대오일뱅크 등촌주유소</td>\n      <td>서울 강서구 등촌로 189 (등촌동)</td>\n      <td>현대오일뱅크</td>\n      <td>02-2647-5700</td>\n      <td>N</td>\n      <td>-</td>\n      <td>1317</td>\n      <td>1127</td>\n      <td>-</td>\n    </tr>\n    <tr>\n      <th>15</th>\n      <td>서울특별시</td>\n      <td>(주)한진 김포공항주유소</td>\n      <td>서울 강서구 하늘길 259</td>\n      <td>S-OIL</td>\n      <td>02-2662-0422</td>\n      <td>Y</td>\n      <td>-</td>\n      <td>1319</td>\n      <td>1128</td>\n      <td>1020</td>\n    </tr>\n    <tr>\n      <th>16</th>\n      <td>서울특별시</td>\n      <td>화곡현대주유소</td>\n      <td>서울 강서구 강서로 151 (화곡동)</td>\n      <td>SK에너지</td>\n      <td>02-2607-1942</td>\n      <td>Y</td>\n      <td>1455</td>\n      <td>1326</td>\n      <td>1126</td>\n      <td>-</td>\n    </tr>\n    <tr>\n      <th>17</th>\n      <td>서울특별시</td>\n      <td>강서열린점</td>\n      <td>서울 강서구 등촌로 213 (등촌동)</td>\n      <td>GS칼텍스</td>\n      <td>02-2647-9091</td>\n      <td>N</td>\n      <td>-</td>\n      <td>1327</td>\n      <td>1127</td>\n      <td>1250</td>\n    </tr>\n    <tr>\n      <th>18</th>\n      <td>서울특별시</td>\n      <td>현대오일뱅크㈜직영 에어포트주유소</td>\n      <td>서울 강서구 개화동로 519 (방화동)</td>\n      <td>현대오일뱅크</td>\n      <td>02-2664-1900</td>\n      <td>N</td>\n      <td>-</td>\n      <td>1339</td>\n      <td>1129</td>\n      <td>-</td>\n    </tr>\n    <tr>\n      <th>19</th>\n      <td>서울특별시</td>\n      <td>현대오일뱅크 양화교주유소</td>\n      <td>서울 강서구 공항대로 653 (염창동)</td>\n      <td>현대오일뱅크</td>\n      <td>02-3665-2004</td>\n      <td>N</td>\n      <td>1539</td>\n      <td>1339</td>\n      <td>1169</td>\n      <td>1000</td>\n    </tr>\n    <tr>\n      <th>20</th>\n      <td>서울특별시</td>\n      <td>대성석유(주)직영관문주유소</td>\n      <td>서울 강서구 공항대로 314</td>\n      <td>GS칼텍스</td>\n      <td>02-3665-2051</td>\n      <td>N</td>\n      <td>1599</td>\n      <td>1358</td>\n      <td>1187</td>\n      <td>1050</td>\n    </tr>\n    <tr>\n      <th>21</th>\n      <td>서울특별시</td>\n      <td>우장산주유소</td>\n      <td>서울 강서구 강서로 292 (내발산동)</td>\n      <td>SK에너지</td>\n      <td>02-3664-7163</td>\n      <td>N</td>\n      <td>-</td>\n      <td>1358</td>\n      <td>1187</td>\n      <td>1000</td>\n    </tr>\n    <tr>\n      <th>22</th>\n      <td>서울특별시</td>\n      <td>대성석유(주) 마곡대성주유소</td>\n      <td>서울 강서구 강서로 457</td>\n      <td>GS칼텍스</td>\n      <td>02-3664-7781</td>\n      <td>Y</td>\n      <td>1599</td>\n      <td>1365</td>\n      <td>1185</td>\n      <td>-</td>\n    </tr>\n    <tr>\n      <th>23</th>\n      <td>서울특별시</td>\n      <td>대성석유(주)방화대성주유소</td>\n      <td>서울 강서구 양천로 176</td>\n      <td>GS칼텍스</td>\n      <td>02-3663-7781</td>\n      <td>Y</td>\n      <td>1599</td>\n      <td>1365</td>\n      <td>1175</td>\n      <td>-</td>\n    </tr>\n    <tr>\n      <th>24</th>\n      <td>서울특별시</td>\n      <td>KH에너지(주)직영 가양주유소</td>\n      <td>서울 강서구 강서로 498 (가양동)</td>\n      <td>SK에너지</td>\n      <td>02-3664-6051</td>\n      <td>N</td>\n      <td>1689</td>\n      <td>1385</td>\n      <td>1195</td>\n      <td>-</td>\n    </tr>\n    <tr>\n      <th>25</th>\n      <td>서울특별시</td>\n      <td>대성주유소</td>\n      <td>서울 강서구 강서로 472 (등촌동)</td>\n      <td>GS칼텍스</td>\n      <td>02-3661-6102</td>\n      <td>N</td>\n      <td>-</td>\n      <td>1385</td>\n      <td>1195</td>\n      <td>-</td>\n    </tr>\n    <tr>\n      <th>26</th>\n      <td>서울특별시</td>\n      <td>세원제1주유소</td>\n      <td>서울 강서구 양천로 311 (가양동)</td>\n      <td>SK에너지</td>\n      <td>02-3663-5151</td>\n      <td>Y</td>\n      <td>-</td>\n      <td>1389</td>\n      <td>1189</td>\n      <td>-</td>\n    </tr>\n    <tr>\n      <th>27</th>\n      <td>서울특별시</td>\n      <td>현대오일뱅크(주) 가양주유소</td>\n      <td>서울 강서구  양천로 391 (가양동)</td>\n      <td>현대오일뱅크</td>\n      <td>02-3661-9470</td>\n      <td>N</td>\n      <td>1599</td>\n      <td>1389</td>\n      <td>1189</td>\n      <td>-</td>\n    </tr>\n    <tr>\n      <th>28</th>\n      <td>서울특별시</td>\n      <td>코리나(주)청룡주유소</td>\n      <td>서울 강서구 양천로 576 (등촌동)</td>\n      <td>SK에너지</td>\n      <td>02-3661-1575</td>\n      <td>N</td>\n      <td>-</td>\n      <td>1398</td>\n      <td>1208</td>\n      <td>1100</td>\n    </tr>\n    <tr>\n      <th>29</th>\n      <td>서울특별시</td>\n      <td>박물관주유소</td>\n      <td>서울 강서구 양천로53길 97 (가양동)</td>\n      <td>GS칼텍스</td>\n      <td>02-3665-5189</td>\n      <td>N</td>\n      <td>-</td>\n      <td>1403</td>\n      <td>1203</td>\n      <td>1083</td>\n    </tr>\n    <tr>\n      <th>30</th>\n      <td>서울특별시</td>\n      <td>(주)한진 김포공항제2주유소</td>\n      <td>서울 강서구 하늘길 112</td>\n      <td>S-OIL</td>\n      <td>02-2661-8892</td>\n      <td>Y</td>\n      <td>-</td>\n      <td>1407</td>\n      <td>1213</td>\n      <td>-</td>\n    </tr>\n    <tr>\n      <th>31</th>\n      <td>서울특별시</td>\n      <td>참솔에너지</td>\n      <td>서울 강서구 벌말로 281 (오곡동)</td>\n      <td>S-OIL</td>\n      <td>070-8844-8282</td>\n      <td>Y</td>\n      <td>-</td>\n      <td>1535</td>\n      <td>1332</td>\n      <td>-</td>\n    </tr>\n    <tr>\n      <th>32</th>\n      <td>서울특별시</td>\n      <td>염창동주유소</td>\n      <td>서울 강서구 양천로 720 (염창동)</td>\n      <td>SK에너지</td>\n      <td>02-3664-4134</td>\n      <td>N</td>\n      <td>-</td>\n      <td>1688</td>\n      <td>1468</td>\n      <td>-</td>\n    </tr>\n  </tbody>\n</table>\n</div>"
     },
     "metadata": {},
     "execution_count": 10
    }
   ],
   "source": [
    "df = pd.read_excel('./gangseogu_oil.xls',header=2)\n",
    "df"
   ]
  },
  {
   "cell_type": "code",
   "execution_count": 15,
   "metadata": {},
   "outputs": [
    {
     "output_type": "execute_result",
     "data": {
      "text/plain": [
       "      지역               상호                        주소      상표          전화번호  \\\n",
       "0  서울특별시           뉴신정주유소      서울 강서구 곰달래로 207(화곡동)   알뜰주유소  02-2601-0077   \n",
       "1  서울특별시           화곡역주유소  서울특별시 강서구  강서로 154 (화곡동)   알뜰주유소  02-2691-5151   \n",
       "2  서울특별시            방화주유소    서울 강서구 방화동로 58-2 (방화동)   SK에너지  02-2662-0503   \n",
       "3  서울특별시      행촌에너지 공항주유소     서울 강서구 개화동로 420 (개화동)  현대오일뱅크  02-2665-5189   \n",
       "4  서울특별시            유턴주유소           서울 강서구 남부순환로 57   알뜰주유소  02-2665-5047   \n",
       "5  서울특별시        강서오곡셀프주유소      서울 강서구 벌말로 254 (오곡동)   SK에너지  032-671-5186   \n",
       "6  서울특별시            목화주유소     서울 강서구 국회대로 251 (화곡동)   SK에너지  02-2654-4564   \n",
       "7  서울특별시  지에스칼텍스㈜ 경인고속주유소     서울 강서구 국회대로 225 (화곡동)   GS칼텍스  02-2608-5151   \n",
       "8  서울특별시           스카이주유소     서울 강서구 개화동로 457 (방화동)   S-OIL  02-2663-5146   \n",
       "9  서울특별시          하이웨이주유소   서울특별시 강서구 공항대로 432(화곡동)   S-OIL  02-2605-4000   \n",
       "\n",
       "  셀프여부 고급휘발유   휘발유    경유  실내등유  \n",
       "0    N     -  1243  1043     -  \n",
       "1    Y     -  1243  1043     -  \n",
       "2    N     -  1263  1063   950  \n",
       "3    Y     -  1264  1064     -  \n",
       "4    Y     -  1265  1065   895  \n",
       "5    Y     -  1265  1065     -  \n",
       "6    Y     -  1266  1072     -  \n",
       "7    Y  1416  1266  1072  1100  \n",
       "8    Y  1467  1269  1069     -  \n",
       "9    Y  1457  1287  1127     -  "
      ],
      "text/html": "<div>\n<style scoped>\n    .dataframe tbody tr th:only-of-type {\n        vertical-align: middle;\n    }\n\n    .dataframe tbody tr th {\n        vertical-align: top;\n    }\n\n    .dataframe thead th {\n        text-align: right;\n    }\n</style>\n<table border=\"1\" class=\"dataframe\">\n  <thead>\n    <tr style=\"text-align: right;\">\n      <th></th>\n      <th>지역</th>\n      <th>상호</th>\n      <th>주소</th>\n      <th>상표</th>\n      <th>전화번호</th>\n      <th>셀프여부</th>\n      <th>고급휘발유</th>\n      <th>휘발유</th>\n      <th>경유</th>\n      <th>실내등유</th>\n    </tr>\n  </thead>\n  <tbody>\n    <tr>\n      <th>0</th>\n      <td>서울특별시</td>\n      <td>뉴신정주유소</td>\n      <td>서울 강서구 곰달래로 207(화곡동)</td>\n      <td>알뜰주유소</td>\n      <td>02-2601-0077</td>\n      <td>N</td>\n      <td>-</td>\n      <td>1243</td>\n      <td>1043</td>\n      <td>-</td>\n    </tr>\n    <tr>\n      <th>1</th>\n      <td>서울특별시</td>\n      <td>화곡역주유소</td>\n      <td>서울특별시 강서구  강서로 154 (화곡동)</td>\n      <td>알뜰주유소</td>\n      <td>02-2691-5151</td>\n      <td>Y</td>\n      <td>-</td>\n      <td>1243</td>\n      <td>1043</td>\n      <td>-</td>\n    </tr>\n    <tr>\n      <th>2</th>\n      <td>서울특별시</td>\n      <td>방화주유소</td>\n      <td>서울 강서구 방화동로 58-2 (방화동)</td>\n      <td>SK에너지</td>\n      <td>02-2662-0503</td>\n      <td>N</td>\n      <td>-</td>\n      <td>1263</td>\n      <td>1063</td>\n      <td>950</td>\n    </tr>\n    <tr>\n      <th>3</th>\n      <td>서울특별시</td>\n      <td>행촌에너지 공항주유소</td>\n      <td>서울 강서구 개화동로 420 (개화동)</td>\n      <td>현대오일뱅크</td>\n      <td>02-2665-5189</td>\n      <td>Y</td>\n      <td>-</td>\n      <td>1264</td>\n      <td>1064</td>\n      <td>-</td>\n    </tr>\n    <tr>\n      <th>4</th>\n      <td>서울특별시</td>\n      <td>유턴주유소</td>\n      <td>서울 강서구 남부순환로 57</td>\n      <td>알뜰주유소</td>\n      <td>02-2665-5047</td>\n      <td>Y</td>\n      <td>-</td>\n      <td>1265</td>\n      <td>1065</td>\n      <td>895</td>\n    </tr>\n    <tr>\n      <th>5</th>\n      <td>서울특별시</td>\n      <td>강서오곡셀프주유소</td>\n      <td>서울 강서구 벌말로 254 (오곡동)</td>\n      <td>SK에너지</td>\n      <td>032-671-5186</td>\n      <td>Y</td>\n      <td>-</td>\n      <td>1265</td>\n      <td>1065</td>\n      <td>-</td>\n    </tr>\n    <tr>\n      <th>6</th>\n      <td>서울특별시</td>\n      <td>목화주유소</td>\n      <td>서울 강서구 국회대로 251 (화곡동)</td>\n      <td>SK에너지</td>\n      <td>02-2654-4564</td>\n      <td>Y</td>\n      <td>-</td>\n      <td>1266</td>\n      <td>1072</td>\n      <td>-</td>\n    </tr>\n    <tr>\n      <th>7</th>\n      <td>서울특별시</td>\n      <td>지에스칼텍스㈜ 경인고속주유소</td>\n      <td>서울 강서구 국회대로 225 (화곡동)</td>\n      <td>GS칼텍스</td>\n      <td>02-2608-5151</td>\n      <td>Y</td>\n      <td>1416</td>\n      <td>1266</td>\n      <td>1072</td>\n      <td>1100</td>\n    </tr>\n    <tr>\n      <th>8</th>\n      <td>서울특별시</td>\n      <td>스카이주유소</td>\n      <td>서울 강서구 개화동로 457 (방화동)</td>\n      <td>S-OIL</td>\n      <td>02-2663-5146</td>\n      <td>Y</td>\n      <td>1467</td>\n      <td>1269</td>\n      <td>1069</td>\n      <td>-</td>\n    </tr>\n    <tr>\n      <th>9</th>\n      <td>서울특별시</td>\n      <td>하이웨이주유소</td>\n      <td>서울특별시 강서구 공항대로 432(화곡동)</td>\n      <td>S-OIL</td>\n      <td>02-2605-4000</td>\n      <td>Y</td>\n      <td>1457</td>\n      <td>1287</td>\n      <td>1127</td>\n      <td>-</td>\n    </tr>\n  </tbody>\n</table>\n</div>"
     },
     "metadata": {},
     "execution_count": 15
    }
   ],
   "source": [
    "# 강서구 저렴한곳 10곳\n",
    "\n",
    "top10 = df.sort_values(by='휘발유', ascending=True).head(10)\n",
    "top10"
   ]
  },
  {
   "cell_type": "code",
   "execution_count": 16,
   "metadata": {},
   "outputs": [
    {
     "output_type": "execute_result",
     "data": {
      "text/plain": [
       "                상호                        주소    가격 셀프      상표          전화번호\n",
       "0           뉴신정주유소      서울 강서구 곰달래로 207(화곡동)  1243  N   알뜰주유소  02-2601-0077\n",
       "1           화곡역주유소  서울특별시 강서구  강서로 154 (화곡동)  1243  Y   알뜰주유소  02-2691-5151\n",
       "2            방화주유소    서울 강서구 방화동로 58-2 (방화동)  1263  N   SK에너지  02-2662-0503\n",
       "3      행촌에너지 공항주유소     서울 강서구 개화동로 420 (개화동)  1264  Y  현대오일뱅크  02-2665-5189\n",
       "4            유턴주유소           서울 강서구 남부순환로 57  1265  Y   알뜰주유소  02-2665-5047\n",
       "5        강서오곡셀프주유소      서울 강서구 벌말로 254 (오곡동)  1265  Y   SK에너지  032-671-5186\n",
       "6            목화주유소     서울 강서구 국회대로 251 (화곡동)  1266  Y   SK에너지  02-2654-4564\n",
       "7  지에스칼텍스㈜ 경인고속주유소     서울 강서구 국회대로 225 (화곡동)  1266  Y   GS칼텍스  02-2608-5151\n",
       "8           스카이주유소     서울 강서구 개화동로 457 (방화동)  1269  Y   S-OIL  02-2663-5146\n",
       "9          하이웨이주유소   서울특별시 강서구 공항대로 432(화곡동)  1287  Y   S-OIL  02-2605-4000"
      ],
      "text/html": "<div>\n<style scoped>\n    .dataframe tbody tr th:only-of-type {\n        vertical-align: middle;\n    }\n\n    .dataframe tbody tr th {\n        vertical-align: top;\n    }\n\n    .dataframe thead th {\n        text-align: right;\n    }\n</style>\n<table border=\"1\" class=\"dataframe\">\n  <thead>\n    <tr style=\"text-align: right;\">\n      <th></th>\n      <th>상호</th>\n      <th>주소</th>\n      <th>가격</th>\n      <th>셀프</th>\n      <th>상표</th>\n      <th>전화번호</th>\n    </tr>\n  </thead>\n  <tbody>\n    <tr>\n      <th>0</th>\n      <td>뉴신정주유소</td>\n      <td>서울 강서구 곰달래로 207(화곡동)</td>\n      <td>1243</td>\n      <td>N</td>\n      <td>알뜰주유소</td>\n      <td>02-2601-0077</td>\n    </tr>\n    <tr>\n      <th>1</th>\n      <td>화곡역주유소</td>\n      <td>서울특별시 강서구  강서로 154 (화곡동)</td>\n      <td>1243</td>\n      <td>Y</td>\n      <td>알뜰주유소</td>\n      <td>02-2691-5151</td>\n    </tr>\n    <tr>\n      <th>2</th>\n      <td>방화주유소</td>\n      <td>서울 강서구 방화동로 58-2 (방화동)</td>\n      <td>1263</td>\n      <td>N</td>\n      <td>SK에너지</td>\n      <td>02-2662-0503</td>\n    </tr>\n    <tr>\n      <th>3</th>\n      <td>행촌에너지 공항주유소</td>\n      <td>서울 강서구 개화동로 420 (개화동)</td>\n      <td>1264</td>\n      <td>Y</td>\n      <td>현대오일뱅크</td>\n      <td>02-2665-5189</td>\n    </tr>\n    <tr>\n      <th>4</th>\n      <td>유턴주유소</td>\n      <td>서울 강서구 남부순환로 57</td>\n      <td>1265</td>\n      <td>Y</td>\n      <td>알뜰주유소</td>\n      <td>02-2665-5047</td>\n    </tr>\n    <tr>\n      <th>5</th>\n      <td>강서오곡셀프주유소</td>\n      <td>서울 강서구 벌말로 254 (오곡동)</td>\n      <td>1265</td>\n      <td>Y</td>\n      <td>SK에너지</td>\n      <td>032-671-5186</td>\n    </tr>\n    <tr>\n      <th>6</th>\n      <td>목화주유소</td>\n      <td>서울 강서구 국회대로 251 (화곡동)</td>\n      <td>1266</td>\n      <td>Y</td>\n      <td>SK에너지</td>\n      <td>02-2654-4564</td>\n    </tr>\n    <tr>\n      <th>7</th>\n      <td>지에스칼텍스㈜ 경인고속주유소</td>\n      <td>서울 강서구 국회대로 225 (화곡동)</td>\n      <td>1266</td>\n      <td>Y</td>\n      <td>GS칼텍스</td>\n      <td>02-2608-5151</td>\n    </tr>\n    <tr>\n      <th>8</th>\n      <td>스카이주유소</td>\n      <td>서울 강서구 개화동로 457 (방화동)</td>\n      <td>1269</td>\n      <td>Y</td>\n      <td>S-OIL</td>\n      <td>02-2663-5146</td>\n    </tr>\n    <tr>\n      <th>9</th>\n      <td>하이웨이주유소</td>\n      <td>서울특별시 강서구 공항대로 432(화곡동)</td>\n      <td>1287</td>\n      <td>Y</td>\n      <td>S-OIL</td>\n      <td>02-2605-4000</td>\n    </tr>\n  </tbody>\n</table>\n</div>"
     },
     "metadata": {},
     "execution_count": 16
    }
   ],
   "source": [
    "top10_df = pd.DataFrame({\n",
    "    '상호': top10['상호'],\n",
    "    '주소': top10['주소'],\n",
    "    '가격': top10['휘발유'],\n",
    "    '셀프': top10['셀프여부'],\n",
    "    '상표': top10['상표'],\n",
    "    '전화번호' : top10['전화번호']\n",
    "})\n",
    "top10_df"
   ]
  },
  {
   "cell_type": "code",
   "execution_count": 18,
   "metadata": {},
   "outputs": [],
   "source": [
    "key_fd = open('../crawling/kakaomapkey.txt', mode='r')\n",
    "kmap_key = key_fd.read(100)\n",
    "key_fd.close()"
   ]
  },
  {
   "cell_type": "code",
   "execution_count": null,
   "metadata": {},
   "outputs": [],
   "source": []
  }
 ]
}