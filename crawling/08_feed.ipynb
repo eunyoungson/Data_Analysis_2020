{
 "metadata": {
  "language_info": {
   "codemirror_mode": {
    "name": "ipython",
    "version": 3
   },
   "file_extension": ".py",
   "mimetype": "text/x-python",
   "name": "python",
   "nbconvert_exporter": "python",
   "pygments_lexer": "ipython3",
   "version": "3.8.3-final"
  },
  "orig_nbformat": 2,
  "kernelspec": {
   "name": "python3",
   "display_name": "Python 3"
  }
 },
 "nbformat": 4,
 "nbformat_minor": 2,
 "cells": [
  {
   "cell_type": "code",
   "execution_count": 48,
   "metadata": {},
   "outputs": [],
   "source": [
    "from bs4 import BeautifulSoup\n",
    "from urllib.request import urlopen\n",
    "import pandas as pd \n",
    "import requests\n",
    "from urllib.parse import urljoin\n",
    "import numpy as np"
   ]
  },
  {
   "cell_type": "code",
   "execution_count": 49,
   "metadata": {},
   "outputs": [],
   "source": [
    "url_base ='https://dogpre.com/category/036004?page='\n",
    "\n",
    "page_url='0'\n",
    "url = url_base + page_url\n",
    "\n",
    "\n",
    "html = urlopen(url)\n",
    "soup = BeautifulSoup(html, \"html.parser\")"
   ]
  },
  {
   "cell_type": "code",
   "execution_count": 51,
   "metadata": {},
   "outputs": [
    {
     "output_type": "execute_result",
     "data": {
      "text/plain": [
       "20"
      ]
     },
     "metadata": {},
     "execution_count": 51
    }
   ],
   "source": [
    "#한페이지에 있는 갯수  = 20개씩 있다. \n",
    "totalN = soup.select('.MuiCardContent-root.jss196')\n",
    "len(totalN)"
   ]
  },
  {
   "cell_type": "code",
   "execution_count": 52,
   "metadata": {},
   "outputs": [
    {
     "output_type": "execute_result",
     "data": {
      "text/plain": [
       "10"
      ]
     },
     "metadata": {},
     "execution_count": 52
    }
   ],
   "source": [
    "# 페이지 갯수 \n",
    "pageN = soup.select('.MuiButtonBase-root.MuiPaginationItem-root.jss217.MuiPaginationItem-page.MuiPaginationItem-rounded.MuiPaginationItem-sizeLarge')\n",
    "len(pageN)"
   ]
  },
  {
   "cell_type": "code",
   "execution_count": 53,
   "metadata": {},
   "outputs": [
    {
     "output_type": "execute_result",
     "data": {
      "text/plain": [
       "49000"
      ]
     },
     "metadata": {},
     "execution_count": 53
    }
   ],
   "source": [
    "#원가격\n",
    "ori_Price = int(soup.select('.jss204')[19].get_text().replace(',','').replace('원',''))\n",
    "ori_Price"
   ]
  },
  {
   "cell_type": "code",
   "execution_count": 61,
   "metadata": {},
   "outputs": [
    {
     "output_type": "execute_result",
     "data": {
      "text/plain": [
       "<div class=\"jss205\"><span class=\"jss206\"><span aria-label=\"0 Stars\" class=\"MuiRating-root jss207 MuiRating-readOnly\" role=\"img\"><span class=\"MuiRating-decimal\"><span style=\"width:0%;overflow:hidden;z-index:1;position:absolute\"><span class=\"MuiRating-icon jss210 MuiRating-iconEmpty jss211\"><svg aria-hidden=\"true\" class=\"MuiSvgIcon-root\" focusable=\"false\" role=\"img\" viewbox=\"0 0 48 48\"><path d=\"M35.236 44c-.325 0-.65-.092-.94-.275L24 37.214l-10.297 6.511c-.624.396-1.415.362-2.008-.09-.592-.45-.868-1.227-.702-1.973l2.732-12.27-9.098-8.257c-.552-.5-.764-1.3-.538-2.03.226-.727.846-1.242 1.575-1.308l11.98-1.065 4.681-11.57C22.611 4.457 23.27 4 24 4c.73 0 1.39.457 1.675 1.162l4.682 11.57 11.979 1.065c.729.066 1.35.58 1.575 1.309.226.728.014 1.528-.538 2.029l-9.098 8.257 2.732 12.27c.166.746-.11 1.523-.702 1.974-.317.242-.693.363-1.07.363\" fill=\"#c4c4c6\" fill-rule=\"evenodd\"></path></svg></span></span><span><span class=\"MuiRating-icon jss210 MuiRating-iconEmpty jss211\"><svg aria-hidden=\"true\" class=\"MuiSvgIcon-root\" focusable=\"false\" role=\"img\" viewbox=\"0 0 48 48\"><path d=\"M35.236 44c-.325 0-.65-.092-.94-.275L24 37.214l-10.297 6.511c-.624.396-1.415.362-2.008-.09-.592-.45-.868-1.227-.702-1.973l2.732-12.27-9.098-8.257c-.552-.5-.764-1.3-.538-2.03.226-.727.846-1.242 1.575-1.308l11.98-1.065 4.681-11.57C22.611 4.457 23.27 4 24 4c.73 0 1.39.457 1.675 1.162l4.682 11.57 11.979 1.065c.729.066 1.35.58 1.575 1.309.226.728.014 1.528-.538 2.029l-9.098 8.257 2.732 12.27c.166.746-.11 1.523-.702 1.974-.317.242-.693.363-1.07.363\" fill=\"#c4c4c6\" fill-rule=\"evenodd\"></path></svg></span></span></span><span class=\"MuiRating-decimal\"><span style=\"width:0%;overflow:hidden;z-index:1;position:absolute\"><span class=\"MuiRating-icon jss210 MuiRating-iconEmpty jss211\"><svg aria-hidden=\"true\" class=\"MuiSvgIcon-root\" focusable=\"false\" role=\"img\" viewbox=\"0 0 48 48\"><path d=\"M35.236 44c-.325 0-.65-.092-.94-.275L24 37.214l-10.297 6.511c-.624.396-1.415.362-2.008-.09-.592-.45-.868-1.227-.702-1.973l2.732-12.27-9.098-8.257c-.552-.5-.764-1.3-.538-2.03.226-.727.846-1.242 1.575-1.308l11.98-1.065 4.681-11.57C22.611 4.457 23.27 4 24 4c.73 0 1.39.457 1.675 1.162l4.682 11.57 11.979 1.065c.729.066 1.35.58 1.575 1.309.226.728.014 1.528-.538 2.029l-9.098 8.257 2.732 12.27c.166.746-.11 1.523-.702 1.974-.317.242-.693.363-1.07.363\" fill=\"#c4c4c6\" fill-rule=\"evenodd\"></path></svg></span></span><span><span class=\"MuiRating-icon jss210 MuiRating-iconEmpty jss211\"><svg aria-hidden=\"true\" class=\"MuiSvgIcon-root\" focusable=\"false\" role=\"img\" viewbox=\"0 0 48 48\"><path d=\"M35.236 44c-.325 0-.65-.092-.94-.275L24 37.214l-10.297 6.511c-.624.396-1.415.362-2.008-.09-.592-.45-.868-1.227-.702-1.973l2.732-12.27-9.098-8.257c-.552-.5-.764-1.3-.538-2.03.226-.727.846-1.242 1.575-1.308l11.98-1.065 4.681-11.57C22.611 4.457 23.27 4 24 4c.73 0 1.39.457 1.675 1.162l4.682 11.57 11.979 1.065c.729.066 1.35.58 1.575 1.309.226.728.014 1.528-.538 2.029l-9.098 8.257 2.732 12.27c.166.746-.11 1.523-.702 1.974-.317.242-.693.363-1.07.363\" fill=\"#c4c4c6\" fill-rule=\"evenodd\"></path></svg></span></span></span><span class=\"MuiRating-decimal\"><span style=\"width:0%;overflow:hidden;z-index:1;position:absolute\"><span class=\"MuiRating-icon jss210 MuiRating-iconEmpty jss211\"><svg aria-hidden=\"true\" class=\"MuiSvgIcon-root\" focusable=\"false\" role=\"img\" viewbox=\"0 0 48 48\"><path d=\"M35.236 44c-.325 0-.65-.092-.94-.275L24 37.214l-10.297 6.511c-.624.396-1.415.362-2.008-.09-.592-.45-.868-1.227-.702-1.973l2.732-12.27-9.098-8.257c-.552-.5-.764-1.3-.538-2.03.226-.727.846-1.242 1.575-1.308l11.98-1.065 4.681-11.57C22.611 4.457 23.27 4 24 4c.73 0 1.39.457 1.675 1.162l4.682 11.57 11.979 1.065c.729.066 1.35.58 1.575 1.309.226.728.014 1.528-.538 2.029l-9.098 8.257 2.732 12.27c.166.746-.11 1.523-.702 1.974-.317.242-.693.363-1.07.363\" fill=\"#c4c4c6\" fill-rule=\"evenodd\"></path></svg></span></span><span><span class=\"MuiRating-icon jss210 MuiRating-iconEmpty jss211\"><svg aria-hidden=\"true\" class=\"MuiSvgIcon-root\" focusable=\"false\" role=\"img\" viewbox=\"0 0 48 48\"><path d=\"M35.236 44c-.325 0-.65-.092-.94-.275L24 37.214l-10.297 6.511c-.624.396-1.415.362-2.008-.09-.592-.45-.868-1.227-.702-1.973l2.732-12.27-9.098-8.257c-.552-.5-.764-1.3-.538-2.03.226-.727.846-1.242 1.575-1.308l11.98-1.065 4.681-11.57C22.611 4.457 23.27 4 24 4c.73 0 1.39.457 1.675 1.162l4.682 11.57 11.979 1.065c.729.066 1.35.58 1.575 1.309.226.728.014 1.528-.538 2.029l-9.098 8.257 2.732 12.27c.166.746-.11 1.523-.702 1.974-.317.242-.693.363-1.07.363\" fill=\"#c4c4c6\" fill-rule=\"evenodd\"></path></svg></span></span></span><span class=\"MuiRating-decimal\"><span style=\"width:0%;overflow:hidden;z-index:1;position:absolute\"><span class=\"MuiRating-icon jss210 MuiRating-iconEmpty jss211\"><svg aria-hidden=\"true\" class=\"MuiSvgIcon-root\" focusable=\"false\" role=\"img\" viewbox=\"0 0 48 48\"><path d=\"M35.236 44c-.325 0-.65-.092-.94-.275L24 37.214l-10.297 6.511c-.624.396-1.415.362-2.008-.09-.592-.45-.868-1.227-.702-1.973l2.732-12.27-9.098-8.257c-.552-.5-.764-1.3-.538-2.03.226-.727.846-1.242 1.575-1.308l11.98-1.065 4.681-11.57C22.611 4.457 23.27 4 24 4c.73 0 1.39.457 1.675 1.162l4.682 11.57 11.979 1.065c.729.066 1.35.58 1.575 1.309.226.728.014 1.528-.538 2.029l-9.098 8.257 2.732 12.27c.166.746-.11 1.523-.702 1.974-.317.242-.693.363-1.07.363\" fill=\"#c4c4c6\" fill-rule=\"evenodd\"></path></svg></span></span><span><span class=\"MuiRating-icon jss210 MuiRating-iconEmpty jss211\"><svg aria-hidden=\"true\" class=\"MuiSvgIcon-root\" focusable=\"false\" role=\"img\" viewbox=\"0 0 48 48\"><path d=\"M35.236 44c-.325 0-.65-.092-.94-.275L24 37.214l-10.297 6.511c-.624.396-1.415.362-2.008-.09-.592-.45-.868-1.227-.702-1.973l2.732-12.27-9.098-8.257c-.552-.5-.764-1.3-.538-2.03.226-.727.846-1.242 1.575-1.308l11.98-1.065 4.681-11.57C22.611 4.457 23.27 4 24 4c.73 0 1.39.457 1.675 1.162l4.682 11.57 11.979 1.065c.729.066 1.35.58 1.575 1.309.226.728.014 1.528-.538 2.029l-9.098 8.257 2.732 12.27c.166.746-.11 1.523-.702 1.974-.317.242-.693.363-1.07.363\" fill=\"#c4c4c6\" fill-rule=\"evenodd\"></path></svg></span></span></span><span class=\"MuiRating-decimal\"><span style=\"width:0%;overflow:hidden;z-index:1;position:absolute\"><span class=\"MuiRating-icon jss210 MuiRating-iconEmpty jss211\"><svg aria-hidden=\"true\" class=\"MuiSvgIcon-root\" focusable=\"false\" role=\"img\" viewbox=\"0 0 48 48\"><path d=\"M35.236 44c-.325 0-.65-.092-.94-.275L24 37.214l-10.297 6.511c-.624.396-1.415.362-2.008-.09-.592-.45-.868-1.227-.702-1.973l2.732-12.27-9.098-8.257c-.552-.5-.764-1.3-.538-2.03.226-.727.846-1.242 1.575-1.308l11.98-1.065 4.681-11.57C22.611 4.457 23.27 4 24 4c.73 0 1.39.457 1.675 1.162l4.682 11.57 11.979 1.065c.729.066 1.35.58 1.575 1.309.226.728.014 1.528-.538 2.029l-9.098 8.257 2.732 12.27c.166.746-.11 1.523-.702 1.974-.317.242-.693.363-1.07.363\" fill=\"#c4c4c6\" fill-rule=\"evenodd\"></path></svg></span></span><span><span class=\"MuiRating-icon jss210 MuiRating-iconEmpty jss211\"><svg aria-hidden=\"true\" class=\"MuiSvgIcon-root\" focusable=\"false\" role=\"img\" viewbox=\"0 0 48 48\"><path d=\"M35.236 44c-.325 0-.65-.092-.94-.275L24 37.214l-10.297 6.511c-.624.396-1.415.362-2.008-.09-.592-.45-.868-1.227-.702-1.973l2.732-12.27-9.098-8.257c-.552-.5-.764-1.3-.538-2.03.226-.727.846-1.242 1.575-1.308l11.98-1.065 4.681-11.57C22.611 4.457 23.27 4 24 4c.73 0 1.39.457 1.675 1.162l4.682 11.57 11.979 1.065c.729.066 1.35.58 1.575 1.309.226.728.014 1.528-.538 2.029l-9.098 8.257 2.732 12.27c.166.746-.11 1.523-.702 1.974-.317.242-.693.363-1.07.363\" fill=\"#c4c4c6\" fill-rule=\"evenodd\"></path></svg></span></span></span></span></span><span>(<!-- -->0<!-- -->)</span></div>"
      ]
     },
     "metadata": {},
     "execution_count": 61
    }
   ],
   "source": [
    "soup.select_one('.jss205')"
   ]
  },
  {
   "cell_type": "code",
   "execution_count": 54,
   "metadata": {},
   "outputs": [],
   "source": [
    "#빈 리스트 만들기>\n",
    "names = []; ori_Prices = []; prices = [];discounts = []; rates=[]; p_urls = []; reviewNs = []"
   ]
  },
  {
   "cell_type": "code",
   "execution_count": 55,
   "metadata": {},
   "outputs": [
    {
     "output_type": "execute_result",
     "data": {
      "text/plain": [
       "True"
      ]
     },
     "metadata": {},
     "execution_count": 55
    }
   ],
   "source": [
    "len(soup.select('.xxxxx')) == 0"
   ]
  },
  {
   "cell_type": "code",
   "execution_count": 56,
   "metadata": {},
   "outputs": [
    {
     "output_type": "error",
     "ename": "ValueError",
     "evalue": "invalid literal for int() with base 10: '(0)'",
     "traceback": [
      "\u001b[1;31m---------------------------------------------------------------------------\u001b[0m",
      "\u001b[1;31mValueError\u001b[0m                                Traceback (most recent call last)",
      "\u001b[1;32m<ipython-input-56-bc5176dc6019>\u001b[0m in \u001b[0;36m<module>\u001b[1;34m\u001b[0m\n\u001b[0;32m     16\u001b[0m             \u001b[1;31m#ori_Prices.append(ori_Price)\u001b[0m\u001b[1;33m\u001b[0m\u001b[1;33m\u001b[0m\u001b[1;33m\u001b[0m\u001b[0m\n\u001b[0;32m     17\u001b[0m \u001b[1;33m\u001b[0m\u001b[0m\n\u001b[1;32m---> 18\u001b[1;33m         \u001b[0mprice\u001b[0m \u001b[1;33m=\u001b[0m\u001b[0mint\u001b[0m\u001b[1;33m(\u001b[0m\u001b[0msoup\u001b[0m\u001b[1;33m.\u001b[0m\u001b[0mselect\u001b[0m\u001b[1;33m(\u001b[0m\u001b[1;34m'.jss205'\u001b[0m\u001b[1;33m)\u001b[0m\u001b[1;33m[\u001b[0m\u001b[0mi\u001b[0m\u001b[1;33m]\u001b[0m\u001b[1;33m.\u001b[0m\u001b[0mget_text\u001b[0m\u001b[1;33m(\u001b[0m\u001b[1;33m)\u001b[0m\u001b[1;33m.\u001b[0m\u001b[0mreplace\u001b[0m\u001b[1;33m(\u001b[0m\u001b[1;34m','\u001b[0m\u001b[1;33m,\u001b[0m\u001b[1;34m''\u001b[0m\u001b[1;33m)\u001b[0m\u001b[1;33m.\u001b[0m\u001b[0mreplace\u001b[0m\u001b[1;33m(\u001b[0m\u001b[1;34m'원'\u001b[0m\u001b[1;33m,\u001b[0m\u001b[1;34m''\u001b[0m\u001b[1;33m)\u001b[0m\u001b[1;33m)\u001b[0m\u001b[1;33m\u001b[0m\u001b[1;33m\u001b[0m\u001b[0m\n\u001b[0m\u001b[0;32m     19\u001b[0m         \u001b[1;31m#discount = ori_Price - price\u001b[0m\u001b[1;33m\u001b[0m\u001b[1;33m\u001b[0m\u001b[1;33m\u001b[0m\u001b[0m\n\u001b[0;32m     20\u001b[0m         \u001b[1;31m#rate = round(discount / ori_Price * 100)\u001b[0m\u001b[1;33m\u001b[0m\u001b[1;33m\u001b[0m\u001b[1;33m\u001b[0m\u001b[0m\n",
      "\u001b[1;31mValueError\u001b[0m: invalid literal for int() with base 10: '(0)'"
     ]
    }
   ],
   "source": [
    "# 첨엔 페이지갯수 돌고:\n",
    "i=0\n",
    "for k in range(10):\n",
    "    url_base ='https://dogpre.com/category/036004?page='\n",
    "    page_url= str(k)\n",
    "    url = url_base + page_url\n",
    "    html = urlopen(url)\n",
    "    soup = BeautifulSoup(html, \"html.parser\")\n",
    "    #한 페이지 안에 돌고\n",
    "    for i in range(len(totalN)) :\n",
    "        name = soup.select('.jss202')[i].get_text()\n",
    "        #if len(soup.select('.jss204')) == 0 :\n",
    "            #ori_Prices.append(0)\n",
    "        #else:\n",
    "            #ori_Price = int(soup.select('.jss204')[i].get_text().replace(',','').replace('원',''))\n",
    "            #ori_Prices.append(ori_Price)\n",
    "\n",
    "        price =int(soup.select('.jss205')[i].get_text().replace(',','').replace('원',''))\n",
    "        #discount = ori_Price - price\n",
    "        #rate = round(discount / ori_Price * 100)\n",
    "\n",
    "\n",
    "        p_url =soup.select('.MuiButtonBase-root.MuiCardActionArea-root.jss192')[i].attrs['href']\n",
    "        #product_number = p_url[9:]\n",
    "        product_url = 'https://dogpre.com' + p_url\n",
    "    \n",
    "        r_number = soup.select('.jss206')[i]\n",
    "        spanlis = r_number.find_all('span')\n",
    "        s = spanlis[-1].get_text().replace('(','').replace(',','').replace(')','')\n",
    "        reviewN = int(s)\n",
    "\n",
    "        names.append(name); prices.append(price)\n",
    "        #discounts.append(discount) ; rates.append(rate)\n",
    "        p_urls.append(product_url); reviewNs.append(reviewN)"
   ]
  },
  {
   "cell_type": "code",
   "execution_count": 57,
   "metadata": {},
   "outputs": [
    {
     "output_type": "stream",
     "name": "stdout",
     "text": [
      "강아지 건식사료\n"
     ]
    },
    {
     "output_type": "execute_result",
     "data": {
      "text/plain": [
       "                                       price  \\\n",
       "name                                           \n",
       "네츄럴코어 홀리스틱 베네 M32 멀티프로테인 7.2kg         38000   \n",
       "네츄럴코어 유기농 에코 70B 연어 7kg                40000   \n",
       "뉴트리나 건강백서 건강한 관절 2kg                   15000   \n",
       "now 그레인프리 어덜트 스몰브리드 11.3kg            108000   \n",
       "로얄캐닌 엑스스몰 어덜트 4.5kg 기획팩                46900   \n",
       "now 그레인프리 어덜트 스몰브리드 2.72kg             37800   \n",
       "ANF 유기농 6Free 플러스 소고기&연어 5.6kg         39000   \n",
       "now 그레인프리 시니어 스몰브리드 2.72kg             37800   \n",
       "ANF 유기농 6Free 플러스 오리고기&연어 5.6kg        39000   \n",
       "now 그레인프리 어덜트 스몰브리드 5.44kg             67500   \n",
       "네츄럴코어 유기농 에코 2 오리고기 작은알갱이 7kg          52000   \n",
       "네츄럴코어 유기농 에코 9a 시니어 오리&고구마 6kg         52000   \n",
       "네츄럴코어 유기농 에코 4 오리고기 슬림다운 6kg           52000   \n",
       "뉴트리나 울트라 액티브 15kg                      24800   \n",
       "로얄캐닌 미니 인도어 어덜트 1.5kg                  17500   \n",
       "네츄럴코어 유기농 에코 2 오리고기 작은알갱이 2kg          20000   \n",
       "로얄캐닌 푸들 어덜트 1.5kg                      19300   \n",
       "오리젠 오리지널 독 2kg                         38000   \n",
       "ANF 프리미엄 램28 15kg                      57000   \n",
       "ANF 램 홀리스틱 시니어 7.2kg                   41900   \n",
       "ANF 프리미엄 램28 7.2kg                     33000   \n",
       "네츄럴코어 유기농 에코10 베지테리언 6kg               47000   \n",
       "오리젠 오리지널 독 6kg                         77000   \n",
       "네츄럴코어 유기농 에코 2 오리고기 중간알갱이 6kg          47000   \n",
       "뉴트리나 건강백서 건강한 6세이상 6kg                 39800   \n",
       "오리젠 6 피쉬 독 2kg                         41000   \n",
       "네츄럴코어 유기농 에코 6 센시티브 솔루션 연어 작은알갱이 6kg   52000   \n",
       "네츄럴코어 유기농 에코 6 센시티브 솔루션 연어 중간알갱이 6kg   52000   \n",
       "네츄럴코어 유기농 에코 1 양고기 중간알갱이 6kg           47000   \n",
       "네츄럴코어 유기농 에코 9a 시니어 오리&고구마 2.4kg       28000   \n",
       "now 그레인프리 퍼피 스몰브리드 2.72kg              39600   \n",
       "로얄캐닌 푸들 어덜트 3kg                        39000   \n",
       "로얄캐닌 말티즈 어덜트 4.5kg 기획팩                 52900   \n",
       "ANF 유기농 6Free 플러스 연어&흰살생선 5.6kg        39000   \n",
       "네츄럴코어 유기농 에코 6 센시티브 솔루션 연어 큰알갱이 10kg   73000   \n",
       "네츄럴코어 유기농 에코 2 오리고기 작은알갱이 10kg         69000   \n",
       "퓨리나 프로플랜 퍼포먼스 17kg                     72000   \n",
       "뉴트리나 건강백서 말티즈 6kg                      39000   \n",
       "로얄캐닌 말티즈 어덜트 1.5kg                     19300   \n",
       "뉴트리나 건강백서 푸들 2kg                       16000   \n",
       "\n",
       "                                                           product_url  \\\n",
       "name                                                                     \n",
       "네츄럴코어 홀리스틱 베네 M32 멀티프로테인 7.2kg        https://dogpre.com/product/23333   \n",
       "네츄럴코어 유기농 에코 70B 연어 7kg               https://dogpre.com/product/71017   \n",
       "뉴트리나 건강백서 건강한 관절 2kg                  https://dogpre.com/product/36251   \n",
       "now 그레인프리 어덜트 스몰브리드 11.3kg            https://dogpre.com/product/33992   \n",
       "로얄캐닌 엑스스몰 어덜트 4.5kg 기획팩               https://dogpre.com/product/66574   \n",
       "now 그레인프리 어덜트 스몰브리드 2.72kg            https://dogpre.com/product/32975   \n",
       "ANF 유기농 6Free 플러스 소고기&연어 5.6kg        https://dogpre.com/product/55596   \n",
       "now 그레인프리 시니어 스몰브리드 2.72kg            https://dogpre.com/product/33995   \n",
       "ANF 유기농 6Free 플러스 오리고기&연어 5.6kg       https://dogpre.com/product/55608   \n",
       "now 그레인프리 어덜트 스몰브리드 5.44kg            https://dogpre.com/product/31311   \n",
       "네츄럴코어 유기농 에코 2 오리고기 작은알갱이 7kg         https://dogpre.com/product/12864   \n",
       "네츄럴코어 유기농 에코 9a 시니어 오리&고구마 6kg        https://dogpre.com/product/17551   \n",
       "네츄럴코어 유기농 에코 4 오리고기 슬림다운 6kg          https://dogpre.com/product/17550   \n",
       "뉴트리나 울트라 액티브 15kg                      https://dogpre.com/product/2514   \n",
       "로얄캐닌 미니 인도어 어덜트 1.5kg                 https://dogpre.com/product/59986   \n",
       "네츄럴코어 유기농 에코 2 오리고기 작은알갱이 2kg         https://dogpre.com/product/12814   \n",
       "로얄캐닌 푸들 어덜트 1.5kg                     https://dogpre.com/product/60205   \n",
       "오리젠 오리지널 독 2kg                        https://dogpre.com/product/21044   \n",
       "ANF 프리미엄 램28 15kg                     https://dogpre.com/product/60118   \n",
       "ANF 램 홀리스틱 시니어 7.2kg                  https://dogpre.com/product/59857   \n",
       "ANF 프리미엄 램28 7.2kg                    https://dogpre.com/product/60121   \n",
       "네츄럴코어 유기농 에코10 베지테리언 6kg              https://dogpre.com/product/24266   \n",
       "오리젠 오리지널 독 6kg                        https://dogpre.com/product/21006   \n",
       "네츄럴코어 유기농 에코 2 오리고기 중간알갱이 6kg         https://dogpre.com/product/16196   \n",
       "뉴트리나 건강백서 건강한 6세이상 6kg                https://dogpre.com/product/36023   \n",
       "오리젠 6 피쉬 독 2kg                        https://dogpre.com/product/20731   \n",
       "네츄럴코어 유기농 에코 6 센시티브 솔루션 연어 작은알갱이 6kg  https://dogpre.com/product/20723   \n",
       "네츄럴코어 유기농 에코 6 센시티브 솔루션 연어 중간알갱이 6kg  https://dogpre.com/product/20719   \n",
       "네츄럴코어 유기농 에코 1 양고기 중간알갱이 6kg          https://dogpre.com/product/16198   \n",
       "네츄럴코어 유기농 에코 9a 시니어 오리&고구마 2.4kg      https://dogpre.com/product/12164   \n",
       "now 그레인프리 퍼피 스몰브리드 2.72kg             https://dogpre.com/product/34004   \n",
       "로얄캐닌 푸들 어덜트 3kg                       https://dogpre.com/product/81863   \n",
       "로얄캐닌 말티즈 어덜트 4.5kg 기획팩                https://dogpre.com/product/66583   \n",
       "ANF 유기농 6Free 플러스 연어&흰살생선 5.6kg       https://dogpre.com/product/55602   \n",
       "네츄럴코어 유기농 에코 6 센시티브 솔루션 연어 큰알갱이 10kg  https://dogpre.com/product/27255   \n",
       "네츄럴코어 유기농 에코 2 오리고기 작은알갱이 10kg        https://dogpre.com/product/21684   \n",
       "퓨리나 프로플랜 퍼포먼스 17kg                    https://dogpre.com/product/20699   \n",
       "뉴트리나 건강백서 말티즈 6kg                     https://dogpre.com/product/64990   \n",
       "로얄캐닌 말티즈 어덜트 1.5kg                    https://dogpre.com/product/60214   \n",
       "뉴트리나 건강백서 푸들 2kg                      https://dogpre.com/product/42257   \n",
       "\n",
       "                                      reviewN  \n",
       "name                                           \n",
       "네츄럴코어 홀리스틱 베네 M32 멀티프로테인 7.2kg           8591  \n",
       "네츄럴코어 유기농 에코 70B 연어 7kg                   179  \n",
       "뉴트리나 건강백서 건강한 관절 2kg                     1152  \n",
       "now 그레인프리 어덜트 스몰브리드 11.3kg                844  \n",
       "로얄캐닌 엑스스몰 어덜트 4.5kg 기획팩                    23  \n",
       "now 그레인프리 어덜트 스몰브리드 2.72kg               4485  \n",
       "ANF 유기농 6Free 플러스 소고기&연어 5.6kg           1182  \n",
       "now 그레인프리 시니어 스몰브리드 2.72kg                821  \n",
       "ANF 유기농 6Free 플러스 오리고기&연어 5.6kg           643  \n",
       "now 그레인프리 어덜트 스몰브리드 5.44kg               1998  \n",
       "네츄럴코어 유기농 에코 2 오리고기 작은알갱이 7kg            5423  \n",
       "네츄럴코어 유기농 에코 9a 시니어 오리&고구마 6kg           1575  \n",
       "네츄럴코어 유기농 에코 4 오리고기 슬림다운 6kg             2182  \n",
       "뉴트리나 울트라 액티브 15kg                         892  \n",
       "로얄캐닌 미니 인도어 어덜트 1.5kg                     951  \n",
       "네츄럴코어 유기농 에코 2 오리고기 작은알갱이 2kg           11320  \n",
       "로얄캐닌 푸들 어덜트 1.5kg                         992  \n",
       "오리젠 오리지널 독 2kg                           1657  \n",
       "ANF 프리미엄 램28 15kg                        1690  \n",
       "ANF 램 홀리스틱 시니어 7.2kg                     1588  \n",
       "ANF 프리미엄 램28 7.2kg                       4150  \n",
       "네츄럴코어 유기농 에코10 베지테리언 6kg                 1187  \n",
       "오리젠 오리지널 독 6kg                            791  \n",
       "네츄럴코어 유기농 에코 2 오리고기 중간알갱이 6kg            2348  \n",
       "뉴트리나 건강백서 건강한 6세이상 6kg                    303  \n",
       "오리젠 6 피쉬 독 2kg                            990  \n",
       "네츄럴코어 유기농 에코 6 센시티브 솔루션 연어 작은알갱이 6kg     3096  \n",
       "네츄럴코어 유기농 에코 6 센시티브 솔루션 연어 중간알갱이 6kg     2388  \n",
       "네츄럴코어 유기농 에코 1 양고기 중간알갱이 6kg             2467  \n",
       "네츄럴코어 유기농 에코 9a 시니어 오리&고구마 2.4kg         1182  \n",
       "now 그레인프리 퍼피 스몰브리드 2.72kg                2277  \n",
       "로얄캐닌 푸들 어덜트 3kg                             5  \n",
       "로얄캐닌 말티즈 어덜트 4.5kg 기획팩                     18  \n",
       "ANF 유기농 6Free 플러스 연어&흰살생선 5.6kg           345  \n",
       "네츄럴코어 유기농 에코 6 센시티브 솔루션 연어 큰알갱이 10kg      752  \n",
       "네츄럴코어 유기농 에코 2 오리고기 작은알갱이 10kg           1198  \n",
       "퓨리나 프로플랜 퍼포먼스 17kg                        142  \n",
       "뉴트리나 건강백서 말티즈 6kg                          83  \n",
       "로얄캐닌 말티즈 어덜트 1.5kg                        581  \n",
       "뉴트리나 건강백서 푸들 2kg                          895  "
      ],
      "text/html": "<div>\n<style scoped>\n    .dataframe tbody tr th:only-of-type {\n        vertical-align: middle;\n    }\n\n    .dataframe tbody tr th {\n        vertical-align: top;\n    }\n\n    .dataframe thead th {\n        text-align: right;\n    }\n</style>\n<table border=\"1\" class=\"dataframe\">\n  <thead>\n    <tr style=\"text-align: right;\">\n      <th></th>\n      <th>price</th>\n      <th>product_url</th>\n      <th>reviewN</th>\n    </tr>\n    <tr>\n      <th>name</th>\n      <th></th>\n      <th></th>\n      <th></th>\n    </tr>\n  </thead>\n  <tbody>\n    <tr>\n      <th>네츄럴코어 홀리스틱 베네 M32 멀티프로테인 7.2kg</th>\n      <td>38000</td>\n      <td>https://dogpre.com/product/23333</td>\n      <td>8591</td>\n    </tr>\n    <tr>\n      <th>네츄럴코어 유기농 에코 70B 연어 7kg</th>\n      <td>40000</td>\n      <td>https://dogpre.com/product/71017</td>\n      <td>179</td>\n    </tr>\n    <tr>\n      <th>뉴트리나 건강백서 건강한 관절 2kg</th>\n      <td>15000</td>\n      <td>https://dogpre.com/product/36251</td>\n      <td>1152</td>\n    </tr>\n    <tr>\n      <th>now 그레인프리 어덜트 스몰브리드 11.3kg</th>\n      <td>108000</td>\n      <td>https://dogpre.com/product/33992</td>\n      <td>844</td>\n    </tr>\n    <tr>\n      <th>로얄캐닌 엑스스몰 어덜트 4.5kg 기획팩</th>\n      <td>46900</td>\n      <td>https://dogpre.com/product/66574</td>\n      <td>23</td>\n    </tr>\n    <tr>\n      <th>now 그레인프리 어덜트 스몰브리드 2.72kg</th>\n      <td>37800</td>\n      <td>https://dogpre.com/product/32975</td>\n      <td>4485</td>\n    </tr>\n    <tr>\n      <th>ANF 유기농 6Free 플러스 소고기&amp;연어 5.6kg</th>\n      <td>39000</td>\n      <td>https://dogpre.com/product/55596</td>\n      <td>1182</td>\n    </tr>\n    <tr>\n      <th>now 그레인프리 시니어 스몰브리드 2.72kg</th>\n      <td>37800</td>\n      <td>https://dogpre.com/product/33995</td>\n      <td>821</td>\n    </tr>\n    <tr>\n      <th>ANF 유기농 6Free 플러스 오리고기&amp;연어 5.6kg</th>\n      <td>39000</td>\n      <td>https://dogpre.com/product/55608</td>\n      <td>643</td>\n    </tr>\n    <tr>\n      <th>now 그레인프리 어덜트 스몰브리드 5.44kg</th>\n      <td>67500</td>\n      <td>https://dogpre.com/product/31311</td>\n      <td>1998</td>\n    </tr>\n    <tr>\n      <th>네츄럴코어 유기농 에코 2 오리고기 작은알갱이 7kg</th>\n      <td>52000</td>\n      <td>https://dogpre.com/product/12864</td>\n      <td>5423</td>\n    </tr>\n    <tr>\n      <th>네츄럴코어 유기농 에코 9a 시니어 오리&amp;고구마 6kg</th>\n      <td>52000</td>\n      <td>https://dogpre.com/product/17551</td>\n      <td>1575</td>\n    </tr>\n    <tr>\n      <th>네츄럴코어 유기농 에코 4 오리고기 슬림다운 6kg</th>\n      <td>52000</td>\n      <td>https://dogpre.com/product/17550</td>\n      <td>2182</td>\n    </tr>\n    <tr>\n      <th>뉴트리나 울트라 액티브 15kg</th>\n      <td>24800</td>\n      <td>https://dogpre.com/product/2514</td>\n      <td>892</td>\n    </tr>\n    <tr>\n      <th>로얄캐닌 미니 인도어 어덜트 1.5kg</th>\n      <td>17500</td>\n      <td>https://dogpre.com/product/59986</td>\n      <td>951</td>\n    </tr>\n    <tr>\n      <th>네츄럴코어 유기농 에코 2 오리고기 작은알갱이 2kg</th>\n      <td>20000</td>\n      <td>https://dogpre.com/product/12814</td>\n      <td>11320</td>\n    </tr>\n    <tr>\n      <th>로얄캐닌 푸들 어덜트 1.5kg</th>\n      <td>19300</td>\n      <td>https://dogpre.com/product/60205</td>\n      <td>992</td>\n    </tr>\n    <tr>\n      <th>오리젠 오리지널 독 2kg</th>\n      <td>38000</td>\n      <td>https://dogpre.com/product/21044</td>\n      <td>1657</td>\n    </tr>\n    <tr>\n      <th>ANF 프리미엄 램28 15kg</th>\n      <td>57000</td>\n      <td>https://dogpre.com/product/60118</td>\n      <td>1690</td>\n    </tr>\n    <tr>\n      <th>ANF 램 홀리스틱 시니어 7.2kg</th>\n      <td>41900</td>\n      <td>https://dogpre.com/product/59857</td>\n      <td>1588</td>\n    </tr>\n    <tr>\n      <th>ANF 프리미엄 램28 7.2kg</th>\n      <td>33000</td>\n      <td>https://dogpre.com/product/60121</td>\n      <td>4150</td>\n    </tr>\n    <tr>\n      <th>네츄럴코어 유기농 에코10 베지테리언 6kg</th>\n      <td>47000</td>\n      <td>https://dogpre.com/product/24266</td>\n      <td>1187</td>\n    </tr>\n    <tr>\n      <th>오리젠 오리지널 독 6kg</th>\n      <td>77000</td>\n      <td>https://dogpre.com/product/21006</td>\n      <td>791</td>\n    </tr>\n    <tr>\n      <th>네츄럴코어 유기농 에코 2 오리고기 중간알갱이 6kg</th>\n      <td>47000</td>\n      <td>https://dogpre.com/product/16196</td>\n      <td>2348</td>\n    </tr>\n    <tr>\n      <th>뉴트리나 건강백서 건강한 6세이상 6kg</th>\n      <td>39800</td>\n      <td>https://dogpre.com/product/36023</td>\n      <td>303</td>\n    </tr>\n    <tr>\n      <th>오리젠 6 피쉬 독 2kg</th>\n      <td>41000</td>\n      <td>https://dogpre.com/product/20731</td>\n      <td>990</td>\n    </tr>\n    <tr>\n      <th>네츄럴코어 유기농 에코 6 센시티브 솔루션 연어 작은알갱이 6kg</th>\n      <td>52000</td>\n      <td>https://dogpre.com/product/20723</td>\n      <td>3096</td>\n    </tr>\n    <tr>\n      <th>네츄럴코어 유기농 에코 6 센시티브 솔루션 연어 중간알갱이 6kg</th>\n      <td>52000</td>\n      <td>https://dogpre.com/product/20719</td>\n      <td>2388</td>\n    </tr>\n    <tr>\n      <th>네츄럴코어 유기농 에코 1 양고기 중간알갱이 6kg</th>\n      <td>47000</td>\n      <td>https://dogpre.com/product/16198</td>\n      <td>2467</td>\n    </tr>\n    <tr>\n      <th>네츄럴코어 유기농 에코 9a 시니어 오리&amp;고구마 2.4kg</th>\n      <td>28000</td>\n      <td>https://dogpre.com/product/12164</td>\n      <td>1182</td>\n    </tr>\n    <tr>\n      <th>now 그레인프리 퍼피 스몰브리드 2.72kg</th>\n      <td>39600</td>\n      <td>https://dogpre.com/product/34004</td>\n      <td>2277</td>\n    </tr>\n    <tr>\n      <th>로얄캐닌 푸들 어덜트 3kg</th>\n      <td>39000</td>\n      <td>https://dogpre.com/product/81863</td>\n      <td>5</td>\n    </tr>\n    <tr>\n      <th>로얄캐닌 말티즈 어덜트 4.5kg 기획팩</th>\n      <td>52900</td>\n      <td>https://dogpre.com/product/66583</td>\n      <td>18</td>\n    </tr>\n    <tr>\n      <th>ANF 유기농 6Free 플러스 연어&amp;흰살생선 5.6kg</th>\n      <td>39000</td>\n      <td>https://dogpre.com/product/55602</td>\n      <td>345</td>\n    </tr>\n    <tr>\n      <th>네츄럴코어 유기농 에코 6 센시티브 솔루션 연어 큰알갱이 10kg</th>\n      <td>73000</td>\n      <td>https://dogpre.com/product/27255</td>\n      <td>752</td>\n    </tr>\n    <tr>\n      <th>네츄럴코어 유기농 에코 2 오리고기 작은알갱이 10kg</th>\n      <td>69000</td>\n      <td>https://dogpre.com/product/21684</td>\n      <td>1198</td>\n    </tr>\n    <tr>\n      <th>퓨리나 프로플랜 퍼포먼스 17kg</th>\n      <td>72000</td>\n      <td>https://dogpre.com/product/20699</td>\n      <td>142</td>\n    </tr>\n    <tr>\n      <th>뉴트리나 건강백서 말티즈 6kg</th>\n      <td>39000</td>\n      <td>https://dogpre.com/product/64990</td>\n      <td>83</td>\n    </tr>\n    <tr>\n      <th>로얄캐닌 말티즈 어덜트 1.5kg</th>\n      <td>19300</td>\n      <td>https://dogpre.com/product/60214</td>\n      <td>581</td>\n    </tr>\n    <tr>\n      <th>뉴트리나 건강백서 푸들 2kg</th>\n      <td>16000</td>\n      <td>https://dogpre.com/product/42257</td>\n      <td>895</td>\n    </tr>\n  </tbody>\n</table>\n</div>"
     },
     "metadata": {},
     "execution_count": 57
    }
   ],
   "source": [
    "feedInfo = pd.DataFrame({\n",
    "    'name' : names,\n",
    "    #'ori_Price': ori_Prices,\n",
    "    'price' : prices,\n",
    "    #'discount' : discounts,\n",
    "    #'rate': rates,\n",
    "    'product_url': p_urls,\n",
    "    'reviewN': reviewNs\n",
    "})\n",
    "feedInfo = feedInfo.set_index('name')\n",
    "print(f'강아지 건식사료')\n",
    "feedInfo.head()"
   ]
  },
  {
   "cell_type": "code",
   "execution_count": 63,
   "metadata": {},
   "outputs": [],
   "source": [
    "feedInfo.to_csv('feed.csv', sep=',', encoding='utf8')"
   ]
  },
  {
   "cell_type": "code",
   "execution_count": null,
   "metadata": {},
   "outputs": [],
   "source": []
  }
 ]
}