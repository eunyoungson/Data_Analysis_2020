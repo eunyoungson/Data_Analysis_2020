{
 "metadata": {
  "language_info": {
   "codemirror_mode": {
    "name": "ipython",
    "version": 3
   },
   "file_extension": ".py",
   "mimetype": "text/x-python",
   "name": "python",
   "nbconvert_exporter": "python",
   "pygments_lexer": "ipython3",
   "version": 3
  },
  "orig_nbformat": 2
 },
 "nbformat": 4,
 "nbformat_minor": 2,
 "cells": [
  {
   "cell_type": "code",
   "execution_count": null,
   "metadata": {},
   "outputs": [],
   "source": [
    "import time \n",
    "from selenium import webdriver\n",
    "from selenium.webdriver.common.keys import Keys"
   ]
  },
  {
   "cell_type": "code",
   "execution_count": null,
   "metadata": {},
   "outputs": [],
   "source": [
    "my_station = []"
   ]
  },
  {
   "cell_type": "code",
   "execution_count": null,
   "metadata": {},
   "outputs": [],
   "source": [
    "from urlieb.parse import urlparse,quote\n",
    "import pandas as pd"
   ]
  },
  {
   "cell_type": "code",
   "execution_count": null,
   "metadata": {},
   "outputs": [],
   "source": [
    "'''o_name = [] ; o_price =[]; o_addr =[] ; s = list(range(0,20,2))\n",
    "driver = webdriver.Chrome('./chromedriver')\n",
    "driver.maximize_window()\n",
    "driver.get('http://www.opinet.co.kr/user/main/mainView.do')\n",
    "time.sleep(1)\n",
    "driver.find_element_by_css_selector('.ic_m1').click()\n",
    "time.sleep(2)\n",
    "oil_names = []; oil_price = []\n",
    "gu = '강서구'\n",
    "dongs = ['등촌동','화곡동', '마곡동']\n",
    "for dong in dongs:\n",
    "    region = driver.find_element_by_id('SIGUNGU_NM0')\n",
    "    region.send_keys(gu)\n",
    "    time.sleep(1)\n",
    "    s_dong = driver.find_element_by_id('DONG_NM')\n",
    "    s_dong.send_keys(dong)\n",
    "    time.sleep(1)\n",
    "    driver.find_element_by_xpath('//*[@id=\"searRgSelect\"]').click()\n",
    "    time.sleep(1)\n",
    "    for i in range(len(driver.find_elements_by_class_name('rlist'))):\n",
    "        if len(driver.find_elements_by_class_name('rlist')[i].text) == 0 :\n",
    "            break\n",
    "        driver.find_elements_by_class_name('rlist')[i].find_element_by_tag_name('a').click()\n",
    "        time.sleep(1)\n",
    "        html = driver.page_source # 페이지의 elements모두 가져오기\n",
    "        soup = BeautifulSoup(html, 'html.parser') \n",
    "        o_name.append(soup.find('div', 'header').get_text())\n",
    "        o_addr.append(soup.find('label', {'id' : 'rd_addr'}).get_text())\n",
    "        o_price.append(driver.find_elements_by_class_name('price')[s[i]].text)\n",
    "        \n",
    "        c_df = pd.DataFrame({\n",
    "    '상호' : o_name,\n",
    "    '가격' : o_price,\n",
    "    '주소' : o_addr\n",
    "})\n",
    "        '''\n",
    "        "
   ]
  }
 ]
}