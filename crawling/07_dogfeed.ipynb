{
 "metadata": {
  "language_info": {
   "codemirror_mode": {
    "name": "ipython",
    "version": 3
   },
   "file_extension": ".py",
   "mimetype": "text/x-python",
   "name": "python",
   "nbconvert_exporter": "python",
   "pygments_lexer": "ipython3",
   "version": "3.8.3-final"
  },
  "orig_nbformat": 2,
  "kernelspec": {
   "name": "python3",
   "display_name": "Python 3"
  }
 },
 "nbformat": 4,
 "nbformat_minor": 2,
 "cells": [
  {
   "cell_type": "code",
   "execution_count": 278,
   "metadata": {},
   "outputs": [],
   "source": [
    "from bs4 import BeautifulSoup\n",
    "from urllib.request import urlopen\n",
    "import pandas as pd \n",
    "import requests\n",
    "from urllib.parse import urljoin\n",
    "import numpy as np"
   ]
  },
  {
   "cell_type": "code",
   "execution_count": 279,
   "metadata": {},
   "outputs": [],
   "source": [
    "url_base ='https://dogpre.com/category/036004?page='\n",
    "\n",
    "page_url='2'\n",
    "url = url_base + page_url\n",
    "\n",
    "\n",
    "html = urlopen(url)\n",
    "soup = BeautifulSoup(html, \"html.parser\")"
   ]
  },
  {
   "cell_type": "code",
   "execution_count": 288,
   "metadata": {},
   "outputs": [
    {
     "output_type": "execute_result",
     "data": {
      "text/plain": [
       "<s class=\"jss204\">120,000<!-- -->원</s>"
      ]
     },
     "metadata": {},
     "execution_count": 288
    }
   ],
   "source": [
    "soup.select('.jss204')[10]"
   ]
  },
  {
   "cell_type": "code",
   "execution_count": 253,
   "metadata": {},
   "outputs": [
    {
     "output_type": "execute_result",
     "data": {
      "text/plain": [
       "'/product/23333'"
      ]
     },
     "metadata": {},
     "execution_count": 253
    }
   ],
   "source": [
    "a = soup.select_one('.MuiButtonBase-root.MuiCardActionArea-root.jss192').attrs['href']\n",
    "a\n"
   ]
  },
  {
   "cell_type": "code",
   "execution_count": 249,
   "metadata": {},
   "outputs": [
    {
     "output_type": "execute_result",
     "data": {
      "text/plain": [
       "'/product/23333'"
      ]
     },
     "metadata": {},
     "execution_count": 249
    }
   ],
   "source": [
    "#상품번호\n",
    "p_url =soup.select_one('.MuiButtonBase-root.MuiCardActionArea-root.jss192').attrs['href']\n",
    "p_url"
   ]
  },
  {
   "cell_type": "code",
   "execution_count": 254,
   "metadata": {},
   "outputs": [
    {
     "output_type": "execute_result",
     "data": {
      "text/plain": [
       "'/product/23333'"
      ]
     },
     "metadata": {},
     "execution_count": 254
    }
   ],
   "source": [
    "p_url =soup.select('.MuiButtonBase-root.MuiCardActionArea-root.jss192')[0].attrs['href']\n",
    "p_url"
   ]
  },
  {
   "cell_type": "code",
   "execution_count": 239,
   "metadata": {},
   "outputs": [
    {
     "output_type": "execute_result",
     "data": {
      "text/plain": [
       "'23333'"
      ]
     },
     "metadata": {},
     "execution_count": 239
    }
   ],
   "source": [
    "#product_number = p_url[9:]\n",
    "#product_number"
   ]
  },
  {
   "cell_type": "code",
   "execution_count": 258,
   "metadata": {},
   "outputs": [
    {
     "output_type": "execute_result",
     "data": {
      "text/plain": [
       "'https://dogpre.com/product/23333'"
      ]
     },
     "metadata": {},
     "execution_count": 258
    }
   ],
   "source": [
    "#page\n",
    "product_url = 'https://dogpre.com' + p_url\n",
    "product_url"
   ]
  },
  {
   "cell_type": "code",
   "execution_count": 257,
   "metadata": {},
   "outputs": [],
   "source": [
    "#product_url = 'https://dogpre.com/product/' +product_number\n",
    "\n",
    "#html = urlopen(product_url)\n",
    "#soup = BeautifulSoup(html, \"html.parser\")\n"
   ]
  },
  {
   "cell_type": "code",
   "execution_count": 244,
   "metadata": {},
   "outputs": [
    {
     "output_type": "error",
     "ename": "IndexError",
     "evalue": "list index out of range",
     "traceback": [
      "\u001b[1;31m---------------------------------------------------------------------------\u001b[0m",
      "\u001b[1;31mIndexError\u001b[0m                                Traceback (most recent call last)",
      "\u001b[1;32m<ipython-input-244-53181728d885>\u001b[0m in \u001b[0;36m<module>\u001b[1;34m\u001b[0m\n\u001b[1;32m----> 1\u001b[1;33m \u001b[0mp_url\u001b[0m \u001b[1;33m=\u001b[0m\u001b[0msoup\u001b[0m\u001b[1;33m.\u001b[0m\u001b[0mselect\u001b[0m\u001b[1;33m(\u001b[0m\u001b[1;34m'.MuiButtonBase-root.MuiCardActionArea-root.jss192'\u001b[0m\u001b[1;33m)\u001b[0m\u001b[1;33m[\u001b[0m\u001b[1;36m1\u001b[0m\u001b[1;33m]\u001b[0m\u001b[1;33m.\u001b[0m\u001b[0mattrs\u001b[0m\u001b[1;33m[\u001b[0m\u001b[1;34m'href'\u001b[0m\u001b[1;33m]\u001b[0m\u001b[1;33m\u001b[0m\u001b[1;33m\u001b[0m\u001b[0m\n\u001b[0m\u001b[0;32m      2\u001b[0m \u001b[0mproduct_number\u001b[0m \u001b[1;33m=\u001b[0m \u001b[0mp_url\u001b[0m\u001b[1;33m[\u001b[0m\u001b[1;36m9\u001b[0m\u001b[1;33m:\u001b[0m\u001b[1;33m]\u001b[0m\u001b[1;33m\u001b[0m\u001b[1;33m\u001b[0m\u001b[0m\n\u001b[0;32m      3\u001b[0m \u001b[0mproduct_url\u001b[0m \u001b[1;33m=\u001b[0m \u001b[1;34m'https://dogpre.com/product/'\u001b[0m \u001b[1;33m+\u001b[0m \u001b[0mproduct_number\u001b[0m\u001b[1;33m\u001b[0m\u001b[1;33m\u001b[0m\u001b[0m\n\u001b[0;32m      4\u001b[0m \u001b[0mproduct_url\u001b[0m\u001b[1;33m\u001b[0m\u001b[1;33m\u001b[0m\u001b[0m\n",
      "\u001b[1;31mIndexError\u001b[0m: list index out of range"
     ]
    }
   ],
   "source": [
    "p_url =soup.select('.MuiButtonBase-root.MuiCardActionArea-root.jss192')[].attrs['href']\n",
    "product_number = p_url[9:]\n",
    "product_url = 'https://dogpre.com/product/' + product_number\n",
    "product_url"
   ]
  },
  {
   "cell_type": "code",
   "execution_count": 203,
   "metadata": {},
   "outputs": [
    {
     "output_type": "execute_result",
     "data": {
      "text/plain": [
       "'38,000원'"
      ]
     },
     "metadata": {},
     "execution_count": 203
    }
   ],
   "source": [
    "#할인가격\n",
    "discount =soup.select_one('.jss205').get_text()\n",
    "discount"
   ]
  },
  {
   "cell_type": "code",
   "execution_count": 139,
   "metadata": {},
   "outputs": [
    {
     "output_type": "execute_result",
     "data": {
      "text/plain": [
       "20"
      ]
     },
     "metadata": {},
     "execution_count": 139
    }
   ],
   "source": [
    "peed_list = soup.select('.MuiPaper-root.MuiCard-root.columnType.jss189.MuiPaper-elevation0')\n",
    "len(peed_list)"
   ]
  },
  {
   "cell_type": "code",
   "execution_count": 158,
   "metadata": {},
   "outputs": [
    {
     "output_type": "execute_result",
     "data": {
      "text/plain": [
       "'네츄럴코어 홀리스틱 베네 M32 멀티프로테인 7.2kg'"
      ]
     },
     "metadata": {},
     "execution_count": 158
    }
   ],
   "source": [
    "name2 = peed_list[0].select_one('.jss202').get_text()\n",
    "name2"
   ]
  },
  {
   "cell_type": "code",
   "execution_count": 124,
   "metadata": {},
   "outputs": [
    {
     "output_type": "execute_result",
     "data": {
      "text/plain": [
       "'네츄럴코어 홀리스틱 베네 M32 멀티프로테인 7.2kg'"
      ]
     },
     "metadata": {},
     "execution_count": 124
    }
   ],
   "source": [
    "#사료이름\n",
    "name = soup.select_one('.jss202').get_text()\n",
    "name"
   ]
  },
  {
   "cell_type": "code",
   "execution_count": 143,
   "metadata": {},
   "outputs": [
    {
     "output_type": "execute_result",
     "data": {
      "text/plain": [
       "'네츄럴코어 홀리스틱 베네 M32 멀티프로테인 7.2kg'"
      ]
     },
     "metadata": {},
     "execution_count": 143
    }
   ],
   "source": [
    "name1 = peed_list[0].select_one('.jss202').get_text()\n",
    "name1"
   ]
  },
  {
   "cell_type": "code",
   "execution_count": 262,
   "metadata": {},
   "outputs": [
    {
     "output_type": "execute_result",
     "data": {
      "text/plain": [
       "'네츄럴코어 유기농 에코 70A 양고기 7kg'"
      ]
     },
     "metadata": {},
     "execution_count": 262
    }
   ],
   "source": [
    "name = soup.select('.jss202')[19].get_text()\n",
    "#name = name1[2].get_text()\n",
    "name"
   ]
  },
  {
   "cell_type": "code",
   "execution_count": 269,
   "metadata": {},
   "outputs": [
    {
     "output_type": "execute_result",
     "data": {
      "text/plain": [
       "'49,000원'"
      ]
     },
     "metadata": {},
     "execution_count": 269
    }
   ],
   "source": [
    "p= soup.select_one('.jss204').get_text()\n",
    "p"
   ]
  },
  {
   "cell_type": "code",
   "execution_count": 270,
   "metadata": {},
   "outputs": [
    {
     "output_type": "execute_result",
     "data": {
      "text/plain": [
       "(49000, int)"
      ]
     },
     "metadata": {},
     "execution_count": 270
    }
   ],
   "source": [
    "#원가격\n",
    "ori_Price1 =int(soup.select_one('.jss204').get_text().replace(',','').replace('원','')) \n",
    "ori_Price1, type(ori_Price1)\n"
   ]
  },
  {
   "cell_type": "code",
   "execution_count": 185,
   "metadata": {},
   "outputs": [
    {
     "output_type": "execute_result",
     "data": {
      "text/plain": [
       "49000"
      ]
     },
     "metadata": {},
     "execution_count": 185
    }
   ],
   "source": [
    "ori_Price= int(ori_Price1.replace(',','').replace('원',''))\n",
    "ori_Price"
   ]
  },
  {
   "cell_type": "code",
   "execution_count": 222,
   "metadata": {},
   "outputs": [
    {
     "output_type": "error",
     "ename": "ValueError",
     "evalue": "invalid literal for int() with base 10: '(24)'",
     "traceback": [
      "\u001b[1;31m---------------------------------------------------------------------------\u001b[0m",
      "\u001b[1;31mValueError\u001b[0m                                Traceback (most recent call last)",
      "\u001b[1;32m<ipython-input-222-c4a4cbc885a9>\u001b[0m in \u001b[0;36m<module>\u001b[1;34m\u001b[0m\n\u001b[0;32m      1\u001b[0m \u001b[1;31m#판매가격\u001b[0m\u001b[1;33m\u001b[0m\u001b[1;33m\u001b[0m\u001b[1;33m\u001b[0m\u001b[0m\n\u001b[1;32m----> 2\u001b[1;33m \u001b[0mprice\u001b[0m \u001b[1;33m=\u001b[0m \u001b[0mint\u001b[0m\u001b[1;33m(\u001b[0m\u001b[0msoup\u001b[0m\u001b[1;33m.\u001b[0m\u001b[0mselect_one\u001b[0m\u001b[1;33m(\u001b[0m\u001b[1;34m'.jss205'\u001b[0m\u001b[1;33m)\u001b[0m\u001b[1;33m.\u001b[0m\u001b[0mget_text\u001b[0m\u001b[1;33m(\u001b[0m\u001b[1;33m)\u001b[0m\u001b[1;33m.\u001b[0m\u001b[0mreplace\u001b[0m\u001b[1;33m(\u001b[0m\u001b[1;34m','\u001b[0m\u001b[1;33m,\u001b[0m\u001b[1;34m''\u001b[0m\u001b[1;33m)\u001b[0m\u001b[1;33m.\u001b[0m\u001b[0mreplace\u001b[0m\u001b[1;33m(\u001b[0m\u001b[1;34m'원'\u001b[0m\u001b[1;33m,\u001b[0m\u001b[1;34m''\u001b[0m\u001b[1;33m)\u001b[0m\u001b[1;33m)\u001b[0m\u001b[1;33m\u001b[0m\u001b[1;33m\u001b[0m\u001b[0m\n\u001b[0m\u001b[0;32m      3\u001b[0m \u001b[0mprice\u001b[0m\u001b[1;33m\u001b[0m\u001b[1;33m\u001b[0m\u001b[0m\n",
      "\u001b[1;31mValueError\u001b[0m: invalid literal for int() with base 10: '(24)'"
     ]
    }
   ],
   "source": [
    "#판매가격\n",
    "price = int(soup.select_one('.jss205').get_text().replace(',','').replace('원',''))\n",
    "price"
   ]
  },
  {
   "cell_type": "code",
   "execution_count": 275,
   "metadata": {},
   "outputs": [
    {
     "output_type": "execute_result",
     "data": {
      "text/plain": [
       "49000"
      ]
     },
     "metadata": {},
     "execution_count": 275
    }
   ],
   "source": [
    "ori_Price = int(soup.select('.jss204')[0].get_text().replace(',','').replace('원',''))\n",
    "ori_Price"
   ]
  },
  {
   "cell_type": "code",
   "execution_count": 276,
   "metadata": {},
   "outputs": [
    {
     "output_type": "execute_result",
     "data": {
      "text/plain": [
       "'38,000원'"
      ]
     },
     "metadata": {},
     "execution_count": 276
    }
   ],
   "source": [
    "b = soup.select_one('.jss205').get_text()\n",
    "b"
   ]
  },
  {
   "cell_type": "code",
   "execution_count": null,
   "metadata": {},
   "outputs": [],
   "source": []
  },
  {
   "cell_type": "code",
   "execution_count": 274,
   "metadata": {},
   "outputs": [
    {
     "output_type": "execute_result",
     "data": {
      "text/plain": [
       "38000"
      ]
     },
     "metadata": {},
     "execution_count": 274
    }
   ],
   "source": [
    "\n",
    "\n",
    "price =int(soup.select('.jss205')[0].get_text().replace(',','').replace('원',''))\n",
    "price"
   ]
  },
  {
   "cell_type": "code",
   "execution_count": 192,
   "metadata": {},
   "outputs": [
    {
     "output_type": "execute_result",
     "data": {
      "text/plain": [
       "11000"
      ]
     },
     "metadata": {},
     "execution_count": 192
    }
   ],
   "source": [
    "#할인가격\n",
    "D_price = ori_Price - price\n",
    "D_price"
   ]
  },
  {
   "cell_type": "code",
   "execution_count": 197,
   "metadata": {},
   "outputs": [
    {
     "output_type": "execute_result",
     "data": {
      "text/plain": [
       "22"
      ]
     },
     "metadata": {},
     "execution_count": 197
    }
   ],
   "source": [
    "rate = D_price / ori_Price * 100\n",
    "rate\n",
    "round(rate)"
   ]
  },
  {
   "cell_type": "code",
   "execution_count": 177,
   "metadata": {},
   "outputs": [
    {
     "output_type": "execute_result",
     "data": {
      "text/plain": [
       "'41,900원'"
      ]
     },
     "metadata": {},
     "execution_count": 177
    }
   ],
   "source": [
    "price = soup.select('.jss205')[19].get_text()\n",
    "price"
   ]
  },
  {
   "cell_type": "code",
   "execution_count": 165,
   "metadata": {},
   "outputs": [
    {
     "output_type": "execute_result",
     "data": {
      "text/plain": [
       "179"
      ]
     },
     "metadata": {},
     "execution_count": 165
    }
   ],
   "source": [
    "#후기갯수\n",
    "r_number = soup.select('.jss206')[1]\n",
    "spanlis = r_number.find_all('span')\n",
    "s = spanlis[-1].get_text().replace('(','').replace(',','').replace(')','')\n",
    "\n",
    "reviewN = int(s) \n",
    "reviewN  #,type(review)"
   ]
  },
  {
   "cell_type": "code",
   "execution_count": 125,
   "metadata": {},
   "outputs": [
    {
     "output_type": "execute_result",
     "data": {
      "text/plain": [
       "20"
      ]
     },
     "metadata": {},
     "execution_count": 125
    }
   ],
   "source": [
    "#한페이지에 있는 갯수  = 20개씩 있다. \n",
    "totalN = soup.select('.MuiCardContent-root.jss196')\n",
    "len(totalN)"
   ]
  },
  {
   "cell_type": "code",
   "execution_count": null,
   "metadata": {},
   "outputs": [],
   "source": []
  },
  {
   "cell_type": "code",
   "execution_count": 126,
   "metadata": {},
   "outputs": [
    {
     "output_type": "execute_result",
     "data": {
      "text/plain": [
       "10"
      ]
     },
     "metadata": {},
     "execution_count": 126
    }
   ],
   "source": [
    "# 페이지 갯수 \n",
    "pageN = soup.select('.MuiButtonBase-root.MuiPaginationItem-root.jss217.MuiPaginationItem-page.MuiPaginationItem-rounded.MuiPaginationItem-sizeLarge')\n",
    "len(pageN)"
   ]
  },
  {
   "cell_type": "code",
   "execution_count": 259,
   "metadata": {},
   "outputs": [],
   "source": [
    "#빈 리스트 만들기>\n",
    "names = []; ori_Prices = []; prices = [];discounts = []; rates=[]; p_urls = []; reviewNs = []  "
   ]
  },
  {
   "cell_type": "code",
   "execution_count": 260,
   "metadata": {},
   "outputs": [
    {
     "output_type": "error",
     "ename": "IndexError",
     "evalue": "list index out of range",
     "traceback": [
      "\u001b[1;31m---------------------------------------------------------------------------\u001b[0m",
      "\u001b[1;31mIndexError\u001b[0m                                Traceback (most recent call last)",
      "\u001b[1;32m<ipython-input-260-31285885eb0e>\u001b[0m in \u001b[0;36m<module>\u001b[1;34m\u001b[0m\n\u001b[0;32m     10\u001b[0m     \u001b[1;32mfor\u001b[0m \u001b[0mi\u001b[0m \u001b[1;32min\u001b[0m \u001b[0mrange\u001b[0m\u001b[1;33m(\u001b[0m\u001b[0mlen\u001b[0m\u001b[1;33m(\u001b[0m\u001b[0mtotalN\u001b[0m\u001b[1;33m)\u001b[0m\u001b[1;33m)\u001b[0m \u001b[1;33m:\u001b[0m\u001b[1;33m\u001b[0m\u001b[1;33m\u001b[0m\u001b[0m\n\u001b[0;32m     11\u001b[0m         \u001b[0mname\u001b[0m \u001b[1;33m=\u001b[0m \u001b[0msoup\u001b[0m\u001b[1;33m.\u001b[0m\u001b[0mselect\u001b[0m\u001b[1;33m(\u001b[0m\u001b[1;34m'.jss202'\u001b[0m\u001b[1;33m)\u001b[0m\u001b[1;33m[\u001b[0m\u001b[0mi\u001b[0m\u001b[1;33m]\u001b[0m\u001b[1;33m.\u001b[0m\u001b[0mget_text\u001b[0m\u001b[1;33m(\u001b[0m\u001b[1;33m)\u001b[0m\u001b[1;33m\u001b[0m\u001b[1;33m\u001b[0m\u001b[0m\n\u001b[1;32m---> 12\u001b[1;33m         \u001b[0mori_Price\u001b[0m \u001b[1;33m=\u001b[0m \u001b[0mint\u001b[0m\u001b[1;33m(\u001b[0m\u001b[0msoup\u001b[0m\u001b[1;33m.\u001b[0m\u001b[0mselect\u001b[0m\u001b[1;33m(\u001b[0m\u001b[1;34m'.jss204'\u001b[0m\u001b[1;33m)\u001b[0m\u001b[1;33m[\u001b[0m\u001b[0mi\u001b[0m\u001b[1;33m]\u001b[0m\u001b[1;33m.\u001b[0m\u001b[0mget_text\u001b[0m\u001b[1;33m(\u001b[0m\u001b[1;33m)\u001b[0m\u001b[1;33m.\u001b[0m\u001b[0mreplace\u001b[0m\u001b[1;33m(\u001b[0m\u001b[1;34m','\u001b[0m\u001b[1;33m,\u001b[0m\u001b[1;34m''\u001b[0m\u001b[1;33m)\u001b[0m\u001b[1;33m.\u001b[0m\u001b[0mreplace\u001b[0m\u001b[1;33m(\u001b[0m\u001b[1;34m'원'\u001b[0m\u001b[1;33m,\u001b[0m\u001b[1;34m''\u001b[0m\u001b[1;33m)\u001b[0m\u001b[1;33m)\u001b[0m\u001b[1;33m\u001b[0m\u001b[1;33m\u001b[0m\u001b[0m\n\u001b[0m\u001b[0;32m     13\u001b[0m         \u001b[0mprice\u001b[0m \u001b[1;33m=\u001b[0m\u001b[0mint\u001b[0m\u001b[1;33m(\u001b[0m\u001b[0msoup\u001b[0m\u001b[1;33m.\u001b[0m\u001b[0mselect\u001b[0m\u001b[1;33m(\u001b[0m\u001b[1;34m'.jss205'\u001b[0m\u001b[1;33m)\u001b[0m\u001b[1;33m[\u001b[0m\u001b[0mi\u001b[0m\u001b[1;33m]\u001b[0m\u001b[1;33m.\u001b[0m\u001b[0mget_text\u001b[0m\u001b[1;33m(\u001b[0m\u001b[1;33m)\u001b[0m\u001b[1;33m.\u001b[0m\u001b[0mreplace\u001b[0m\u001b[1;33m(\u001b[0m\u001b[1;34m','\u001b[0m\u001b[1;33m,\u001b[0m\u001b[1;34m''\u001b[0m\u001b[1;33m)\u001b[0m\u001b[1;33m.\u001b[0m\u001b[0mreplace\u001b[0m\u001b[1;33m(\u001b[0m\u001b[1;34m'원'\u001b[0m\u001b[1;33m,\u001b[0m\u001b[1;34m''\u001b[0m\u001b[1;33m)\u001b[0m\u001b[1;33m)\u001b[0m\u001b[1;33m\u001b[0m\u001b[1;33m\u001b[0m\u001b[0m\n\u001b[0;32m     14\u001b[0m         \u001b[0mdiscount\u001b[0m \u001b[1;33m=\u001b[0m \u001b[0mori_Price\u001b[0m \u001b[1;33m-\u001b[0m \u001b[0mprice\u001b[0m\u001b[1;33m\u001b[0m\u001b[1;33m\u001b[0m\u001b[0m\n",
      "\u001b[1;31mIndexError\u001b[0m: list index out of range"
     ]
    }
   ],
   "source": [
    "# 첨엔 페이지갯수 돌고:\n",
    "i=0\n",
    "for k in range(len(pageN)):\n",
    "    url_base ='https://dogpre.com/category/036004?page='\n",
    "    page_url= str(k)\n",
    "    url = url_base + page_url\n",
    "    html = urlopen(url)\n",
    "    soup = BeautifulSoup(html, \"html.parser\")\n",
    "    #한 페이지 안에 돌고\n",
    "    for i in range(len(totalN)) :\n",
    "        name = soup.select('.jss202')[i].get_text()\n",
    "        ori_Price = int(soup.select('.jss204')[i].get_text().replace(',','').replace('원',''))\n",
    "        price =int(soup.select('.jss205')[i].get_text().replace(',','').replace('원',''))\n",
    "        discount = ori_Price - price\n",
    "        rate = round(D_price / ori_Price * 100)\n",
    "\n",
    "\n",
    "        p_url =soup.select('.MuiButtonBase-root.MuiCardActionArea-root.jss192')[i].attrs['href']\n",
    "        product_number = p_url[9:]\n",
    "        product_url = 'https://dogpre.com' + p_url\n",
    "    \n",
    "        r_number = soup.select('.jss206')[i]\n",
    "        spanlis = r_number.find_all('span')\n",
    "        s = spanlis[-1].get_text().replace('(','').replace(',','').replace(')','')\n",
    "        reviewN = int(s)\n",
    "\n",
    "        names.append(name); ori_Prices.append(ori_Price); prices.append(price)\n",
    "        discounts.append(discount) ; rates.append(rate)\n",
    "        p_urls.append(product_url); reviewNs.append(reviewN)\n",
    "\n",
    "\n",
    "\n",
    "\n"
   ]
  },
  {
   "cell_type": "code",
   "execution_count": null,
   "metadata": {},
   "outputs": [],
   "source": [
    "feedInfo = pd.DataFrame({\n",
    "    'name' : names,\n",
    "    'ori_Price': ori_Prices,\n",
    "    'price' : prices,\n",
    "    'discount' : discounts,\n",
    "    'rate': rates,\n",
    "    'page': pages,\n",
    "    'reviewN': reviewNs\n",
    "})\n",
    "feedInfo = feedInfo.set_index('name')\n",
    "print(f'강아지 건식사료')\n",
    "feedInfo "
   ]
  },
  {
   "cell_type": "code",
   "execution_count": null,
   "metadata": {},
   "outputs": [],
   "source": []
  }
 ]
}