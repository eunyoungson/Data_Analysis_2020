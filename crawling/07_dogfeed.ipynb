{
 "metadata": {
  "language_info": {
   "codemirror_mode": {
    "name": "ipython",
    "version": 3
   },
   "file_extension": ".py",
   "mimetype": "text/x-python",
   "name": "python",
   "nbconvert_exporter": "python",
   "pygments_lexer": "ipython3",
   "version": "3.8.3-final"
  },
  "orig_nbformat": 2,
  "kernelspec": {
   "name": "python3",
   "display_name": "Python 3"
  }
 },
 "nbformat": 4,
 "nbformat_minor": 2,
 "cells": [
  {
   "cell_type": "code",
   "execution_count": 166,
   "metadata": {},
   "outputs": [],
   "source": [
    "from bs4 import BeautifulSoup\n",
    "from urllib.request import urlopen\n",
    "import pandas as pd \n",
    "import requests\n",
    "from urllib.parse import urljoin\n",
    "import numpy as np"
   ]
  },
  {
   "cell_type": "code",
   "execution_count": 123,
   "metadata": {},
   "outputs": [],
   "source": [
    "url_base ='https://dogpre.com/category/036004?page='\n",
    "\n",
    "page_url='0'\n",
    "url = url_base + page_url\n",
    "\n",
    "\n",
    "html = urlopen(url)\n",
    "soup = BeautifulSoup(html, \"html.parser\")"
   ]
  },
  {
   "cell_type": "code",
   "execution_count": 114,
   "metadata": {},
   "outputs": [
    {
     "output_type": "execute_result",
     "data": {
      "text/plain": [
       "'/product/23333'"
      ]
     },
     "metadata": {},
     "execution_count": 114
    }
   ],
   "source": [
    "#상품번호\n",
    "p_url =soup.select_one('.MuiButtonBase-root.MuiCardActionArea-root.jss192').attrs['href']\n",
    "p_url"
   ]
  },
  {
   "cell_type": "code",
   "execution_count": 161,
   "metadata": {},
   "outputs": [
    {
     "output_type": "execute_result",
     "data": {
      "text/plain": [
       "'/product/59857'"
      ]
     },
     "metadata": {},
     "execution_count": 161
    }
   ],
   "source": [
    "p_url =soup.select('.MuiButtonBase-root.MuiCardActionArea-root.jss192')[19].attrs['href']\n",
    "p_url"
   ]
  },
  {
   "cell_type": "code",
   "execution_count": 117,
   "metadata": {},
   "outputs": [
    {
     "output_type": "execute_result",
     "data": {
      "text/plain": [
       "'23333'"
      ]
     },
     "metadata": {},
     "execution_count": 117
    }
   ],
   "source": [
    "product_number = p_url[9:]\n",
    "product_number"
   ]
  },
  {
   "cell_type": "code",
   "execution_count": 118,
   "metadata": {},
   "outputs": [
    {
     "output_type": "execute_result",
     "data": {
      "text/plain": [
       "'https://dogpre.com/product/23333'"
      ]
     },
     "metadata": {},
     "execution_count": 118
    }
   ],
   "source": [
    "#page\n",
    "product_url = 'https://dogpre.com/product/' +product_number\n",
    "product_url"
   ]
  },
  {
   "cell_type": "code",
   "execution_count": 119,
   "metadata": {},
   "outputs": [],
   "source": [
    "product_url = 'https://dogpre.com/product/' +product_number\n",
    "\n",
    "#html = urlopen(product_url)\n",
    "soup = BeautifulSoup(html, \"html.parser\")\n"
   ]
  },
  {
   "cell_type": "code",
   "execution_count": null,
   "metadata": {},
   "outputs": [],
   "source": []
  },
  {
   "cell_type": "code",
   "execution_count": 121,
   "metadata": {},
   "outputs": [
    {
     "output_type": "execute_result",
     "data": {
      "text/plain": [
       "'11,000원 (22%)'"
      ]
     },
     "metadata": {},
     "execution_count": 121
    }
   ],
   "source": [
    "#할인가격\n",
    "discount =soup.select_one('.jss205').get_text()\n",
    "discount"
   ]
  },
  {
   "cell_type": "code",
   "execution_count": 139,
   "metadata": {},
   "outputs": [
    {
     "output_type": "execute_result",
     "data": {
      "text/plain": [
       "20"
      ]
     },
     "metadata": {},
     "execution_count": 139
    }
   ],
   "source": [
    "peed_list = soup.select('.MuiPaper-root.MuiCard-root.columnType.jss189.MuiPaper-elevation0')\n",
    "len(peed_list)"
   ]
  },
  {
   "cell_type": "code",
   "execution_count": 158,
   "metadata": {},
   "outputs": [
    {
     "output_type": "execute_result",
     "data": {
      "text/plain": [
       "'네츄럴코어 홀리스틱 베네 M32 멀티프로테인 7.2kg'"
      ]
     },
     "metadata": {},
     "execution_count": 158
    }
   ],
   "source": [
    "name2 = peed_list[0].select_one('.jss202').get_text()\n",
    "name2"
   ]
  },
  {
   "cell_type": "code",
   "execution_count": 124,
   "metadata": {},
   "outputs": [
    {
     "output_type": "execute_result",
     "data": {
      "text/plain": [
       "'네츄럴코어 홀리스틱 베네 M32 멀티프로테인 7.2kg'"
      ]
     },
     "metadata": {},
     "execution_count": 124
    }
   ],
   "source": [
    "#사료이름\n",
    "name = soup.select_one('.jss202').get_text()\n",
    "name"
   ]
  },
  {
   "cell_type": "code",
   "execution_count": 143,
   "metadata": {},
   "outputs": [
    {
     "output_type": "execute_result",
     "data": {
      "text/plain": [
       "'네츄럴코어 홀리스틱 베네 M32 멀티프로테인 7.2kg'"
      ]
     },
     "metadata": {},
     "execution_count": 143
    }
   ],
   "source": [
    "name1 = peed_list[0].select_one('.jss202').get_text()\n",
    "name1"
   ]
  },
  {
   "cell_type": "code",
   "execution_count": 144,
   "metadata": {},
   "outputs": [
    {
     "output_type": "error",
     "ename": "IndexError",
     "evalue": "list index out of range",
     "traceback": [
      "\u001b[1;31m---------------------------------------------------------------------------\u001b[0m",
      "\u001b[1;31mIndexError\u001b[0m                                Traceback (most recent call last)",
      "\u001b[1;32m<ipython-input-144-f2973a848e2e>\u001b[0m in \u001b[0;36m<module>\u001b[1;34m\u001b[0m\n\u001b[1;32m----> 1\u001b[1;33m \u001b[0mname\u001b[0m \u001b[1;33m=\u001b[0m \u001b[0msoup\u001b[0m\u001b[1;33m.\u001b[0m\u001b[0mselect\u001b[0m\u001b[1;33m(\u001b[0m\u001b[1;34m'.jss202'\u001b[0m\u001b[1;33m)\u001b[0m\u001b[1;33m[\u001b[0m\u001b[1;36m21\u001b[0m\u001b[1;33m]\u001b[0m\u001b[1;33m.\u001b[0m\u001b[0mget_text\u001b[0m\u001b[1;33m(\u001b[0m\u001b[1;33m)\u001b[0m\u001b[1;33m\u001b[0m\u001b[1;33m\u001b[0m\u001b[0m\n\u001b[0m\u001b[0;32m      2\u001b[0m \u001b[1;31m#name = name1[2].get_text()\u001b[0m\u001b[1;33m\u001b[0m\u001b[1;33m\u001b[0m\u001b[1;33m\u001b[0m\u001b[0m\n\u001b[0;32m      3\u001b[0m \u001b[0mname\u001b[0m\u001b[1;33m\u001b[0m\u001b[1;33m\u001b[0m\u001b[0m\n",
      "\u001b[1;31mIndexError\u001b[0m: list index out of range"
     ]
    }
   ],
   "source": [
    "name = soup.select('.jss202')[21].get_text()\n",
    "#name = name1[2].get_text()\n",
    "name"
   ]
  },
  {
   "cell_type": "code",
   "execution_count": 188,
   "metadata": {},
   "outputs": [
    {
     "output_type": "execute_result",
     "data": {
      "text/plain": [
       "(49000, int)"
      ]
     },
     "metadata": {},
     "execution_count": 188
    }
   ],
   "source": [
    "#원가격\n",
    "ori_Price1 =int(soup.select_one('.jss204').get_text().replace(',','').replace('원','')) \n",
    "ori_Price1, type(ori_Price1)\n"
   ]
  },
  {
   "cell_type": "code",
   "execution_count": 185,
   "metadata": {},
   "outputs": [
    {
     "output_type": "execute_result",
     "data": {
      "text/plain": [
       "49000"
      ]
     },
     "metadata": {},
     "execution_count": 185
    }
   ],
   "source": [
    "ori_Price= int(ori_Price1.replace(',','').replace('원',''))\n",
    "ori_Price"
   ]
  },
  {
   "cell_type": "code",
   "execution_count": 189,
   "metadata": {},
   "outputs": [
    {
     "output_type": "execute_result",
     "data": {
      "text/plain": [
       "38000"
      ]
     },
     "metadata": {},
     "execution_count": 189
    }
   ],
   "source": [
    "#판매가격\n",
    "price = int(soup.select_one('.jss205').get_text().replace(',','').replace('원',''))\n",
    "price"
   ]
  },
  {
   "cell_type": "code",
   "execution_count": 192,
   "metadata": {},
   "outputs": [
    {
     "output_type": "execute_result",
     "data": {
      "text/plain": [
       "11000"
      ]
     },
     "metadata": {},
     "execution_count": 192
    }
   ],
   "source": [
    "#할인가격\n",
    "D_price = ori_Price - price\n",
    "D_price"
   ]
  },
  {
   "cell_type": "code",
   "execution_count": 197,
   "metadata": {},
   "outputs": [
    {
     "output_type": "execute_result",
     "data": {
      "text/plain": [
       "22"
      ]
     },
     "metadata": {},
     "execution_count": 197
    }
   ],
   "source": [
    "rate = D_price / ori_Price * 100\n",
    "rate\n",
    "round(rate)"
   ]
  },
  {
   "cell_type": "code",
   "execution_count": 177,
   "metadata": {},
   "outputs": [
    {
     "output_type": "execute_result",
     "data": {
      "text/plain": [
       "'41,900원'"
      ]
     },
     "metadata": {},
     "execution_count": 177
    }
   ],
   "source": [
    "price = soup.select('.jss205')[19].get_text()\n",
    "price"
   ]
  },
  {
   "cell_type": "code",
   "execution_count": 165,
   "metadata": {},
   "outputs": [
    {
     "output_type": "execute_result",
     "data": {
      "text/plain": [
       "179"
      ]
     },
     "metadata": {},
     "execution_count": 165
    }
   ],
   "source": [
    "#후기갯수\n",
    "r_number = soup.select('.jss206')[1]\n",
    "spanlis = r_number.find_all('span')\n",
    "s = spanlis[-1].get_text().replace('(','').replace(',','').replace(')','')\n",
    "\n",
    "reviewN = int(s) \n",
    "reviewN  #,type(review)"
   ]
  },
  {
   "cell_type": "code",
   "execution_count": 125,
   "metadata": {},
   "outputs": [
    {
     "output_type": "execute_result",
     "data": {
      "text/plain": [
       "20"
      ]
     },
     "metadata": {},
     "execution_count": 125
    }
   ],
   "source": [
    "#한페이지에 있는 갯수  = 20개씩 있다. \n",
    "totalN = soup.select('.MuiCardContent-root.jss196')\n",
    "len(totalN)"
   ]
  },
  {
   "cell_type": "code",
   "execution_count": 126,
   "metadata": {},
   "outputs": [
    {
     "output_type": "execute_result",
     "data": {
      "text/plain": [
       "10"
      ]
     },
     "metadata": {},
     "execution_count": 126
    }
   ],
   "source": [
    "# 페이지 갯수 \n",
    "pageN = soup.select('.MuiButtonBase-root.MuiPaginationItem-root.jss217.MuiPaginationItem-page.MuiPaginationItem-rounded.MuiPaginationItem-sizeLarge')\n",
    "len(pageN)"
   ]
  },
  {
   "cell_type": "code",
   "execution_count": null,
   "metadata": {},
   "outputs": [],
   "source": [
    "#빈 리스트 만들기>\n",
    "names = []; ori_Prices = []; prices = [];discounts = []; rates=[]; pages = []; reviewNs = []  "
   ]
  },
  {
   "cell_type": "code",
   "execution_count": null,
   "metadata": {},
   "outputs": [],
   "source": [
    "# 첨엔 페이지갯수 돌고:\n",
    "i=0\n",
    "for i in range(len(pageN)):\n",
    "    url_base ='https://dogpre.com/category/036004?page='\n",
    "    page_url= str(i)\n",
    "    url = url_base + page_url\n",
    "    html = urlopen(url)\n",
    "    soup = BeautifulSoup(html, \"html.parser\")\n",
    "    #한 페이지 안에 돌고\n",
    "    for k in range(len(totalN)) :\n",
    "        name = soup.select('.jss202')[i].get_text()\n",
    "        ori_Price = int(soup.select('.jss204')[i].get_text().replace(',','').replace('원',''))\n",
    "        price =int(soup.select('.jss205')[i].get_text().replace(',','').replace('원',''))\n",
    "        discount = ori_Price - price\n",
    "        rate = round(D_price / ori_Price * 100)\n",
    "\n",
    "\n",
    "        p_url =soup.select('.MuiButtonBase-root.MuiCardActionArea-root.jss192')[i].attrs\n",
    "        product_number = p_url[9:]\n",
    "        product_url = 'https://dogpre.com/product/' +product_number\n",
    "    \n",
    "        r_number = soup.select('.jss206')[i]\n",
    "        spanlis = r_number.find_all('span')\n",
    "        s = spanlis[-1].get_text().replace('(','').replace(',','').replace(')','')\n",
    "        reviewN = int(s)\n",
    "\n",
    "        names.append(name); ori_Prices.append(ori_Price); prices.append(price)\n",
    "        discounts.append(discount) ; rates.append(rate)\n",
    "        pages.append(page); reviewNs.append(reviewN)\n",
    "\n",
    "\n",
    "\n",
    "\n"
   ]
  }
 ]
}