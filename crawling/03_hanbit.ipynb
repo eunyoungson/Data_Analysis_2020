{
 "metadata": {
  "language_info": {
   "codemirror_mode": {
    "name": "ipython",
    "version": 3
   },
   "file_extension": ".py",
   "mimetype": "text/x-python",
   "name": "python",
   "nbconvert_exporter": "python",
   "pygments_lexer": "ipython3",
   "version": "3.8.3-final"
  },
  "orig_nbformat": 2,
  "kernelspec": {
   "name": "python3",
   "display_name": "Python 3"
  }
 },
 "nbformat": 4,
 "nbformat_minor": 2,
 "cells": [
  {
   "cell_type": "code",
   "execution_count": 1,
   "metadata": {},
   "outputs": [],
   "source": [
    "from bs4 import BeautifulSoup\n",
    "import pandas as pd \n",
    "import requests\n",
    "import urllib.request"
   ]
  },
  {
   "cell_type": "code",
   "execution_count": 8,
   "metadata": {},
   "outputs": [],
   "source": [
    "url = 'https://www.hanbit.co.kr/academy/books/new_book_list.html'\n",
    "header = {'User-Agent': 'Mozilla/5.0 (Windows NT 6.3; Trident/7.0; rv:11.0) like Gecko'}\n",
    "req = requests.get(url, headers = header) \n",
    "html = req.text"
   ]
  },
  {
   "cell_type": "code",
   "execution_count": 9,
   "metadata": {},
   "outputs": [],
   "source": [
    "soup = BeautifulSoup(html, 'html.parser')"
   ]
  },
  {
   "cell_type": "code",
   "execution_count": 17,
   "metadata": {},
   "outputs": [
    {
     "output_type": "execute_result",
     "data": {
      "text/plain": [
       "20"
      ]
     },
     "metadata": {},
     "execution_count": 17
    }
   ],
   "source": [
    "book_list =soup.select('.info')\n",
    "len(book_list)"
   ]
  },
  {
   "cell_type": "code",
   "execution_count": 18,
   "metadata": {},
   "outputs": [
    {
     "output_type": "execute_result",
     "data": {
      "text/plain": [
       "'포르잔 C++ 에센셜'"
      ]
     },
     "metadata": {},
     "execution_count": 18
    }
   ],
   "source": [
    "title = book_list[0].select_one('.book_tit').string\n",
    "title"
   ]
  },
  {
   "cell_type": "code",
   "execution_count": 19,
   "metadata": {},
   "outputs": [
    {
     "output_type": "execute_result",
     "data": {
      "text/plain": [
       "'Behrouz A. Forouzan , Richard F. Gilberg '"
      ]
     },
     "metadata": {},
     "execution_count": 19
    }
   ],
   "source": [
    "writer = book_list[0].select_one('.book_writer').string\n",
    "writer"
   ]
  },
  {
   "cell_type": "code",
   "execution_count": 21,
   "metadata": {},
   "outputs": [],
   "source": [
    "sub_book_list =soup.select('.sub_book_list')"
   ]
  },
  {
   "cell_type": "code",
   "execution_count": 37,
   "metadata": {},
   "outputs": [
    {
     "output_type": "execute_result",
     "data": {
      "text/plain": [
       "'32,000원'"
      ]
     },
     "metadata": {},
     "execution_count": 37
    }
   ],
   "source": [
    "price = sub_book_list[0].select_one('.price').get_text()\n",
    "price\n"
   ]
  },
  {
   "cell_type": "code",
   "execution_count": 38,
   "metadata": {},
   "outputs": [],
   "source": [
    "#빈리스트를 만든다"
   ]
  },
  {
   "cell_type": "code",
   "execution_count": 40,
   "metadata": {},
   "outputs": [],
   "source": [
    "titles =[]; writers = []; prices =[]"
   ]
  },
  {
   "cell_type": "code",
   "execution_count": 49,
   "metadata": {},
   "outputs": [],
   "source": [
    "book_list =soup.select('.sub_book_list')"
   ]
  },
  {
   "cell_type": "code",
   "execution_count": 50,
   "metadata": {},
   "outputs": [],
   "source": [
    "for book in book_list:\n",
    "    title = book.select_one('.book_tit').get_text()\n",
    "    writer = book.select_one('.book_writer').get_text()\n",
    "    price = book.select_one('.price').get_text()\n",
    "\n",
    "    titles.append(title)\n",
    "    writers.append(writer)\n",
    "    prices.append(price)"
   ]
  },
  {
   "cell_type": "code",
   "execution_count": 51,
   "metadata": {},
   "outputs": [
    {
     "output_type": "stream",
     "name": "stdout",
     "text": [
      "새로나온 책\n"
     ]
    },
    {
     "output_type": "execute_result",
     "data": {
      "text/plain": [
       "                                                                              writer  \\\n",
       "title                                                                                  \n",
       "포르잔 C++ 에센셜                                Behrouz A. Forouzan , Richard F. Gilberg    \n",
       "IT CookBook, 액세스 2019로 배우는 데이터베이스 기초와 실습                                        김지연    \n",
       "포르잔 C++ 바이블                                Behrouz A. Forouzan , Richard F. Gilberg    \n",
       "딥러닝을 위한 선형대수학                                                        Gilbert Strang    \n",
       "IT CookBook, 오라클로 배우는 데이터베이스 개론과 실습(2판)                             박우창 , 남송휘 , 이현룡    \n",
       "대학을 버려야 대학이 산다                                                  조동성 외 인천대학교 가족 178명    \n",
       "IT CookBook, 따라 하면서 배우는 사물인터넷                                                   양재삼    \n",
       "R로 하는 다변량 데이터 분석 : 이론부터 실무 활용까지                       카와하시 잇코 , 이와마 노리카즈 , 스즈키 마사유키    \n",
       "창의적 공학설계(3판)                                                                    김은경    \n",
       "공학 핵심수학(2판)  : 기초부터 심화까지 핵심만 쏙쏙                                                 함남우    \n",
       "응용이 보이는 선형대수학 : 파이썬과 함께하는 선형대수학 이론과 응용                                          이건명    \n",
       "IT CookBook, 초연결 사회의 데이터통신과 네트워킹                                                강문식    \n",
       "IT CookBook, 쉽게 배우는 MFC 윈도우 프로그래밍                                         김선우 , 신화선    \n",
       "IT CookBook, 인공지능 시대를 위한 컴퓨터 과학 개론                                              정기철    \n",
       "IT CookBook, 코틀린을 활용한 안드로이드 프로그래밍                                         우재남 , 유혜림    \n",
       "IT CookBook, 처음 만나는 신재생에너지                                                      김지홍    \n",
       "프리드버그 선형대수학                                   스티븐 H. 프리드버그 , 아놀드 J. 인셀 , 로렌스 E. 스펜스    \n",
       "IT CookBook, CentOS 리눅스                                                         이종원    \n",
       "Microeconomics, 6th Edition, Asia Edition         David Besanko , Ronald Braeutigam    \n",
       "누구나 파이썬 통계분석                                                               타니아이 히로키    \n",
       "\n",
       "                                             price  \n",
       "title                                               \n",
       "포르잔 C++ 에센셜                                32,000원  \n",
       "IT CookBook, 액세스 2019로 배우는 데이터베이스 기초와 실습   28,000원  \n",
       "포르잔 C++ 바이블                                45,000원  \n",
       "딥러닝을 위한 선형대수학                              38,000원  \n",
       "IT CookBook, 오라클로 배우는 데이터베이스 개론과 실습(2판)    29,000원  \n",
       "대학을 버려야 대학이 산다                             18,000원  \n",
       "IT CookBook, 따라 하면서 배우는 사물인터넷              28,000원  \n",
       "R로 하는 다변량 데이터 분석 : 이론부터 실무 활용까지            32,000원  \n",
       "창의적 공학설계(3판)                               23,000원  \n",
       "공학 핵심수학(2판)  : 기초부터 심화까지 핵심만 쏙쏙            23,000원  \n",
       "응용이 보이는 선형대수학 : 파이썬과 함께하는 선형대수학 이론과 응용     31,000원  \n",
       "IT CookBook, 초연결 사회의 데이터통신과 네트워킹           29,000원  \n",
       "IT CookBook, 쉽게 배우는 MFC 윈도우 프로그래밍          30,000원  \n",
       "IT CookBook, 인공지능 시대를 위한 컴퓨터 과학 개론         27,000원  \n",
       "IT CookBook, 코틀린을 활용한 안드로이드 프로그래밍          34,000원  \n",
       "IT CookBook, 처음 만나는 신재생에너지                 25,000원  \n",
       "프리드버그 선형대수학                                35,000원  \n",
       "IT CookBook, CentOS 리눅스                    32,000원  \n",
       "Microeconomics, 6th Edition, Asia Edition  49,000원  \n",
       "누구나 파이썬 통계분석                               26,000원  "
      ],
      "text/html": "<div>\n<style scoped>\n    .dataframe tbody tr th:only-of-type {\n        vertical-align: middle;\n    }\n\n    .dataframe tbody tr th {\n        vertical-align: top;\n    }\n\n    .dataframe thead th {\n        text-align: right;\n    }\n</style>\n<table border=\"1\" class=\"dataframe\">\n  <thead>\n    <tr style=\"text-align: right;\">\n      <th></th>\n      <th>writer</th>\n      <th>price</th>\n    </tr>\n    <tr>\n      <th>title</th>\n      <th></th>\n      <th></th>\n    </tr>\n  </thead>\n  <tbody>\n    <tr>\n      <th>포르잔 C++ 에센셜</th>\n      <td>Behrouz A. Forouzan , Richard F. Gilberg</td>\n      <td>32,000원</td>\n    </tr>\n    <tr>\n      <th>IT CookBook, 액세스 2019로 배우는 데이터베이스 기초와 실습</th>\n      <td>김지연</td>\n      <td>28,000원</td>\n    </tr>\n    <tr>\n      <th>포르잔 C++ 바이블</th>\n      <td>Behrouz A. Forouzan , Richard F. Gilberg</td>\n      <td>45,000원</td>\n    </tr>\n    <tr>\n      <th>딥러닝을 위한 선형대수학</th>\n      <td>Gilbert Strang</td>\n      <td>38,000원</td>\n    </tr>\n    <tr>\n      <th>IT CookBook, 오라클로 배우는 데이터베이스 개론과 실습(2판)</th>\n      <td>박우창 , 남송휘 , 이현룡</td>\n      <td>29,000원</td>\n    </tr>\n    <tr>\n      <th>대학을 버려야 대학이 산다</th>\n      <td>조동성 외 인천대학교 가족 178명</td>\n      <td>18,000원</td>\n    </tr>\n    <tr>\n      <th>IT CookBook, 따라 하면서 배우는 사물인터넷</th>\n      <td>양재삼</td>\n      <td>28,000원</td>\n    </tr>\n    <tr>\n      <th>R로 하는 다변량 데이터 분석 : 이론부터 실무 활용까지</th>\n      <td>카와하시 잇코 , 이와마 노리카즈 , 스즈키 마사유키</td>\n      <td>32,000원</td>\n    </tr>\n    <tr>\n      <th>창의적 공학설계(3판)</th>\n      <td>김은경</td>\n      <td>23,000원</td>\n    </tr>\n    <tr>\n      <th>공학 핵심수학(2판)  : 기초부터 심화까지 핵심만 쏙쏙</th>\n      <td>함남우</td>\n      <td>23,000원</td>\n    </tr>\n    <tr>\n      <th>응용이 보이는 선형대수학 : 파이썬과 함께하는 선형대수학 이론과 응용</th>\n      <td>이건명</td>\n      <td>31,000원</td>\n    </tr>\n    <tr>\n      <th>IT CookBook, 초연결 사회의 데이터통신과 네트워킹</th>\n      <td>강문식</td>\n      <td>29,000원</td>\n    </tr>\n    <tr>\n      <th>IT CookBook, 쉽게 배우는 MFC 윈도우 프로그래밍</th>\n      <td>김선우 , 신화선</td>\n      <td>30,000원</td>\n    </tr>\n    <tr>\n      <th>IT CookBook, 인공지능 시대를 위한 컴퓨터 과학 개론</th>\n      <td>정기철</td>\n      <td>27,000원</td>\n    </tr>\n    <tr>\n      <th>IT CookBook, 코틀린을 활용한 안드로이드 프로그래밍</th>\n      <td>우재남 , 유혜림</td>\n      <td>34,000원</td>\n    </tr>\n    <tr>\n      <th>IT CookBook, 처음 만나는 신재생에너지</th>\n      <td>김지홍</td>\n      <td>25,000원</td>\n    </tr>\n    <tr>\n      <th>프리드버그 선형대수학</th>\n      <td>스티븐 H. 프리드버그 , 아놀드 J. 인셀 , 로렌스 E. 스펜스</td>\n      <td>35,000원</td>\n    </tr>\n    <tr>\n      <th>IT CookBook, CentOS 리눅스</th>\n      <td>이종원</td>\n      <td>32,000원</td>\n    </tr>\n    <tr>\n      <th>Microeconomics, 6th Edition, Asia Edition</th>\n      <td>David Besanko , Ronald Braeutigam</td>\n      <td>49,000원</td>\n    </tr>\n    <tr>\n      <th>누구나 파이썬 통계분석</th>\n      <td>타니아이 히로키</td>\n      <td>26,000원</td>\n    </tr>\n  </tbody>\n</table>\n</div>"
     },
     "metadata": {},
     "execution_count": 51
    }
   ],
   "source": [
    "newBook = pd.DataFrame({\n",
    "    'title': titles,\n",
    "    'writer': writers,\n",
    "    'price' : prices\n",
    "})\n",
    "newBook = newBook.set_index('title')\n",
    "print(f'새로나온 책')\n",
    "newBook"
   ]
  },
  {
   "cell_type": "code",
   "execution_count": 52,
   "metadata": {},
   "outputs": [],
   "source": [
    "import numpy as np \n",
    "import pandas as pd \n",
    "import matplotlib as mpl\n",
    "import matplotlib.pyplot as plt\n",
    "import seaborn as sns\n",
    "%matplotlib inline\n",
    "\n",
    "mpl.rc('font', family='Malgun Gothic')\n",
    "mpl.rc('axes', unicode_minus=False)"
   ]
  },
  {
   "cell_type": "code",
   "execution_count": 64,
   "metadata": {},
   "outputs": [
    {
     "output_type": "display_data",
     "data": {
      "text/plain": "<Figure size 864x360 with 1 Axes>",
      "image/svg+xml": "<?xml version=\"1.0\" encoding=\"utf-8\" standalone=\"no\"?>\r\n<!DOCTYPE svg PUBLIC \"-//W3C//DTD SVG 1.1//EN\"\r\n  \"http://www.w3.org/Graphics/SVG/1.1/DTD/svg11.dtd\">\r\n<!-- Created with matplotlib (https://matplotlib.org/) -->\r\n<svg height=\"332.223125pt\" version=\"1.1\" viewBox=\"0 0 718.159375 332.223125\" width=\"718.159375pt\" xmlns=\"http://www.w3.org/2000/svg\" xmlns:xlink=\"http://www.w3.org/1999/xlink\">\r\n <defs>\r\n  <style type=\"text/css\">\r\n*{stroke-linecap:butt;stroke-linejoin:round;}\r\n  </style>\r\n </defs>\r\n <g id=\"figure_1\">\r\n  <g id=\"patch_1\">\r\n   <path d=\"M 0 332.223125 \r\nL 718.159375 332.223125 \r\nL 718.159375 0 \r\nL 0 0 \r\nz\r\n\" style=\"fill:none;\"/>\r\n  </g>\r\n  <g id=\"axes_1\">\r\n   <g id=\"patch_2\">\r\n    <path d=\"M 41.359375 294.110625 \r\nL 710.959375 294.110625 \r\nL 710.959375 22.310625 \r\nL 41.359375 22.310625 \r\nz\r\n\" style=\"fill:#ffffff;\"/>\r\n   </g>\r\n   <g id=\"patch_3\">\r\n    <path clip-path=\"url(#pdb0c83ea18)\" d=\"M 45.823375 294.110625 \r\nL 81.535375 294.110625 \r\nL 81.535375 35.253482 \r\nL 45.823375 35.253482 \r\nz\r\n\" style=\"fill:#ea96a3;\"/>\r\n   </g>\r\n   <g id=\"patch_4\">\r\n    <path clip-path=\"url(#pdb0c83ea18)\" d=\"M 90.463375 294.110625 \r\nL 126.175375 294.110625 \r\nL 126.175375 121.539196 \r\nL 90.463375 121.539196 \r\nz\r\n\" style=\"fill:#e59471;\"/>\r\n   </g>\r\n   <g id=\"patch_5\">\r\n    <path clip-path=\"url(#pdb0c83ea18)\" d=\"M 135.103375 294.110625 \r\nL 170.815375 294.110625 \r\nL 170.815375 207.824911 \r\nL 135.103375 207.824911 \r\nz\r\n\" style=\"fill:#c6994b;\"/>\r\n   </g>\r\n   <g id=\"patch_6\">\r\n    <path clip-path=\"url(#pdb0c83ea18)\" d=\"M 179.743375 294.110625 \r\nL 215.455375 294.110625 \r\nL 215.455375 207.824911 \r\nL 179.743375 207.824911 \r\nz\r\n\" style=\"fill:#ab9e47;\"/>\r\n   </g>\r\n   <g id=\"patch_7\">\r\n    <path clip-path=\"url(#pdb0c83ea18)\" d=\"M 224.383375 294.110625 \r\nL 260.095375 294.110625 \r\nL 260.095375 121.539196 \r\nL 224.383375 121.539196 \r\nz\r\n\" style=\"fill:#91a446;\"/>\r\n   </g>\r\n   <g id=\"patch_8\">\r\n    <path clip-path=\"url(#pdb0c83ea18)\" d=\"M 269.023375 294.110625 \r\nL 304.735375 294.110625 \r\nL 304.735375 207.824911 \r\nL 269.023375 207.824911 \r\nz\r\n\" style=\"fill:#60ae47;\"/>\r\n   </g>\r\n   <g id=\"patch_9\">\r\n    <path clip-path=\"url(#pdb0c83ea18)\" d=\"M 313.663375 294.110625 \r\nL 349.375375 294.110625 \r\nL 349.375375 121.539196 \r\nL 313.663375 121.539196 \r\nz\r\n\" style=\"fill:#49ae83;\"/>\r\n   </g>\r\n   <g id=\"patch_10\">\r\n    <path clip-path=\"url(#pdb0c83ea18)\" d=\"M 358.303375 294.110625 \r\nL 394.015375 294.110625 \r\nL 394.015375 207.824911 \r\nL 358.303375 207.824911 \r\nz\r\n\" style=\"fill:#4aac9b;\"/>\r\n   </g>\r\n   <g id=\"patch_11\">\r\n    <path clip-path=\"url(#pdb0c83ea18)\" d=\"M 402.943375 294.110625 \r\nL 438.655375 294.110625 \r\nL 438.655375 207.824911 \r\nL 402.943375 207.824911 \r\nz\r\n\" style=\"fill:#4cabad;\"/>\r\n   </g>\r\n   <g id=\"patch_12\">\r\n    <path clip-path=\"url(#pdb0c83ea18)\" d=\"M 447.583375 294.110625 \r\nL 483.295375 294.110625 \r\nL 483.295375 207.824911 \r\nL 447.583375 207.824911 \r\nz\r\n\" style=\"fill:#50acc3;\"/>\r\n   </g>\r\n   <g id=\"patch_13\">\r\n    <path clip-path=\"url(#pdb0c83ea18)\" d=\"M 492.223375 294.110625 \r\nL 527.935375 294.110625 \r\nL 527.935375 207.824911 \r\nL 492.223375 207.824911 \r\nz\r\n\" style=\"fill:#6daee2;\"/>\r\n   </g>\r\n   <g id=\"patch_14\">\r\n    <path clip-path=\"url(#pdb0c83ea18)\" d=\"M 536.863375 294.110625 \r\nL 572.575375 294.110625 \r\nL 572.575375 207.824911 \r\nL 536.863375 207.824911 \r\nz\r\n\" style=\"fill:#adabeb;\"/>\r\n   </g>\r\n   <g id=\"patch_15\">\r\n    <path clip-path=\"url(#pdb0c83ea18)\" d=\"M 581.503375 294.110625 \r\nL 617.215375 294.110625 \r\nL 617.215375 207.824911 \r\nL 581.503375 207.824911 \r\nz\r\n\" style=\"fill:#ce9be9;\"/>\r\n   </g>\r\n   <g id=\"patch_16\">\r\n    <path clip-path=\"url(#pdb0c83ea18)\" d=\"M 626.143375 294.110625 \r\nL 661.855375 294.110625 \r\nL 661.855375 207.824911 \r\nL 626.143375 207.824911 \r\nz\r\n\" style=\"fill:#e78bdb;\"/>\r\n   </g>\r\n   <g id=\"patch_17\">\r\n    <path clip-path=\"url(#pdb0c83ea18)\" d=\"M 670.783375 294.110625 \r\nL 706.495375 294.110625 \r\nL 706.495375 207.824911 \r\nL 670.783375 207.824911 \r\nz\r\n\" style=\"fill:#e891bf;\"/>\r\n   </g>\r\n   <g id=\"matplotlib.axis_1\">\r\n    <g id=\"xtick_1\">\r\n     <g id=\"line2d_1\">\r\n      <defs>\r\n       <path d=\"M 0 0 \r\nL 0 3.5 \r\n\" id=\"md297d9db07\" style=\"stroke:#000000;stroke-width:0.8;\"/>\r\n      </defs>\r\n      <g>\r\n       <use style=\"stroke:#000000;stroke-width:0.8;\" x=\"63.679375\" xlink:href=\"#md297d9db07\" y=\"294.110625\"/>\r\n      </g>\r\n     </g>\r\n     <g id=\"text_1\">\r\n      <!-- 32,000원 -->\r\n      <defs>\r\n       <path d=\"M 6.5 11.234375 \r\nQ 13.921875 5.375 23.09375 5.375 \r\nQ 30.609375 5.375 35.21875 9.171875 \r\nQ 39.84375 12.984375 39.84375 19.484375 \r\nQ 39.84375 33.890625 19.578125 33.890625 \r\nL 13.625 33.890625 \r\nL 13.625 40.484375 \r\nL 19.28125 40.484375 \r\nQ 37.3125 40.484375 37.3125 53.953125 \r\nQ 37.3125 66.40625 23.578125 66.40625 \r\nQ 15.96875 66.40625 9.28125 61.1875 \r\nL 9.28125 68.953125 \r\nQ 16.109375 73.046875 25.53125 73.046875 \r\nQ 34.125 73.046875 39.671875 68.3125 \r\nQ 45.21875 63.578125 45.21875 55.953125 \r\nQ 45.21875 41.84375 30.8125 37.640625 \r\nL 30.8125 37.5 \r\nQ 38.578125 36.8125 43.1875 32.078125 \r\nQ 47.796875 27.34375 47.796875 20.3125 \r\nQ 47.796875 10.5 40.6875 4.640625 \r\nQ 33.59375 -1.21875 22.65625 -1.21875 \r\nQ 12.59375 -1.21875 6.5 2.640625 \r\nz\r\n\" id=\"MalgunGothic-51\"/>\r\n       <path d=\"M 39.359375 52.6875 \r\nQ 39.359375 59.125 35.546875 62.78125 \r\nQ 31.734375 66.453125 25.4375 66.453125 \r\nQ 20.953125 66.453125 16.453125 64.125 \r\nQ 11.96875 61.8125 8.34375 57.765625 \r\nL 8.34375 66.15625 \r\nQ 15.328125 73.046875 26.421875 73.046875 \r\nQ 35.640625 73.046875 41.28125 67.71875 \r\nQ 46.921875 62.40625 46.921875 53.375 \r\nQ 46.921875 45.609375 43.3125 39.765625 \r\nQ 39.703125 33.9375 31 27.734375 \r\nQ 22.796875 21.96875 19.59375 18.984375 \r\nQ 16.40625 16.015625 15.109375 13.34375 \r\nQ 13.8125 10.6875 13.8125 7.03125 \r\nL 48.6875 7.03125 \r\nL 48.6875 0 \r\nL 5.5625 0 \r\nL 5.5625 3.515625 \r\nQ 5.5625 9.421875 7.203125 13.59375 \r\nQ 8.84375 17.78125 12.671875 21.75 \r\nQ 16.5 25.734375 24.953125 31.59375 \r\nQ 32.671875 36.921875 36.015625 41.71875 \r\nQ 39.359375 46.53125 39.359375 52.6875 \r\nz\r\n\" id=\"MalgunGothic-50\"/>\r\n       <path d=\"M 15.4375 11.328125 \r\nL 7.375 -13.28125 \r\nL 1.953125 -13.28125 \r\nL 7.859375 11.328125 \r\nz\r\n\" id=\"MalgunGothic-44\"/>\r\n       <path d=\"M 4.34375 34.46875 \r\nQ 4.34375 53.515625 10.546875 63.28125 \r\nQ 16.75 73.046875 28.421875 73.046875 \r\nQ 50.828125 73.046875 50.828125 36.234375 \r\nQ 50.828125 18.0625 44.59375 8.421875 \r\nQ 38.375 -1.21875 26.8125 -1.21875 \r\nQ 15.875 -1.21875 10.109375 8.125 \r\nQ 4.34375 17.484375 4.34375 34.46875 \r\nz\r\nM 12.25 34.859375 \r\nQ 12.25 5.375 27.640625 5.375 \r\nQ 42.921875 5.375 42.921875 35.296875 \r\nQ 42.921875 66.40625 28.03125 66.40625 \r\nQ 12.25 66.40625 12.25 34.859375 \r\nz\r\n\" id=\"MalgunGothic-48\"/>\r\n       <path d=\"M 77.78125 10.890625 \r\nL 77.78125 21 \r\nL 57.171875 21 \r\nL 57.171875 27.484375 \r\nL 77.78125 27.484375 \r\nL 77.78125 85.40625 \r\nL 85.203125 85.40625 \r\nL 85.203125 10.890625 \r\nz\r\nM 41.015625 47.796875 \r\nQ 30.71875 47.796875 24.1875 52.96875 \r\nQ 17.671875 58.15625 17.671875 65.828125 \r\nQ 17.671875 73.390625 24.140625 78.53125 \r\nQ 30.609375 83.6875 41.015625 83.6875 \r\nQ 51.375 83.6875 57.84375 78.578125 \r\nQ 64.3125 73.484375 64.3125 65.828125 \r\nQ 64.3125 58.109375 57.8125 52.953125 \r\nQ 51.3125 47.796875 41.015625 47.796875 \r\nz\r\nM 41.015625 77.484375 \r\nQ 33.796875 77.484375 29.390625 73.96875 \r\nQ 25 70.453125 25 65.828125 \r\nQ 25 61.078125 29.390625 57.53125 \r\nQ 33.796875 54 41.015625 54 \r\nQ 48.25 54 52.65625 57.53125 \r\nQ 57.078125 61.078125 57.078125 65.828125 \r\nQ 57.078125 70.453125 52.65625 73.96875 \r\nQ 48.25 77.484375 41.015625 77.484375 \r\nz\r\nM 71.1875 35.796875 \r\nQ 64.0625 35.296875 45.015625 34.515625 \r\nL 45.015625 14.203125 \r\nL 37.796875 14.203125 \r\nL 37.796875 34.1875 \r\nQ 18.890625 33.5 10.015625 33.5 \r\nL 8.984375 40.28125 \r\nQ 44.578125 40.28125 70.703125 42.09375 \r\nz\r\nM 23.578125 -6.296875 \r\nL 23.578125 21.921875 \r\nL 30.90625 21.921875 \r\nL 30.90625 0.203125 \r\nL 87.5 0.203125 \r\nL 87.5 -6.296875 \r\nz\r\n\" id=\"MalgunGothic-50896\"/>\r\n      </defs>\r\n      <g transform=\"translate(43.816094 308.702812)scale(0.1 -0.1)\">\r\n       <use xlink:href=\"#MalgunGothic-51\"/>\r\n       <use x=\"55.078125\" xlink:href=\"#MalgunGothic-50\"/>\r\n       <use x=\"110.15625\" xlink:href=\"#MalgunGothic-44\"/>\r\n       <use x=\"132.03125\" xlink:href=\"#MalgunGothic-48\"/>\r\n       <use x=\"187.109375\" xlink:href=\"#MalgunGothic-48\"/>\r\n       <use x=\"242.1875\" xlink:href=\"#MalgunGothic-48\"/>\r\n       <use x=\"297.265625\" xlink:href=\"#MalgunGothic-50896\"/>\r\n      </g>\r\n     </g>\r\n    </g>\r\n    <g id=\"xtick_2\">\r\n     <g id=\"line2d_2\">\r\n      <g>\r\n       <use style=\"stroke:#000000;stroke-width:0.8;\" x=\"108.319375\" xlink:href=\"#md297d9db07\" y=\"294.110625\"/>\r\n      </g>\r\n     </g>\r\n     <g id=\"text_2\">\r\n      <!-- 28,000원 -->\r\n      <defs>\r\n       <path d=\"M 4.734375 20.015625 \r\nQ 4.734375 26.078125 8.421875 31.421875 \r\nQ 12.109375 36.765625 18.015625 38.96875 \r\nQ 13.375 41.359375 10.546875 45.546875 \r\nQ 7.71875 49.75 7.71875 54.6875 \r\nQ 7.71875 59.8125 10.296875 64.03125 \r\nQ 12.890625 68.265625 17.53125 70.65625 \r\nQ 22.171875 73.046875 27.78125 73.046875 \r\nQ 36.46875 73.046875 42.1875 67.84375 \r\nQ 47.90625 62.640625 47.90625 54.6875 \r\nQ 47.90625 49.703125 45.015625 45.53125 \r\nQ 42.140625 41.359375 37.703125 38.96875 \r\nQ 43.5625 36.71875 47.21875 31.390625 \r\nQ 50.875 26.078125 50.875 20.015625 \r\nQ 50.875 10.5 44.421875 4.640625 \r\nQ 37.984375 -1.21875 27.78125 -1.21875 \r\nQ 17.671875 -1.21875 11.203125 4.703125 \r\nQ 4.734375 10.640625 4.734375 20.015625 \r\nz\r\nM 12.640625 20.75 \r\nQ 12.640625 13.71875 16.890625 9.546875 \r\nQ 21.140625 5.375 27.828125 5.375 \r\nQ 34.46875 5.375 38.78125 9.671875 \r\nQ 43.109375 13.96875 43.109375 20.75 \r\nQ 43.109375 27.046875 38.78125 31.421875 \r\nQ 34.46875 35.796875 27.828125 35.796875 \r\nQ 21.4375 35.796875 17.03125 31.5625 \r\nQ 12.640625 27.34375 12.640625 20.75 \r\nz\r\nM 15.671875 54.046875 \r\nQ 15.671875 48.828125 19.28125 45.3125 \r\nQ 22.90625 41.796875 27.828125 41.796875 \r\nQ 32.765625 41.796875 36.40625 45.3125 \r\nQ 40.046875 48.828125 40.046875 54.046875 \r\nQ 40.046875 59.421875 36.578125 62.90625 \r\nQ 33.109375 66.40625 27.828125 66.40625 \r\nQ 22.65625 66.40625 19.15625 62.953125 \r\nQ 15.671875 59.515625 15.671875 54.046875 \r\nz\r\n\" id=\"MalgunGothic-56\"/>\r\n      </defs>\r\n      <g transform=\"translate(88.456094 308.702812)scale(0.1 -0.1)\">\r\n       <use xlink:href=\"#MalgunGothic-50\"/>\r\n       <use x=\"55.078125\" xlink:href=\"#MalgunGothic-56\"/>\r\n       <use x=\"110.15625\" xlink:href=\"#MalgunGothic-44\"/>\r\n       <use x=\"132.03125\" xlink:href=\"#MalgunGothic-48\"/>\r\n       <use x=\"187.109375\" xlink:href=\"#MalgunGothic-48\"/>\r\n       <use x=\"242.1875\" xlink:href=\"#MalgunGothic-48\"/>\r\n       <use x=\"297.265625\" xlink:href=\"#MalgunGothic-50896\"/>\r\n      </g>\r\n     </g>\r\n    </g>\r\n    <g id=\"xtick_3\">\r\n     <g id=\"line2d_3\">\r\n      <g>\r\n       <use style=\"stroke:#000000;stroke-width:0.8;\" x=\"152.959375\" xlink:href=\"#md297d9db07\" y=\"294.110625\"/>\r\n      </g>\r\n     </g>\r\n     <g id=\"text_3\">\r\n      <!-- 45,000원 -->\r\n      <defs>\r\n       <path d=\"M 42.234375 71.875 \r\nL 42.234375 24.421875 \r\nL 51.703125 24.421875 \r\nL 51.703125 17.390625 \r\nL 42.234375 17.390625 \r\nL 42.234375 0 \r\nL 34.578125 0 \r\nL 34.578125 17.390625 \r\nL 0.78125 17.390625 \r\nL 0.78125 23.96875 \r\nQ 11.375 35.890625 20.234375 48.578125 \r\nQ 29.109375 61.28125 33.9375 71.875 \r\nz\r\nM 9.765625 24.421875 \r\nL 34.578125 24.421875 \r\nL 34.578125 59.859375 \r\nQ 25.203125 43.5625 14.984375 30.953125 \r\nz\r\n\" id=\"MalgunGothic-52\"/>\r\n       <path d=\"M 48 21.921875 \r\nQ 48 11.28125 41.1875 5.03125 \r\nQ 34.375 -1.21875 22.953125 -1.21875 \r\nQ 12.9375 -1.21875 8.0625 1.765625 \r\nL 8.0625 10.15625 \r\nQ 15.53125 5.375 23.046875 5.375 \r\nQ 30.765625 5.375 35.46875 9.84375 \r\nQ 40.1875 14.3125 40.1875 21.4375 \r\nQ 40.1875 28.71875 35.390625 32.6875 \r\nQ 30.609375 36.671875 21.578125 36.671875 \r\nQ 15.53125 36.671875 9.421875 35.9375 \r\nL 11.859375 71.875 \r\nL 44.828125 71.875 \r\nL 44.828125 64.796875 \r\nL 18.84375 64.796875 \r\nL 17.28125 43.171875 \r\nQ 21.046875 43.5 24.171875 43.5 \r\nQ 35.359375 43.5 41.671875 37.71875 \r\nQ 48 31.9375 48 21.921875 \r\nz\r\n\" id=\"MalgunGothic-53\"/>\r\n      </defs>\r\n      <g transform=\"translate(133.096094 308.702812)scale(0.1 -0.1)\">\r\n       <use xlink:href=\"#MalgunGothic-52\"/>\r\n       <use x=\"55.078125\" xlink:href=\"#MalgunGothic-53\"/>\r\n       <use x=\"110.15625\" xlink:href=\"#MalgunGothic-44\"/>\r\n       <use x=\"132.03125\" xlink:href=\"#MalgunGothic-48\"/>\r\n       <use x=\"187.109375\" xlink:href=\"#MalgunGothic-48\"/>\r\n       <use x=\"242.1875\" xlink:href=\"#MalgunGothic-48\"/>\r\n       <use x=\"297.265625\" xlink:href=\"#MalgunGothic-50896\"/>\r\n      </g>\r\n     </g>\r\n    </g>\r\n    <g id=\"xtick_4\">\r\n     <g id=\"line2d_4\">\r\n      <g>\r\n       <use style=\"stroke:#000000;stroke-width:0.8;\" x=\"197.599375\" xlink:href=\"#md297d9db07\" y=\"294.110625\"/>\r\n      </g>\r\n     </g>\r\n     <g id=\"text_4\">\r\n      <!-- 38,000원 -->\r\n      <g transform=\"translate(177.736094 308.702812)scale(0.1 -0.1)\">\r\n       <use xlink:href=\"#MalgunGothic-51\"/>\r\n       <use x=\"55.078125\" xlink:href=\"#MalgunGothic-56\"/>\r\n       <use x=\"110.15625\" xlink:href=\"#MalgunGothic-44\"/>\r\n       <use x=\"132.03125\" xlink:href=\"#MalgunGothic-48\"/>\r\n       <use x=\"187.109375\" xlink:href=\"#MalgunGothic-48\"/>\r\n       <use x=\"242.1875\" xlink:href=\"#MalgunGothic-48\"/>\r\n       <use x=\"297.265625\" xlink:href=\"#MalgunGothic-50896\"/>\r\n      </g>\r\n     </g>\r\n    </g>\r\n    <g id=\"xtick_5\">\r\n     <g id=\"line2d_5\">\r\n      <g>\r\n       <use style=\"stroke:#000000;stroke-width:0.8;\" x=\"242.239375\" xlink:href=\"#md297d9db07\" y=\"294.110625\"/>\r\n      </g>\r\n     </g>\r\n     <g id=\"text_5\">\r\n      <!-- 29,000원 -->\r\n      <defs>\r\n       <path d=\"M 8.6875 8.796875 \r\nQ 14.703125 5.375 21.34375 5.375 \r\nQ 31.15625 5.375 36.671875 13.359375 \r\nQ 42.1875 21.34375 42.1875 36.140625 \r\nQ 42.09375 36.03125 42 36.140625 \r\nQ 37.3125 26.765625 25.828125 26.765625 \r\nQ 16.546875 26.765625 10.65625 33.125 \r\nQ 4.78125 39.5 4.78125 49.125 \r\nQ 4.78125 59.46875 11.109375 66.25 \r\nQ 17.4375 73.046875 27.6875 73.046875 \r\nQ 38.53125 73.046875 44.265625 64.546875 \r\nQ 50 56.0625 50 40.28125 \r\nQ 50 20.609375 42.453125 9.6875 \r\nQ 34.90625 -1.21875 21 -1.21875 \r\nQ 13.765625 -1.21875 8.6875 1.21875 \r\nz\r\nM 12.703125 50.296875 \r\nQ 12.703125 42.828125 16.609375 38.28125 \r\nQ 20.515625 33.734375 27.484375 33.734375 \r\nQ 33.546875 33.734375 37.59375 37.765625 \r\nQ 41.65625 41.796875 41.65625 47.609375 \r\nQ 41.65625 55.5625 37.671875 60.984375 \r\nQ 33.6875 66.40625 26.953125 66.40625 \r\nQ 20.65625 66.40625 16.671875 61.6875 \r\nQ 12.703125 56.984375 12.703125 50.296875 \r\nz\r\n\" id=\"MalgunGothic-57\"/>\r\n      </defs>\r\n      <g transform=\"translate(222.376094 308.702812)scale(0.1 -0.1)\">\r\n       <use xlink:href=\"#MalgunGothic-50\"/>\r\n       <use x=\"55.078125\" xlink:href=\"#MalgunGothic-57\"/>\r\n       <use x=\"110.15625\" xlink:href=\"#MalgunGothic-44\"/>\r\n       <use x=\"132.03125\" xlink:href=\"#MalgunGothic-48\"/>\r\n       <use x=\"187.109375\" xlink:href=\"#MalgunGothic-48\"/>\r\n       <use x=\"242.1875\" xlink:href=\"#MalgunGothic-48\"/>\r\n       <use x=\"297.265625\" xlink:href=\"#MalgunGothic-50896\"/>\r\n      </g>\r\n     </g>\r\n    </g>\r\n    <g id=\"xtick_6\">\r\n     <g id=\"line2d_6\">\r\n      <g>\r\n       <use style=\"stroke:#000000;stroke-width:0.8;\" x=\"286.879375\" xlink:href=\"#md297d9db07\" y=\"294.110625\"/>\r\n      </g>\r\n     </g>\r\n     <g id=\"text_6\">\r\n      <!-- 18,000원 -->\r\n      <defs>\r\n       <path d=\"M 34.859375 0 \r\nL 27.09375 0 \r\nL 27.09375 62.0625 \r\nQ 24.859375 59.8125 19.78125 57.203125 \r\nQ 14.703125 54.59375 10.5 53.5625 \r\nL 10.5 61.859375 \r\nQ 15.875 63.375 22.015625 66.796875 \r\nQ 28.171875 70.21875 31.734375 73.4375 \r\nL 34.859375 73.4375 \r\nz\r\n\" id=\"MalgunGothic-49\"/>\r\n      </defs>\r\n      <g transform=\"translate(267.016094 308.702812)scale(0.1 -0.1)\">\r\n       <use xlink:href=\"#MalgunGothic-49\"/>\r\n       <use x=\"55.078125\" xlink:href=\"#MalgunGothic-56\"/>\r\n       <use x=\"110.15625\" xlink:href=\"#MalgunGothic-44\"/>\r\n       <use x=\"132.03125\" xlink:href=\"#MalgunGothic-48\"/>\r\n       <use x=\"187.109375\" xlink:href=\"#MalgunGothic-48\"/>\r\n       <use x=\"242.1875\" xlink:href=\"#MalgunGothic-48\"/>\r\n       <use x=\"297.265625\" xlink:href=\"#MalgunGothic-50896\"/>\r\n      </g>\r\n     </g>\r\n    </g>\r\n    <g id=\"xtick_7\">\r\n     <g id=\"line2d_7\">\r\n      <g>\r\n       <use style=\"stroke:#000000;stroke-width:0.8;\" x=\"331.519375\" xlink:href=\"#md297d9db07\" y=\"294.110625\"/>\r\n      </g>\r\n     </g>\r\n     <g id=\"text_7\">\r\n      <!-- 23,000원 -->\r\n      <g transform=\"translate(311.656094 308.702812)scale(0.1 -0.1)\">\r\n       <use xlink:href=\"#MalgunGothic-50\"/>\r\n       <use x=\"55.078125\" xlink:href=\"#MalgunGothic-51\"/>\r\n       <use x=\"110.15625\" xlink:href=\"#MalgunGothic-44\"/>\r\n       <use x=\"132.03125\" xlink:href=\"#MalgunGothic-48\"/>\r\n       <use x=\"187.109375\" xlink:href=\"#MalgunGothic-48\"/>\r\n       <use x=\"242.1875\" xlink:href=\"#MalgunGothic-48\"/>\r\n       <use x=\"297.265625\" xlink:href=\"#MalgunGothic-50896\"/>\r\n      </g>\r\n     </g>\r\n    </g>\r\n    <g id=\"xtick_8\">\r\n     <g id=\"line2d_8\">\r\n      <g>\r\n       <use style=\"stroke:#000000;stroke-width:0.8;\" x=\"376.159375\" xlink:href=\"#md297d9db07\" y=\"294.110625\"/>\r\n      </g>\r\n     </g>\r\n     <g id=\"text_8\">\r\n      <!-- 31,000원 -->\r\n      <g transform=\"translate(356.296094 308.702812)scale(0.1 -0.1)\">\r\n       <use xlink:href=\"#MalgunGothic-51\"/>\r\n       <use x=\"55.078125\" xlink:href=\"#MalgunGothic-49\"/>\r\n       <use x=\"110.15625\" xlink:href=\"#MalgunGothic-44\"/>\r\n       <use x=\"132.03125\" xlink:href=\"#MalgunGothic-48\"/>\r\n       <use x=\"187.109375\" xlink:href=\"#MalgunGothic-48\"/>\r\n       <use x=\"242.1875\" xlink:href=\"#MalgunGothic-48\"/>\r\n       <use x=\"297.265625\" xlink:href=\"#MalgunGothic-50896\"/>\r\n      </g>\r\n     </g>\r\n    </g>\r\n    <g id=\"xtick_9\">\r\n     <g id=\"line2d_9\">\r\n      <g>\r\n       <use style=\"stroke:#000000;stroke-width:0.8;\" x=\"420.799375\" xlink:href=\"#md297d9db07\" y=\"294.110625\"/>\r\n      </g>\r\n     </g>\r\n     <g id=\"text_9\">\r\n      <!-- 30,000원 -->\r\n      <g transform=\"translate(400.936094 308.702812)scale(0.1 -0.1)\">\r\n       <use xlink:href=\"#MalgunGothic-51\"/>\r\n       <use x=\"55.078125\" xlink:href=\"#MalgunGothic-48\"/>\r\n       <use x=\"110.15625\" xlink:href=\"#MalgunGothic-44\"/>\r\n       <use x=\"132.03125\" xlink:href=\"#MalgunGothic-48\"/>\r\n       <use x=\"187.109375\" xlink:href=\"#MalgunGothic-48\"/>\r\n       <use x=\"242.1875\" xlink:href=\"#MalgunGothic-48\"/>\r\n       <use x=\"297.265625\" xlink:href=\"#MalgunGothic-50896\"/>\r\n      </g>\r\n     </g>\r\n    </g>\r\n    <g id=\"xtick_10\">\r\n     <g id=\"line2d_10\">\r\n      <g>\r\n       <use style=\"stroke:#000000;stroke-width:0.8;\" x=\"465.439375\" xlink:href=\"#md297d9db07\" y=\"294.110625\"/>\r\n      </g>\r\n     </g>\r\n     <g id=\"text_10\">\r\n      <!-- 27,000원 -->\r\n      <defs>\r\n       <path d=\"M 50.203125 67.140625 \r\nQ 38.71875 46.96875 32.25 29.96875 \r\nQ 25.78125 12.984375 24.21875 0 \r\nL 15.765625 0 \r\nQ 16.9375 8.296875 20.15625 18.375 \r\nQ 23.390625 28.46875 28.359375 39.640625 \r\nQ 33.34375 50.828125 41.109375 64.796875 \r\nL 4.546875 64.796875 \r\nL 4.546875 71.875 \r\nL 50.203125 71.875 \r\nz\r\n\" id=\"MalgunGothic-55\"/>\r\n      </defs>\r\n      <g transform=\"translate(445.576094 308.702812)scale(0.1 -0.1)\">\r\n       <use xlink:href=\"#MalgunGothic-50\"/>\r\n       <use x=\"55.078125\" xlink:href=\"#MalgunGothic-55\"/>\r\n       <use x=\"110.15625\" xlink:href=\"#MalgunGothic-44\"/>\r\n       <use x=\"132.03125\" xlink:href=\"#MalgunGothic-48\"/>\r\n       <use x=\"187.109375\" xlink:href=\"#MalgunGothic-48\"/>\r\n       <use x=\"242.1875\" xlink:href=\"#MalgunGothic-48\"/>\r\n       <use x=\"297.265625\" xlink:href=\"#MalgunGothic-50896\"/>\r\n      </g>\r\n     </g>\r\n    </g>\r\n    <g id=\"xtick_11\">\r\n     <g id=\"line2d_11\">\r\n      <g>\r\n       <use style=\"stroke:#000000;stroke-width:0.8;\" x=\"510.079375\" xlink:href=\"#md297d9db07\" y=\"294.110625\"/>\r\n      </g>\r\n     </g>\r\n     <g id=\"text_11\">\r\n      <!-- 34,000원 -->\r\n      <g transform=\"translate(490.216094 308.702812)scale(0.1 -0.1)\">\r\n       <use xlink:href=\"#MalgunGothic-51\"/>\r\n       <use x=\"55.078125\" xlink:href=\"#MalgunGothic-52\"/>\r\n       <use x=\"110.15625\" xlink:href=\"#MalgunGothic-44\"/>\r\n       <use x=\"132.03125\" xlink:href=\"#MalgunGothic-48\"/>\r\n       <use x=\"187.109375\" xlink:href=\"#MalgunGothic-48\"/>\r\n       <use x=\"242.1875\" xlink:href=\"#MalgunGothic-48\"/>\r\n       <use x=\"297.265625\" xlink:href=\"#MalgunGothic-50896\"/>\r\n      </g>\r\n     </g>\r\n    </g>\r\n    <g id=\"xtick_12\">\r\n     <g id=\"line2d_12\">\r\n      <g>\r\n       <use style=\"stroke:#000000;stroke-width:0.8;\" x=\"554.719375\" xlink:href=\"#md297d9db07\" y=\"294.110625\"/>\r\n      </g>\r\n     </g>\r\n     <g id=\"text_12\">\r\n      <!-- 25,000원 -->\r\n      <g transform=\"translate(534.856094 308.702812)scale(0.1 -0.1)\">\r\n       <use xlink:href=\"#MalgunGothic-50\"/>\r\n       <use x=\"55.078125\" xlink:href=\"#MalgunGothic-53\"/>\r\n       <use x=\"110.15625\" xlink:href=\"#MalgunGothic-44\"/>\r\n       <use x=\"132.03125\" xlink:href=\"#MalgunGothic-48\"/>\r\n       <use x=\"187.109375\" xlink:href=\"#MalgunGothic-48\"/>\r\n       <use x=\"242.1875\" xlink:href=\"#MalgunGothic-48\"/>\r\n       <use x=\"297.265625\" xlink:href=\"#MalgunGothic-50896\"/>\r\n      </g>\r\n     </g>\r\n    </g>\r\n    <g id=\"xtick_13\">\r\n     <g id=\"line2d_13\">\r\n      <g>\r\n       <use style=\"stroke:#000000;stroke-width:0.8;\" x=\"599.359375\" xlink:href=\"#md297d9db07\" y=\"294.110625\"/>\r\n      </g>\r\n     </g>\r\n     <g id=\"text_13\">\r\n      <!-- 35,000원 -->\r\n      <g transform=\"translate(579.496094 308.702812)scale(0.1 -0.1)\">\r\n       <use xlink:href=\"#MalgunGothic-51\"/>\r\n       <use x=\"55.078125\" xlink:href=\"#MalgunGothic-53\"/>\r\n       <use x=\"110.15625\" xlink:href=\"#MalgunGothic-44\"/>\r\n       <use x=\"132.03125\" xlink:href=\"#MalgunGothic-48\"/>\r\n       <use x=\"187.109375\" xlink:href=\"#MalgunGothic-48\"/>\r\n       <use x=\"242.1875\" xlink:href=\"#MalgunGothic-48\"/>\r\n       <use x=\"297.265625\" xlink:href=\"#MalgunGothic-50896\"/>\r\n      </g>\r\n     </g>\r\n    </g>\r\n    <g id=\"xtick_14\">\r\n     <g id=\"line2d_14\">\r\n      <g>\r\n       <use style=\"stroke:#000000;stroke-width:0.8;\" x=\"643.999375\" xlink:href=\"#md297d9db07\" y=\"294.110625\"/>\r\n      </g>\r\n     </g>\r\n     <g id=\"text_14\">\r\n      <!-- 49,000원 -->\r\n      <g transform=\"translate(624.136094 308.702812)scale(0.1 -0.1)\">\r\n       <use xlink:href=\"#MalgunGothic-52\"/>\r\n       <use x=\"55.078125\" xlink:href=\"#MalgunGothic-57\"/>\r\n       <use x=\"110.15625\" xlink:href=\"#MalgunGothic-44\"/>\r\n       <use x=\"132.03125\" xlink:href=\"#MalgunGothic-48\"/>\r\n       <use x=\"187.109375\" xlink:href=\"#MalgunGothic-48\"/>\r\n       <use x=\"242.1875\" xlink:href=\"#MalgunGothic-48\"/>\r\n       <use x=\"297.265625\" xlink:href=\"#MalgunGothic-50896\"/>\r\n      </g>\r\n     </g>\r\n    </g>\r\n    <g id=\"xtick_15\">\r\n     <g id=\"line2d_15\">\r\n      <g>\r\n       <use style=\"stroke:#000000;stroke-width:0.8;\" x=\"688.639375\" xlink:href=\"#md297d9db07\" y=\"294.110625\"/>\r\n      </g>\r\n     </g>\r\n     <g id=\"text_15\">\r\n      <!-- 26,000원 -->\r\n      <defs>\r\n       <path d=\"M 46.578125 63.578125 \r\nQ 40.921875 66.40625 34.8125 66.40625 \r\nQ 24.859375 66.40625 19.1875 57.640625 \r\nQ 13.53125 48.875 13.578125 34.578125 \r\nL 13.8125 34.578125 \r\nQ 18.796875 44.875 30.28125 44.875 \r\nQ 39.796875 44.875 45.359375 38.71875 \r\nQ 50.921875 32.5625 50.921875 22.65625 \r\nQ 50.921875 12.453125 44.640625 5.609375 \r\nQ 38.375 -1.21875 28.515625 -1.21875 \r\nQ 17.4375 -1.21875 11.5 7.46875 \r\nQ 5.5625 16.15625 5.5625 31.546875 \r\nQ 5.5625 49.703125 13.234375 61.375 \r\nQ 20.90625 73.046875 34.71875 73.046875 \r\nQ 42.1875 73.046875 46.578125 71 \r\nz\r\nM 14.15625 23.53125 \r\nQ 14.15625 15.96875 18.203125 10.671875 \r\nQ 22.265625 5.375 28.8125 5.375 \r\nQ 35.109375 5.375 39.03125 10.078125 \r\nQ 42.96875 14.796875 42.96875 21.6875 \r\nQ 42.96875 29.5 39.203125 33.859375 \r\nQ 35.453125 38.234375 28.71875 38.234375 \r\nQ 22.5625 38.234375 18.359375 33.953125 \r\nQ 14.15625 29.6875 14.15625 23.53125 \r\nz\r\n\" id=\"MalgunGothic-54\"/>\r\n      </defs>\r\n      <g transform=\"translate(668.776094 308.702812)scale(0.1 -0.1)\">\r\n       <use xlink:href=\"#MalgunGothic-50\"/>\r\n       <use x=\"55.078125\" xlink:href=\"#MalgunGothic-54\"/>\r\n       <use x=\"110.15625\" xlink:href=\"#MalgunGothic-44\"/>\r\n       <use x=\"132.03125\" xlink:href=\"#MalgunGothic-48\"/>\r\n       <use x=\"187.109375\" xlink:href=\"#MalgunGothic-48\"/>\r\n       <use x=\"242.1875\" xlink:href=\"#MalgunGothic-48\"/>\r\n       <use x=\"297.265625\" xlink:href=\"#MalgunGothic-50896\"/>\r\n      </g>\r\n     </g>\r\n    </g>\r\n    <g id=\"text_16\">\r\n     <!-- price -->\r\n     <defs>\r\n      <path d=\"M 16.15625 7.515625 \r\nL 16.15625 -23.640625 \r\nL 8.40625 -23.640625 \r\nL 8.40625 51.3125 \r\nL 16.15625 51.3125 \r\nL 16.15625 42.234375 \r\nL 16.359375 42.234375 \r\nQ 22.46875 52.484375 34.125 52.484375 \r\nQ 43.890625 52.484375 49.546875 45.625 \r\nQ 55.21875 38.765625 55.21875 27.15625 \r\nQ 55.21875 14.15625 48.84375 6.46875 \r\nQ 42.484375 -1.21875 31.78125 -1.21875 \r\nQ 21.78125 -1.21875 16.359375 7.515625 \r\nz\r\nM 16.15625 20.796875 \r\nQ 16.15625 14.40625 20.421875 9.890625 \r\nQ 24.703125 5.375 31.109375 5.375 \r\nQ 38.671875 5.375 42.984375 11.1875 \r\nQ 47.3125 17 47.3125 27.390625 \r\nQ 47.3125 35.9375 43.234375 40.9375 \r\nQ 39.15625 45.953125 32.375 45.953125 \r\nQ 25.296875 45.953125 20.71875 40.921875 \r\nQ 16.15625 35.890625 16.15625 28.21875 \r\nz\r\n\" id=\"MalgunGothic-112\"/>\r\n      <path d=\"M 34.765625 43.359375 \r\nQ 32.5625 45.015625 28.5625 45.015625 \r\nQ 23.296875 45.015625 19.71875 39.890625 \r\nQ 16.15625 34.765625 16.15625 26.265625 \r\nL 16.15625 0 \r\nL 8.40625 0 \r\nL 8.40625 51.3125 \r\nL 16.15625 51.3125 \r\nL 16.15625 40.671875 \r\nL 16.359375 40.671875 \r\nQ 18.109375 46.09375 21.703125 49.140625 \r\nQ 25.296875 52.203125 29.734375 52.203125 \r\nQ 32.953125 52.203125 34.765625 51.515625 \r\nz\r\n\" id=\"MalgunGothic-114\"/>\r\n      <path d=\"M 7.375 69.78125 \r\nQ 7.375 71.96875 8.828125 73.453125 \r\nQ 10.296875 74.953125 12.40625 74.953125 \r\nQ 14.59375 74.953125 16.078125 73.4375 \r\nQ 17.578125 71.921875 17.578125 69.78125 \r\nQ 17.578125 67.578125 16.078125 66.109375 \r\nQ 14.59375 64.65625 12.40625 64.65625 \r\nQ 10.296875 64.65625 8.828125 66.09375 \r\nQ 7.375 67.53125 7.375 69.78125 \r\nz\r\nM 8.453125 0 \r\nL 8.453125 51.3125 \r\nL 16.15625 51.3125 \r\nL 16.15625 0 \r\nz\r\n\" id=\"MalgunGothic-105\"/>\r\n      <path d=\"M 43.171875 2.390625 \r\nQ 37.109375 -1.21875 29.25 -1.21875 \r\nQ 18.5 -1.21875 11.71875 5.8125 \r\nQ 4.9375 12.84375 4.9375 24.46875 \r\nQ 4.9375 37.203125 12.140625 44.84375 \r\nQ 19.34375 52.484375 31.390625 52.484375 \r\nQ 38.03125 52.484375 43.21875 50 \r\nL 43.21875 41.890625 \r\nQ 37.453125 45.953125 30.953125 45.953125 \r\nQ 23.09375 45.953125 17.9375 40.265625 \r\nQ 12.796875 34.578125 12.796875 25.140625 \r\nQ 12.796875 16.15625 17.5 10.765625 \r\nQ 22.21875 5.375 30.421875 5.375 \r\nQ 37.203125 5.375 43.171875 9.859375 \r\nz\r\n\" id=\"MalgunGothic-99\"/>\r\n      <path d=\"M 49.3125 23.734375 \r\nL 12.9375 23.734375 \r\nQ 13.1875 14.84375 17.703125 10.125 \r\nQ 22.21875 5.421875 29.828125 5.421875 \r\nQ 38.625 5.421875 45.84375 11.234375 \r\nL 45.84375 3.8125 \r\nQ 38.96875 -1.21875 28.03125 -1.21875 \r\nQ 17.1875 -1.21875 11.0625 5.875 \r\nQ 4.9375 12.984375 4.9375 25.53125 \r\nQ 4.9375 37.203125 11.671875 44.84375 \r\nQ 18.40625 52.484375 28.375 52.484375 \r\nQ 38.328125 52.484375 43.8125 45.96875 \r\nQ 49.3125 39.453125 49.3125 27.9375 \r\nz\r\nM 41.3125 30.5625 \r\nQ 41.3125 37.75 37.859375 41.796875 \r\nQ 34.421875 45.84375 28.265625 45.84375 \r\nQ 22.46875 45.84375 18.265625 41.671875 \r\nQ 14.0625 37.5 13.03125 30.5625 \r\nz\r\n\" id=\"MalgunGothic-101\"/>\r\n     </defs>\r\n     <g transform=\"translate(365.11875 322.659063)scale(0.1 -0.1)\">\r\n      <use xlink:href=\"#MalgunGothic-112\"/>\r\n      <use x=\"60.058594\" xlink:href=\"#MalgunGothic-114\"/>\r\n      <use x=\"95.410156\" xlink:href=\"#MalgunGothic-105\"/>\r\n      <use x=\"120.019531\" xlink:href=\"#MalgunGothic-99\"/>\r\n      <use x=\"167.285156\" xlink:href=\"#MalgunGothic-101\"/>\r\n     </g>\r\n    </g>\r\n   </g>\r\n   <g id=\"matplotlib.axis_2\">\r\n    <g id=\"ytick_1\">\r\n     <g id=\"line2d_16\">\r\n      <defs>\r\n       <path d=\"M 0 0 \r\nL -3.5 0 \r\n\" id=\"m1368a5653c\" style=\"stroke:#000000;stroke-width:0.8;\"/>\r\n      </defs>\r\n      <g>\r\n       <use style=\"stroke:#000000;stroke-width:0.8;\" x=\"41.359375\" xlink:href=\"#m1368a5653c\" y=\"294.110625\"/>\r\n      </g>\r\n     </g>\r\n     <g id=\"text_17\">\r\n      <!-- 0.0 -->\r\n      <defs>\r\n       <path d=\"M 5.5625 4.296875 \r\nQ 5.5625 6.59375 7.171875 8.171875 \r\nQ 8.796875 9.765625 10.9375 9.765625 \r\nQ 13.09375 9.765625 14.703125 8.171875 \r\nQ 16.3125 6.59375 16.3125 4.296875 \r\nQ 16.3125 2.15625 14.71875 0.515625 \r\nQ 13.140625 -1.125 10.9375 -1.125 \r\nQ 8.734375 -1.125 7.140625 0.453125 \r\nQ 5.5625 2.046875 5.5625 4.296875 \r\nz\r\n\" id=\"MalgunGothic-46\"/>\r\n      </defs>\r\n      <g transform=\"translate(21.15625 297.906719)scale(0.1 -0.1)\">\r\n       <use xlink:href=\"#MalgunGothic-48\"/>\r\n       <use x=\"55.078125\" xlink:href=\"#MalgunGothic-46\"/>\r\n       <use x=\"76.953125\" xlink:href=\"#MalgunGothic-48\"/>\r\n      </g>\r\n     </g>\r\n    </g>\r\n    <g id=\"ytick_2\">\r\n     <g id=\"line2d_17\">\r\n      <g>\r\n       <use style=\"stroke:#000000;stroke-width:0.8;\" x=\"41.359375\" xlink:href=\"#m1368a5653c\" y=\"250.967768\"/>\r\n      </g>\r\n     </g>\r\n     <g id=\"text_18\">\r\n      <!-- 0.5 -->\r\n      <g transform=\"translate(21.15625 254.763862)scale(0.1 -0.1)\">\r\n       <use xlink:href=\"#MalgunGothic-48\"/>\r\n       <use x=\"55.078125\" xlink:href=\"#MalgunGothic-46\"/>\r\n       <use x=\"76.953125\" xlink:href=\"#MalgunGothic-53\"/>\r\n      </g>\r\n     </g>\r\n    </g>\r\n    <g id=\"ytick_3\">\r\n     <g id=\"line2d_18\">\r\n      <g>\r\n       <use style=\"stroke:#000000;stroke-width:0.8;\" x=\"41.359375\" xlink:href=\"#m1368a5653c\" y=\"207.824911\"/>\r\n      </g>\r\n     </g>\r\n     <g id=\"text_19\">\r\n      <!-- 1.0 -->\r\n      <g transform=\"translate(21.15625 211.621004)scale(0.1 -0.1)\">\r\n       <use xlink:href=\"#MalgunGothic-49\"/>\r\n       <use x=\"55.078125\" xlink:href=\"#MalgunGothic-46\"/>\r\n       <use x=\"76.953125\" xlink:href=\"#MalgunGothic-48\"/>\r\n      </g>\r\n     </g>\r\n    </g>\r\n    <g id=\"ytick_4\">\r\n     <g id=\"line2d_19\">\r\n      <g>\r\n       <use style=\"stroke:#000000;stroke-width:0.8;\" x=\"41.359375\" xlink:href=\"#m1368a5653c\" y=\"164.682054\"/>\r\n      </g>\r\n     </g>\r\n     <g id=\"text_20\">\r\n      <!-- 1.5 -->\r\n      <g transform=\"translate(21.15625 168.478147)scale(0.1 -0.1)\">\r\n       <use xlink:href=\"#MalgunGothic-49\"/>\r\n       <use x=\"55.078125\" xlink:href=\"#MalgunGothic-46\"/>\r\n       <use x=\"76.953125\" xlink:href=\"#MalgunGothic-53\"/>\r\n      </g>\r\n     </g>\r\n    </g>\r\n    <g id=\"ytick_5\">\r\n     <g id=\"line2d_20\">\r\n      <g>\r\n       <use style=\"stroke:#000000;stroke-width:0.8;\" x=\"41.359375\" xlink:href=\"#m1368a5653c\" y=\"121.539196\"/>\r\n      </g>\r\n     </g>\r\n     <g id=\"text_21\">\r\n      <!-- 2.0 -->\r\n      <g transform=\"translate(21.15625 125.33529)scale(0.1 -0.1)\">\r\n       <use xlink:href=\"#MalgunGothic-50\"/>\r\n       <use x=\"55.078125\" xlink:href=\"#MalgunGothic-46\"/>\r\n       <use x=\"76.953125\" xlink:href=\"#MalgunGothic-48\"/>\r\n      </g>\r\n     </g>\r\n    </g>\r\n    <g id=\"ytick_6\">\r\n     <g id=\"line2d_21\">\r\n      <g>\r\n       <use style=\"stroke:#000000;stroke-width:0.8;\" x=\"41.359375\" xlink:href=\"#m1368a5653c\" y=\"78.396339\"/>\r\n      </g>\r\n     </g>\r\n     <g id=\"text_22\">\r\n      <!-- 2.5 -->\r\n      <g transform=\"translate(21.15625 82.192433)scale(0.1 -0.1)\">\r\n       <use xlink:href=\"#MalgunGothic-50\"/>\r\n       <use x=\"55.078125\" xlink:href=\"#MalgunGothic-46\"/>\r\n       <use x=\"76.953125\" xlink:href=\"#MalgunGothic-53\"/>\r\n      </g>\r\n     </g>\r\n    </g>\r\n    <g id=\"ytick_7\">\r\n     <g id=\"line2d_22\">\r\n      <g>\r\n       <use style=\"stroke:#000000;stroke-width:0.8;\" x=\"41.359375\" xlink:href=\"#m1368a5653c\" y=\"35.253482\"/>\r\n      </g>\r\n     </g>\r\n     <g id=\"text_23\">\r\n      <!-- 3.0 -->\r\n      <g transform=\"translate(21.15625 39.049576)scale(0.1 -0.1)\">\r\n       <use xlink:href=\"#MalgunGothic-51\"/>\r\n       <use x=\"55.078125\" xlink:href=\"#MalgunGothic-46\"/>\r\n       <use x=\"76.953125\" xlink:href=\"#MalgunGothic-48\"/>\r\n      </g>\r\n     </g>\r\n    </g>\r\n    <g id=\"text_24\">\r\n     <!-- count -->\r\n     <defs>\r\n      <path d=\"M 4.9375 25 \r\nQ 4.9375 37.796875 11.890625 45.140625 \r\nQ 18.84375 52.484375 30.90625 52.484375 \r\nQ 42.140625 52.484375 48.609375 45.421875 \r\nQ 55.078125 38.375 55.078125 25.78125 \r\nQ 55.078125 13.578125 48.09375 6.171875 \r\nQ 41.109375 -1.21875 29.6875 -1.21875 \r\nQ 18.5 -1.21875 11.71875 6 \r\nQ 4.9375 13.234375 4.9375 25 \r\nz\r\nM 12.796875 25.34375 \r\nQ 12.796875 16.265625 17.546875 10.8125 \r\nQ 22.3125 5.375 30.21875 5.375 \r\nQ 38.421875 5.375 42.796875 10.625 \r\nQ 47.171875 15.875 47.171875 25.53125 \r\nQ 47.171875 35.25 42.765625 40.59375 \r\nQ 38.375 45.953125 30.21875 45.953125 \r\nQ 22.265625 45.953125 17.53125 40.421875 \r\nQ 12.796875 34.90625 12.796875 25.34375 \r\nz\r\n\" id=\"MalgunGothic-111\"/>\r\n      <path d=\"M 49.46875 0 \r\nL 41.703125 0 \r\nL 41.703125 8.109375 \r\nL 41.5 8.109375 \r\nQ 36.421875 -1.21875 25.6875 -1.21875 \r\nQ 7.328125 -1.21875 7.328125 20.65625 \r\nL 7.328125 51.3125 \r\nL 14.984375 51.3125 \r\nL 14.984375 21.921875 \r\nQ 14.984375 5.375 27.59375 5.375 \r\nQ 33.734375 5.375 37.71875 9.9375 \r\nQ 41.703125 14.5 41.703125 21.78125 \r\nL 41.703125 51.3125 \r\nL 49.46875 51.3125 \r\nz\r\n\" id=\"MalgunGothic-117\"/>\r\n      <path d=\"M 50.59375 0 \r\nL 42.828125 0 \r\nL 42.828125 29.296875 \r\nQ 42.828125 45.953125 30.671875 45.953125 \r\nQ 24.421875 45.953125 20.28125 41.234375 \r\nQ 16.15625 36.53125 16.15625 29.25 \r\nL 16.15625 0 \r\nL 8.40625 0 \r\nL 8.40625 51.3125 \r\nL 16.15625 51.3125 \r\nL 16.15625 42.71875 \r\nL 16.359375 42.71875 \r\nQ 22.125 52.484375 33.203125 52.484375 \r\nQ 41.65625 52.484375 46.125 47.0625 \r\nQ 50.59375 41.65625 50.59375 31.34375 \r\nz\r\n\" id=\"MalgunGothic-110\"/>\r\n      <path d=\"M 31.734375 0.484375 \r\nQ 28.8125 -1.125 24.265625 -1.125 \r\nQ 11.03125 -1.125 11.03125 13.765625 \r\nL 11.03125 44.625 \r\nL 2.15625 44.625 \r\nL 2.15625 51.3125 \r\nL 11.03125 51.3125 \r\nL 11.03125 63.921875 \r\nL 18.75 66.40625 \r\nL 18.75 51.3125 \r\nL 31.734375 51.3125 \r\nL 31.734375 44.625 \r\nL 18.75 44.625 \r\nL 18.75 15.1875 \r\nQ 18.75 9.765625 20.546875 7.609375 \r\nQ 22.359375 5.46875 26.421875 5.46875 \r\nQ 29.5 5.46875 31.734375 7.171875 \r\nz\r\n\" id=\"MalgunGothic-116\"/>\r\n     </defs>\r\n     <g transform=\"translate(14.792188 171.073906)rotate(-90)scale(0.1 -0.1)\">\r\n      <use xlink:href=\"#MalgunGothic-99\"/>\r\n      <use x=\"47.265625\" xlink:href=\"#MalgunGothic-111\"/>\r\n      <use x=\"107.177734\" xlink:href=\"#MalgunGothic-117\"/>\r\n      <use x=\"164.990234\" xlink:href=\"#MalgunGothic-110\"/>\r\n      <use x=\"222.802734\" xlink:href=\"#MalgunGothic-116\"/>\r\n     </g>\r\n    </g>\r\n   </g>\r\n   <g id=\"patch_18\">\r\n    <path d=\"M 41.359375 294.110625 \r\nL 41.359375 22.310625 \r\n\" style=\"fill:none;stroke:#000000;stroke-linecap:square;stroke-linejoin:miter;stroke-width:0.8;\"/>\r\n   </g>\r\n   <g id=\"patch_19\">\r\n    <path d=\"M 710.959375 294.110625 \r\nL 710.959375 22.310625 \r\n\" style=\"fill:none;stroke:#000000;stroke-linecap:square;stroke-linejoin:miter;stroke-width:0.8;\"/>\r\n   </g>\r\n   <g id=\"patch_20\">\r\n    <path d=\"M 41.359375 294.110625 \r\nL 710.959375 294.110625 \r\n\" style=\"fill:none;stroke:#000000;stroke-linecap:square;stroke-linejoin:miter;stroke-width:0.8;\"/>\r\n   </g>\r\n   <g id=\"patch_21\">\r\n    <path d=\"M 41.359375 22.310625 \r\nL 710.959375 22.310625 \r\n\" style=\"fill:none;stroke:#000000;stroke-linecap:square;stroke-linejoin:miter;stroke-width:0.8;\"/>\r\n   </g>\r\n   <g id=\"text_25\">\r\n    <!-- 가격당 도서수 -->\r\n    <defs>\r\n     <path d=\"M 79.59375 40.09375 \r\nL 79.59375 -8.796875 \r\nL 72.3125 -8.796875 \r\nL 72.3125 85.40625 \r\nL 79.59375 85.40625 \r\nL 79.59375 46.578125 \r\nL 96.484375 46.578125 \r\nL 96.484375 40.09375 \r\nz\r\nM 56.390625 77 \r\nQ 55.328125 36.921875 14.015625 13.484375 \r\nL 8.40625 19.390625 \r\nQ 23.1875 25.484375 34.90625 39.15625 \r\nQ 46.625 52.828125 48.578125 70.515625 \r\nL 12.40625 70.515625 \r\nL 12.40625 77 \r\nz\r\n\" id=\"MalgunGothic-44032\"/>\r\n     <path d=\"M 77.296875 33.015625 \r\nL 77.296875 43.609375 \r\nL 57.515625 43.609375 \r\nL 57.515625 50 \r\nL 77.296875 50 \r\nL 77.296875 63.625 \r\nL 58.5 63.625 \r\nL 58.5 70.015625 \r\nL 77.296875 70.015625 \r\nL 77.296875 85.40625 \r\nL 84.625 85.40625 \r\nL 84.625 33.015625 \r\nz\r\nM 56.296875 80.421875 \r\nQ 56.296875 65.328125 44.671875 51.359375 \r\nQ 33.0625 37.40625 13.625 29.890625 \r\nL 8.40625 35.59375 \r\nQ 24.21875 40.671875 35.109375 51.3125 \r\nQ 46 61.96875 48 73.875 \r\nL 14.703125 73.875 \r\nL 14.703125 80.421875 \r\nz\r\nM 77.296875 -8.796875 \r\nL 77.296875 21.1875 \r\nL 23.78125 21.1875 \r\nL 23.78125 27.78125 \r\nL 84.625 27.78125 \r\nL 84.625 -8.796875 \r\nz\r\n\" id=\"MalgunGothic-44201\"/>\r\n     <path d=\"M 80.078125 52.984375 \r\nL 80.078125 30.609375 \r\nL 72.796875 30.609375 \r\nL 72.796875 85.40625 \r\nL 80.078125 85.40625 \r\nL 80.078125 59.625 \r\nL 94.28125 59.625 \r\nL 94.28125 52.984375 \r\nz\r\nM 62.5 39.984375 \r\nQ 47.125 39.015625 12.984375 39.015625 \r\nL 12.984375 79.984375 \r\nL 58.109375 79.984375 \r\nL 58.109375 73.484375 \r\nL 20.3125 73.484375 \r\nL 20.3125 45.515625 \r\nQ 49.859375 45.515625 62.015625 46.296875 \r\nz\r\nM 50.984375 -7.515625 \r\nQ 36.234375 -7.515625 28.265625 -2.53125 \r\nQ 20.3125 2.4375 20.3125 10.5 \r\nQ 20.3125 18.5 28.25 23.5 \r\nQ 36.1875 28.515625 50.984375 28.515625 \r\nQ 65.765625 28.515625 73.71875 23.5625 \r\nQ 81.6875 18.609375 81.6875 10.5 \r\nQ 81.6875 2.34375 73.703125 -2.578125 \r\nQ 65.71875 -7.515625 50.984375 -7.515625 \r\nz\r\nM 50.984375 22.3125 \r\nQ 39.84375 22.3125 33.953125 19.0625 \r\nQ 28.078125 15.828125 28.078125 10.5 \r\nQ 28.078125 5.171875 33.953125 1.921875 \r\nQ 39.84375 -1.3125 50.984375 -1.3125 \r\nQ 62.203125 -1.3125 68.109375 1.953125 \r\nQ 74.03125 5.21875 74.03125 10.5 \r\nQ 74.03125 15.765625 68.109375 19.03125 \r\nQ 62.203125 22.3125 50.984375 22.3125 \r\nz\r\n\" id=\"MalgunGothic-45817\"/>\r\n     <path id=\"MalgunGothic-32\"/>\r\n     <path d=\"M 6.296875 5.8125 \r\nL 6.296875 12.3125 \r\nL 46.296875 12.3125 \r\nL 46.296875 34.078125 \r\nL 21.09375 34.078125 \r\nL 21.09375 76.515625 \r\nL 78.90625 76.515625 \r\nL 78.90625 70.015625 \r\nL 28.421875 70.015625 \r\nL 28.421875 40.625 \r\nL 80.421875 40.625 \r\nL 80.421875 34.078125 \r\nL 53.71875 34.078125 \r\nL 53.71875 12.3125 \r\nL 93.703125 12.3125 \r\nL 93.703125 5.8125 \r\nz\r\n\" id=\"MalgunGothic-46020\"/>\r\n     <path d=\"M 77.296875 -8.796875 \r\nL 77.296875 48 \r\nL 55.328125 48 \r\nL 55.328125 54.5 \r\nL 77.296875 54.5 \r\nL 77.296875 85.40625 \r\nL 84.625 85.40625 \r\nL 84.625 -8.796875 \r\nz\r\nM 58.984375 15.09375 \r\nQ 51.078125 21.140625 44.15625 30.296875 \r\nQ 37.25 39.453125 35.40625 46.09375 \r\nQ 33.15625 38.484375 26.46875 29.25 \r\nQ 19.78125 20.015625 11.921875 13.921875 \r\nL 6.296875 18.796875 \r\nQ 17.921875 26.609375 24.796875 38.734375 \r\nQ 31.6875 50.875 31.6875 63.484375 \r\nL 31.6875 78.90625 \r\nL 38.921875 78.90625 \r\nL 38.921875 63.8125 \r\nQ 38.921875 51.609375 45.734375 39.9375 \r\nQ 52.546875 28.265625 64.109375 20.796875 \r\nz\r\n\" id=\"MalgunGothic-49436\"/>\r\n     <path d=\"M 85.796875 46.78125 \r\nQ 74.21875 48.390625 63.71875 54.65625 \r\nQ 53.21875 60.9375 50 66.796875 \r\nQ 46.484375 60.796875 36.078125 54.546875 \r\nQ 25.6875 48.296875 14.40625 46.1875 \r\nL 9.90625 52.296875 \r\nQ 24.359375 53.90625 35.328125 61.59375 \r\nQ 46.296875 69.28125 46.296875 78.328125 \r\nL 46.296875 82.421875 \r\nL 53.609375 82.421875 \r\nL 53.609375 78.328125 \r\nQ 53.609375 69.234375 64.34375 61.6875 \r\nQ 75.09375 54.15625 90.09375 52.78125 \r\nz\r\nM 53.609375 28.71875 \r\nL 53.609375 -8.796875 \r\nL 46.296875 -8.796875 \r\nL 46.296875 28.71875 \r\nL 6.296875 28.71875 \r\nL 6.296875 35.203125 \r\nL 93.703125 35.203125 \r\nL 93.703125 28.71875 \r\nz\r\n\" id=\"MalgunGothic-49688\"/>\r\n    </defs>\r\n    <g transform=\"translate(338.05 16.310625)scale(0.12 -0.12)\">\r\n     <use xlink:href=\"#MalgunGothic-44032\"/>\r\n     <use x=\"100\" xlink:href=\"#MalgunGothic-44201\"/>\r\n     <use x=\"200\" xlink:href=\"#MalgunGothic-45817\"/>\r\n     <use x=\"300\" xlink:href=\"#MalgunGothic-32\"/>\r\n     <use x=\"335.15625\" xlink:href=\"#MalgunGothic-46020\"/>\r\n     <use x=\"435.15625\" xlink:href=\"#MalgunGothic-49436\"/>\r\n     <use x=\"535.15625\" xlink:href=\"#MalgunGothic-49688\"/>\r\n    </g>\r\n   </g>\r\n  </g>\r\n </g>\r\n <defs>\r\n  <clipPath id=\"pdb0c83ea18\">\r\n   <rect height=\"271.8\" width=\"669.6\" x=\"41.359375\" y=\"22.310625\"/>\r\n  </clipPath>\r\n </defs>\r\n</svg>\r\n",
      "image/png": "[encoded data removed]"
     },
     "metadata": {
      "needs_background": "light"
     }
    }
   ],
   "source": [
    "plt.figure(figsize =(12,5))\n",
    "\n",
    "sns.countplot(x=\"price\", data=newBook)\n",
    "\n",
    "plt.title(\"가격당 도서수\")\n",
    "plt.show()"
   ]
  },
  {
   "cell_type": "code",
   "execution_count": null,
   "metadata": {},
   "outputs": [],
   "source": []
  },
  {
   "cell_type": "code",
   "execution_count": null,
   "metadata": {},
   "outputs": [],
   "source": []
  }
 ]
}