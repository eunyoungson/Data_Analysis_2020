{
 "metadata": {
  "language_info": {
   "codemirror_mode": {
    "name": "ipython",
    "version": 3
   },
   "file_extension": ".py",
   "mimetype": "text/x-python",
   "name": "python",
   "nbconvert_exporter": "python",
   "pygments_lexer": "ipython3",
   "version": "3.8.3-final"
  },
  "orig_nbformat": 2,
  "kernelspec": {
   "name": "python3",
   "display_name": "Python 3"
  }
 },
 "nbformat": 4,
 "nbformat_minor": 2,
 "cells": [
  {
   "cell_type": "code",
   "execution_count": 1,
   "metadata": {},
   "outputs": [],
   "source": [
    "from bs4 import BeautifulSoup\n",
    "import pandas as pd \n",
    "import requests\n",
    "import urllib.request\n"
   ]
  },
  {
   "cell_type": "code",
   "execution_count": 2,
   "metadata": {},
   "outputs": [],
   "source": [
    "base_url = 'https://www.hanbit.co.kr'\n",
    "sub_url = '/academy/books/new_book_list.html'\n",
    "url = base_url + sub_url\n",
    "with urllib.request.urlopen(url) as response:\n",
    "    html = response.read()\n",
    "    soup = BeautifulSoup(html, 'html.parser')"
   ]
  },
  {
   "cell_type": "code",
   "execution_count": 3,
   "metadata": {},
   "outputs": [
    {
     "output_type": "execute_result",
     "data": {
      "text/plain": [
       "20"
      ]
     },
     "metadata": {},
     "execution_count": 3
    }
   ],
   "source": [
    "# 덩어리로 한페이지에 몇개있는지 \n",
    "lis = soup.select('.sub_book_list')\n",
    "len(lis)"
   ]
  },
  {
   "cell_type": "code",
   "execution_count": 5,
   "metadata": {},
   "outputs": [
    {
     "output_type": "execute_result",
     "data": {
      "text/plain": [
       "'/academy/books/book_view.html?p_code=B4797877052'"
      ]
     },
     "metadata": {},
     "execution_count": 5
    }
   ],
   "source": [
    "# 세부 들어갈 url주소찾기\n",
    "book_url = lis[0].find('a').attrs['href']\n",
    "book_url"
   ]
  },
  {
   "cell_type": "code",
   "execution_count": 6,
   "metadata": {},
   "outputs": [],
   "source": [
    "with urllib.request.urlopen(base_url+book_url) as response:\n",
    "    html = response.read()\n",
    "    book_soup = BeautifulSoup(html, 'html.parser')"
   ]
  },
  {
   "cell_type": "code",
   "execution_count": 7,
   "metadata": {},
   "outputs": [
    {
     "output_type": "execute_result",
     "data": {
      "text/plain": [
       "'포르잔 C++ 에센셜'"
      ]
     },
     "metadata": {},
     "execution_count": 7
    }
   ],
   "source": [
    "info = book_soup.select_one('.store_product_info_box')\n",
    "title = info.find('h3').string\n",
    "title"
   ]
  },
  {
   "cell_type": "code",
   "execution_count": 13,
   "metadata": {},
   "outputs": [
    {
     "output_type": "execute_result",
     "data": {
      "text/plain": [
       "{'저자': 'Behrouz A. Forouzan , Richard F. Gilberg ',\n",
       " '번역': '윤인성 ',\n",
       " '출간': '2020-11-10',\n",
       " '페이지': '756 쪽',\n",
       " 'ISBN': '9791156645061',\n",
       " '물류코드': '4506'}"
      ]
     },
     "metadata": {},
     "execution_count": 13
    }
   ],
   "source": [
    "#꼭 딕셔너리로 안보고,바로 리스트의 정보값만 추출해도된다.\n",
    "# 그러나 키값이 없는경우를 대비하여 딕셔너리 형태로.\n",
    "lis = info.find_all('li')\n",
    "\n",
    "book_dict = {}\n",
    "for li in lis:\n",
    "    idx = li.find('strong').get_text().find(':')\n",
    "    key = li.find('strong').get_text()[:idx-1]\n",
    "    value = li.find('span').get_text()\n",
    "    book_dict.update([[key,value]])\n",
    "book_dict"
   ]
  },
  {
   "cell_type": "code",
   "execution_count": 16,
   "metadata": {},
   "outputs": [
    {
     "output_type": "execute_result",
     "data": {
      "text/plain": [
       "'Behrouz A. Forouzan, Richard F. Gilberg'"
      ]
     },
     "metadata": {},
     "execution_count": 16
    }
   ],
   "source": [
    "#저자 처리\n",
    "al = 'Behrouz A. Forouzan , Richard F. Gilberg'.split(',')\n",
    "al =list(map(lambda s: s.rstrip(), al))\n",
    "','.join(al)"
   ]
  },
  {
   "cell_type": "code",
   "execution_count": 17,
   "metadata": {},
   "outputs": [
    {
     "output_type": "stream",
     "name": "stdout",
     "text": [
      "Behrouz A. Forouzan, Richard F. Gilberg 윤인성 2020-11-10 756 9791156645061\n"
     ]
    }
   ],
   "source": [
    "#포문식 정리1\n",
    "#저자\n",
    "info = book_soup.select_one('.store_product_info_box')\n",
    "book_lis = info.find_all('li')\n",
    "al = book_lis[0].find('span').get_text().split(',')\n",
    "authors = ','.join(list(map(lambda s: s.rstrip(), al)))\n",
    "#다른정보는 없을수있으므로 조건식으로 \n",
    "for bli in book_lis[1:]:\n",
    "     key = bli.find('strong').get_text()\n",
    "     if key.find('번역') >= 0:\n",
    "         tl = bli.find('span').get_text().split(',')\n",
    "         translators = ','.join(list(map(lambda s: s.rstrip(), tl)))\n",
    "     elif key.find('출간') >= 0:\n",
    "         date = bli.find('span').get_text()\n",
    "     elif key.find('페이지') >= 0:\n",
    "         page = int(bli.find('span').get_text()[:-2])\n",
    "     elif key.find('ISBN') >= 0:\n",
    "         isbn = bli.find('span').get_text()\n",
    "         \n",
    "print(authors, translators, date, page, isbn)"
   ]
  },
  {
   "cell_type": "code",
   "execution_count": 18,
   "metadata": {},
   "outputs": [
    {
     "output_type": "stream",
     "name": "stdout",
     "text": [
      "32000 32000 960\n"
     ]
    }
   ],
   "source": [
    "pb_ps = book_soup.select_one('.payment_box').find_all('p')\n",
    "list_prices = []; sales_prices = []; mileages = []\n",
    "\n",
    "idx = pb_ps[0].select_one('.pbr').get_text().find('원')\n",
    "lp = pb_ps[0].select_one('.pbr').get_text()[:idx]\n",
    "lp = int(lp.replace(',',''))\n",
    "\n",
    "idx = pb_ps[1].select_one('.pbr').get_text().find('원')\n",
    "sp = pb_ps[1].select_one('.pbr').get_text()[:idx]\n",
    "sp = int(sp.replace(',',''))\n",
    "\n",
    "idx = pb_ps[2].select_one('.pbr').get_text().find('점')\n",
    "mile = pb_ps[2].select_one('.pbr').get_text()[:idx]\n",
    "mile = int(mile.replace(',',''))\n",
    "\n",
    "print(lp, sp, mile)"
   ]
  },
  {
   "cell_type": "code",
   "execution_count": null,
   "metadata": {},
   "outputs": [],
   "source": []
  }
 ]
}